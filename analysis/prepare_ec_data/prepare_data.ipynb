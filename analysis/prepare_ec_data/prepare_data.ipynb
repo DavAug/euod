{
 "cells": [
  {
   "cell_type": "markdown",
   "metadata": {},
   "source": [
    "# Combine EC all drugs data\n",
    "\n",
    "Source of data: \n",
    "\n",
    "1. Active: https://ec.europa.eu/health/documents/community-register/html/reg_od_act.htm?sort=n\n",
    "2. Withdrawn, suspended, expired, not renewed: https://ec.europa.eu/health/documents/community-register/html/reg_hum_nact.htm?sort=a\n",
    "3. Rejected: https://ec.europa.eu/health/documents/community-register/html/reg_hum_refus.htm"
   ]
  },
  {
   "cell_type": "code",
   "execution_count": 1,
   "metadata": {},
   "outputs": [
    {
     "output_type": "execute_result",
     "data": {
      "text/plain": [
       "              EU #        Brand name           Marketing Authorisation Holder\n",
       "0      EU/1/14/944         Abasaglar                 Eli Lilly Nederland B.V.\n",
       "1      EU/1/04/276           Abilify   Otsuka Pharmaceutical Netherlands B.V.\n",
       "2      EU/1/13/882  ABILIFY MAINTENA   Otsuka Pharmaceutical Netherlands B.V.\n",
       "3      EU/1/07/428          Abraxane         Bristol-Myers Squibb Pharma EEIG\n",
       "4      EU/1/07/412          Abseamed  Medice Arzneimittel Pütter GmbH & Co KG\n",
       "...            ...               ...                                      ...\n",
       "1213  EU/1/19/1367          Zynteglo          bluebird bio (Netherlands) B.V.\n",
       "1214   EU/1/08/479         Zypadhera                 Eli Lilly Nederland B.V.\n",
       "1215   EU/1/96/022           Zyprexa                 Eli Lilly Nederland B.V.\n",
       "1216   EU/1/99/125   Zyprexa Velotab                 Eli Lilly Nederland B.V.\n",
       "1217   EU/1/11/714            Zytiga           Janssen-Cilag International NV\n",
       "\n",
       "[1218 rows x 3 columns]"
      ],
      "text/html": "<div>\n<style scoped>\n    .dataframe tbody tr th:only-of-type {\n        vertical-align: middle;\n    }\n\n    .dataframe tbody tr th {\n        vertical-align: top;\n    }\n\n    .dataframe thead th {\n        text-align: right;\n    }\n</style>\n<table border=\"1\" class=\"dataframe\">\n  <thead>\n    <tr style=\"text-align: right;\">\n      <th></th>\n      <th>EU #</th>\n      <th>Brand name</th>\n      <th>Marketing Authorisation Holder</th>\n    </tr>\n  </thead>\n  <tbody>\n    <tr>\n      <th>0</th>\n      <td>EU/1/14/944</td>\n      <td>Abasaglar</td>\n      <td>Eli Lilly Nederland B.V.</td>\n    </tr>\n    <tr>\n      <th>1</th>\n      <td>EU/1/04/276</td>\n      <td>Abilify</td>\n      <td>Otsuka Pharmaceutical Netherlands B.V.</td>\n    </tr>\n    <tr>\n      <th>2</th>\n      <td>EU/1/13/882</td>\n      <td>ABILIFY MAINTENA</td>\n      <td>Otsuka Pharmaceutical Netherlands B.V.</td>\n    </tr>\n    <tr>\n      <th>3</th>\n      <td>EU/1/07/428</td>\n      <td>Abraxane</td>\n      <td>Bristol-Myers Squibb Pharma EEIG</td>\n    </tr>\n    <tr>\n      <th>4</th>\n      <td>EU/1/07/412</td>\n      <td>Abseamed</td>\n      <td>Medice Arzneimittel Pütter GmbH &amp; Co KG</td>\n    </tr>\n    <tr>\n      <th>...</th>\n      <td>...</td>\n      <td>...</td>\n      <td>...</td>\n    </tr>\n    <tr>\n      <th>1213</th>\n      <td>EU/1/19/1367</td>\n      <td>Zynteglo</td>\n      <td>bluebird bio (Netherlands) B.V.</td>\n    </tr>\n    <tr>\n      <th>1214</th>\n      <td>EU/1/08/479</td>\n      <td>Zypadhera</td>\n      <td>Eli Lilly Nederland B.V.</td>\n    </tr>\n    <tr>\n      <th>1215</th>\n      <td>EU/1/96/022</td>\n      <td>Zyprexa</td>\n      <td>Eli Lilly Nederland B.V.</td>\n    </tr>\n    <tr>\n      <th>1216</th>\n      <td>EU/1/99/125</td>\n      <td>Zyprexa Velotab</td>\n      <td>Eli Lilly Nederland B.V.</td>\n    </tr>\n    <tr>\n      <th>1217</th>\n      <td>EU/1/11/714</td>\n      <td>Zytiga</td>\n      <td>Janssen-Cilag International NV</td>\n    </tr>\n  </tbody>\n</table>\n<p>1218 rows × 3 columns</p>\n</div>"
     },
     "metadata": {},
     "execution_count": 1
    }
   ],
   "source": [
    "import os\n",
    "\n",
    "import numpy as np\n",
    "import pandas as pd\n",
    "\n",
    "path = os.path.dirname(os.path.dirname(os.getcwd()))\n",
    "data_active = pd.read_excel(path + '/data/ec_all_drugs_active.xlsx', header=2)\n",
    "data_active"
   ]
  },
  {
   "cell_type": "code",
   "execution_count": 3,
   "metadata": {},
   "outputs": [
    {
     "output_type": "execute_result",
     "data": {
      "text/plain": [
       "             EU #                     Brand name  \\\n",
       "0     EU/1/05/313                        Ablavar   \n",
       "1     EU/1/06/344                       ACOMPLIA   \n",
       "2    EU/1/16/1122               Aerivio Spiromax   \n",
       "3     EU/1/00/148                      Agenerase   \n",
       "4    EU/1/16/1123               Airexar Spiromax   \n",
       "..            ...                            ...   \n",
       "264  EU/1/16/1107                       Zinbryta   \n",
       "265   EU/1/14/912  Zoledronic acid Teva Generics   \n",
       "266   EU/1/12/772    Zoledronic acid Teva Pharma   \n",
       "267   EU/1/14/976                      Zontivity   \n",
       "268  EU/1/15/1080                       Zurampic   \n",
       "\n",
       "    Marketing Authorisation Holder  \n",
       "0          TMC Pharma Services Ltd  \n",
       "1                   Sanofi-Aventis  \n",
       "2                        Teva B.V.  \n",
       "3              Glaxo Group Limited  \n",
       "4                        Teva B.V.  \n",
       "..                             ...  \n",
       "264            Biogen Idec Limited  \n",
       "265                      Teva B.V.  \n",
       "266                      Teva B.V.  \n",
       "267    Merck Sharp & Dohme Limited  \n",
       "268                Grünenthal GmbH  \n",
       "\n",
       "[269 rows x 3 columns]"
      ],
      "text/html": "<div>\n<style scoped>\n    .dataframe tbody tr th:only-of-type {\n        vertical-align: middle;\n    }\n\n    .dataframe tbody tr th {\n        vertical-align: top;\n    }\n\n    .dataframe thead th {\n        text-align: right;\n    }\n</style>\n<table border=\"1\" class=\"dataframe\">\n  <thead>\n    <tr style=\"text-align: right;\">\n      <th></th>\n      <th>EU #</th>\n      <th>Brand name</th>\n      <th>Marketing Authorisation Holder</th>\n    </tr>\n  </thead>\n  <tbody>\n    <tr>\n      <th>0</th>\n      <td>EU/1/05/313</td>\n      <td>Ablavar</td>\n      <td>TMC Pharma Services Ltd</td>\n    </tr>\n    <tr>\n      <th>1</th>\n      <td>EU/1/06/344</td>\n      <td>ACOMPLIA</td>\n      <td>Sanofi-Aventis</td>\n    </tr>\n    <tr>\n      <th>2</th>\n      <td>EU/1/16/1122</td>\n      <td>Aerivio Spiromax</td>\n      <td>Teva B.V.</td>\n    </tr>\n    <tr>\n      <th>3</th>\n      <td>EU/1/00/148</td>\n      <td>Agenerase</td>\n      <td>Glaxo Group Limited</td>\n    </tr>\n    <tr>\n      <th>4</th>\n      <td>EU/1/16/1123</td>\n      <td>Airexar Spiromax</td>\n      <td>Teva B.V.</td>\n    </tr>\n    <tr>\n      <th>...</th>\n      <td>...</td>\n      <td>...</td>\n      <td>...</td>\n    </tr>\n    <tr>\n      <th>264</th>\n      <td>EU/1/16/1107</td>\n      <td>Zinbryta</td>\n      <td>Biogen Idec Limited</td>\n    </tr>\n    <tr>\n      <th>265</th>\n      <td>EU/1/14/912</td>\n      <td>Zoledronic acid Teva Generics</td>\n      <td>Teva B.V.</td>\n    </tr>\n    <tr>\n      <th>266</th>\n      <td>EU/1/12/772</td>\n      <td>Zoledronic acid Teva Pharma</td>\n      <td>Teva B.V.</td>\n    </tr>\n    <tr>\n      <th>267</th>\n      <td>EU/1/14/976</td>\n      <td>Zontivity</td>\n      <td>Merck Sharp &amp; Dohme Limited</td>\n    </tr>\n    <tr>\n      <th>268</th>\n      <td>EU/1/15/1080</td>\n      <td>Zurampic</td>\n      <td>Grünenthal GmbH</td>\n    </tr>\n  </tbody>\n</table>\n<p>269 rows × 3 columns</p>\n</div>"
     },
     "metadata": {},
     "execution_count": 3
    }
   ],
   "source": [
    "path = os.path.dirname(os.path.dirname(os.getcwd()))\n",
    "data_not_active = pd.read_excel(path + '/data/ec_all_drugs_withdrawn_suspended_expired_not_renewed.xlsx', header=2)\n",
    "data_not_active"
   ]
  },
  {
   "cell_type": "code",
   "execution_count": 4,
   "metadata": {},
   "outputs": [
    {
     "output_type": "execute_result",
     "data": {
      "text/plain": [
       "           Brand name                                                INN  \\\n",
       "0           Acrescent  memantine hydrochloride / donepezil hydrochloride   \n",
       "1             Adlumiz                                         anamorelin   \n",
       "2             Alpheon               recombinant human interferon-alfa-2a   \n",
       "3             Alsitek                                          masitinib   \n",
       "4             Aplidin                                        plitidepsin   \n",
       "..                ...                                                ...   \n",
       "61           Winfuran                                        nalfurafine   \n",
       "62  Xeljanz (Refusal)                                        tofacitinib   \n",
       "63           Yondelis                                        Trabectedin   \n",
       "64            Zeftera                             Ceftobiprole medocaril   \n",
       "65            Zelnorm                                          tegaserod   \n",
       "\n",
       "       Marketing Authorisation Holder Initial Decision date  \n",
       "0                     H. Lundbeck A/S           20 Feb 2013  \n",
       "1   Helsinn Birex Pharmaceuticals Ltd           16 Nov 2017  \n",
       "2                    BioPartners GmbH           05 Sep 2006  \n",
       "3                          AB Science           26 Jul 2018  \n",
       "4                     Pharma Mar S.A.           17 Jul 2018  \n",
       "..                                ...                   ...  \n",
       "61   Toray International U.K. Limited           21 Mar 2014  \n",
       "62                     Pfizer Limited           08 Nov 2013  \n",
       "63                    Pharma Mar S.A.           07 Sep 2004  \n",
       "64     Janssen-Cilag International NV           16 Sep 2010  \n",
       "65         Novartis Europharm Limited           19 May 2006  \n",
       "\n",
       "[66 rows x 4 columns]"
      ],
      "text/html": "<div>\n<style scoped>\n    .dataframe tbody tr th:only-of-type {\n        vertical-align: middle;\n    }\n\n    .dataframe tbody tr th {\n        vertical-align: top;\n    }\n\n    .dataframe thead th {\n        text-align: right;\n    }\n</style>\n<table border=\"1\" class=\"dataframe\">\n  <thead>\n    <tr style=\"text-align: right;\">\n      <th></th>\n      <th>Brand name</th>\n      <th>INN</th>\n      <th>Marketing Authorisation Holder</th>\n      <th>Initial Decision date</th>\n    </tr>\n  </thead>\n  <tbody>\n    <tr>\n      <th>0</th>\n      <td>Acrescent</td>\n      <td>memantine hydrochloride / donepezil hydrochloride</td>\n      <td>H. Lundbeck A/S</td>\n      <td>20 Feb 2013</td>\n    </tr>\n    <tr>\n      <th>1</th>\n      <td>Adlumiz</td>\n      <td>anamorelin</td>\n      <td>Helsinn Birex Pharmaceuticals Ltd</td>\n      <td>16 Nov 2017</td>\n    </tr>\n    <tr>\n      <th>2</th>\n      <td>Alpheon</td>\n      <td>recombinant human interferon-alfa-2a</td>\n      <td>BioPartners GmbH</td>\n      <td>05 Sep 2006</td>\n    </tr>\n    <tr>\n      <th>3</th>\n      <td>Alsitek</td>\n      <td>masitinib</td>\n      <td>AB Science</td>\n      <td>26 Jul 2018</td>\n    </tr>\n    <tr>\n      <th>4</th>\n      <td>Aplidin</td>\n      <td>plitidepsin</td>\n      <td>Pharma Mar S.A.</td>\n      <td>17 Jul 2018</td>\n    </tr>\n    <tr>\n      <th>...</th>\n      <td>...</td>\n      <td>...</td>\n      <td>...</td>\n      <td>...</td>\n    </tr>\n    <tr>\n      <th>61</th>\n      <td>Winfuran</td>\n      <td>nalfurafine</td>\n      <td>Toray International U.K. Limited</td>\n      <td>21 Mar 2014</td>\n    </tr>\n    <tr>\n      <th>62</th>\n      <td>Xeljanz (Refusal)</td>\n      <td>tofacitinib</td>\n      <td>Pfizer Limited</td>\n      <td>08 Nov 2013</td>\n    </tr>\n    <tr>\n      <th>63</th>\n      <td>Yondelis</td>\n      <td>Trabectedin</td>\n      <td>Pharma Mar S.A.</td>\n      <td>07 Sep 2004</td>\n    </tr>\n    <tr>\n      <th>64</th>\n      <td>Zeftera</td>\n      <td>Ceftobiprole medocaril</td>\n      <td>Janssen-Cilag International NV</td>\n      <td>16 Sep 2010</td>\n    </tr>\n    <tr>\n      <th>65</th>\n      <td>Zelnorm</td>\n      <td>tegaserod</td>\n      <td>Novartis Europharm Limited</td>\n      <td>19 May 2006</td>\n    </tr>\n  </tbody>\n</table>\n<p>66 rows × 4 columns</p>\n</div>"
     },
     "metadata": {},
     "execution_count": 4
    }
   ],
   "source": [
    "path = os.path.dirname(os.path.dirname(os.getcwd()))\n",
    "data_rejected = pd.read_excel(path + '/data/ec_all_drugs_refused.xlsx', header=2)\n",
    "data_rejected"
   ]
  },
  {
   "source": [
    "## Label datasets and join them together"
   ],
   "cell_type": "markdown",
   "metadata": {}
  },
  {
   "cell_type": "code",
   "execution_count": 5,
   "metadata": {},
   "outputs": [
    {
     "output_type": "execute_result",
     "data": {
      "text/plain": [
       "           EU #         Brand name           Marketing Authorisation Holder  \\\n",
       "0   EU/1/14/944          Abasaglar                 Eli Lilly Nederland B.V.   \n",
       "1   EU/1/04/276            Abilify   Otsuka Pharmaceutical Netherlands B.V.   \n",
       "2   EU/1/13/882   ABILIFY MAINTENA   Otsuka Pharmaceutical Netherlands B.V.   \n",
       "3   EU/1/07/428           Abraxane         Bristol-Myers Squibb Pharma EEIG   \n",
       "4   EU/1/07/412           Abseamed  Medice Arzneimittel Pütter GmbH & Co KG   \n",
       "..          ...                ...                                      ...   \n",
       "61          NaN           Winfuran         Toray International U.K. Limited   \n",
       "62          NaN  Xeljanz (Refusal)                           Pfizer Limited   \n",
       "63          NaN           Yondelis                          Pharma Mar S.A.   \n",
       "64          NaN            Zeftera           Janssen-Cilag International NV   \n",
       "65          NaN            Zelnorm               Novartis Europharm Limited   \n",
       "\n",
       "      Status                     INN Initial Decision date  \n",
       "0     Active                     NaN                   NaN  \n",
       "1     Active                     NaN                   NaN  \n",
       "2     Active                     NaN                   NaN  \n",
       "3     Active                     NaN                   NaN  \n",
       "4     Active                     NaN                   NaN  \n",
       "..       ...                     ...                   ...  \n",
       "61  Rejected             nalfurafine           21 Mar 2014  \n",
       "62  Rejected             tofacitinib           08 Nov 2013  \n",
       "63  Rejected             Trabectedin           07 Sep 2004  \n",
       "64  Rejected  Ceftobiprole medocaril           16 Sep 2010  \n",
       "65  Rejected               tegaserod           19 May 2006  \n",
       "\n",
       "[1553 rows x 6 columns]"
      ],
      "text/html": "<div>\n<style scoped>\n    .dataframe tbody tr th:only-of-type {\n        vertical-align: middle;\n    }\n\n    .dataframe tbody tr th {\n        vertical-align: top;\n    }\n\n    .dataframe thead th {\n        text-align: right;\n    }\n</style>\n<table border=\"1\" class=\"dataframe\">\n  <thead>\n    <tr style=\"text-align: right;\">\n      <th></th>\n      <th>EU #</th>\n      <th>Brand name</th>\n      <th>Marketing Authorisation Holder</th>\n      <th>Status</th>\n      <th>INN</th>\n      <th>Initial Decision date</th>\n    </tr>\n  </thead>\n  <tbody>\n    <tr>\n      <th>0</th>\n      <td>EU/1/14/944</td>\n      <td>Abasaglar</td>\n      <td>Eli Lilly Nederland B.V.</td>\n      <td>Active</td>\n      <td>NaN</td>\n      <td>NaN</td>\n    </tr>\n    <tr>\n      <th>1</th>\n      <td>EU/1/04/276</td>\n      <td>Abilify</td>\n      <td>Otsuka Pharmaceutical Netherlands B.V.</td>\n      <td>Active</td>\n      <td>NaN</td>\n      <td>NaN</td>\n    </tr>\n    <tr>\n      <th>2</th>\n      <td>EU/1/13/882</td>\n      <td>ABILIFY MAINTENA</td>\n      <td>Otsuka Pharmaceutical Netherlands B.V.</td>\n      <td>Active</td>\n      <td>NaN</td>\n      <td>NaN</td>\n    </tr>\n    <tr>\n      <th>3</th>\n      <td>EU/1/07/428</td>\n      <td>Abraxane</td>\n      <td>Bristol-Myers Squibb Pharma EEIG</td>\n      <td>Active</td>\n      <td>NaN</td>\n      <td>NaN</td>\n    </tr>\n    <tr>\n      <th>4</th>\n      <td>EU/1/07/412</td>\n      <td>Abseamed</td>\n      <td>Medice Arzneimittel Pütter GmbH &amp; Co KG</td>\n      <td>Active</td>\n      <td>NaN</td>\n      <td>NaN</td>\n    </tr>\n    <tr>\n      <th>...</th>\n      <td>...</td>\n      <td>...</td>\n      <td>...</td>\n      <td>...</td>\n      <td>...</td>\n      <td>...</td>\n    </tr>\n    <tr>\n      <th>61</th>\n      <td>NaN</td>\n      <td>Winfuran</td>\n      <td>Toray International U.K. Limited</td>\n      <td>Rejected</td>\n      <td>nalfurafine</td>\n      <td>21 Mar 2014</td>\n    </tr>\n    <tr>\n      <th>62</th>\n      <td>NaN</td>\n      <td>Xeljanz (Refusal)</td>\n      <td>Pfizer Limited</td>\n      <td>Rejected</td>\n      <td>tofacitinib</td>\n      <td>08 Nov 2013</td>\n    </tr>\n    <tr>\n      <th>63</th>\n      <td>NaN</td>\n      <td>Yondelis</td>\n      <td>Pharma Mar S.A.</td>\n      <td>Rejected</td>\n      <td>Trabectedin</td>\n      <td>07 Sep 2004</td>\n    </tr>\n    <tr>\n      <th>64</th>\n      <td>NaN</td>\n      <td>Zeftera</td>\n      <td>Janssen-Cilag International NV</td>\n      <td>Rejected</td>\n      <td>Ceftobiprole medocaril</td>\n      <td>16 Sep 2010</td>\n    </tr>\n    <tr>\n      <th>65</th>\n      <td>NaN</td>\n      <td>Zelnorm</td>\n      <td>Novartis Europharm Limited</td>\n      <td>Rejected</td>\n      <td>tegaserod</td>\n      <td>19 May 2006</td>\n    </tr>\n  </tbody>\n</table>\n<p>1553 rows × 6 columns</p>\n</div>"
     },
     "metadata": {},
     "execution_count": 5
    }
   ],
   "source": [
    "data_active['Status'] = 'Active'\n",
    "data_not_active['Status'] = 'Not active'\n",
    "data_rejected['Status'] = 'Rejected'\n",
    "\n",
    "data = pd.concat([data_active, data_not_active, data_rejected])\n",
    "data"
   ]
  },
  {
   "source": [
    "## Export data"
   ],
   "cell_type": "markdown",
   "metadata": {}
  },
  {
   "cell_type": "code",
   "execution_count": 8,
   "metadata": {},
   "outputs": [],
   "source": [
    "path = os.path.dirname(os.path.dirname(os.getcwd()))\n",
    "name = '/data/ec_all_drugs.csv'\n",
    "data.to_csv(path + name, index=False)"
   ]
  }
 ],
 "metadata": {
  "kernelspec": {
   "display_name": "erlotinib-venv",
   "language": "python",
   "name": "erlotinib-venv"
  },
  "language_info": {
   "codemirror_mode": {
    "name": "ipython",
    "version": 3
   },
   "file_extension": ".py",
   "mimetype": "text/x-python",
   "name": "python",
   "nbconvert_exporter": "python",
   "pygments_lexer": "ipython3",
   "version": "3.7.5-final"
  },
  "widgets": {
   "application/vnd.jupyter.widget-state+json": {
    "state": {},
    "version_major": 2,
    "version_minor": 0
   }
  }
 },
 "nbformat": 4,
 "nbformat_minor": 2
}