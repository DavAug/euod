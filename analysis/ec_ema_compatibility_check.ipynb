{
 "metadata": {
  "language_info": {
   "codemirror_mode": {
    "name": "ipython",
    "version": 3
   },
   "file_extension": ".py",
   "mimetype": "text/x-python",
   "name": "python",
   "nbconvert_exporter": "python",
   "pygments_lexer": "ipython3",
   "version": "3.7.5-final"
  },
  "orig_nbformat": 2,
  "kernelspec": {
   "name": "erlotinib-venv",
   "display_name": "erlotinib-venv",
   "language": "python"
  }
 },
 "nbformat": 4,
 "nbformat_minor": 2,
 "cells": [
  {
   "source": [
    "# Check compatibility of EC and EMA orphan drug registry"
   ],
   "cell_type": "markdown",
   "metadata": {}
  },
  {
   "source": [
    "## Import data"
   ],
   "cell_type": "markdown",
   "metadata": {}
  },
  {
   "source": [
    "### EMA registry"
   ],
   "cell_type": "markdown",
   "metadata": {}
  },
  {
   "cell_type": "code",
   "execution_count": 2,
   "metadata": {},
   "outputs": [
    {
     "output_type": "execute_result",
     "data": {
      "text/plain": [
       "     Medicine name                                   Active substance  \\\n",
       "0              NaN                                              Argon   \n",
       "1              NaN  Heterologous human adult liver-derived stem cells   \n",
       "2              NaN                              Sodium phenylbutyrate   \n",
       "3       Mepsevii,   Recombinant human beta-glucuronidase (vestroni...   \n",
       "4              NaN                  Pegylated recombinant factor VIIa   \n",
       "...            ...                                                ...   \n",
       "2322           NaN                                      Setmelanotide   \n",
       "2323           NaN                                      Setmelanotide   \n",
       "2324           NaN                                      Setmelanotide   \n",
       "2325           NaN                                      Setmelanotide   \n",
       "2326           NaN                                      Setmelanotide   \n",
       "\n",
       "     Agency product number Date of first decision  \\\n",
       "0                      NaN    2018-06-27 14:00:00   \n",
       "1                      NaN    2011-09-27 02:00:00   \n",
       "2                      NaN    2012-02-09 02:00:00   \n",
       "3          EMEA/H/C/004438    2012-03-21 02:00:00   \n",
       "4                      NaN    2008-06-03 02:00:00   \n",
       "...                    ...                    ...   \n",
       "2322                   NaN    2019-08-21 00:00:00   \n",
       "2323                   NaN    2020-01-09 01:00:00   \n",
       "2324                   NaN    2018-11-19 01:00:00   \n",
       "2325                   NaN    2016-07-14 00:00:00   \n",
       "2326                   NaN    2016-06-27 00:00:00   \n",
       "\n",
       "                                    Disease / condition EU designation number  \\\n",
       "0                       Treatment of perinatal asphyxia          EU/3/18/2031   \n",
       "1     Treatment of ornithine transcarbamylase defici...           EU/3/11/904   \n",
       "2     Treatment of ornithine-transcarbamylase defici...           EU/3/12/950   \n",
       "3     Treatment of mucopolysaccharidosis type VII (S...           EU/3/12/973   \n",
       "4                            Treatment of haemophilia B           EU/3/08/552   \n",
       "...                                                 ...                   ...   \n",
       "2322                 Treatment of Bardet-Biedl syndrome          EU/3/19/2192   \n",
       "2323                      Treatment of Alström syndrome          EU/3/19/2245   \n",
       "2324            Treatment of leptin receptor deficiency          EU/3/18/2101   \n",
       "2325       Treatment of pro-opiomelanocortin deficiency          EU/3/16/1703   \n",
       "2326                 Treatment of Prader-Willi syndrome          EU/3/16/1688   \n",
       "\n",
       "     Status of orphan designation     First published       Revision date  \\\n",
       "0                        Positive 2018-08-22 13:20:00 2018-08-22 13:20:00   \n",
       "1                        Positive 2011-10-17 12:10:00 2011-10-17 12:10:00   \n",
       "2                       Withdrawn 2012-03-01 13:45:00 2013-10-09 16:00:00   \n",
       "3                        Positive 2012-04-19 14:25:00 2018-09-07 16:00:00   \n",
       "4                       Withdrawn 2008-08-18 02:09:21 2015-03-06 16:00:00   \n",
       "...                           ...                 ...                 ...   \n",
       "2322                     Positive 2020-01-14 16:00:00 2020-11-09 11:47:00   \n",
       "2323                     Positive 2020-05-20 11:20:00 2020-11-09 11:48:00   \n",
       "2324                     Positive 2019-02-25 14:25:00 2020-11-09 11:49:00   \n",
       "2325                     Positive 2016-09-06 16:00:00 2020-11-09 11:50:00   \n",
       "2326                     Positive 2016-07-26 18:00:00 2020-11-09 11:51:00   \n",
       "\n",
       "                                                    URL  \n",
       "0     https://www.ema.europa.eu/en/medicines/human/o...  \n",
       "1     https://www.ema.europa.eu/en/medicines/human/o...  \n",
       "2     https://www.ema.europa.eu/en/medicines/human/o...  \n",
       "3     https://www.ema.europa.eu/en/medicines/human/o...  \n",
       "4     https://www.ema.europa.eu/en/medicines/human/o...  \n",
       "...                                                 ...  \n",
       "2322  https://www.ema.europa.eu/en/medicines/human/o...  \n",
       "2323  https://www.ema.europa.eu/en/medicines/human/o...  \n",
       "2324  https://www.ema.europa.eu/en/medicines/human/o...  \n",
       "2325  https://www.ema.europa.eu/en/medicines/human/o...  \n",
       "2326  https://www.ema.europa.eu/en/medicines/human/o...  \n",
       "\n",
       "[2327 rows x 10 columns]"
      ],
      "text/html": "<div>\n<style scoped>\n    .dataframe tbody tr th:only-of-type {\n        vertical-align: middle;\n    }\n\n    .dataframe tbody tr th {\n        vertical-align: top;\n    }\n\n    .dataframe thead th {\n        text-align: right;\n    }\n</style>\n<table border=\"1\" class=\"dataframe\">\n  <thead>\n    <tr style=\"text-align: right;\">\n      <th></th>\n      <th>Medicine name</th>\n      <th>Active substance</th>\n      <th>Agency product number</th>\n      <th>Date of first decision</th>\n      <th>Disease / condition</th>\n      <th>EU designation number</th>\n      <th>Status of orphan designation</th>\n      <th>First published</th>\n      <th>Revision date</th>\n      <th>URL</th>\n    </tr>\n  </thead>\n  <tbody>\n    <tr>\n      <th>0</th>\n      <td>NaN</td>\n      <td>Argon</td>\n      <td>NaN</td>\n      <td>2018-06-27 14:00:00</td>\n      <td>Treatment of perinatal asphyxia</td>\n      <td>EU/3/18/2031</td>\n      <td>Positive</td>\n      <td>2018-08-22 13:20:00</td>\n      <td>2018-08-22 13:20:00</td>\n      <td>https://www.ema.europa.eu/en/medicines/human/o...</td>\n    </tr>\n    <tr>\n      <th>1</th>\n      <td>NaN</td>\n      <td>Heterologous human adult liver-derived stem cells</td>\n      <td>NaN</td>\n      <td>2011-09-27 02:00:00</td>\n      <td>Treatment of ornithine transcarbamylase defici...</td>\n      <td>EU/3/11/904</td>\n      <td>Positive</td>\n      <td>2011-10-17 12:10:00</td>\n      <td>2011-10-17 12:10:00</td>\n      <td>https://www.ema.europa.eu/en/medicines/human/o...</td>\n    </tr>\n    <tr>\n      <th>2</th>\n      <td>NaN</td>\n      <td>Sodium phenylbutyrate</td>\n      <td>NaN</td>\n      <td>2012-02-09 02:00:00</td>\n      <td>Treatment of ornithine-transcarbamylase defici...</td>\n      <td>EU/3/12/950</td>\n      <td>Withdrawn</td>\n      <td>2012-03-01 13:45:00</td>\n      <td>2013-10-09 16:00:00</td>\n      <td>https://www.ema.europa.eu/en/medicines/human/o...</td>\n    </tr>\n    <tr>\n      <th>3</th>\n      <td>Mepsevii,</td>\n      <td>Recombinant human beta-glucuronidase (vestroni...</td>\n      <td>EMEA/H/C/004438</td>\n      <td>2012-03-21 02:00:00</td>\n      <td>Treatment of mucopolysaccharidosis type VII (S...</td>\n      <td>EU/3/12/973</td>\n      <td>Positive</td>\n      <td>2012-04-19 14:25:00</td>\n      <td>2018-09-07 16:00:00</td>\n      <td>https://www.ema.europa.eu/en/medicines/human/o...</td>\n    </tr>\n    <tr>\n      <th>4</th>\n      <td>NaN</td>\n      <td>Pegylated recombinant factor VIIa</td>\n      <td>NaN</td>\n      <td>2008-06-03 02:00:00</td>\n      <td>Treatment of haemophilia B</td>\n      <td>EU/3/08/552</td>\n      <td>Withdrawn</td>\n      <td>2008-08-18 02:09:21</td>\n      <td>2015-03-06 16:00:00</td>\n      <td>https://www.ema.europa.eu/en/medicines/human/o...</td>\n    </tr>\n    <tr>\n      <th>...</th>\n      <td>...</td>\n      <td>...</td>\n      <td>...</td>\n      <td>...</td>\n      <td>...</td>\n      <td>...</td>\n      <td>...</td>\n      <td>...</td>\n      <td>...</td>\n      <td>...</td>\n    </tr>\n    <tr>\n      <th>2322</th>\n      <td>NaN</td>\n      <td>Setmelanotide</td>\n      <td>NaN</td>\n      <td>2019-08-21 00:00:00</td>\n      <td>Treatment of Bardet-Biedl syndrome</td>\n      <td>EU/3/19/2192</td>\n      <td>Positive</td>\n      <td>2020-01-14 16:00:00</td>\n      <td>2020-11-09 11:47:00</td>\n      <td>https://www.ema.europa.eu/en/medicines/human/o...</td>\n    </tr>\n    <tr>\n      <th>2323</th>\n      <td>NaN</td>\n      <td>Setmelanotide</td>\n      <td>NaN</td>\n      <td>2020-01-09 01:00:00</td>\n      <td>Treatment of Alström syndrome</td>\n      <td>EU/3/19/2245</td>\n      <td>Positive</td>\n      <td>2020-05-20 11:20:00</td>\n      <td>2020-11-09 11:48:00</td>\n      <td>https://www.ema.europa.eu/en/medicines/human/o...</td>\n    </tr>\n    <tr>\n      <th>2324</th>\n      <td>NaN</td>\n      <td>Setmelanotide</td>\n      <td>NaN</td>\n      <td>2018-11-19 01:00:00</td>\n      <td>Treatment of leptin receptor deficiency</td>\n      <td>EU/3/18/2101</td>\n      <td>Positive</td>\n      <td>2019-02-25 14:25:00</td>\n      <td>2020-11-09 11:49:00</td>\n      <td>https://www.ema.europa.eu/en/medicines/human/o...</td>\n    </tr>\n    <tr>\n      <th>2325</th>\n      <td>NaN</td>\n      <td>Setmelanotide</td>\n      <td>NaN</td>\n      <td>2016-07-14 00:00:00</td>\n      <td>Treatment of pro-opiomelanocortin deficiency</td>\n      <td>EU/3/16/1703</td>\n      <td>Positive</td>\n      <td>2016-09-06 16:00:00</td>\n      <td>2020-11-09 11:50:00</td>\n      <td>https://www.ema.europa.eu/en/medicines/human/o...</td>\n    </tr>\n    <tr>\n      <th>2326</th>\n      <td>NaN</td>\n      <td>Setmelanotide</td>\n      <td>NaN</td>\n      <td>2016-06-27 00:00:00</td>\n      <td>Treatment of Prader-Willi syndrome</td>\n      <td>EU/3/16/1688</td>\n      <td>Positive</td>\n      <td>2016-07-26 18:00:00</td>\n      <td>2020-11-09 11:51:00</td>\n      <td>https://www.ema.europa.eu/en/medicines/human/o...</td>\n    </tr>\n  </tbody>\n</table>\n<p>2327 rows × 10 columns</p>\n</div>"
     },
     "metadata": {},
     "execution_count": 2
    }
   ],
   "source": [
    "import os\n",
    "\n",
    "import numpy as np\n",
    "import pandas as pd\n",
    "\n",
    "path = os.path.dirname(os.getcwd())\n",
    "ema_data = pd.read_excel(path + '/data/ema_orphan_designations.xlsx', header=8)\n",
    "ema_data"
   ]
  },
  {
   "source": [
    "### EC registry"
   ],
   "cell_type": "markdown",
   "metadata": {}
  },
  {
   "cell_type": "code",
   "execution_count": 3,
   "metadata": {},
   "outputs": [
    {
     "output_type": "execute_result",
     "data": {
      "text/plain": [
       "              EU #                                            Product  \\\n",
       "0     EU/3/20/2351  Adeno-associated virus serotype 5 containing t...   \n",
       "1     EU/3/20/2350  Poly(oxy-1,2-ethanediyl), alpha-hydro-omega-me...   \n",
       "2     EU/3/20/2349                                          Miglustat   \n",
       "3     EU/3/20/2348  Poly(oxy-1,2-ethanediyl), alpha-(carboxymethyl...   \n",
       "4     EU/3/20/2347                                          Trehalose   \n",
       "...            ...                                                ...   \n",
       "1735   EU/3/01/034                        Gusperimus trihydrochloride   \n",
       "1736   EU/3/01/028                                         Inolimomab   \n",
       "1737   EU/3/01/026                     L-Lysine-N-acetyl-L-cysteinate   \n",
       "1738   EU/3/00/013                            Ethyl Eicosopentaenoate   \n",
       "1739   EU/3/00/005                              Gemtuzumab Ozogamicin   \n",
       "\n",
       "                                             Indication  \\\n",
       "0     Treatment of RDH12 mutation associated retinal...   \n",
       "1                       Treatment of hypoparathyroidism   \n",
       "2           Treatment of neuronal ceroid lipofuscinosis   \n",
       "3                           Treatment of homocystinuria   \n",
       "4           Treatment of neuronal ceroid lipofuscinosis   \n",
       "...                                                 ...   \n",
       "1735              Treatment of Wegener’s granulomatosis   \n",
       "1736             Treatment of Graft versus Host Disease   \n",
       "1737                       Treatment of cystic fibrosis   \n",
       "1738                  Treatment of Huntington's disease   \n",
       "1739               Treatment of acute myeloid leukaemia   \n",
       "\n",
       "                                Sponsor Designation date  \\\n",
       "0                         MeiraGTx B.V.      19 Oct 2020   \n",
       "1     Ascendis Pharma Bone Diseases A/S      19 Oct 2020   \n",
       "2                     Theranexus S.A.S.      19 Oct 2020   \n",
       "3     Aeglea Biotherapeutics UK Limited      19 Oct 2020   \n",
       "4                     Theranexus S.A.S.      19 Oct 2020   \n",
       "...                                 ...              ...   \n",
       "1735                  Nordic Group B.V.      29 Mar 2001   \n",
       "1736                 Elsalys Biotech SA      05 Mar 2001   \n",
       "1737                LABORATOIRES SMB SA      14 Feb 2001   \n",
       "1738        Amarin Neuroscience Limited      29 Dec 2000   \n",
       "1739              Pfizer Europe MA EEIG      18 Oct 2000   \n",
       "\n",
       "      Tradename - EU product # - Implemented on  \n",
       "0                                             -  \n",
       "1                                             -  \n",
       "2                                             -  \n",
       "3                                             -  \n",
       "4                                             -  \n",
       "...                                         ...  \n",
       "1735                                          -  \n",
       "1736                                          -  \n",
       "1737                                          -  \n",
       "1738                                          -  \n",
       "1739  Mylotarg - \\nEU/1/18/1277 - \\n23 Apr 2018  \n",
       "\n",
       "[1740 rows x 6 columns]"
      ],
      "text/html": "<div>\n<style scoped>\n    .dataframe tbody tr th:only-of-type {\n        vertical-align: middle;\n    }\n\n    .dataframe tbody tr th {\n        vertical-align: top;\n    }\n\n    .dataframe thead th {\n        text-align: right;\n    }\n</style>\n<table border=\"1\" class=\"dataframe\">\n  <thead>\n    <tr style=\"text-align: right;\">\n      <th></th>\n      <th>EU #</th>\n      <th>Product</th>\n      <th>Indication</th>\n      <th>Sponsor</th>\n      <th>Designation date</th>\n      <th>Tradename - EU product # - Implemented on</th>\n    </tr>\n  </thead>\n  <tbody>\n    <tr>\n      <th>0</th>\n      <td>EU/3/20/2351</td>\n      <td>Adeno-associated virus serotype 5 containing t...</td>\n      <td>Treatment of RDH12 mutation associated retinal...</td>\n      <td>MeiraGTx B.V.</td>\n      <td>19 Oct 2020</td>\n      <td>-</td>\n    </tr>\n    <tr>\n      <th>1</th>\n      <td>EU/3/20/2350</td>\n      <td>Poly(oxy-1,2-ethanediyl), alpha-hydro-omega-me...</td>\n      <td>Treatment of hypoparathyroidism</td>\n      <td>Ascendis Pharma Bone Diseases A/S</td>\n      <td>19 Oct 2020</td>\n      <td>-</td>\n    </tr>\n    <tr>\n      <th>2</th>\n      <td>EU/3/20/2349</td>\n      <td>Miglustat</td>\n      <td>Treatment of neuronal ceroid lipofuscinosis</td>\n      <td>Theranexus S.A.S.</td>\n      <td>19 Oct 2020</td>\n      <td>-</td>\n    </tr>\n    <tr>\n      <th>3</th>\n      <td>EU/3/20/2348</td>\n      <td>Poly(oxy-1,2-ethanediyl), alpha-(carboxymethyl...</td>\n      <td>Treatment of homocystinuria</td>\n      <td>Aeglea Biotherapeutics UK Limited</td>\n      <td>19 Oct 2020</td>\n      <td>-</td>\n    </tr>\n    <tr>\n      <th>4</th>\n      <td>EU/3/20/2347</td>\n      <td>Trehalose</td>\n      <td>Treatment of neuronal ceroid lipofuscinosis</td>\n      <td>Theranexus S.A.S.</td>\n      <td>19 Oct 2020</td>\n      <td>-</td>\n    </tr>\n    <tr>\n      <th>...</th>\n      <td>...</td>\n      <td>...</td>\n      <td>...</td>\n      <td>...</td>\n      <td>...</td>\n      <td>...</td>\n    </tr>\n    <tr>\n      <th>1735</th>\n      <td>EU/3/01/034</td>\n      <td>Gusperimus trihydrochloride</td>\n      <td>Treatment of Wegener’s granulomatosis</td>\n      <td>Nordic Group B.V.</td>\n      <td>29 Mar 2001</td>\n      <td>-</td>\n    </tr>\n    <tr>\n      <th>1736</th>\n      <td>EU/3/01/028</td>\n      <td>Inolimomab</td>\n      <td>Treatment of Graft versus Host Disease</td>\n      <td>Elsalys Biotech SA</td>\n      <td>05 Mar 2001</td>\n      <td>-</td>\n    </tr>\n    <tr>\n      <th>1737</th>\n      <td>EU/3/01/026</td>\n      <td>L-Lysine-N-acetyl-L-cysteinate</td>\n      <td>Treatment of cystic fibrosis</td>\n      <td>LABORATOIRES SMB SA</td>\n      <td>14 Feb 2001</td>\n      <td>-</td>\n    </tr>\n    <tr>\n      <th>1738</th>\n      <td>EU/3/00/013</td>\n      <td>Ethyl Eicosopentaenoate</td>\n      <td>Treatment of Huntington's disease</td>\n      <td>Amarin Neuroscience Limited</td>\n      <td>29 Dec 2000</td>\n      <td>-</td>\n    </tr>\n    <tr>\n      <th>1739</th>\n      <td>EU/3/00/005</td>\n      <td>Gemtuzumab Ozogamicin</td>\n      <td>Treatment of acute myeloid leukaemia</td>\n      <td>Pfizer Europe MA EEIG</td>\n      <td>18 Oct 2000</td>\n      <td>Mylotarg - \\nEU/1/18/1277 - \\n23 Apr 2018</td>\n    </tr>\n  </tbody>\n</table>\n<p>1740 rows × 6 columns</p>\n</div>"
     },
     "metadata": {},
     "execution_count": 3
    }
   ],
   "source": [
    "path = os.path.dirname(os.getcwd())\n",
    "ec_data = pd.read_csv(path + '/data/ec_orphan_designations.csv', header=2)\n",
    "ec_data"
   ]
  },
  {
   "source": [
    "## 1. Which EMA applications can be identified in the EC registry?"
   ],
   "cell_type": "markdown",
   "metadata": {}
  },
  {
   "cell_type": "code",
   "execution_count": 5,
   "metadata": {},
   "outputs": [
    {
     "output_type": "execute_result",
     "data": {
      "text/plain": [
       "              EU #                                            Product  \\\n",
       "0     EU/3/20/2297  Adeno-associated virus serotype HSC15 expressi...   \n",
       "1     EU/3/20/2296                            Axicabtagene ciloleucel   \n",
       "2     EU/3/20/2295                    Lys40(NODAGA-68Ga)NH2-exendin-4   \n",
       "3     EU/3/20/2294                                Sodium cromoglicate   \n",
       "4     EU/3/20/2293                                    (+)-epicatechin   \n",
       "...            ...                                                ...   \n",
       "1663   EU/3/01/034                        Gusperimus trihydrochloride   \n",
       "1664   EU/3/01/028                                         Inolimomab   \n",
       "1665   EU/3/01/026                     L-Lysine-N-acetyl-L-cysteinate   \n",
       "1666   EU/3/00/013                            Ethyl Eicosopentaenoate   \n",
       "1667   EU/3/00/005                              Gemtuzumab Ozogamicin   \n",
       "\n",
       "                                      Indication  \\\n",
       "0      Treatment of metachromatic leukodystrophy   \n",
       "1            Treatment of marginal zone lymphoma   \n",
       "2                        Diagnosis of insulinoma   \n",
       "3     Treatment of idiopathic pulmonary fibrosis   \n",
       "4         Treatment of Becker muscular dystrophy   \n",
       "...                                          ...   \n",
       "1663       Treatment of Wegener’s granulomatosis   \n",
       "1664      Treatment of Graft versus Host Disease   \n",
       "1665                Treatment of cystic fibrosis   \n",
       "1666           Treatment of Huntington's disease   \n",
       "1667        Treatment of acute myeloid leukaemia   \n",
       "\n",
       "                                           Sponsor Designation date  \\\n",
       "0     Yes Pharmaceutical Development Services GmbH      26 Jun 2020   \n",
       "1                              Kite Pharma EU B.V.      26 Jun 2020   \n",
       "2                Stichting Katholieke Universiteit      26 Jun 2020   \n",
       "3                             IQVIA RDS Spain S.L.      26 Jun 2020   \n",
       "4                          MWB Consulting S.A.R.L.      26 Jun 2020   \n",
       "...                                            ...              ...   \n",
       "1663                             Nordic Group B.V.      29 Mar 2001   \n",
       "1664                            Elsalys Biotech SA      05 Mar 2001   \n",
       "1665                           LABORATOIRES SMB SA      14 Feb 2001   \n",
       "1666                   Amarin Neuroscience Limited      29 Dec 2000   \n",
       "1667                         Pfizer Europe MA EEIG      18 Oct 2000   \n",
       "\n",
       "      Tradename - EU product # - Implemented on  \\\n",
       "0                                             -   \n",
       "1                                             -   \n",
       "2                                             -   \n",
       "3                                             -   \n",
       "4                                             -   \n",
       "...                                         ...   \n",
       "1663                                          -   \n",
       "1664                                          -   \n",
       "1665                                          -   \n",
       "1666                                          -   \n",
       "1667  Mylotarg - \\nEU/1/18/1277 - \\n23 Apr 2018   \n",
       "\n",
       "                                 Medicine name  \\\n",
       "0                                          NaN   \n",
       "1                                          NaN   \n",
       "2                                          NaN   \n",
       "3                                          NaN   \n",
       "4                                          NaN   \n",
       "...                                        ...   \n",
       "1663                                Spanidin,    \n",
       "1664                                       NaN   \n",
       "1665                                       NaN   \n",
       "1666  Ethyl Eicosapent soft gelatin capsules,    \n",
       "1667                                Mylotarg,    \n",
       "\n",
       "                                       Active substance Agency product number  \\\n",
       "0     Adeno-associated virus serotype HSC15 expressi...                   NaN   \n",
       "1                               axicabtagene ciloleucel                   NaN   \n",
       "2                       Lys40(NODAGA-68Ga)NH2-exendin-4                   NaN   \n",
       "3                                   Sodium cromoglicate                   NaN   \n",
       "4                                       (+)-Epicatechin                   NaN   \n",
       "...                                                 ...                   ...   \n",
       "1663                        Gusperimus trihydrochloride       EMEA/H/C/000809   \n",
       "1664                                         Inolimomab                   NaN   \n",
       "1665                     L-Lysine-N-Acetyl-L-Cysteinate                   NaN   \n",
       "1666                            Ethyl Eicosapentaenoate       EMEA/H/C/001148   \n",
       "1667                              gemtuzumab ozogamicin       EMEA/H/C/004204   \n",
       "\n",
       "     Date of first decision                         Disease / condition  \\\n",
       "0       2020-06-26 00:00:00   treatment of metachromatic leukodystrophy   \n",
       "1       2020-06-26 00:00:00         Treatment of marginal zone lymphoma   \n",
       "2       2020-06-26 00:00:00                     Diagnosis of insulinoma   \n",
       "3       2020-06-26 00:00:00  Treatment of idiopathic pulmonary fibrosis   \n",
       "4       2020-06-26 00:00:00      Treatment of Becker muscular dystrophy   \n",
       "...                     ...                                         ...   \n",
       "1663    2001-03-29 02:00:00       Treatment of Wegener's granulomatosis   \n",
       "1664    2001-03-05 01:00:00      Treatment of graft-versus-host disease   \n",
       "1665    2001-02-14 01:00:00                Treatment of cystic fibrosis   \n",
       "1666    2000-12-29 01:00:00           Treatment of Huntington’s disease   \n",
       "1667    2000-10-18 00:00:00        Treatment of acute myeloid leukaemia   \n",
       "\n",
       "     Status of orphan designation     First published       Revision date  \\\n",
       "0                        Positive 2020-09-24 14:40:00                 NaT   \n",
       "1                        Positive 2020-09-24 14:40:00                 NaT   \n",
       "2                        Positive 2020-09-24 12:32:00                 NaT   \n",
       "3                        Positive 2020-09-23 15:45:00                 NaT   \n",
       "4                        Positive 2020-09-23 15:45:00                 NaT   \n",
       "...                           ...                 ...                 ...   \n",
       "1663                     Positive 2009-03-03 01:09:21 2011-11-18 17:28:00   \n",
       "1664                     Positive 2008-08-18 02:09:00 2017-10-26 15:35:00   \n",
       "1665                     Positive 2009-05-15 02:09:21 2009-05-15 02:09:21   \n",
       "1666                     Positive 2006-01-04 01:09:00 2006-01-04 01:09:00   \n",
       "1667                     Positive 2004-11-08 01:09:00 2013-06-19 14:00:00   \n",
       "\n",
       "                                                    URL  \n",
       "0     https://www.ema.europa.eu/en/medicines/human/o...  \n",
       "1     https://www.ema.europa.eu/en/medicines/human/o...  \n",
       "2     https://www.ema.europa.eu/en/medicines/human/o...  \n",
       "3     https://www.ema.europa.eu/en/medicines/human/o...  \n",
       "4     https://www.ema.europa.eu/en/medicines/human/o...  \n",
       "...                                                 ...  \n",
       "1663  https://www.ema.europa.eu/en/medicines/human/o...  \n",
       "1664  https://www.ema.europa.eu/en/medicines/human/o...  \n",
       "1665  https://www.ema.europa.eu/en/medicines/human/o...  \n",
       "1666  https://www.ema.europa.eu/en/medicines/human/o...  \n",
       "1667  https://www.ema.europa.eu/en/medicines/human/o...  \n",
       "\n",
       "[1668 rows x 15 columns]"
      ],
      "text/html": "<div>\n<style scoped>\n    .dataframe tbody tr th:only-of-type {\n        vertical-align: middle;\n    }\n\n    .dataframe tbody tr th {\n        vertical-align: top;\n    }\n\n    .dataframe thead th {\n        text-align: right;\n    }\n</style>\n<table border=\"1\" class=\"dataframe\">\n  <thead>\n    <tr style=\"text-align: right;\">\n      <th></th>\n      <th>EU #</th>\n      <th>Product</th>\n      <th>Indication</th>\n      <th>Sponsor</th>\n      <th>Designation date</th>\n      <th>Tradename - EU product # - Implemented on</th>\n      <th>Medicine name</th>\n      <th>Active substance</th>\n      <th>Agency product number</th>\n      <th>Date of first decision</th>\n      <th>Disease / condition</th>\n      <th>Status of orphan designation</th>\n      <th>First published</th>\n      <th>Revision date</th>\n      <th>URL</th>\n    </tr>\n  </thead>\n  <tbody>\n    <tr>\n      <th>0</th>\n      <td>EU/3/20/2297</td>\n      <td>Adeno-associated virus serotype HSC15 expressi...</td>\n      <td>Treatment of metachromatic leukodystrophy</td>\n      <td>Yes Pharmaceutical Development Services GmbH</td>\n      <td>26 Jun 2020</td>\n      <td>-</td>\n      <td>NaN</td>\n      <td>Adeno-associated virus serotype HSC15 expressi...</td>\n      <td>NaN</td>\n      <td>2020-06-26 00:00:00</td>\n      <td>treatment of metachromatic leukodystrophy</td>\n      <td>Positive</td>\n      <td>2020-09-24 14:40:00</td>\n      <td>NaT</td>\n      <td>https://www.ema.europa.eu/en/medicines/human/o...</td>\n    </tr>\n    <tr>\n      <th>1</th>\n      <td>EU/3/20/2296</td>\n      <td>Axicabtagene ciloleucel</td>\n      <td>Treatment of marginal zone lymphoma</td>\n      <td>Kite Pharma EU B.V.</td>\n      <td>26 Jun 2020</td>\n      <td>-</td>\n      <td>NaN</td>\n      <td>axicabtagene ciloleucel</td>\n      <td>NaN</td>\n      <td>2020-06-26 00:00:00</td>\n      <td>Treatment of marginal zone lymphoma</td>\n      <td>Positive</td>\n      <td>2020-09-24 14:40:00</td>\n      <td>NaT</td>\n      <td>https://www.ema.europa.eu/en/medicines/human/o...</td>\n    </tr>\n    <tr>\n      <th>2</th>\n      <td>EU/3/20/2295</td>\n      <td>Lys40(NODAGA-68Ga)NH2-exendin-4</td>\n      <td>Diagnosis of insulinoma</td>\n      <td>Stichting Katholieke Universiteit</td>\n      <td>26 Jun 2020</td>\n      <td>-</td>\n      <td>NaN</td>\n      <td>Lys40(NODAGA-68Ga)NH2-exendin-4</td>\n      <td>NaN</td>\n      <td>2020-06-26 00:00:00</td>\n      <td>Diagnosis of insulinoma</td>\n      <td>Positive</td>\n      <td>2020-09-24 12:32:00</td>\n      <td>NaT</td>\n      <td>https://www.ema.europa.eu/en/medicines/human/o...</td>\n    </tr>\n    <tr>\n      <th>3</th>\n      <td>EU/3/20/2294</td>\n      <td>Sodium cromoglicate</td>\n      <td>Treatment of idiopathic pulmonary fibrosis</td>\n      <td>IQVIA RDS Spain S.L.</td>\n      <td>26 Jun 2020</td>\n      <td>-</td>\n      <td>NaN</td>\n      <td>Sodium cromoglicate</td>\n      <td>NaN</td>\n      <td>2020-06-26 00:00:00</td>\n      <td>Treatment of idiopathic pulmonary fibrosis</td>\n      <td>Positive</td>\n      <td>2020-09-23 15:45:00</td>\n      <td>NaT</td>\n      <td>https://www.ema.europa.eu/en/medicines/human/o...</td>\n    </tr>\n    <tr>\n      <th>4</th>\n      <td>EU/3/20/2293</td>\n      <td>(+)-epicatechin</td>\n      <td>Treatment of Becker muscular dystrophy</td>\n      <td>MWB Consulting S.A.R.L.</td>\n      <td>26 Jun 2020</td>\n      <td>-</td>\n      <td>NaN</td>\n      <td>(+)-Epicatechin</td>\n      <td>NaN</td>\n      <td>2020-06-26 00:00:00</td>\n      <td>Treatment of Becker muscular dystrophy</td>\n      <td>Positive</td>\n      <td>2020-09-23 15:45:00</td>\n      <td>NaT</td>\n      <td>https://www.ema.europa.eu/en/medicines/human/o...</td>\n    </tr>\n    <tr>\n      <th>...</th>\n      <td>...</td>\n      <td>...</td>\n      <td>...</td>\n      <td>...</td>\n      <td>...</td>\n      <td>...</td>\n      <td>...</td>\n      <td>...</td>\n      <td>...</td>\n      <td>...</td>\n      <td>...</td>\n      <td>...</td>\n      <td>...</td>\n      <td>...</td>\n      <td>...</td>\n    </tr>\n    <tr>\n      <th>1663</th>\n      <td>EU/3/01/034</td>\n      <td>Gusperimus trihydrochloride</td>\n      <td>Treatment of Wegener’s granulomatosis</td>\n      <td>Nordic Group B.V.</td>\n      <td>29 Mar 2001</td>\n      <td>-</td>\n      <td>Spanidin,</td>\n      <td>Gusperimus trihydrochloride</td>\n      <td>EMEA/H/C/000809</td>\n      <td>2001-03-29 02:00:00</td>\n      <td>Treatment of Wegener's granulomatosis</td>\n      <td>Positive</td>\n      <td>2009-03-03 01:09:21</td>\n      <td>2011-11-18 17:28:00</td>\n      <td>https://www.ema.europa.eu/en/medicines/human/o...</td>\n    </tr>\n    <tr>\n      <th>1664</th>\n      <td>EU/3/01/028</td>\n      <td>Inolimomab</td>\n      <td>Treatment of Graft versus Host Disease</td>\n      <td>Elsalys Biotech SA</td>\n      <td>05 Mar 2001</td>\n      <td>-</td>\n      <td>NaN</td>\n      <td>Inolimomab</td>\n      <td>NaN</td>\n      <td>2001-03-05 01:00:00</td>\n      <td>Treatment of graft-versus-host disease</td>\n      <td>Positive</td>\n      <td>2008-08-18 02:09:00</td>\n      <td>2017-10-26 15:35:00</td>\n      <td>https://www.ema.europa.eu/en/medicines/human/o...</td>\n    </tr>\n    <tr>\n      <th>1665</th>\n      <td>EU/3/01/026</td>\n      <td>L-Lysine-N-acetyl-L-cysteinate</td>\n      <td>Treatment of cystic fibrosis</td>\n      <td>LABORATOIRES SMB SA</td>\n      <td>14 Feb 2001</td>\n      <td>-</td>\n      <td>NaN</td>\n      <td>L-Lysine-N-Acetyl-L-Cysteinate</td>\n      <td>NaN</td>\n      <td>2001-02-14 01:00:00</td>\n      <td>Treatment of cystic fibrosis</td>\n      <td>Positive</td>\n      <td>2009-05-15 02:09:21</td>\n      <td>2009-05-15 02:09:21</td>\n      <td>https://www.ema.europa.eu/en/medicines/human/o...</td>\n    </tr>\n    <tr>\n      <th>1666</th>\n      <td>EU/3/00/013</td>\n      <td>Ethyl Eicosopentaenoate</td>\n      <td>Treatment of Huntington's disease</td>\n      <td>Amarin Neuroscience Limited</td>\n      <td>29 Dec 2000</td>\n      <td>-</td>\n      <td>Ethyl Eicosapent soft gelatin capsules,</td>\n      <td>Ethyl Eicosapentaenoate</td>\n      <td>EMEA/H/C/001148</td>\n      <td>2000-12-29 01:00:00</td>\n      <td>Treatment of Huntington’s disease</td>\n      <td>Positive</td>\n      <td>2006-01-04 01:09:00</td>\n      <td>2006-01-04 01:09:00</td>\n      <td>https://www.ema.europa.eu/en/medicines/human/o...</td>\n    </tr>\n    <tr>\n      <th>1667</th>\n      <td>EU/3/00/005</td>\n      <td>Gemtuzumab Ozogamicin</td>\n      <td>Treatment of acute myeloid leukaemia</td>\n      <td>Pfizer Europe MA EEIG</td>\n      <td>18 Oct 2000</td>\n      <td>Mylotarg - \\nEU/1/18/1277 - \\n23 Apr 2018</td>\n      <td>Mylotarg,</td>\n      <td>gemtuzumab ozogamicin</td>\n      <td>EMEA/H/C/004204</td>\n      <td>2000-10-18 00:00:00</td>\n      <td>Treatment of acute myeloid leukaemia</td>\n      <td>Positive</td>\n      <td>2004-11-08 01:09:00</td>\n      <td>2013-06-19 14:00:00</td>\n      <td>https://www.ema.europa.eu/en/medicines/human/o...</td>\n    </tr>\n  </tbody>\n</table>\n<p>1668 rows × 15 columns</p>\n</div>"
     },
     "metadata": {},
     "execution_count": 5
    }
   ],
   "source": [
    "# Inner join EMA registry to EC registry\n",
    "temp = ema_data.rename(columns={'EU designation number': 'EU #'})\n",
    "inner_data = ec_data.merge(temp, how='inner', on='EU #')\n",
    "inner_data"
   ]
  },
  {
   "source": [
    "### 1.1 Outcome of designations in EC"
   ],
   "cell_type": "markdown",
   "metadata": {}
  },
  {
   "cell_type": "code",
   "execution_count": 7,
   "metadata": {},
   "outputs": [
    {
     "output_type": "display_data",
     "data": {
      "application/vnd.plotly.v1+json": {
       "config": {
        "plotlyServerURL": "https://plot.ly"
       },
       "data": [
        {
         "labels": [
          "Positive",
          "Withdrawn"
         ],
         "marker": {
          "colors": [
           "#636EFA",
           "#EF553B"
          ],
          "line": {
           "color": "#000000",
           "width": 1
          }
         },
         "sort": false,
         "type": "pie",
         "values": [
          1667,
          1
         ]
        }
       ],
       "layout": {
        "template": {
         "data": {
          "bar": [
           {
            "error_x": {
             "color": "#2a3f5f"
            },
            "error_y": {
             "color": "#2a3f5f"
            },
            "marker": {
             "line": {
              "color": "#E5ECF6",
              "width": 0.5
             }
            },
            "type": "bar"
           }
          ],
          "barpolar": [
           {
            "marker": {
             "line": {
              "color": "#E5ECF6",
              "width": 0.5
             }
            },
            "type": "barpolar"
           }
          ],
          "carpet": [
           {
            "aaxis": {
             "endlinecolor": "#2a3f5f",
             "gridcolor": "white",
             "linecolor": "white",
             "minorgridcolor": "white",
             "startlinecolor": "#2a3f5f"
            },
            "baxis": {
             "endlinecolor": "#2a3f5f",
             "gridcolor": "white",
             "linecolor": "white",
             "minorgridcolor": "white",
             "startlinecolor": "#2a3f5f"
            },
            "type": "carpet"
           }
          ],
          "choropleth": [
           {
            "colorbar": {
             "outlinewidth": 0,
             "ticks": ""
            },
            "type": "choropleth"
           }
          ],
          "contour": [
           {
            "colorbar": {
             "outlinewidth": 0,
             "ticks": ""
            },
            "colorscale": [
             [
              0,
              "#0d0887"
             ],
             [
              0.1111111111111111,
              "#46039f"
             ],
             [
              0.2222222222222222,
              "#7201a8"
             ],
             [
              0.3333333333333333,
              "#9c179e"
             ],
             [
              0.4444444444444444,
              "#bd3786"
             ],
             [
              0.5555555555555556,
              "#d8576b"
             ],
             [
              0.6666666666666666,
              "#ed7953"
             ],
             [
              0.7777777777777778,
              "#fb9f3a"
             ],
             [
              0.8888888888888888,
              "#fdca26"
             ],
             [
              1,
              "#f0f921"
             ]
            ],
            "type": "contour"
           }
          ],
          "contourcarpet": [
           {
            "colorbar": {
             "outlinewidth": 0,
             "ticks": ""
            },
            "type": "contourcarpet"
           }
          ],
          "heatmap": [
           {
            "colorbar": {
             "outlinewidth": 0,
             "ticks": ""
            },
            "colorscale": [
             [
              0,
              "#0d0887"
             ],
             [
              0.1111111111111111,
              "#46039f"
             ],
             [
              0.2222222222222222,
              "#7201a8"
             ],
             [
              0.3333333333333333,
              "#9c179e"
             ],
             [
              0.4444444444444444,
              "#bd3786"
             ],
             [
              0.5555555555555556,
              "#d8576b"
             ],
             [
              0.6666666666666666,
              "#ed7953"
             ],
             [
              0.7777777777777778,
              "#fb9f3a"
             ],
             [
              0.8888888888888888,
              "#fdca26"
             ],
             [
              1,
              "#f0f921"
             ]
            ],
            "type": "heatmap"
           }
          ],
          "heatmapgl": [
           {
            "colorbar": {
             "outlinewidth": 0,
             "ticks": ""
            },
            "colorscale": [
             [
              0,
              "#0d0887"
             ],
             [
              0.1111111111111111,
              "#46039f"
             ],
             [
              0.2222222222222222,
              "#7201a8"
             ],
             [
              0.3333333333333333,
              "#9c179e"
             ],
             [
              0.4444444444444444,
              "#bd3786"
             ],
             [
              0.5555555555555556,
              "#d8576b"
             ],
             [
              0.6666666666666666,
              "#ed7953"
             ],
             [
              0.7777777777777778,
              "#fb9f3a"
             ],
             [
              0.8888888888888888,
              "#fdca26"
             ],
             [
              1,
              "#f0f921"
             ]
            ],
            "type": "heatmapgl"
           }
          ],
          "histogram": [
           {
            "marker": {
             "colorbar": {
              "outlinewidth": 0,
              "ticks": ""
             }
            },
            "type": "histogram"
           }
          ],
          "histogram2d": [
           {
            "colorbar": {
             "outlinewidth": 0,
             "ticks": ""
            },
            "colorscale": [
             [
              0,
              "#0d0887"
             ],
             [
              0.1111111111111111,
              "#46039f"
             ],
             [
              0.2222222222222222,
              "#7201a8"
             ],
             [
              0.3333333333333333,
              "#9c179e"
             ],
             [
              0.4444444444444444,
              "#bd3786"
             ],
             [
              0.5555555555555556,
              "#d8576b"
             ],
             [
              0.6666666666666666,
              "#ed7953"
             ],
             [
              0.7777777777777778,
              "#fb9f3a"
             ],
             [
              0.8888888888888888,
              "#fdca26"
             ],
             [
              1,
              "#f0f921"
             ]
            ],
            "type": "histogram2d"
           }
          ],
          "histogram2dcontour": [
           {
            "colorbar": {
             "outlinewidth": 0,
             "ticks": ""
            },
            "colorscale": [
             [
              0,
              "#0d0887"
             ],
             [
              0.1111111111111111,
              "#46039f"
             ],
             [
              0.2222222222222222,
              "#7201a8"
             ],
             [
              0.3333333333333333,
              "#9c179e"
             ],
             [
              0.4444444444444444,
              "#bd3786"
             ],
             [
              0.5555555555555556,
              "#d8576b"
             ],
             [
              0.6666666666666666,
              "#ed7953"
             ],
             [
              0.7777777777777778,
              "#fb9f3a"
             ],
             [
              0.8888888888888888,
              "#fdca26"
             ],
             [
              1,
              "#f0f921"
             ]
            ],
            "type": "histogram2dcontour"
           }
          ],
          "mesh3d": [
           {
            "colorbar": {
             "outlinewidth": 0,
             "ticks": ""
            },
            "type": "mesh3d"
           }
          ],
          "parcoords": [
           {
            "line": {
             "colorbar": {
              "outlinewidth": 0,
              "ticks": ""
             }
            },
            "type": "parcoords"
           }
          ],
          "pie": [
           {
            "automargin": true,
            "type": "pie"
           }
          ],
          "scatter": [
           {
            "marker": {
             "colorbar": {
              "outlinewidth": 0,
              "ticks": ""
             }
            },
            "type": "scatter"
           }
          ],
          "scatter3d": [
           {
            "line": {
             "colorbar": {
              "outlinewidth": 0,
              "ticks": ""
             }
            },
            "marker": {
             "colorbar": {
              "outlinewidth": 0,
              "ticks": ""
             }
            },
            "type": "scatter3d"
           }
          ],
          "scattercarpet": [
           {
            "marker": {
             "colorbar": {
              "outlinewidth": 0,
              "ticks": ""
             }
            },
            "type": "scattercarpet"
           }
          ],
          "scattergeo": [
           {
            "marker": {
             "colorbar": {
              "outlinewidth": 0,
              "ticks": ""
             }
            },
            "type": "scattergeo"
           }
          ],
          "scattergl": [
           {
            "marker": {
             "colorbar": {
              "outlinewidth": 0,
              "ticks": ""
             }
            },
            "type": "scattergl"
           }
          ],
          "scattermapbox": [
           {
            "marker": {
             "colorbar": {
              "outlinewidth": 0,
              "ticks": ""
             }
            },
            "type": "scattermapbox"
           }
          ],
          "scatterpolar": [
           {
            "marker": {
             "colorbar": {
              "outlinewidth": 0,
              "ticks": ""
             }
            },
            "type": "scatterpolar"
           }
          ],
          "scatterpolargl": [
           {
            "marker": {
             "colorbar": {
              "outlinewidth": 0,
              "ticks": ""
             }
            },
            "type": "scatterpolargl"
           }
          ],
          "scatterternary": [
           {
            "marker": {
             "colorbar": {
              "outlinewidth": 0,
              "ticks": ""
             }
            },
            "type": "scatterternary"
           }
          ],
          "surface": [
           {
            "colorbar": {
             "outlinewidth": 0,
             "ticks": ""
            },
            "colorscale": [
             [
              0,
              "#0d0887"
             ],
             [
              0.1111111111111111,
              "#46039f"
             ],
             [
              0.2222222222222222,
              "#7201a8"
             ],
             [
              0.3333333333333333,
              "#9c179e"
             ],
             [
              0.4444444444444444,
              "#bd3786"
             ],
             [
              0.5555555555555556,
              "#d8576b"
             ],
             [
              0.6666666666666666,
              "#ed7953"
             ],
             [
              0.7777777777777778,
              "#fb9f3a"
             ],
             [
              0.8888888888888888,
              "#fdca26"
             ],
             [
              1,
              "#f0f921"
             ]
            ],
            "type": "surface"
           }
          ],
          "table": [
           {
            "cells": {
             "fill": {
              "color": "#EBF0F8"
             },
             "line": {
              "color": "white"
             }
            },
            "header": {
             "fill": {
              "color": "#C8D4E3"
             },
             "line": {
              "color": "white"
             }
            },
            "type": "table"
           }
          ]
         },
         "layout": {
          "annotationdefaults": {
           "arrowcolor": "#2a3f5f",
           "arrowhead": 0,
           "arrowwidth": 1
          },
          "coloraxis": {
           "colorbar": {
            "outlinewidth": 0,
            "ticks": ""
           }
          },
          "colorscale": {
           "diverging": [
            [
             0,
             "#8e0152"
            ],
            [
             0.1,
             "#c51b7d"
            ],
            [
             0.2,
             "#de77ae"
            ],
            [
             0.3,
             "#f1b6da"
            ],
            [
             0.4,
             "#fde0ef"
            ],
            [
             0.5,
             "#f7f7f7"
            ],
            [
             0.6,
             "#e6f5d0"
            ],
            [
             0.7,
             "#b8e186"
            ],
            [
             0.8,
             "#7fbc41"
            ],
            [
             0.9,
             "#4d9221"
            ],
            [
             1,
             "#276419"
            ]
           ],
           "sequential": [
            [
             0,
             "#0d0887"
            ],
            [
             0.1111111111111111,
             "#46039f"
            ],
            [
             0.2222222222222222,
             "#7201a8"
            ],
            [
             0.3333333333333333,
             "#9c179e"
            ],
            [
             0.4444444444444444,
             "#bd3786"
            ],
            [
             0.5555555555555556,
             "#d8576b"
            ],
            [
             0.6666666666666666,
             "#ed7953"
            ],
            [
             0.7777777777777778,
             "#fb9f3a"
            ],
            [
             0.8888888888888888,
             "#fdca26"
            ],
            [
             1,
             "#f0f921"
            ]
           ],
           "sequentialminus": [
            [
             0,
             "#0d0887"
            ],
            [
             0.1111111111111111,
             "#46039f"
            ],
            [
             0.2222222222222222,
             "#7201a8"
            ],
            [
             0.3333333333333333,
             "#9c179e"
            ],
            [
             0.4444444444444444,
             "#bd3786"
            ],
            [
             0.5555555555555556,
             "#d8576b"
            ],
            [
             0.6666666666666666,
             "#ed7953"
            ],
            [
             0.7777777777777778,
             "#fb9f3a"
            ],
            [
             0.8888888888888888,
             "#fdca26"
            ],
            [
             1,
             "#f0f921"
            ]
           ]
          },
          "colorway": [
           "#636efa",
           "#EF553B",
           "#00cc96",
           "#ab63fa",
           "#FFA15A",
           "#19d3f3",
           "#FF6692",
           "#B6E880",
           "#FF97FF",
           "#FECB52"
          ],
          "font": {
           "color": "#2a3f5f"
          },
          "geo": {
           "bgcolor": "white",
           "lakecolor": "white",
           "landcolor": "#E5ECF6",
           "showlakes": true,
           "showland": true,
           "subunitcolor": "white"
          },
          "hoverlabel": {
           "align": "left"
          },
          "hovermode": "closest",
          "mapbox": {
           "style": "light"
          },
          "paper_bgcolor": "white",
          "plot_bgcolor": "#E5ECF6",
          "polar": {
           "angularaxis": {
            "gridcolor": "white",
            "linecolor": "white",
            "ticks": ""
           },
           "bgcolor": "#E5ECF6",
           "radialaxis": {
            "gridcolor": "white",
            "linecolor": "white",
            "ticks": ""
           }
          },
          "scene": {
           "xaxis": {
            "backgroundcolor": "#E5ECF6",
            "gridcolor": "white",
            "gridwidth": 2,
            "linecolor": "white",
            "showbackground": true,
            "ticks": "",
            "zerolinecolor": "white"
           },
           "yaxis": {
            "backgroundcolor": "#E5ECF6",
            "gridcolor": "white",
            "gridwidth": 2,
            "linecolor": "white",
            "showbackground": true,
            "ticks": "",
            "zerolinecolor": "white"
           },
           "zaxis": {
            "backgroundcolor": "#E5ECF6",
            "gridcolor": "white",
            "gridwidth": 2,
            "linecolor": "white",
            "showbackground": true,
            "ticks": "",
            "zerolinecolor": "white"
           }
          },
          "shapedefaults": {
           "line": {
            "color": "#2a3f5f"
           }
          },
          "ternary": {
           "aaxis": {
            "gridcolor": "white",
            "linecolor": "white",
            "ticks": ""
           },
           "baxis": {
            "gridcolor": "white",
            "linecolor": "white",
            "ticks": ""
           },
           "bgcolor": "#E5ECF6",
           "caxis": {
            "gridcolor": "white",
            "linecolor": "white",
            "ticks": ""
           }
          },
          "title": {
           "x": 0.05
          },
          "xaxis": {
           "automargin": true,
           "gridcolor": "white",
           "linecolor": "white",
           "ticks": "",
           "title": {
            "standoff": 15
           },
           "zerolinecolor": "white",
           "zerolinewidth": 2
          },
          "yaxis": {
           "automargin": true,
           "gridcolor": "white",
           "linecolor": "white",
           "ticks": "",
           "title": {
            "standoff": 15
           },
           "zerolinecolor": "white",
           "zerolinewidth": 2
          }
         }
        }
       }
      }
     },
     "metadata": {}
    }
   ],
   "source": [
    "import plotly.colors\n",
    "import plotly.graph_objects as go\n",
    "\n",
    "# Group data based on outcome\n",
    "assert np.array_equal(inner_data['Status of orphan designation'].unique(), np.array(['Positive', 'Withdrawn']))\n",
    "mask = inner_data['Status of orphan designation'] == 'Positive'\n",
    "positive = inner_data[mask]\n",
    "mask = inner_data['Status of orphan designation'] == 'Withdrawn'\n",
    "withdrawn = inner_data[mask]\n",
    "\n",
    "# Create figure\n",
    "fig = go.Figure()\n",
    "colours = plotly.colors.qualitative.Plotly\n",
    "\n",
    "fig.add_trace(go.Pie(\n",
    "    labels=['Positive', 'Withdrawn'],\n",
    "    values=[len(positive), len(withdrawn)],\n",
    "    sort=False,\n",
    "    marker=dict(\n",
    "        colors=colours[:2], \n",
    "        line=dict(color='#000000', width=1))))\n",
    "fig.show()"
   ]
  },
  {
   "source": [
    "**Figure 1:** Outcomes of applications in the EMA registry that could be identified in the EC registry."
   ],
   "cell_type": "markdown",
   "metadata": {}
  },
  {
   "source": [
    "## 2. Which EC orphan designations cannot be matched to EMA?"
   ],
   "cell_type": "markdown",
   "metadata": {}
  },
  {
   "cell_type": "code",
   "execution_count": 9,
   "metadata": {},
   "outputs": [
    {
     "output_type": "execute_result",
     "data": {
      "text/plain": [
       "              EU #                                            Product  \\\n",
       "0     EU/3/20/2351  Adeno-associated virus serotype 5 containing t...   \n",
       "1     EU/3/20/2350  Poly(oxy-1,2-ethanediyl), alpha-hydro-omega-me...   \n",
       "2     EU/3/20/2349                                          Miglustat   \n",
       "3     EU/3/20/2348  Poly(oxy-1,2-ethanediyl), alpha-(carboxymethyl...   \n",
       "4     EU/3/20/2347                                          Trehalose   \n",
       "...            ...                                                ...   \n",
       "1278   EU/3/11/878   Allogeneic T cells encoding an exogenous TK gene   \n",
       "1300   EU/3/10/846                           Paclitaxel (aqueous gel)   \n",
       "1316   EU/3/10/822  Lentiviral vector carrying the Fanconi anaemia...   \n",
       "1492   EU/3/08/544                                   Omigapil maleate   \n",
       "1732   EU/3/01/049                                         Ramoplanin   \n",
       "\n",
       "                                             Indication  \\\n",
       "0     Treatment of RDH12 mutation associated retinal...   \n",
       "1                       Treatment of hypoparathyroidism   \n",
       "2           Treatment of neuronal ceroid lipofuscinosis   \n",
       "3                           Treatment of homocystinuria   \n",
       "4           Treatment of neuronal ceroid lipofuscinosis   \n",
       "...                                                 ...   \n",
       "1278         Treatment of acute lymphoblastic leukaemia   \n",
       "1300                  Treatment of oesophagus carcinoma   \n",
       "1316                Treatment of Fanconi anaemia type A   \n",
       "1492  Treatment of congenital muscular dystrophy wit...   \n",
       "1732  Prevention of invasive infections due to Vanco...   \n",
       "\n",
       "                                                Sponsor Designation date  \\\n",
       "0                                         MeiraGTx B.V.      19 Oct 2020   \n",
       "1                     Ascendis Pharma Bone Diseases A/S      19 Oct 2020   \n",
       "2                                     Theranexus S.A.S.      19 Oct 2020   \n",
       "3                     Aeglea Biotherapeutics UK Limited      19 Oct 2020   \n",
       "4                                     Theranexus S.A.S.      19 Oct 2020   \n",
       "...                                                 ...              ...   \n",
       "1278                                           LTKFarma      21 Jun 2011   \n",
       "1300                                            BTG plc      23 Feb 2011   \n",
       "1316  Consorcio Centro de Investigación Biomédica en...      17 Dec 2010   \n",
       "1492        Santhera Pharmaceuticals (Deutschland) GmbH      08 May 2008   \n",
       "1732                 Vicuron Pharmaceuticals Italy srl,      09 Jul 2001   \n",
       "\n",
       "     Tradename - EU product # - Implemented on  \n",
       "0                                            -  \n",
       "1                                            -  \n",
       "2                                            -  \n",
       "3                                            -  \n",
       "4                                            -  \n",
       "...                                        ...  \n",
       "1278                                         -  \n",
       "1300                                         -  \n",
       "1316                                         -  \n",
       "1492                                         -  \n",
       "1732                                         -  \n",
       "\n",
       "[76 rows x 6 columns]"
      ],
      "text/html": "<div>\n<style scoped>\n    .dataframe tbody tr th:only-of-type {\n        vertical-align: middle;\n    }\n\n    .dataframe tbody tr th {\n        vertical-align: top;\n    }\n\n    .dataframe thead th {\n        text-align: right;\n    }\n</style>\n<table border=\"1\" class=\"dataframe\">\n  <thead>\n    <tr style=\"text-align: right;\">\n      <th></th>\n      <th>EU #</th>\n      <th>Product</th>\n      <th>Indication</th>\n      <th>Sponsor</th>\n      <th>Designation date</th>\n      <th>Tradename - EU product # - Implemented on</th>\n    </tr>\n  </thead>\n  <tbody>\n    <tr>\n      <th>0</th>\n      <td>EU/3/20/2351</td>\n      <td>Adeno-associated virus serotype 5 containing t...</td>\n      <td>Treatment of RDH12 mutation associated retinal...</td>\n      <td>MeiraGTx B.V.</td>\n      <td>19 Oct 2020</td>\n      <td>-</td>\n    </tr>\n    <tr>\n      <th>1</th>\n      <td>EU/3/20/2350</td>\n      <td>Poly(oxy-1,2-ethanediyl), alpha-hydro-omega-me...</td>\n      <td>Treatment of hypoparathyroidism</td>\n      <td>Ascendis Pharma Bone Diseases A/S</td>\n      <td>19 Oct 2020</td>\n      <td>-</td>\n    </tr>\n    <tr>\n      <th>2</th>\n      <td>EU/3/20/2349</td>\n      <td>Miglustat</td>\n      <td>Treatment of neuronal ceroid lipofuscinosis</td>\n      <td>Theranexus S.A.S.</td>\n      <td>19 Oct 2020</td>\n      <td>-</td>\n    </tr>\n    <tr>\n      <th>3</th>\n      <td>EU/3/20/2348</td>\n      <td>Poly(oxy-1,2-ethanediyl), alpha-(carboxymethyl...</td>\n      <td>Treatment of homocystinuria</td>\n      <td>Aeglea Biotherapeutics UK Limited</td>\n      <td>19 Oct 2020</td>\n      <td>-</td>\n    </tr>\n    <tr>\n      <th>4</th>\n      <td>EU/3/20/2347</td>\n      <td>Trehalose</td>\n      <td>Treatment of neuronal ceroid lipofuscinosis</td>\n      <td>Theranexus S.A.S.</td>\n      <td>19 Oct 2020</td>\n      <td>-</td>\n    </tr>\n    <tr>\n      <th>...</th>\n      <td>...</td>\n      <td>...</td>\n      <td>...</td>\n      <td>...</td>\n      <td>...</td>\n      <td>...</td>\n    </tr>\n    <tr>\n      <th>1278</th>\n      <td>EU/3/11/878</td>\n      <td>Allogeneic T cells encoding an exogenous TK gene</td>\n      <td>Treatment of acute lymphoblastic leukaemia</td>\n      <td>LTKFarma</td>\n      <td>21 Jun 2011</td>\n      <td>-</td>\n    </tr>\n    <tr>\n      <th>1300</th>\n      <td>EU/3/10/846</td>\n      <td>Paclitaxel (aqueous gel)</td>\n      <td>Treatment of oesophagus carcinoma</td>\n      <td>BTG plc</td>\n      <td>23 Feb 2011</td>\n      <td>-</td>\n    </tr>\n    <tr>\n      <th>1316</th>\n      <td>EU/3/10/822</td>\n      <td>Lentiviral vector carrying the Fanconi anaemia...</td>\n      <td>Treatment of Fanconi anaemia type A</td>\n      <td>Consorcio Centro de Investigación Biomédica en...</td>\n      <td>17 Dec 2010</td>\n      <td>-</td>\n    </tr>\n    <tr>\n      <th>1492</th>\n      <td>EU/3/08/544</td>\n      <td>Omigapil maleate</td>\n      <td>Treatment of congenital muscular dystrophy wit...</td>\n      <td>Santhera Pharmaceuticals (Deutschland) GmbH</td>\n      <td>08 May 2008</td>\n      <td>-</td>\n    </tr>\n    <tr>\n      <th>1732</th>\n      <td>EU/3/01/049</td>\n      <td>Ramoplanin</td>\n      <td>Prevention of invasive infections due to Vanco...</td>\n      <td>Vicuron Pharmaceuticals Italy srl,</td>\n      <td>09 Jul 2001</td>\n      <td>-</td>\n    </tr>\n  </tbody>\n</table>\n<p>76 rows × 6 columns</p>\n</div>"
     },
     "metadata": {},
     "execution_count": 9
    }
   ],
   "source": [
    "# Get identified EU #\n",
    "inner_eu_numbers = inner_data['EU #'].unique()\n",
    "\n",
    "# Mask EC data for nonidentified entries\n",
    "mask = ec_data['EU #'].isin(inner_eu_numbers)\n",
    "outer_ec_data = ec_data[~mask]\n",
    "outer_ec_data"
   ]
  },
  {
   "source": [
    "### 2.1 Time distribution"
   ],
   "cell_type": "markdown",
   "metadata": {}
  },
  {
   "cell_type": "code",
   "execution_count": 10,
   "metadata": {},
   "outputs": [
    {
     "output_type": "display_data",
     "data": {
      "application/vnd.plotly.v1+json": {
       "config": {
        "plotlyServerURL": "https://plot.ly"
       },
       "data": [
        {
         "marker": {
          "line": {
           "color": "#636EFA",
           "width": 1
          }
         },
         "type": "scatter",
         "x": [
          2001,
          2008,
          2010,
          2011,
          2013,
          2014,
          2015,
          2016,
          2019
         ],
         "y": [
          1,
          1,
          1,
          2,
          1,
          11,
          1,
          2,
          7
         ]
        }
       ],
       "layout": {
        "template": {
         "data": {
          "bar": [
           {
            "error_x": {
             "color": "#2a3f5f"
            },
            "error_y": {
             "color": "#2a3f5f"
            },
            "marker": {
             "line": {
              "color": "white",
              "width": 0.5
             }
            },
            "type": "bar"
           }
          ],
          "barpolar": [
           {
            "marker": {
             "line": {
              "color": "white",
              "width": 0.5
             }
            },
            "type": "barpolar"
           }
          ],
          "carpet": [
           {
            "aaxis": {
             "endlinecolor": "#2a3f5f",
             "gridcolor": "#C8D4E3",
             "linecolor": "#C8D4E3",
             "minorgridcolor": "#C8D4E3",
             "startlinecolor": "#2a3f5f"
            },
            "baxis": {
             "endlinecolor": "#2a3f5f",
             "gridcolor": "#C8D4E3",
             "linecolor": "#C8D4E3",
             "minorgridcolor": "#C8D4E3",
             "startlinecolor": "#2a3f5f"
            },
            "type": "carpet"
           }
          ],
          "choropleth": [
           {
            "colorbar": {
             "outlinewidth": 0,
             "ticks": ""
            },
            "type": "choropleth"
           }
          ],
          "contour": [
           {
            "colorbar": {
             "outlinewidth": 0,
             "ticks": ""
            },
            "colorscale": [
             [
              0,
              "#0d0887"
             ],
             [
              0.1111111111111111,
              "#46039f"
             ],
             [
              0.2222222222222222,
              "#7201a8"
             ],
             [
              0.3333333333333333,
              "#9c179e"
             ],
             [
              0.4444444444444444,
              "#bd3786"
             ],
             [
              0.5555555555555556,
              "#d8576b"
             ],
             [
              0.6666666666666666,
              "#ed7953"
             ],
             [
              0.7777777777777778,
              "#fb9f3a"
             ],
             [
              0.8888888888888888,
              "#fdca26"
             ],
             [
              1,
              "#f0f921"
             ]
            ],
            "type": "contour"
           }
          ],
          "contourcarpet": [
           {
            "colorbar": {
             "outlinewidth": 0,
             "ticks": ""
            },
            "type": "contourcarpet"
           }
          ],
          "heatmap": [
           {
            "colorbar": {
             "outlinewidth": 0,
             "ticks": ""
            },
            "colorscale": [
             [
              0,
              "#0d0887"
             ],
             [
              0.1111111111111111,
              "#46039f"
             ],
             [
              0.2222222222222222,
              "#7201a8"
             ],
             [
              0.3333333333333333,
              "#9c179e"
             ],
             [
              0.4444444444444444,
              "#bd3786"
             ],
             [
              0.5555555555555556,
              "#d8576b"
             ],
             [
              0.6666666666666666,
              "#ed7953"
             ],
             [
              0.7777777777777778,
              "#fb9f3a"
             ],
             [
              0.8888888888888888,
              "#fdca26"
             ],
             [
              1,
              "#f0f921"
             ]
            ],
            "type": "heatmap"
           }
          ],
          "heatmapgl": [
           {
            "colorbar": {
             "outlinewidth": 0,
             "ticks": ""
            },
            "colorscale": [
             [
              0,
              "#0d0887"
             ],
             [
              0.1111111111111111,
              "#46039f"
             ],
             [
              0.2222222222222222,
              "#7201a8"
             ],
             [
              0.3333333333333333,
              "#9c179e"
             ],
             [
              0.4444444444444444,
              "#bd3786"
             ],
             [
              0.5555555555555556,
              "#d8576b"
             ],
             [
              0.6666666666666666,
              "#ed7953"
             ],
             [
              0.7777777777777778,
              "#fb9f3a"
             ],
             [
              0.8888888888888888,
              "#fdca26"
             ],
             [
              1,
              "#f0f921"
             ]
            ],
            "type": "heatmapgl"
           }
          ],
          "histogram": [
           {
            "marker": {
             "colorbar": {
              "outlinewidth": 0,
              "ticks": ""
             }
            },
            "type": "histogram"
           }
          ],
          "histogram2d": [
           {
            "colorbar": {
             "outlinewidth": 0,
             "ticks": ""
            },
            "colorscale": [
             [
              0,
              "#0d0887"
             ],
             [
              0.1111111111111111,
              "#46039f"
             ],
             [
              0.2222222222222222,
              "#7201a8"
             ],
             [
              0.3333333333333333,
              "#9c179e"
             ],
             [
              0.4444444444444444,
              "#bd3786"
             ],
             [
              0.5555555555555556,
              "#d8576b"
             ],
             [
              0.6666666666666666,
              "#ed7953"
             ],
             [
              0.7777777777777778,
              "#fb9f3a"
             ],
             [
              0.8888888888888888,
              "#fdca26"
             ],
             [
              1,
              "#f0f921"
             ]
            ],
            "type": "histogram2d"
           }
          ],
          "histogram2dcontour": [
           {
            "colorbar": {
             "outlinewidth": 0,
             "ticks": ""
            },
            "colorscale": [
             [
              0,
              "#0d0887"
             ],
             [
              0.1111111111111111,
              "#46039f"
             ],
             [
              0.2222222222222222,
              "#7201a8"
             ],
             [
              0.3333333333333333,
              "#9c179e"
             ],
             [
              0.4444444444444444,
              "#bd3786"
             ],
             [
              0.5555555555555556,
              "#d8576b"
             ],
             [
              0.6666666666666666,
              "#ed7953"
             ],
             [
              0.7777777777777778,
              "#fb9f3a"
             ],
             [
              0.8888888888888888,
              "#fdca26"
             ],
             [
              1,
              "#f0f921"
             ]
            ],
            "type": "histogram2dcontour"
           }
          ],
          "mesh3d": [
           {
            "colorbar": {
             "outlinewidth": 0,
             "ticks": ""
            },
            "type": "mesh3d"
           }
          ],
          "parcoords": [
           {
            "line": {
             "colorbar": {
              "outlinewidth": 0,
              "ticks": ""
             }
            },
            "type": "parcoords"
           }
          ],
          "pie": [
           {
            "automargin": true,
            "type": "pie"
           }
          ],
          "scatter": [
           {
            "marker": {
             "colorbar": {
              "outlinewidth": 0,
              "ticks": ""
             }
            },
            "type": "scatter"
           }
          ],
          "scatter3d": [
           {
            "line": {
             "colorbar": {
              "outlinewidth": 0,
              "ticks": ""
             }
            },
            "marker": {
             "colorbar": {
              "outlinewidth": 0,
              "ticks": ""
             }
            },
            "type": "scatter3d"
           }
          ],
          "scattercarpet": [
           {
            "marker": {
             "colorbar": {
              "outlinewidth": 0,
              "ticks": ""
             }
            },
            "type": "scattercarpet"
           }
          ],
          "scattergeo": [
           {
            "marker": {
             "colorbar": {
              "outlinewidth": 0,
              "ticks": ""
             }
            },
            "type": "scattergeo"
           }
          ],
          "scattergl": [
           {
            "marker": {
             "colorbar": {
              "outlinewidth": 0,
              "ticks": ""
             }
            },
            "type": "scattergl"
           }
          ],
          "scattermapbox": [
           {
            "marker": {
             "colorbar": {
              "outlinewidth": 0,
              "ticks": ""
             }
            },
            "type": "scattermapbox"
           }
          ],
          "scatterpolar": [
           {
            "marker": {
             "colorbar": {
              "outlinewidth": 0,
              "ticks": ""
             }
            },
            "type": "scatterpolar"
           }
          ],
          "scatterpolargl": [
           {
            "marker": {
             "colorbar": {
              "outlinewidth": 0,
              "ticks": ""
             }
            },
            "type": "scatterpolargl"
           }
          ],
          "scatterternary": [
           {
            "marker": {
             "colorbar": {
              "outlinewidth": 0,
              "ticks": ""
             }
            },
            "type": "scatterternary"
           }
          ],
          "surface": [
           {
            "colorbar": {
             "outlinewidth": 0,
             "ticks": ""
            },
            "colorscale": [
             [
              0,
              "#0d0887"
             ],
             [
              0.1111111111111111,
              "#46039f"
             ],
             [
              0.2222222222222222,
              "#7201a8"
             ],
             [
              0.3333333333333333,
              "#9c179e"
             ],
             [
              0.4444444444444444,
              "#bd3786"
             ],
             [
              0.5555555555555556,
              "#d8576b"
             ],
             [
              0.6666666666666666,
              "#ed7953"
             ],
             [
              0.7777777777777778,
              "#fb9f3a"
             ],
             [
              0.8888888888888888,
              "#fdca26"
             ],
             [
              1,
              "#f0f921"
             ]
            ],
            "type": "surface"
           }
          ],
          "table": [
           {
            "cells": {
             "fill": {
              "color": "#EBF0F8"
             },
             "line": {
              "color": "white"
             }
            },
            "header": {
             "fill": {
              "color": "#C8D4E3"
             },
             "line": {
              "color": "white"
             }
            },
            "type": "table"
           }
          ]
         },
         "layout": {
          "annotationdefaults": {
           "arrowcolor": "#2a3f5f",
           "arrowhead": 0,
           "arrowwidth": 1
          },
          "coloraxis": {
           "colorbar": {
            "outlinewidth": 0,
            "ticks": ""
           }
          },
          "colorscale": {
           "diverging": [
            [
             0,
             "#8e0152"
            ],
            [
             0.1,
             "#c51b7d"
            ],
            [
             0.2,
             "#de77ae"
            ],
            [
             0.3,
             "#f1b6da"
            ],
            [
             0.4,
             "#fde0ef"
            ],
            [
             0.5,
             "#f7f7f7"
            ],
            [
             0.6,
             "#e6f5d0"
            ],
            [
             0.7,
             "#b8e186"
            ],
            [
             0.8,
             "#7fbc41"
            ],
            [
             0.9,
             "#4d9221"
            ],
            [
             1,
             "#276419"
            ]
           ],
           "sequential": [
            [
             0,
             "#0d0887"
            ],
            [
             0.1111111111111111,
             "#46039f"
            ],
            [
             0.2222222222222222,
             "#7201a8"
            ],
            [
             0.3333333333333333,
             "#9c179e"
            ],
            [
             0.4444444444444444,
             "#bd3786"
            ],
            [
             0.5555555555555556,
             "#d8576b"
            ],
            [
             0.6666666666666666,
             "#ed7953"
            ],
            [
             0.7777777777777778,
             "#fb9f3a"
            ],
            [
             0.8888888888888888,
             "#fdca26"
            ],
            [
             1,
             "#f0f921"
            ]
           ],
           "sequentialminus": [
            [
             0,
             "#0d0887"
            ],
            [
             0.1111111111111111,
             "#46039f"
            ],
            [
             0.2222222222222222,
             "#7201a8"
            ],
            [
             0.3333333333333333,
             "#9c179e"
            ],
            [
             0.4444444444444444,
             "#bd3786"
            ],
            [
             0.5555555555555556,
             "#d8576b"
            ],
            [
             0.6666666666666666,
             "#ed7953"
            ],
            [
             0.7777777777777778,
             "#fb9f3a"
            ],
            [
             0.8888888888888888,
             "#fdca26"
            ],
            [
             1,
             "#f0f921"
            ]
           ]
          },
          "colorway": [
           "#636efa",
           "#EF553B",
           "#00cc96",
           "#ab63fa",
           "#FFA15A",
           "#19d3f3",
           "#FF6692",
           "#B6E880",
           "#FF97FF",
           "#FECB52"
          ],
          "font": {
           "color": "#2a3f5f"
          },
          "geo": {
           "bgcolor": "white",
           "lakecolor": "white",
           "landcolor": "white",
           "showlakes": true,
           "showland": true,
           "subunitcolor": "#C8D4E3"
          },
          "hoverlabel": {
           "align": "left"
          },
          "hovermode": "closest",
          "mapbox": {
           "style": "light"
          },
          "paper_bgcolor": "white",
          "plot_bgcolor": "white",
          "polar": {
           "angularaxis": {
            "gridcolor": "#EBF0F8",
            "linecolor": "#EBF0F8",
            "ticks": ""
           },
           "bgcolor": "white",
           "radialaxis": {
            "gridcolor": "#EBF0F8",
            "linecolor": "#EBF0F8",
            "ticks": ""
           }
          },
          "scene": {
           "xaxis": {
            "backgroundcolor": "white",
            "gridcolor": "#DFE8F3",
            "gridwidth": 2,
            "linecolor": "#EBF0F8",
            "showbackground": true,
            "ticks": "",
            "zerolinecolor": "#EBF0F8"
           },
           "yaxis": {
            "backgroundcolor": "white",
            "gridcolor": "#DFE8F3",
            "gridwidth": 2,
            "linecolor": "#EBF0F8",
            "showbackground": true,
            "ticks": "",
            "zerolinecolor": "#EBF0F8"
           },
           "zaxis": {
            "backgroundcolor": "white",
            "gridcolor": "#DFE8F3",
            "gridwidth": 2,
            "linecolor": "#EBF0F8",
            "showbackground": true,
            "ticks": "",
            "zerolinecolor": "#EBF0F8"
           }
          },
          "shapedefaults": {
           "line": {
            "color": "#2a3f5f"
           }
          },
          "ternary": {
           "aaxis": {
            "gridcolor": "#DFE8F3",
            "linecolor": "#A2B1C6",
            "ticks": ""
           },
           "baxis": {
            "gridcolor": "#DFE8F3",
            "linecolor": "#A2B1C6",
            "ticks": ""
           },
           "bgcolor": "white",
           "caxis": {
            "gridcolor": "#DFE8F3",
            "linecolor": "#A2B1C6",
            "ticks": ""
           }
          },
          "title": {
           "x": 0.05
          },
          "xaxis": {
           "automargin": true,
           "gridcolor": "#EBF0F8",
           "linecolor": "#EBF0F8",
           "ticks": "",
           "title": {
            "standoff": 15
           },
           "zerolinecolor": "#EBF0F8",
           "zerolinewidth": 2
          },
          "yaxis": {
           "automargin": true,
           "gridcolor": "#EBF0F8",
           "linecolor": "#EBF0F8",
           "ticks": "",
           "title": {
            "standoff": 15
           },
           "zerolinecolor": "#EBF0F8",
           "zerolinewidth": 2
          }
         }
        },
        "xaxis": {
         "title": {
          "text": "Year"
         }
        },
        "yaxis": {
         "title": {
          "text": "Number of designations"
         }
        }
       }
      }
     },
     "metadata": {}
    }
   ],
   "source": [
    "# Create container for time data\n",
    "time_evolution = pd.DataFrame(columns={'Year', 'Number of designations'})\n",
    "\n",
    "# Group data by year\n",
    "years = pd.to_datetime(\n",
    "    outer_ec_data['Designation date']).apply(lambda x: x.year)\n",
    "for year in years.dropna().unique():\n",
    "    # Ignore 2000 and 2020\n",
    "    if (year == 2000) or (year == 2020):\n",
    "        continue\n",
    "\n",
    "    # Get outcomes for that year\n",
    "    mask = years == year\n",
    "    n_designations = years[mask].count()\n",
    "    \n",
    "    # Append to main container\n",
    "    time_evolution = time_evolution.append(pd.DataFrame({\n",
    "        'Year': [year],\n",
    "        'Number of designations': [n_designations]}))\n",
    "\n",
    "# Sort by time\n",
    "time_evolution.sort_values(by='Year', inplace=True)\n",
    "\n",
    "# Create line plot\n",
    "fig = go.Figure()\n",
    "colour = plotly.colors.qualitative.Plotly[0]\n",
    "\n",
    "fig.add_trace(go.Scatter(\n",
    "    x=time_evolution['Year'],\n",
    "    y=time_evolution['Number of designations'],\n",
    "    marker=dict(\n",
    "        line=dict(color=colour, width=1))))\n",
    "\n",
    "# Set axes and template\n",
    "fig.update_layout(\n",
    "    template=\"plotly_white\",\n",
    "    xaxis_title='Year',\n",
    "    yaxis_title='Number of designations')\n",
    "\n",
    "fig.show()"
   ]
  },
  {
   "source": [
    "**Figure 2:** Number of designations in the EC registry that could not be sorted to applications in the EMA registry."
   ],
   "cell_type": "markdown",
   "metadata": {}
  },
  {
   "source": [
    "## 3. Which EMA applications cannot be identified in the EC registry?"
   ],
   "cell_type": "markdown",
   "metadata": {}
  },
  {
   "cell_type": "code",
   "execution_count": 11,
   "metadata": {},
   "outputs": [
    {
     "output_type": "execute_result",
     "data": {
      "text/plain": [
       "     Medicine name                                   Active substance  \\\n",
       "2              NaN                              Sodium phenylbutyrate   \n",
       "4              NaN                  Pegylated recombinant factor VIIa   \n",
       "5              NaN         Monoclonal antibody to human interleukin-6   \n",
       "6              NaN  Adeno-associated viral vector serotype 8 conta...   \n",
       "7              NaN                                         Elotuzumab   \n",
       "...            ...                                                ...   \n",
       "2302           NaN                                         somatropin   \n",
       "2308           NaN  Adeno-associated virus serotype rh74 containin...   \n",
       "2309    Bosatria,                                         Mepolizumab   \n",
       "2310           NaN                                        Mepolizumab   \n",
       "2311           NaN  Humanised monoclonal antibody against myostati...   \n",
       "\n",
       "     Agency product number Date of first decision  \\\n",
       "2                      NaN    2012-02-09 02:00:00   \n",
       "4                      NaN    2008-06-03 02:00:00   \n",
       "5                      NaN    2002-12-18 02:00:00   \n",
       "6                      NaN    2011-12-09 02:00:00   \n",
       "7                      NaN    2012-08-09 02:00:00   \n",
       "...                    ...                    ...   \n",
       "2302                   NaN    2000-08-08 00:00:00   \n",
       "2308                   NaN    2020-02-28 01:00:00   \n",
       "2309       EMEA/H/C/001069    2004-07-29 00:00:00   \n",
       "2310                   NaN    2013-03-12 01:00:00   \n",
       "2311                   NaN    2013-02-08 01:00:00   \n",
       "\n",
       "                                    Disease / condition EU designation number  \\\n",
       "2     Treatment of ornithine-transcarbamylase defici...           EU/3/12/950   \n",
       "4                            Treatment of haemophilia B           EU/3/08/552   \n",
       "5     Treatment of post-transplantation lymphoprolif...           EU/3/02/125   \n",
       "6      Treatment of Leber's congenital amaurosis type 4           EU/3/11/929   \n",
       "7                         Treatment of multiple myeloma          EU/3/12/1037   \n",
       "...                                                 ...                   ...   \n",
       "2302                                       AIDS wasting           EU/3/00/001   \n",
       "2308           Treatment of Duchenne muscular dystrophy         EU/3/20/2250    \n",
       "2309            Treatment of hypereosinophilic syndrome           EU/3/04/213   \n",
       "2310                Treatment of Churg-Strauss syndrome          EU/3/13/1116   \n",
       "2311           Treatment of Duchenne muscular dystrophy          EU/3/13/1105   \n",
       "\n",
       "     Status of orphan designation     First published       Revision date  \\\n",
       "2                       Withdrawn 2012-03-01 13:45:00 2013-10-09 16:00:00   \n",
       "4                       Withdrawn 2008-08-18 02:09:21 2015-03-06 16:00:00   \n",
       "5                       Withdrawn 2008-08-18 02:00:00 2010-02-22 01:00:00   \n",
       "6                       Withdrawn 2011-12-20 18:55:00 2015-03-06 16:00:00   \n",
       "7                       Withdrawn 2012-09-26 16:45:00 2016-05-23 12:45:00   \n",
       "...                           ...                 ...                 ...   \n",
       "2302                    Withdrawn 2009-03-03 02:09:00 2020-10-15 10:15:00   \n",
       "2308                     Positive 2020-05-05 17:27:00 2020-10-22 14:24:00   \n",
       "2309                    Withdrawn 2009-09-23 02:09:00 2020-10-23 09:47:00   \n",
       "2310                    Withdrawn 2013-04-05 16:50:00 2020-10-23 09:50:00   \n",
       "2311                    Withdrawn 2013-03-04 12:30:00 2020-10-23 11:30:00   \n",
       "\n",
       "                                                    URL  \n",
       "2     https://www.ema.europa.eu/en/medicines/human/o...  \n",
       "4     https://www.ema.europa.eu/en/medicines/human/o...  \n",
       "5     https://www.ema.europa.eu/en/medicines/human/o...  \n",
       "6     https://www.ema.europa.eu/en/medicines/human/o...  \n",
       "7     https://www.ema.europa.eu/en/medicines/human/o...  \n",
       "...                                                 ...  \n",
       "2302  https://www.ema.europa.eu/en/medicines/human/o...  \n",
       "2308  https://www.ema.europa.eu/en/medicines/human/o...  \n",
       "2309  https://www.ema.europa.eu/en/medicines/human/o...  \n",
       "2310  https://www.ema.europa.eu/en/medicines/human/o...  \n",
       "2311  https://www.ema.europa.eu/en/medicines/human/o...  \n",
       "\n",
       "[659 rows x 10 columns]"
      ],
      "text/html": "<div>\n<style scoped>\n    .dataframe tbody tr th:only-of-type {\n        vertical-align: middle;\n    }\n\n    .dataframe tbody tr th {\n        vertical-align: top;\n    }\n\n    .dataframe thead th {\n        text-align: right;\n    }\n</style>\n<table border=\"1\" class=\"dataframe\">\n  <thead>\n    <tr style=\"text-align: right;\">\n      <th></th>\n      <th>Medicine name</th>\n      <th>Active substance</th>\n      <th>Agency product number</th>\n      <th>Date of first decision</th>\n      <th>Disease / condition</th>\n      <th>EU designation number</th>\n      <th>Status of orphan designation</th>\n      <th>First published</th>\n      <th>Revision date</th>\n      <th>URL</th>\n    </tr>\n  </thead>\n  <tbody>\n    <tr>\n      <th>2</th>\n      <td>NaN</td>\n      <td>Sodium phenylbutyrate</td>\n      <td>NaN</td>\n      <td>2012-02-09 02:00:00</td>\n      <td>Treatment of ornithine-transcarbamylase defici...</td>\n      <td>EU/3/12/950</td>\n      <td>Withdrawn</td>\n      <td>2012-03-01 13:45:00</td>\n      <td>2013-10-09 16:00:00</td>\n      <td>https://www.ema.europa.eu/en/medicines/human/o...</td>\n    </tr>\n    <tr>\n      <th>4</th>\n      <td>NaN</td>\n      <td>Pegylated recombinant factor VIIa</td>\n      <td>NaN</td>\n      <td>2008-06-03 02:00:00</td>\n      <td>Treatment of haemophilia B</td>\n      <td>EU/3/08/552</td>\n      <td>Withdrawn</td>\n      <td>2008-08-18 02:09:21</td>\n      <td>2015-03-06 16:00:00</td>\n      <td>https://www.ema.europa.eu/en/medicines/human/o...</td>\n    </tr>\n    <tr>\n      <th>5</th>\n      <td>NaN</td>\n      <td>Monoclonal antibody to human interleukin-6</td>\n      <td>NaN</td>\n      <td>2002-12-18 02:00:00</td>\n      <td>Treatment of post-transplantation lymphoprolif...</td>\n      <td>EU/3/02/125</td>\n      <td>Withdrawn</td>\n      <td>2008-08-18 02:00:00</td>\n      <td>2010-02-22 01:00:00</td>\n      <td>https://www.ema.europa.eu/en/medicines/human/o...</td>\n    </tr>\n    <tr>\n      <th>6</th>\n      <td>NaN</td>\n      <td>Adeno-associated viral vector serotype 8 conta...</td>\n      <td>NaN</td>\n      <td>2011-12-09 02:00:00</td>\n      <td>Treatment of Leber's congenital amaurosis type 4</td>\n      <td>EU/3/11/929</td>\n      <td>Withdrawn</td>\n      <td>2011-12-20 18:55:00</td>\n      <td>2015-03-06 16:00:00</td>\n      <td>https://www.ema.europa.eu/en/medicines/human/o...</td>\n    </tr>\n    <tr>\n      <th>7</th>\n      <td>NaN</td>\n      <td>Elotuzumab</td>\n      <td>NaN</td>\n      <td>2012-08-09 02:00:00</td>\n      <td>Treatment of multiple myeloma</td>\n      <td>EU/3/12/1037</td>\n      <td>Withdrawn</td>\n      <td>2012-09-26 16:45:00</td>\n      <td>2016-05-23 12:45:00</td>\n      <td>https://www.ema.europa.eu/en/medicines/human/o...</td>\n    </tr>\n    <tr>\n      <th>...</th>\n      <td>...</td>\n      <td>...</td>\n      <td>...</td>\n      <td>...</td>\n      <td>...</td>\n      <td>...</td>\n      <td>...</td>\n      <td>...</td>\n      <td>...</td>\n      <td>...</td>\n    </tr>\n    <tr>\n      <th>2302</th>\n      <td>NaN</td>\n      <td>somatropin</td>\n      <td>NaN</td>\n      <td>2000-08-08 00:00:00</td>\n      <td>AIDS wasting</td>\n      <td>EU/3/00/001</td>\n      <td>Withdrawn</td>\n      <td>2009-03-03 02:09:00</td>\n      <td>2020-10-15 10:15:00</td>\n      <td>https://www.ema.europa.eu/en/medicines/human/o...</td>\n    </tr>\n    <tr>\n      <th>2308</th>\n      <td>NaN</td>\n      <td>Adeno-associated virus serotype rh74 containin...</td>\n      <td>NaN</td>\n      <td>2020-02-28 01:00:00</td>\n      <td>Treatment of Duchenne muscular dystrophy</td>\n      <td>EU/3/20/2250</td>\n      <td>Positive</td>\n      <td>2020-05-05 17:27:00</td>\n      <td>2020-10-22 14:24:00</td>\n      <td>https://www.ema.europa.eu/en/medicines/human/o...</td>\n    </tr>\n    <tr>\n      <th>2309</th>\n      <td>Bosatria,</td>\n      <td>Mepolizumab</td>\n      <td>EMEA/H/C/001069</td>\n      <td>2004-07-29 00:00:00</td>\n      <td>Treatment of hypereosinophilic syndrome</td>\n      <td>EU/3/04/213</td>\n      <td>Withdrawn</td>\n      <td>2009-09-23 02:09:00</td>\n      <td>2020-10-23 09:47:00</td>\n      <td>https://www.ema.europa.eu/en/medicines/human/o...</td>\n    </tr>\n    <tr>\n      <th>2310</th>\n      <td>NaN</td>\n      <td>Mepolizumab</td>\n      <td>NaN</td>\n      <td>2013-03-12 01:00:00</td>\n      <td>Treatment of Churg-Strauss syndrome</td>\n      <td>EU/3/13/1116</td>\n      <td>Withdrawn</td>\n      <td>2013-04-05 16:50:00</td>\n      <td>2020-10-23 09:50:00</td>\n      <td>https://www.ema.europa.eu/en/medicines/human/o...</td>\n    </tr>\n    <tr>\n      <th>2311</th>\n      <td>NaN</td>\n      <td>Humanised monoclonal antibody against myostati...</td>\n      <td>NaN</td>\n      <td>2013-02-08 01:00:00</td>\n      <td>Treatment of Duchenne muscular dystrophy</td>\n      <td>EU/3/13/1105</td>\n      <td>Withdrawn</td>\n      <td>2013-03-04 12:30:00</td>\n      <td>2020-10-23 11:30:00</td>\n      <td>https://www.ema.europa.eu/en/medicines/human/o...</td>\n    </tr>\n  </tbody>\n</table>\n<p>659 rows × 10 columns</p>\n</div>"
     },
     "metadata": {},
     "execution_count": 11
    }
   ],
   "source": [
    "# Get identified EU #\n",
    "inner_eu_numbers = inner_data['EU #'].unique()\n",
    "\n",
    "# Mask EC data for nonidentified entries\n",
    "mask = ema_data['EU designation number'].isin(inner_eu_numbers)\n",
    "outer_ema_data = ema_data[~mask]\n",
    "outer_ema_data"
   ]
  },
  {
   "source": [
    "### 3.1 Outcome of EMA applications which are not in the EC registry"
   ],
   "cell_type": "markdown",
   "metadata": {}
  },
  {
   "cell_type": "code",
   "execution_count": 14,
   "metadata": {},
   "outputs": [
    {
     "output_type": "display_data",
     "data": {
      "application/vnd.plotly.v1+json": {
       "config": {
        "plotlyServerURL": "https://plot.ly"
       },
       "data": [
        {
         "labels": [
          "Positive",
          "Negative",
          "Withdrawn",
          "Expired"
         ],
         "marker": {
          "colors": [
           "#636EFA",
           "#EF553B",
           "#00CC96",
           "#AB63FA"
          ],
          "line": {
           "color": "#000000",
           "width": 1
          }
         },
         "pull": [
          0.1,
          0,
          0
         ],
         "sort": false,
         "type": "pie",
         "values": [
          31,
          30,
          542,
          56
         ]
        }
       ],
       "layout": {
        "template": {
         "data": {
          "bar": [
           {
            "error_x": {
             "color": "#2a3f5f"
            },
            "error_y": {
             "color": "#2a3f5f"
            },
            "marker": {
             "line": {
              "color": "#E5ECF6",
              "width": 0.5
             }
            },
            "type": "bar"
           }
          ],
          "barpolar": [
           {
            "marker": {
             "line": {
              "color": "#E5ECF6",
              "width": 0.5
             }
            },
            "type": "barpolar"
           }
          ],
          "carpet": [
           {
            "aaxis": {
             "endlinecolor": "#2a3f5f",
             "gridcolor": "white",
             "linecolor": "white",
             "minorgridcolor": "white",
             "startlinecolor": "#2a3f5f"
            },
            "baxis": {
             "endlinecolor": "#2a3f5f",
             "gridcolor": "white",
             "linecolor": "white",
             "minorgridcolor": "white",
             "startlinecolor": "#2a3f5f"
            },
            "type": "carpet"
           }
          ],
          "choropleth": [
           {
            "colorbar": {
             "outlinewidth": 0,
             "ticks": ""
            },
            "type": "choropleth"
           }
          ],
          "contour": [
           {
            "colorbar": {
             "outlinewidth": 0,
             "ticks": ""
            },
            "colorscale": [
             [
              0,
              "#0d0887"
             ],
             [
              0.1111111111111111,
              "#46039f"
             ],
             [
              0.2222222222222222,
              "#7201a8"
             ],
             [
              0.3333333333333333,
              "#9c179e"
             ],
             [
              0.4444444444444444,
              "#bd3786"
             ],
             [
              0.5555555555555556,
              "#d8576b"
             ],
             [
              0.6666666666666666,
              "#ed7953"
             ],
             [
              0.7777777777777778,
              "#fb9f3a"
             ],
             [
              0.8888888888888888,
              "#fdca26"
             ],
             [
              1,
              "#f0f921"
             ]
            ],
            "type": "contour"
           }
          ],
          "contourcarpet": [
           {
            "colorbar": {
             "outlinewidth": 0,
             "ticks": ""
            },
            "type": "contourcarpet"
           }
          ],
          "heatmap": [
           {
            "colorbar": {
             "outlinewidth": 0,
             "ticks": ""
            },
            "colorscale": [
             [
              0,
              "#0d0887"
             ],
             [
              0.1111111111111111,
              "#46039f"
             ],
             [
              0.2222222222222222,
              "#7201a8"
             ],
             [
              0.3333333333333333,
              "#9c179e"
             ],
             [
              0.4444444444444444,
              "#bd3786"
             ],
             [
              0.5555555555555556,
              "#d8576b"
             ],
             [
              0.6666666666666666,
              "#ed7953"
             ],
             [
              0.7777777777777778,
              "#fb9f3a"
             ],
             [
              0.8888888888888888,
              "#fdca26"
             ],
             [
              1,
              "#f0f921"
             ]
            ],
            "type": "heatmap"
           }
          ],
          "heatmapgl": [
           {
            "colorbar": {
             "outlinewidth": 0,
             "ticks": ""
            },
            "colorscale": [
             [
              0,
              "#0d0887"
             ],
             [
              0.1111111111111111,
              "#46039f"
             ],
             [
              0.2222222222222222,
              "#7201a8"
             ],
             [
              0.3333333333333333,
              "#9c179e"
             ],
             [
              0.4444444444444444,
              "#bd3786"
             ],
             [
              0.5555555555555556,
              "#d8576b"
             ],
             [
              0.6666666666666666,
              "#ed7953"
             ],
             [
              0.7777777777777778,
              "#fb9f3a"
             ],
             [
              0.8888888888888888,
              "#fdca26"
             ],
             [
              1,
              "#f0f921"
             ]
            ],
            "type": "heatmapgl"
           }
          ],
          "histogram": [
           {
            "marker": {
             "colorbar": {
              "outlinewidth": 0,
              "ticks": ""
             }
            },
            "type": "histogram"
           }
          ],
          "histogram2d": [
           {
            "colorbar": {
             "outlinewidth": 0,
             "ticks": ""
            },
            "colorscale": [
             [
              0,
              "#0d0887"
             ],
             [
              0.1111111111111111,
              "#46039f"
             ],
             [
              0.2222222222222222,
              "#7201a8"
             ],
             [
              0.3333333333333333,
              "#9c179e"
             ],
             [
              0.4444444444444444,
              "#bd3786"
             ],
             [
              0.5555555555555556,
              "#d8576b"
             ],
             [
              0.6666666666666666,
              "#ed7953"
             ],
             [
              0.7777777777777778,
              "#fb9f3a"
             ],
             [
              0.8888888888888888,
              "#fdca26"
             ],
             [
              1,
              "#f0f921"
             ]
            ],
            "type": "histogram2d"
           }
          ],
          "histogram2dcontour": [
           {
            "colorbar": {
             "outlinewidth": 0,
             "ticks": ""
            },
            "colorscale": [
             [
              0,
              "#0d0887"
             ],
             [
              0.1111111111111111,
              "#46039f"
             ],
             [
              0.2222222222222222,
              "#7201a8"
             ],
             [
              0.3333333333333333,
              "#9c179e"
             ],
             [
              0.4444444444444444,
              "#bd3786"
             ],
             [
              0.5555555555555556,
              "#d8576b"
             ],
             [
              0.6666666666666666,
              "#ed7953"
             ],
             [
              0.7777777777777778,
              "#fb9f3a"
             ],
             [
              0.8888888888888888,
              "#fdca26"
             ],
             [
              1,
              "#f0f921"
             ]
            ],
            "type": "histogram2dcontour"
           }
          ],
          "mesh3d": [
           {
            "colorbar": {
             "outlinewidth": 0,
             "ticks": ""
            },
            "type": "mesh3d"
           }
          ],
          "parcoords": [
           {
            "line": {
             "colorbar": {
              "outlinewidth": 0,
              "ticks": ""
             }
            },
            "type": "parcoords"
           }
          ],
          "pie": [
           {
            "automargin": true,
            "type": "pie"
           }
          ],
          "scatter": [
           {
            "marker": {
             "colorbar": {
              "outlinewidth": 0,
              "ticks": ""
             }
            },
            "type": "scatter"
           }
          ],
          "scatter3d": [
           {
            "line": {
             "colorbar": {
              "outlinewidth": 0,
              "ticks": ""
             }
            },
            "marker": {
             "colorbar": {
              "outlinewidth": 0,
              "ticks": ""
             }
            },
            "type": "scatter3d"
           }
          ],
          "scattercarpet": [
           {
            "marker": {
             "colorbar": {
              "outlinewidth": 0,
              "ticks": ""
             }
            },
            "type": "scattercarpet"
           }
          ],
          "scattergeo": [
           {
            "marker": {
             "colorbar": {
              "outlinewidth": 0,
              "ticks": ""
             }
            },
            "type": "scattergeo"
           }
          ],
          "scattergl": [
           {
            "marker": {
             "colorbar": {
              "outlinewidth": 0,
              "ticks": ""
             }
            },
            "type": "scattergl"
           }
          ],
          "scattermapbox": [
           {
            "marker": {
             "colorbar": {
              "outlinewidth": 0,
              "ticks": ""
             }
            },
            "type": "scattermapbox"
           }
          ],
          "scatterpolar": [
           {
            "marker": {
             "colorbar": {
              "outlinewidth": 0,
              "ticks": ""
             }
            },
            "type": "scatterpolar"
           }
          ],
          "scatterpolargl": [
           {
            "marker": {
             "colorbar": {
              "outlinewidth": 0,
              "ticks": ""
             }
            },
            "type": "scatterpolargl"
           }
          ],
          "scatterternary": [
           {
            "marker": {
             "colorbar": {
              "outlinewidth": 0,
              "ticks": ""
             }
            },
            "type": "scatterternary"
           }
          ],
          "surface": [
           {
            "colorbar": {
             "outlinewidth": 0,
             "ticks": ""
            },
            "colorscale": [
             [
              0,
              "#0d0887"
             ],
             [
              0.1111111111111111,
              "#46039f"
             ],
             [
              0.2222222222222222,
              "#7201a8"
             ],
             [
              0.3333333333333333,
              "#9c179e"
             ],
             [
              0.4444444444444444,
              "#bd3786"
             ],
             [
              0.5555555555555556,
              "#d8576b"
             ],
             [
              0.6666666666666666,
              "#ed7953"
             ],
             [
              0.7777777777777778,
              "#fb9f3a"
             ],
             [
              0.8888888888888888,
              "#fdca26"
             ],
             [
              1,
              "#f0f921"
             ]
            ],
            "type": "surface"
           }
          ],
          "table": [
           {
            "cells": {
             "fill": {
              "color": "#EBF0F8"
             },
             "line": {
              "color": "white"
             }
            },
            "header": {
             "fill": {
              "color": "#C8D4E3"
             },
             "line": {
              "color": "white"
             }
            },
            "type": "table"
           }
          ]
         },
         "layout": {
          "annotationdefaults": {
           "arrowcolor": "#2a3f5f",
           "arrowhead": 0,
           "arrowwidth": 1
          },
          "coloraxis": {
           "colorbar": {
            "outlinewidth": 0,
            "ticks": ""
           }
          },
          "colorscale": {
           "diverging": [
            [
             0,
             "#8e0152"
            ],
            [
             0.1,
             "#c51b7d"
            ],
            [
             0.2,
             "#de77ae"
            ],
            [
             0.3,
             "#f1b6da"
            ],
            [
             0.4,
             "#fde0ef"
            ],
            [
             0.5,
             "#f7f7f7"
            ],
            [
             0.6,
             "#e6f5d0"
            ],
            [
             0.7,
             "#b8e186"
            ],
            [
             0.8,
             "#7fbc41"
            ],
            [
             0.9,
             "#4d9221"
            ],
            [
             1,
             "#276419"
            ]
           ],
           "sequential": [
            [
             0,
             "#0d0887"
            ],
            [
             0.1111111111111111,
             "#46039f"
            ],
            [
             0.2222222222222222,
             "#7201a8"
            ],
            [
             0.3333333333333333,
             "#9c179e"
            ],
            [
             0.4444444444444444,
             "#bd3786"
            ],
            [
             0.5555555555555556,
             "#d8576b"
            ],
            [
             0.6666666666666666,
             "#ed7953"
            ],
            [
             0.7777777777777778,
             "#fb9f3a"
            ],
            [
             0.8888888888888888,
             "#fdca26"
            ],
            [
             1,
             "#f0f921"
            ]
           ],
           "sequentialminus": [
            [
             0,
             "#0d0887"
            ],
            [
             0.1111111111111111,
             "#46039f"
            ],
            [
             0.2222222222222222,
             "#7201a8"
            ],
            [
             0.3333333333333333,
             "#9c179e"
            ],
            [
             0.4444444444444444,
             "#bd3786"
            ],
            [
             0.5555555555555556,
             "#d8576b"
            ],
            [
             0.6666666666666666,
             "#ed7953"
            ],
            [
             0.7777777777777778,
             "#fb9f3a"
            ],
            [
             0.8888888888888888,
             "#fdca26"
            ],
            [
             1,
             "#f0f921"
            ]
           ]
          },
          "colorway": [
           "#636efa",
           "#EF553B",
           "#00cc96",
           "#ab63fa",
           "#FFA15A",
           "#19d3f3",
           "#FF6692",
           "#B6E880",
           "#FF97FF",
           "#FECB52"
          ],
          "font": {
           "color": "#2a3f5f"
          },
          "geo": {
           "bgcolor": "white",
           "lakecolor": "white",
           "landcolor": "#E5ECF6",
           "showlakes": true,
           "showland": true,
           "subunitcolor": "white"
          },
          "hoverlabel": {
           "align": "left"
          },
          "hovermode": "closest",
          "mapbox": {
           "style": "light"
          },
          "paper_bgcolor": "white",
          "plot_bgcolor": "#E5ECF6",
          "polar": {
           "angularaxis": {
            "gridcolor": "white",
            "linecolor": "white",
            "ticks": ""
           },
           "bgcolor": "#E5ECF6",
           "radialaxis": {
            "gridcolor": "white",
            "linecolor": "white",
            "ticks": ""
           }
          },
          "scene": {
           "xaxis": {
            "backgroundcolor": "#E5ECF6",
            "gridcolor": "white",
            "gridwidth": 2,
            "linecolor": "white",
            "showbackground": true,
            "ticks": "",
            "zerolinecolor": "white"
           },
           "yaxis": {
            "backgroundcolor": "#E5ECF6",
            "gridcolor": "white",
            "gridwidth": 2,
            "linecolor": "white",
            "showbackground": true,
            "ticks": "",
            "zerolinecolor": "white"
           },
           "zaxis": {
            "backgroundcolor": "#E5ECF6",
            "gridcolor": "white",
            "gridwidth": 2,
            "linecolor": "white",
            "showbackground": true,
            "ticks": "",
            "zerolinecolor": "white"
           }
          },
          "shapedefaults": {
           "line": {
            "color": "#2a3f5f"
           }
          },
          "ternary": {
           "aaxis": {
            "gridcolor": "white",
            "linecolor": "white",
            "ticks": ""
           },
           "baxis": {
            "gridcolor": "white",
            "linecolor": "white",
            "ticks": ""
           },
           "bgcolor": "#E5ECF6",
           "caxis": {
            "gridcolor": "white",
            "linecolor": "white",
            "ticks": ""
           }
          },
          "title": {
           "x": 0.05
          },
          "xaxis": {
           "automargin": true,
           "gridcolor": "white",
           "linecolor": "white",
           "ticks": "",
           "title": {
            "standoff": 15
           },
           "zerolinecolor": "white",
           "zerolinewidth": 2
          },
          "yaxis": {
           "automargin": true,
           "gridcolor": "white",
           "linecolor": "white",
           "ticks": "",
           "title": {
            "standoff": 15
           },
           "zerolinecolor": "white",
           "zerolinewidth": 2
          }
         }
        }
       }
      }
     },
     "metadata": {}
    }
   ],
   "source": [
    "# Group data based on outcome\n",
    "assert np.array_equal(outer_ema_data['Status of orphan designation'].unique(), np.array(['Withdrawn', 'Negative', 'Positive', 'Expired']))\n",
    "mask = outer_ema_data['Status of orphan designation'] == 'Positive'\n",
    "positive = outer_ema_data[mask]\n",
    "mask = outer_ema_data['Status of orphan designation'] == 'Withdrawn'\n",
    "withdrawn = outer_ema_data[mask]\n",
    "mask = outer_ema_data['Status of orphan designation'] == 'Negative'\n",
    "negative = outer_ema_data[mask]\n",
    "mask = outer_ema_data['Status of orphan designation'] == 'Expired'\n",
    "expired = outer_ema_data[mask]\n",
    "\n",
    "# Create figure\n",
    "fig = go.Figure()\n",
    "colours = plotly.colors.qualitative.Plotly\n",
    "\n",
    "fig.add_trace(go.Pie(\n",
    "    labels=['Positive', 'Negative', 'Withdrawn', 'Expired'],\n",
    "    values=[len(positive), len(negative), len(withdrawn), len(expired)],\n",
    "    pull=[0.1, 0, 0],\n",
    "    sort=False,\n",
    "    marker=dict(\n",
    "        colors=colours[:4], \n",
    "        line=dict(color='#000000', width=1))))\n",
    "fig.show()"
   ]
  },
  {
   "source": [
    "**Figure 3:** Distribution of EMA application outcomes that are not in the EC registry."
   ],
   "cell_type": "markdown",
   "metadata": {}
  },
  {
   "source": [
    "### 3.2 Time evolution"
   ],
   "cell_type": "markdown",
   "metadata": {}
  },
  {
   "cell_type": "code",
   "execution_count": 15,
   "metadata": {},
   "outputs": [
    {
     "output_type": "display_data",
     "data": {
      "application/vnd.plotly.v1+json": {
       "config": {
        "plotlyServerURL": "https://plot.ly"
       },
       "data": [
        {
         "marker": {
          "line": {
           "color": "#636EFA",
           "width": 1
          }
         },
         "name": "Positive",
         "type": "scatter",
         "x": [
          2001,
          2002,
          2003,
          2004,
          2005,
          2006,
          2007,
          2008,
          2009,
          2010,
          2011,
          2012,
          2013,
          2014,
          2015,
          2016,
          2017,
          2018,
          2019
         ],
         "y": [
          0,
          0,
          0,
          1,
          0,
          0,
          0,
          1,
          0,
          1,
          2,
          0,
          2,
          13,
          1,
          2,
          0,
          0,
          7
         ]
        },
        {
         "marker": {
          "line": {
           "color": "#EF553B",
           "width": 1
          }
         },
         "name": "Negative",
         "type": "scatter",
         "x": [
          2001,
          2002,
          2003,
          2004,
          2005,
          2006,
          2007,
          2008,
          2009,
          2010,
          2011,
          2012,
          2013,
          2014,
          2015,
          2016,
          2017,
          2018,
          2019
         ],
         "y": [
          0,
          3,
          0,
          2,
          3,
          2,
          1,
          1,
          0,
          3,
          1,
          1,
          1,
          2,
          1,
          2,
          1,
          4,
          1
         ]
        },
        {
         "marker": {
          "line": {
           "color": "#00CC96",
           "width": 1
          }
         },
         "name": "Withdrawn",
         "type": "scatter",
         "x": [
          2001,
          2002,
          2003,
          2004,
          2005,
          2006,
          2007,
          2008,
          2009,
          2010,
          2011,
          2012,
          2013,
          2014,
          2015,
          2016,
          2017,
          2018,
          2019
         ],
         "y": [
          36,
          27,
          29,
          35,
          32,
          32,
          37,
          23,
          48,
          39,
          34,
          48,
          29,
          23,
          33,
          24,
          3,
          6,
          1
         ]
        },
        {
         "marker": {
          "line": {
           "color": "#AB63FA",
           "width": 1
          }
         },
         "name": "Expired",
         "type": "scatter",
         "x": [
          2001,
          2002,
          2003,
          2004,
          2005,
          2006,
          2007,
          2008,
          2009,
          2010,
          2011,
          2012,
          2013,
          2014,
          2015,
          2016,
          2017,
          2018,
          2019
         ],
         "y": [
          15,
          5,
          6,
          4,
          9,
          6,
          1,
          0,
          1,
          0,
          0,
          0,
          0,
          0,
          0,
          0,
          0,
          0,
          0
         ]
        }
       ],
       "layout": {
        "template": {
         "data": {
          "bar": [
           {
            "error_x": {
             "color": "#2a3f5f"
            },
            "error_y": {
             "color": "#2a3f5f"
            },
            "marker": {
             "line": {
              "color": "white",
              "width": 0.5
             }
            },
            "type": "bar"
           }
          ],
          "barpolar": [
           {
            "marker": {
             "line": {
              "color": "white",
              "width": 0.5
             }
            },
            "type": "barpolar"
           }
          ],
          "carpet": [
           {
            "aaxis": {
             "endlinecolor": "#2a3f5f",
             "gridcolor": "#C8D4E3",
             "linecolor": "#C8D4E3",
             "minorgridcolor": "#C8D4E3",
             "startlinecolor": "#2a3f5f"
            },
            "baxis": {
             "endlinecolor": "#2a3f5f",
             "gridcolor": "#C8D4E3",
             "linecolor": "#C8D4E3",
             "minorgridcolor": "#C8D4E3",
             "startlinecolor": "#2a3f5f"
            },
            "type": "carpet"
           }
          ],
          "choropleth": [
           {
            "colorbar": {
             "outlinewidth": 0,
             "ticks": ""
            },
            "type": "choropleth"
           }
          ],
          "contour": [
           {
            "colorbar": {
             "outlinewidth": 0,
             "ticks": ""
            },
            "colorscale": [
             [
              0,
              "#0d0887"
             ],
             [
              0.1111111111111111,
              "#46039f"
             ],
             [
              0.2222222222222222,
              "#7201a8"
             ],
             [
              0.3333333333333333,
              "#9c179e"
             ],
             [
              0.4444444444444444,
              "#bd3786"
             ],
             [
              0.5555555555555556,
              "#d8576b"
             ],
             [
              0.6666666666666666,
              "#ed7953"
             ],
             [
              0.7777777777777778,
              "#fb9f3a"
             ],
             [
              0.8888888888888888,
              "#fdca26"
             ],
             [
              1,
              "#f0f921"
             ]
            ],
            "type": "contour"
           }
          ],
          "contourcarpet": [
           {
            "colorbar": {
             "outlinewidth": 0,
             "ticks": ""
            },
            "type": "contourcarpet"
           }
          ],
          "heatmap": [
           {
            "colorbar": {
             "outlinewidth": 0,
             "ticks": ""
            },
            "colorscale": [
             [
              0,
              "#0d0887"
             ],
             [
              0.1111111111111111,
              "#46039f"
             ],
             [
              0.2222222222222222,
              "#7201a8"
             ],
             [
              0.3333333333333333,
              "#9c179e"
             ],
             [
              0.4444444444444444,
              "#bd3786"
             ],
             [
              0.5555555555555556,
              "#d8576b"
             ],
             [
              0.6666666666666666,
              "#ed7953"
             ],
             [
              0.7777777777777778,
              "#fb9f3a"
             ],
             [
              0.8888888888888888,
              "#fdca26"
             ],
             [
              1,
              "#f0f921"
             ]
            ],
            "type": "heatmap"
           }
          ],
          "heatmapgl": [
           {
            "colorbar": {
             "outlinewidth": 0,
             "ticks": ""
            },
            "colorscale": [
             [
              0,
              "#0d0887"
             ],
             [
              0.1111111111111111,
              "#46039f"
             ],
             [
              0.2222222222222222,
              "#7201a8"
             ],
             [
              0.3333333333333333,
              "#9c179e"
             ],
             [
              0.4444444444444444,
              "#bd3786"
             ],
             [
              0.5555555555555556,
              "#d8576b"
             ],
             [
              0.6666666666666666,
              "#ed7953"
             ],
             [
              0.7777777777777778,
              "#fb9f3a"
             ],
             [
              0.8888888888888888,
              "#fdca26"
             ],
             [
              1,
              "#f0f921"
             ]
            ],
            "type": "heatmapgl"
           }
          ],
          "histogram": [
           {
            "marker": {
             "colorbar": {
              "outlinewidth": 0,
              "ticks": ""
             }
            },
            "type": "histogram"
           }
          ],
          "histogram2d": [
           {
            "colorbar": {
             "outlinewidth": 0,
             "ticks": ""
            },
            "colorscale": [
             [
              0,
              "#0d0887"
             ],
             [
              0.1111111111111111,
              "#46039f"
             ],
             [
              0.2222222222222222,
              "#7201a8"
             ],
             [
              0.3333333333333333,
              "#9c179e"
             ],
             [
              0.4444444444444444,
              "#bd3786"
             ],
             [
              0.5555555555555556,
              "#d8576b"
             ],
             [
              0.6666666666666666,
              "#ed7953"
             ],
             [
              0.7777777777777778,
              "#fb9f3a"
             ],
             [
              0.8888888888888888,
              "#fdca26"
             ],
             [
              1,
              "#f0f921"
             ]
            ],
            "type": "histogram2d"
           }
          ],
          "histogram2dcontour": [
           {
            "colorbar": {
             "outlinewidth": 0,
             "ticks": ""
            },
            "colorscale": [
             [
              0,
              "#0d0887"
             ],
             [
              0.1111111111111111,
              "#46039f"
             ],
             [
              0.2222222222222222,
              "#7201a8"
             ],
             [
              0.3333333333333333,
              "#9c179e"
             ],
             [
              0.4444444444444444,
              "#bd3786"
             ],
             [
              0.5555555555555556,
              "#d8576b"
             ],
             [
              0.6666666666666666,
              "#ed7953"
             ],
             [
              0.7777777777777778,
              "#fb9f3a"
             ],
             [
              0.8888888888888888,
              "#fdca26"
             ],
             [
              1,
              "#f0f921"
             ]
            ],
            "type": "histogram2dcontour"
           }
          ],
          "mesh3d": [
           {
            "colorbar": {
             "outlinewidth": 0,
             "ticks": ""
            },
            "type": "mesh3d"
           }
          ],
          "parcoords": [
           {
            "line": {
             "colorbar": {
              "outlinewidth": 0,
              "ticks": ""
             }
            },
            "type": "parcoords"
           }
          ],
          "pie": [
           {
            "automargin": true,
            "type": "pie"
           }
          ],
          "scatter": [
           {
            "marker": {
             "colorbar": {
              "outlinewidth": 0,
              "ticks": ""
             }
            },
            "type": "scatter"
           }
          ],
          "scatter3d": [
           {
            "line": {
             "colorbar": {
              "outlinewidth": 0,
              "ticks": ""
             }
            },
            "marker": {
             "colorbar": {
              "outlinewidth": 0,
              "ticks": ""
             }
            },
            "type": "scatter3d"
           }
          ],
          "scattercarpet": [
           {
            "marker": {
             "colorbar": {
              "outlinewidth": 0,
              "ticks": ""
             }
            },
            "type": "scattercarpet"
           }
          ],
          "scattergeo": [
           {
            "marker": {
             "colorbar": {
              "outlinewidth": 0,
              "ticks": ""
             }
            },
            "type": "scattergeo"
           }
          ],
          "scattergl": [
           {
            "marker": {
             "colorbar": {
              "outlinewidth": 0,
              "ticks": ""
             }
            },
            "type": "scattergl"
           }
          ],
          "scattermapbox": [
           {
            "marker": {
             "colorbar": {
              "outlinewidth": 0,
              "ticks": ""
             }
            },
            "type": "scattermapbox"
           }
          ],
          "scatterpolar": [
           {
            "marker": {
             "colorbar": {
              "outlinewidth": 0,
              "ticks": ""
             }
            },
            "type": "scatterpolar"
           }
          ],
          "scatterpolargl": [
           {
            "marker": {
             "colorbar": {
              "outlinewidth": 0,
              "ticks": ""
             }
            },
            "type": "scatterpolargl"
           }
          ],
          "scatterternary": [
           {
            "marker": {
             "colorbar": {
              "outlinewidth": 0,
              "ticks": ""
             }
            },
            "type": "scatterternary"
           }
          ],
          "surface": [
           {
            "colorbar": {
             "outlinewidth": 0,
             "ticks": ""
            },
            "colorscale": [
             [
              0,
              "#0d0887"
             ],
             [
              0.1111111111111111,
              "#46039f"
             ],
             [
              0.2222222222222222,
              "#7201a8"
             ],
             [
              0.3333333333333333,
              "#9c179e"
             ],
             [
              0.4444444444444444,
              "#bd3786"
             ],
             [
              0.5555555555555556,
              "#d8576b"
             ],
             [
              0.6666666666666666,
              "#ed7953"
             ],
             [
              0.7777777777777778,
              "#fb9f3a"
             ],
             [
              0.8888888888888888,
              "#fdca26"
             ],
             [
              1,
              "#f0f921"
             ]
            ],
            "type": "surface"
           }
          ],
          "table": [
           {
            "cells": {
             "fill": {
              "color": "#EBF0F8"
             },
             "line": {
              "color": "white"
             }
            },
            "header": {
             "fill": {
              "color": "#C8D4E3"
             },
             "line": {
              "color": "white"
             }
            },
            "type": "table"
           }
          ]
         },
         "layout": {
          "annotationdefaults": {
           "arrowcolor": "#2a3f5f",
           "arrowhead": 0,
           "arrowwidth": 1
          },
          "coloraxis": {
           "colorbar": {
            "outlinewidth": 0,
            "ticks": ""
           }
          },
          "colorscale": {
           "diverging": [
            [
             0,
             "#8e0152"
            ],
            [
             0.1,
             "#c51b7d"
            ],
            [
             0.2,
             "#de77ae"
            ],
            [
             0.3,
             "#f1b6da"
            ],
            [
             0.4,
             "#fde0ef"
            ],
            [
             0.5,
             "#f7f7f7"
            ],
            [
             0.6,
             "#e6f5d0"
            ],
            [
             0.7,
             "#b8e186"
            ],
            [
             0.8,
             "#7fbc41"
            ],
            [
             0.9,
             "#4d9221"
            ],
            [
             1,
             "#276419"
            ]
           ],
           "sequential": [
            [
             0,
             "#0d0887"
            ],
            [
             0.1111111111111111,
             "#46039f"
            ],
            [
             0.2222222222222222,
             "#7201a8"
            ],
            [
             0.3333333333333333,
             "#9c179e"
            ],
            [
             0.4444444444444444,
             "#bd3786"
            ],
            [
             0.5555555555555556,
             "#d8576b"
            ],
            [
             0.6666666666666666,
             "#ed7953"
            ],
            [
             0.7777777777777778,
             "#fb9f3a"
            ],
            [
             0.8888888888888888,
             "#fdca26"
            ],
            [
             1,
             "#f0f921"
            ]
           ],
           "sequentialminus": [
            [
             0,
             "#0d0887"
            ],
            [
             0.1111111111111111,
             "#46039f"
            ],
            [
             0.2222222222222222,
             "#7201a8"
            ],
            [
             0.3333333333333333,
             "#9c179e"
            ],
            [
             0.4444444444444444,
             "#bd3786"
            ],
            [
             0.5555555555555556,
             "#d8576b"
            ],
            [
             0.6666666666666666,
             "#ed7953"
            ],
            [
             0.7777777777777778,
             "#fb9f3a"
            ],
            [
             0.8888888888888888,
             "#fdca26"
            ],
            [
             1,
             "#f0f921"
            ]
           ]
          },
          "colorway": [
           "#636efa",
           "#EF553B",
           "#00cc96",
           "#ab63fa",
           "#FFA15A",
           "#19d3f3",
           "#FF6692",
           "#B6E880",
           "#FF97FF",
           "#FECB52"
          ],
          "font": {
           "color": "#2a3f5f"
          },
          "geo": {
           "bgcolor": "white",
           "lakecolor": "white",
           "landcolor": "white",
           "showlakes": true,
           "showland": true,
           "subunitcolor": "#C8D4E3"
          },
          "hoverlabel": {
           "align": "left"
          },
          "hovermode": "closest",
          "mapbox": {
           "style": "light"
          },
          "paper_bgcolor": "white",
          "plot_bgcolor": "white",
          "polar": {
           "angularaxis": {
            "gridcolor": "#EBF0F8",
            "linecolor": "#EBF0F8",
            "ticks": ""
           },
           "bgcolor": "white",
           "radialaxis": {
            "gridcolor": "#EBF0F8",
            "linecolor": "#EBF0F8",
            "ticks": ""
           }
          },
          "scene": {
           "xaxis": {
            "backgroundcolor": "white",
            "gridcolor": "#DFE8F3",
            "gridwidth": 2,
            "linecolor": "#EBF0F8",
            "showbackground": true,
            "ticks": "",
            "zerolinecolor": "#EBF0F8"
           },
           "yaxis": {
            "backgroundcolor": "white",
            "gridcolor": "#DFE8F3",
            "gridwidth": 2,
            "linecolor": "#EBF0F8",
            "showbackground": true,
            "ticks": "",
            "zerolinecolor": "#EBF0F8"
           },
           "zaxis": {
            "backgroundcolor": "white",
            "gridcolor": "#DFE8F3",
            "gridwidth": 2,
            "linecolor": "#EBF0F8",
            "showbackground": true,
            "ticks": "",
            "zerolinecolor": "#EBF0F8"
           }
          },
          "shapedefaults": {
           "line": {
            "color": "#2a3f5f"
           }
          },
          "ternary": {
           "aaxis": {
            "gridcolor": "#DFE8F3",
            "linecolor": "#A2B1C6",
            "ticks": ""
           },
           "baxis": {
            "gridcolor": "#DFE8F3",
            "linecolor": "#A2B1C6",
            "ticks": ""
           },
           "bgcolor": "white",
           "caxis": {
            "gridcolor": "#DFE8F3",
            "linecolor": "#A2B1C6",
            "ticks": ""
           }
          },
          "title": {
           "x": 0.05
          },
          "xaxis": {
           "automargin": true,
           "gridcolor": "#EBF0F8",
           "linecolor": "#EBF0F8",
           "ticks": "",
           "title": {
            "standoff": 15
           },
           "zerolinecolor": "#EBF0F8",
           "zerolinewidth": 2
          },
          "yaxis": {
           "automargin": true,
           "gridcolor": "#EBF0F8",
           "linecolor": "#EBF0F8",
           "ticks": "",
           "title": {
            "standoff": 15
           },
           "zerolinecolor": "#EBF0F8",
           "zerolinewidth": 2
          }
         }
        },
        "xaxis": {
         "title": {
          "text": "Year"
         }
        },
        "yaxis": {
         "title": {
          "text": "Number"
         }
        }
       }
      }
     },
     "metadata": {}
    }
   ],
   "source": [
    "# Create container for time data\n",
    "time_evolution = pd.DataFrame(columns={'Year', 'Positive', 'Negative', 'Withdrawn', 'Expired'})\n",
    "\n",
    "# Group data by year\n",
    "temp = outer_ema_data.copy()\n",
    "temp['Year'] = data['Date of first decision'].apply(lambda x: x.year)\n",
    "for year in temp['Year'].dropna().unique():\n",
    "    # Ignore 2000 and 2020\n",
    "    if (year == 2000) or (year == 2020):\n",
    "        continue\n",
    "\n",
    "    # Get outcomes for that year\n",
    "    mask = temp['Year'] == year\n",
    "    temp2 = temp[mask]\n",
    "\n",
    "    # Count positives (including expired)\n",
    "    mask = temp2['Status of orphan designation'] == 'Positive'\n",
    "    n_positive = len(temp2[mask])\n",
    "\n",
    "    # Count negative\n",
    "    mask = temp2['Status of orphan designation'] == 'Negative'\n",
    "    n_negative = len(temp2[mask])\n",
    "\n",
    "    # Count withdrawn\n",
    "    mask = temp2['Status of orphan designation'] == 'Withdrawn'\n",
    "    n_withdrawn = len(temp2[mask])\n",
    "\n",
    "    # Count expired\n",
    "    mask = temp2['Status of orphan designation'] == 'Expired'\n",
    "    n_expired = len(temp2[mask])\n",
    "    \n",
    "    # Append to main container\n",
    "    time_evolution = time_evolution.append(pd.DataFrame({\n",
    "        'Year': [year],\n",
    "        'Positive': [n_positive],\n",
    "        'Negative': [n_negative],\n",
    "        'Withdrawn': [n_withdrawn],\n",
    "        'Expired': [n_expired]}))\n",
    "\n",
    "# Sort by time\n",
    "time_evolution.sort_values(by='Year', inplace=True)\n",
    "\n",
    "# Create line plot\n",
    "fig = go.Figure()\n",
    "colours = plotly.colors.qualitative.Plotly\n",
    "\n",
    "for index, key in enumerate(['Positive', 'Negative', 'Withdrawn', 'Expired']):\n",
    "    fig.add_trace(go.Scatter(\n",
    "        x=time_evolution['Year'],\n",
    "        y=time_evolution[key],\n",
    "        name=key,\n",
    "        marker=dict(\n",
    "            line=dict(color=colours[index], width=1))))\n",
    "\n",
    "# Set axes and template\n",
    "fig.update_layout(\n",
    "    template=\"plotly_white\",\n",
    "    xaxis_title='Year',\n",
    "    yaxis_title='Number')\n",
    "\n",
    "fig.show()"
   ]
  },
  {
   "source": [
    "**Figure 4:** Outcomes of EMA applications that are not in the EC registry over time."
   ],
   "cell_type": "markdown",
   "metadata": {}
  }
 ]
}