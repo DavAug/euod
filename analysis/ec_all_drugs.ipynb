{
 "cells": [
  {
   "cell_type": "markdown",
   "metadata": {},
   "source": [
    "# Compare EC orphan drugs with all EC registered active drugs\n",
    "\n",
    "Source of data: \n",
    "\n",
    "1. Active: https://ec.europa.eu/health/documents/community-register/html/reg_od_act.htm?sort=n\n",
    "2. Withdrawn, suspended, expired, not renewed: https://ec.europa.eu/health/documents/community-register/html/reg_hum_nact.htm?sort=a\n",
    "3. Rejected: https://ec.europa.eu/health/documents/community-register/html/reg_hum_refus.htm"
   ]
  },
  {
   "source": [
    "## Import data"
   ],
   "cell_type": "markdown",
   "metadata": {}
  },
  {
   "source": [
    "### EC all drugs"
   ],
   "cell_type": "markdown",
   "metadata": {}
  },
  {
   "cell_type": "code",
   "execution_count": 56,
   "metadata": {},
   "outputs": [
    {
     "output_type": "execute_result",
     "data": {
      "text/plain": [
       "             EU #         Brand name           Marketing Authorisation Holder  \\\n",
       "0     EU/1/14/944          Abasaglar                 Eli Lilly Nederland B.V.   \n",
       "1     EU/1/04/276            Abilify   Otsuka Pharmaceutical Netherlands B.V.   \n",
       "2     EU/1/13/882   ABILIFY MAINTENA   Otsuka Pharmaceutical Netherlands B.V.   \n",
       "3     EU/1/07/428           Abraxane         Bristol-Myers Squibb Pharma EEIG   \n",
       "4     EU/1/07/412           Abseamed  Medice Arzneimittel Pütter GmbH & Co KG   \n",
       "...           ...                ...                                      ...   \n",
       "1548          nan           Winfuran         Toray International U.K. Limited   \n",
       "1549          nan  Xeljanz (Refusal)                           Pfizer Limited   \n",
       "1550          nan           Yondelis                          Pharma Mar S.A.   \n",
       "1551          nan            Zeftera           Janssen-Cilag International NV   \n",
       "1552          nan            Zelnorm               Novartis Europharm Limited   \n",
       "\n",
       "        Status                     INN Initial Decision date  \n",
       "0       Active                     NaN                   NaN  \n",
       "1       Active                     NaN                   NaN  \n",
       "2       Active                     NaN                   NaN  \n",
       "3       Active                     NaN                   NaN  \n",
       "4       Active                     NaN                   NaN  \n",
       "...        ...                     ...                   ...  \n",
       "1548  Rejected             nalfurafine           21 Mar 2014  \n",
       "1549  Rejected             tofacitinib           08 Nov 2013  \n",
       "1550  Rejected             Trabectedin           07 Sep 2004  \n",
       "1551  Rejected  Ceftobiprole medocaril           16 Sep 2010  \n",
       "1552  Rejected               tegaserod           19 May 2006  \n",
       "\n",
       "[1553 rows x 6 columns]"
      ],
      "text/html": "<div>\n<style scoped>\n    .dataframe tbody tr th:only-of-type {\n        vertical-align: middle;\n    }\n\n    .dataframe tbody tr th {\n        vertical-align: top;\n    }\n\n    .dataframe thead th {\n        text-align: right;\n    }\n</style>\n<table border=\"1\" class=\"dataframe\">\n  <thead>\n    <tr style=\"text-align: right;\">\n      <th></th>\n      <th>EU #</th>\n      <th>Brand name</th>\n      <th>Marketing Authorisation Holder</th>\n      <th>Status</th>\n      <th>INN</th>\n      <th>Initial Decision date</th>\n    </tr>\n  </thead>\n  <tbody>\n    <tr>\n      <th>0</th>\n      <td>EU/1/14/944</td>\n      <td>Abasaglar</td>\n      <td>Eli Lilly Nederland B.V.</td>\n      <td>Active</td>\n      <td>NaN</td>\n      <td>NaN</td>\n    </tr>\n    <tr>\n      <th>1</th>\n      <td>EU/1/04/276</td>\n      <td>Abilify</td>\n      <td>Otsuka Pharmaceutical Netherlands B.V.</td>\n      <td>Active</td>\n      <td>NaN</td>\n      <td>NaN</td>\n    </tr>\n    <tr>\n      <th>2</th>\n      <td>EU/1/13/882</td>\n      <td>ABILIFY MAINTENA</td>\n      <td>Otsuka Pharmaceutical Netherlands B.V.</td>\n      <td>Active</td>\n      <td>NaN</td>\n      <td>NaN</td>\n    </tr>\n    <tr>\n      <th>3</th>\n      <td>EU/1/07/428</td>\n      <td>Abraxane</td>\n      <td>Bristol-Myers Squibb Pharma EEIG</td>\n      <td>Active</td>\n      <td>NaN</td>\n      <td>NaN</td>\n    </tr>\n    <tr>\n      <th>4</th>\n      <td>EU/1/07/412</td>\n      <td>Abseamed</td>\n      <td>Medice Arzneimittel Pütter GmbH &amp; Co KG</td>\n      <td>Active</td>\n      <td>NaN</td>\n      <td>NaN</td>\n    </tr>\n    <tr>\n      <th>...</th>\n      <td>...</td>\n      <td>...</td>\n      <td>...</td>\n      <td>...</td>\n      <td>...</td>\n      <td>...</td>\n    </tr>\n    <tr>\n      <th>1548</th>\n      <td>nan</td>\n      <td>Winfuran</td>\n      <td>Toray International U.K. Limited</td>\n      <td>Rejected</td>\n      <td>nalfurafine</td>\n      <td>21 Mar 2014</td>\n    </tr>\n    <tr>\n      <th>1549</th>\n      <td>nan</td>\n      <td>Xeljanz (Refusal)</td>\n      <td>Pfizer Limited</td>\n      <td>Rejected</td>\n      <td>tofacitinib</td>\n      <td>08 Nov 2013</td>\n    </tr>\n    <tr>\n      <th>1550</th>\n      <td>nan</td>\n      <td>Yondelis</td>\n      <td>Pharma Mar S.A.</td>\n      <td>Rejected</td>\n      <td>Trabectedin</td>\n      <td>07 Sep 2004</td>\n    </tr>\n    <tr>\n      <th>1551</th>\n      <td>nan</td>\n      <td>Zeftera</td>\n      <td>Janssen-Cilag International NV</td>\n      <td>Rejected</td>\n      <td>Ceftobiprole medocaril</td>\n      <td>16 Sep 2010</td>\n    </tr>\n    <tr>\n      <th>1552</th>\n      <td>nan</td>\n      <td>Zelnorm</td>\n      <td>Novartis Europharm Limited</td>\n      <td>Rejected</td>\n      <td>tegaserod</td>\n      <td>19 May 2006</td>\n    </tr>\n  </tbody>\n</table>\n<p>1553 rows × 6 columns</p>\n</div>"
     },
     "metadata": {},
     "execution_count": 56
    }
   ],
   "source": [
    "import os\n",
    "\n",
    "import numpy as np\n",
    "import pandas as pd\n",
    "\n",
    "path = os.path.dirname(os.getcwd())\n",
    "data_all_drugs = pd.read_csv(path + '/data/ec_all_drugs.csv')\n",
    "data_all_drugs['EU #'] = data_all_drugs['EU #'].astype(str)\n",
    "data_all_drugs"
   ]
  },
  {
   "source": [
    "### EC orphan drug designations"
   ],
   "cell_type": "markdown",
   "metadata": {}
  },
  {
   "cell_type": "code",
   "execution_count": 57,
   "metadata": {},
   "outputs": [
    {
     "output_type": "execute_result",
     "data": {
      "text/plain": [
       "              EU #                                            Product  \\\n",
       "0     EU/3/20/2351  Adeno-associated virus serotype 5 containing t...   \n",
       "1     EU/3/20/2350  Poly(oxy-1,2-ethanediyl), alpha-hydro-omega-me...   \n",
       "2     EU/3/20/2349                                          Miglustat   \n",
       "3     EU/3/20/2348  Poly(oxy-1,2-ethanediyl), alpha-(carboxymethyl...   \n",
       "4     EU/3/20/2347                                          Trehalose   \n",
       "...            ...                                                ...   \n",
       "1735   EU/3/01/034                        Gusperimus trihydrochloride   \n",
       "1736   EU/3/01/028                                         Inolimomab   \n",
       "1737   EU/3/01/026                     L-Lysine-N-acetyl-L-cysteinate   \n",
       "1738   EU/3/00/013                            Ethyl Eicosopentaenoate   \n",
       "1739   EU/3/00/005                              Gemtuzumab Ozogamicin   \n",
       "\n",
       "                                             Indication  \\\n",
       "0     Treatment of RDH12 mutation associated retinal...   \n",
       "1                       Treatment of hypoparathyroidism   \n",
       "2           Treatment of neuronal ceroid lipofuscinosis   \n",
       "3                           Treatment of homocystinuria   \n",
       "4           Treatment of neuronal ceroid lipofuscinosis   \n",
       "...                                                 ...   \n",
       "1735              Treatment of Wegener’s granulomatosis   \n",
       "1736             Treatment of Graft versus Host Disease   \n",
       "1737                       Treatment of cystic fibrosis   \n",
       "1738                  Treatment of Huntington's disease   \n",
       "1739               Treatment of acute myeloid leukaemia   \n",
       "\n",
       "                                Sponsor Designation date  \\\n",
       "0                         MeiraGTx B.V.      19 Oct 2020   \n",
       "1     Ascendis Pharma Bone Diseases A/S      19 Oct 2020   \n",
       "2                     Theranexus S.A.S.      19 Oct 2020   \n",
       "3     Aeglea Biotherapeutics UK Limited      19 Oct 2020   \n",
       "4                     Theranexus S.A.S.      19 Oct 2020   \n",
       "...                                 ...              ...   \n",
       "1735                  Nordic Group B.V.      29 Mar 2001   \n",
       "1736                 Elsalys Biotech SA      05 Mar 2001   \n",
       "1737                LABORATOIRES SMB SA      14 Feb 2001   \n",
       "1738        Amarin Neuroscience Limited      29 Dec 2000   \n",
       "1739              Pfizer Europe MA EEIG      18 Oct 2000   \n",
       "\n",
       "      Tradename - EU product # - Implemented on  \n",
       "0                                             -  \n",
       "1                                             -  \n",
       "2                                             -  \n",
       "3                                             -  \n",
       "4                                             -  \n",
       "...                                         ...  \n",
       "1735                                          -  \n",
       "1736                                          -  \n",
       "1737                                          -  \n",
       "1738                                          -  \n",
       "1739  Mylotarg - \\nEU/1/18/1277 - \\n23 Apr 2018  \n",
       "\n",
       "[1740 rows x 6 columns]"
      ],
      "text/html": "<div>\n<style scoped>\n    .dataframe tbody tr th:only-of-type {\n        vertical-align: middle;\n    }\n\n    .dataframe tbody tr th {\n        vertical-align: top;\n    }\n\n    .dataframe thead th {\n        text-align: right;\n    }\n</style>\n<table border=\"1\" class=\"dataframe\">\n  <thead>\n    <tr style=\"text-align: right;\">\n      <th></th>\n      <th>EU #</th>\n      <th>Product</th>\n      <th>Indication</th>\n      <th>Sponsor</th>\n      <th>Designation date</th>\n      <th>Tradename - EU product # - Implemented on</th>\n    </tr>\n  </thead>\n  <tbody>\n    <tr>\n      <th>0</th>\n      <td>EU/3/20/2351</td>\n      <td>Adeno-associated virus serotype 5 containing t...</td>\n      <td>Treatment of RDH12 mutation associated retinal...</td>\n      <td>MeiraGTx B.V.</td>\n      <td>19 Oct 2020</td>\n      <td>-</td>\n    </tr>\n    <tr>\n      <th>1</th>\n      <td>EU/3/20/2350</td>\n      <td>Poly(oxy-1,2-ethanediyl), alpha-hydro-omega-me...</td>\n      <td>Treatment of hypoparathyroidism</td>\n      <td>Ascendis Pharma Bone Diseases A/S</td>\n      <td>19 Oct 2020</td>\n      <td>-</td>\n    </tr>\n    <tr>\n      <th>2</th>\n      <td>EU/3/20/2349</td>\n      <td>Miglustat</td>\n      <td>Treatment of neuronal ceroid lipofuscinosis</td>\n      <td>Theranexus S.A.S.</td>\n      <td>19 Oct 2020</td>\n      <td>-</td>\n    </tr>\n    <tr>\n      <th>3</th>\n      <td>EU/3/20/2348</td>\n      <td>Poly(oxy-1,2-ethanediyl), alpha-(carboxymethyl...</td>\n      <td>Treatment of homocystinuria</td>\n      <td>Aeglea Biotherapeutics UK Limited</td>\n      <td>19 Oct 2020</td>\n      <td>-</td>\n    </tr>\n    <tr>\n      <th>4</th>\n      <td>EU/3/20/2347</td>\n      <td>Trehalose</td>\n      <td>Treatment of neuronal ceroid lipofuscinosis</td>\n      <td>Theranexus S.A.S.</td>\n      <td>19 Oct 2020</td>\n      <td>-</td>\n    </tr>\n    <tr>\n      <th>...</th>\n      <td>...</td>\n      <td>...</td>\n      <td>...</td>\n      <td>...</td>\n      <td>...</td>\n      <td>...</td>\n    </tr>\n    <tr>\n      <th>1735</th>\n      <td>EU/3/01/034</td>\n      <td>Gusperimus trihydrochloride</td>\n      <td>Treatment of Wegener’s granulomatosis</td>\n      <td>Nordic Group B.V.</td>\n      <td>29 Mar 2001</td>\n      <td>-</td>\n    </tr>\n    <tr>\n      <th>1736</th>\n      <td>EU/3/01/028</td>\n      <td>Inolimomab</td>\n      <td>Treatment of Graft versus Host Disease</td>\n      <td>Elsalys Biotech SA</td>\n      <td>05 Mar 2001</td>\n      <td>-</td>\n    </tr>\n    <tr>\n      <th>1737</th>\n      <td>EU/3/01/026</td>\n      <td>L-Lysine-N-acetyl-L-cysteinate</td>\n      <td>Treatment of cystic fibrosis</td>\n      <td>LABORATOIRES SMB SA</td>\n      <td>14 Feb 2001</td>\n      <td>-</td>\n    </tr>\n    <tr>\n      <th>1738</th>\n      <td>EU/3/00/013</td>\n      <td>Ethyl Eicosopentaenoate</td>\n      <td>Treatment of Huntington's disease</td>\n      <td>Amarin Neuroscience Limited</td>\n      <td>29 Dec 2000</td>\n      <td>-</td>\n    </tr>\n    <tr>\n      <th>1739</th>\n      <td>EU/3/00/005</td>\n      <td>Gemtuzumab Ozogamicin</td>\n      <td>Treatment of acute myeloid leukaemia</td>\n      <td>Pfizer Europe MA EEIG</td>\n      <td>18 Oct 2000</td>\n      <td>Mylotarg - \\nEU/1/18/1277 - \\n23 Apr 2018</td>\n    </tr>\n  </tbody>\n</table>\n<p>1740 rows × 6 columns</p>\n</div>"
     },
     "metadata": {},
     "execution_count": 57
    }
   ],
   "source": [
    "path = os.path.dirname(os.getcwd())\n",
    "data_od_raw = pd.read_csv(path + '/data/ec_orphan_designations.csv', header=2)\n",
    "data_od_raw['EU #'] = data_od_raw['EU #'].astype(str)\n",
    "data_od_raw"
   ]
  },
  {
   "source": [
    "## Only keep orphan drug designations between 2001 and 2019"
   ],
   "cell_type": "markdown",
   "metadata": {}
  },
  {
   "cell_type": "code",
   "execution_count": 61,
   "metadata": {},
   "outputs": [
    {
     "output_type": "execute_result",
     "data": {
      "text/plain": [
       "              EU #                                            Product  \\\n",
       "109   EU/3/19/2235  Synthetic double-stranded siRNA oligonucleotid...   \n",
       "110   EU/3/19/2234                                        Pamrevlumab   \n",
       "111   EU/3/19/2233                                         Navitoclax   \n",
       "112   EU/3/19/2232                            Lactobacillus plantarum   \n",
       "113   EU/3/19/2231                   H-Leu-Pro-Pro-Leu-Pro-Tyr-Pro-OH   \n",
       "...            ...                                                ...   \n",
       "1733   EU/3/01/044  Human Alpha1-Proteinase Inhibitor (respiratory...   \n",
       "1734   EU/3/01/038          Retroviral gamma-c cDNA containing vector   \n",
       "1735   EU/3/01/034                        Gusperimus trihydrochloride   \n",
       "1736   EU/3/01/028                                         Inolimomab   \n",
       "1737   EU/3/01/026                     L-Lysine-N-acetyl-L-cysteinate   \n",
       "\n",
       "                                             Indication  \\\n",
       "109   Treatment of congenital alpha-1 antitrypsin de...   \n",
       "110            Treatment of Duchenne muscular dystrophy   \n",
       "111                          Treatment of myelofibrosis   \n",
       "112          Treatment of amyotrophic lateral sclerosis   \n",
       "113          Treatment of amyotrophic lateral sclerosis   \n",
       "...                                                 ...   \n",
       "1733  Treatment of emphysema secondary to congenital...   \n",
       "1734  Treatment of Severe Combined Immunodeficiency ...   \n",
       "1735              Treatment of Wegener’s granulomatosis   \n",
       "1736             Treatment of Graft versus Host Disease   \n",
       "1737                       Treatment of cystic fibrosis   \n",
       "\n",
       "                               Sponsor Designation date  \\\n",
       "109            Dicerna Ireland Limited      16 Dec 2019   \n",
       "110         Voisin Consulting S.A.R.L.      16 Dec 2019   \n",
       "111   AbbVie Deutschland GmbH & Co. KG      16 Dec 2019   \n",
       "112                MDC RegAffairs GmbH      16 Dec 2019   \n",
       "113                      AdRes EU B.V.      16 Dec 2019   \n",
       "...                                ...              ...   \n",
       "1733                  CSL Behring GmbH      09 Jul 2001   \n",
       "1734                GENOPOIETIC S.A.S.      30 May 2001   \n",
       "1735                 Nordic Group B.V.      29 Mar 2001   \n",
       "1736                Elsalys Biotech SA      05 Mar 2001   \n",
       "1737               LABORATOIRES SMB SA      14 Feb 2001   \n",
       "\n",
       "     Tradename - EU product # - Implemented on  \n",
       "109                                          -  \n",
       "110                                          -  \n",
       "111                                          -  \n",
       "112                                          -  \n",
       "113                                          -  \n",
       "...                                        ...  \n",
       "1733                                         -  \n",
       "1734                                         -  \n",
       "1735                                         -  \n",
       "1736                                         -  \n",
       "1737                                         -  \n",
       "\n",
       "[1629 rows x 6 columns]"
      ],
      "text/html": "<div>\n<style scoped>\n    .dataframe tbody tr th:only-of-type {\n        vertical-align: middle;\n    }\n\n    .dataframe tbody tr th {\n        vertical-align: top;\n    }\n\n    .dataframe thead th {\n        text-align: right;\n    }\n</style>\n<table border=\"1\" class=\"dataframe\">\n  <thead>\n    <tr style=\"text-align: right;\">\n      <th></th>\n      <th>EU #</th>\n      <th>Product</th>\n      <th>Indication</th>\n      <th>Sponsor</th>\n      <th>Designation date</th>\n      <th>Tradename - EU product # - Implemented on</th>\n    </tr>\n  </thead>\n  <tbody>\n    <tr>\n      <th>109</th>\n      <td>EU/3/19/2235</td>\n      <td>Synthetic double-stranded siRNA oligonucleotid...</td>\n      <td>Treatment of congenital alpha-1 antitrypsin de...</td>\n      <td>Dicerna Ireland Limited</td>\n      <td>16 Dec 2019</td>\n      <td>-</td>\n    </tr>\n    <tr>\n      <th>110</th>\n      <td>EU/3/19/2234</td>\n      <td>Pamrevlumab</td>\n      <td>Treatment of Duchenne muscular dystrophy</td>\n      <td>Voisin Consulting S.A.R.L.</td>\n      <td>16 Dec 2019</td>\n      <td>-</td>\n    </tr>\n    <tr>\n      <th>111</th>\n      <td>EU/3/19/2233</td>\n      <td>Navitoclax</td>\n      <td>Treatment of myelofibrosis</td>\n      <td>AbbVie Deutschland GmbH &amp; Co. KG</td>\n      <td>16 Dec 2019</td>\n      <td>-</td>\n    </tr>\n    <tr>\n      <th>112</th>\n      <td>EU/3/19/2232</td>\n      <td>Lactobacillus plantarum</td>\n      <td>Treatment of amyotrophic lateral sclerosis</td>\n      <td>MDC RegAffairs GmbH</td>\n      <td>16 Dec 2019</td>\n      <td>-</td>\n    </tr>\n    <tr>\n      <th>113</th>\n      <td>EU/3/19/2231</td>\n      <td>H-Leu-Pro-Pro-Leu-Pro-Tyr-Pro-OH</td>\n      <td>Treatment of amyotrophic lateral sclerosis</td>\n      <td>AdRes EU B.V.</td>\n      <td>16 Dec 2019</td>\n      <td>-</td>\n    </tr>\n    <tr>\n      <th>...</th>\n      <td>...</td>\n      <td>...</td>\n      <td>...</td>\n      <td>...</td>\n      <td>...</td>\n      <td>...</td>\n    </tr>\n    <tr>\n      <th>1733</th>\n      <td>EU/3/01/044</td>\n      <td>Human Alpha1-Proteinase Inhibitor (respiratory...</td>\n      <td>Treatment of emphysema secondary to congenital...</td>\n      <td>CSL Behring GmbH</td>\n      <td>09 Jul 2001</td>\n      <td>-</td>\n    </tr>\n    <tr>\n      <th>1734</th>\n      <td>EU/3/01/038</td>\n      <td>Retroviral gamma-c cDNA containing vector</td>\n      <td>Treatment of Severe Combined Immunodeficiency ...</td>\n      <td>GENOPOIETIC S.A.S.</td>\n      <td>30 May 2001</td>\n      <td>-</td>\n    </tr>\n    <tr>\n      <th>1735</th>\n      <td>EU/3/01/034</td>\n      <td>Gusperimus trihydrochloride</td>\n      <td>Treatment of Wegener’s granulomatosis</td>\n      <td>Nordic Group B.V.</td>\n      <td>29 Mar 2001</td>\n      <td>-</td>\n    </tr>\n    <tr>\n      <th>1736</th>\n      <td>EU/3/01/028</td>\n      <td>Inolimomab</td>\n      <td>Treatment of Graft versus Host Disease</td>\n      <td>Elsalys Biotech SA</td>\n      <td>05 Mar 2001</td>\n      <td>-</td>\n    </tr>\n    <tr>\n      <th>1737</th>\n      <td>EU/3/01/026</td>\n      <td>L-Lysine-N-acetyl-L-cysteinate</td>\n      <td>Treatment of cystic fibrosis</td>\n      <td>LABORATOIRES SMB SA</td>\n      <td>14 Feb 2001</td>\n      <td>-</td>\n    </tr>\n  </tbody>\n</table>\n<p>1629 rows × 6 columns</p>\n</div>"
     },
     "metadata": {},
     "execution_count": 61
    }
   ],
   "source": [
    "years = pd.to_datetime(\n",
    "    data_od_raw['Designation date']).apply(lambda x: x.year)\n",
    "data_od = data_od_raw.where((years > 2000) & (years < 2020))\n",
    "data_od = data_od.dropna()\n",
    "data_od['EU #'] = data_od['EU #'].astype(str)\n",
    "data_od"
   ]
  },
  {
   "cell_type": "markdown",
   "metadata": {},
   "source": [
    "## 1. How many ODs can be identified by EU # in the all drugs registry"
   ]
  },
  {
   "cell_type": "code",
   "execution_count": 62,
   "metadata": {},
   "outputs": [
    {
     "output_type": "display_data",
     "data": {
      "application/vnd.plotly.v1+json": {
       "config": {
        "plotlyServerURL": "https://plot.ly"
       },
       "data": [
        {
         "labels": [
          "In all drugs registry",
          "Not in all drugs registry"
         ],
         "marker": {
          "colors": [
           "#636EFA",
           "#EF553B"
          ],
          "line": {
           "color": "#000000",
           "width": 1
          }
         },
         "pull": [
          0,
          0.2
         ],
         "sort": false,
         "type": "pie",
         "values": [
          0,
          1629
         ]
        }
       ],
       "layout": {
        "template": {
         "data": {
          "bar": [
           {
            "error_x": {
             "color": "#2a3f5f"
            },
            "error_y": {
             "color": "#2a3f5f"
            },
            "marker": {
             "line": {
              "color": "#E5ECF6",
              "width": 0.5
             }
            },
            "type": "bar"
           }
          ],
          "barpolar": [
           {
            "marker": {
             "line": {
              "color": "#E5ECF6",
              "width": 0.5
             }
            },
            "type": "barpolar"
           }
          ],
          "carpet": [
           {
            "aaxis": {
             "endlinecolor": "#2a3f5f",
             "gridcolor": "white",
             "linecolor": "white",
             "minorgridcolor": "white",
             "startlinecolor": "#2a3f5f"
            },
            "baxis": {
             "endlinecolor": "#2a3f5f",
             "gridcolor": "white",
             "linecolor": "white",
             "minorgridcolor": "white",
             "startlinecolor": "#2a3f5f"
            },
            "type": "carpet"
           }
          ],
          "choropleth": [
           {
            "colorbar": {
             "outlinewidth": 0,
             "ticks": ""
            },
            "type": "choropleth"
           }
          ],
          "contour": [
           {
            "colorbar": {
             "outlinewidth": 0,
             "ticks": ""
            },
            "colorscale": [
             [
              0,
              "#0d0887"
             ],
             [
              0.1111111111111111,
              "#46039f"
             ],
             [
              0.2222222222222222,
              "#7201a8"
             ],
             [
              0.3333333333333333,
              "#9c179e"
             ],
             [
              0.4444444444444444,
              "#bd3786"
             ],
             [
              0.5555555555555556,
              "#d8576b"
             ],
             [
              0.6666666666666666,
              "#ed7953"
             ],
             [
              0.7777777777777778,
              "#fb9f3a"
             ],
             [
              0.8888888888888888,
              "#fdca26"
             ],
             [
              1,
              "#f0f921"
             ]
            ],
            "type": "contour"
           }
          ],
          "contourcarpet": [
           {
            "colorbar": {
             "outlinewidth": 0,
             "ticks": ""
            },
            "type": "contourcarpet"
           }
          ],
          "heatmap": [
           {
            "colorbar": {
             "outlinewidth": 0,
             "ticks": ""
            },
            "colorscale": [
             [
              0,
              "#0d0887"
             ],
             [
              0.1111111111111111,
              "#46039f"
             ],
             [
              0.2222222222222222,
              "#7201a8"
             ],
             [
              0.3333333333333333,
              "#9c179e"
             ],
             [
              0.4444444444444444,
              "#bd3786"
             ],
             [
              0.5555555555555556,
              "#d8576b"
             ],
             [
              0.6666666666666666,
              "#ed7953"
             ],
             [
              0.7777777777777778,
              "#fb9f3a"
             ],
             [
              0.8888888888888888,
              "#fdca26"
             ],
             [
              1,
              "#f0f921"
             ]
            ],
            "type": "heatmap"
           }
          ],
          "heatmapgl": [
           {
            "colorbar": {
             "outlinewidth": 0,
             "ticks": ""
            },
            "colorscale": [
             [
              0,
              "#0d0887"
             ],
             [
              0.1111111111111111,
              "#46039f"
             ],
             [
              0.2222222222222222,
              "#7201a8"
             ],
             [
              0.3333333333333333,
              "#9c179e"
             ],
             [
              0.4444444444444444,
              "#bd3786"
             ],
             [
              0.5555555555555556,
              "#d8576b"
             ],
             [
              0.6666666666666666,
              "#ed7953"
             ],
             [
              0.7777777777777778,
              "#fb9f3a"
             ],
             [
              0.8888888888888888,
              "#fdca26"
             ],
             [
              1,
              "#f0f921"
             ]
            ],
            "type": "heatmapgl"
           }
          ],
          "histogram": [
           {
            "marker": {
             "colorbar": {
              "outlinewidth": 0,
              "ticks": ""
             }
            },
            "type": "histogram"
           }
          ],
          "histogram2d": [
           {
            "colorbar": {
             "outlinewidth": 0,
             "ticks": ""
            },
            "colorscale": [
             [
              0,
              "#0d0887"
             ],
             [
              0.1111111111111111,
              "#46039f"
             ],
             [
              0.2222222222222222,
              "#7201a8"
             ],
             [
              0.3333333333333333,
              "#9c179e"
             ],
             [
              0.4444444444444444,
              "#bd3786"
             ],
             [
              0.5555555555555556,
              "#d8576b"
             ],
             [
              0.6666666666666666,
              "#ed7953"
             ],
             [
              0.7777777777777778,
              "#fb9f3a"
             ],
             [
              0.8888888888888888,
              "#fdca26"
             ],
             [
              1,
              "#f0f921"
             ]
            ],
            "type": "histogram2d"
           }
          ],
          "histogram2dcontour": [
           {
            "colorbar": {
             "outlinewidth": 0,
             "ticks": ""
            },
            "colorscale": [
             [
              0,
              "#0d0887"
             ],
             [
              0.1111111111111111,
              "#46039f"
             ],
             [
              0.2222222222222222,
              "#7201a8"
             ],
             [
              0.3333333333333333,
              "#9c179e"
             ],
             [
              0.4444444444444444,
              "#bd3786"
             ],
             [
              0.5555555555555556,
              "#d8576b"
             ],
             [
              0.6666666666666666,
              "#ed7953"
             ],
             [
              0.7777777777777778,
              "#fb9f3a"
             ],
             [
              0.8888888888888888,
              "#fdca26"
             ],
             [
              1,
              "#f0f921"
             ]
            ],
            "type": "histogram2dcontour"
           }
          ],
          "mesh3d": [
           {
            "colorbar": {
             "outlinewidth": 0,
             "ticks": ""
            },
            "type": "mesh3d"
           }
          ],
          "parcoords": [
           {
            "line": {
             "colorbar": {
              "outlinewidth": 0,
              "ticks": ""
             }
            },
            "type": "parcoords"
           }
          ],
          "pie": [
           {
            "automargin": true,
            "type": "pie"
           }
          ],
          "scatter": [
           {
            "marker": {
             "colorbar": {
              "outlinewidth": 0,
              "ticks": ""
             }
            },
            "type": "scatter"
           }
          ],
          "scatter3d": [
           {
            "line": {
             "colorbar": {
              "outlinewidth": 0,
              "ticks": ""
             }
            },
            "marker": {
             "colorbar": {
              "outlinewidth": 0,
              "ticks": ""
             }
            },
            "type": "scatter3d"
           }
          ],
          "scattercarpet": [
           {
            "marker": {
             "colorbar": {
              "outlinewidth": 0,
              "ticks": ""
             }
            },
            "type": "scattercarpet"
           }
          ],
          "scattergeo": [
           {
            "marker": {
             "colorbar": {
              "outlinewidth": 0,
              "ticks": ""
             }
            },
            "type": "scattergeo"
           }
          ],
          "scattergl": [
           {
            "marker": {
             "colorbar": {
              "outlinewidth": 0,
              "ticks": ""
             }
            },
            "type": "scattergl"
           }
          ],
          "scattermapbox": [
           {
            "marker": {
             "colorbar": {
              "outlinewidth": 0,
              "ticks": ""
             }
            },
            "type": "scattermapbox"
           }
          ],
          "scatterpolar": [
           {
            "marker": {
             "colorbar": {
              "outlinewidth": 0,
              "ticks": ""
             }
            },
            "type": "scatterpolar"
           }
          ],
          "scatterpolargl": [
           {
            "marker": {
             "colorbar": {
              "outlinewidth": 0,
              "ticks": ""
             }
            },
            "type": "scatterpolargl"
           }
          ],
          "scatterternary": [
           {
            "marker": {
             "colorbar": {
              "outlinewidth": 0,
              "ticks": ""
             }
            },
            "type": "scatterternary"
           }
          ],
          "surface": [
           {
            "colorbar": {
             "outlinewidth": 0,
             "ticks": ""
            },
            "colorscale": [
             [
              0,
              "#0d0887"
             ],
             [
              0.1111111111111111,
              "#46039f"
             ],
             [
              0.2222222222222222,
              "#7201a8"
             ],
             [
              0.3333333333333333,
              "#9c179e"
             ],
             [
              0.4444444444444444,
              "#bd3786"
             ],
             [
              0.5555555555555556,
              "#d8576b"
             ],
             [
              0.6666666666666666,
              "#ed7953"
             ],
             [
              0.7777777777777778,
              "#fb9f3a"
             ],
             [
              0.8888888888888888,
              "#fdca26"
             ],
             [
              1,
              "#f0f921"
             ]
            ],
            "type": "surface"
           }
          ],
          "table": [
           {
            "cells": {
             "fill": {
              "color": "#EBF0F8"
             },
             "line": {
              "color": "white"
             }
            },
            "header": {
             "fill": {
              "color": "#C8D4E3"
             },
             "line": {
              "color": "white"
             }
            },
            "type": "table"
           }
          ]
         },
         "layout": {
          "annotationdefaults": {
           "arrowcolor": "#2a3f5f",
           "arrowhead": 0,
           "arrowwidth": 1
          },
          "coloraxis": {
           "colorbar": {
            "outlinewidth": 0,
            "ticks": ""
           }
          },
          "colorscale": {
           "diverging": [
            [
             0,
             "#8e0152"
            ],
            [
             0.1,
             "#c51b7d"
            ],
            [
             0.2,
             "#de77ae"
            ],
            [
             0.3,
             "#f1b6da"
            ],
            [
             0.4,
             "#fde0ef"
            ],
            [
             0.5,
             "#f7f7f7"
            ],
            [
             0.6,
             "#e6f5d0"
            ],
            [
             0.7,
             "#b8e186"
            ],
            [
             0.8,
             "#7fbc41"
            ],
            [
             0.9,
             "#4d9221"
            ],
            [
             1,
             "#276419"
            ]
           ],
           "sequential": [
            [
             0,
             "#0d0887"
            ],
            [
             0.1111111111111111,
             "#46039f"
            ],
            [
             0.2222222222222222,
             "#7201a8"
            ],
            [
             0.3333333333333333,
             "#9c179e"
            ],
            [
             0.4444444444444444,
             "#bd3786"
            ],
            [
             0.5555555555555556,
             "#d8576b"
            ],
            [
             0.6666666666666666,
             "#ed7953"
            ],
            [
             0.7777777777777778,
             "#fb9f3a"
            ],
            [
             0.8888888888888888,
             "#fdca26"
            ],
            [
             1,
             "#f0f921"
            ]
           ],
           "sequentialminus": [
            [
             0,
             "#0d0887"
            ],
            [
             0.1111111111111111,
             "#46039f"
            ],
            [
             0.2222222222222222,
             "#7201a8"
            ],
            [
             0.3333333333333333,
             "#9c179e"
            ],
            [
             0.4444444444444444,
             "#bd3786"
            ],
            [
             0.5555555555555556,
             "#d8576b"
            ],
            [
             0.6666666666666666,
             "#ed7953"
            ],
            [
             0.7777777777777778,
             "#fb9f3a"
            ],
            [
             0.8888888888888888,
             "#fdca26"
            ],
            [
             1,
             "#f0f921"
            ]
           ]
          },
          "colorway": [
           "#636efa",
           "#EF553B",
           "#00cc96",
           "#ab63fa",
           "#FFA15A",
           "#19d3f3",
           "#FF6692",
           "#B6E880",
           "#FF97FF",
           "#FECB52"
          ],
          "font": {
           "color": "#2a3f5f"
          },
          "geo": {
           "bgcolor": "white",
           "lakecolor": "white",
           "landcolor": "#E5ECF6",
           "showlakes": true,
           "showland": true,
           "subunitcolor": "white"
          },
          "hoverlabel": {
           "align": "left"
          },
          "hovermode": "closest",
          "mapbox": {
           "style": "light"
          },
          "paper_bgcolor": "white",
          "plot_bgcolor": "#E5ECF6",
          "polar": {
           "angularaxis": {
            "gridcolor": "white",
            "linecolor": "white",
            "ticks": ""
           },
           "bgcolor": "#E5ECF6",
           "radialaxis": {
            "gridcolor": "white",
            "linecolor": "white",
            "ticks": ""
           }
          },
          "scene": {
           "xaxis": {
            "backgroundcolor": "#E5ECF6",
            "gridcolor": "white",
            "gridwidth": 2,
            "linecolor": "white",
            "showbackground": true,
            "ticks": "",
            "zerolinecolor": "white"
           },
           "yaxis": {
            "backgroundcolor": "#E5ECF6",
            "gridcolor": "white",
            "gridwidth": 2,
            "linecolor": "white",
            "showbackground": true,
            "ticks": "",
            "zerolinecolor": "white"
           },
           "zaxis": {
            "backgroundcolor": "#E5ECF6",
            "gridcolor": "white",
            "gridwidth": 2,
            "linecolor": "white",
            "showbackground": true,
            "ticks": "",
            "zerolinecolor": "white"
           }
          },
          "shapedefaults": {
           "line": {
            "color": "#2a3f5f"
           }
          },
          "ternary": {
           "aaxis": {
            "gridcolor": "white",
            "linecolor": "white",
            "ticks": ""
           },
           "baxis": {
            "gridcolor": "white",
            "linecolor": "white",
            "ticks": ""
           },
           "bgcolor": "#E5ECF6",
           "caxis": {
            "gridcolor": "white",
            "linecolor": "white",
            "ticks": ""
           }
          },
          "title": {
           "x": 0.05
          },
          "xaxis": {
           "automargin": true,
           "gridcolor": "white",
           "linecolor": "white",
           "ticks": "",
           "title": {
            "standoff": 15
           },
           "zerolinecolor": "white",
           "zerolinewidth": 2
          },
          "yaxis": {
           "automargin": true,
           "gridcolor": "white",
           "linecolor": "white",
           "ticks": "",
           "title": {
            "standoff": 15
           },
           "zerolinecolor": "white",
           "zerolinewidth": 2
          }
         }
        }
       }
      }
     },
     "metadata": {}
    }
   ],
   "source": [
    "import plotly.colors\n",
    "import plotly.graph_objects as go\n",
    "\n",
    "# Get all EU # in all drug registry\n",
    "eu_numbers_all_drugs = data_all_drugs['EU #'].unique()\n",
    "\n",
    "# Get all EU # in OD drug registry\n",
    "eu_numbers_od_drugs = data_od['EU #'].unique()\n",
    "\n",
    "# Check whether OD drug number can be found\n",
    "is_found = np.zeros(shape=len(eu_numbers_od_drugs), dtype=bool)\n",
    "for idx, number in enumerate(eu_numbers_od_drugs):\n",
    "    if number in eu_numbers_all_drugs:\n",
    "        is_found[idx] = True\n",
    "\n",
    "# Create dataframe\n",
    "matched_data = pd.DataFrame(columns=['EU #', 'Match status'])\n",
    "matched_data = matched_data.append(pd.DataFrame({\n",
    "    'EU #': eu_numbers_od_drugs[is_found],\n",
    "    'Match status': 'In all drugs registry'}))\n",
    "matched_data = matched_data.append(pd.DataFrame({\n",
    "    'EU #': eu_numbers_od_drugs[~is_found],\n",
    "    'Match status': 'Not in all drugs registry'}))\n",
    "\n",
    "# Create figure\n",
    "fig = go.Figure()\n",
    "colours = plotly.colors.qualitative.Plotly\n",
    "\n",
    "n_in_all_drugs = len(\n",
    "    matched_data[matched_data['Match status'] == 'In all drugs registry'])\n",
    "n_not_in_all_drugs = len(\n",
    "    matched_data[matched_data['Match status'] == 'Not in all drugs registry'])\n",
    "\n",
    "fig.add_trace(go.Pie(\n",
    "    labels=['In all drugs registry', 'Not in all drugs registry'],\n",
    "    values=[n_in_all_drugs, n_not_in_all_drugs],\n",
    "    sort=False,\n",
    "    pull=[0, 0.2],\n",
    "    marker=dict(\n",
    "        colors=colours[:2], \n",
    "        line=dict(color='#000000', width=1))))\n",
    "fig.show()"
   ]
  }
 ],
 "metadata": {
  "kernelspec": {
   "display_name": "erlotinib-venv",
   "language": "python",
   "name": "erlotinib-venv"
  },
  "language_info": {
   "codemirror_mode": {
    "name": "ipython",
    "version": 3
   },
   "file_extension": ".py",
   "mimetype": "text/x-python",
   "name": "python",
   "nbconvert_exporter": "python",
   "pygments_lexer": "ipython3",
   "version": "3.7.5-final"
  },
  "widgets": {
   "application/vnd.jupyter.widget-state+json": {
    "state": {},
    "version_major": 2,
    "version_minor": 0
   }
  }
 },
 "nbformat": 4,
 "nbformat_minor": 2
}