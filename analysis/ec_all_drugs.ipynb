{
 "cells": [
  {
   "cell_type": "markdown",
   "metadata": {},
   "source": [
    "# Compare EC orphan drugs with all EC registered active drugs\n",
    "\n",
    "Source of data: \n",
    "\n",
    "1. Active: https://ec.europa.eu/health/documents/community-register/html/reg_od_act.htm?sort=n\n",
    "2. Withdrawn, suspended, expired, not renewed: https://ec.europa.eu/health/documents/community-register/html/reg_hum_nact.htm?sort=a\n",
    "3. Rejected: https://ec.europa.eu/health/documents/community-register/html/reg_hum_refus.htm"
   ]
  },
  {
   "source": [
    "## Import data"
   ],
   "cell_type": "markdown",
   "metadata": {}
  },
  {
   "source": [
    "### EC all drugs"
   ],
   "cell_type": "markdown",
   "metadata": {}
  },
  {
   "cell_type": "code",
   "execution_count": 58,
   "metadata": {},
   "outputs": [
    {
     "output_type": "execute_result",
     "data": {
      "text/plain": [
       "             EU #         Brand name           Marketing Authorisation Holder  \\\n",
       "0     EU/1/14/944          ABASAGLAR                 Eli Lilly Nederland B.V.   \n",
       "1     EU/1/04/276            ABILIFY   Otsuka Pharmaceutical Netherlands B.V.   \n",
       "2     EU/1/13/882   ABILIFY MAINTENA   Otsuka Pharmaceutical Netherlands B.V.   \n",
       "3     EU/1/07/428           ABRAXANE         Bristol-Myers Squibb Pharma EEIG   \n",
       "4     EU/1/07/412           ABSEAMED  Medice Arzneimittel Pütter GmbH & Co KG   \n",
       "...           ...                ...                                      ...   \n",
       "1548          nan           WINFURAN         Toray International U.K. Limited   \n",
       "1549          nan  XELJANZ (REFUSAL)                           Pfizer Limited   \n",
       "1550          nan           YONDELIS                          Pharma Mar S.A.   \n",
       "1551          nan            ZEFTERA           Janssen-Cilag International NV   \n",
       "1552          nan            ZELNORM               Novartis Europharm Limited   \n",
       "\n",
       "        Status                     INN Initial Decision date  \n",
       "0       Active                     NaN                   NaN  \n",
       "1       Active                     NaN                   NaN  \n",
       "2       Active                     NaN                   NaN  \n",
       "3       Active                     NaN                   NaN  \n",
       "4       Active                     NaN                   NaN  \n",
       "...        ...                     ...                   ...  \n",
       "1548  Rejected             nalfurafine           21 Mar 2014  \n",
       "1549  Rejected             tofacitinib           08 Nov 2013  \n",
       "1550  Rejected             Trabectedin           07 Sep 2004  \n",
       "1551  Rejected  Ceftobiprole medocaril           16 Sep 2010  \n",
       "1552  Rejected               tegaserod           19 May 2006  \n",
       "\n",
       "[1553 rows x 6 columns]"
      ],
      "text/html": "<div>\n<style scoped>\n    .dataframe tbody tr th:only-of-type {\n        vertical-align: middle;\n    }\n\n    .dataframe tbody tr th {\n        vertical-align: top;\n    }\n\n    .dataframe thead th {\n        text-align: right;\n    }\n</style>\n<table border=\"1\" class=\"dataframe\">\n  <thead>\n    <tr style=\"text-align: right;\">\n      <th></th>\n      <th>EU #</th>\n      <th>Brand name</th>\n      <th>Marketing Authorisation Holder</th>\n      <th>Status</th>\n      <th>INN</th>\n      <th>Initial Decision date</th>\n    </tr>\n  </thead>\n  <tbody>\n    <tr>\n      <th>0</th>\n      <td>EU/1/14/944</td>\n      <td>ABASAGLAR</td>\n      <td>Eli Lilly Nederland B.V.</td>\n      <td>Active</td>\n      <td>NaN</td>\n      <td>NaN</td>\n    </tr>\n    <tr>\n      <th>1</th>\n      <td>EU/1/04/276</td>\n      <td>ABILIFY</td>\n      <td>Otsuka Pharmaceutical Netherlands B.V.</td>\n      <td>Active</td>\n      <td>NaN</td>\n      <td>NaN</td>\n    </tr>\n    <tr>\n      <th>2</th>\n      <td>EU/1/13/882</td>\n      <td>ABILIFY MAINTENA</td>\n      <td>Otsuka Pharmaceutical Netherlands B.V.</td>\n      <td>Active</td>\n      <td>NaN</td>\n      <td>NaN</td>\n    </tr>\n    <tr>\n      <th>3</th>\n      <td>EU/1/07/428</td>\n      <td>ABRAXANE</td>\n      <td>Bristol-Myers Squibb Pharma EEIG</td>\n      <td>Active</td>\n      <td>NaN</td>\n      <td>NaN</td>\n    </tr>\n    <tr>\n      <th>4</th>\n      <td>EU/1/07/412</td>\n      <td>ABSEAMED</td>\n      <td>Medice Arzneimittel Pütter GmbH &amp; Co KG</td>\n      <td>Active</td>\n      <td>NaN</td>\n      <td>NaN</td>\n    </tr>\n    <tr>\n      <th>...</th>\n      <td>...</td>\n      <td>...</td>\n      <td>...</td>\n      <td>...</td>\n      <td>...</td>\n      <td>...</td>\n    </tr>\n    <tr>\n      <th>1548</th>\n      <td>nan</td>\n      <td>WINFURAN</td>\n      <td>Toray International U.K. Limited</td>\n      <td>Rejected</td>\n      <td>nalfurafine</td>\n      <td>21 Mar 2014</td>\n    </tr>\n    <tr>\n      <th>1549</th>\n      <td>nan</td>\n      <td>XELJANZ (REFUSAL)</td>\n      <td>Pfizer Limited</td>\n      <td>Rejected</td>\n      <td>tofacitinib</td>\n      <td>08 Nov 2013</td>\n    </tr>\n    <tr>\n      <th>1550</th>\n      <td>nan</td>\n      <td>YONDELIS</td>\n      <td>Pharma Mar S.A.</td>\n      <td>Rejected</td>\n      <td>Trabectedin</td>\n      <td>07 Sep 2004</td>\n    </tr>\n    <tr>\n      <th>1551</th>\n      <td>nan</td>\n      <td>ZEFTERA</td>\n      <td>Janssen-Cilag International NV</td>\n      <td>Rejected</td>\n      <td>Ceftobiprole medocaril</td>\n      <td>16 Sep 2010</td>\n    </tr>\n    <tr>\n      <th>1552</th>\n      <td>nan</td>\n      <td>ZELNORM</td>\n      <td>Novartis Europharm Limited</td>\n      <td>Rejected</td>\n      <td>tegaserod</td>\n      <td>19 May 2006</td>\n    </tr>\n  </tbody>\n</table>\n<p>1553 rows × 6 columns</p>\n</div>"
     },
     "metadata": {},
     "execution_count": 58
    }
   ],
   "source": [
    "import os\n",
    "\n",
    "import numpy as np\n",
    "import pandas as pd\n",
    "\n",
    "path = os.path.dirname(os.getcwd())\n",
    "data_all_drugs = pd.read_csv(path + '/data/ec_all_drugs.csv')\n",
    "data_all_drugs['EU #'] = data_all_drugs['EU #'].astype(str)\n",
    "data_all_drugs['Brand name'] = data_all_drugs['Brand name'].str.upper()\n",
    "data_all_drugs"
   ]
  },
  {
   "source": [
    "### EC orphan drug designations"
   ],
   "cell_type": "markdown",
   "metadata": {}
  },
  {
   "cell_type": "code",
   "execution_count": 59,
   "metadata": {},
   "outputs": [
    {
     "output_type": "execute_result",
     "data": {
      "text/plain": [
       "              EU #                                            Product  \\\n",
       "0     EU/3/20/2351  Adeno-associated virus serotype 5 containing t...   \n",
       "1     EU/3/20/2350  Poly(oxy-1,2-ethanediyl), alpha-hydro-omega-me...   \n",
       "2     EU/3/20/2349                                          Miglustat   \n",
       "3     EU/3/20/2348  Poly(oxy-1,2-ethanediyl), alpha-(carboxymethyl...   \n",
       "4     EU/3/20/2347                                          Trehalose   \n",
       "...            ...                                                ...   \n",
       "1735   EU/3/01/034                        Gusperimus trihydrochloride   \n",
       "1736   EU/3/01/028                                         Inolimomab   \n",
       "1737   EU/3/01/026                     L-Lysine-N-acetyl-L-cysteinate   \n",
       "1738   EU/3/00/013                            Ethyl Eicosopentaenoate   \n",
       "1739   EU/3/00/005                              Gemtuzumab Ozogamicin   \n",
       "\n",
       "                                             Indication  \\\n",
       "0     Treatment of RDH12 mutation associated retinal...   \n",
       "1                       Treatment of hypoparathyroidism   \n",
       "2           Treatment of neuronal ceroid lipofuscinosis   \n",
       "3                           Treatment of homocystinuria   \n",
       "4           Treatment of neuronal ceroid lipofuscinosis   \n",
       "...                                                 ...   \n",
       "1735              Treatment of Wegener’s granulomatosis   \n",
       "1736             Treatment of Graft versus Host Disease   \n",
       "1737                       Treatment of cystic fibrosis   \n",
       "1738                  Treatment of Huntington's disease   \n",
       "1739               Treatment of acute myeloid leukaemia   \n",
       "\n",
       "                                Sponsor Designation date  \\\n",
       "0                         MeiraGTx B.V.      19 Oct 2020   \n",
       "1     Ascendis Pharma Bone Diseases A/S      19 Oct 2020   \n",
       "2                     Theranexus S.A.S.      19 Oct 2020   \n",
       "3     Aeglea Biotherapeutics UK Limited      19 Oct 2020   \n",
       "4                     Theranexus S.A.S.      19 Oct 2020   \n",
       "...                                 ...              ...   \n",
       "1735                  Nordic Group B.V.      29 Mar 2001   \n",
       "1736                 Elsalys Biotech SA      05 Mar 2001   \n",
       "1737                LABORATOIRES SMB SA      14 Feb 2001   \n",
       "1738        Amarin Neuroscience Limited      29 Dec 2000   \n",
       "1739              Pfizer Europe MA EEIG      18 Oct 2000   \n",
       "\n",
       "      Tradename - EU product # - Implemented on  \n",
       "0                                             -  \n",
       "1                                             -  \n",
       "2                                             -  \n",
       "3                                             -  \n",
       "4                                             -  \n",
       "...                                         ...  \n",
       "1735                                          -  \n",
       "1736                                          -  \n",
       "1737                                          -  \n",
       "1738                                          -  \n",
       "1739  Mylotarg - \\nEU/1/18/1277 - \\n23 Apr 2018  \n",
       "\n",
       "[1740 rows x 6 columns]"
      ],
      "text/html": "<div>\n<style scoped>\n    .dataframe tbody tr th:only-of-type {\n        vertical-align: middle;\n    }\n\n    .dataframe tbody tr th {\n        vertical-align: top;\n    }\n\n    .dataframe thead th {\n        text-align: right;\n    }\n</style>\n<table border=\"1\" class=\"dataframe\">\n  <thead>\n    <tr style=\"text-align: right;\">\n      <th></th>\n      <th>EU #</th>\n      <th>Product</th>\n      <th>Indication</th>\n      <th>Sponsor</th>\n      <th>Designation date</th>\n      <th>Tradename - EU product # - Implemented on</th>\n    </tr>\n  </thead>\n  <tbody>\n    <tr>\n      <th>0</th>\n      <td>EU/3/20/2351</td>\n      <td>Adeno-associated virus serotype 5 containing t...</td>\n      <td>Treatment of RDH12 mutation associated retinal...</td>\n      <td>MeiraGTx B.V.</td>\n      <td>19 Oct 2020</td>\n      <td>-</td>\n    </tr>\n    <tr>\n      <th>1</th>\n      <td>EU/3/20/2350</td>\n      <td>Poly(oxy-1,2-ethanediyl), alpha-hydro-omega-me...</td>\n      <td>Treatment of hypoparathyroidism</td>\n      <td>Ascendis Pharma Bone Diseases A/S</td>\n      <td>19 Oct 2020</td>\n      <td>-</td>\n    </tr>\n    <tr>\n      <th>2</th>\n      <td>EU/3/20/2349</td>\n      <td>Miglustat</td>\n      <td>Treatment of neuronal ceroid lipofuscinosis</td>\n      <td>Theranexus S.A.S.</td>\n      <td>19 Oct 2020</td>\n      <td>-</td>\n    </tr>\n    <tr>\n      <th>3</th>\n      <td>EU/3/20/2348</td>\n      <td>Poly(oxy-1,2-ethanediyl), alpha-(carboxymethyl...</td>\n      <td>Treatment of homocystinuria</td>\n      <td>Aeglea Biotherapeutics UK Limited</td>\n      <td>19 Oct 2020</td>\n      <td>-</td>\n    </tr>\n    <tr>\n      <th>4</th>\n      <td>EU/3/20/2347</td>\n      <td>Trehalose</td>\n      <td>Treatment of neuronal ceroid lipofuscinosis</td>\n      <td>Theranexus S.A.S.</td>\n      <td>19 Oct 2020</td>\n      <td>-</td>\n    </tr>\n    <tr>\n      <th>...</th>\n      <td>...</td>\n      <td>...</td>\n      <td>...</td>\n      <td>...</td>\n      <td>...</td>\n      <td>...</td>\n    </tr>\n    <tr>\n      <th>1735</th>\n      <td>EU/3/01/034</td>\n      <td>Gusperimus trihydrochloride</td>\n      <td>Treatment of Wegener’s granulomatosis</td>\n      <td>Nordic Group B.V.</td>\n      <td>29 Mar 2001</td>\n      <td>-</td>\n    </tr>\n    <tr>\n      <th>1736</th>\n      <td>EU/3/01/028</td>\n      <td>Inolimomab</td>\n      <td>Treatment of Graft versus Host Disease</td>\n      <td>Elsalys Biotech SA</td>\n      <td>05 Mar 2001</td>\n      <td>-</td>\n    </tr>\n    <tr>\n      <th>1737</th>\n      <td>EU/3/01/026</td>\n      <td>L-Lysine-N-acetyl-L-cysteinate</td>\n      <td>Treatment of cystic fibrosis</td>\n      <td>LABORATOIRES SMB SA</td>\n      <td>14 Feb 2001</td>\n      <td>-</td>\n    </tr>\n    <tr>\n      <th>1738</th>\n      <td>EU/3/00/013</td>\n      <td>Ethyl Eicosopentaenoate</td>\n      <td>Treatment of Huntington's disease</td>\n      <td>Amarin Neuroscience Limited</td>\n      <td>29 Dec 2000</td>\n      <td>-</td>\n    </tr>\n    <tr>\n      <th>1739</th>\n      <td>EU/3/00/005</td>\n      <td>Gemtuzumab Ozogamicin</td>\n      <td>Treatment of acute myeloid leukaemia</td>\n      <td>Pfizer Europe MA EEIG</td>\n      <td>18 Oct 2000</td>\n      <td>Mylotarg - \\nEU/1/18/1277 - \\n23 Apr 2018</td>\n    </tr>\n  </tbody>\n</table>\n<p>1740 rows × 6 columns</p>\n</div>"
     },
     "metadata": {},
     "execution_count": 59
    }
   ],
   "source": [
    "path = os.path.dirname(os.getcwd())\n",
    "data_od_raw = pd.read_csv(path + '/data/ec_orphan_designations.csv', header=2)\n",
    "data_od_raw['EU #'] = data_od_raw['EU #'].astype(str)\n",
    "data_od_raw"
   ]
  },
  {
   "source": [
    "## Only keep orphan drug designations between 2001 and 2019"
   ],
   "cell_type": "markdown",
   "metadata": {}
  },
  {
   "cell_type": "code",
   "execution_count": 60,
   "metadata": {},
   "outputs": [
    {
     "output_type": "execute_result",
     "data": {
      "text/plain": [
       "              EU #                                            Product  \\\n",
       "109   EU/3/19/2235  Synthetic double-stranded siRNA oligonucleotid...   \n",
       "110   EU/3/19/2234                                        Pamrevlumab   \n",
       "111   EU/3/19/2233                                         Navitoclax   \n",
       "112   EU/3/19/2232                            Lactobacillus plantarum   \n",
       "113   EU/3/19/2231                   H-Leu-Pro-Pro-Leu-Pro-Tyr-Pro-OH   \n",
       "...            ...                                                ...   \n",
       "1733   EU/3/01/044  Human Alpha1-Proteinase Inhibitor (respiratory...   \n",
       "1734   EU/3/01/038          Retroviral gamma-c cDNA containing vector   \n",
       "1735   EU/3/01/034                        Gusperimus trihydrochloride   \n",
       "1736   EU/3/01/028                                         Inolimomab   \n",
       "1737   EU/3/01/026                     L-Lysine-N-acetyl-L-cysteinate   \n",
       "\n",
       "                                             Indication  \\\n",
       "109   Treatment of congenital alpha-1 antitrypsin de...   \n",
       "110            Treatment of Duchenne muscular dystrophy   \n",
       "111                          Treatment of myelofibrosis   \n",
       "112          Treatment of amyotrophic lateral sclerosis   \n",
       "113          Treatment of amyotrophic lateral sclerosis   \n",
       "...                                                 ...   \n",
       "1733  Treatment of emphysema secondary to congenital...   \n",
       "1734  Treatment of Severe Combined Immunodeficiency ...   \n",
       "1735              Treatment of Wegener’s granulomatosis   \n",
       "1736             Treatment of Graft versus Host Disease   \n",
       "1737                       Treatment of cystic fibrosis   \n",
       "\n",
       "                               Sponsor Designation date  \\\n",
       "109            Dicerna Ireland Limited      16 Dec 2019   \n",
       "110         Voisin Consulting S.A.R.L.      16 Dec 2019   \n",
       "111   AbbVie Deutschland GmbH & Co. KG      16 Dec 2019   \n",
       "112                MDC RegAffairs GmbH      16 Dec 2019   \n",
       "113                      AdRes EU B.V.      16 Dec 2019   \n",
       "...                                ...              ...   \n",
       "1733                  CSL Behring GmbH      09 Jul 2001   \n",
       "1734                GENOPOIETIC S.A.S.      30 May 2001   \n",
       "1735                 Nordic Group B.V.      29 Mar 2001   \n",
       "1736                Elsalys Biotech SA      05 Mar 2001   \n",
       "1737               LABORATOIRES SMB SA      14 Feb 2001   \n",
       "\n",
       "     Tradename - EU product # - Implemented on  \n",
       "109                                          -  \n",
       "110                                          -  \n",
       "111                                          -  \n",
       "112                                          -  \n",
       "113                                          -  \n",
       "...                                        ...  \n",
       "1733                                         -  \n",
       "1734                                         -  \n",
       "1735                                         -  \n",
       "1736                                         -  \n",
       "1737                                         -  \n",
       "\n",
       "[1629 rows x 6 columns]"
      ],
      "text/html": "<div>\n<style scoped>\n    .dataframe tbody tr th:only-of-type {\n        vertical-align: middle;\n    }\n\n    .dataframe tbody tr th {\n        vertical-align: top;\n    }\n\n    .dataframe thead th {\n        text-align: right;\n    }\n</style>\n<table border=\"1\" class=\"dataframe\">\n  <thead>\n    <tr style=\"text-align: right;\">\n      <th></th>\n      <th>EU #</th>\n      <th>Product</th>\n      <th>Indication</th>\n      <th>Sponsor</th>\n      <th>Designation date</th>\n      <th>Tradename - EU product # - Implemented on</th>\n    </tr>\n  </thead>\n  <tbody>\n    <tr>\n      <th>109</th>\n      <td>EU/3/19/2235</td>\n      <td>Synthetic double-stranded siRNA oligonucleotid...</td>\n      <td>Treatment of congenital alpha-1 antitrypsin de...</td>\n      <td>Dicerna Ireland Limited</td>\n      <td>16 Dec 2019</td>\n      <td>-</td>\n    </tr>\n    <tr>\n      <th>110</th>\n      <td>EU/3/19/2234</td>\n      <td>Pamrevlumab</td>\n      <td>Treatment of Duchenne muscular dystrophy</td>\n      <td>Voisin Consulting S.A.R.L.</td>\n      <td>16 Dec 2019</td>\n      <td>-</td>\n    </tr>\n    <tr>\n      <th>111</th>\n      <td>EU/3/19/2233</td>\n      <td>Navitoclax</td>\n      <td>Treatment of myelofibrosis</td>\n      <td>AbbVie Deutschland GmbH &amp; Co. KG</td>\n      <td>16 Dec 2019</td>\n      <td>-</td>\n    </tr>\n    <tr>\n      <th>112</th>\n      <td>EU/3/19/2232</td>\n      <td>Lactobacillus plantarum</td>\n      <td>Treatment of amyotrophic lateral sclerosis</td>\n      <td>MDC RegAffairs GmbH</td>\n      <td>16 Dec 2019</td>\n      <td>-</td>\n    </tr>\n    <tr>\n      <th>113</th>\n      <td>EU/3/19/2231</td>\n      <td>H-Leu-Pro-Pro-Leu-Pro-Tyr-Pro-OH</td>\n      <td>Treatment of amyotrophic lateral sclerosis</td>\n      <td>AdRes EU B.V.</td>\n      <td>16 Dec 2019</td>\n      <td>-</td>\n    </tr>\n    <tr>\n      <th>...</th>\n      <td>...</td>\n      <td>...</td>\n      <td>...</td>\n      <td>...</td>\n      <td>...</td>\n      <td>...</td>\n    </tr>\n    <tr>\n      <th>1733</th>\n      <td>EU/3/01/044</td>\n      <td>Human Alpha1-Proteinase Inhibitor (respiratory...</td>\n      <td>Treatment of emphysema secondary to congenital...</td>\n      <td>CSL Behring GmbH</td>\n      <td>09 Jul 2001</td>\n      <td>-</td>\n    </tr>\n    <tr>\n      <th>1734</th>\n      <td>EU/3/01/038</td>\n      <td>Retroviral gamma-c cDNA containing vector</td>\n      <td>Treatment of Severe Combined Immunodeficiency ...</td>\n      <td>GENOPOIETIC S.A.S.</td>\n      <td>30 May 2001</td>\n      <td>-</td>\n    </tr>\n    <tr>\n      <th>1735</th>\n      <td>EU/3/01/034</td>\n      <td>Gusperimus trihydrochloride</td>\n      <td>Treatment of Wegener’s granulomatosis</td>\n      <td>Nordic Group B.V.</td>\n      <td>29 Mar 2001</td>\n      <td>-</td>\n    </tr>\n    <tr>\n      <th>1736</th>\n      <td>EU/3/01/028</td>\n      <td>Inolimomab</td>\n      <td>Treatment of Graft versus Host Disease</td>\n      <td>Elsalys Biotech SA</td>\n      <td>05 Mar 2001</td>\n      <td>-</td>\n    </tr>\n    <tr>\n      <th>1737</th>\n      <td>EU/3/01/026</td>\n      <td>L-Lysine-N-acetyl-L-cysteinate</td>\n      <td>Treatment of cystic fibrosis</td>\n      <td>LABORATOIRES SMB SA</td>\n      <td>14 Feb 2001</td>\n      <td>-</td>\n    </tr>\n  </tbody>\n</table>\n<p>1629 rows × 6 columns</p>\n</div>"
     },
     "metadata": {},
     "execution_count": 60
    }
   ],
   "source": [
    "years = pd.to_datetime(\n",
    "    data_od_raw['Designation date']).apply(lambda x: x.year)\n",
    "data_od = data_od_raw.where((years > 2000) & (years < 2020))\n",
    "data_od = data_od.dropna()\n",
    "data_od['EU #'] = data_od['EU #'].astype(str)\n",
    "data_od"
   ]
  },
  {
   "cell_type": "markdown",
   "metadata": {},
   "source": [
    "## 1. How many ODs can be identified by EU # in the all drugs registry"
   ]
  },
  {
   "cell_type": "code",
   "execution_count": 61,
   "metadata": {},
   "outputs": [
    {
     "output_type": "display_data",
     "data": {
      "application/vnd.plotly.v1+json": {
       "config": {
        "plotlyServerURL": "https://plot.ly"
       },
       "data": [
        {
         "labels": [
          "In all drugs registry",
          "Not in all drugs registry"
         ],
         "marker": {
          "colors": [
           "#636EFA",
           "#EF553B"
          ],
          "line": {
           "color": "#000000",
           "width": 1
          }
         },
         "pull": [
          0,
          0.2
         ],
         "sort": false,
         "type": "pie",
         "values": [
          0,
          1629
         ]
        }
       ],
       "layout": {
        "template": {
         "data": {
          "bar": [
           {
            "error_x": {
             "color": "#2a3f5f"
            },
            "error_y": {
             "color": "#2a3f5f"
            },
            "marker": {
             "line": {
              "color": "#E5ECF6",
              "width": 0.5
             }
            },
            "type": "bar"
           }
          ],
          "barpolar": [
           {
            "marker": {
             "line": {
              "color": "#E5ECF6",
              "width": 0.5
             }
            },
            "type": "barpolar"
           }
          ],
          "carpet": [
           {
            "aaxis": {
             "endlinecolor": "#2a3f5f",
             "gridcolor": "white",
             "linecolor": "white",
             "minorgridcolor": "white",
             "startlinecolor": "#2a3f5f"
            },
            "baxis": {
             "endlinecolor": "#2a3f5f",
             "gridcolor": "white",
             "linecolor": "white",
             "minorgridcolor": "white",
             "startlinecolor": "#2a3f5f"
            },
            "type": "carpet"
           }
          ],
          "choropleth": [
           {
            "colorbar": {
             "outlinewidth": 0,
             "ticks": ""
            },
            "type": "choropleth"
           }
          ],
          "contour": [
           {
            "colorbar": {
             "outlinewidth": 0,
             "ticks": ""
            },
            "colorscale": [
             [
              0,
              "#0d0887"
             ],
             [
              0.1111111111111111,
              "#46039f"
             ],
             [
              0.2222222222222222,
              "#7201a8"
             ],
             [
              0.3333333333333333,
              "#9c179e"
             ],
             [
              0.4444444444444444,
              "#bd3786"
             ],
             [
              0.5555555555555556,
              "#d8576b"
             ],
             [
              0.6666666666666666,
              "#ed7953"
             ],
             [
              0.7777777777777778,
              "#fb9f3a"
             ],
             [
              0.8888888888888888,
              "#fdca26"
             ],
             [
              1,
              "#f0f921"
             ]
            ],
            "type": "contour"
           }
          ],
          "contourcarpet": [
           {
            "colorbar": {
             "outlinewidth": 0,
             "ticks": ""
            },
            "type": "contourcarpet"
           }
          ],
          "heatmap": [
           {
            "colorbar": {
             "outlinewidth": 0,
             "ticks": ""
            },
            "colorscale": [
             [
              0,
              "#0d0887"
             ],
             [
              0.1111111111111111,
              "#46039f"
             ],
             [
              0.2222222222222222,
              "#7201a8"
             ],
             [
              0.3333333333333333,
              "#9c179e"
             ],
             [
              0.4444444444444444,
              "#bd3786"
             ],
             [
              0.5555555555555556,
              "#d8576b"
             ],
             [
              0.6666666666666666,
              "#ed7953"
             ],
             [
              0.7777777777777778,
              "#fb9f3a"
             ],
             [
              0.8888888888888888,
              "#fdca26"
             ],
             [
              1,
              "#f0f921"
             ]
            ],
            "type": "heatmap"
           }
          ],
          "heatmapgl": [
           {
            "colorbar": {
             "outlinewidth": 0,
             "ticks": ""
            },
            "colorscale": [
             [
              0,
              "#0d0887"
             ],
             [
              0.1111111111111111,
              "#46039f"
             ],
             [
              0.2222222222222222,
              "#7201a8"
             ],
             [
              0.3333333333333333,
              "#9c179e"
             ],
             [
              0.4444444444444444,
              "#bd3786"
             ],
             [
              0.5555555555555556,
              "#d8576b"
             ],
             [
              0.6666666666666666,
              "#ed7953"
             ],
             [
              0.7777777777777778,
              "#fb9f3a"
             ],
             [
              0.8888888888888888,
              "#fdca26"
             ],
             [
              1,
              "#f0f921"
             ]
            ],
            "type": "heatmapgl"
           }
          ],
          "histogram": [
           {
            "marker": {
             "colorbar": {
              "outlinewidth": 0,
              "ticks": ""
             }
            },
            "type": "histogram"
           }
          ],
          "histogram2d": [
           {
            "colorbar": {
             "outlinewidth": 0,
             "ticks": ""
            },
            "colorscale": [
             [
              0,
              "#0d0887"
             ],
             [
              0.1111111111111111,
              "#46039f"
             ],
             [
              0.2222222222222222,
              "#7201a8"
             ],
             [
              0.3333333333333333,
              "#9c179e"
             ],
             [
              0.4444444444444444,
              "#bd3786"
             ],
             [
              0.5555555555555556,
              "#d8576b"
             ],
             [
              0.6666666666666666,
              "#ed7953"
             ],
             [
              0.7777777777777778,
              "#fb9f3a"
             ],
             [
              0.8888888888888888,
              "#fdca26"
             ],
             [
              1,
              "#f0f921"
             ]
            ],
            "type": "histogram2d"
           }
          ],
          "histogram2dcontour": [
           {
            "colorbar": {
             "outlinewidth": 0,
             "ticks": ""
            },
            "colorscale": [
             [
              0,
              "#0d0887"
             ],
             [
              0.1111111111111111,
              "#46039f"
             ],
             [
              0.2222222222222222,
              "#7201a8"
             ],
             [
              0.3333333333333333,
              "#9c179e"
             ],
             [
              0.4444444444444444,
              "#bd3786"
             ],
             [
              0.5555555555555556,
              "#d8576b"
             ],
             [
              0.6666666666666666,
              "#ed7953"
             ],
             [
              0.7777777777777778,
              "#fb9f3a"
             ],
             [
              0.8888888888888888,
              "#fdca26"
             ],
             [
              1,
              "#f0f921"
             ]
            ],
            "type": "histogram2dcontour"
           }
          ],
          "mesh3d": [
           {
            "colorbar": {
             "outlinewidth": 0,
             "ticks": ""
            },
            "type": "mesh3d"
           }
          ],
          "parcoords": [
           {
            "line": {
             "colorbar": {
              "outlinewidth": 0,
              "ticks": ""
             }
            },
            "type": "parcoords"
           }
          ],
          "pie": [
           {
            "automargin": true,
            "type": "pie"
           }
          ],
          "scatter": [
           {
            "marker": {
             "colorbar": {
              "outlinewidth": 0,
              "ticks": ""
             }
            },
            "type": "scatter"
           }
          ],
          "scatter3d": [
           {
            "line": {
             "colorbar": {
              "outlinewidth": 0,
              "ticks": ""
             }
            },
            "marker": {
             "colorbar": {
              "outlinewidth": 0,
              "ticks": ""
             }
            },
            "type": "scatter3d"
           }
          ],
          "scattercarpet": [
           {
            "marker": {
             "colorbar": {
              "outlinewidth": 0,
              "ticks": ""
             }
            },
            "type": "scattercarpet"
           }
          ],
          "scattergeo": [
           {
            "marker": {
             "colorbar": {
              "outlinewidth": 0,
              "ticks": ""
             }
            },
            "type": "scattergeo"
           }
          ],
          "scattergl": [
           {
            "marker": {
             "colorbar": {
              "outlinewidth": 0,
              "ticks": ""
             }
            },
            "type": "scattergl"
           }
          ],
          "scattermapbox": [
           {
            "marker": {
             "colorbar": {
              "outlinewidth": 0,
              "ticks": ""
             }
            },
            "type": "scattermapbox"
           }
          ],
          "scatterpolar": [
           {
            "marker": {
             "colorbar": {
              "outlinewidth": 0,
              "ticks": ""
             }
            },
            "type": "scatterpolar"
           }
          ],
          "scatterpolargl": [
           {
            "marker": {
             "colorbar": {
              "outlinewidth": 0,
              "ticks": ""
             }
            },
            "type": "scatterpolargl"
           }
          ],
          "scatterternary": [
           {
            "marker": {
             "colorbar": {
              "outlinewidth": 0,
              "ticks": ""
             }
            },
            "type": "scatterternary"
           }
          ],
          "surface": [
           {
            "colorbar": {
             "outlinewidth": 0,
             "ticks": ""
            },
            "colorscale": [
             [
              0,
              "#0d0887"
             ],
             [
              0.1111111111111111,
              "#46039f"
             ],
             [
              0.2222222222222222,
              "#7201a8"
             ],
             [
              0.3333333333333333,
              "#9c179e"
             ],
             [
              0.4444444444444444,
              "#bd3786"
             ],
             [
              0.5555555555555556,
              "#d8576b"
             ],
             [
              0.6666666666666666,
              "#ed7953"
             ],
             [
              0.7777777777777778,
              "#fb9f3a"
             ],
             [
              0.8888888888888888,
              "#fdca26"
             ],
             [
              1,
              "#f0f921"
             ]
            ],
            "type": "surface"
           }
          ],
          "table": [
           {
            "cells": {
             "fill": {
              "color": "#EBF0F8"
             },
             "line": {
              "color": "white"
             }
            },
            "header": {
             "fill": {
              "color": "#C8D4E3"
             },
             "line": {
              "color": "white"
             }
            },
            "type": "table"
           }
          ]
         },
         "layout": {
          "annotationdefaults": {
           "arrowcolor": "#2a3f5f",
           "arrowhead": 0,
           "arrowwidth": 1
          },
          "autotypenumbers": "strict",
          "coloraxis": {
           "colorbar": {
            "outlinewidth": 0,
            "ticks": ""
           }
          },
          "colorscale": {
           "diverging": [
            [
             0,
             "#8e0152"
            ],
            [
             0.1,
             "#c51b7d"
            ],
            [
             0.2,
             "#de77ae"
            ],
            [
             0.3,
             "#f1b6da"
            ],
            [
             0.4,
             "#fde0ef"
            ],
            [
             0.5,
             "#f7f7f7"
            ],
            [
             0.6,
             "#e6f5d0"
            ],
            [
             0.7,
             "#b8e186"
            ],
            [
             0.8,
             "#7fbc41"
            ],
            [
             0.9,
             "#4d9221"
            ],
            [
             1,
             "#276419"
            ]
           ],
           "sequential": [
            [
             0,
             "#0d0887"
            ],
            [
             0.1111111111111111,
             "#46039f"
            ],
            [
             0.2222222222222222,
             "#7201a8"
            ],
            [
             0.3333333333333333,
             "#9c179e"
            ],
            [
             0.4444444444444444,
             "#bd3786"
            ],
            [
             0.5555555555555556,
             "#d8576b"
            ],
            [
             0.6666666666666666,
             "#ed7953"
            ],
            [
             0.7777777777777778,
             "#fb9f3a"
            ],
            [
             0.8888888888888888,
             "#fdca26"
            ],
            [
             1,
             "#f0f921"
            ]
           ],
           "sequentialminus": [
            [
             0,
             "#0d0887"
            ],
            [
             0.1111111111111111,
             "#46039f"
            ],
            [
             0.2222222222222222,
             "#7201a8"
            ],
            [
             0.3333333333333333,
             "#9c179e"
            ],
            [
             0.4444444444444444,
             "#bd3786"
            ],
            [
             0.5555555555555556,
             "#d8576b"
            ],
            [
             0.6666666666666666,
             "#ed7953"
            ],
            [
             0.7777777777777778,
             "#fb9f3a"
            ],
            [
             0.8888888888888888,
             "#fdca26"
            ],
            [
             1,
             "#f0f921"
            ]
           ]
          },
          "colorway": [
           "#636efa",
           "#EF553B",
           "#00cc96",
           "#ab63fa",
           "#FFA15A",
           "#19d3f3",
           "#FF6692",
           "#B6E880",
           "#FF97FF",
           "#FECB52"
          ],
          "font": {
           "color": "#2a3f5f"
          },
          "geo": {
           "bgcolor": "white",
           "lakecolor": "white",
           "landcolor": "#E5ECF6",
           "showlakes": true,
           "showland": true,
           "subunitcolor": "white"
          },
          "hoverlabel": {
           "align": "left"
          },
          "hovermode": "closest",
          "mapbox": {
           "style": "light"
          },
          "paper_bgcolor": "white",
          "plot_bgcolor": "#E5ECF6",
          "polar": {
           "angularaxis": {
            "gridcolor": "white",
            "linecolor": "white",
            "ticks": ""
           },
           "bgcolor": "#E5ECF6",
           "radialaxis": {
            "gridcolor": "white",
            "linecolor": "white",
            "ticks": ""
           }
          },
          "scene": {
           "xaxis": {
            "backgroundcolor": "#E5ECF6",
            "gridcolor": "white",
            "gridwidth": 2,
            "linecolor": "white",
            "showbackground": true,
            "ticks": "",
            "zerolinecolor": "white"
           },
           "yaxis": {
            "backgroundcolor": "#E5ECF6",
            "gridcolor": "white",
            "gridwidth": 2,
            "linecolor": "white",
            "showbackground": true,
            "ticks": "",
            "zerolinecolor": "white"
           },
           "zaxis": {
            "backgroundcolor": "#E5ECF6",
            "gridcolor": "white",
            "gridwidth": 2,
            "linecolor": "white",
            "showbackground": true,
            "ticks": "",
            "zerolinecolor": "white"
           }
          },
          "shapedefaults": {
           "line": {
            "color": "#2a3f5f"
           }
          },
          "ternary": {
           "aaxis": {
            "gridcolor": "white",
            "linecolor": "white",
            "ticks": ""
           },
           "baxis": {
            "gridcolor": "white",
            "linecolor": "white",
            "ticks": ""
           },
           "bgcolor": "#E5ECF6",
           "caxis": {
            "gridcolor": "white",
            "linecolor": "white",
            "ticks": ""
           }
          },
          "title": {
           "x": 0.05
          },
          "xaxis": {
           "automargin": true,
           "gridcolor": "white",
           "linecolor": "white",
           "ticks": "",
           "title": {
            "standoff": 15
           },
           "zerolinecolor": "white",
           "zerolinewidth": 2
          },
          "yaxis": {
           "automargin": true,
           "gridcolor": "white",
           "linecolor": "white",
           "ticks": "",
           "title": {
            "standoff": 15
           },
           "zerolinecolor": "white",
           "zerolinewidth": 2
          }
         }
        }
       }
      }
     },
     "metadata": {}
    }
   ],
   "source": [
    "import plotly.colors\n",
    "import plotly.graph_objects as go\n",
    "\n",
    "# Get all EU # in all drug registry\n",
    "eu_numbers_all_drugs = data_all_drugs['EU #'].unique()\n",
    "\n",
    "# Get all EU # in OD drug registry\n",
    "eu_numbers_od_drugs = data_od['EU #'].unique()\n",
    "\n",
    "# Check whether OD drug number can be found\n",
    "is_found = np.zeros(shape=len(eu_numbers_od_drugs), dtype=bool)\n",
    "for idx, number in enumerate(eu_numbers_od_drugs):\n",
    "    if number in eu_numbers_all_drugs:\n",
    "        is_found[idx] = True\n",
    "\n",
    "# Create dataframe\n",
    "matched_data = pd.DataFrame(columns=['EU #', 'Match status'])\n",
    "matched_data = matched_data.append(pd.DataFrame({\n",
    "    'EU #': eu_numbers_od_drugs[is_found],\n",
    "    'Match status': 'In all drugs registry'}))\n",
    "matched_data = matched_data.append(pd.DataFrame({\n",
    "    'EU #': eu_numbers_od_drugs[~is_found],\n",
    "    'Match status': 'Not in all drugs registry'}))\n",
    "\n",
    "# Create figure\n",
    "fig = go.Figure()\n",
    "colours = plotly.colors.qualitative.Plotly\n",
    "\n",
    "n_in_all_drugs = len(\n",
    "    matched_data[matched_data['Match status'] == 'In all drugs registry'])\n",
    "n_not_in_all_drugs = len(\n",
    "    matched_data[matched_data['Match status'] == 'Not in all drugs registry'])\n",
    "\n",
    "fig.add_trace(go.Pie(\n",
    "    labels=['In all drugs registry', 'Not in all drugs registry'],\n",
    "    values=[n_in_all_drugs, n_not_in_all_drugs],\n",
    "    sort=False,\n",
    "    pull=[0, 0.2],\n",
    "    marker=dict(\n",
    "        colors=colours[:2], \n",
    "        line=dict(color='#000000', width=1))))\n",
    "fig.show()"
   ]
  },
  {
   "source": [
    "The EC all drugs registry does not include any OD applications"
   ],
   "cell_type": "markdown",
   "metadata": {}
  },
  {
   "source": [
    "## 2. How many OD drugs are repurposed drugs?\n",
    "\n",
    "We check how many of the OD drug products (i.e. the international non-proprietary name which identifies the active ingredient of the medicine (INN)) are identical to those of drugs in the EC all drugs registry.\n",
    "\n",
    "TODO:\n",
    "\n",
    "1. Get INNs of EC drugs by cross-referencing EC drugs with EMA dataset.\n",
    "2. Then check how many EC ODs products are in EC all drugs.\n",
    "\n",
    "Procedure:\n",
    "\n",
    "- Filter NaNs\n",
    "- Capitalise all product names / INNs\n",
    "- Check whether OD product is identical to an INN in all drugs dataset"
   ],
   "cell_type": "markdown",
   "metadata": {}
  },
  {
   "source": [
    "### 2.1 Get INN / product names from EMA dataset\n",
    "\n",
    "The EC dataset does not keep track of the INN for all drugs, so we would like to match drugs by EU # to get the INN from the EMA dataset. But **EU #** is not available for EMA all drugs registry. Alternative we attempt to match drugs based on Brand name."
   ],
   "cell_type": "markdown",
   "metadata": {}
  },
  {
   "cell_type": "code",
   "execution_count": 62,
   "metadata": {},
   "outputs": [
    {
     "output_type": "execute_result",
     "data": {
      "text/plain": [
       "        Category                                     Medicine name  \\\n",
       "0     Veterinary  FRONTPRO (PREVIOUSLY KNOWN AS AFOXOLANER MERIAL)   \n",
       "1          Human                                            CHOLIB   \n",
       "2          Human                                  REPAGLINIDE KRKA   \n",
       "3          Human                                          LIPROLOG   \n",
       "4          Human                                          HEXACIMA   \n",
       "...          ...                                               ...   \n",
       "1730       Human                                          LIPROLOG   \n",
       "1731       Human                                           ECHOGEN   \n",
       "1732       Human                                         ECOKINASE   \n",
       "1733       Human                                          PRIMAVAX   \n",
       "1734       Human                                       PYLORI-CHEK   \n",
       "\n",
       "                                       Therapeutic area  \\\n",
       "0                                                   NaN   \n",
       "1                                         Dyslipidemias   \n",
       "2                             Diabetes Mellitus, Type 2   \n",
       "3                                     Diabetes Mellitus   \n",
       "4     Hepatitis B, Tetanus, Immunization, Meningitis...   \n",
       "...                                                 ...   \n",
       "1730                                  Diabetes Mellitus   \n",
       "1731                                   Echocardiography   \n",
       "1732                              Myocardial Infarction   \n",
       "1733     Hepatitis B, Tetanus, Immunization, Diphtheria   \n",
       "1734              Breath Tests, Helicobacter Infections   \n",
       "\n",
       "     International non-proprietary name (INN) / common name  \\\n",
       "0                                            afoxolaner       \n",
       "1                              fenofibrate, simvastatin       \n",
       "2                                           repaglinide       \n",
       "3                                        insulin lispro       \n",
       "4     diphtheria, tetanus, pertussis (acellular, com...       \n",
       "...                                                 ...       \n",
       "1730                                     insulin lispro       \n",
       "1731                                dodecafluoropentane       \n",
       "1732                                          reteplase       \n",
       "1733  diphtheria, tetanus and hepatitis B vaccine, a...       \n",
       "1734                                           13C-urea       \n",
       "\n",
       "                                       Active substance   Product number  \\\n",
       "0                                            afoxolaner  EMEA/V/C/005126   \n",
       "1                              fenofibrate, simvastatin  EMEA/H/C/002559   \n",
       "2                                           repaglinide  EMEA/H/C/001066   \n",
       "3                                        insulin lispro  EMEA/H/C/000393   \n",
       "4     diphtheria toxoid / tetanus toxoid, two-compon...  EMEA/H/C/002702   \n",
       "...                                                 ...              ...   \n",
       "1730                                     insulin lispro  EMEA/H/C/000143   \n",
       "1731                                dodecafluoropentane  EMEA/H/C/000149   \n",
       "1732                                          reteplase  EMEA/H/C/000106   \n",
       "1733  diphtheria toxoid purified, hepatitis B, recom...  EMEA/H/C/000156   \n",
       "1734                                           13C-urea  EMEA/H/C/000182   \n",
       "\n",
       "     Patient safety Authorisation status          ATC code  \\\n",
       "0                no           Authorised               NaN   \n",
       "1                no           Authorised           C10BA04   \n",
       "2                no           Authorised           A10BX02   \n",
       "3                no           Authorised  A10AB04, A10AD04   \n",
       "4                no           Authorised           J07CA09   \n",
       "...             ...                  ...               ...   \n",
       "1730             no            Withdrawn           A10AB04   \n",
       "1731             no            Withdrawn             V08DA   \n",
       "1732             no            Withdrawn           B01AD07   \n",
       "1733             no            Withdrawn             J07CA   \n",
       "1734             no            Withdrawn             V04CX   \n",
       "\n",
       "     Additional monitoring  ...       Vet pharmacotherapeutic group  \\\n",
       "0                       no  ...  Ectoparasiticides for systemic use   \n",
       "1                       no  ...                                 NaN   \n",
       "2                       no  ...                                 NaN   \n",
       "3                       no  ...                                 NaN   \n",
       "4                       no  ...                                 NaN   \n",
       "...                    ...  ...                                 ...   \n",
       "1730                    no  ...                                 NaN   \n",
       "1731                    no  ...                                 NaN   \n",
       "1732                    no  ...                                 NaN   \n",
       "1733                    no  ...                                 NaN   \n",
       "1734                    no  ...                                 NaN   \n",
       "\n",
       "         Date of opinion       Decision date Revision number  \\\n",
       "0    2019-03-21 01:00:00 2020-11-06 01:00:00             3.0   \n",
       "1    2013-06-27 00:00:00 2020-10-23 00:00:00            12.0   \n",
       "2    2009-07-23 00:00:00 2020-10-28 01:00:00             6.0   \n",
       "3    2001-04-26 00:00:00 2020-09-04 00:00:00            28.0   \n",
       "4    2013-02-21 01:00:00 2020-09-24 00:00:00            21.0   \n",
       "...                  ...                 ...             ...   \n",
       "1730                 NaT 2001-02-19 01:00:00             0.0   \n",
       "1731                 NaT 2001-01-22 01:00:00             0.0   \n",
       "1732                 NaT 1999-07-30 00:00:00             0.0   \n",
       "1733                 NaT 2000-07-27 00:00:00             0.0   \n",
       "1734                 NaT 2000-07-05 02:00:00             0.0   \n",
       "\n",
       "                                 Condition / indication Species ATCvet code  \\\n",
       "0     Treatment of flea (Ctenocephalides felis and C...    Dogs    QP53BE01   \n",
       "1     Cholib is indicated as adjunctive therapy to d...     NaN         NaN   \n",
       "2     Repaglinide is indicated in patients with type...     NaN         NaN   \n",
       "3     For the treatment of adults and children with ...     NaN         NaN   \n",
       "4     Hexacima (DTaP-IPV-HB-Hib) is indicated for pr...     NaN         NaN   \n",
       "...                                                 ...     ...         ...   \n",
       "1730  For the treatment of patients with diabetes me...     NaN         NaN   \n",
       "1731  EchoGen is a transpulmonary echocardiographic ...     NaN         NaN   \n",
       "1732  Thrombolytic therapy of acute myocardial infar...     NaN         NaN   \n",
       "1733  This vaccine is indicated for active immunizat...     NaN         NaN   \n",
       "1734  Pylori-Chek may be used for in vivo diagnosis ...     NaN         NaN   \n",
       "\n",
       "         First published       Revision date  \\\n",
       "0    2019-06-07 17:00:00 2020-11-12 18:18:00   \n",
       "1    2018-08-20 00:00:00 2020-11-12 17:50:00   \n",
       "2    2017-10-27 00:00:00 2020-11-12 17:30:00   \n",
       "3    2017-10-23 00:00:00 2020-11-12 16:54:00   \n",
       "4    2018-01-08 12:30:00 2020-11-12 16:42:00   \n",
       "...                  ...                 ...   \n",
       "1730 2001-02-19 01:00:00 2001-08-01 00:00:00   \n",
       "1731 2001-01-22 01:00:00 2001-05-22 00:00:00   \n",
       "1732 1999-07-30 00:00:00 2000-12-12 01:00:00   \n",
       "1733 2000-07-27 00:00:00 2000-12-04 01:00:00   \n",
       "1734 2000-07-05 02:00:00 2000-07-17 02:00:00   \n",
       "\n",
       "                                                    URL  \n",
       "0     https://www.ema.europa.eu/en/medicines/veterin...  \n",
       "1     https://www.ema.europa.eu/en/medicines/human/E...  \n",
       "2     https://www.ema.europa.eu/en/medicines/human/E...  \n",
       "3     https://www.ema.europa.eu/en/medicines/human/E...  \n",
       "4     https://www.ema.europa.eu/en/medicines/human/E...  \n",
       "...                                                 ...  \n",
       "1730  https://www.ema.europa.eu/en/medicines/human/E...  \n",
       "1731  https://www.ema.europa.eu/en/medicines/human/E...  \n",
       "1732  https://www.ema.europa.eu/en/medicines/human/E...  \n",
       "1733  https://www.ema.europa.eu/en/medicines/human/E...  \n",
       "1734  https://www.ema.europa.eu/en/medicines/human/E...  \n",
       "\n",
       "[1735 rows x 30 columns]"
      ],
      "text/html": "<div>\n<style scoped>\n    .dataframe tbody tr th:only-of-type {\n        vertical-align: middle;\n    }\n\n    .dataframe tbody tr th {\n        vertical-align: top;\n    }\n\n    .dataframe thead th {\n        text-align: right;\n    }\n</style>\n<table border=\"1\" class=\"dataframe\">\n  <thead>\n    <tr style=\"text-align: right;\">\n      <th></th>\n      <th>Category</th>\n      <th>Medicine name</th>\n      <th>Therapeutic area</th>\n      <th>International non-proprietary name (INN) / common name</th>\n      <th>Active substance</th>\n      <th>Product number</th>\n      <th>Patient safety</th>\n      <th>Authorisation status</th>\n      <th>ATC code</th>\n      <th>Additional monitoring</th>\n      <th>...</th>\n      <th>Vet pharmacotherapeutic group</th>\n      <th>Date of opinion</th>\n      <th>Decision date</th>\n      <th>Revision number</th>\n      <th>Condition / indication</th>\n      <th>Species</th>\n      <th>ATCvet code</th>\n      <th>First published</th>\n      <th>Revision date</th>\n      <th>URL</th>\n    </tr>\n  </thead>\n  <tbody>\n    <tr>\n      <th>0</th>\n      <td>Veterinary</td>\n      <td>FRONTPRO (PREVIOUSLY KNOWN AS AFOXOLANER MERIAL)</td>\n      <td>NaN</td>\n      <td>afoxolaner</td>\n      <td>afoxolaner</td>\n      <td>EMEA/V/C/005126</td>\n      <td>no</td>\n      <td>Authorised</td>\n      <td>NaN</td>\n      <td>no</td>\n      <td>...</td>\n      <td>Ectoparasiticides for systemic use</td>\n      <td>2019-03-21 01:00:00</td>\n      <td>2020-11-06 01:00:00</td>\n      <td>3.0</td>\n      <td>Treatment of flea (Ctenocephalides felis and C...</td>\n      <td>Dogs</td>\n      <td>QP53BE01</td>\n      <td>2019-06-07 17:00:00</td>\n      <td>2020-11-12 18:18:00</td>\n      <td>https://www.ema.europa.eu/en/medicines/veterin...</td>\n    </tr>\n    <tr>\n      <th>1</th>\n      <td>Human</td>\n      <td>CHOLIB</td>\n      <td>Dyslipidemias</td>\n      <td>fenofibrate, simvastatin</td>\n      <td>fenofibrate, simvastatin</td>\n      <td>EMEA/H/C/002559</td>\n      <td>no</td>\n      <td>Authorised</td>\n      <td>C10BA04</td>\n      <td>no</td>\n      <td>...</td>\n      <td>NaN</td>\n      <td>2013-06-27 00:00:00</td>\n      <td>2020-10-23 00:00:00</td>\n      <td>12.0</td>\n      <td>Cholib is indicated as adjunctive therapy to d...</td>\n      <td>NaN</td>\n      <td>NaN</td>\n      <td>2018-08-20 00:00:00</td>\n      <td>2020-11-12 17:50:00</td>\n      <td>https://www.ema.europa.eu/en/medicines/human/E...</td>\n    </tr>\n    <tr>\n      <th>2</th>\n      <td>Human</td>\n      <td>REPAGLINIDE KRKA</td>\n      <td>Diabetes Mellitus, Type 2</td>\n      <td>repaglinide</td>\n      <td>repaglinide</td>\n      <td>EMEA/H/C/001066</td>\n      <td>no</td>\n      <td>Authorised</td>\n      <td>A10BX02</td>\n      <td>no</td>\n      <td>...</td>\n      <td>NaN</td>\n      <td>2009-07-23 00:00:00</td>\n      <td>2020-10-28 01:00:00</td>\n      <td>6.0</td>\n      <td>Repaglinide is indicated in patients with type...</td>\n      <td>NaN</td>\n      <td>NaN</td>\n      <td>2017-10-27 00:00:00</td>\n      <td>2020-11-12 17:30:00</td>\n      <td>https://www.ema.europa.eu/en/medicines/human/E...</td>\n    </tr>\n    <tr>\n      <th>3</th>\n      <td>Human</td>\n      <td>LIPROLOG</td>\n      <td>Diabetes Mellitus</td>\n      <td>insulin lispro</td>\n      <td>insulin lispro</td>\n      <td>EMEA/H/C/000393</td>\n      <td>no</td>\n      <td>Authorised</td>\n      <td>A10AB04, A10AD04</td>\n      <td>no</td>\n      <td>...</td>\n      <td>NaN</td>\n      <td>2001-04-26 00:00:00</td>\n      <td>2020-09-04 00:00:00</td>\n      <td>28.0</td>\n      <td>For the treatment of adults and children with ...</td>\n      <td>NaN</td>\n      <td>NaN</td>\n      <td>2017-10-23 00:00:00</td>\n      <td>2020-11-12 16:54:00</td>\n      <td>https://www.ema.europa.eu/en/medicines/human/E...</td>\n    </tr>\n    <tr>\n      <th>4</th>\n      <td>Human</td>\n      <td>HEXACIMA</td>\n      <td>Hepatitis B, Tetanus, Immunization, Meningitis...</td>\n      <td>diphtheria, tetanus, pertussis (acellular, com...</td>\n      <td>diphtheria toxoid / tetanus toxoid, two-compon...</td>\n      <td>EMEA/H/C/002702</td>\n      <td>no</td>\n      <td>Authorised</td>\n      <td>J07CA09</td>\n      <td>no</td>\n      <td>...</td>\n      <td>NaN</td>\n      <td>2013-02-21 01:00:00</td>\n      <td>2020-09-24 00:00:00</td>\n      <td>21.0</td>\n      <td>Hexacima (DTaP-IPV-HB-Hib) is indicated for pr...</td>\n      <td>NaN</td>\n      <td>NaN</td>\n      <td>2018-01-08 12:30:00</td>\n      <td>2020-11-12 16:42:00</td>\n      <td>https://www.ema.europa.eu/en/medicines/human/E...</td>\n    </tr>\n    <tr>\n      <th>...</th>\n      <td>...</td>\n      <td>...</td>\n      <td>...</td>\n      <td>...</td>\n      <td>...</td>\n      <td>...</td>\n      <td>...</td>\n      <td>...</td>\n      <td>...</td>\n      <td>...</td>\n      <td>...</td>\n      <td>...</td>\n      <td>...</td>\n      <td>...</td>\n      <td>...</td>\n      <td>...</td>\n      <td>...</td>\n      <td>...</td>\n      <td>...</td>\n      <td>...</td>\n      <td>...</td>\n    </tr>\n    <tr>\n      <th>1730</th>\n      <td>Human</td>\n      <td>LIPROLOG</td>\n      <td>Diabetes Mellitus</td>\n      <td>insulin lispro</td>\n      <td>insulin lispro</td>\n      <td>EMEA/H/C/000143</td>\n      <td>no</td>\n      <td>Withdrawn</td>\n      <td>A10AB04</td>\n      <td>no</td>\n      <td>...</td>\n      <td>NaN</td>\n      <td>NaT</td>\n      <td>2001-02-19 01:00:00</td>\n      <td>0.0</td>\n      <td>For the treatment of patients with diabetes me...</td>\n      <td>NaN</td>\n      <td>NaN</td>\n      <td>2001-02-19 01:00:00</td>\n      <td>2001-08-01 00:00:00</td>\n      <td>https://www.ema.europa.eu/en/medicines/human/E...</td>\n    </tr>\n    <tr>\n      <th>1731</th>\n      <td>Human</td>\n      <td>ECHOGEN</td>\n      <td>Echocardiography</td>\n      <td>dodecafluoropentane</td>\n      <td>dodecafluoropentane</td>\n      <td>EMEA/H/C/000149</td>\n      <td>no</td>\n      <td>Withdrawn</td>\n      <td>V08DA</td>\n      <td>no</td>\n      <td>...</td>\n      <td>NaN</td>\n      <td>NaT</td>\n      <td>2001-01-22 01:00:00</td>\n      <td>0.0</td>\n      <td>EchoGen is a transpulmonary echocardiographic ...</td>\n      <td>NaN</td>\n      <td>NaN</td>\n      <td>2001-01-22 01:00:00</td>\n      <td>2001-05-22 00:00:00</td>\n      <td>https://www.ema.europa.eu/en/medicines/human/E...</td>\n    </tr>\n    <tr>\n      <th>1732</th>\n      <td>Human</td>\n      <td>ECOKINASE</td>\n      <td>Myocardial Infarction</td>\n      <td>reteplase</td>\n      <td>reteplase</td>\n      <td>EMEA/H/C/000106</td>\n      <td>no</td>\n      <td>Withdrawn</td>\n      <td>B01AD07</td>\n      <td>no</td>\n      <td>...</td>\n      <td>NaN</td>\n      <td>NaT</td>\n      <td>1999-07-30 00:00:00</td>\n      <td>0.0</td>\n      <td>Thrombolytic therapy of acute myocardial infar...</td>\n      <td>NaN</td>\n      <td>NaN</td>\n      <td>1999-07-30 00:00:00</td>\n      <td>2000-12-12 01:00:00</td>\n      <td>https://www.ema.europa.eu/en/medicines/human/E...</td>\n    </tr>\n    <tr>\n      <th>1733</th>\n      <td>Human</td>\n      <td>PRIMAVAX</td>\n      <td>Hepatitis B, Tetanus, Immunization, Diphtheria</td>\n      <td>diphtheria, tetanus and hepatitis B vaccine, a...</td>\n      <td>diphtheria toxoid purified, hepatitis B, recom...</td>\n      <td>EMEA/H/C/000156</td>\n      <td>no</td>\n      <td>Withdrawn</td>\n      <td>J07CA</td>\n      <td>no</td>\n      <td>...</td>\n      <td>NaN</td>\n      <td>NaT</td>\n      <td>2000-07-27 00:00:00</td>\n      <td>0.0</td>\n      <td>This vaccine is indicated for active immunizat...</td>\n      <td>NaN</td>\n      <td>NaN</td>\n      <td>2000-07-27 00:00:00</td>\n      <td>2000-12-04 01:00:00</td>\n      <td>https://www.ema.europa.eu/en/medicines/human/E...</td>\n    </tr>\n    <tr>\n      <th>1734</th>\n      <td>Human</td>\n      <td>PYLORI-CHEK</td>\n      <td>Breath Tests, Helicobacter Infections</td>\n      <td>13C-urea</td>\n      <td>13C-urea</td>\n      <td>EMEA/H/C/000182</td>\n      <td>no</td>\n      <td>Withdrawn</td>\n      <td>V04CX</td>\n      <td>no</td>\n      <td>...</td>\n      <td>NaN</td>\n      <td>NaT</td>\n      <td>2000-07-05 02:00:00</td>\n      <td>0.0</td>\n      <td>Pylori-Chek may be used for in vivo diagnosis ...</td>\n      <td>NaN</td>\n      <td>NaN</td>\n      <td>2000-07-05 02:00:00</td>\n      <td>2000-07-17 02:00:00</td>\n      <td>https://www.ema.europa.eu/en/medicines/human/E...</td>\n    </tr>\n  </tbody>\n</table>\n<p>1735 rows × 30 columns</p>\n</div>"
     },
     "metadata": {},
     "execution_count": 62
    }
   ],
   "source": [
    "path = os.path.dirname(os.getcwd())\n",
    "data_ema = pd.read_excel(path + '/data/ema_all_drugs.xlsx', header=8)\n",
    "data_ema['Medicine name'] = data_ema['Medicine name'].str.upper()\n",
    "data_ema"
   ]
  },
  {
   "source": [
    "#### Check whether some brand names occur multiple times"
   ],
   "cell_type": "markdown",
   "metadata": {}
  },
  {
   "cell_type": "code",
   "execution_count": 63,
   "metadata": {},
   "outputs": [
    {
     "output_type": "execute_result",
     "data": {
      "text/plain": [
       "['BUDESONIDE/FORMOTEROL TEVA PHARMA B.V.',\n",
       " 'CIMZIA',\n",
       " 'CLOPIDOGREL RATIOPHARM',\n",
       " 'LIPROLOG',\n",
       " 'THYMANAX',\n",
       " 'VALDOXAN',\n",
       " 'YONDELIS',\n",
       " 'IONSYS']"
      ]
     },
     "metadata": {},
     "execution_count": 63
    }
   ],
   "source": [
    "non_unique_brands = []\n",
    "for brand in data_all_drugs['Brand name'].unique():\n",
    "    mask = data_all_drugs['Brand name'] == brand\n",
    "    if len(data_all_drugs[mask]) > 1:\n",
    "        non_unique_brands.append(brand)\n",
    "\n",
    "non_unique_brands"
   ]
  },
  {
   "source": [
    "We manually checked: each non-unique brand appears only twice, one of which is 'active' the other is either 'not active' or 'rejected'. So it's likely that the same brand name labels the exact same drug and the multiple matches correspond to repeated applications or renewals."
   ],
   "cell_type": "markdown",
   "metadata": {}
  },
  {
   "source": [
    "### Match unique EC brands with EMA dataset and thereby find product number\n",
    "\n",
    "For now: If EC brand name is contained in EMA brand name, we match. In the worst case scenario, this includes more active subtances in the resulting dataset than there truly are. But on the other hand, those active may also belong to non-OD drugs according to the EMA database (possibly explicitly exclude OD drugs in EMA database)."
   ],
   "cell_type": "markdown",
   "metadata": {}
  },
  {
   "cell_type": "code",
   "execution_count": 64,
   "metadata": {},
   "outputs": [
    {
     "output_type": "execute_result",
     "data": {
      "text/plain": [
       "             Brand name                  EMA brand name is identified  \\\n",
       "0             ABASAGLAR  ABASAGLAR (PREVIOUSLY ABASRIA)           yes   \n",
       "1               ABILIFY                         ABILIFY           yes   \n",
       "2               ABILIFY                ABILIFY MAINTENA           yes   \n",
       "3      ABILIFY MAINTENA                ABILIFY MAINTENA           yes   \n",
       "4              ABRAXANE                        ABRAXANE           yes   \n",
       "...                 ...                             ...           ...   \n",
       "1614           VYNFINIT                            none            no   \n",
       "1615           WINFURAN                            none            no   \n",
       "1616  XELJANZ (REFUSAL)                            none            no   \n",
       "1617            ZEFTERA    ZEFTERA (PREVIOUSLY ZEVTERA)           yes   \n",
       "1618            ZELNORM                         ZELNORM           yes   \n",
       "\n",
       "                         INN  \n",
       "0           insulin glargine  \n",
       "1               aripiprazole  \n",
       "2               aripiprazole  \n",
       "3               aripiprazole  \n",
       "4                 paclitaxel  \n",
       "...                      ...  \n",
       "1614                    none  \n",
       "1615                    none  \n",
       "1616                    none  \n",
       "1617  ceftobiprole medocaril  \n",
       "1618               tegaserod  \n",
       "\n",
       "[1619 rows x 4 columns]"
      ],
      "text/html": "<div>\n<style scoped>\n    .dataframe tbody tr th:only-of-type {\n        vertical-align: middle;\n    }\n\n    .dataframe tbody tr th {\n        vertical-align: top;\n    }\n\n    .dataframe thead th {\n        text-align: right;\n    }\n</style>\n<table border=\"1\" class=\"dataframe\">\n  <thead>\n    <tr style=\"text-align: right;\">\n      <th></th>\n      <th>Brand name</th>\n      <th>EMA brand name</th>\n      <th>is identified</th>\n      <th>INN</th>\n    </tr>\n  </thead>\n  <tbody>\n    <tr>\n      <th>0</th>\n      <td>ABASAGLAR</td>\n      <td>ABASAGLAR (PREVIOUSLY ABASRIA)</td>\n      <td>yes</td>\n      <td>insulin glargine</td>\n    </tr>\n    <tr>\n      <th>1</th>\n      <td>ABILIFY</td>\n      <td>ABILIFY</td>\n      <td>yes</td>\n      <td>aripiprazole</td>\n    </tr>\n    <tr>\n      <th>2</th>\n      <td>ABILIFY</td>\n      <td>ABILIFY MAINTENA</td>\n      <td>yes</td>\n      <td>aripiprazole</td>\n    </tr>\n    <tr>\n      <th>3</th>\n      <td>ABILIFY MAINTENA</td>\n      <td>ABILIFY MAINTENA</td>\n      <td>yes</td>\n      <td>aripiprazole</td>\n    </tr>\n    <tr>\n      <th>4</th>\n      <td>ABRAXANE</td>\n      <td>ABRAXANE</td>\n      <td>yes</td>\n      <td>paclitaxel</td>\n    </tr>\n    <tr>\n      <th>...</th>\n      <td>...</td>\n      <td>...</td>\n      <td>...</td>\n      <td>...</td>\n    </tr>\n    <tr>\n      <th>1614</th>\n      <td>VYNFINIT</td>\n      <td>none</td>\n      <td>no</td>\n      <td>none</td>\n    </tr>\n    <tr>\n      <th>1615</th>\n      <td>WINFURAN</td>\n      <td>none</td>\n      <td>no</td>\n      <td>none</td>\n    </tr>\n    <tr>\n      <th>1616</th>\n      <td>XELJANZ (REFUSAL)</td>\n      <td>none</td>\n      <td>no</td>\n      <td>none</td>\n    </tr>\n    <tr>\n      <th>1617</th>\n      <td>ZEFTERA</td>\n      <td>ZEFTERA (PREVIOUSLY ZEVTERA)</td>\n      <td>yes</td>\n      <td>ceftobiprole medocaril</td>\n    </tr>\n    <tr>\n      <th>1618</th>\n      <td>ZELNORM</td>\n      <td>ZELNORM</td>\n      <td>yes</td>\n      <td>tegaserod</td>\n    </tr>\n  </tbody>\n</table>\n<p>1619 rows × 4 columns</p>\n</div>"
     },
     "metadata": {},
     "execution_count": 64
    }
   ],
   "source": [
    "is_identified = []\n",
    "inn = []\n",
    "ec_brand = []\n",
    "matched_ema_brand = []\n",
    "brands = data_all_drugs['Brand name'].unique()\n",
    "ema_brands = data_ema['Medicine name'].unique()\n",
    "for brand in brands:\n",
    "    is_matched = False\n",
    "    for ema_brand in ema_brands:\n",
    "        # Check whether ec brand is subset of ema brand\n",
    "        if brand in ema_brand:\n",
    "            is_identified.append('yes')\n",
    "            matched_ema_brand.append(ema_brand)\n",
    "            ec_brand.append(brand)\n",
    "\n",
    "            # Mask for product\n",
    "            mask = data_ema['Medicine name'] == ema_brand\n",
    "            product = data_ema[mask]['Active substance'].iloc[0]\n",
    "            inn.append(product)\n",
    "\n",
    "            is_matched = True\n",
    "    \n",
    "    if is_matched is True:\n",
    "        continue\n",
    "\n",
    "    # If not identified\n",
    "    is_identified.append('no')\n",
    "    matched_ema_brand.append('none')\n",
    "    inn.append('none')\n",
    "    ec_brand.append(brand)\n",
    "\n",
    "\n",
    "matched_drugs = pd.DataFrame({\n",
    "    'Brand name': ec_brand,\n",
    "    'EMA brand name': matched_ema_brand,\n",
    "    'is identified': is_identified,\n",
    "    'INN': inn})\n",
    "matched_drugs"
   ]
  },
  {
   "source": [
    "### Check unmatched drugs\n",
    "\n",
    "Some EC brand names could not be found. For EC brands of the form \"name 1/name 2\" or \"name 1 (name 2)\" the above matching method might miss the drugs, because the complete EC brand name has to be contained in the EMA brand name. We check those candidates manually below."
   ],
   "cell_type": "markdown",
   "metadata": {}
  },
  {
   "cell_type": "code",
   "execution_count": 101,
   "metadata": {},
   "outputs": [
    {
     "output_type": "execute_result",
     "data": {
      "text/plain": [
       "                      Brand name EMA brand name is identified   INN\n",
       "12                       ADAKVEO           none            no  none\n",
       "49    AMLODIPINE/VALSARTAN MYLAN           none            no  none\n",
       "63            ARIKAYCE LIPOSOMAL           none            no  none\n",
       "135             BROPAIR SPIROMAX           none            no  none\n",
       "143                       BYFAVO           none            no  none\n",
       "...                          ...            ...           ...   ...\n",
       "1608                    SEROSTIM           none            no  none\n",
       "1613                       VIVIQ           none            no  none\n",
       "1614                    VYNFINIT           none            no  none\n",
       "1615                    WINFURAN           none            no  none\n",
       "1616           XELJANZ (REFUSAL)           none            no  none\n",
       "\n",
       "[91 rows x 4 columns]"
      ],
      "text/html": "<div>\n<style scoped>\n    .dataframe tbody tr th:only-of-type {\n        vertical-align: middle;\n    }\n\n    .dataframe tbody tr th {\n        vertical-align: top;\n    }\n\n    .dataframe thead th {\n        text-align: right;\n    }\n</style>\n<table border=\"1\" class=\"dataframe\">\n  <thead>\n    <tr style=\"text-align: right;\">\n      <th></th>\n      <th>Brand name</th>\n      <th>EMA brand name</th>\n      <th>is identified</th>\n      <th>INN</th>\n    </tr>\n  </thead>\n  <tbody>\n    <tr>\n      <th>12</th>\n      <td>ADAKVEO</td>\n      <td>none</td>\n      <td>no</td>\n      <td>none</td>\n    </tr>\n    <tr>\n      <th>49</th>\n      <td>AMLODIPINE/VALSARTAN MYLAN</td>\n      <td>none</td>\n      <td>no</td>\n      <td>none</td>\n    </tr>\n    <tr>\n      <th>63</th>\n      <td>ARIKAYCE LIPOSOMAL</td>\n      <td>none</td>\n      <td>no</td>\n      <td>none</td>\n    </tr>\n    <tr>\n      <th>135</th>\n      <td>BROPAIR SPIROMAX</td>\n      <td>none</td>\n      <td>no</td>\n      <td>none</td>\n    </tr>\n    <tr>\n      <th>143</th>\n      <td>BYFAVO</td>\n      <td>none</td>\n      <td>no</td>\n      <td>none</td>\n    </tr>\n    <tr>\n      <th>...</th>\n      <td>...</td>\n      <td>...</td>\n      <td>...</td>\n      <td>...</td>\n    </tr>\n    <tr>\n      <th>1608</th>\n      <td>SEROSTIM</td>\n      <td>none</td>\n      <td>no</td>\n      <td>none</td>\n    </tr>\n    <tr>\n      <th>1613</th>\n      <td>VIVIQ</td>\n      <td>none</td>\n      <td>no</td>\n      <td>none</td>\n    </tr>\n    <tr>\n      <th>1614</th>\n      <td>VYNFINIT</td>\n      <td>none</td>\n      <td>no</td>\n      <td>none</td>\n    </tr>\n    <tr>\n      <th>1615</th>\n      <td>WINFURAN</td>\n      <td>none</td>\n      <td>no</td>\n      <td>none</td>\n    </tr>\n    <tr>\n      <th>1616</th>\n      <td>XELJANZ (REFUSAL)</td>\n      <td>none</td>\n      <td>no</td>\n      <td>none</td>\n    </tr>\n  </tbody>\n</table>\n<p>91 rows × 4 columns</p>\n</div>"
     },
     "metadata": {},
     "execution_count": 101
    }
   ],
   "source": [
    "mask = matched_drugs['is identified'] == 'no'\n",
    "matched_drugs[mask]"
   ]
  },
  {
   "source": [
    "Filter all names which are just one word"
   ],
   "cell_type": "markdown",
   "metadata": {}
  },
  {
   "cell_type": "code",
   "execution_count": 107,
   "metadata": {},
   "outputs": [
    {
     "output_type": "stream",
     "name": "stdout",
     "text": [
      "Critical drugs:  36 \n\n['AMLODIPINE/VALSARTAN MYLAN', 'ARIKAYCE LIPOSOMAL', 'BROPAIR SPIROMAX', 'CLOPIDOGREL TAW PHARMA', 'CLOPIDOGREL/ACETYLSALICYLIC ACID MYLAN', 'COVID-19 VACCINE JANSSEN', 'COVID-19 VACCINE MODERNA', 'EMTRICITABINE /TENOFOVIR DISOPROXIL KRKA D.D.', 'EXPAREL LIPOSOMAL', 'HEPLISAV B', 'IRBESARTAN / HYDROCHLOROTHIAZIDE TEVA', 'IRBESARTAN HCT ZENTIVA', 'LAMIVUDINE / ZIDOVUDINE TEVA', 'LENALIDOMIDE KRKA', 'LENALIDOMIDE KRKA D.D.', 'LENALIDOMIDE KRKA D.D. NOVO MESTO', 'LENALIDOMIDE MYLAN', 'OBILTOXAXIMAB SFL', 'RIBAVIRIN TEVA PHARMA BV', 'RIVAROXABAN ACCORD', 'SEFFALAIR SPIROMAX', 'SUNITINIB ACCORD', 'THIOTEPA RIEMSER', 'TRIXEO AEROSPHERE', 'CLOPIDOGREL / ACETYLSALICYLIC ACID TEVA', 'HUMALOG-HUMAJECT', 'HUMALOG-PEN', 'IRBESARTAN HCT BMS', 'RIVASTIGMINE 3M HEALTH CARE LTD.', 'TECNEMAB-K-1', 'TENECTEPLASE BOEHRINGER INGELHEIM PHARMA GMBH & CO. KG', 'VALDYN (EX KUDEQ)', 'MYLOTARG REFUSAL', 'RAMELTEON TAKEDA GLOBAL RESEARCH AND DEVELOPMENT CENTRE (EUROPE) LTD', 'RAXONE REFUSAL', 'XELJANZ (REFUSAL)']\n\n\nUncritical drugs:  55 \n\n['ADAKVEO', 'BYFAVO', 'COMIRNATY', 'DOVPRELA', 'ELZONRIS', 'ENHERTU', 'EVRYSDI', 'FINTEPLA', 'INREBIC', 'KESIMPTA', 'KIXELLE', 'LEQVIO', 'LIBMELDY', 'LIVOGIVA', 'LUMEBLUE', 'LUMOXITI', 'MENQUADFI', 'NEXPOVIO', 'NYVEPRIA', 'OGLUO', 'ONBEVZI', 'OXLUMO', 'PALFORZIA', 'PEMAZYRE', 'PHELINUN', 'PHESGO', 'REKAMBYS', 'RETSEVMO', 'ROCLANDA', 'RUKOBIA', 'SUPEMTEK', 'TECARTUS', 'TUKYSA', 'VAXZEVRIA', 'VAZKEPA', 'VOCABRIA', 'XOFLUZA', 'YUFLYMA', 'QUTAVINA', 'TURALIO', 'EVOXAC', 'FOLCEPRI', 'GAMIFANT', 'IXEMPRA', 'KIACTA', 'KRONOS', 'LUVENIQ', 'MOVECTRO', 'NENAD', 'NEOCEPRI', 'RESCUPASE', 'SEROSTIM', 'VIVIQ', 'VYNFINIT', 'WINFURAN']\n"
     ]
    }
   ],
   "source": [
    "critical_brand_names = []\n",
    "uncritical_brand_names = []\n",
    "for brand in matched_drugs[mask]['Brand name']:\n",
    "    if (' ' in brand) or ('/' in brand) or ('(' in brand) or ('-' in brand):\n",
    "        critical_brand_names.append(brand)\n",
    "    else:\n",
    "        uncritical_brand_names.append(brand)\n",
    "\n",
    "print('Critical drugs: ', len(critical_brand_names), '\\n')\n",
    "print(critical_brand_names)\n",
    "print('\\n')\n",
    "print('Uncritical drugs: ', len(uncritical_brand_names), '\\n')\n",
    "print(uncritical_brand_names)"
   ]
  },
  {
   "source": [
    "### Try to match critical brands that are obvious to parse"
   ],
   "cell_type": "markdown",
   "metadata": {}
  },
  {
   "cell_type": "code",
   "execution_count": 114,
   "metadata": {},
   "outputs": [],
   "source": [
    "# Parse critical name manually\n",
    "parse_dict = {\n",
    "    'AMLODIPINE/VALSARTAN MYLAN': ['AMLODIPINE', 'VALSARTAN MYLAN'],\n",
    "    'CLOPIDOGREL/ACETYLSALICYLIC ACID MYLAN': ['CLOPIDOGREL', 'ACETYLSALICYLIC ACID MYLAN'],\n",
    "    'EMTRICITABINE /TENOFOVIR DISOPROXIL KRKA D.D.': ['EMTRICITABINE', 'TENOFOVIR DISOPROXIL KRKA D.D.'],\n",
    "    'IRBESARTAN / HYDROCHLOROTHIAZIDE TEVA': ['IRBESARTAN', 'HYDROCHLOROTHIAZIDE TEVA'],\n",
    "    'LAMIVUDINE / ZIDOVUDINE TEVA': ['LAMIVUDINE', 'ZIDOVUDINE TEVA'],\n",
    "    'CLOPIDOGREL / ACETYLSALICYLIC ACID TEVA': ['CLOPIDOGREL', 'ACETYLSALICYLIC ACID TEVA']}\n",
    "\n",
    "# Find parsed names in EMA dataset\n",
    "ema_brands = data_ema['Medicine name'].unique()\n",
    "for brand, parsed_brands in parse_dict.items():\n",
    "    matched_brands = []\n",
    "    inn = []\n",
    "    for parsed_brand in parsed_brands:\n",
    "        for ema_brand in ema_brands:\n",
    "            # Check whether ec brand is subset of ema brand\n",
    "            if parsed_brand in ema_brand:\n",
    "                matched_brands.append(ema_brand)\n",
    "\n",
    "                # Mask for product\n",
    "                mask = data_ema['Medicine name'] == ema_brand\n",
    "                product = data_ema[mask]['Active substance'].iloc[0]\n",
    "                inn.append(product)\n",
    "\n",
    "                # is_matched = True\n",
    "    \n",
    "    # Make sure that parsed drugs are not matched to different drugs\n",
    "    if len(matched_brands) == 2:\n",
    "        assert matched_brands[0] == matched_brands[1]\n",
    "\n",
    "    # Update if one of the parsed drugs was matched\n",
    "    if len(matched_brands) > 0:\n",
    "        mask = matched_drugs['Brand name'] == brand\n",
    "        matched_drugs.loc[mask, 'EMA brand name'] = matched_brands[0]\n",
    "        matched_drugs.loc[mask, 'is identified'] = 'yes'\n",
    "        matched_drugs.loc[mask, 'INN'] = inn[0]"
   ]
  },
  {
   "cell_type": "code",
   "execution_count": 115,
   "metadata": {},
   "outputs": [
    {
     "output_type": "execute_result",
     "data": {
      "text/plain": [
       "                                         Brand name  \\\n",
       "49                       AMLODIPINE/VALSARTAN MYLAN   \n",
       "193          CLOPIDOGREL/ACETYLSALICYLIC ACID MYLAN   \n",
       "308   EMTRICITABINE /TENOFOVIR DISOPROXIL KRKA D.D.   \n",
       "504           IRBESARTAN / HYDROCHLOROTHIAZIDE TEVA   \n",
       "567                    LAMIVUDINE / ZIDOVUDINE TEVA   \n",
       "1292        CLOPIDOGREL / ACETYLSALICYLIC ACID TEVA   \n",
       "\n",
       "                                         EMA brand name is identified  \\\n",
       "49                       AMLODIPINE  / VALSARTAN MYLAN            yes   \n",
       "193            CLOPIDOGREL / ACETYLSALICYLIC ACID MYLAN           yes   \n",
       "308   EFAVIRENZ/EMTRICITABINE/TENOFOVIR DISOPROXIL M...           yes   \n",
       "504   IRBESARTAN HYDROCHLOROTHIAZIDE ZENTIVA (PREVIO...           yes   \n",
       "567                                     LAMIVUDINE TEVA           yes   \n",
       "1292           CLOPIDOGREL / ACETYLSALICYLIC ACID MYLAN           yes   \n",
       "\n",
       "                                                    INN  \n",
       "49                       Amlodipine besilate, valsartan  \n",
       "193   acetylsalicylic acid, clopidogrel hydrogen sul...  \n",
       "308   efavirenz, emtricitabine, tenofovir disoproxil...  \n",
       "504                     irbesartan, hydrochlorothiazide  \n",
       "567                                          lamivudine  \n",
       "1292  acetylsalicylic acid, clopidogrel hydrogen sul...  "
      ],
      "text/html": "<div>\n<style scoped>\n    .dataframe tbody tr th:only-of-type {\n        vertical-align: middle;\n    }\n\n    .dataframe tbody tr th {\n        vertical-align: top;\n    }\n\n    .dataframe thead th {\n        text-align: right;\n    }\n</style>\n<table border=\"1\" class=\"dataframe\">\n  <thead>\n    <tr style=\"text-align: right;\">\n      <th></th>\n      <th>Brand name</th>\n      <th>EMA brand name</th>\n      <th>is identified</th>\n      <th>INN</th>\n    </tr>\n  </thead>\n  <tbody>\n    <tr>\n      <th>49</th>\n      <td>AMLODIPINE/VALSARTAN MYLAN</td>\n      <td>AMLODIPINE  / VALSARTAN MYLAN</td>\n      <td>yes</td>\n      <td>Amlodipine besilate, valsartan</td>\n    </tr>\n    <tr>\n      <th>193</th>\n      <td>CLOPIDOGREL/ACETYLSALICYLIC ACID MYLAN</td>\n      <td>CLOPIDOGREL / ACETYLSALICYLIC ACID MYLAN</td>\n      <td>yes</td>\n      <td>acetylsalicylic acid, clopidogrel hydrogen sul...</td>\n    </tr>\n    <tr>\n      <th>308</th>\n      <td>EMTRICITABINE /TENOFOVIR DISOPROXIL KRKA D.D.</td>\n      <td>EFAVIRENZ/EMTRICITABINE/TENOFOVIR DISOPROXIL M...</td>\n      <td>yes</td>\n      <td>efavirenz, emtricitabine, tenofovir disoproxil...</td>\n    </tr>\n    <tr>\n      <th>504</th>\n      <td>IRBESARTAN / HYDROCHLOROTHIAZIDE TEVA</td>\n      <td>IRBESARTAN HYDROCHLOROTHIAZIDE ZENTIVA (PREVIO...</td>\n      <td>yes</td>\n      <td>irbesartan, hydrochlorothiazide</td>\n    </tr>\n    <tr>\n      <th>567</th>\n      <td>LAMIVUDINE / ZIDOVUDINE TEVA</td>\n      <td>LAMIVUDINE TEVA</td>\n      <td>yes</td>\n      <td>lamivudine</td>\n    </tr>\n    <tr>\n      <th>1292</th>\n      <td>CLOPIDOGREL / ACETYLSALICYLIC ACID TEVA</td>\n      <td>CLOPIDOGREL / ACETYLSALICYLIC ACID MYLAN</td>\n      <td>yes</td>\n      <td>acetylsalicylic acid, clopidogrel hydrogen sul...</td>\n    </tr>\n  </tbody>\n</table>\n</div>"
     },
     "metadata": {},
     "execution_count": 115
    }
   ],
   "source": [
    "mask = \\\n",
    "    (matched_drugs['Brand name'] == 'AMLODIPINE/VALSARTAN MYLAN') | \\\n",
    "    (matched_drugs['Brand name'] == 'CLOPIDOGREL/ACETYLSALICYLIC ACID MYLAN') | \\\n",
    "    (matched_drugs['Brand name'] == 'EMTRICITABINE /TENOFOVIR DISOPROXIL KRKA D.D.') | \\\n",
    "    (matched_drugs['Brand name'] == 'IRBESARTAN / HYDROCHLOROTHIAZIDE TEVA') | \\\n",
    "    (matched_drugs['Brand name'] == 'LAMIVUDINE / ZIDOVUDINE TEVA') | \\\n",
    "    (matched_drugs['Brand name'] == 'CLOPIDOGREL / ACETYLSALICYLIC ACID TEVA')\n",
    "matched_drugs[mask]"
   ]
  },
  {
   "source": [
    "### Check double matches"
   ],
   "cell_type": "markdown",
   "metadata": {}
  },
  {
   "cell_type": "code",
   "execution_count": 116,
   "metadata": {},
   "outputs": [
    {
     "output_type": "execute_result",
     "data": {
      "text/plain": [
       "58"
      ]
     },
     "metadata": {},
     "execution_count": 116
    }
   ],
   "source": [
    "double_matches = []\n",
    "brands = matched_drugs['Brand name'].unique()\n",
    "for brand in brands:\n",
    "    mask = matched_drugs['Brand name'] == brand\n",
    "    temp = matched_drugs[mask]\n",
    "    if len(temp) > 1:\n",
    "        double_matches.append(temp['Brand name'].iloc[0])\n",
    "\n",
    "len(double_matches)"
   ]
  },
  {
   "source": [
    "## Match EC OD drugs based on product \n",
    "\n",
    "### 1. Identical match"
   ],
   "cell_type": "markdown",
   "metadata": {}
  },
  {
   "source": [
    "### Check INN of EC all drugs (mostly single words, 2 words, or even a list of compounds?)"
   ],
   "cell_type": "markdown",
   "metadata": {}
  },
  {
   "cell_type": "code",
   "execution_count": 122,
   "metadata": {
    "tags": [
     "outputPrepend"
    ]
   },
   "outputs": [
    {
     "output_type": "stream",
     "name": "stdout",
     "text": [
      "isartan, amlodipine', 'cobicistat on silicon dioxide', 'indacaterol, Glycopyrronium bromide', 'Glycopyrronium bromide, indacaterol maleate', 'meropenem trihydrate, vaborbactam', 'vibrio cholerae, strain cvd 103-hgr, live', 'Diphtheria toxoid, tetanus toxoid, Bordetella pertussis antigens: pertussis toxoid, filamentous haemagglutinin, pertactin, fimbriae Types 2 and 3, hepatitis B surface antigen produced in yeast cells, poliovirus (inactivated): type 1 (Mahoney), type 2 (MEF-1), type 3 (Saukett) produced in Vero cells/ Haemophilus influenzae type b polysaccharide (polyribosylribitol phosphate) conjugated to meningococcal protein.', 'mixture of polynuclear iron(III)-oxyhydroxide, sucrose and starches', 'patiromer sorbitex calcium', 'tenofovir alafenamide fumarate', 'Ombitasvir, paritaprevir, ritonavir', 'recombinant human n-acetylgalactosamine-6-sulfatase (rhgalns)', 'alogliptin benzoate, metformin hydrochloride', 'tenofovir disoproxil fumarate', 'canagliflozin, metformin hydrochloride', 'Human coagulation factor VIII, human von willebrand factor', 'Sofosbuvir, velpatasvir, voxilaprevi', 'daunorubicin hydrochloride, cytarabine', 'metformin hydrochloride, dapagliflozin propanediol monohydrate', 'radium Ra223 dichloride', 'insulin degludec, liraglutide', 'bromfenac sodium sesquihydrate', 'yttrium [90Y] chloride', 'Recombinant Adenovirus type 26 (Ad26) encoding the glycoprotein (GP) of the Ebola virus Zaire (ZEBOV) Mayinga strain', 'Ceftazidime, avibactam', 'Niraparib (tosylate monohydrate)', 'elbasvir, grazoprevir', 'ceftolozane sulfate, tazobactam sodium', 'Glycopyrronium bromide, Indacaterol (acetate), Mometasone furoate', 'Nomegestrol acetate, estradiol', 'zoledronic acid monohydrate', 'zoledronic acid, zoledronic acid monohydrate', 'varicella-zoster virus (live, attenuated)', 'buprenorphine hydrochloride, naloxone hydrochloride dihydrate', 'human hepatitis-B immunoglobulin', 'bupivacaine, meloxicam', 'Autologous CD34+ cell enriched population that contains hematopoietic stem cells transduced with lentiglobin BB305 lentiviral vector encoding the beta-A-T87Q-globin gene', 'salmeterol xinafoate, fluticasone propionate', 'salmeterol, fluticasone propionate', 'split influenza virus, inactivated, containing antigen* : A/California/7/2009 (H1N1)v like strain (X-179A)* produced in eggs', 'rosiglitazone, glimepiride', 'rosiglitazone, metformin hydrochloride', 'whole virion, inactivated containing antigen: A/California/07/2009 (H1N1)v', 'characterised viable autologous cartilage cells expanded ex vivo expressing specific marker proteins', 'Whole virion, inactivated, containing antigen*: A/Vietnam/1194/2004 (H5N1)* produced in eggs', 'docetaxel, anhydrous', 'lamivudine, raltegravir potassium', 'allopurinol, lesinurad', 'ferric citrate coordination complex', 'inactivated whole avian influenza virus antigen of H5N2 subtype (strain A/duck/Potsdam/1402/86)', 'influenza virus surface antigens (haemagglutinin and neuraminidase) of strain A/Viet Nam/1194/2004 (H5N1)', 'Reassortant influenza virus (live attenuated) of the following strains:A/California/7/2009 (H1N1)pdm09 like strain, A/Victoria/361/2011 (H3N2) like strain, B/Massachusetts/2/2012 like strain', 'inactivated whole avian influenza virus antigen of H5 subtype (strain H5N6, A/duck/Potsdam/2243/84)', 'inactivated whole avian influenza virus antigen of H7N1 subtype (strain, A/CK/Italy/473/99)', 'Influenza virus surface antigens (haemagglutinin and neuraminidase) of strain: A/California/7/2009 (H1N1)-derived strain used NYMC X-181 7.5 microgragms per 0.5 ml dose', 'recombinant salmon calcitonin (rsct)', 'purified diphtheria toxoid, Purified Tetanus Toxoid, purified pertussis toxoid, purified pertussis filamentous haemagglutinin, hepatitis B surface antigen, Inactivated Type 1 Poliovirus (Mahoney), inactivated type 2 poliovirus (MEF 1), Inactivated Type 3 Poliovirus (Saukett), Haemophilus influenzae type b polysaccharide', 'split influenza virus, inactivated, containing antigen*: A/California/7/2009 (H1N1)v like strain (X-179A)*propagated in eggs.', 'influenza virus (inactivated, split) of the following strains:A/California/7/2009 (H1N1)pdm09 - like strain (A/California/7/2009, NYMC X-179A)A/Hong Kong/4801/2014 (H3N2) - like strain (A/Hong Kong/4801/2014, NYMC X-263B)B/Brisbane/60/2008 - like strain (B/Brisbane/60/2008, wild type)', 'human hepatitis B immunoglobulin', 'Diphtheria toxoid, tetanus toxoid, pertussis toxoid, pertussis haemagglutin filamentous, pertactin, hepatitis\\xa0B recombinant surface antigen', 'Diphtheria toxoid, tetanus toxoid, Bordetella pertussis antigens (pertussis toxoid, filamentous haemagglutinin, pertactin), hepatitis-B surface antigen, poliovirus (inactivated) (type 1 (Mahoney strain), type 2 (MEF-1 strain), type 3 (Saukett strain))', 'autologous cultured chondrocytes', 'human coagulation factor IX', 'dextromethorphan, quinidine', 'levodopa, carbidopa', 'telmisartan, Amlodipine (besilate)', 'influenza virus surface antigens (haemagglutinin and neuraminidase), inactivated, of the following strains:A/California/7/2009 (H1N1)pdm09 - like strain(A/Brisbane/10/2010, wild type)A/Switzerland/9715293/2013 (H3N2) - like strain(A/South Australia/55/2014, wild type)B/Phuket/3073/2013–like strain(B/Utah/9/2014, wild type)', 'split influenza virus inactivated, containing antigen equivalent to A/California/07/2009 (H1N1)-derived strain used NYMC X-179A', 'laropiprant, nicotinic acid', 'parathyroid hormone (rDNA)', 'A/Indonesia/05/2005 (H5N1) like strain used (PR8-IBCDC-RG2)', 'pneumococcal polysaccharide serotype 4 /\\xa0pneumococcal polysaccharide serotype 6B /\\xa0pneumococcal polysaccharide serotype 9V /\\xa0pneumococcal polysaccharide serotype 14, pneumococcal oligosaccharide serotype 18C /\\xa0pneumococcal polysaccharide serotype 19F /\\xa0pneumococcal polysaccharide serotype 23F', 'diphtheria toxoid purified, hepatitis B, recombinant surface antigen, tetanus toxoid purified', 'polyribosylribitol phosphate from Haemophilus influenzae type b as PRP-OMPC, outer membrane protein complex of Neisseria meningitidis (outer membrane protein complex of the B11 strain of Neisseria meningitidis subgroup B), adsorbed hepatitis B surface antigen produced in recombinant yeast cells (Saccharomyces cerevisiae)', 'autologous peripheral-blood mononuclear cells including a minimum of 50 million autologous CD54+ cells activated with prostatic acid phosphatase granulocyte-macrophage colony-stimulating factor', 'pandemic influenza vaccine (H5N1) (split virion, inactivated, adjuvanted)\\xa0', 'metformin hydrochloride, Saxagliptin, dapagliflozin', 'Diphtheria toxoid, tetanus toxoid, inactivated Bordetella pertussis, hepatitis B surface antigen (rDNA), Haemophilus influenzae type b polysaccharide', 'aliskiren, amlodipine', 'aliskiren, amlodipine, hydrochlorothiazide', 'rotavirus serotype 1 reassortant, rotavirus serotype 2 reassortant, rotavirus serotype 3 rhesus, rotavirus serotype 4 reassortant', 'human papillomavirus type 11 L1 protein /\\xa0human papillomavirus type 16 L1 protein /\\xa0human papillomavirus type 18 L1 protein\\xa0/\\xa0human papillomavirus type 6 L1 protein', 'diphtheria toxoid, haemagglutinin filamentous, adsorbed, pertactin, pertussis toxin, tetanus toxoid', 'Diphtheria toxoid, hepatitis B surface antigen, Bordetella pertussis (inactivated), tetanus toxoid', 'Influenza virus (whole virion, inactivated), containing antigen of: A/Vietnam/1203/2004 (H5N1)', 'collagenase Clostridium histolyticum', 'drotrecogin alfa (activated)', 'Allogeneic T cells genetically modified with a retroviral vector encoding for a truncated form of the human low affinity nerve growth factor receptor (ΔLNGFR) and the herpes simplex I virus thymidine kinase (HSV-TK Mut2)', 'memantine hydrochloride, donepezil hydrochloride', 'recombinant human interferon alfa-2a', 'Human heterologous liver cells', 'human IgG1 monoclonal antibody specific for human interleukin-1 alpha', 'budesonide, salmeterol', 'recombinant human monoclonal antibody to hsp', 'phentermine, topiramate', 'recombinant human C1 inhibitor']\n\n\nUncritical INNs:  676 \n\n['insulin glargine', 'aripiprazole', 'paclitaxel', 'epoetin alfa', 'filgrastim', 'zoledronic acid', 'pioglitazone hydrochloride', 'insulin human', 'human insulin', 'none', 'loxapine', 'Brentuximab vedotin', 'tadalafil', 'riociguat', 'febuxostat', 'tacrolimus', 'octocog alfa', 'desloratadine', 'everolimus', 'lonoctocog alfa', 'erenumab', 'fremanezumab', 'imiquimod', 'laronidase', 'alectinib hydrochloride', 'pemetrexed', 'hydrocortisone', 'orlistat', 'grapiprant', 'darvadstrocel', 'raloxifene hydrochloride', 'palonosetron hydrochloride', 'Peramivir', 'eftrenonacog alfa', 'brigatinib', 'ambrisentan', 'adalimumab', 'glibenclamide', 'Sodium phenylbutyrate', 'florbetapir (18F)', 'Anagrelide hydrochloride', 'insulin glulisine', 'Apixaban', 'irbesartan', 'tipranavir', 'darbepoetin alfa', 'leflunomide', 'fondaparinux sodium', 'Arsenic trioxide', 'atosiban acetate', 'nelarabine', 'Teriflunomide', 'fluticasone furoate', 'bevacizumab', 'interferon beta-1a', 'Fluciclovine (18F)', 'memantine hydrochloride', 'avapritinib', 'azacitidine', 'rasagiline', 'brinzolamide', 'Glucagon', 'Entecavir', 'avelumab', 'follitropin alfa', 'Nonacog alfa', 'etanercept', 'belimumab', 'brolucizumab', 'tasonermin', 'inotuzumab ozogamicin', 'ropeginterferon alfa-2b', 'interferon beta-1b', 'Mirabegron', 'epoetin theta', 'belantamab mafodotin', 'blinatumomab', 'rituximab', 'ibandronic acid', 'bortezomib', 'Encorafenib', 'sugammadex', 'ticagrelor', 'Vernakalant hydrochloride', 'cerliponase alfa', 'Vortioxetine', 'Brivaracetam', 'mannitol', 'midazolam', 'busulfan', 'buprenorphine', 'exenatide', 'cabazitaxel', 'Caplacizumab', 'cabozantinib s-malate', 'doxorubicin hydrochloride', 'Acalabrutinib', 'caspofungin', 'capecitabine', 'Vandetanib', 'carglumic acid', 'carmustine', 'aztreonam lysine', 'pegfilgrastim', 'mycophenolate mofetil', 'maraviroc', 'Histamine dihydrochloride', 'eliglustat', 'imiglucerase', 'cetrorelix', 'varenicline', 'Chenodeoxycholic acid', 'colesevelam', 'Certolizumab pegol', 'cinacalcet hydrochloride', 'Reslizumab', 'melatonin', 'clopidogrel hydrochloride', 'clopidogrel besilate', 'clopidogrel', 'clopidogrel hydrobromide', 'Colistimethate sodium', 'cabozantinib', 'entacapone', 'bazedoxifene', 'linaclotide', 'pantoprazole', 'ivabradine hydrochloride', 'Secukinumab', 'cobimetinib hemifumarate', 'isavuconazole', 'Burosumab', 'daptomycin', 'trientine dihydrochloride', 'Trientine tetrahydrochloride', 'hydroxocobalamin', 'duloxetine', 'Ramucirumab', 'Betaine anhydrous', 'mercaptamine hydrochloride', 'mercaptamine bitartrate', 'Decitabine', 'darunavir', 'Daratumumab', 'ioflupane (123l)', 'Glasdegib maleate', 'roflumilast', 'Zanamivir', 'deferasirox', 'Deferiprone', 'defibrotide', 'Delamanid', 'dexmedetomidine hydrochloride', 'dexmedetomidine', 'stiripentol', 'fidaxomicin', 'docetaxel', 'avatrombopag maleate', 'dupilumab', 'parecoxib sodium', 'sufentanil citrate', 'oseltamivir', 'anidulafungin', 'Azilsartan medoxomil', 'rilpivirine hydrochloride', 'efavirenz', 'fentanyl', 'prasugrel', 'idursulfase', 'ulipristal', 'efmoroctocog alfa', 'corifollitropin alfa', 'emedastine', 'fosaprepitant', 'Aprepitant', 'Galcanezumab', 'Elotuzumab', 'darifenacin hydrobromide', 'emtricitabine', 'entecavir monohydrate', 'vedolizumab', 'Glycopyrronium bromide', 'repaglinide', 'Cannabidiol', 'lamivudine', 'eptifibatide', 'cetuximab', 'vismodegib', 'apalutamide', 'Pirfenidone', 'ulipristal acetate', 'Romosozumab', 'clofarabine', 'rivastigmine', 'dasabuvir sodium', 'aflibercept', 'agalsidase beta', 'Fampridine', 'toremifene', 'benralizumab', 'fulvestrant', 'rasburicase', 'ferric maltol', 'insulin aspart', 'icatibant', 'amifampridine', 'degarelix', 'infliximab', 'teriparatide', 'temoporfin', 'tivozanib', 'enfuvirtide', 'perampanel', 'migalastat hydrochloride', 'vildagliptin', 'Obinutuzumab', 'gefitinib', 'Caffeine citrate', 'afatinib', 'Givosiran', 'imatinib', 'sildenafil citrate', 'Para-aminosalicylic acid', 'Eribulin', '13C-urea', 'propranolol hydrochloride', 'Emicizumab', 'Bulevirtide acetate', 'adefovir dipivoxil', 'trastuzumab', 'tasimelteon', 'indacaterol maleate', 'insulin lispro', 'topotecan', 'palbociclib', 'ponatinib', 'Imlifidase', 'albutrepenonacog alfa', 'irbesartan hydrochloride', 'ciclosporin', 'Canakinumab', 'tildrakizumab', 'imatinib mesilate', 'Ibrutinib', 'durvalumab', 'talimogene laherparepvec', 'Pomalidomide', 'levodopa', 'Mecasermin', 'umeclidinium bromide', 'dibotermin alfa', 'enoxaparin sodium', 'axitinib', 'Nitric oxide', 'Rufinamide', 'Fentanyl citrate', 'Etravirine', 'Prasterone', 'interferon alfa-2b', 'guanfacine hydrochloride', 'ertapenem sodium', 'paliperidone', 'saquinavir', 'canagliflozin', 'Raltegravir', 'Osilodrostat phosphate', 'ivabradine', 'travoprost', 'sitagliptin', 'empagliflozin', 'vinflunine', 'ocriplasmin', 'Tolvaptan', 'budesonide', 'Methotrexate', 'filgotinib maleate', 'trastuzumab emtansine', 'ivacaftor', 'sebelipase alfa', 'cangrelor', 'oxybutynin', 'levetiracetam', 'Ketoconazole', 'sarilumab', 'Pembrolizumab', 'vigabatrin', 'anakinra', 'telmisartan', 'lenvatinib mesilate', 'ribociclib succinate', 'Sapropterin dihydrochloride', 'tisagenlecleucel', 'brodalumab', 'carfilzomib', 'lacosamide', 'velmanase alfa', 'lurasidone', 'Chlormethine', 'rotigotine', 'alemtuzumab', 'lenalidomide', 'lenvatinib mesylate', 'Insulin detemir', 'vardenafil', 'Cemiplimab', 'Cladribine', 'edoxaban tosylate', 'Lomitapide', 'lipegfilgrastim', 'Lorlatinib', 'ranibizumab', 'bimatoprost', 'perflutren', 'lutropin alfa', 'voretigene neparvovec', 'tilmanocept', 'Olaparib', 'pregabalin', 'Mitotane', 'lixisenatide', 'macimorelin acetate', 'trametinib', 'binimetinib', 'mifamurtide', 'vestronidase alfa', 'tenecteplase', 'methylthioninium chloride', 'miglustat', 'brimonidine tartrate', 'naloxegol oxalate', 'Plerixafor', 'Lusutrombopag', 'dronedarone', 'Metreleptin', 'micafungin', 'gemtuzumab ozogamicin', 'alglucosidase alfa', 'galsulfase', 'mexiletine hcl', 'parathyroid hormone', 'memantine', 'dexamethasone', 'epoetin beta', 'neratinib', 'florbetaben (18F)', 'nepafenac', 'nevirapine', 'sorafenib', 'esomeprazole', 'Bempedoic acid', 'ixazomib citrate', 'nitisinone', 'ritonavir', 'turoctocog alfa', 'catridecacog', 'posaconazole', 'romiplostim', 'darolutamide', 'Mepolizumab', 'belatacept', 'somatropin', 'simoctocog alfa', 'susoctocog alfa', 'Obeticholic acid', 'ocrelizumab', 'sonidegib diphosphate', 'nintedanib', 'olanzapine', 'baricitinib', 'pegaspargase', 'andexanet alfa', 'opicapone', 'Saxagliptin', 'patisiran sodium', 'olopatadine hydrochloride', 'nivolumab', 'Macitentan', 'oritavancin diphosphate', 'Abatacept', 'ganirelix', 'cholic acid', 'apremilast', 'choriogonadotropin alfa', 'semaglutide', 'paliperidone palmitate', 'Palonosetron', 'Pegvaliase', 'alitretinoin', 'etelcalcetide hydrochloride', 'Ibuprofen', 'peginterferon alfa-2a', 'peginterferon alfa-2b', 'pemetrexed ditromethamine', 'pemetrexed disodium', 'pertuzumab', 'Doravirine', 'Alpelisib', 'pixantrone dimaleate', 'peginterferon beta-1a', 'polatuzumab vedotin', 'Mogamulizumab', 'Alirocumab', 'prasugrel besilate', 'idarucizumab', 'Letermovir', 'ziconotide', 'denosumab', 'follitropin beta', 'dinutuximab beta', 'levofloxacin', 'delafloxacin meglumine', 'capsaicin', 'ranolazine', 'Sirolimus', 'reteplase', 'regadenoson', 'rasagiline tartrate', 'aliskiren', 'glycerol phenylbutyrate', 'idebenone', 'cariprazine hydrochloride', 'Ribavirin', 'Luspatercept', 'moroctocog alfa', 'follitropin delta', 'methylnaltrexone bromide', 'sevelamer', 'sevelamer carbonate', 'Evolocumab', 'agalsidase alfa', 'Prucalopride succinate', 'epoetin zeta', 'sildenafil', 'teduglutide', 'Eltrombopag', 'Netarsudil', 'Riluzole', 'Upadacitinib', 'nonacog gamma', 'Naldemedine tosilate', 'tocilizumab', 'Entrectinib', 'rucaparib camsylate', 'brexpiprazole', 'Midostaurin', 'granisetron', 'Isatuximab', 'dexrazoxane hydrochloride', 'liraglutide', 'afamelanotide', 'besilesomab', 'telbivudine', 'ospemifene', 'pasireotide', 'hydroxycarbamide', 'silodosin', 'Golimumab', 'basiliximab', 'bedaquiline fumarate', 'tedizolid phosphate', 'Buprenorphine hydrochloride', 'dimethyl fumarate', 'Risankizumab', 'Eculizumab', 'edotreotide', 'Pegvisomant', 'sulphur hexafluoride', 'Sofosbuvir', 'asparaginase', 'avanafil', 'nusinersen sodium', 'esketamine hydrochloride', 'dasatinib', 'Crisaborole', 'nateglinide', 'bosentan monohydrate', 'Ustekinumab', 'regorafenib', 'asfotase alfa', 'ioflupane (123i)', 'solriamfetol hydrochloride', 'sunitinib', 'siltuximab', 'palivizumab', 'tacrolimus monohydrate', 'dabrafenib mesylate', 'osimertinib mesylate', 'lanadelumab', 'ixekizumab', 'talazoparib', 'erlotinib', 'bexarotene', 'nilotinib', 'tolcapone', 'Fostamatinib disodium', 'atezolizumab', 'inotersen sodium', 'fosamprenavir calcium', 'temozolomide', 'tenofovir disoproxil', 'thiotepa', 'Thalidomide', 'Agomelatine', 'thyrotropin alfa', 'Tigecycline', 'dolutegravir', 'Tobramycin', 'padeliporfin di-potassium', 'Temsirolimus', 'fesoterodine fumarate', 'linagliptin', 'Ataluren', 'Treosulfan', 'guselkumab', 'Treprostinil sodium', 'insulin degludec', 'Ibalizumab', 'dulaglutide', 'natalizumab', 'lapatinib', 'ravulizumab', 'Selexipag', 'Eflornithine', 'panitumumab', 'tocofersolan', 'remdesivir', 'Venetoclax', 'iloprost', 'abemaciclib', 'vonicog alfa', 'voriconazole', 'alogliptin', 'verteporfin', 'larotrectinib sulfate', 'flutemetamol (18F)', 'dacomitinib monohydrate', 'pazopanib', 'velaglucerase alfa', 'tafamidis', 'pitolisant', 'Volanesorsen sodium', 'zinc', 'safinamide methanesulfonate', 'Anagrelide', 'crizotinib', '6-mercaptopurine monohydrate', 'rivaroxaban', 'tofacitinib citrate', 'lefamulin acetate', 'eravacycline', 'telotristat etiprate', 'omalizumab', 'gilteritinib fumarate', 'enzalutamide', 'dalbavancin hcl', 'sodium oxybate', 'duloxetine hydrochloride', 'Ipilimumab', 'axicabtagene ciloleucel', 'trabectedin', 'sufentanil', 'eslicarbazepine acetate', 'vemurafenib', 'ozanimod hydrochloride', 'ibritumomab tiuxetan', 'abacavir', 'Ceftaroline fosamil', 'bezlotoxumab', 'onasemnogene abeparvovec', 'zonisamide', 'Idelalisib', 'ceritinib', 'Sotagliflozin', 'olanzapine pamoate', 'abiraterone acetate', 'gadofosveset trisodium', 'rimonabant', 'amprenavir', 'retapamulin', 'Bivalirudin', 'ofatumumab', 'Antithrombin alfa', 'rosiglitazone', 'valdecoxib', 'colestilan', 'caspofungin acetate', 'arcitumomab', 'daclatasvir dihydrochloride', 'cytarabine', 'doripenem', 'epoetin delta', 'dodecafluoropentane', 'pancreas powder', 'Albiglutide', 'Lasofoxifene tartrate', 'alipogene tiparvovec', 'votumumab', 'telaprevir', 'igovomab', 'interferon alfacon-1', 'Testosterone', 'fentanyl hydrochloride', 'apomorphine hydrochloride', 'palifermin', 'telithromycin', 'pegloticase', 'Olaratumab', 'sulesomab', 'pegaptanib', 'depreotide trifluoroacetate', 'simeprevir', 'Celecoxib', 'eptotermin alfa', 'gadoversetamide', 'levacetylmethadol', 'strontium ranelate', 'cinacalcet', 'porfimer sodium', 'Ingenol mebutate', 'necitumumab', 'efalizumab', 'parecoxib', 'lepirudin', 'becaplermin', 'Catumaxomab', 'desirudin', 'Ferumoxytol', 'Rilonacept', 'zaleplon', 'sevelamer hydrochloride', 'docetaxel trihydrate', 'mangafodipir trisodium', 'sitaxentan sodium', 'dofetilide', 'topotecan hydrochloride', 'retigabine', 'alatrofloxacin mesylate', 'trovafloxacin', 'eluxadoline', 'Dinutuximab', 'rolapitant', 'telavancin', 'Boceprevir', 'nelfinavir', 'cidofovir', 'elvitegravir', 'ganciclovir', 'fomivirsen', 'daclizumab', 'stavudine', 'vorapaxar sulfate', 'lesinurad', 'anamorelin hydrochloride', 'masitinib mesylate', 'Plitidepsin', 'betrixaban maleate', 'mercaptamine', 'abaloparatide', 'Taliglucerase alfa', 'enclomifene citrate', 'eteplirsen', 'iloperidone', 'Pralatrexate', 'oblimersen', 'milnacipran', 'romidepsin', 'mipomersen sodium', 'dasiprotimut-t', 'masitinib', 'laquinimod', 'etirinotecan pegol', 'Serelaxin', 'sumatriptan succinate', 'quizartinib dihydrochloride', 'ceftobiprole medocaril', 'tegaserod']\n"
     ]
    }
   ],
   "source": [
    "critical_inns = []\n",
    "uncritical_inns = []\n",
    "inns = matched_drugs['INN'].unique()\n",
    "for inn in inns:\n",
    "    # Count number of spaces\n",
    "    space_count = 0\n",
    "    for letter in inn:\n",
    "        if letter.isspace():\n",
    "            space_count += 1\n",
    "    if (space_count > 1) or (',' in inn) or ('/' in inn):\n",
    "        critical_inns.append(inn)\n",
    "    else:\n",
    "        uncritical_inns.append(inn)\n",
    "\n",
    "print('Critical INNs: ', len(critical_inns), '\\n')\n",
    "print(critical_inns)\n",
    "print('\\n')\n",
    "print('Uncritical INNs: ', len(uncritical_inns), '\\n')\n",
    "print(uncritical_inns)"
   ]
  },
  {
   "source": [
    "### Check INN of EC OD drugs (mostly single words, 2 words, or even a list of compounds?)"
   ],
   "cell_type": "markdown",
   "metadata": {}
  },
  {
   "cell_type": "code",
   "execution_count": 123,
   "metadata": {
    "tags": [
     "outputPrepend"
    ]
   },
   "outputs": [
    {
     "output_type": "stream",
     "name": "stdout",
     "text": [
      "inant human hepatitis C monoclonal antibody against C4 region of E1', 'Mercaptopurine (oral liquid)', 'Methotrexate (oral liquid)', '4-ethoxy-2-(piperazin-1-yl)-7-(pyridin-4-yl)-5H-pyrimido[5,4-b]indol', 'Adenovirus associated viral vector serotype 4 containing the human RPE65 gene', '4-Amino-1-[5-O-[(2R,4S)-2-oxido-4-(4-pyridinyl)-1,3,2-dioxaphosphorinan-2-yl]-ß-D-arabinofuranosyl]-2(1H)-pyrimidinone', 'Alginate oligosaccharide (G-block) fragment', 'Human coagulation factor X', 'L-threo-3,4-dihydroxyphenylserine', 'Pyridoxalated haemoglobin polyoxyethylene', '1-{3-[3-(4-chlorophenyl)propoxy]propyl}piperidine, hydrochloride', 'Recombinant fusion protein consisting of human coagulation factor IX attached to the Fc domain of human IgG1', 'R-1-[2,3-dihydro-2-oxo-1-pivaloylmethyl-5-(2-pyridyl)-1 H -1,4-benzodiazepin-3-yl]-3-(3-methylaminophenyl)urea', 'Autologous CD34+ cells transfected with lentiviral vector containing the human arylsulfatase A cDNA', 'Antisense Oligonucleotide (TATCCGGAGGGCTCGCCATGCTGCT)', 'Hydrocortisone (modified release tablet)', 'Recombinant adeno-associated viral vector containing human alpha-1 antitrypsin gene', 'Recombinant human C1-inhibitor', 'Ex-vivo cultured adult human mesenchymal stem cells', 'Autologous dendritic cells pulsed with autologous tumour cell lysate', 'Recombinant modified vaccinia Ankara expressing human 5T4', 'Human Interleukin-2 (glycosylated tetrasaccharide, glycosylated trisaccharide and non-glycosylated) (inhalation use)', \"Antisense oligonucleotide 5'-d[P-Thio](CCCTG CTCCC CCCTG GCTCC)-3'\", 'Budesonide (oral use)', '4,7,10,13,16,19-docosahexaenoic acid', 'Doxorubicin hydrochloride (liposomal)', 'Human cytomegalovirus immunoglobulin', 'Heparin-binding epidermal growth factor-like growth factor (HB-EGF), amino acids 74-148', 'Genetically modified allogeneic (human) tumour cells for the expression of IL-7, GM-CSF, CD80 and CD154, in fixed combination with a DNA-based double stem loop immunomodulator (dSLIM)', 'Adenoviral vector containing human p53 gene', 'N-methyl D-(2,3,4,5,6-pentahydroxy-hexyl)-ammonium; 2-(3,5-dichloro-phenyl)-benzoxazole-6-carboxylate', 'Metastable technetium 99 [99mTc] demogastrin 2', '4-amino-(6R,S)-5,6,7,8-tetrahydro-L-biopterin dihydrochloride', 'Amikacin sulfate (liposomal)', 'Human telomerase reverse transcriptase peptide (611-626)', 'Human monoclonal antibody against Pseudomonas aeruginosa serotype O11', 'Recombinant P-selectin glycoprotein immunoglobulin', 'Bilayer engineered skin composed of keratinocytes from the patient (autologous) and fibroblasts from a donor (allogeneic) embedded in a plasma matrix', 'Parathyroid hormone (1-34) transglutaminase fusion protein fibrin matrix complex', '4-amino-5-oxo-4 (pyridinium-1-ylmethyl) proline', 'Apomorphine hydrochloride (inhalation use)', 'E. Coli heat-shock protein 70 with bovine retinal S-antigen', 'Human immunoglobulin G1 constant region - human ectodysplasin-A1 receptor-binding domain fusion protein', 'Eptacog alfa (activated)', '1,2-bis(methylsulphonyl)-1-(2-chloroethyl)-2-[(methylamino)carbonyl]hydrazine', 'Peptide 144 TGF- ß1 inhibitor (TSLDASIIWAMMQN)', '(E)-(1S,4S,10S,21R)-7-[(Z)-ethylidene]-4,21-diisopropyl-2-oxa-12,13-dithia-5,8,20,23- tetraazabicyclo[8.7.6]tricos-16-ene-3,6,9,19,22-pentone', 'Oligonucleotide phosphorothioate (TAAACGTTATAACGTTATGACGTCAT), sodium salt', 'Human Staphylococcus aureus immunoglobulin', 'A mixture of anti-CD3 mAb (SPV-T3a)-ricin A chain fusion protein and anti-CD7 mAb (WT1)-ricin A chain fusion protein', '(1R,2S) 6-bromo-alpha-[2-(dimethylamino)ethyl]-2-methoxy-alpha-(1-naphthyl)-beta-phenyl-3-quinolineethanol', 'Autologous CD34+ cells transfected with retroviral vector containing adenosine deaminase gene', 'Treprostinil diethanolamine (oral use)', 'Human autologous mesenchymal adult stem cells extracted from adipose tissue', 'Extract of Sorghum bicolour leaf, Pterocarpus osun stem, Piper guineense seed and Caryophylli flower', 'Chimeric monoclonal antibody to shiga-toxin 1 and 2', '4-imino-1, 3-diazobicyclo-[3.1.0]-hexan-2-one', 'Adeno-associated viral vector containing a modified U7-snRNA gene', 'Hepatitis C Immunoglobulin', 'Soluble yeast beta-1,3/1,6-glucan', 'Humanised antibody fragment (Ep-CAM)-truncated Pseudomonas exotoxin A fusion protein', 'Pegylated arginine deiminase', '4-[3-(methylsulfonyl)phenyl]-1-propylpiperidine x HCl', 'Bovine bile extract', 'Sodium butyrate (rectal use)', '(3-[5-(2-fluoro-phenyl)-[1,2,4]oxadiazole-3-yl]-benzoic acid', 'Humanized Agonistic Anti-CD28 Monoclonal Antibody', 'Estradiol Hemihydrate and Progesterone', 'Autologous Tumor-Derived gp96 Heat Shock Protein-Peptide Complex', 'Fluocinolone acetonide (prolonged-release intravitreal implant)', 'Recombinant human α-Mannosidase', 'Alpha-1 antitrypsin (inhalation use)', 'Biotinylated anti-tenascin monoclonal antibody for use with 90-Yttrium', 'Dexamethasone sodium phosphate encapsulated in human erythrocytes', \"l, 1'-[1,4-phenylenebis (methylene)]-bis-1,4,8,11- tetraazacyclotetradecane\", 'Pancreatic enzymes (cross linked enzyme crystal lipase, protease, amylase)', 'Anti epidermal growth factor receptor antibody h-R3', 'HLA-B27 derived peptide (amino acid 125-138)', 'Sinapultide, dipalmitoylphosphatidylcholine, palmitoyl-oleoyl phosphatidylglycerol and palmitic acid', 'Ciclosporin (inhalation use)', 'HLA-A2 restricted CD8 T-cell line expressing MART-1 T-cell receptor', 'Vascular endothelial growth factor-D gene in an adenoviral vector for use with a collagen collar', 'Human monoclonal antibody against CD4', 'Treprostinil sodium (inhalation use)', '2-Methoxy-5-[(1Z)-2-(3,4,5-trimethoxyphenyl)ethenyl]-phenol', 'Anti-epithelial cell adhesion molecule / anti-CD3 monoclonal antibody', 'N-3[[4(aminoiminomethyl)benzoyl]amino]propyl]-1-[[2,4-dichloro-3-[[2,4-dimethyl-8-quinolinyl) oxy]methyl] phenyl]sulphonyl]-(2S)-2-pyrrolidinecarboxamide, di(methanesulfonate)', '5-methyl-pyridine-2-sulfonic acid {6-(2-hydroxy-ethoxy)-5-(2-methoxy-phenoxy)-2-[2-(1H-tetrazol-5-yl)-pyridin-4-yl]-pyrimidin-4-yl}-amide sodium salt', 'Recombinant antibody derivative against human CD19 and CD3', 'Vasoactive Intestinal Peptide', '5,6,7,8-Tetrahydrobiopterin', 'Yttrium (90Y) antiferritin polyclonal antibodies', 'Recombinant dog gastric lipase', 'Herpes simplex virus lacking infected cell protein 34.5', 'Cytochrome P450 isoform 2B1 gene transfected human embryonic kidney 293 cells encapsulated in polymeric cellulose sulphate', 'Tobramycin (inhalation powder)', 'G17(9) gastrin-diphtheria toxoid conjugate', 'Recombinant glycoprotein gp350 of Epstein-Barr virus', 'Autologous renal cell tumor vaccine', '(-)-17-(cyclopropylmethyl)-3,14 ß-dihydroxy-4,5 α-epoxy-6ß-[N-methyl-trans-3-(3-furyl) acrylamido] morphinan hydrochloride', 'Benzoic acid, sodium salt', 'Antisense NF-Kß p65 Oligonucleotide', 'Chimeric IgG monoclonal antibody cG250', 'Beclomethasone 17, 21-dipropionate (oral use)', 'TGF-beta2 specific phosphorothioate antisense oligodeoxynucleotide', 'Adenovirus-mediated Herpes simplex Virus-thymidine kinase gene', '[gly2] Recombinant human glucagon-like peptide', 'Repertaxin L-lysine salt', 'Recombinant human acid sphingomyelinase', '1,3-Propanedisulfonic acid, disodium salt', 'Human Alpha1-Proteinase Inhibitor (respiratory use)', 'Retroviral gamma-c cDNA containing vector']\n\n\nUncritical INNs:  505 \n\n['Pamrevlumab', 'Navitoclax', 'Lactobacillus plantarum', 'H-Leu-Pro-Pro-Leu-Pro-Tyr-Pro-OH', 'Efgartigimod alfa', '2-(isopropylamino)-3-methyl-5-(6-methyl-5-((2-(1-methyl-1H-pyrazol-4-yl)pyridin-4-yl)oxy)pyridin-2-yl)pyrimidin-4(3H)-one', 'Ganaxolone', 'Exendin (9-39)', 'Camsirubicin', 'Propranolol hydrochloride', 'Pemigatinib', 'Paclitaxel', 'Nirogacestat', 'Lonapegsomatropin', 'Leriglitazone', 'Besilesomab', '18-(p-(131I)-iodophenyl)octadecyl phosphocholine', 'Clofazimine', 'Veledimex', 'Acetazolamide', 'Setmelanotide', 'Relacorilant', 'Peginterferon lambda-1a', 'Gallium citrate', 'Temozolomide', 'Pevonedistat', 'Parsaclisib', 'Mavorixafor', 'Elafibranor', '7-ethyl-10-hydroxycamptothecin', '2-(hydroxymethyl)-2-(methoxymethyl)-1-azabicyclo[2.2.2]octan-3-one', 'Regorafenib', 'Rasagiline', 'Gaboxadol monohydrate', \"5'-cEtG-sp-cEt5MeU-sp-cEt5MeU-sp-dT-sp-dA-sp-dT-sp-dT-sp-dA-sp-dT-sp-dA-sp-dG-sp-dG-sp-dG-sp-cEt5MeC-sp-cEt5MeU-sp-cEt5MeU-3'\", 'Reldesemtiv', 'Zanubrutinib', 'Emixustat hydrochloride', 'Diacerein', 'Balipodect', 'Risdiplam', 'Lurbinectedin', 'Losartan', 'Vinorelbine tartrate', 'Rozanolixizumab', 'Ralinepag', 'Miglustat', 'Mercaptamine-pantetheine disulfide', 'Melatonin', 'Benserazide hydrochloride', 'Acetylleucine', 'Venglustat', 'Sodium 2-hydroxylinoleate', 'Marizomib', 'Lonafarnib', 'Bromelain', 'Afatinib', 'Acetylcysteine', 'Apraglutide', 'Propagermanium', 'Lisocabtagene maraleucel', 'Imlifidase', 'Ile-Ser-Ile-Thr-Glu-Ile-Lys-Gly-Val-Ile-Val-His-Arg-Ile-Glu-Thr-Ile-Leu-Phe-Lys-Lys-Lys-Lys-Glu-Met-Pro-Ser-Glu-Glu-Gly-Tyr-Gln-Asp', 'Human apotransferrin', 'H-Arg-Pro-Lys-Pro-Gln-Gln-Phe-2Thi-Gly-Leu-Met(O2)-NH2-DOTA-213-bismuth', 'Glucagon', 'Fidanacogene elaparvovec', 'Etamsylate', 'Cyclo[L-alanyl-L-seryl-L-isoleucyl-L-prolyl-L-prolyl-L-glutaminyl-L-lysyl-L-tyrosyl-D-prolyl-L-prolyl-(2S)-2-aminodecanoyl-L-alpha-glutamyl-L-threonyl]acetate', 'Anetumab ravtansine', 'Gefitinib', 'Avapritinib', 'Tilorone', 'Somapacitan', 'Obiltoxaximab', 'Copanlisib', 'Bertilimumab', '(S)-(−)-3-(4-aminophenyl)-2-methoxypropanoic acid', 'Tetracosactide', 'Tamibarotene', 'Selumetinib', 'Liposomal mannose-1-phosphate', 'Givinostat', 'Palovarotene', 'Omaveloxolone', \"L-cystine bis(N'-methylpiperazide)\", 'Efpegsomatropin', 'Deferiprone', 'Carmustine', 'Argon', '20-hydroxyecdysone', 'Itraconazole', 'H-Arg-Pro-Lys-Pro-Gln-Gln-Phe-2Thi-Gly-Leu-Met(O2)-NH2-DOTA-225-actinium', 'Daratumumab', 'Bardoxolone methyl', 'Ambroxol hydrochloride', 'Polatuzumab vedotin', 'Burosumab', 'Branaplam', 'Tazemetostat', 'Ribavirin', 'Patidegib', 'Miransertib', 'Ivosidenib', 'Gemfibrozil', 'Dimethyl fumarate', 'Vocimagene amiretrorepvec', 'Seletalisib', 'Rusalatide acetate', \"Pyridoxal 5'-phosphate\", 'Levosimendan', 'Flucytosine', 'Cannabidivarin', '1-[[[4-(4-fluoro-2-methyl-1H-indol-5-yloxy)-6-methoxyquinolin-7-yl]oxy]methyl]cyclopropanamine-dihydrochloride', 'Vatiquinone', 'Sirolimus', 'Itacitinib', 'Hydroxychloroquine sulphate', 'Gilteritinib', 'Ciclopirox', 'Cannabidiol', 'Venetoclax', 'Pegunigalsidase alfa', 'Tiratricol', 'Tamoxifen citrate', 'Diazoxide choline', 'Concizumab', 'C1-esterase-inhibitor human', '(R)-troloxamide quinone', 'Siplizumab', 'Seladelpar', 'Pracinostat', 'Ofranergene obadenovec', 'Glasdegib maleate', 'Entospletinib', '2-[N-(2-hydroxyethyl)]-N-(4-methoxybenzenesulfonyl)]amino-N-(4-chlorocinnamyl)-N-methylbenzylamine', 'Teicoplanin', 'Tacrolimus', 'Picropodophyllin', 'Odiparcil', 'Asunercept', 'Tirapazamine', 'Retinol', 'Polyphenyl(disodium 3-O-sulfo-beta-D-glucopyranuronate)-(1→3)-beta-D-galactopyranoside', 'Oxymetazoline hydrochloride', 'Sildenafil', 'Ibutamoren mesilate', 'Avacopan', 'Asp-Arg-Val-Tyr-Ile-His-Pro', 'Ursodeoxycholic acid', '225Ac-lintuzumab', 'Rituximab', 'Estetrol', 'Emeramide', 'Poly-cyclodextrin-bis-cysteine-PEG3400-camptothecin-conjugate', 'Megestrol acetate', 'Ketoconazole', 'Inebilizumab', 'Vemurafenib', 'Thalidomide', 'Tauroursodeoxycholic acid', 'N-(4-(1-cyanocyclopentyl)phenyl)-2-(4-pyridinylmethyl)amino-3-pyridinecarboxamide methanesulfonate', 'Fenfluramine hydrochloride', 'Cyclo[L-alanyl-L-seryl-L-isoleucyl-L-prolyl-L-prolyl-L-glutaminyl-L-lysyl-L-tyrosyl-D-prolyl-L-prolyl-(2S)-2-aminodecanoyl-L-alpha-glutamyl-L-threonyl]acetate salt', 'Trans-resveratrol', 'Pr-D-Cys-Met-Pip-Arg-Leu-Arg-Sar-Cys-Lys-Arg-Pro-Tyr-Tle-Leu-OH', 'Pioglitazone hydrochloride', 'Leuprorelin acetate', 'Hydroxychloroquine', 'Fluticasone propionate', 'Antroquinonol', '5-aminolevulinic acid', 'Udenafil', 'Propranolol', 'Metformin', 'Ibudilast', 'Dantrolene sodium', 'Arsenic trioxide', '68Ga-DOTA-pABzA-DIG-dPhe-Gln-Trp-Ala-Val-Gly-His-NHCH[(CH2-CH(CH3)2]2', 'Zinc gluconate', 'Valproic acid', 'Tyr-Gly-Arg-Lys-Lys-Arg-Arg-Gln-Arg-Arg-Arg-Gly-Gly-Asp-Leu-Leu-Pro-Arg-Gly-Ser', 'Sodium benzoate', 'R-azasetron besylate', 'L-selenomethionine', 'Ibrutinib', 'Budesonide', 'Brincidofovir', 'Ascorbic acid', 'Alpha-tocopherol', '2-hydroxy-6-((2-(1-isopropyl-1H-pyrazol-5-yl)pyridin-3-yl)methoxy)benzaldehyde', 'Xenon', 'Ubiquinol', 'Tetrofosmin', 'Tadekinig alfa', 'Mogamulizumab', 'Fenretinide', 'Crenolanib besylate', 'Carbamazepine', 'Acebutolol hydrochloride', 'Zoledronic acid', 'Valproic Acid', 'Methotrexate', 'Masitinib mesilate', 'L-Pyr-L-Glu-L-Gln-L-Leu-L-Glu-L-Arg-L-Ala-L-Leu-L-Asn-L-Ser-L-Ser', 'Fimaporfin', 'Cisplatin', 'Volanesorsen sodium', 'Triheptanoin', 'Sodium hypochlorite', 'Mifamurtide', 'Teriparatide', 'Molgramostim', 'Eflornithine', 'Diclofenamide', 'Temsirolimus', 'Rovalpituzumab tesirine', 'Rimiducid', 'H-Phe-Ser-Arg-Tyr-Ala-Arg-OH acetate', 'Arimoclomol citrate', 'Resiquimod', 'Ubenimex', 'N-acetyl-D-mannosamine monohydrate', 'Fosbretabulin tromethamine', 'Exenatide', 'Acalabrutinib', 'Tolfenamic acid', '2-(2-chlorobenzylidene)hydrazinecarboximidamide acetate', 'Imetelstat sodium', 'Glibenclamide', 'Sodium phenylbutyrate', 'Pentetrazol', 'Interferon alfa-n3', \"2-chloro-N6-(3-iodobenzyl)adenosine-5'-N-methyluronamide\", 'Ataluren', 'Synthetic hepcidin', 'Nimodipine', 'Mazindol', 'Glycyl-L-2-methylprolyl-L-glutamic acid', 'Insulin human', 'Sarizotan hydrochloride', 'Hydrocinnamate-[Orn-Pro-dCha-Trp-Arg]acetate', 'Inecalcitol', 'Artesunate', 'Synthetic hypericin', 'Lanreotide acetate', 'Doxorubicin', 'Human plasminogen', 'Edaravone', 'Obinutuzumab', 'Trehalose', 'Allopurinol sodium', 'AASSGVSTPGSAGHDIITEQPRS', 'Triamcinolone acetonide', 'Rintatolimod', 'Rimeporide', '1-(4-(N-glycylamido)phenyl)-3-trifluoromethyl-5-(phenanthren-2-yl)-pyrazole-hydrochloride', 'Ecothiopate iodide', 'Fluciclovine (18F)', 'Melphalan flufenamide', 'Enoxacin', \"5'-ASCSASTSCSASGSTSCSTSGSASUSASASGSCSTSA-3'\", 'Gallium (68Ga)-edotreotide', 'Myriocin', 'Alvocidib', 'Lactobacillus reuteri', 'Nitroglycerin', 'Sevuparin sodium', 'N-methyl-4-({4-[({3-methyl(methylsulfonyl)aminopyrazin-2-yl}methyl)amino]-5-(trifluoromethyl)pyrimidin-2-yl}amino)benzamide hydrochloride', 'Sodium valproate', 'Ceftriaxone', 'Ponatinib hydrochloride', 'Emtricitabine', 'Sodium thiosulfate', 'Chenodeoxycholic acid', 'Plerixafor', 'Riluzole', 'Amikacin sulfate', 'Bevacizumab', 'Exisulind', \"((E)-1-(4'-chlorophenyl)-3-(4-hydroxy-3-metoxyphenyl)prop-2-en-1-one)\", 'Chloroquine', 'Pro-Pro-Thr-Val-Pro-Thr-Arg', 'Bazedoxifene acetate', 'Olaptesed pegol', '1-(6-benzothiazolylsulfonyl)-5-chloro-1H-indole-2-butanoic acid', 'Imatinib', 'Selinexor', 'Mexiletine hydrochloride', 'Raxibacumab', 'Osilodrostat', 'Nitric oxide', 'Cysteamine hydrochloride', 'Acamprosate calcium', '2-(2-methyl-5-nitro-1H-imidazol-1-yl)ethylsulfamide', 'Ulinastatin', 'Cysteamine bitartrate', 'Eculizumab', 'Cediranib', 'Oxytocin', 'Rilotumumab', 'Norursodeoxycholic acid', 'Afamelanotide', 'Isavuconazonium sulfate', '4-(4-Methoxy-phenylamino)-6-methylcarbamyl-quinoline-3-carboxylic acid', 'Aganirsen', 'Paclitaxel-succinate-Arg-Arg-Leu-Ser-Tyr-Ser-Arg-Arg-Arg-Phe', '177Lu-tetraxetan-tetulomab', 'Caffeine citrate', 'Doxorubicin(6-maleimidocaproyl)hydrazone', 'Volasertib', 'N-({Carbamoylmethyl-[3-(2-oxo-pyrrolidin-1-yl)-propyl]-carbamoyl}-methyl)-2-[2-(2-fluoro-phenyl)-ethylamino]-N-isobutyl-acetamide', 'Pioglitazone', '3-Chloro-4-fluorophenyl-[4-fluoro-4-{[(5-methylpyrimidin-2-ylmethyl) amino]methyl}piperidin-1-yl]methanone', 'Cysteamine', 'Allantoin', 'Obeticholic acid', 'Sodium nitrite', 'Amatuximab', 'Soraprazan', 'Trebananib', 'Defibrotide', 'Sorafenib tosylate', 'Sacrosidase', 'Cladribine', 'Lipid-complexed cisplatin', '(S)-3-(1-(9H-purin-6-ylamino)ethyl)-8-chloro-2-phenylisoquinolin-1(2H)-one', 'Belinostat', 'Moxetumomab pasudotox', 'Human hemin', 'Sodium chlorite', 'Maribavir', 'Inotuzumab ozogamicin', '2-hydroxypropyl-ß-cyclodextrin', 'Ramiprilat', '2-[4-Methoxy-3-(2-m-tolyl-ethoxy)-benzoylamino]-indan-2-carboxylic acid', 'Treprostinil sodium', 'Cyclo-Cys-Gly-Gln-Arg-Glu-Thr-Pro-Glu-Gly-Ala-Glu-Ala-Lys-Pro-Trp-Tyr-Cys', 'Terguride', 'Choline tetrathiomolybdate', 'Voclosporin', 'Erdosteine', 'Melarsoprol', 'tafamidis', 'Panobinostat', 'Ixazomib', 'Milciclib maleate', '[2-Cyano-3-cyclopropyl-3-hydroxy-N-(3-methyl-4-trifluoromethylphenyl)prop-2-enamide]', 'Mavoglurant', 'N-Butyldeoxygalactonojirimycin', 'Hexasodium phytate', 'Metreleptin', 'Levoglutamide', 'Letermovir', 'N-hydroxy-4-(3-methyl-2-(S)-phenyl-butyrylamino) benzamide', 'Vosaroxin', 'Carbetocin', 'Oleylphosphocholine', 'Chlormethine', 'Doxycycline hyclate', 'S[+] apomorphine', 'Nimorazole maleate', 'Ornithine phenylacetate', 'Brentuximab vedotin', 'Alpha-tocotrienol quinone', 'Human haptoglobin', 'Interferon gamma', 'Nanoliposomal irinotecan', 'Resminostat', 'Mifepristone', 'Clonidine hydrochloride', '2-hydroxyoleic acid', 'Smilagenin', 'Reparixin', 'NH2-Cys-Ser-Ser-Val-Thr-Ala-Trp-Thr-Thr-Gly-Cys-Gly-CONH2', 'Macitentan', 'Dinaciclib', 'Hydroxy-propyl-beta-cyclodextrin', 'Cardiotrophin-1', 'Peretinoin', 'Acadesine', 'Metronidazole', 'S-nitrosoglutathione', '9-cis-Retinyl acetate', 'Apomorphine hydrochloride', 'R-baclofen', 'Glufosfamide', 'Darinaparsin', 'Nimorazole', 'Tasimelteon', 'Paquinimod', 'Veliparib', 'Tesetaxel', 'Para-aminosalicylic acid', 'Lomitapide', '7-beta-hydroxycholesteryl-3-beta-oleate', 'Sildenafil citrate', 'Methylthioninium', 'Pralatrexate', 'N-(6-(2-aminophenylamino)-6-oxohexyl)-4-methylbenzamide', 'Ciclosporin', 'Nafamostat mesilate', 'Forodesine', 'Midostaurin', 'Everolimus', 'Tranilast', 'Octenidine dihydrochloride', '6alpha-ethyl-chenodeoxycholic acid', 'Velaglucerase alfa', 'Rifapentine', 'Adrenomedullin', 'Glyceryl tri-(4-phenylbutyrate)', 'Entinostat', 'Raloxifene hydrochloride', 'Taliglucerase alfa', 'Ecopipam', 'Brivudine', '2-iminobiotin', 'Pegylated carboxyhaemoglobin', 'Pomalidomide', 'pasireotide', 'Eicosapentaenoic acid', 'Trabedersen', 'Ciprofloxacin (liposomal)', 'Blinatumomab', 'Alicaforsen', 'Treprostinil diethanolamine', 'Guanabenz', '5-(ethylsulfonyl)-2-(naphthalen-2-yl)benzo[d]oxazole', 'Cenersen', 'Daunorubicin (liposomal)', 'Gadodiamide (liposomal)', 'Filgrastim', 'Carglumic acid', 'Pegylated L-asparaginase', 'Miltefosine', 'Sapacitabine', 'Nimotuzumab', 'Carfilzomib', 'Omigapil maleate', 'Ammonium tetrathiomolybdate', 'filgrastim', 'ascorbic acid', 'Tretazicar', '3-methoxy-pregnenolone', 'artesunate', 'Interferon beta', 'Polihexanide', 'R-salbutamol sulphate', 'Naptumomab estafenatox', \"N-adamantanyl-N'-geranyl-ethylenediamine\", '5´-O-(trans-9´-octadecenoyl)-1-ß-D-arabinofuranosyl cytosine', 'Aviptadil', 'Cisplatin (liposomal)', 'Talactoferrinum alfa', 'Elafin', 'Enzastaurin hydrochloride', 'Zanolimumab', 'Idebenone', 'Forodesine hydrochloride', 'Paclitaxel (liposomal)', 'Catumaxomab', 'Arimoclomol', 'Mecasermin rinfabate', '4-[123I]iodo-L-phenylalanine', 'Methoxsalen', 'Heparin sodium', 'Decitabine', '1-deoxygalactonojirimycin hydrochloride', '4-[131I]iodo-L-phenylalanine', 'Zosuquidar trihydrochloride', 'Imexon', 'Mannitolum', 'Levamisol hydrochloride', 'Bacterial lipase', '(2S)-2-[(4R)-2-oxo-4-propyltetrahydro-1H-pyrrol-1-yl] butanamide', 'Mecasermin', 'Nemorubicin hydrochloride', 'Hydrocortisone', 'H-D-Asp-D-Gln-D-Ser-D-Arg-D-Pro-D-Val-D-Gln-D-Pro-D-Phe-D-Leu-D-Asn-D-Leu-D-Thr-D-Thr-D-Pro-D-Arg-D-Lys-D-Pro-D-Arg-D-Pro-D-Pro-D-Arg-D-Arg-D-Arg-D-Gln-D-Arg-D-Arg-D-Lys-D-Lys-D-Arg-D-Gly-NH2', 'N-(methyl-diazacyclohexyl-methylbenzamide)-azaphenyl-aminothiopyrrole', 'Bimosiamose disodium', 'Tipifarnib', 'dimethyl sulfoxide', 'Aplidine', 'Pirfenidone', 'Acetylsalicylic acid', 'Tetrahydrobiopterin', 'Temocillin sodium', 'Gimatecan', 'Prasterone', 'Rubitecan', 'Carboxypeptidase G2', 'Cholic acid', 'Etilefrin', 'Duramycin', 'Thymalfasin', 'Oregovomab', 'Purified bromelain', 'Denileukin diftitox', 'Phenylephrine Hydrochloride', 'Ramoplanin', 'Gusperimus trihydrochloride', 'Inolimomab', 'L-Lysine-N-acetyl-L-cysteinate']\n"
     ]
    }
   ],
   "source": [
    "critical_inns = []\n",
    "uncritical_inns = []\n",
    "inns = data_od['Product'].unique()\n",
    "for inn in inns:\n",
    "    # Count number of spaces\n",
    "    space_count = 0\n",
    "    for letter in inn:\n",
    "        if letter.isspace():\n",
    "            space_count += 1\n",
    "    if (space_count > 1) or (',' in inn) or ('/' in inn):\n",
    "        critical_inns.append(inn)\n",
    "    else:\n",
    "        uncritical_inns.append(inn)\n",
    "\n",
    "print('Critical INNs: ', len(critical_inns), '\\n')\n",
    "print(critical_inns)\n",
    "print('\\n')\n",
    "print('Uncritical INNs: ', len(uncritical_inns), '\\n')\n",
    "print(uncritical_inns)"
   ]
  },
  {
   "source": [
    "It's not obvious how to parse most of the INNs, except for deleting additional information such as \"(oral use)\", \"(rectal use)\", etc."
   ],
   "cell_type": "markdown",
   "metadata": {}
  },
  {
   "source": [
    "### 1. Identical match based on \"raw\" INNs"
   ],
   "cell_type": "markdown",
   "metadata": {}
  },
  {
   "cell_type": "code",
   "execution_count": 129,
   "metadata": {},
   "outputs": [
    {
     "output_type": "execute_result",
     "data": {
      "text/plain": [
       "                                                 OD INN All drug INN  \\\n",
       "0     SYNTHETIC DOUBLE-STRANDED SIRNA OLIGONUCLEOTID...         none   \n",
       "1                                           PAMREVLUMAB         none   \n",
       "2                                            NAVITOCLAX         none   \n",
       "3                               LACTOBACILLUS PLANTARUM         none   \n",
       "4                      H-LEU-PRO-PRO-LEU-PRO-TYR-PRO-OH         none   \n",
       "...                                                 ...          ...   \n",
       "1698  HUMAN ALPHA1-PROTEINASE INHIBITOR (RESPIRATORY...         none   \n",
       "1699          RETROVIRAL GAMMA-C CDNA CONTAINING VECTOR         none   \n",
       "1700                        GUSPERIMUS TRIHYDROCHLORIDE         none   \n",
       "1701                                         INOLIMOMAB         none   \n",
       "1702                     L-LYSINE-N-ACETYL-L-CYSTEINATE         none   \n",
       "\n",
       "     is identified All drug brand name  \n",
       "0               no                none  \n",
       "1               no                none  \n",
       "2               no                none  \n",
       "3               no                none  \n",
       "4               no                none  \n",
       "...            ...                 ...  \n",
       "1698            no                none  \n",
       "1699            no                none  \n",
       "1700            no                none  \n",
       "1701            no                none  \n",
       "1702            no                none  \n",
       "\n",
       "[1703 rows x 4 columns]"
      ],
      "text/html": "<div>\n<style scoped>\n    .dataframe tbody tr th:only-of-type {\n        vertical-align: middle;\n    }\n\n    .dataframe tbody tr th {\n        vertical-align: top;\n    }\n\n    .dataframe thead th {\n        text-align: right;\n    }\n</style>\n<table border=\"1\" class=\"dataframe\">\n  <thead>\n    <tr style=\"text-align: right;\">\n      <th></th>\n      <th>OD INN</th>\n      <th>All drug INN</th>\n      <th>is identified</th>\n      <th>All drug brand name</th>\n    </tr>\n  </thead>\n  <tbody>\n    <tr>\n      <th>0</th>\n      <td>SYNTHETIC DOUBLE-STRANDED SIRNA OLIGONUCLEOTID...</td>\n      <td>none</td>\n      <td>no</td>\n      <td>none</td>\n    </tr>\n    <tr>\n      <th>1</th>\n      <td>PAMREVLUMAB</td>\n      <td>none</td>\n      <td>no</td>\n      <td>none</td>\n    </tr>\n    <tr>\n      <th>2</th>\n      <td>NAVITOCLAX</td>\n      <td>none</td>\n      <td>no</td>\n      <td>none</td>\n    </tr>\n    <tr>\n      <th>3</th>\n      <td>LACTOBACILLUS PLANTARUM</td>\n      <td>none</td>\n      <td>no</td>\n      <td>none</td>\n    </tr>\n    <tr>\n      <th>4</th>\n      <td>H-LEU-PRO-PRO-LEU-PRO-TYR-PRO-OH</td>\n      <td>none</td>\n      <td>no</td>\n      <td>none</td>\n    </tr>\n    <tr>\n      <th>...</th>\n      <td>...</td>\n      <td>...</td>\n      <td>...</td>\n      <td>...</td>\n    </tr>\n    <tr>\n      <th>1698</th>\n      <td>HUMAN ALPHA1-PROTEINASE INHIBITOR (RESPIRATORY...</td>\n      <td>none</td>\n      <td>no</td>\n      <td>none</td>\n    </tr>\n    <tr>\n      <th>1699</th>\n      <td>RETROVIRAL GAMMA-C CDNA CONTAINING VECTOR</td>\n      <td>none</td>\n      <td>no</td>\n      <td>none</td>\n    </tr>\n    <tr>\n      <th>1700</th>\n      <td>GUSPERIMUS TRIHYDROCHLORIDE</td>\n      <td>none</td>\n      <td>no</td>\n      <td>none</td>\n    </tr>\n    <tr>\n      <th>1701</th>\n      <td>INOLIMOMAB</td>\n      <td>none</td>\n      <td>no</td>\n      <td>none</td>\n    </tr>\n    <tr>\n      <th>1702</th>\n      <td>L-LYSINE-N-ACETYL-L-CYSTEINATE</td>\n      <td>none</td>\n      <td>no</td>\n      <td>none</td>\n    </tr>\n  </tbody>\n</table>\n<p>1703 rows × 4 columns</p>\n</div>"
     },
     "metadata": {},
     "execution_count": 129
    }
   ],
   "source": [
    "is_identified = []\n",
    "matched_all_drug_inns = []\n",
    "matched_od_inns = []\n",
    "all_drug_brand = []\n",
    "od_inns = data_od['Product'].str.upper()\n",
    "all_drugs_inns = matched_drugs['INN'].str.upper().unique()\n",
    "for od_inn in od_inns:\n",
    "    is_matched = False\n",
    "    for all_drug_inn in all_drugs_inns:\n",
    "        # Check whether ec brand is subset of ema brand\n",
    "        if od_inn in all_drug_inn:\n",
    "            is_identified.append('yes')\n",
    "            matched_all_drug_inns.append(all_drug_inn)\n",
    "            matched_od_inns.append(od_inn)\n",
    "\n",
    "            # Mask for brand\n",
    "            mask = matched_drugs['INN'].str.upper() == all_drug_inn\n",
    "            brand = matched_drugs[mask]['Brand name'].iloc[0]\n",
    "            all_drug_brand.append(brand)\n",
    "\n",
    "            is_matched = True\n",
    "    \n",
    "    if is_matched is True:\n",
    "        continue\n",
    "\n",
    "    # If not identified\n",
    "    is_identified.append('no')\n",
    "    matched_all_drug_inns.append('none')\n",
    "    matched_od_inns.append(od_inn)\n",
    "    all_drug_brand.append('none')\n",
    "\n",
    "\n",
    "matched_ods = pd.DataFrame({\n",
    "    'OD INN': matched_od_inns,\n",
    "    'All drug INN': matched_all_drug_inns,\n",
    "    'is identified': is_identified,\n",
    "    'All drug brand name': all_drug_brand})\n",
    "matched_ods"
   ]
  },
  {
   "cell_type": "code",
   "execution_count": 130,
   "metadata": {},
   "outputs": [
    {
     "output_type": "execute_result",
     "data": {
      "text/plain": [
       "                         OD INN               All drug INN is identified  \\\n",
       "18    PROPRANOLOL HYDROCHLORIDE  PROPRANOLOL HYDROCHLORIDE           yes   \n",
       "20                   PACLITAXEL                 PACLITAXEL           yes   \n",
       "24                  BESILESOMAB                BESILESOMAB           yes   \n",
       "47                 TEMOZOLOMIDE               TEMOZOLOMIDE           yes   \n",
       "58                  REGORAFENIB                REGORAFENIB           yes   \n",
       "...                         ...                        ...           ...   \n",
       "1667                 DECITABINE                 DECITABINE           yes   \n",
       "1671                CHOLIC ACID      CHENODEOXYCHOLIC ACID           yes   \n",
       "1672                CHOLIC ACID           OBETICHOLIC ACID           yes   \n",
       "1673                CHOLIC ACID                CHOLIC ACID           yes   \n",
       "1693                  IDEBENONE                  IDEBENONE           yes   \n",
       "\n",
       "                 All drug brand name  \n",
       "18                         HEMANGIOL  \n",
       "20                          ABRAXANE  \n",
       "24                         SCINTIMUN  \n",
       "47                           TEMODAL  \n",
       "58                          STIVARGA  \n",
       "...                              ...  \n",
       "1667                         DACOGEN  \n",
       "1671  CHENODEOXYCHOLIC ACID LEADIANT  \n",
       "1672                         OCALIVA  \n",
       "1673                        ORPHACOL  \n",
       "1693                          RAXONE  \n",
       "\n",
       "[274 rows x 4 columns]"
      ],
      "text/html": "<div>\n<style scoped>\n    .dataframe tbody tr th:only-of-type {\n        vertical-align: middle;\n    }\n\n    .dataframe tbody tr th {\n        vertical-align: top;\n    }\n\n    .dataframe thead th {\n        text-align: right;\n    }\n</style>\n<table border=\"1\" class=\"dataframe\">\n  <thead>\n    <tr style=\"text-align: right;\">\n      <th></th>\n      <th>OD INN</th>\n      <th>All drug INN</th>\n      <th>is identified</th>\n      <th>All drug brand name</th>\n    </tr>\n  </thead>\n  <tbody>\n    <tr>\n      <th>18</th>\n      <td>PROPRANOLOL HYDROCHLORIDE</td>\n      <td>PROPRANOLOL HYDROCHLORIDE</td>\n      <td>yes</td>\n      <td>HEMANGIOL</td>\n    </tr>\n    <tr>\n      <th>20</th>\n      <td>PACLITAXEL</td>\n      <td>PACLITAXEL</td>\n      <td>yes</td>\n      <td>ABRAXANE</td>\n    </tr>\n    <tr>\n      <th>24</th>\n      <td>BESILESOMAB</td>\n      <td>BESILESOMAB</td>\n      <td>yes</td>\n      <td>SCINTIMUN</td>\n    </tr>\n    <tr>\n      <th>47</th>\n      <td>TEMOZOLOMIDE</td>\n      <td>TEMOZOLOMIDE</td>\n      <td>yes</td>\n      <td>TEMODAL</td>\n    </tr>\n    <tr>\n      <th>58</th>\n      <td>REGORAFENIB</td>\n      <td>REGORAFENIB</td>\n      <td>yes</td>\n      <td>STIVARGA</td>\n    </tr>\n    <tr>\n      <th>...</th>\n      <td>...</td>\n      <td>...</td>\n      <td>...</td>\n      <td>...</td>\n    </tr>\n    <tr>\n      <th>1667</th>\n      <td>DECITABINE</td>\n      <td>DECITABINE</td>\n      <td>yes</td>\n      <td>DACOGEN</td>\n    </tr>\n    <tr>\n      <th>1671</th>\n      <td>CHOLIC ACID</td>\n      <td>CHENODEOXYCHOLIC ACID</td>\n      <td>yes</td>\n      <td>CHENODEOXYCHOLIC ACID LEADIANT</td>\n    </tr>\n    <tr>\n      <th>1672</th>\n      <td>CHOLIC ACID</td>\n      <td>OBETICHOLIC ACID</td>\n      <td>yes</td>\n      <td>OCALIVA</td>\n    </tr>\n    <tr>\n      <th>1673</th>\n      <td>CHOLIC ACID</td>\n      <td>CHOLIC ACID</td>\n      <td>yes</td>\n      <td>ORPHACOL</td>\n    </tr>\n    <tr>\n      <th>1693</th>\n      <td>IDEBENONE</td>\n      <td>IDEBENONE</td>\n      <td>yes</td>\n      <td>RAXONE</td>\n    </tr>\n  </tbody>\n</table>\n<p>274 rows × 4 columns</p>\n</div>"
     },
     "metadata": {},
     "execution_count": 130
    }
   ],
   "source": [
    "mask = matched_ods['is identified'] == 'yes'\n",
    "matched_ods[mask]"
   ]
  },
  {
   "source": [
    "There are some ODs that are falsely matched to multiple drugs, e.g. CHOLIC ACID is matched OBETICHOLIC ACID. Those will have to be filtered out manually."
   ],
   "cell_type": "markdown",
   "metadata": {}
  },
  {
   "source": [
    "1.1 Filter multiple matches"
   ],
   "cell_type": "markdown",
   "metadata": {}
  },
  {
   "cell_type": "code",
   "execution_count": 132,
   "metadata": {},
   "outputs": [
    {
     "output_type": "execute_result",
     "data": {
      "text/plain": [
       "55"
      ]
     },
     "metadata": {},
     "execution_count": 132
    }
   ],
   "source": [
    "double_matches = []\n",
    "mask = matched_ods['is identified'] == 'yes'\n",
    "inns = matched_ods[mask]['OD INN'].unique()\n",
    "for inn in inns:\n",
    "    mask = matched_ods['OD INN'] == inn\n",
    "    temp = matched_ods[mask]\n",
    "    if len(temp) > 1:\n",
    "        double_matches.append(temp['OD INN'].iloc[0])\n",
    "\n",
    "len(double_matches)"
   ]
  },
  {
   "source": [
    "How many of those 55 double matches are falsely matched multiple times? Keep only those double matches that are matched to different All drug INNs."
   ],
   "cell_type": "markdown",
   "metadata": {}
  },
  {
   "source": [
    "double_matches = pd.DataFrame(columns=['OD INN', 'All drug INN', 'is identified', 'All drug brand name'])\n",
    "mask = matched_ods['is identified'] == 'yes'\n",
    "inns = matched_ods[mask]['OD INN'].unique()\n",
    "for inn in inns:\n",
    "    mask = matched_ods['OD INN'] == inn\n",
    "    temp = matched_ods[mask]\n",
    "    if len(temp) > 1:\n",
    "        unique_inns = temp['All drug INN'].unique()\n",
    "        if len(unique_inns) > 1:\n",
    "            double_matches = double_matches.append(temp)\n",
    "\n",
    "double_matches"
   ],
   "cell_type": "code",
   "metadata": {},
   "execution_count": 136,
   "outputs": [
    {
     "output_type": "execute_result",
     "data": {
      "text/plain": [
       "                    OD INN                                       All drug INN  \\\n",
       "61              RASAGILINE                                         RASAGILINE   \n",
       "62              RASAGILINE                                RASAGILINE TARTRATE   \n",
       "259              SIROLIMUS                                          SIROLIMUS   \n",
       "260              SIROLIMUS                                       TEMSIROLIMUS   \n",
       "319              SIROLIMUS                                          SIROLIMUS   \n",
       "...                    ...                                                ...   \n",
       "1640  ACETYLSALICYLIC ACID  ACETYLSALICYLIC ACID, CLOPIDOGREL HYDROGEN SUL...   \n",
       "1641  ACETYLSALICYLIC ACID                  CLOPIDOGREL, ACETYLSALICYLIC ACID   \n",
       "1671           CHOLIC ACID                              CHENODEOXYCHOLIC ACID   \n",
       "1672           CHOLIC ACID                                   OBETICHOLIC ACID   \n",
       "1673           CHOLIC ACID                                        CHOLIC ACID   \n",
       "\n",
       "     is identified                     All drug brand name  \n",
       "61             yes                                 AZILECT  \n",
       "62             yes                        RASAGILINE MYLAN  \n",
       "259            yes                                RAPAMUNE  \n",
       "260            yes                                 TORISEL  \n",
       "319            yes                                RAPAMUNE  \n",
       "...            ...                                     ...  \n",
       "1640           yes  CLOPIDOGREL/ACETYLSALICYLIC ACID MYLAN  \n",
       "1641           yes                               DUOPLAVIN  \n",
       "1671           yes          CHENODEOXYCHOLIC ACID LEADIANT  \n",
       "1672           yes                                 OCALIVA  \n",
       "1673           yes                                ORPHACOL  \n",
       "\n",
       "[104 rows x 4 columns]"
      ],
      "text/html": "<div>\n<style scoped>\n    .dataframe tbody tr th:only-of-type {\n        vertical-align: middle;\n    }\n\n    .dataframe tbody tr th {\n        vertical-align: top;\n    }\n\n    .dataframe thead th {\n        text-align: right;\n    }\n</style>\n<table border=\"1\" class=\"dataframe\">\n  <thead>\n    <tr style=\"text-align: right;\">\n      <th></th>\n      <th>OD INN</th>\n      <th>All drug INN</th>\n      <th>is identified</th>\n      <th>All drug brand name</th>\n    </tr>\n  </thead>\n  <tbody>\n    <tr>\n      <th>61</th>\n      <td>RASAGILINE</td>\n      <td>RASAGILINE</td>\n      <td>yes</td>\n      <td>AZILECT</td>\n    </tr>\n    <tr>\n      <th>62</th>\n      <td>RASAGILINE</td>\n      <td>RASAGILINE TARTRATE</td>\n      <td>yes</td>\n      <td>RASAGILINE MYLAN</td>\n    </tr>\n    <tr>\n      <th>259</th>\n      <td>SIROLIMUS</td>\n      <td>SIROLIMUS</td>\n      <td>yes</td>\n      <td>RAPAMUNE</td>\n    </tr>\n    <tr>\n      <th>260</th>\n      <td>SIROLIMUS</td>\n      <td>TEMSIROLIMUS</td>\n      <td>yes</td>\n      <td>TORISEL</td>\n    </tr>\n    <tr>\n      <th>319</th>\n      <td>SIROLIMUS</td>\n      <td>SIROLIMUS</td>\n      <td>yes</td>\n      <td>RAPAMUNE</td>\n    </tr>\n    <tr>\n      <th>...</th>\n      <td>...</td>\n      <td>...</td>\n      <td>...</td>\n      <td>...</td>\n    </tr>\n    <tr>\n      <th>1640</th>\n      <td>ACETYLSALICYLIC ACID</td>\n      <td>ACETYLSALICYLIC ACID, CLOPIDOGREL HYDROGEN SUL...</td>\n      <td>yes</td>\n      <td>CLOPIDOGREL/ACETYLSALICYLIC ACID MYLAN</td>\n    </tr>\n    <tr>\n      <th>1641</th>\n      <td>ACETYLSALICYLIC ACID</td>\n      <td>CLOPIDOGREL, ACETYLSALICYLIC ACID</td>\n      <td>yes</td>\n      <td>DUOPLAVIN</td>\n    </tr>\n    <tr>\n      <th>1671</th>\n      <td>CHOLIC ACID</td>\n      <td>CHENODEOXYCHOLIC ACID</td>\n      <td>yes</td>\n      <td>CHENODEOXYCHOLIC ACID LEADIANT</td>\n    </tr>\n    <tr>\n      <th>1672</th>\n      <td>CHOLIC ACID</td>\n      <td>OBETICHOLIC ACID</td>\n      <td>yes</td>\n      <td>OCALIVA</td>\n    </tr>\n    <tr>\n      <th>1673</th>\n      <td>CHOLIC ACID</td>\n      <td>CHOLIC ACID</td>\n      <td>yes</td>\n      <td>ORPHACOL</td>\n    </tr>\n  </tbody>\n</table>\n<p>104 rows × 4 columns</p>\n</div>"
     },
     "metadata": {},
     "execution_count": 136
    }
   ]
  },
  {
   "cell_type": "code",
   "execution_count": null,
   "metadata": {},
   "outputs": [],
   "source": []
  },
  {
   "cell_type": "code",
   "execution_count": null,
   "metadata": {},
   "outputs": [],
   "source": []
  },
  {
   "cell_type": "code",
   "execution_count": null,
   "metadata": {},
   "outputs": [],
   "source": []
  },
  {
   "cell_type": "code",
   "execution_count": 100,
   "metadata": {},
   "outputs": [
    {
     "output_type": "execute_result",
     "data": {
      "text/plain": [
       "     Brand name EMA brand name is identified         INN\n",
       "4      ABRAXANE       ABRAXANE           yes  paclitaxel\n",
       "55      APEALEA        APEALEA           yes  paclitaxel\n",
       "783     PAZENIR        PAZENIR           yes  paclitaxel\n",
       "1432     PAXENE         PAXENE           yes  paclitaxel"
      ],
      "text/html": "<div>\n<style scoped>\n    .dataframe tbody tr th:only-of-type {\n        vertical-align: middle;\n    }\n\n    .dataframe tbody tr th {\n        vertical-align: top;\n    }\n\n    .dataframe thead th {\n        text-align: right;\n    }\n</style>\n<table border=\"1\" class=\"dataframe\">\n  <thead>\n    <tr style=\"text-align: right;\">\n      <th></th>\n      <th>Brand name</th>\n      <th>EMA brand name</th>\n      <th>is identified</th>\n      <th>INN</th>\n    </tr>\n  </thead>\n  <tbody>\n    <tr>\n      <th>4</th>\n      <td>ABRAXANE</td>\n      <td>ABRAXANE</td>\n      <td>yes</td>\n      <td>paclitaxel</td>\n    </tr>\n    <tr>\n      <th>55</th>\n      <td>APEALEA</td>\n      <td>APEALEA</td>\n      <td>yes</td>\n      <td>paclitaxel</td>\n    </tr>\n    <tr>\n      <th>783</th>\n      <td>PAZENIR</td>\n      <td>PAZENIR</td>\n      <td>yes</td>\n      <td>paclitaxel</td>\n    </tr>\n    <tr>\n      <th>1432</th>\n      <td>PAXENE</td>\n      <td>PAXENE</td>\n      <td>yes</td>\n      <td>paclitaxel</td>\n    </tr>\n  </tbody>\n</table>\n</div>"
     },
     "metadata": {},
     "execution_count": 100
    }
   ],
   "source": [
    "mask = matched_drugs['INN'] == 'paclitaxel'\n",
    "matched_drugs[mask]"
   ]
  },
  {
   "cell_type": "code",
   "execution_count": null,
   "metadata": {},
   "outputs": [],
   "source": []
  }
 ],
 "metadata": {
  "kernelspec": {
   "display_name": "erlotinib-venv",
   "language": "python",
   "name": "erlotinib-venv"
  },
  "language_info": {
   "codemirror_mode": {
    "name": "ipython",
    "version": 3
   },
   "file_extension": ".py",
   "mimetype": "text/x-python",
   "name": "python",
   "nbconvert_exporter": "python",
   "pygments_lexer": "ipython3",
   "version": "3.7.5-final"
  },
  "widgets": {
   "application/vnd.jupyter.widget-state+json": {
    "state": {},
    "version_major": 2,
    "version_minor": 0
   }
  }
 },
 "nbformat": 4,
 "nbformat_minor": 2
}