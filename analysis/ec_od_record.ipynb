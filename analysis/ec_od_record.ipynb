{
 "cells": [
  {
   "cell_type": "markdown",
   "metadata": {},
   "source": [
    "# EC Orphan Drug Records\n",
    "\n",
    "Source of data: https://ec.europa.eu/health/documents/community-register/html/reg_od_act.htm?sort=n"
   ]
  },
  {
   "cell_type": "code",
   "execution_count": 2,
   "metadata": {},
   "outputs": [
    {
     "output_type": "execute_result",
     "data": {
      "text/plain": [
       "              EU #                                            Product  \\\n",
       "0     EU/3/20/2351  Adeno-associated virus serotype 5 containing t...   \n",
       "1     EU/3/20/2350  Poly(oxy-1,2-ethanediyl), alpha-hydro-omega-me...   \n",
       "2     EU/3/20/2349                                          Miglustat   \n",
       "3     EU/3/20/2348  Poly(oxy-1,2-ethanediyl), alpha-(carboxymethyl...   \n",
       "4     EU/3/20/2347                                          Trehalose   \n",
       "...            ...                                                ...   \n",
       "1735   EU/3/01/034                        Gusperimus trihydrochloride   \n",
       "1736   EU/3/01/028                                         Inolimomab   \n",
       "1737   EU/3/01/026                     L-Lysine-N-acetyl-L-cysteinate   \n",
       "1738   EU/3/00/013                            Ethyl Eicosopentaenoate   \n",
       "1739   EU/3/00/005                              Gemtuzumab Ozogamicin   \n",
       "\n",
       "                                             Indication  \\\n",
       "0     Treatment of RDH12 mutation associated retinal...   \n",
       "1                       Treatment of hypoparathyroidism   \n",
       "2           Treatment of neuronal ceroid lipofuscinosis   \n",
       "3                           Treatment of homocystinuria   \n",
       "4           Treatment of neuronal ceroid lipofuscinosis   \n",
       "...                                                 ...   \n",
       "1735              Treatment of Wegener’s granulomatosis   \n",
       "1736             Treatment of Graft versus Host Disease   \n",
       "1737                       Treatment of cystic fibrosis   \n",
       "1738                  Treatment of Huntington's disease   \n",
       "1739               Treatment of acute myeloid leukaemia   \n",
       "\n",
       "                                Sponsor Designation date  \\\n",
       "0                         MeiraGTx B.V.      19 Oct 2020   \n",
       "1     Ascendis Pharma Bone Diseases A/S      19 Oct 2020   \n",
       "2                     Theranexus S.A.S.      19 Oct 2020   \n",
       "3     Aeglea Biotherapeutics UK Limited      19 Oct 2020   \n",
       "4                     Theranexus S.A.S.      19 Oct 2020   \n",
       "...                                 ...              ...   \n",
       "1735                  Nordic Group B.V.      29 Mar 2001   \n",
       "1736                 Elsalys Biotech SA      05 Mar 2001   \n",
       "1737                LABORATOIRES SMB SA      14 Feb 2001   \n",
       "1738        Amarin Neuroscience Limited      29 Dec 2000   \n",
       "1739              Pfizer Europe MA EEIG      18 Oct 2000   \n",
       "\n",
       "      Tradename - EU product # - Implemented on  \n",
       "0                                             -  \n",
       "1                                             -  \n",
       "2                                             -  \n",
       "3                                             -  \n",
       "4                                             -  \n",
       "...                                         ...  \n",
       "1735                                          -  \n",
       "1736                                          -  \n",
       "1737                                          -  \n",
       "1738                                          -  \n",
       "1739  Mylotarg - \\nEU/1/18/1277 - \\n23 Apr 2018  \n",
       "\n",
       "[1740 rows x 6 columns]"
      ],
      "text/html": "<div>\n<style scoped>\n    .dataframe tbody tr th:only-of-type {\n        vertical-align: middle;\n    }\n\n    .dataframe tbody tr th {\n        vertical-align: top;\n    }\n\n    .dataframe thead th {\n        text-align: right;\n    }\n</style>\n<table border=\"1\" class=\"dataframe\">\n  <thead>\n    <tr style=\"text-align: right;\">\n      <th></th>\n      <th>EU #</th>\n      <th>Product</th>\n      <th>Indication</th>\n      <th>Sponsor</th>\n      <th>Designation date</th>\n      <th>Tradename - EU product # - Implemented on</th>\n    </tr>\n  </thead>\n  <tbody>\n    <tr>\n      <th>0</th>\n      <td>EU/3/20/2351</td>\n      <td>Adeno-associated virus serotype 5 containing t...</td>\n      <td>Treatment of RDH12 mutation associated retinal...</td>\n      <td>MeiraGTx B.V.</td>\n      <td>19 Oct 2020</td>\n      <td>-</td>\n    </tr>\n    <tr>\n      <th>1</th>\n      <td>EU/3/20/2350</td>\n      <td>Poly(oxy-1,2-ethanediyl), alpha-hydro-omega-me...</td>\n      <td>Treatment of hypoparathyroidism</td>\n      <td>Ascendis Pharma Bone Diseases A/S</td>\n      <td>19 Oct 2020</td>\n      <td>-</td>\n    </tr>\n    <tr>\n      <th>2</th>\n      <td>EU/3/20/2349</td>\n      <td>Miglustat</td>\n      <td>Treatment of neuronal ceroid lipofuscinosis</td>\n      <td>Theranexus S.A.S.</td>\n      <td>19 Oct 2020</td>\n      <td>-</td>\n    </tr>\n    <tr>\n      <th>3</th>\n      <td>EU/3/20/2348</td>\n      <td>Poly(oxy-1,2-ethanediyl), alpha-(carboxymethyl...</td>\n      <td>Treatment of homocystinuria</td>\n      <td>Aeglea Biotherapeutics UK Limited</td>\n      <td>19 Oct 2020</td>\n      <td>-</td>\n    </tr>\n    <tr>\n      <th>4</th>\n      <td>EU/3/20/2347</td>\n      <td>Trehalose</td>\n      <td>Treatment of neuronal ceroid lipofuscinosis</td>\n      <td>Theranexus S.A.S.</td>\n      <td>19 Oct 2020</td>\n      <td>-</td>\n    </tr>\n    <tr>\n      <th>...</th>\n      <td>...</td>\n      <td>...</td>\n      <td>...</td>\n      <td>...</td>\n      <td>...</td>\n      <td>...</td>\n    </tr>\n    <tr>\n      <th>1735</th>\n      <td>EU/3/01/034</td>\n      <td>Gusperimus trihydrochloride</td>\n      <td>Treatment of Wegener’s granulomatosis</td>\n      <td>Nordic Group B.V.</td>\n      <td>29 Mar 2001</td>\n      <td>-</td>\n    </tr>\n    <tr>\n      <th>1736</th>\n      <td>EU/3/01/028</td>\n      <td>Inolimomab</td>\n      <td>Treatment of Graft versus Host Disease</td>\n      <td>Elsalys Biotech SA</td>\n      <td>05 Mar 2001</td>\n      <td>-</td>\n    </tr>\n    <tr>\n      <th>1737</th>\n      <td>EU/3/01/026</td>\n      <td>L-Lysine-N-acetyl-L-cysteinate</td>\n      <td>Treatment of cystic fibrosis</td>\n      <td>LABORATOIRES SMB SA</td>\n      <td>14 Feb 2001</td>\n      <td>-</td>\n    </tr>\n    <tr>\n      <th>1738</th>\n      <td>EU/3/00/013</td>\n      <td>Ethyl Eicosopentaenoate</td>\n      <td>Treatment of Huntington's disease</td>\n      <td>Amarin Neuroscience Limited</td>\n      <td>29 Dec 2000</td>\n      <td>-</td>\n    </tr>\n    <tr>\n      <th>1739</th>\n      <td>EU/3/00/005</td>\n      <td>Gemtuzumab Ozogamicin</td>\n      <td>Treatment of acute myeloid leukaemia</td>\n      <td>Pfizer Europe MA EEIG</td>\n      <td>18 Oct 2000</td>\n      <td>Mylotarg - \\nEU/1/18/1277 - \\n23 Apr 2018</td>\n    </tr>\n  </tbody>\n</table>\n<p>1740 rows × 6 columns</p>\n</div>"
     },
     "metadata": {},
     "execution_count": 2
    }
   ],
   "source": [
    "import os\n",
    "\n",
    "import numpy as np\n",
    "import pandas as pd\n",
    "\n",
    "path = os.path.dirname(os.getcwd())\n",
    "data = pd.read_csv(path + '/data/ec_orphan_designations.csv', header=2)\n",
    "data"
   ]
  },
  {
   "cell_type": "markdown",
   "metadata": {},
   "source": [
    "## 1. Number of designations each year\n",
    "(exclude 2000 and 2020, because data is incomplete)"
   ]
  },
  {
   "cell_type": "code",
   "execution_count": 3,
   "metadata": {},
   "outputs": [
    {
     "output_type": "display_data",
     "data": {
      "application/vnd.plotly.v1+json": {
       "config": {
        "plotlyServerURL": "https://plot.ly"
       },
       "data": [
        {
         "marker": {
          "line": {
           "color": "#636EFA",
           "width": 1
          }
         },
         "type": "scatter",
         "x": [
          2001,
          2002,
          2003,
          2004,
          2005,
          2006,
          2007,
          2008,
          2009,
          2010,
          2011,
          2012,
          2013,
          2014,
          2015,
          2016,
          2017,
          2018,
          2019
         ],
         "y": [
          13,
          17,
          19,
          33,
          47,
          42,
          60,
          50,
          59,
          89,
          73,
          99,
          104,
          165,
          157,
          184,
          144,
          163,
          111
         ]
        }
       ],
       "layout": {
        "template": {
         "data": {
          "bar": [
           {
            "error_x": {
             "color": "#2a3f5f"
            },
            "error_y": {
             "color": "#2a3f5f"
            },
            "marker": {
             "line": {
              "color": "white",
              "width": 0.5
             }
            },
            "type": "bar"
           }
          ],
          "barpolar": [
           {
            "marker": {
             "line": {
              "color": "white",
              "width": 0.5
             }
            },
            "type": "barpolar"
           }
          ],
          "carpet": [
           {
            "aaxis": {
             "endlinecolor": "#2a3f5f",
             "gridcolor": "#C8D4E3",
             "linecolor": "#C8D4E3",
             "minorgridcolor": "#C8D4E3",
             "startlinecolor": "#2a3f5f"
            },
            "baxis": {
             "endlinecolor": "#2a3f5f",
             "gridcolor": "#C8D4E3",
             "linecolor": "#C8D4E3",
             "minorgridcolor": "#C8D4E3",
             "startlinecolor": "#2a3f5f"
            },
            "type": "carpet"
           }
          ],
          "choropleth": [
           {
            "colorbar": {
             "outlinewidth": 0,
             "ticks": ""
            },
            "type": "choropleth"
           }
          ],
          "contour": [
           {
            "colorbar": {
             "outlinewidth": 0,
             "ticks": ""
            },
            "colorscale": [
             [
              0,
              "#0d0887"
             ],
             [
              0.1111111111111111,
              "#46039f"
             ],
             [
              0.2222222222222222,
              "#7201a8"
             ],
             [
              0.3333333333333333,
              "#9c179e"
             ],
             [
              0.4444444444444444,
              "#bd3786"
             ],
             [
              0.5555555555555556,
              "#d8576b"
             ],
             [
              0.6666666666666666,
              "#ed7953"
             ],
             [
              0.7777777777777778,
              "#fb9f3a"
             ],
             [
              0.8888888888888888,
              "#fdca26"
             ],
             [
              1,
              "#f0f921"
             ]
            ],
            "type": "contour"
           }
          ],
          "contourcarpet": [
           {
            "colorbar": {
             "outlinewidth": 0,
             "ticks": ""
            },
            "type": "contourcarpet"
           }
          ],
          "heatmap": [
           {
            "colorbar": {
             "outlinewidth": 0,
             "ticks": ""
            },
            "colorscale": [
             [
              0,
              "#0d0887"
             ],
             [
              0.1111111111111111,
              "#46039f"
             ],
             [
              0.2222222222222222,
              "#7201a8"
             ],
             [
              0.3333333333333333,
              "#9c179e"
             ],
             [
              0.4444444444444444,
              "#bd3786"
             ],
             [
              0.5555555555555556,
              "#d8576b"
             ],
             [
              0.6666666666666666,
              "#ed7953"
             ],
             [
              0.7777777777777778,
              "#fb9f3a"
             ],
             [
              0.8888888888888888,
              "#fdca26"
             ],
             [
              1,
              "#f0f921"
             ]
            ],
            "type": "heatmap"
           }
          ],
          "heatmapgl": [
           {
            "colorbar": {
             "outlinewidth": 0,
             "ticks": ""
            },
            "colorscale": [
             [
              0,
              "#0d0887"
             ],
             [
              0.1111111111111111,
              "#46039f"
             ],
             [
              0.2222222222222222,
              "#7201a8"
             ],
             [
              0.3333333333333333,
              "#9c179e"
             ],
             [
              0.4444444444444444,
              "#bd3786"
             ],
             [
              0.5555555555555556,
              "#d8576b"
             ],
             [
              0.6666666666666666,
              "#ed7953"
             ],
             [
              0.7777777777777778,
              "#fb9f3a"
             ],
             [
              0.8888888888888888,
              "#fdca26"
             ],
             [
              1,
              "#f0f921"
             ]
            ],
            "type": "heatmapgl"
           }
          ],
          "histogram": [
           {
            "marker": {
             "colorbar": {
              "outlinewidth": 0,
              "ticks": ""
             }
            },
            "type": "histogram"
           }
          ],
          "histogram2d": [
           {
            "colorbar": {
             "outlinewidth": 0,
             "ticks": ""
            },
            "colorscale": [
             [
              0,
              "#0d0887"
             ],
             [
              0.1111111111111111,
              "#46039f"
             ],
             [
              0.2222222222222222,
              "#7201a8"
             ],
             [
              0.3333333333333333,
              "#9c179e"
             ],
             [
              0.4444444444444444,
              "#bd3786"
             ],
             [
              0.5555555555555556,
              "#d8576b"
             ],
             [
              0.6666666666666666,
              "#ed7953"
             ],
             [
              0.7777777777777778,
              "#fb9f3a"
             ],
             [
              0.8888888888888888,
              "#fdca26"
             ],
             [
              1,
              "#f0f921"
             ]
            ],
            "type": "histogram2d"
           }
          ],
          "histogram2dcontour": [
           {
            "colorbar": {
             "outlinewidth": 0,
             "ticks": ""
            },
            "colorscale": [
             [
              0,
              "#0d0887"
             ],
             [
              0.1111111111111111,
              "#46039f"
             ],
             [
              0.2222222222222222,
              "#7201a8"
             ],
             [
              0.3333333333333333,
              "#9c179e"
             ],
             [
              0.4444444444444444,
              "#bd3786"
             ],
             [
              0.5555555555555556,
              "#d8576b"
             ],
             [
              0.6666666666666666,
              "#ed7953"
             ],
             [
              0.7777777777777778,
              "#fb9f3a"
             ],
             [
              0.8888888888888888,
              "#fdca26"
             ],
             [
              1,
              "#f0f921"
             ]
            ],
            "type": "histogram2dcontour"
           }
          ],
          "mesh3d": [
           {
            "colorbar": {
             "outlinewidth": 0,
             "ticks": ""
            },
            "type": "mesh3d"
           }
          ],
          "parcoords": [
           {
            "line": {
             "colorbar": {
              "outlinewidth": 0,
              "ticks": ""
             }
            },
            "type": "parcoords"
           }
          ],
          "pie": [
           {
            "automargin": true,
            "type": "pie"
           }
          ],
          "scatter": [
           {
            "marker": {
             "colorbar": {
              "outlinewidth": 0,
              "ticks": ""
             }
            },
            "type": "scatter"
           }
          ],
          "scatter3d": [
           {
            "line": {
             "colorbar": {
              "outlinewidth": 0,
              "ticks": ""
             }
            },
            "marker": {
             "colorbar": {
              "outlinewidth": 0,
              "ticks": ""
             }
            },
            "type": "scatter3d"
           }
          ],
          "scattercarpet": [
           {
            "marker": {
             "colorbar": {
              "outlinewidth": 0,
              "ticks": ""
             }
            },
            "type": "scattercarpet"
           }
          ],
          "scattergeo": [
           {
            "marker": {
             "colorbar": {
              "outlinewidth": 0,
              "ticks": ""
             }
            },
            "type": "scattergeo"
           }
          ],
          "scattergl": [
           {
            "marker": {
             "colorbar": {
              "outlinewidth": 0,
              "ticks": ""
             }
            },
            "type": "scattergl"
           }
          ],
          "scattermapbox": [
           {
            "marker": {
             "colorbar": {
              "outlinewidth": 0,
              "ticks": ""
             }
            },
            "type": "scattermapbox"
           }
          ],
          "scatterpolar": [
           {
            "marker": {
             "colorbar": {
              "outlinewidth": 0,
              "ticks": ""
             }
            },
            "type": "scatterpolar"
           }
          ],
          "scatterpolargl": [
           {
            "marker": {
             "colorbar": {
              "outlinewidth": 0,
              "ticks": ""
             }
            },
            "type": "scatterpolargl"
           }
          ],
          "scatterternary": [
           {
            "marker": {
             "colorbar": {
              "outlinewidth": 0,
              "ticks": ""
             }
            },
            "type": "scatterternary"
           }
          ],
          "surface": [
           {
            "colorbar": {
             "outlinewidth": 0,
             "ticks": ""
            },
            "colorscale": [
             [
              0,
              "#0d0887"
             ],
             [
              0.1111111111111111,
              "#46039f"
             ],
             [
              0.2222222222222222,
              "#7201a8"
             ],
             [
              0.3333333333333333,
              "#9c179e"
             ],
             [
              0.4444444444444444,
              "#bd3786"
             ],
             [
              0.5555555555555556,
              "#d8576b"
             ],
             [
              0.6666666666666666,
              "#ed7953"
             ],
             [
              0.7777777777777778,
              "#fb9f3a"
             ],
             [
              0.8888888888888888,
              "#fdca26"
             ],
             [
              1,
              "#f0f921"
             ]
            ],
            "type": "surface"
           }
          ],
          "table": [
           {
            "cells": {
             "fill": {
              "color": "#EBF0F8"
             },
             "line": {
              "color": "white"
             }
            },
            "header": {
             "fill": {
              "color": "#C8D4E3"
             },
             "line": {
              "color": "white"
             }
            },
            "type": "table"
           }
          ]
         },
         "layout": {
          "annotationdefaults": {
           "arrowcolor": "#2a3f5f",
           "arrowhead": 0,
           "arrowwidth": 1
          },
          "autotypenumbers": "strict",
          "coloraxis": {
           "colorbar": {
            "outlinewidth": 0,
            "ticks": ""
           }
          },
          "colorscale": {
           "diverging": [
            [
             0,
             "#8e0152"
            ],
            [
             0.1,
             "#c51b7d"
            ],
            [
             0.2,
             "#de77ae"
            ],
            [
             0.3,
             "#f1b6da"
            ],
            [
             0.4,
             "#fde0ef"
            ],
            [
             0.5,
             "#f7f7f7"
            ],
            [
             0.6,
             "#e6f5d0"
            ],
            [
             0.7,
             "#b8e186"
            ],
            [
             0.8,
             "#7fbc41"
            ],
            [
             0.9,
             "#4d9221"
            ],
            [
             1,
             "#276419"
            ]
           ],
           "sequential": [
            [
             0,
             "#0d0887"
            ],
            [
             0.1111111111111111,
             "#46039f"
            ],
            [
             0.2222222222222222,
             "#7201a8"
            ],
            [
             0.3333333333333333,
             "#9c179e"
            ],
            [
             0.4444444444444444,
             "#bd3786"
            ],
            [
             0.5555555555555556,
             "#d8576b"
            ],
            [
             0.6666666666666666,
             "#ed7953"
            ],
            [
             0.7777777777777778,
             "#fb9f3a"
            ],
            [
             0.8888888888888888,
             "#fdca26"
            ],
            [
             1,
             "#f0f921"
            ]
           ],
           "sequentialminus": [
            [
             0,
             "#0d0887"
            ],
            [
             0.1111111111111111,
             "#46039f"
            ],
            [
             0.2222222222222222,
             "#7201a8"
            ],
            [
             0.3333333333333333,
             "#9c179e"
            ],
            [
             0.4444444444444444,
             "#bd3786"
            ],
            [
             0.5555555555555556,
             "#d8576b"
            ],
            [
             0.6666666666666666,
             "#ed7953"
            ],
            [
             0.7777777777777778,
             "#fb9f3a"
            ],
            [
             0.8888888888888888,
             "#fdca26"
            ],
            [
             1,
             "#f0f921"
            ]
           ]
          },
          "colorway": [
           "#636efa",
           "#EF553B",
           "#00cc96",
           "#ab63fa",
           "#FFA15A",
           "#19d3f3",
           "#FF6692",
           "#B6E880",
           "#FF97FF",
           "#FECB52"
          ],
          "font": {
           "color": "#2a3f5f"
          },
          "geo": {
           "bgcolor": "white",
           "lakecolor": "white",
           "landcolor": "white",
           "showlakes": true,
           "showland": true,
           "subunitcolor": "#C8D4E3"
          },
          "hoverlabel": {
           "align": "left"
          },
          "hovermode": "closest",
          "mapbox": {
           "style": "light"
          },
          "paper_bgcolor": "white",
          "plot_bgcolor": "white",
          "polar": {
           "angularaxis": {
            "gridcolor": "#EBF0F8",
            "linecolor": "#EBF0F8",
            "ticks": ""
           },
           "bgcolor": "white",
           "radialaxis": {
            "gridcolor": "#EBF0F8",
            "linecolor": "#EBF0F8",
            "ticks": ""
           }
          },
          "scene": {
           "xaxis": {
            "backgroundcolor": "white",
            "gridcolor": "#DFE8F3",
            "gridwidth": 2,
            "linecolor": "#EBF0F8",
            "showbackground": true,
            "ticks": "",
            "zerolinecolor": "#EBF0F8"
           },
           "yaxis": {
            "backgroundcolor": "white",
            "gridcolor": "#DFE8F3",
            "gridwidth": 2,
            "linecolor": "#EBF0F8",
            "showbackground": true,
            "ticks": "",
            "zerolinecolor": "#EBF0F8"
           },
           "zaxis": {
            "backgroundcolor": "white",
            "gridcolor": "#DFE8F3",
            "gridwidth": 2,
            "linecolor": "#EBF0F8",
            "showbackground": true,
            "ticks": "",
            "zerolinecolor": "#EBF0F8"
           }
          },
          "shapedefaults": {
           "line": {
            "color": "#2a3f5f"
           }
          },
          "ternary": {
           "aaxis": {
            "gridcolor": "#DFE8F3",
            "linecolor": "#A2B1C6",
            "ticks": ""
           },
           "baxis": {
            "gridcolor": "#DFE8F3",
            "linecolor": "#A2B1C6",
            "ticks": ""
           },
           "bgcolor": "white",
           "caxis": {
            "gridcolor": "#DFE8F3",
            "linecolor": "#A2B1C6",
            "ticks": ""
           }
          },
          "title": {
           "x": 0.05
          },
          "xaxis": {
           "automargin": true,
           "gridcolor": "#EBF0F8",
           "linecolor": "#EBF0F8",
           "ticks": "",
           "title": {
            "standoff": 15
           },
           "zerolinecolor": "#EBF0F8",
           "zerolinewidth": 2
          },
          "yaxis": {
           "automargin": true,
           "gridcolor": "#EBF0F8",
           "linecolor": "#EBF0F8",
           "ticks": "",
           "title": {
            "standoff": 15
           },
           "zerolinecolor": "#EBF0F8",
           "zerolinewidth": 2
          }
         }
        },
        "xaxis": {
         "title": {
          "text": "Year"
         }
        },
        "yaxis": {
         "title": {
          "text": "Number of designations"
         }
        }
       }
      }
     },
     "metadata": {}
    }
   ],
   "source": [
    "import plotly.colors\n",
    "import plotly.graph_objects as go\n",
    "\n",
    "# Create container for time data\n",
    "time_evolution = pd.DataFrame(columns={'Year', 'Number of designations'})\n",
    "\n",
    "# Group data by year\n",
    "years = pd.to_datetime(\n",
    "    data['Designation date']).apply(lambda x: x.year)\n",
    "for year in years.dropna().unique():\n",
    "    # Ignore 2000 and 2020\n",
    "    if (year == 2000) or (year == 2020):\n",
    "        continue\n",
    "\n",
    "    # Get outcomes for that year\n",
    "    mask = years == year\n",
    "    n_designations = years[mask].count()\n",
    "    \n",
    "    # Append to main container\n",
    "    time_evolution = time_evolution.append(pd.DataFrame({\n",
    "        'Year': [year],\n",
    "        'Number of designations': [n_designations]}))\n",
    "\n",
    "# Sort by time\n",
    "time_evolution.sort_values(by='Year', inplace=True)\n",
    "\n",
    "# Create line plot\n",
    "fig = go.Figure()\n",
    "colour = plotly.colors.qualitative.Plotly[0]\n",
    "\n",
    "fig.add_trace(go.Scatter(\n",
    "    x=time_evolution['Year'],\n",
    "    y=time_evolution['Number of designations'],\n",
    "    marker=dict(\n",
    "        line=dict(color=colour, width=1))))\n",
    "\n",
    "# Set axes and template\n",
    "fig.update_layout(\n",
    "    template=\"plotly_white\",\n",
    "    xaxis_title='Year',\n",
    "    yaxis_title='Number of designations')\n",
    "\n",
    "fig.show()"
   ]
  },
  {
   "cell_type": "markdown",
   "metadata": {},
   "source": [
    "**Figure 1:** EC's record of orphan drug designations over time"
   ]
  },
  {
   "cell_type": "code",
   "execution_count": 33,
   "metadata": {},
   "outputs": [
    {
     "output_type": "execute_result",
     "data": {
      "text/plain": [
       "1629"
      ]
     },
     "metadata": {},
     "execution_count": 33
    }
   ],
   "source": [
    "time_evolution['Number of designations'].sum()"
   ]
  },
  {
   "cell_type": "markdown",
   "metadata": {},
   "source": [
    "Note: There is a lag from EMA positive numbers to EC numbers, likely because date of first decision and date of designation do not coincide."
   ]
  },
  {
   "cell_type": "markdown",
   "metadata": {},
   "source": [
    "## 2 Number of applications per active substance\n",
    "The substance names are transformed to lower case, but other than that there is no processing or matching of the names at this point"
   ]
  },
  {
   "cell_type": "markdown",
   "metadata": {},
   "source": [
    "### 2.1 Number of single applications versus number of multiple applications"
   ]
  },
  {
   "cell_type": "code",
   "execution_count": 26,
   "metadata": {},
   "outputs": [
    {
     "output_type": "display_data",
     "data": {
      "application/vnd.plotly.v1+json": {
       "config": {
        "plotlyServerURL": "https://plot.ly"
       },
       "data": [
        {
         "labels": [
          "Single designation",
          "Multiple designations"
         ],
         "marker": {
          "colors": [
           "#636EFA",
           "#EF553B"
          ],
          "line": {
           "color": "#000000",
           "width": 1
          }
         },
         "pull": [
          0,
          0.2
         ],
         "sort": false,
         "type": "pie",
         "values": [
          1185,
          222
         ]
        }
       ],
       "layout": {
        "template": {
         "data": {
          "bar": [
           {
            "error_x": {
             "color": "#2a3f5f"
            },
            "error_y": {
             "color": "#2a3f5f"
            },
            "marker": {
             "line": {
              "color": "#E5ECF6",
              "width": 0.5
             }
            },
            "type": "bar"
           }
          ],
          "barpolar": [
           {
            "marker": {
             "line": {
              "color": "#E5ECF6",
              "width": 0.5
             }
            },
            "type": "barpolar"
           }
          ],
          "carpet": [
           {
            "aaxis": {
             "endlinecolor": "#2a3f5f",
             "gridcolor": "white",
             "linecolor": "white",
             "minorgridcolor": "white",
             "startlinecolor": "#2a3f5f"
            },
            "baxis": {
             "endlinecolor": "#2a3f5f",
             "gridcolor": "white",
             "linecolor": "white",
             "minorgridcolor": "white",
             "startlinecolor": "#2a3f5f"
            },
            "type": "carpet"
           }
          ],
          "choropleth": [
           {
            "colorbar": {
             "outlinewidth": 0,
             "ticks": ""
            },
            "type": "choropleth"
           }
          ],
          "contour": [
           {
            "colorbar": {
             "outlinewidth": 0,
             "ticks": ""
            },
            "colorscale": [
             [
              0,
              "#0d0887"
             ],
             [
              0.1111111111111111,
              "#46039f"
             ],
             [
              0.2222222222222222,
              "#7201a8"
             ],
             [
              0.3333333333333333,
              "#9c179e"
             ],
             [
              0.4444444444444444,
              "#bd3786"
             ],
             [
              0.5555555555555556,
              "#d8576b"
             ],
             [
              0.6666666666666666,
              "#ed7953"
             ],
             [
              0.7777777777777778,
              "#fb9f3a"
             ],
             [
              0.8888888888888888,
              "#fdca26"
             ],
             [
              1,
              "#f0f921"
             ]
            ],
            "type": "contour"
           }
          ],
          "contourcarpet": [
           {
            "colorbar": {
             "outlinewidth": 0,
             "ticks": ""
            },
            "type": "contourcarpet"
           }
          ],
          "heatmap": [
           {
            "colorbar": {
             "outlinewidth": 0,
             "ticks": ""
            },
            "colorscale": [
             [
              0,
              "#0d0887"
             ],
             [
              0.1111111111111111,
              "#46039f"
             ],
             [
              0.2222222222222222,
              "#7201a8"
             ],
             [
              0.3333333333333333,
              "#9c179e"
             ],
             [
              0.4444444444444444,
              "#bd3786"
             ],
             [
              0.5555555555555556,
              "#d8576b"
             ],
             [
              0.6666666666666666,
              "#ed7953"
             ],
             [
              0.7777777777777778,
              "#fb9f3a"
             ],
             [
              0.8888888888888888,
              "#fdca26"
             ],
             [
              1,
              "#f0f921"
             ]
            ],
            "type": "heatmap"
           }
          ],
          "heatmapgl": [
           {
            "colorbar": {
             "outlinewidth": 0,
             "ticks": ""
            },
            "colorscale": [
             [
              0,
              "#0d0887"
             ],
             [
              0.1111111111111111,
              "#46039f"
             ],
             [
              0.2222222222222222,
              "#7201a8"
             ],
             [
              0.3333333333333333,
              "#9c179e"
             ],
             [
              0.4444444444444444,
              "#bd3786"
             ],
             [
              0.5555555555555556,
              "#d8576b"
             ],
             [
              0.6666666666666666,
              "#ed7953"
             ],
             [
              0.7777777777777778,
              "#fb9f3a"
             ],
             [
              0.8888888888888888,
              "#fdca26"
             ],
             [
              1,
              "#f0f921"
             ]
            ],
            "type": "heatmapgl"
           }
          ],
          "histogram": [
           {
            "marker": {
             "colorbar": {
              "outlinewidth": 0,
              "ticks": ""
             }
            },
            "type": "histogram"
           }
          ],
          "histogram2d": [
           {
            "colorbar": {
             "outlinewidth": 0,
             "ticks": ""
            },
            "colorscale": [
             [
              0,
              "#0d0887"
             ],
             [
              0.1111111111111111,
              "#46039f"
             ],
             [
              0.2222222222222222,
              "#7201a8"
             ],
             [
              0.3333333333333333,
              "#9c179e"
             ],
             [
              0.4444444444444444,
              "#bd3786"
             ],
             [
              0.5555555555555556,
              "#d8576b"
             ],
             [
              0.6666666666666666,
              "#ed7953"
             ],
             [
              0.7777777777777778,
              "#fb9f3a"
             ],
             [
              0.8888888888888888,
              "#fdca26"
             ],
             [
              1,
              "#f0f921"
             ]
            ],
            "type": "histogram2d"
           }
          ],
          "histogram2dcontour": [
           {
            "colorbar": {
             "outlinewidth": 0,
             "ticks": ""
            },
            "colorscale": [
             [
              0,
              "#0d0887"
             ],
             [
              0.1111111111111111,
              "#46039f"
             ],
             [
              0.2222222222222222,
              "#7201a8"
             ],
             [
              0.3333333333333333,
              "#9c179e"
             ],
             [
              0.4444444444444444,
              "#bd3786"
             ],
             [
              0.5555555555555556,
              "#d8576b"
             ],
             [
              0.6666666666666666,
              "#ed7953"
             ],
             [
              0.7777777777777778,
              "#fb9f3a"
             ],
             [
              0.8888888888888888,
              "#fdca26"
             ],
             [
              1,
              "#f0f921"
             ]
            ],
            "type": "histogram2dcontour"
           }
          ],
          "mesh3d": [
           {
            "colorbar": {
             "outlinewidth": 0,
             "ticks": ""
            },
            "type": "mesh3d"
           }
          ],
          "parcoords": [
           {
            "line": {
             "colorbar": {
              "outlinewidth": 0,
              "ticks": ""
             }
            },
            "type": "parcoords"
           }
          ],
          "pie": [
           {
            "automargin": true,
            "type": "pie"
           }
          ],
          "scatter": [
           {
            "marker": {
             "colorbar": {
              "outlinewidth": 0,
              "ticks": ""
             }
            },
            "type": "scatter"
           }
          ],
          "scatter3d": [
           {
            "line": {
             "colorbar": {
              "outlinewidth": 0,
              "ticks": ""
             }
            },
            "marker": {
             "colorbar": {
              "outlinewidth": 0,
              "ticks": ""
             }
            },
            "type": "scatter3d"
           }
          ],
          "scattercarpet": [
           {
            "marker": {
             "colorbar": {
              "outlinewidth": 0,
              "ticks": ""
             }
            },
            "type": "scattercarpet"
           }
          ],
          "scattergeo": [
           {
            "marker": {
             "colorbar": {
              "outlinewidth": 0,
              "ticks": ""
             }
            },
            "type": "scattergeo"
           }
          ],
          "scattergl": [
           {
            "marker": {
             "colorbar": {
              "outlinewidth": 0,
              "ticks": ""
             }
            },
            "type": "scattergl"
           }
          ],
          "scattermapbox": [
           {
            "marker": {
             "colorbar": {
              "outlinewidth": 0,
              "ticks": ""
             }
            },
            "type": "scattermapbox"
           }
          ],
          "scatterpolar": [
           {
            "marker": {
             "colorbar": {
              "outlinewidth": 0,
              "ticks": ""
             }
            },
            "type": "scatterpolar"
           }
          ],
          "scatterpolargl": [
           {
            "marker": {
             "colorbar": {
              "outlinewidth": 0,
              "ticks": ""
             }
            },
            "type": "scatterpolargl"
           }
          ],
          "scatterternary": [
           {
            "marker": {
             "colorbar": {
              "outlinewidth": 0,
              "ticks": ""
             }
            },
            "type": "scatterternary"
           }
          ],
          "surface": [
           {
            "colorbar": {
             "outlinewidth": 0,
             "ticks": ""
            },
            "colorscale": [
             [
              0,
              "#0d0887"
             ],
             [
              0.1111111111111111,
              "#46039f"
             ],
             [
              0.2222222222222222,
              "#7201a8"
             ],
             [
              0.3333333333333333,
              "#9c179e"
             ],
             [
              0.4444444444444444,
              "#bd3786"
             ],
             [
              0.5555555555555556,
              "#d8576b"
             ],
             [
              0.6666666666666666,
              "#ed7953"
             ],
             [
              0.7777777777777778,
              "#fb9f3a"
             ],
             [
              0.8888888888888888,
              "#fdca26"
             ],
             [
              1,
              "#f0f921"
             ]
            ],
            "type": "surface"
           }
          ],
          "table": [
           {
            "cells": {
             "fill": {
              "color": "#EBF0F8"
             },
             "line": {
              "color": "white"
             }
            },
            "header": {
             "fill": {
              "color": "#C8D4E3"
             },
             "line": {
              "color": "white"
             }
            },
            "type": "table"
           }
          ]
         },
         "layout": {
          "annotationdefaults": {
           "arrowcolor": "#2a3f5f",
           "arrowhead": 0,
           "arrowwidth": 1
          },
          "autotypenumbers": "strict",
          "coloraxis": {
           "colorbar": {
            "outlinewidth": 0,
            "ticks": ""
           }
          },
          "colorscale": {
           "diverging": [
            [
             0,
             "#8e0152"
            ],
            [
             0.1,
             "#c51b7d"
            ],
            [
             0.2,
             "#de77ae"
            ],
            [
             0.3,
             "#f1b6da"
            ],
            [
             0.4,
             "#fde0ef"
            ],
            [
             0.5,
             "#f7f7f7"
            ],
            [
             0.6,
             "#e6f5d0"
            ],
            [
             0.7,
             "#b8e186"
            ],
            [
             0.8,
             "#7fbc41"
            ],
            [
             0.9,
             "#4d9221"
            ],
            [
             1,
             "#276419"
            ]
           ],
           "sequential": [
            [
             0,
             "#0d0887"
            ],
            [
             0.1111111111111111,
             "#46039f"
            ],
            [
             0.2222222222222222,
             "#7201a8"
            ],
            [
             0.3333333333333333,
             "#9c179e"
            ],
            [
             0.4444444444444444,
             "#bd3786"
            ],
            [
             0.5555555555555556,
             "#d8576b"
            ],
            [
             0.6666666666666666,
             "#ed7953"
            ],
            [
             0.7777777777777778,
             "#fb9f3a"
            ],
            [
             0.8888888888888888,
             "#fdca26"
            ],
            [
             1,
             "#f0f921"
            ]
           ],
           "sequentialminus": [
            [
             0,
             "#0d0887"
            ],
            [
             0.1111111111111111,
             "#46039f"
            ],
            [
             0.2222222222222222,
             "#7201a8"
            ],
            [
             0.3333333333333333,
             "#9c179e"
            ],
            [
             0.4444444444444444,
             "#bd3786"
            ],
            [
             0.5555555555555556,
             "#d8576b"
            ],
            [
             0.6666666666666666,
             "#ed7953"
            ],
            [
             0.7777777777777778,
             "#fb9f3a"
            ],
            [
             0.8888888888888888,
             "#fdca26"
            ],
            [
             1,
             "#f0f921"
            ]
           ]
          },
          "colorway": [
           "#636efa",
           "#EF553B",
           "#00cc96",
           "#ab63fa",
           "#FFA15A",
           "#19d3f3",
           "#FF6692",
           "#B6E880",
           "#FF97FF",
           "#FECB52"
          ],
          "font": {
           "color": "#2a3f5f"
          },
          "geo": {
           "bgcolor": "white",
           "lakecolor": "white",
           "landcolor": "#E5ECF6",
           "showlakes": true,
           "showland": true,
           "subunitcolor": "white"
          },
          "hoverlabel": {
           "align": "left"
          },
          "hovermode": "closest",
          "mapbox": {
           "style": "light"
          },
          "paper_bgcolor": "white",
          "plot_bgcolor": "#E5ECF6",
          "polar": {
           "angularaxis": {
            "gridcolor": "white",
            "linecolor": "white",
            "ticks": ""
           },
           "bgcolor": "#E5ECF6",
           "radialaxis": {
            "gridcolor": "white",
            "linecolor": "white",
            "ticks": ""
           }
          },
          "scene": {
           "xaxis": {
            "backgroundcolor": "#E5ECF6",
            "gridcolor": "white",
            "gridwidth": 2,
            "linecolor": "white",
            "showbackground": true,
            "ticks": "",
            "zerolinecolor": "white"
           },
           "yaxis": {
            "backgroundcolor": "#E5ECF6",
            "gridcolor": "white",
            "gridwidth": 2,
            "linecolor": "white",
            "showbackground": true,
            "ticks": "",
            "zerolinecolor": "white"
           },
           "zaxis": {
            "backgroundcolor": "#E5ECF6",
            "gridcolor": "white",
            "gridwidth": 2,
            "linecolor": "white",
            "showbackground": true,
            "ticks": "",
            "zerolinecolor": "white"
           }
          },
          "shapedefaults": {
           "line": {
            "color": "#2a3f5f"
           }
          },
          "ternary": {
           "aaxis": {
            "gridcolor": "white",
            "linecolor": "white",
            "ticks": ""
           },
           "baxis": {
            "gridcolor": "white",
            "linecolor": "white",
            "ticks": ""
           },
           "bgcolor": "#E5ECF6",
           "caxis": {
            "gridcolor": "white",
            "linecolor": "white",
            "ticks": ""
           }
          },
          "title": {
           "x": 0.05
          },
          "xaxis": {
           "automargin": true,
           "gridcolor": "white",
           "linecolor": "white",
           "ticks": "",
           "title": {
            "standoff": 15
           },
           "zerolinecolor": "white",
           "zerolinewidth": 2
          },
          "yaxis": {
           "automargin": true,
           "gridcolor": "white",
           "linecolor": "white",
           "ticks": "",
           "title": {
            "standoff": 15
           },
           "zerolinecolor": "white",
           "zerolinewidth": 2
          }
         }
        }
       }
      }
     },
     "metadata": {}
    }
   ],
   "source": [
    "# Create container for name, number of applications\n",
    "substance_applications = pd.DataFrame(columns={'Product', 'Number of designations'})\n",
    "\n",
    "# Get the number of applications\n",
    "temp = data.copy()\n",
    "temp['Product'] = temp['Product'].str.lower()\n",
    "substances = temp['Product'].unique()\n",
    "for substance in substances:\n",
    "    # Get number\n",
    "    mask = temp['Product'] == substance\n",
    "    n_applications = len(temp[mask])\n",
    "\n",
    "    # Get years of designation\n",
    "    designation_date = ''\n",
    "    for date in temp[mask]['Designation date']:\n",
    "        if designation_date != '':\n",
    "            designation_date += '/'\n",
    "        designation_date += str(date)\n",
    "    \n",
    "    # Append to container\n",
    "    substance_applications = substance_applications.append(pd.DataFrame({\n",
    "        'Product': [substance],\n",
    "        'Number of designations': [n_applications],\n",
    "        'Designation date': designation_date}))\n",
    "\n",
    "# Compute number of single and multi applications\n",
    "mask = substance_applications['Number of designations'] == 1\n",
    "n_single = len(substance_applications[mask])\n",
    "mask = substance_applications['Number of designations'] > 1\n",
    "n_multi = len(substance_applications[mask])\n",
    "\n",
    "# Create figure\n",
    "fig = go.Figure()\n",
    "colours = plotly.colors.qualitative.Plotly\n",
    "\n",
    "fig.add_trace(go.Pie(\n",
    "    labels=['Single designation', 'Multiple designations'],\n",
    "    values=[n_single, n_multi],\n",
    "    sort=False,\n",
    "    pull=[0, 0.2],\n",
    "    marker=dict(\n",
    "        colors=colours[:2], \n",
    "        line=dict(color='#000000', width=1))))\n",
    "fig.show()"
   ]
  },
  {
   "cell_type": "markdown",
   "metadata": {},
   "source": [
    "**Figure 2:** Number of orphan designation per product (combination of substances count as distinct, so do distinct names for the same substance)."
   ]
  },
  {
   "cell_type": "markdown",
   "metadata": {},
   "source": [
    "### 2.2 Distribution among multiple applications"
   ]
  },
  {
   "cell_type": "code",
   "execution_count": 5,
   "metadata": {},
   "outputs": [
    {
     "output_type": "display_data",
     "data": {
      "application/vnd.plotly.v1+json": {
       "config": {
        "plotlyServerURL": "https://plot.ly"
       },
       "data": [
        {
         "labels": [
          "2 designations",
          "3 designations",
          "4 designations",
          "5 and more designations"
         ],
         "marker": {
          "colors": [
           "#636EFA",
           "#EF553B",
           "#00CC96",
           "#AB63FA"
          ],
          "line": {
           "color": "#000000",
           "width": 1
          }
         },
         "pull": [
          0,
          0,
          0,
          0.2
         ],
         "sort": false,
         "type": "pie",
         "values": [
          167,
          31,
          11,
          13
         ]
        }
       ],
       "layout": {
        "template": {
         "data": {
          "bar": [
           {
            "error_x": {
             "color": "#2a3f5f"
            },
            "error_y": {
             "color": "#2a3f5f"
            },
            "marker": {
             "line": {
              "color": "#E5ECF6",
              "width": 0.5
             }
            },
            "type": "bar"
           }
          ],
          "barpolar": [
           {
            "marker": {
             "line": {
              "color": "#E5ECF6",
              "width": 0.5
             }
            },
            "type": "barpolar"
           }
          ],
          "carpet": [
           {
            "aaxis": {
             "endlinecolor": "#2a3f5f",
             "gridcolor": "white",
             "linecolor": "white",
             "minorgridcolor": "white",
             "startlinecolor": "#2a3f5f"
            },
            "baxis": {
             "endlinecolor": "#2a3f5f",
             "gridcolor": "white",
             "linecolor": "white",
             "minorgridcolor": "white",
             "startlinecolor": "#2a3f5f"
            },
            "type": "carpet"
           }
          ],
          "choropleth": [
           {
            "colorbar": {
             "outlinewidth": 0,
             "ticks": ""
            },
            "type": "choropleth"
           }
          ],
          "contour": [
           {
            "colorbar": {
             "outlinewidth": 0,
             "ticks": ""
            },
            "colorscale": [
             [
              0,
              "#0d0887"
             ],
             [
              0.1111111111111111,
              "#46039f"
             ],
             [
              0.2222222222222222,
              "#7201a8"
             ],
             [
              0.3333333333333333,
              "#9c179e"
             ],
             [
              0.4444444444444444,
              "#bd3786"
             ],
             [
              0.5555555555555556,
              "#d8576b"
             ],
             [
              0.6666666666666666,
              "#ed7953"
             ],
             [
              0.7777777777777778,
              "#fb9f3a"
             ],
             [
              0.8888888888888888,
              "#fdca26"
             ],
             [
              1,
              "#f0f921"
             ]
            ],
            "type": "contour"
           }
          ],
          "contourcarpet": [
           {
            "colorbar": {
             "outlinewidth": 0,
             "ticks": ""
            },
            "type": "contourcarpet"
           }
          ],
          "heatmap": [
           {
            "colorbar": {
             "outlinewidth": 0,
             "ticks": ""
            },
            "colorscale": [
             [
              0,
              "#0d0887"
             ],
             [
              0.1111111111111111,
              "#46039f"
             ],
             [
              0.2222222222222222,
              "#7201a8"
             ],
             [
              0.3333333333333333,
              "#9c179e"
             ],
             [
              0.4444444444444444,
              "#bd3786"
             ],
             [
              0.5555555555555556,
              "#d8576b"
             ],
             [
              0.6666666666666666,
              "#ed7953"
             ],
             [
              0.7777777777777778,
              "#fb9f3a"
             ],
             [
              0.8888888888888888,
              "#fdca26"
             ],
             [
              1,
              "#f0f921"
             ]
            ],
            "type": "heatmap"
           }
          ],
          "heatmapgl": [
           {
            "colorbar": {
             "outlinewidth": 0,
             "ticks": ""
            },
            "colorscale": [
             [
              0,
              "#0d0887"
             ],
             [
              0.1111111111111111,
              "#46039f"
             ],
             [
              0.2222222222222222,
              "#7201a8"
             ],
             [
              0.3333333333333333,
              "#9c179e"
             ],
             [
              0.4444444444444444,
              "#bd3786"
             ],
             [
              0.5555555555555556,
              "#d8576b"
             ],
             [
              0.6666666666666666,
              "#ed7953"
             ],
             [
              0.7777777777777778,
              "#fb9f3a"
             ],
             [
              0.8888888888888888,
              "#fdca26"
             ],
             [
              1,
              "#f0f921"
             ]
            ],
            "type": "heatmapgl"
           }
          ],
          "histogram": [
           {
            "marker": {
             "colorbar": {
              "outlinewidth": 0,
              "ticks": ""
             }
            },
            "type": "histogram"
           }
          ],
          "histogram2d": [
           {
            "colorbar": {
             "outlinewidth": 0,
             "ticks": ""
            },
            "colorscale": [
             [
              0,
              "#0d0887"
             ],
             [
              0.1111111111111111,
              "#46039f"
             ],
             [
              0.2222222222222222,
              "#7201a8"
             ],
             [
              0.3333333333333333,
              "#9c179e"
             ],
             [
              0.4444444444444444,
              "#bd3786"
             ],
             [
              0.5555555555555556,
              "#d8576b"
             ],
             [
              0.6666666666666666,
              "#ed7953"
             ],
             [
              0.7777777777777778,
              "#fb9f3a"
             ],
             [
              0.8888888888888888,
              "#fdca26"
             ],
             [
              1,
              "#f0f921"
             ]
            ],
            "type": "histogram2d"
           }
          ],
          "histogram2dcontour": [
           {
            "colorbar": {
             "outlinewidth": 0,
             "ticks": ""
            },
            "colorscale": [
             [
              0,
              "#0d0887"
             ],
             [
              0.1111111111111111,
              "#46039f"
             ],
             [
              0.2222222222222222,
              "#7201a8"
             ],
             [
              0.3333333333333333,
              "#9c179e"
             ],
             [
              0.4444444444444444,
              "#bd3786"
             ],
             [
              0.5555555555555556,
              "#d8576b"
             ],
             [
              0.6666666666666666,
              "#ed7953"
             ],
             [
              0.7777777777777778,
              "#fb9f3a"
             ],
             [
              0.8888888888888888,
              "#fdca26"
             ],
             [
              1,
              "#f0f921"
             ]
            ],
            "type": "histogram2dcontour"
           }
          ],
          "mesh3d": [
           {
            "colorbar": {
             "outlinewidth": 0,
             "ticks": ""
            },
            "type": "mesh3d"
           }
          ],
          "parcoords": [
           {
            "line": {
             "colorbar": {
              "outlinewidth": 0,
              "ticks": ""
             }
            },
            "type": "parcoords"
           }
          ],
          "pie": [
           {
            "automargin": true,
            "type": "pie"
           }
          ],
          "scatter": [
           {
            "marker": {
             "colorbar": {
              "outlinewidth": 0,
              "ticks": ""
             }
            },
            "type": "scatter"
           }
          ],
          "scatter3d": [
           {
            "line": {
             "colorbar": {
              "outlinewidth": 0,
              "ticks": ""
             }
            },
            "marker": {
             "colorbar": {
              "outlinewidth": 0,
              "ticks": ""
             }
            },
            "type": "scatter3d"
           }
          ],
          "scattercarpet": [
           {
            "marker": {
             "colorbar": {
              "outlinewidth": 0,
              "ticks": ""
             }
            },
            "type": "scattercarpet"
           }
          ],
          "scattergeo": [
           {
            "marker": {
             "colorbar": {
              "outlinewidth": 0,
              "ticks": ""
             }
            },
            "type": "scattergeo"
           }
          ],
          "scattergl": [
           {
            "marker": {
             "colorbar": {
              "outlinewidth": 0,
              "ticks": ""
             }
            },
            "type": "scattergl"
           }
          ],
          "scattermapbox": [
           {
            "marker": {
             "colorbar": {
              "outlinewidth": 0,
              "ticks": ""
             }
            },
            "type": "scattermapbox"
           }
          ],
          "scatterpolar": [
           {
            "marker": {
             "colorbar": {
              "outlinewidth": 0,
              "ticks": ""
             }
            },
            "type": "scatterpolar"
           }
          ],
          "scatterpolargl": [
           {
            "marker": {
             "colorbar": {
              "outlinewidth": 0,
              "ticks": ""
             }
            },
            "type": "scatterpolargl"
           }
          ],
          "scatterternary": [
           {
            "marker": {
             "colorbar": {
              "outlinewidth": 0,
              "ticks": ""
             }
            },
            "type": "scatterternary"
           }
          ],
          "surface": [
           {
            "colorbar": {
             "outlinewidth": 0,
             "ticks": ""
            },
            "colorscale": [
             [
              0,
              "#0d0887"
             ],
             [
              0.1111111111111111,
              "#46039f"
             ],
             [
              0.2222222222222222,
              "#7201a8"
             ],
             [
              0.3333333333333333,
              "#9c179e"
             ],
             [
              0.4444444444444444,
              "#bd3786"
             ],
             [
              0.5555555555555556,
              "#d8576b"
             ],
             [
              0.6666666666666666,
              "#ed7953"
             ],
             [
              0.7777777777777778,
              "#fb9f3a"
             ],
             [
              0.8888888888888888,
              "#fdca26"
             ],
             [
              1,
              "#f0f921"
             ]
            ],
            "type": "surface"
           }
          ],
          "table": [
           {
            "cells": {
             "fill": {
              "color": "#EBF0F8"
             },
             "line": {
              "color": "white"
             }
            },
            "header": {
             "fill": {
              "color": "#C8D4E3"
             },
             "line": {
              "color": "white"
             }
            },
            "type": "table"
           }
          ]
         },
         "layout": {
          "annotationdefaults": {
           "arrowcolor": "#2a3f5f",
           "arrowhead": 0,
           "arrowwidth": 1
          },
          "autotypenumbers": "strict",
          "coloraxis": {
           "colorbar": {
            "outlinewidth": 0,
            "ticks": ""
           }
          },
          "colorscale": {
           "diverging": [
            [
             0,
             "#8e0152"
            ],
            [
             0.1,
             "#c51b7d"
            ],
            [
             0.2,
             "#de77ae"
            ],
            [
             0.3,
             "#f1b6da"
            ],
            [
             0.4,
             "#fde0ef"
            ],
            [
             0.5,
             "#f7f7f7"
            ],
            [
             0.6,
             "#e6f5d0"
            ],
            [
             0.7,
             "#b8e186"
            ],
            [
             0.8,
             "#7fbc41"
            ],
            [
             0.9,
             "#4d9221"
            ],
            [
             1,
             "#276419"
            ]
           ],
           "sequential": [
            [
             0,
             "#0d0887"
            ],
            [
             0.1111111111111111,
             "#46039f"
            ],
            [
             0.2222222222222222,
             "#7201a8"
            ],
            [
             0.3333333333333333,
             "#9c179e"
            ],
            [
             0.4444444444444444,
             "#bd3786"
            ],
            [
             0.5555555555555556,
             "#d8576b"
            ],
            [
             0.6666666666666666,
             "#ed7953"
            ],
            [
             0.7777777777777778,
             "#fb9f3a"
            ],
            [
             0.8888888888888888,
             "#fdca26"
            ],
            [
             1,
             "#f0f921"
            ]
           ],
           "sequentialminus": [
            [
             0,
             "#0d0887"
            ],
            [
             0.1111111111111111,
             "#46039f"
            ],
            [
             0.2222222222222222,
             "#7201a8"
            ],
            [
             0.3333333333333333,
             "#9c179e"
            ],
            [
             0.4444444444444444,
             "#bd3786"
            ],
            [
             0.5555555555555556,
             "#d8576b"
            ],
            [
             0.6666666666666666,
             "#ed7953"
            ],
            [
             0.7777777777777778,
             "#fb9f3a"
            ],
            [
             0.8888888888888888,
             "#fdca26"
            ],
            [
             1,
             "#f0f921"
            ]
           ]
          },
          "colorway": [
           "#636efa",
           "#EF553B",
           "#00cc96",
           "#ab63fa",
           "#FFA15A",
           "#19d3f3",
           "#FF6692",
           "#B6E880",
           "#FF97FF",
           "#FECB52"
          ],
          "font": {
           "color": "#2a3f5f"
          },
          "geo": {
           "bgcolor": "white",
           "lakecolor": "white",
           "landcolor": "#E5ECF6",
           "showlakes": true,
           "showland": true,
           "subunitcolor": "white"
          },
          "hoverlabel": {
           "align": "left"
          },
          "hovermode": "closest",
          "mapbox": {
           "style": "light"
          },
          "paper_bgcolor": "white",
          "plot_bgcolor": "#E5ECF6",
          "polar": {
           "angularaxis": {
            "gridcolor": "white",
            "linecolor": "white",
            "ticks": ""
           },
           "bgcolor": "#E5ECF6",
           "radialaxis": {
            "gridcolor": "white",
            "linecolor": "white",
            "ticks": ""
           }
          },
          "scene": {
           "xaxis": {
            "backgroundcolor": "#E5ECF6",
            "gridcolor": "white",
            "gridwidth": 2,
            "linecolor": "white",
            "showbackground": true,
            "ticks": "",
            "zerolinecolor": "white"
           },
           "yaxis": {
            "backgroundcolor": "#E5ECF6",
            "gridcolor": "white",
            "gridwidth": 2,
            "linecolor": "white",
            "showbackground": true,
            "ticks": "",
            "zerolinecolor": "white"
           },
           "zaxis": {
            "backgroundcolor": "#E5ECF6",
            "gridcolor": "white",
            "gridwidth": 2,
            "linecolor": "white",
            "showbackground": true,
            "ticks": "",
            "zerolinecolor": "white"
           }
          },
          "shapedefaults": {
           "line": {
            "color": "#2a3f5f"
           }
          },
          "ternary": {
           "aaxis": {
            "gridcolor": "white",
            "linecolor": "white",
            "ticks": ""
           },
           "baxis": {
            "gridcolor": "white",
            "linecolor": "white",
            "ticks": ""
           },
           "bgcolor": "#E5ECF6",
           "caxis": {
            "gridcolor": "white",
            "linecolor": "white",
            "ticks": ""
           }
          },
          "title": {
           "x": 0.05
          },
          "xaxis": {
           "automargin": true,
           "gridcolor": "white",
           "linecolor": "white",
           "ticks": "",
           "title": {
            "standoff": 15
           },
           "zerolinecolor": "white",
           "zerolinewidth": 2
          },
          "yaxis": {
           "automargin": true,
           "gridcolor": "white",
           "linecolor": "white",
           "ticks": "",
           "title": {
            "standoff": 15
           },
           "zerolinecolor": "white",
           "zerolinewidth": 2
          }
         }
        }
       }
      }
     },
     "metadata": {}
    }
   ],
   "source": [
    "# Sort by number of applications\n",
    "substance_applications.sort_values(by='Number of designations', inplace=True)\n",
    "\n",
    "# Get number of applications\n",
    "n_applications = []\n",
    "n_substances = []\n",
    "for n_application in substance_applications['Number of designations'].unique():\n",
    "    # Skip if only one application\n",
    "    if n_application <= 1:\n",
    "        continue\n",
    "\n",
    "    # Get number of substances\n",
    "    mask = substance_applications['Number of designations'] == n_application\n",
    "    number = len(substance_applications[mask])\n",
    "\n",
    "    # Append to containers\n",
    "    n_applications.append(n_application)\n",
    "    n_substances.append(number)\n",
    "\n",
    "# Accumulate >= 5 applications\n",
    "n_applications = np.array(n_applications)\n",
    "n_substances = np.array(n_substances)\n",
    "mask = n_applications >= 5\n",
    "n_substances_five_or_more = np.sum(n_substances[mask])\n",
    "n_applications = n_applications[~mask]\n",
    "n_substances = list(n_substances[~mask])\n",
    "\n",
    "# Create figure\n",
    "fig = go.Figure()\n",
    "colours = plotly.colors.qualitative.Plotly\n",
    "n_colours = len(n_substances) + 1\n",
    "\n",
    "fig.add_trace(go.Pie(\n",
    "    labels=[\n",
    "        '%s designations' % str(n) for n in n_applications] + ['5 and more designations'],\n",
    "    values=n_substances + [n_substances_five_or_more],\n",
    "    sort=False,\n",
    "    pull=[0, 0, 0, 0.2],\n",
    "    marker=dict(\n",
    "        colors=colours[:n_colours], \n",
    "        line=dict(color='#000000', width=1))))\n",
    "fig.show()"
   ]
  },
  {
   "cell_type": "markdown",
   "metadata": {},
   "source": [
    "**Figure 3:** Number of orphan designations per product with more than one application (combinations of products count as distinct, so do distinct names for the same product)."
   ]
  },
  {
   "cell_type": "code",
   "execution_count": 27,
   "metadata": {},
   "outputs": [
    {
     "output_type": "execute_result",
     "data": {
      "text/plain": [
       "                                              Product Number of designations  \\\n",
       "0   adeno-associated virus serotype 5 containing t...                      1   \n",
       "0   poly(oxy-1,2-ethanediyl), alpha-hydro-omega-me...                      1   \n",
       "0                                           miglustat                      2   \n",
       "0   poly(oxy-1,2-ethanediyl), alpha-(carboxymethyl...                      1   \n",
       "0                                           trehalose                      4   \n",
       "..                                                ...                    ...   \n",
       "0                         gusperimus trihydrochloride                      1   \n",
       "0                                          inolimomab                      1   \n",
       "0                      l-lysine-n-acetyl-l-cysteinate                      1   \n",
       "0                             ethyl eicosopentaenoate                      1   \n",
       "0                               gemtuzumab ozogamicin                      1   \n",
       "\n",
       "                                   Designation date  \n",
       "0                                       19 Oct 2020  \n",
       "0                                       19 Oct 2020  \n",
       "0                           19 Oct 2020/11 Jan 2019  \n",
       "0                                       19 Oct 2020  \n",
       "0   19 Oct 2020/21 Aug 2020/19 Jun 2015/21 May 2015  \n",
       "..                                              ...  \n",
       "0                                       29 Mar 2001  \n",
       "0                                       05 Mar 2001  \n",
       "0                                       14 Feb 2001  \n",
       "0                                       29 Dec 2000  \n",
       "0                                       18 Oct 2000  \n",
       "\n",
       "[1407 rows x 3 columns]"
      ],
      "text/html": "<div>\n<style scoped>\n    .dataframe tbody tr th:only-of-type {\n        vertical-align: middle;\n    }\n\n    .dataframe tbody tr th {\n        vertical-align: top;\n    }\n\n    .dataframe thead th {\n        text-align: right;\n    }\n</style>\n<table border=\"1\" class=\"dataframe\">\n  <thead>\n    <tr style=\"text-align: right;\">\n      <th></th>\n      <th>Product</th>\n      <th>Number of designations</th>\n      <th>Designation date</th>\n    </tr>\n  </thead>\n  <tbody>\n    <tr>\n      <th>0</th>\n      <td>adeno-associated virus serotype 5 containing t...</td>\n      <td>1</td>\n      <td>19 Oct 2020</td>\n    </tr>\n    <tr>\n      <th>0</th>\n      <td>poly(oxy-1,2-ethanediyl), alpha-hydro-omega-me...</td>\n      <td>1</td>\n      <td>19 Oct 2020</td>\n    </tr>\n    <tr>\n      <th>0</th>\n      <td>miglustat</td>\n      <td>2</td>\n      <td>19 Oct 2020/11 Jan 2019</td>\n    </tr>\n    <tr>\n      <th>0</th>\n      <td>poly(oxy-1,2-ethanediyl), alpha-(carboxymethyl...</td>\n      <td>1</td>\n      <td>19 Oct 2020</td>\n    </tr>\n    <tr>\n      <th>0</th>\n      <td>trehalose</td>\n      <td>4</td>\n      <td>19 Oct 2020/21 Aug 2020/19 Jun 2015/21 May 2015</td>\n    </tr>\n    <tr>\n      <th>...</th>\n      <td>...</td>\n      <td>...</td>\n      <td>...</td>\n    </tr>\n    <tr>\n      <th>0</th>\n      <td>gusperimus trihydrochloride</td>\n      <td>1</td>\n      <td>29 Mar 2001</td>\n    </tr>\n    <tr>\n      <th>0</th>\n      <td>inolimomab</td>\n      <td>1</td>\n      <td>05 Mar 2001</td>\n    </tr>\n    <tr>\n      <th>0</th>\n      <td>l-lysine-n-acetyl-l-cysteinate</td>\n      <td>1</td>\n      <td>14 Feb 2001</td>\n    </tr>\n    <tr>\n      <th>0</th>\n      <td>ethyl eicosopentaenoate</td>\n      <td>1</td>\n      <td>29 Dec 2000</td>\n    </tr>\n    <tr>\n      <th>0</th>\n      <td>gemtuzumab ozogamicin</td>\n      <td>1</td>\n      <td>18 Oct 2000</td>\n    </tr>\n  </tbody>\n</table>\n<p>1407 rows × 3 columns</p>\n</div>"
     },
     "metadata": {},
     "execution_count": 27
    }
   ],
   "source": [
    "substance_applications"
   ]
  },
  {
   "source": [
    "## Get Brand names / Medicine name of multi deisgnation drugs"
   ],
   "cell_type": "markdown",
   "metadata": {}
  },
  {
   "cell_type": "code",
   "execution_count": 10,
   "metadata": {},
   "outputs": [
    {
     "output_type": "execute_result",
     "data": {
      "text/plain": [
       "        Category                                     Medicine name  \\\n",
       "0     Veterinary  Frontpro (previously known as Afoxolaner Merial)   \n",
       "1          Human                                            Cholib   \n",
       "2          Human                                  Repaglinide Krka   \n",
       "3          Human                                          Liprolog   \n",
       "4          Human                                          Hexacima   \n",
       "...          ...                                               ...   \n",
       "1730       Human                                          Liprolog   \n",
       "1731       Human                                           EchoGen   \n",
       "1732       Human                                         Ecokinase   \n",
       "1733       Human                                          Primavax   \n",
       "1734       Human                                       Pylori-Chek   \n",
       "\n",
       "                                       Therapeutic area  \\\n",
       "0                                                   NaN   \n",
       "1                                         Dyslipidemias   \n",
       "2                             Diabetes Mellitus, Type 2   \n",
       "3                                     Diabetes Mellitus   \n",
       "4     Hepatitis B, Tetanus, Immunization, Meningitis...   \n",
       "...                                                 ...   \n",
       "1730                                  Diabetes Mellitus   \n",
       "1731                                   Echocardiography   \n",
       "1732                              Myocardial Infarction   \n",
       "1733     Hepatitis B, Tetanus, Immunization, Diphtheria   \n",
       "1734              Breath Tests, Helicobacter Infections   \n",
       "\n",
       "     International non-proprietary name (INN) / common name  \\\n",
       "0                                            afoxolaner       \n",
       "1                              fenofibrate, simvastatin       \n",
       "2                                           repaglinide       \n",
       "3                                        insulin lispro       \n",
       "4     diphtheria, tetanus, pertussis (acellular, com...       \n",
       "...                                                 ...       \n",
       "1730                                     insulin lispro       \n",
       "1731                                dodecafluoropentane       \n",
       "1732                                          reteplase       \n",
       "1733  diphtheria, tetanus and hepatitis B vaccine, a...       \n",
       "1734                                           13C-urea       \n",
       "\n",
       "                                       Active substance   Product number  \\\n",
       "0                                            AFOXOLANER  EMEA/V/C/005126   \n",
       "1                              FENOFIBRATE, SIMVASTATIN  EMEA/H/C/002559   \n",
       "2                                           REPAGLINIDE  EMEA/H/C/001066   \n",
       "3                                        INSULIN LISPRO  EMEA/H/C/000393   \n",
       "4     DIPHTHERIA TOXOID / TETANUS TOXOID, TWO-COMPON...  EMEA/H/C/002702   \n",
       "...                                                 ...              ...   \n",
       "1730                                     INSULIN LISPRO  EMEA/H/C/000143   \n",
       "1731                                DODECAFLUOROPENTANE  EMEA/H/C/000149   \n",
       "1732                                          RETEPLASE  EMEA/H/C/000106   \n",
       "1733  DIPHTHERIA TOXOID PURIFIED, HEPATITIS B, RECOM...  EMEA/H/C/000156   \n",
       "1734                                           13C-UREA  EMEA/H/C/000182   \n",
       "\n",
       "     Patient safety Authorisation status          ATC code  \\\n",
       "0                no           Authorised               NaN   \n",
       "1                no           Authorised           C10BA04   \n",
       "2                no           Authorised           A10BX02   \n",
       "3                no           Authorised  A10AB04, A10AD04   \n",
       "4                no           Authorised           J07CA09   \n",
       "...             ...                  ...               ...   \n",
       "1730             no            Withdrawn           A10AB04   \n",
       "1731             no            Withdrawn             V08DA   \n",
       "1732             no            Withdrawn           B01AD07   \n",
       "1733             no            Withdrawn             J07CA   \n",
       "1734             no            Withdrawn             V04CX   \n",
       "\n",
       "     Additional monitoring  ...       Vet pharmacotherapeutic group  \\\n",
       "0                       no  ...  Ectoparasiticides for systemic use   \n",
       "1                       no  ...                                 NaN   \n",
       "2                       no  ...                                 NaN   \n",
       "3                       no  ...                                 NaN   \n",
       "4                       no  ...                                 NaN   \n",
       "...                    ...  ...                                 ...   \n",
       "1730                    no  ...                                 NaN   \n",
       "1731                    no  ...                                 NaN   \n",
       "1732                    no  ...                                 NaN   \n",
       "1733                    no  ...                                 NaN   \n",
       "1734                    no  ...                                 NaN   \n",
       "\n",
       "         Date of opinion       Decision date Revision number  \\\n",
       "0    2019-03-21 01:00:00 2020-11-06 01:00:00             3.0   \n",
       "1    2013-06-27 00:00:00 2020-10-23 00:00:00            12.0   \n",
       "2    2009-07-23 00:00:00 2020-10-28 01:00:00             6.0   \n",
       "3    2001-04-26 00:00:00 2020-09-04 00:00:00            28.0   \n",
       "4    2013-02-21 01:00:00 2020-09-24 00:00:00            21.0   \n",
       "...                  ...                 ...             ...   \n",
       "1730                 NaT 2001-02-19 01:00:00             0.0   \n",
       "1731                 NaT 2001-01-22 01:00:00             0.0   \n",
       "1732                 NaT 1999-07-30 00:00:00             0.0   \n",
       "1733                 NaT 2000-07-27 00:00:00             0.0   \n",
       "1734                 NaT 2000-07-05 02:00:00             0.0   \n",
       "\n",
       "                                 Condition / indication Species ATCvet code  \\\n",
       "0     Treatment of flea (Ctenocephalides felis and C...    Dogs    QP53BE01   \n",
       "1     Cholib is indicated as adjunctive therapy to d...     NaN         NaN   \n",
       "2     Repaglinide is indicated in patients with type...     NaN         NaN   \n",
       "3     For the treatment of adults and children with ...     NaN         NaN   \n",
       "4     Hexacima (DTaP-IPV-HB-Hib) is indicated for pr...     NaN         NaN   \n",
       "...                                                 ...     ...         ...   \n",
       "1730  For the treatment of patients with diabetes me...     NaN         NaN   \n",
       "1731  EchoGen is a transpulmonary echocardiographic ...     NaN         NaN   \n",
       "1732  Thrombolytic therapy of acute myocardial infar...     NaN         NaN   \n",
       "1733  This vaccine is indicated for active immunizat...     NaN         NaN   \n",
       "1734  Pylori-Chek may be used for in vivo diagnosis ...     NaN         NaN   \n",
       "\n",
       "         First published       Revision date  \\\n",
       "0    2019-06-07 17:00:00 2020-11-12 18:18:00   \n",
       "1    2018-08-20 00:00:00 2020-11-12 17:50:00   \n",
       "2    2017-10-27 00:00:00 2020-11-12 17:30:00   \n",
       "3    2017-10-23 00:00:00 2020-11-12 16:54:00   \n",
       "4    2018-01-08 12:30:00 2020-11-12 16:42:00   \n",
       "...                  ...                 ...   \n",
       "1730 2001-02-19 01:00:00 2001-08-01 00:00:00   \n",
       "1731 2001-01-22 01:00:00 2001-05-22 00:00:00   \n",
       "1732 1999-07-30 00:00:00 2000-12-12 01:00:00   \n",
       "1733 2000-07-27 00:00:00 2000-12-04 01:00:00   \n",
       "1734 2000-07-05 02:00:00 2000-07-17 02:00:00   \n",
       "\n",
       "                                                    URL  \n",
       "0     https://www.ema.europa.eu/en/medicines/veterin...  \n",
       "1     https://www.ema.europa.eu/en/medicines/human/E...  \n",
       "2     https://www.ema.europa.eu/en/medicines/human/E...  \n",
       "3     https://www.ema.europa.eu/en/medicines/human/E...  \n",
       "4     https://www.ema.europa.eu/en/medicines/human/E...  \n",
       "...                                                 ...  \n",
       "1730  https://www.ema.europa.eu/en/medicines/human/E...  \n",
       "1731  https://www.ema.europa.eu/en/medicines/human/E...  \n",
       "1732  https://www.ema.europa.eu/en/medicines/human/E...  \n",
       "1733  https://www.ema.europa.eu/en/medicines/human/E...  \n",
       "1734  https://www.ema.europa.eu/en/medicines/human/E...  \n",
       "\n",
       "[1735 rows x 30 columns]"
      ],
      "text/html": "<div>\n<style scoped>\n    .dataframe tbody tr th:only-of-type {\n        vertical-align: middle;\n    }\n\n    .dataframe tbody tr th {\n        vertical-align: top;\n    }\n\n    .dataframe thead th {\n        text-align: right;\n    }\n</style>\n<table border=\"1\" class=\"dataframe\">\n  <thead>\n    <tr style=\"text-align: right;\">\n      <th></th>\n      <th>Category</th>\n      <th>Medicine name</th>\n      <th>Therapeutic area</th>\n      <th>International non-proprietary name (INN) / common name</th>\n      <th>Active substance</th>\n      <th>Product number</th>\n      <th>Patient safety</th>\n      <th>Authorisation status</th>\n      <th>ATC code</th>\n      <th>Additional monitoring</th>\n      <th>...</th>\n      <th>Vet pharmacotherapeutic group</th>\n      <th>Date of opinion</th>\n      <th>Decision date</th>\n      <th>Revision number</th>\n      <th>Condition / indication</th>\n      <th>Species</th>\n      <th>ATCvet code</th>\n      <th>First published</th>\n      <th>Revision date</th>\n      <th>URL</th>\n    </tr>\n  </thead>\n  <tbody>\n    <tr>\n      <th>0</th>\n      <td>Veterinary</td>\n      <td>Frontpro (previously known as Afoxolaner Merial)</td>\n      <td>NaN</td>\n      <td>afoxolaner</td>\n      <td>AFOXOLANER</td>\n      <td>EMEA/V/C/005126</td>\n      <td>no</td>\n      <td>Authorised</td>\n      <td>NaN</td>\n      <td>no</td>\n      <td>...</td>\n      <td>Ectoparasiticides for systemic use</td>\n      <td>2019-03-21 01:00:00</td>\n      <td>2020-11-06 01:00:00</td>\n      <td>3.0</td>\n      <td>Treatment of flea (Ctenocephalides felis and C...</td>\n      <td>Dogs</td>\n      <td>QP53BE01</td>\n      <td>2019-06-07 17:00:00</td>\n      <td>2020-11-12 18:18:00</td>\n      <td>https://www.ema.europa.eu/en/medicines/veterin...</td>\n    </tr>\n    <tr>\n      <th>1</th>\n      <td>Human</td>\n      <td>Cholib</td>\n      <td>Dyslipidemias</td>\n      <td>fenofibrate, simvastatin</td>\n      <td>FENOFIBRATE, SIMVASTATIN</td>\n      <td>EMEA/H/C/002559</td>\n      <td>no</td>\n      <td>Authorised</td>\n      <td>C10BA04</td>\n      <td>no</td>\n      <td>...</td>\n      <td>NaN</td>\n      <td>2013-06-27 00:00:00</td>\n      <td>2020-10-23 00:00:00</td>\n      <td>12.0</td>\n      <td>Cholib is indicated as adjunctive therapy to d...</td>\n      <td>NaN</td>\n      <td>NaN</td>\n      <td>2018-08-20 00:00:00</td>\n      <td>2020-11-12 17:50:00</td>\n      <td>https://www.ema.europa.eu/en/medicines/human/E...</td>\n    </tr>\n    <tr>\n      <th>2</th>\n      <td>Human</td>\n      <td>Repaglinide Krka</td>\n      <td>Diabetes Mellitus, Type 2</td>\n      <td>repaglinide</td>\n      <td>REPAGLINIDE</td>\n      <td>EMEA/H/C/001066</td>\n      <td>no</td>\n      <td>Authorised</td>\n      <td>A10BX02</td>\n      <td>no</td>\n      <td>...</td>\n      <td>NaN</td>\n      <td>2009-07-23 00:00:00</td>\n      <td>2020-10-28 01:00:00</td>\n      <td>6.0</td>\n      <td>Repaglinide is indicated in patients with type...</td>\n      <td>NaN</td>\n      <td>NaN</td>\n      <td>2017-10-27 00:00:00</td>\n      <td>2020-11-12 17:30:00</td>\n      <td>https://www.ema.europa.eu/en/medicines/human/E...</td>\n    </tr>\n    <tr>\n      <th>3</th>\n      <td>Human</td>\n      <td>Liprolog</td>\n      <td>Diabetes Mellitus</td>\n      <td>insulin lispro</td>\n      <td>INSULIN LISPRO</td>\n      <td>EMEA/H/C/000393</td>\n      <td>no</td>\n      <td>Authorised</td>\n      <td>A10AB04, A10AD04</td>\n      <td>no</td>\n      <td>...</td>\n      <td>NaN</td>\n      <td>2001-04-26 00:00:00</td>\n      <td>2020-09-04 00:00:00</td>\n      <td>28.0</td>\n      <td>For the treatment of adults and children with ...</td>\n      <td>NaN</td>\n      <td>NaN</td>\n      <td>2017-10-23 00:00:00</td>\n      <td>2020-11-12 16:54:00</td>\n      <td>https://www.ema.europa.eu/en/medicines/human/E...</td>\n    </tr>\n    <tr>\n      <th>4</th>\n      <td>Human</td>\n      <td>Hexacima</td>\n      <td>Hepatitis B, Tetanus, Immunization, Meningitis...</td>\n      <td>diphtheria, tetanus, pertussis (acellular, com...</td>\n      <td>DIPHTHERIA TOXOID / TETANUS TOXOID, TWO-COMPON...</td>\n      <td>EMEA/H/C/002702</td>\n      <td>no</td>\n      <td>Authorised</td>\n      <td>J07CA09</td>\n      <td>no</td>\n      <td>...</td>\n      <td>NaN</td>\n      <td>2013-02-21 01:00:00</td>\n      <td>2020-09-24 00:00:00</td>\n      <td>21.0</td>\n      <td>Hexacima (DTaP-IPV-HB-Hib) is indicated for pr...</td>\n      <td>NaN</td>\n      <td>NaN</td>\n      <td>2018-01-08 12:30:00</td>\n      <td>2020-11-12 16:42:00</td>\n      <td>https://www.ema.europa.eu/en/medicines/human/E...</td>\n    </tr>\n    <tr>\n      <th>...</th>\n      <td>...</td>\n      <td>...</td>\n      <td>...</td>\n      <td>...</td>\n      <td>...</td>\n      <td>...</td>\n      <td>...</td>\n      <td>...</td>\n      <td>...</td>\n      <td>...</td>\n      <td>...</td>\n      <td>...</td>\n      <td>...</td>\n      <td>...</td>\n      <td>...</td>\n      <td>...</td>\n      <td>...</td>\n      <td>...</td>\n      <td>...</td>\n      <td>...</td>\n      <td>...</td>\n    </tr>\n    <tr>\n      <th>1730</th>\n      <td>Human</td>\n      <td>Liprolog</td>\n      <td>Diabetes Mellitus</td>\n      <td>insulin lispro</td>\n      <td>INSULIN LISPRO</td>\n      <td>EMEA/H/C/000143</td>\n      <td>no</td>\n      <td>Withdrawn</td>\n      <td>A10AB04</td>\n      <td>no</td>\n      <td>...</td>\n      <td>NaN</td>\n      <td>NaT</td>\n      <td>2001-02-19 01:00:00</td>\n      <td>0.0</td>\n      <td>For the treatment of patients with diabetes me...</td>\n      <td>NaN</td>\n      <td>NaN</td>\n      <td>2001-02-19 01:00:00</td>\n      <td>2001-08-01 00:00:00</td>\n      <td>https://www.ema.europa.eu/en/medicines/human/E...</td>\n    </tr>\n    <tr>\n      <th>1731</th>\n      <td>Human</td>\n      <td>EchoGen</td>\n      <td>Echocardiography</td>\n      <td>dodecafluoropentane</td>\n      <td>DODECAFLUOROPENTANE</td>\n      <td>EMEA/H/C/000149</td>\n      <td>no</td>\n      <td>Withdrawn</td>\n      <td>V08DA</td>\n      <td>no</td>\n      <td>...</td>\n      <td>NaN</td>\n      <td>NaT</td>\n      <td>2001-01-22 01:00:00</td>\n      <td>0.0</td>\n      <td>EchoGen is a transpulmonary echocardiographic ...</td>\n      <td>NaN</td>\n      <td>NaN</td>\n      <td>2001-01-22 01:00:00</td>\n      <td>2001-05-22 00:00:00</td>\n      <td>https://www.ema.europa.eu/en/medicines/human/E...</td>\n    </tr>\n    <tr>\n      <th>1732</th>\n      <td>Human</td>\n      <td>Ecokinase</td>\n      <td>Myocardial Infarction</td>\n      <td>reteplase</td>\n      <td>RETEPLASE</td>\n      <td>EMEA/H/C/000106</td>\n      <td>no</td>\n      <td>Withdrawn</td>\n      <td>B01AD07</td>\n      <td>no</td>\n      <td>...</td>\n      <td>NaN</td>\n      <td>NaT</td>\n      <td>1999-07-30 00:00:00</td>\n      <td>0.0</td>\n      <td>Thrombolytic therapy of acute myocardial infar...</td>\n      <td>NaN</td>\n      <td>NaN</td>\n      <td>1999-07-30 00:00:00</td>\n      <td>2000-12-12 01:00:00</td>\n      <td>https://www.ema.europa.eu/en/medicines/human/E...</td>\n    </tr>\n    <tr>\n      <th>1733</th>\n      <td>Human</td>\n      <td>Primavax</td>\n      <td>Hepatitis B, Tetanus, Immunization, Diphtheria</td>\n      <td>diphtheria, tetanus and hepatitis B vaccine, a...</td>\n      <td>DIPHTHERIA TOXOID PURIFIED, HEPATITIS B, RECOM...</td>\n      <td>EMEA/H/C/000156</td>\n      <td>no</td>\n      <td>Withdrawn</td>\n      <td>J07CA</td>\n      <td>no</td>\n      <td>...</td>\n      <td>NaN</td>\n      <td>NaT</td>\n      <td>2000-07-27 00:00:00</td>\n      <td>0.0</td>\n      <td>This vaccine is indicated for active immunizat...</td>\n      <td>NaN</td>\n      <td>NaN</td>\n      <td>2000-07-27 00:00:00</td>\n      <td>2000-12-04 01:00:00</td>\n      <td>https://www.ema.europa.eu/en/medicines/human/E...</td>\n    </tr>\n    <tr>\n      <th>1734</th>\n      <td>Human</td>\n      <td>Pylori-Chek</td>\n      <td>Breath Tests, Helicobacter Infections</td>\n      <td>13C-urea</td>\n      <td>13C-UREA</td>\n      <td>EMEA/H/C/000182</td>\n      <td>no</td>\n      <td>Withdrawn</td>\n      <td>V04CX</td>\n      <td>no</td>\n      <td>...</td>\n      <td>NaN</td>\n      <td>NaT</td>\n      <td>2000-07-05 02:00:00</td>\n      <td>0.0</td>\n      <td>Pylori-Chek may be used for in vivo diagnosis ...</td>\n      <td>NaN</td>\n      <td>NaN</td>\n      <td>2000-07-05 02:00:00</td>\n      <td>2000-07-17 02:00:00</td>\n      <td>https://www.ema.europa.eu/en/medicines/human/E...</td>\n    </tr>\n  </tbody>\n</table>\n<p>1735 rows × 30 columns</p>\n</div>"
     },
     "metadata": {},
     "execution_count": 10
    }
   ],
   "source": [
    "path = os.path.dirname(os.getcwd())\n",
    "data_ema = pd.read_excel(path + '/data/ema_all_drugs.xlsx', header=8)\n",
    "data_ema['Active substance'] = data_ema['Active substance'].str.upper()\n",
    "data_ema"
   ]
  },
  {
   "cell_type": "code",
   "execution_count": 28,
   "metadata": {},
   "outputs": [
    {
     "output_type": "execute_result",
     "data": {
      "text/plain": [
       "                                              Product Number of designations  \\\n",
       "0                                           miglustat                      2   \n",
       "0                                           trehalose                      4   \n",
       "0   2-(2-(18f)fluoropyridin-4-yl)-9h-pyrrolo[2,3-b...                      2   \n",
       "0   (4-{(2s,4s)-4-ethoxy-1-[(5-methoxy-7-methyl-1h...                      3   \n",
       "0   1-(3-methylbutanoyl)-l-aspartyl-l-threonyl-l-h...                      2   \n",
       "..                                                ...                    ...   \n",
       "0                alpha-1 antitrypsin (inhalation use)                      2   \n",
       "0   sinapultide, dipalmitoylphosphatidylcholine, p...                      3   \n",
       "0                        ciclosporin (inhalation use)                      2   \n",
       "0   recombinant antibody derivative against human ...                      2   \n",
       "0          g17(9) gastrin-diphtheria toxoid conjugate                      2   \n",
       "\n",
       "                                   Designation date Medicine name  \n",
       "0                           19 Oct 2020/11 Jan 2019     Not known  \n",
       "0   19 Oct 2020/21 Aug 2020/19 Jun 2015/21 May 2015     Not known  \n",
       "0                           19 Oct 2020/21 Aug 2020     Not known  \n",
       "0               19 Oct 2020/04 Jun 2020/14 Dec 2018     Not known  \n",
       "0                           19 Oct 2020/24 Aug 2018     Not known  \n",
       "..                                              ...           ...  \n",
       "0                           16 Nov 2004/16 Nov 2004     Not known  \n",
       "0               29 Jul 2004/29 Jul 2004/04 Feb 2002     Not known  \n",
       "0                           29 Jul 2004/29 Jul 2004     Not known  \n",
       "0                           01 Dec 2003/01 Dec 2003     Not known  \n",
       "0                           28 Jan 2003/24 Jan 2003     Not known  \n",
       "\n",
       "[222 rows x 4 columns]"
      ],
      "text/html": "<div>\n<style scoped>\n    .dataframe tbody tr th:only-of-type {\n        vertical-align: middle;\n    }\n\n    .dataframe tbody tr th {\n        vertical-align: top;\n    }\n\n    .dataframe thead th {\n        text-align: right;\n    }\n</style>\n<table border=\"1\" class=\"dataframe\">\n  <thead>\n    <tr style=\"text-align: right;\">\n      <th></th>\n      <th>Product</th>\n      <th>Number of designations</th>\n      <th>Designation date</th>\n      <th>Medicine name</th>\n    </tr>\n  </thead>\n  <tbody>\n    <tr>\n      <th>0</th>\n      <td>miglustat</td>\n      <td>2</td>\n      <td>19 Oct 2020/11 Jan 2019</td>\n      <td>Not known</td>\n    </tr>\n    <tr>\n      <th>0</th>\n      <td>trehalose</td>\n      <td>4</td>\n      <td>19 Oct 2020/21 Aug 2020/19 Jun 2015/21 May 2015</td>\n      <td>Not known</td>\n    </tr>\n    <tr>\n      <th>0</th>\n      <td>2-(2-(18f)fluoropyridin-4-yl)-9h-pyrrolo[2,3-b...</td>\n      <td>2</td>\n      <td>19 Oct 2020/21 Aug 2020</td>\n      <td>Not known</td>\n    </tr>\n    <tr>\n      <th>0</th>\n      <td>(4-{(2s,4s)-4-ethoxy-1-[(5-methoxy-7-methyl-1h...</td>\n      <td>3</td>\n      <td>19 Oct 2020/04 Jun 2020/14 Dec 2018</td>\n      <td>Not known</td>\n    </tr>\n    <tr>\n      <th>0</th>\n      <td>1-(3-methylbutanoyl)-l-aspartyl-l-threonyl-l-h...</td>\n      <td>2</td>\n      <td>19 Oct 2020/24 Aug 2018</td>\n      <td>Not known</td>\n    </tr>\n    <tr>\n      <th>...</th>\n      <td>...</td>\n      <td>...</td>\n      <td>...</td>\n      <td>...</td>\n    </tr>\n    <tr>\n      <th>0</th>\n      <td>alpha-1 antitrypsin (inhalation use)</td>\n      <td>2</td>\n      <td>16 Nov 2004/16 Nov 2004</td>\n      <td>Not known</td>\n    </tr>\n    <tr>\n      <th>0</th>\n      <td>sinapultide, dipalmitoylphosphatidylcholine, p...</td>\n      <td>3</td>\n      <td>29 Jul 2004/29 Jul 2004/04 Feb 2002</td>\n      <td>Not known</td>\n    </tr>\n    <tr>\n      <th>0</th>\n      <td>ciclosporin (inhalation use)</td>\n      <td>2</td>\n      <td>29 Jul 2004/29 Jul 2004</td>\n      <td>Not known</td>\n    </tr>\n    <tr>\n      <th>0</th>\n      <td>recombinant antibody derivative against human ...</td>\n      <td>2</td>\n      <td>01 Dec 2003/01 Dec 2003</td>\n      <td>Not known</td>\n    </tr>\n    <tr>\n      <th>0</th>\n      <td>g17(9) gastrin-diphtheria toxoid conjugate</td>\n      <td>2</td>\n      <td>28 Jan 2003/24 Jan 2003</td>\n      <td>Not known</td>\n    </tr>\n  </tbody>\n</table>\n<p>222 rows × 4 columns</p>\n</div>"
     },
     "metadata": {},
     "execution_count": 28
    }
   ],
   "source": [
    "multi_designations = substance_applications.copy()\n",
    "mask = multi_designations['Number of designations'] > 1\n",
    "multi_designations = multi_designations[mask]\n",
    "multi_designations['Medicine name'] = 'Not known'\n",
    "multi_designations"
   ]
  },
  {
   "cell_type": "code",
   "execution_count": 29,
   "metadata": {},
   "outputs": [
    {
     "output_type": "execute_result",
     "data": {
      "text/plain": [
       "                                              Product Number of designations  \\\n",
       "0                                           miglustat                      2   \n",
       "0                                           trehalose                      4   \n",
       "0   2-(2-(18f)fluoropyridin-4-yl)-9h-pyrrolo[2,3-b...                      2   \n",
       "0   (4-{(2s,4s)-4-ethoxy-1-[(5-methoxy-7-methyl-1h...                      3   \n",
       "0   1-(3-methylbutanoyl)-l-aspartyl-l-threonyl-l-h...                      2   \n",
       "..                                                ...                    ...   \n",
       "0                alpha-1 antitrypsin (inhalation use)                      2   \n",
       "0   sinapultide, dipalmitoylphosphatidylcholine, p...                      3   \n",
       "0                        ciclosporin (inhalation use)                      2   \n",
       "0   recombinant antibody derivative against human ...                      2   \n",
       "0          g17(9) gastrin-diphtheria toxoid conjugate                      2   \n",
       "\n",
       "                                   Designation date  \\\n",
       "0                           19 Oct 2020/11 Jan 2019   \n",
       "0   19 Oct 2020/21 Aug 2020/19 Jun 2015/21 May 2015   \n",
       "0                           19 Oct 2020/21 Aug 2020   \n",
       "0               19 Oct 2020/04 Jun 2020/14 Dec 2018   \n",
       "0                           19 Oct 2020/24 Aug 2018   \n",
       "..                                              ...   \n",
       "0                           16 Nov 2004/16 Nov 2004   \n",
       "0               29 Jul 2004/29 Jul 2004/04 Feb 2002   \n",
       "0                           29 Jul 2004/29 Jul 2004   \n",
       "0                           01 Dec 2003/01 Dec 2003   \n",
       "0                           28 Jan 2003/24 Jan 2003   \n",
       "\n",
       "                                        Medicine name  \n",
       "0   Miglustat Gen.Orph/Zavesca/Yargesa/Miglustat D...  \n",
       "0                                           Not known  \n",
       "0                                           Not known  \n",
       "0                                           Not known  \n",
       "0                                           Not known  \n",
       "..                                                ...  \n",
       "0                                           Not known  \n",
       "0                                           Not known  \n",
       "0                                           Not known  \n",
       "0                                           Not known  \n",
       "0                                           Not known  \n",
       "\n",
       "[222 rows x 4 columns]"
      ],
      "text/html": "<div>\n<style scoped>\n    .dataframe tbody tr th:only-of-type {\n        vertical-align: middle;\n    }\n\n    .dataframe tbody tr th {\n        vertical-align: top;\n    }\n\n    .dataframe thead th {\n        text-align: right;\n    }\n</style>\n<table border=\"1\" class=\"dataframe\">\n  <thead>\n    <tr style=\"text-align: right;\">\n      <th></th>\n      <th>Product</th>\n      <th>Number of designations</th>\n      <th>Designation date</th>\n      <th>Medicine name</th>\n    </tr>\n  </thead>\n  <tbody>\n    <tr>\n      <th>0</th>\n      <td>miglustat</td>\n      <td>2</td>\n      <td>19 Oct 2020/11 Jan 2019</td>\n      <td>Miglustat Gen.Orph/Zavesca/Yargesa/Miglustat D...</td>\n    </tr>\n    <tr>\n      <th>0</th>\n      <td>trehalose</td>\n      <td>4</td>\n      <td>19 Oct 2020/21 Aug 2020/19 Jun 2015/21 May 2015</td>\n      <td>Not known</td>\n    </tr>\n    <tr>\n      <th>0</th>\n      <td>2-(2-(18f)fluoropyridin-4-yl)-9h-pyrrolo[2,3-b...</td>\n      <td>2</td>\n      <td>19 Oct 2020/21 Aug 2020</td>\n      <td>Not known</td>\n    </tr>\n    <tr>\n      <th>0</th>\n      <td>(4-{(2s,4s)-4-ethoxy-1-[(5-methoxy-7-methyl-1h...</td>\n      <td>3</td>\n      <td>19 Oct 2020/04 Jun 2020/14 Dec 2018</td>\n      <td>Not known</td>\n    </tr>\n    <tr>\n      <th>0</th>\n      <td>1-(3-methylbutanoyl)-l-aspartyl-l-threonyl-l-h...</td>\n      <td>2</td>\n      <td>19 Oct 2020/24 Aug 2018</td>\n      <td>Not known</td>\n    </tr>\n    <tr>\n      <th>...</th>\n      <td>...</td>\n      <td>...</td>\n      <td>...</td>\n      <td>...</td>\n    </tr>\n    <tr>\n      <th>0</th>\n      <td>alpha-1 antitrypsin (inhalation use)</td>\n      <td>2</td>\n      <td>16 Nov 2004/16 Nov 2004</td>\n      <td>Not known</td>\n    </tr>\n    <tr>\n      <th>0</th>\n      <td>sinapultide, dipalmitoylphosphatidylcholine, p...</td>\n      <td>3</td>\n      <td>29 Jul 2004/29 Jul 2004/04 Feb 2002</td>\n      <td>Not known</td>\n    </tr>\n    <tr>\n      <th>0</th>\n      <td>ciclosporin (inhalation use)</td>\n      <td>2</td>\n      <td>29 Jul 2004/29 Jul 2004</td>\n      <td>Not known</td>\n    </tr>\n    <tr>\n      <th>0</th>\n      <td>recombinant antibody derivative against human ...</td>\n      <td>2</td>\n      <td>01 Dec 2003/01 Dec 2003</td>\n      <td>Not known</td>\n    </tr>\n    <tr>\n      <th>0</th>\n      <td>g17(9) gastrin-diphtheria toxoid conjugate</td>\n      <td>2</td>\n      <td>28 Jan 2003/24 Jan 2003</td>\n      <td>Not known</td>\n    </tr>\n  </tbody>\n</table>\n<p>222 rows × 4 columns</p>\n</div>"
     },
     "metadata": {},
     "execution_count": 29
    }
   ],
   "source": [
    "for product in multi_designations['Product'].str.upper():\n",
    "    # Mask for product\n",
    "    mask = data_ema['Active substance'] == product\n",
    "    temp = data_ema[mask]['Medicine name']\n",
    "\n",
    "    if len(temp) == 0:\n",
    "        # No match was found\n",
    "        continue\n",
    "    \n",
    "    # Construct medicine name (/ separates multiple candidates)\n",
    "    medicine_name = ''\n",
    "    for name in temp:\n",
    "        if medicine_name != '':\n",
    "            medicine_name += '/'\n",
    "        medicine_name += name\n",
    "\n",
    "    # Add Medicine name\n",
    "    mask = multi_designations['Product'].str.upper() == product\n",
    "    multi_designations.loc[mask, 'Medicine name'] = medicine_name\n",
    "\n",
    "multi_designations"
   ]
  },
  {
   "cell_type": "code",
   "execution_count": 30,
   "metadata": {},
   "outputs": [
    {
     "output_type": "execute_result",
     "data": {
      "text/plain": [
       "                       Product Number of designations  \\\n",
       "0                    miglustat                      2   \n",
       "0  pentosan polysulfate sodium                      4   \n",
       "0                 methotrexate                      2   \n",
       "0            dimethyl fumarate                      3   \n",
       "0    propranolol hydrochloride                      2   \n",
       "0                 temozolomide                      2   \n",
       "0                    melatonin                      7   \n",
       "0                     glucagon                      3   \n",
       "0                  deferiprone                      2   \n",
       "0                 itraconazole                      2   \n",
       "0                  daratumumab                      2   \n",
       "0                    ribavirin                      2   \n",
       "0                    sirolimus                      9   \n",
       "0                  cannabidiol                      7   \n",
       "0                   venetoclax                      3   \n",
       "0                 ketoconazole                      3   \n",
       "0                  vemurafenib                      2   \n",
       "0             arsenic trioxide                      2   \n",
       "0                    ibrutinib                      5   \n",
       "0                   budesonide                      2   \n",
       "0                mogamulizumab                      2   \n",
       "0              zoledronic acid                      2   \n",
       "0                  mifamurtide                      2   \n",
       "0                 eflornithine                      3   \n",
       "0                acalabrutinib                      2   \n",
       "0                     ataluren                      2   \n",
       "0                 obinutuzumab                      2   \n",
       "0                 nitric oxide                      2   \n",
       "0                   eculizumab                      3   \n",
       "0                afamelanotide                      2   \n",
       "0                  defibrotide                      3   \n",
       "0                  metreleptin                      4   \n",
       "0                   macitentan                      2   \n",
       "0                 pralatrexate                      4   \n",
       "0                  ciclosporin                      4   \n",
       "0                  midostaurin                      2   \n",
       "0                  pasireotide                      2   \n",
       "0                   filgrastim                      2   \n",
       "0               carglumic acid                      3   \n",
       "0                    idebenone                      4   \n",
       "0                   decitabine                      2   \n",
       "\n",
       "                                    Designation date  \\\n",
       "0                            19 Oct 2020/11 Jan 2019   \n",
       "0    21 Aug 2020/12 Jan 2017/30 May 2016/19 Nov 2014   \n",
       "0                            04 Jun 2020/29 Aug 2016   \n",
       "0                09 Jan 2020/21 Mar 2018/14 Jul 2016   \n",
       "0                            17 Oct 2019/27 Feb 2017   \n",
       "0                            21 Aug 2019/29 Aug 2016   \n",
       "0  11 Jan 2019/26 Oct 2018/21 Mar 2018/14 Oct 201...   \n",
       "0                19 Nov 2018/15 Oct 2014/05 Mar 2012   \n",
       "0                            27 Jun 2018/23 Feb 2011   \n",
       "0                            25 May 2018/23 Aug 2017   \n",
       "0                            25 May 2018/17 Jul 2013   \n",
       "0                            21 Mar 2018/21 Mar 2018   \n",
       "0  17 Jan 2018/23 Aug 2017/17 Jul 2017/20 Jun 201...   \n",
       "0  17 Jan 2018/16 Oct 2017/20 Mar 2017/29 Aug 201...   \n",
       "0                12 Dec 2017/14 Oct 2016/14 Oct 2016   \n",
       "0                20 Mar 2017/09 Aug 2012/23 Apr 2012   \n",
       "0                            27 Feb 2017/30 May 2016   \n",
       "0                            12 Dec 2016/17 Feb 2016   \n",
       "0  18 Nov 2016/10 Aug 2015/29 Apr 2014/18 Dec 201...   \n",
       "0                            18 Nov 2016/05 Aug 2013   \n",
       "0                            14 Oct 2016/11 Jan 2012   \n",
       "0                            29 Aug 2016/07 Oct 2013   \n",
       "0                            14 Jul 2016/14 Jul 2016   \n",
       "0                27 Jun 2016/27 Sep 2011/20 Sep 2010   \n",
       "0                            21 Mar 2016/21 Mar 2016   \n",
       "0                            09 Oct 2015/04 Jul 2012   \n",
       "0                            19 Jun 2015/10 Oct 2012   \n",
       "0                            15 Oct 2014/18 Dec 2013   \n",
       "0                29 Jul 2014/05 Aug 2013/24 Jul 2009   \n",
       "0                            04 Jul 2014/24 Jul 2009   \n",
       "0                13 Nov 2013/29 Jul 2004/29 Jul 2004   \n",
       "0    17 Jul 2012/17 Jul 2012/17 Jul 2012/17 Jul 2012   \n",
       "0                            27 Sep 2011/28 Jan 2010   \n",
       "0    01 Oct 2010/10 Jun 2010/19 Jan 2009/13 Apr 2007   \n",
       "0    01 Oct 2010/29 Oct 2007/22 Oct 2007/06 Apr 2006   \n",
       "0                            04 Aug 2010/29 Jul 2004   \n",
       "0                            08 Oct 2009/08 Oct 2009   \n",
       "0                            07 Nov 2008/01 Apr 2008   \n",
       "0                07 Nov 2008/07 Nov 2008/07 Nov 2008   \n",
       "0    20 Mar 2007/15 Feb 2007/08 Mar 2004/20 Nov 2001   \n",
       "0                            08 Jun 2006/14 Feb 2003   \n",
       "\n",
       "                                       Medicine name  \n",
       "0  Miglustat Gen.Orph/Zavesca/Yargesa/Miglustat D...  \n",
       "0                                            Elmiron  \n",
       "0                                   Jylamvo/Nordimet  \n",
       "0                               Skilarence/Tecfidera  \n",
       "0                                          Hemangiol  \n",
       "0  Temodal/Temomedac/Temozolomide Hexal/Temozolom...  \n",
       "0                                   Circadin/Slenyto  \n",
       "0                                            Baqsimi  \n",
       "0                      Ferriprox/Deferiprone Lipomed  \n",
       "0                                         Fungitraxx  \n",
       "0                                           Darzalex  \n",
       "0  Rebetol/Ribavirin Mylan (previously Ribavirin ...  \n",
       "0                                           Rapamune  \n",
       "0                                          Epidyolex  \n",
       "0                                          Venclyxto  \n",
       "0                                   Ketoconazole HRA  \n",
       "0                                           Zelboraf  \n",
       "0  Arsenic trioxide medac/Arsenic trioxide Accord...  \n",
       "0                                          Imbruvica  \n",
       "0                                            Jorveza  \n",
       "0                                          Poteligeo  \n",
       "0  Zoledronic acid Teva/Zoledronic acid Mylan/Acl...  \n",
       "0                                             Mepact  \n",
       "0                                             Vaniqa  \n",
       "0                                          Calquence  \n",
       "0                                         Translarna  \n",
       "0                                           Gazyvaro  \n",
       "0                                             INOmax  \n",
       "0                                            Soliris  \n",
       "0                                           Scenesse  \n",
       "0                                          Defitelio  \n",
       "0                                           Myalepta  \n",
       "0                                            Opsumit  \n",
       "0                                            Folotyn  \n",
       "0                                   Verkazia/Ikervis  \n",
       "0                                             Rydapt  \n",
       "0                                           Signifor  \n",
       "0  Tevagrastim/Ratiograstim/Grastofil/Accofil/Niv...  \n",
       "0                                   Ucedane/Carbaglu  \n",
       "0                                     Raxone/Sovrima  \n",
       "0                                            Dacogen  "
      ],
      "text/html": "<div>\n<style scoped>\n    .dataframe tbody tr th:only-of-type {\n        vertical-align: middle;\n    }\n\n    .dataframe tbody tr th {\n        vertical-align: top;\n    }\n\n    .dataframe thead th {\n        text-align: right;\n    }\n</style>\n<table border=\"1\" class=\"dataframe\">\n  <thead>\n    <tr style=\"text-align: right;\">\n      <th></th>\n      <th>Product</th>\n      <th>Number of designations</th>\n      <th>Designation date</th>\n      <th>Medicine name</th>\n    </tr>\n  </thead>\n  <tbody>\n    <tr>\n      <th>0</th>\n      <td>miglustat</td>\n      <td>2</td>\n      <td>19 Oct 2020/11 Jan 2019</td>\n      <td>Miglustat Gen.Orph/Zavesca/Yargesa/Miglustat D...</td>\n    </tr>\n    <tr>\n      <th>0</th>\n      <td>pentosan polysulfate sodium</td>\n      <td>4</td>\n      <td>21 Aug 2020/12 Jan 2017/30 May 2016/19 Nov 2014</td>\n      <td>Elmiron</td>\n    </tr>\n    <tr>\n      <th>0</th>\n      <td>methotrexate</td>\n      <td>2</td>\n      <td>04 Jun 2020/29 Aug 2016</td>\n      <td>Jylamvo/Nordimet</td>\n    </tr>\n    <tr>\n      <th>0</th>\n      <td>dimethyl fumarate</td>\n      <td>3</td>\n      <td>09 Jan 2020/21 Mar 2018/14 Jul 2016</td>\n      <td>Skilarence/Tecfidera</td>\n    </tr>\n    <tr>\n      <th>0</th>\n      <td>propranolol hydrochloride</td>\n      <td>2</td>\n      <td>17 Oct 2019/27 Feb 2017</td>\n      <td>Hemangiol</td>\n    </tr>\n    <tr>\n      <th>0</th>\n      <td>temozolomide</td>\n      <td>2</td>\n      <td>21 Aug 2019/29 Aug 2016</td>\n      <td>Temodal/Temomedac/Temozolomide Hexal/Temozolom...</td>\n    </tr>\n    <tr>\n      <th>0</th>\n      <td>melatonin</td>\n      <td>7</td>\n      <td>11 Jan 2019/26 Oct 2018/21 Mar 2018/14 Oct 201...</td>\n      <td>Circadin/Slenyto</td>\n    </tr>\n    <tr>\n      <th>0</th>\n      <td>glucagon</td>\n      <td>3</td>\n      <td>19 Nov 2018/15 Oct 2014/05 Mar 2012</td>\n      <td>Baqsimi</td>\n    </tr>\n    <tr>\n      <th>0</th>\n      <td>deferiprone</td>\n      <td>2</td>\n      <td>27 Jun 2018/23 Feb 2011</td>\n      <td>Ferriprox/Deferiprone Lipomed</td>\n    </tr>\n    <tr>\n      <th>0</th>\n      <td>itraconazole</td>\n      <td>2</td>\n      <td>25 May 2018/23 Aug 2017</td>\n      <td>Fungitraxx</td>\n    </tr>\n    <tr>\n      <th>0</th>\n      <td>daratumumab</td>\n      <td>2</td>\n      <td>25 May 2018/17 Jul 2013</td>\n      <td>Darzalex</td>\n    </tr>\n    <tr>\n      <th>0</th>\n      <td>ribavirin</td>\n      <td>2</td>\n      <td>21 Mar 2018/21 Mar 2018</td>\n      <td>Rebetol/Ribavirin Mylan (previously Ribavirin ...</td>\n    </tr>\n    <tr>\n      <th>0</th>\n      <td>sirolimus</td>\n      <td>9</td>\n      <td>17 Jan 2018/23 Aug 2017/17 Jul 2017/20 Jun 201...</td>\n      <td>Rapamune</td>\n    </tr>\n    <tr>\n      <th>0</th>\n      <td>cannabidiol</td>\n      <td>7</td>\n      <td>17 Jan 2018/16 Oct 2017/20 Mar 2017/29 Aug 201...</td>\n      <td>Epidyolex</td>\n    </tr>\n    <tr>\n      <th>0</th>\n      <td>venetoclax</td>\n      <td>3</td>\n      <td>12 Dec 2017/14 Oct 2016/14 Oct 2016</td>\n      <td>Venclyxto</td>\n    </tr>\n    <tr>\n      <th>0</th>\n      <td>ketoconazole</td>\n      <td>3</td>\n      <td>20 Mar 2017/09 Aug 2012/23 Apr 2012</td>\n      <td>Ketoconazole HRA</td>\n    </tr>\n    <tr>\n      <th>0</th>\n      <td>vemurafenib</td>\n      <td>2</td>\n      <td>27 Feb 2017/30 May 2016</td>\n      <td>Zelboraf</td>\n    </tr>\n    <tr>\n      <th>0</th>\n      <td>arsenic trioxide</td>\n      <td>2</td>\n      <td>12 Dec 2016/17 Feb 2016</td>\n      <td>Arsenic trioxide medac/Arsenic trioxide Accord...</td>\n    </tr>\n    <tr>\n      <th>0</th>\n      <td>ibrutinib</td>\n      <td>5</td>\n      <td>18 Nov 2016/10 Aug 2015/29 Apr 2014/18 Dec 201...</td>\n      <td>Imbruvica</td>\n    </tr>\n    <tr>\n      <th>0</th>\n      <td>budesonide</td>\n      <td>2</td>\n      <td>18 Nov 2016/05 Aug 2013</td>\n      <td>Jorveza</td>\n    </tr>\n    <tr>\n      <th>0</th>\n      <td>mogamulizumab</td>\n      <td>2</td>\n      <td>14 Oct 2016/11 Jan 2012</td>\n      <td>Poteligeo</td>\n    </tr>\n    <tr>\n      <th>0</th>\n      <td>zoledronic acid</td>\n      <td>2</td>\n      <td>29 Aug 2016/07 Oct 2013</td>\n      <td>Zoledronic acid Teva/Zoledronic acid Mylan/Acl...</td>\n    </tr>\n    <tr>\n      <th>0</th>\n      <td>mifamurtide</td>\n      <td>2</td>\n      <td>14 Jul 2016/14 Jul 2016</td>\n      <td>Mepact</td>\n    </tr>\n    <tr>\n      <th>0</th>\n      <td>eflornithine</td>\n      <td>3</td>\n      <td>27 Jun 2016/27 Sep 2011/20 Sep 2010</td>\n      <td>Vaniqa</td>\n    </tr>\n    <tr>\n      <th>0</th>\n      <td>acalabrutinib</td>\n      <td>2</td>\n      <td>21 Mar 2016/21 Mar 2016</td>\n      <td>Calquence</td>\n    </tr>\n    <tr>\n      <th>0</th>\n      <td>ataluren</td>\n      <td>2</td>\n      <td>09 Oct 2015/04 Jul 2012</td>\n      <td>Translarna</td>\n    </tr>\n    <tr>\n      <th>0</th>\n      <td>obinutuzumab</td>\n      <td>2</td>\n      <td>19 Jun 2015/10 Oct 2012</td>\n      <td>Gazyvaro</td>\n    </tr>\n    <tr>\n      <th>0</th>\n      <td>nitric oxide</td>\n      <td>2</td>\n      <td>15 Oct 2014/18 Dec 2013</td>\n      <td>INOmax</td>\n    </tr>\n    <tr>\n      <th>0</th>\n      <td>eculizumab</td>\n      <td>3</td>\n      <td>29 Jul 2014/05 Aug 2013/24 Jul 2009</td>\n      <td>Soliris</td>\n    </tr>\n    <tr>\n      <th>0</th>\n      <td>afamelanotide</td>\n      <td>2</td>\n      <td>04 Jul 2014/24 Jul 2009</td>\n      <td>Scenesse</td>\n    </tr>\n    <tr>\n      <th>0</th>\n      <td>defibrotide</td>\n      <td>3</td>\n      <td>13 Nov 2013/29 Jul 2004/29 Jul 2004</td>\n      <td>Defitelio</td>\n    </tr>\n    <tr>\n      <th>0</th>\n      <td>metreleptin</td>\n      <td>4</td>\n      <td>17 Jul 2012/17 Jul 2012/17 Jul 2012/17 Jul 2012</td>\n      <td>Myalepta</td>\n    </tr>\n    <tr>\n      <th>0</th>\n      <td>macitentan</td>\n      <td>2</td>\n      <td>27 Sep 2011/28 Jan 2010</td>\n      <td>Opsumit</td>\n    </tr>\n    <tr>\n      <th>0</th>\n      <td>pralatrexate</td>\n      <td>4</td>\n      <td>01 Oct 2010/10 Jun 2010/19 Jan 2009/13 Apr 2007</td>\n      <td>Folotyn</td>\n    </tr>\n    <tr>\n      <th>0</th>\n      <td>ciclosporin</td>\n      <td>4</td>\n      <td>01 Oct 2010/29 Oct 2007/22 Oct 2007/06 Apr 2006</td>\n      <td>Verkazia/Ikervis</td>\n    </tr>\n    <tr>\n      <th>0</th>\n      <td>midostaurin</td>\n      <td>2</td>\n      <td>04 Aug 2010/29 Jul 2004</td>\n      <td>Rydapt</td>\n    </tr>\n    <tr>\n      <th>0</th>\n      <td>pasireotide</td>\n      <td>2</td>\n      <td>08 Oct 2009/08 Oct 2009</td>\n      <td>Signifor</td>\n    </tr>\n    <tr>\n      <th>0</th>\n      <td>filgrastim</td>\n      <td>2</td>\n      <td>07 Nov 2008/01 Apr 2008</td>\n      <td>Tevagrastim/Ratiograstim/Grastofil/Accofil/Niv...</td>\n    </tr>\n    <tr>\n      <th>0</th>\n      <td>carglumic acid</td>\n      <td>3</td>\n      <td>07 Nov 2008/07 Nov 2008/07 Nov 2008</td>\n      <td>Ucedane/Carbaglu</td>\n    </tr>\n    <tr>\n      <th>0</th>\n      <td>idebenone</td>\n      <td>4</td>\n      <td>20 Mar 2007/15 Feb 2007/08 Mar 2004/20 Nov 2001</td>\n      <td>Raxone/Sovrima</td>\n    </tr>\n    <tr>\n      <th>0</th>\n      <td>decitabine</td>\n      <td>2</td>\n      <td>08 Jun 2006/14 Feb 2003</td>\n      <td>Dacogen</td>\n    </tr>\n  </tbody>\n</table>\n</div>"
     },
     "metadata": {},
     "execution_count": 30
    }
   ],
   "source": [
    "mask = multi_designations['Medicine name'] != 'Not known'\n",
    "multi_designations[mask]"
   ]
  },
  {
   "cell_type": "code",
   "execution_count": 31,
   "metadata": {},
   "outputs": [],
   "source": [
    "directory = os.path.dirname(os.getcwd())\n",
    "path = os.path.join(directory, 'data/ods_multiple_applications.csv')\n",
    "multi_designations[['Medicine name', 'Product', 'Number of designations', 'Designation date']].to_csv(path, index=False)"
   ]
  },
  {
   "cell_type": "code",
   "execution_count": null,
   "metadata": {},
   "outputs": [],
   "source": []
  }
 ],
 "metadata": {
  "kernelspec": {
   "display_name": "erlotinib-venv",
   "language": "python",
   "name": "erlotinib-venv"
  },
  "language_info": {
   "codemirror_mode": {
    "name": "ipython",
    "version": 3
   },
   "file_extension": ".py",
   "mimetype": "text/x-python",
   "name": "python",
   "nbconvert_exporter": "python",
   "pygments_lexer": "ipython3",
   "version": "3.7.5"
  },
  "widgets": {
   "application/vnd.jupyter.widget-state+json": {
    "state": {},
    "version_major": 2,
    "version_minor": 0
   }
  }
 },
 "nbformat": 4,
 "nbformat_minor": 2
}