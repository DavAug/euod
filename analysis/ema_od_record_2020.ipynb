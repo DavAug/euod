{
 "cells": [
  {
   "cell_type": "markdown",
   "metadata": {},
   "source": [
    "# EMA Orphan Drug Records\n",
    "\n",
    "Source of data: https://www.ema.europa.eu/en/medicines/download-medicine-data#rare-disease-(orphan)-designations-section"
   ]
  },
  {
   "cell_type": "code",
   "execution_count": 1,
   "metadata": {},
   "outputs": [],
   "source": [
    "import os\n",
    "\n",
    "import numpy as np\n",
    "import pandas as pd\n",
    "import plotly.colors\n",
    "import plotly.graph_objects as go"
   ]
  },
  {
   "cell_type": "markdown",
   "metadata": {},
   "source": [
    "## Import data"
   ]
  },
  {
   "cell_type": "code",
   "execution_count": 2,
   "metadata": {},
   "outputs": [
    {
     "data": {
      "text/html": [
       "<div>\n",
       "<style scoped>\n",
       "    .dataframe tbody tr th:only-of-type {\n",
       "        vertical-align: middle;\n",
       "    }\n",
       "\n",
       "    .dataframe tbody tr th {\n",
       "        vertical-align: top;\n",
       "    }\n",
       "\n",
       "    .dataframe thead th {\n",
       "        text-align: right;\n",
       "    }\n",
       "</style>\n",
       "<table border=\"1\" class=\"dataframe\">\n",
       "  <thead>\n",
       "    <tr style=\"text-align: right;\">\n",
       "      <th></th>\n",
       "      <th>Medicine name</th>\n",
       "      <th>Active substance</th>\n",
       "      <th>Agency product number</th>\n",
       "      <th>Date of designation / refusal of designation</th>\n",
       "      <th>Intended use</th>\n",
       "      <th>EU designation number</th>\n",
       "      <th>Status of orphan designation</th>\n",
       "      <th>First published</th>\n",
       "      <th>Revision date</th>\n",
       "      <th>URL</th>\n",
       "    </tr>\n",
       "  </thead>\n",
       "  <tbody>\n",
       "    <tr>\n",
       "      <th>0</th>\n",
       "      <td>Blectifor,</td>\n",
       "      <td>Caffeine citrate</td>\n",
       "      <td>EMEA/H/C/004100</td>\n",
       "      <td>2014-04-11 02:00:00</td>\n",
       "      <td>Prevention of bronchopulmonary dysplasia</td>\n",
       "      <td>EU/3/14/1261</td>\n",
       "      <td>Positive</td>\n",
       "      <td>2014-06-05 17:00:00</td>\n",
       "      <td>2014-06-05 17:00:00</td>\n",
       "      <td>https://www.ema.europa.eu/en/medicines/human/o...</td>\n",
       "    </tr>\n",
       "    <tr>\n",
       "      <th>1</th>\n",
       "      <td>NaN</td>\n",
       "      <td>Vatreptacog alfa (activated)</td>\n",
       "      <td>NaN</td>\n",
       "      <td>2012-08-09 02:00:00</td>\n",
       "      <td>Treatment of haemophilia B</td>\n",
       "      <td>EU/3/12/1032</td>\n",
       "      <td>Withdrawn</td>\n",
       "      <td>2012-09-27 16:00:00</td>\n",
       "      <td>2015-03-06 19:20:00</td>\n",
       "      <td>https://www.ema.europa.eu/en/medicines/human/o...</td>\n",
       "    </tr>\n",
       "    <tr>\n",
       "      <th>2</th>\n",
       "      <td>NaN</td>\n",
       "      <td>unoprostone isopropyl</td>\n",
       "      <td>NaN</td>\n",
       "      <td>2013-06-19 02:00:00</td>\n",
       "      <td>Treatment of retinitis pigmentosa</td>\n",
       "      <td>EU/3/13/1146</td>\n",
       "      <td>Withdrawn</td>\n",
       "      <td>2013-07-11 14:00:00</td>\n",
       "      <td>2016-08-11 12:00:00</td>\n",
       "      <td>https://www.ema.europa.eu/en/medicines/human/o...</td>\n",
       "    </tr>\n",
       "    <tr>\n",
       "      <th>3</th>\n",
       "      <td>NaN</td>\n",
       "      <td>Pyridoxal 5'-phosphate</td>\n",
       "      <td>NaN</td>\n",
       "      <td>2014-10-15 02:00:00</td>\n",
       "      <td>Treatment of pyridoxamine 5'-phosphate oxidase...</td>\n",
       "      <td>EU/3/14/1347</td>\n",
       "      <td>Positive</td>\n",
       "      <td>2014-11-12 02:00:00</td>\n",
       "      <td>2014-11-12 02:00:00</td>\n",
       "      <td>https://www.ema.europa.eu/en/medicines/human/o...</td>\n",
       "    </tr>\n",
       "    <tr>\n",
       "      <th>4</th>\n",
       "      <td>NaN</td>\n",
       "      <td>Norursodeoxycholic acid</td>\n",
       "      <td>NaN</td>\n",
       "      <td>2014-07-04 02:00:00</td>\n",
       "      <td>Treatment of primary sclerosing cholangitis</td>\n",
       "      <td>EU/3/14/1288</td>\n",
       "      <td>Positive</td>\n",
       "      <td>2014-07-16 14:05:00</td>\n",
       "      <td>2014-07-16 14:05:00</td>\n",
       "      <td>https://www.ema.europa.eu/en/medicines/human/o...</td>\n",
       "    </tr>\n",
       "    <tr>\n",
       "      <th>...</th>\n",
       "      <td>...</td>\n",
       "      <td>...</td>\n",
       "      <td>...</td>\n",
       "      <td>...</td>\n",
       "      <td>...</td>\n",
       "      <td>...</td>\n",
       "      <td>...</td>\n",
       "      <td>...</td>\n",
       "      <td>...</td>\n",
       "      <td>...</td>\n",
       "    </tr>\n",
       "    <tr>\n",
       "      <th>2423</th>\n",
       "      <td>Imnovid (previously Pomalidomide Celgene),</td>\n",
       "      <td>Pomalidomide</td>\n",
       "      <td>EMEA/H/C/002682</td>\n",
       "      <td>2009-10-08 00:00:00</td>\n",
       "      <td>Treatment of multiple myeloma</td>\n",
       "      <td>EU/3/09/672</td>\n",
       "      <td>Positive</td>\n",
       "      <td>2009-10-20 02:00:00</td>\n",
       "      <td>2021-06-10 11:12:00</td>\n",
       "      <td>https://www.ema.europa.eu/en/medicines/human/o...</td>\n",
       "    </tr>\n",
       "    <tr>\n",
       "      <th>2424</th>\n",
       "      <td>NaN</td>\n",
       "      <td>2-Chloro-N6-(3-iodobenzyl)adenosine-5'-N-methy...</td>\n",
       "      <td>NaN</td>\n",
       "      <td>2015-10-09 00:00:00</td>\n",
       "      <td>Treatment of hepatocellular carcinoma</td>\n",
       "      <td>EU/3/15/1565</td>\n",
       "      <td>Positive</td>\n",
       "      <td>2015-11-18 14:00:00</td>\n",
       "      <td>2021-06-10 12:52:00</td>\n",
       "      <td>https://www.ema.europa.eu/en/medicines/human/o...</td>\n",
       "    </tr>\n",
       "    <tr>\n",
       "      <th>2425</th>\n",
       "      <td>NaN</td>\n",
       "      <td>Entinostat</td>\n",
       "      <td>NaN</td>\n",
       "      <td>2010-06-10 00:00:00</td>\n",
       "      <td>Treatment of Hodgkin's lymphoma</td>\n",
       "      <td>EU/3/10/732</td>\n",
       "      <td>Positive</td>\n",
       "      <td>2010-06-24 02:00:00</td>\n",
       "      <td>2021-06-10 12:52:00</td>\n",
       "      <td>https://www.ema.europa.eu/en/medicines/human/o...</td>\n",
       "    </tr>\n",
       "    <tr>\n",
       "      <th>2426</th>\n",
       "      <td>NaN</td>\n",
       "      <td>Adeno-associated viral vector serotype 2/2 con...</td>\n",
       "      <td>NaN</td>\n",
       "      <td>2016-10-14 00:00:00</td>\n",
       "      <td>Treatment of retinitis pigmentosa</td>\n",
       "      <td>EU/3/16/1740</td>\n",
       "      <td>Withdrawn</td>\n",
       "      <td>2016-11-15 17:30:00</td>\n",
       "      <td>2021-06-11 09:32:00</td>\n",
       "      <td>https://www.ema.europa.eu/en/medicines/human/o...</td>\n",
       "    </tr>\n",
       "    <tr>\n",
       "      <th>2427</th>\n",
       "      <td>NaN</td>\n",
       "      <td>hydrocortisone</td>\n",
       "      <td>NaN</td>\n",
       "      <td>2005-07-27 00:00:00</td>\n",
       "      <td>Treatment of congenital adrenal hyperplasia</td>\n",
       "      <td>EU/3/05/296</td>\n",
       "      <td>Positive</td>\n",
       "      <td>2009-09-21 02:09:00</td>\n",
       "      <td>2021-06-14 15:20:00</td>\n",
       "      <td>https://www.ema.europa.eu/en/medicines/human/o...</td>\n",
       "    </tr>\n",
       "  </tbody>\n",
       "</table>\n",
       "<p>2428 rows × 10 columns</p>\n",
       "</div>"
      ],
      "text/plain": [
       "                                    Medicine name  \\\n",
       "0                                     Blectifor,    \n",
       "1                                             NaN   \n",
       "2                                             NaN   \n",
       "3                                             NaN   \n",
       "4                                             NaN   \n",
       "...                                           ...   \n",
       "2423  Imnovid (previously Pomalidomide Celgene),    \n",
       "2424                                          NaN   \n",
       "2425                                          NaN   \n",
       "2426                                          NaN   \n",
       "2427                                          NaN   \n",
       "\n",
       "                                       Active substance Agency product number  \\\n",
       "0                                      Caffeine citrate       EMEA/H/C/004100   \n",
       "1                          Vatreptacog alfa (activated)                   NaN   \n",
       "2                                 unoprostone isopropyl                   NaN   \n",
       "3                                Pyridoxal 5'-phosphate                   NaN   \n",
       "4                               Norursodeoxycholic acid                   NaN   \n",
       "...                                                 ...                   ...   \n",
       "2423                                       Pomalidomide       EMEA/H/C/002682   \n",
       "2424  2-Chloro-N6-(3-iodobenzyl)adenosine-5'-N-methy...                   NaN   \n",
       "2425                                         Entinostat                   NaN   \n",
       "2426  Adeno-associated viral vector serotype 2/2 con...                   NaN   \n",
       "2427                                     hydrocortisone                   NaN   \n",
       "\n",
       "     Date of designation / refusal of designation  \\\n",
       "0                             2014-04-11 02:00:00   \n",
       "1                             2012-08-09 02:00:00   \n",
       "2                             2013-06-19 02:00:00   \n",
       "3                             2014-10-15 02:00:00   \n",
       "4                             2014-07-04 02:00:00   \n",
       "...                                           ...   \n",
       "2423                          2009-10-08 00:00:00   \n",
       "2424                          2015-10-09 00:00:00   \n",
       "2425                          2010-06-10 00:00:00   \n",
       "2426                          2016-10-14 00:00:00   \n",
       "2427                          2005-07-27 00:00:00   \n",
       "\n",
       "                                           Intended use EU designation number  \\\n",
       "0              Prevention of bronchopulmonary dysplasia          EU/3/14/1261   \n",
       "1                            Treatment of haemophilia B          EU/3/12/1032   \n",
       "2                     Treatment of retinitis pigmentosa          EU/3/13/1146   \n",
       "3     Treatment of pyridoxamine 5'-phosphate oxidase...          EU/3/14/1347   \n",
       "4           Treatment of primary sclerosing cholangitis          EU/3/14/1288   \n",
       "...                                                 ...                   ...   \n",
       "2423                      Treatment of multiple myeloma           EU/3/09/672   \n",
       "2424              Treatment of hepatocellular carcinoma          EU/3/15/1565   \n",
       "2425                    Treatment of Hodgkin's lymphoma           EU/3/10/732   \n",
       "2426                  Treatment of retinitis pigmentosa          EU/3/16/1740   \n",
       "2427        Treatment of congenital adrenal hyperplasia           EU/3/05/296   \n",
       "\n",
       "     Status of orphan designation     First published       Revision date  \\\n",
       "0                        Positive 2014-06-05 17:00:00 2014-06-05 17:00:00   \n",
       "1                       Withdrawn 2012-09-27 16:00:00 2015-03-06 19:20:00   \n",
       "2                       Withdrawn 2013-07-11 14:00:00 2016-08-11 12:00:00   \n",
       "3                        Positive 2014-11-12 02:00:00 2014-11-12 02:00:00   \n",
       "4                        Positive 2014-07-16 14:05:00 2014-07-16 14:05:00   \n",
       "...                           ...                 ...                 ...   \n",
       "2423                     Positive 2009-10-20 02:00:00 2021-06-10 11:12:00   \n",
       "2424                     Positive 2015-11-18 14:00:00 2021-06-10 12:52:00   \n",
       "2425                     Positive 2010-06-24 02:00:00 2021-06-10 12:52:00   \n",
       "2426                    Withdrawn 2016-11-15 17:30:00 2021-06-11 09:32:00   \n",
       "2427                     Positive 2009-09-21 02:09:00 2021-06-14 15:20:00   \n",
       "\n",
       "                                                    URL  \n",
       "0     https://www.ema.europa.eu/en/medicines/human/o...  \n",
       "1     https://www.ema.europa.eu/en/medicines/human/o...  \n",
       "2     https://www.ema.europa.eu/en/medicines/human/o...  \n",
       "3     https://www.ema.europa.eu/en/medicines/human/o...  \n",
       "4     https://www.ema.europa.eu/en/medicines/human/o...  \n",
       "...                                                 ...  \n",
       "2423  https://www.ema.europa.eu/en/medicines/human/o...  \n",
       "2424  https://www.ema.europa.eu/en/medicines/human/o...  \n",
       "2425  https://www.ema.europa.eu/en/medicines/human/o...  \n",
       "2426  https://www.ema.europa.eu/en/medicines/human/o...  \n",
       "2427  https://www.ema.europa.eu/en/medicines/human/o...  \n",
       "\n",
       "[2428 rows x 10 columns]"
      ]
     },
     "execution_count": 2,
     "metadata": {},
     "output_type": "execute_result"
    }
   ],
   "source": [
    "path = os.path.dirname(os.getcwd())\n",
    "data = pd.read_excel(path + '/data/ema_orphan_designations_2021.xlsx', header=8)\n",
    "data"
   ]
  },
  {
   "cell_type": "markdown",
   "metadata": {},
   "source": [
    "## 1. Outcome of orphan drug status applications"
   ]
  },
  {
   "cell_type": "markdown",
   "metadata": {},
   "source": [
    "### 1.1 Time averaged"
   ]
  },
  {
   "cell_type": "code",
   "execution_count": 4,
   "metadata": {},
   "outputs": [
    {
     "data": {
      "application/vnd.plotly.v1+json": {
       "config": {
        "plotlyServerURL": "https://plot.ly"
       },
       "data": [
        {
         "labels": [
          "Positive",
          "Negative",
          "Withdrawn"
         ],
         "marker": {
          "colors": [
           "rgb(77,175,74)",
           "rgb(228,26,28)",
           "rgb(55,126,184)"
          ],
          "line": {
           "color": "#000000",
           "width": 1
          }
         },
         "sort": false,
         "textinfo": "label+value+percent",
         "type": "pie",
         "values": [
          1807,
          32,
          589
         ]
        }
       ],
       "layout": {
        "template": {
         "data": {
          "bar": [
           {
            "error_x": {
             "color": "#2a3f5f"
            },
            "error_y": {
             "color": "#2a3f5f"
            },
            "marker": {
             "line": {
              "color": "#E5ECF6",
              "width": 0.5
             },
             "pattern": {
              "fillmode": "overlay",
              "size": 10,
              "solidity": 0.2
             }
            },
            "type": "bar"
           }
          ],
          "barpolar": [
           {
            "marker": {
             "line": {
              "color": "#E5ECF6",
              "width": 0.5
             },
             "pattern": {
              "fillmode": "overlay",
              "size": 10,
              "solidity": 0.2
             }
            },
            "type": "barpolar"
           }
          ],
          "carpet": [
           {
            "aaxis": {
             "endlinecolor": "#2a3f5f",
             "gridcolor": "white",
             "linecolor": "white",
             "minorgridcolor": "white",
             "startlinecolor": "#2a3f5f"
            },
            "baxis": {
             "endlinecolor": "#2a3f5f",
             "gridcolor": "white",
             "linecolor": "white",
             "minorgridcolor": "white",
             "startlinecolor": "#2a3f5f"
            },
            "type": "carpet"
           }
          ],
          "choropleth": [
           {
            "colorbar": {
             "outlinewidth": 0,
             "ticks": ""
            },
            "type": "choropleth"
           }
          ],
          "contour": [
           {
            "colorbar": {
             "outlinewidth": 0,
             "ticks": ""
            },
            "colorscale": [
             [
              0,
              "#0d0887"
             ],
             [
              0.1111111111111111,
              "#46039f"
             ],
             [
              0.2222222222222222,
              "#7201a8"
             ],
             [
              0.3333333333333333,
              "#9c179e"
             ],
             [
              0.4444444444444444,
              "#bd3786"
             ],
             [
              0.5555555555555556,
              "#d8576b"
             ],
             [
              0.6666666666666666,
              "#ed7953"
             ],
             [
              0.7777777777777778,
              "#fb9f3a"
             ],
             [
              0.8888888888888888,
              "#fdca26"
             ],
             [
              1,
              "#f0f921"
             ]
            ],
            "type": "contour"
           }
          ],
          "contourcarpet": [
           {
            "colorbar": {
             "outlinewidth": 0,
             "ticks": ""
            },
            "type": "contourcarpet"
           }
          ],
          "heatmap": [
           {
            "colorbar": {
             "outlinewidth": 0,
             "ticks": ""
            },
            "colorscale": [
             [
              0,
              "#0d0887"
             ],
             [
              0.1111111111111111,
              "#46039f"
             ],
             [
              0.2222222222222222,
              "#7201a8"
             ],
             [
              0.3333333333333333,
              "#9c179e"
             ],
             [
              0.4444444444444444,
              "#bd3786"
             ],
             [
              0.5555555555555556,
              "#d8576b"
             ],
             [
              0.6666666666666666,
              "#ed7953"
             ],
             [
              0.7777777777777778,
              "#fb9f3a"
             ],
             [
              0.8888888888888888,
              "#fdca26"
             ],
             [
              1,
              "#f0f921"
             ]
            ],
            "type": "heatmap"
           }
          ],
          "heatmapgl": [
           {
            "colorbar": {
             "outlinewidth": 0,
             "ticks": ""
            },
            "colorscale": [
             [
              0,
              "#0d0887"
             ],
             [
              0.1111111111111111,
              "#46039f"
             ],
             [
              0.2222222222222222,
              "#7201a8"
             ],
             [
              0.3333333333333333,
              "#9c179e"
             ],
             [
              0.4444444444444444,
              "#bd3786"
             ],
             [
              0.5555555555555556,
              "#d8576b"
             ],
             [
              0.6666666666666666,
              "#ed7953"
             ],
             [
              0.7777777777777778,
              "#fb9f3a"
             ],
             [
              0.8888888888888888,
              "#fdca26"
             ],
             [
              1,
              "#f0f921"
             ]
            ],
            "type": "heatmapgl"
           }
          ],
          "histogram": [
           {
            "marker": {
             "pattern": {
              "fillmode": "overlay",
              "size": 10,
              "solidity": 0.2
             }
            },
            "type": "histogram"
           }
          ],
          "histogram2d": [
           {
            "colorbar": {
             "outlinewidth": 0,
             "ticks": ""
            },
            "colorscale": [
             [
              0,
              "#0d0887"
             ],
             [
              0.1111111111111111,
              "#46039f"
             ],
             [
              0.2222222222222222,
              "#7201a8"
             ],
             [
              0.3333333333333333,
              "#9c179e"
             ],
             [
              0.4444444444444444,
              "#bd3786"
             ],
             [
              0.5555555555555556,
              "#d8576b"
             ],
             [
              0.6666666666666666,
              "#ed7953"
             ],
             [
              0.7777777777777778,
              "#fb9f3a"
             ],
             [
              0.8888888888888888,
              "#fdca26"
             ],
             [
              1,
              "#f0f921"
             ]
            ],
            "type": "histogram2d"
           }
          ],
          "histogram2dcontour": [
           {
            "colorbar": {
             "outlinewidth": 0,
             "ticks": ""
            },
            "colorscale": [
             [
              0,
              "#0d0887"
             ],
             [
              0.1111111111111111,
              "#46039f"
             ],
             [
              0.2222222222222222,
              "#7201a8"
             ],
             [
              0.3333333333333333,
              "#9c179e"
             ],
             [
              0.4444444444444444,
              "#bd3786"
             ],
             [
              0.5555555555555556,
              "#d8576b"
             ],
             [
              0.6666666666666666,
              "#ed7953"
             ],
             [
              0.7777777777777778,
              "#fb9f3a"
             ],
             [
              0.8888888888888888,
              "#fdca26"
             ],
             [
              1,
              "#f0f921"
             ]
            ],
            "type": "histogram2dcontour"
           }
          ],
          "mesh3d": [
           {
            "colorbar": {
             "outlinewidth": 0,
             "ticks": ""
            },
            "type": "mesh3d"
           }
          ],
          "parcoords": [
           {
            "line": {
             "colorbar": {
              "outlinewidth": 0,
              "ticks": ""
             }
            },
            "type": "parcoords"
           }
          ],
          "pie": [
           {
            "automargin": true,
            "type": "pie"
           }
          ],
          "scatter": [
           {
            "marker": {
             "colorbar": {
              "outlinewidth": 0,
              "ticks": ""
             }
            },
            "type": "scatter"
           }
          ],
          "scatter3d": [
           {
            "line": {
             "colorbar": {
              "outlinewidth": 0,
              "ticks": ""
             }
            },
            "marker": {
             "colorbar": {
              "outlinewidth": 0,
              "ticks": ""
             }
            },
            "type": "scatter3d"
           }
          ],
          "scattercarpet": [
           {
            "marker": {
             "colorbar": {
              "outlinewidth": 0,
              "ticks": ""
             }
            },
            "type": "scattercarpet"
           }
          ],
          "scattergeo": [
           {
            "marker": {
             "colorbar": {
              "outlinewidth": 0,
              "ticks": ""
             }
            },
            "type": "scattergeo"
           }
          ],
          "scattergl": [
           {
            "marker": {
             "colorbar": {
              "outlinewidth": 0,
              "ticks": ""
             }
            },
            "type": "scattergl"
           }
          ],
          "scattermapbox": [
           {
            "marker": {
             "colorbar": {
              "outlinewidth": 0,
              "ticks": ""
             }
            },
            "type": "scattermapbox"
           }
          ],
          "scatterpolar": [
           {
            "marker": {
             "colorbar": {
              "outlinewidth": 0,
              "ticks": ""
             }
            },
            "type": "scatterpolar"
           }
          ],
          "scatterpolargl": [
           {
            "marker": {
             "colorbar": {
              "outlinewidth": 0,
              "ticks": ""
             }
            },
            "type": "scatterpolargl"
           }
          ],
          "scatterternary": [
           {
            "marker": {
             "colorbar": {
              "outlinewidth": 0,
              "ticks": ""
             }
            },
            "type": "scatterternary"
           }
          ],
          "surface": [
           {
            "colorbar": {
             "outlinewidth": 0,
             "ticks": ""
            },
            "colorscale": [
             [
              0,
              "#0d0887"
             ],
             [
              0.1111111111111111,
              "#46039f"
             ],
             [
              0.2222222222222222,
              "#7201a8"
             ],
             [
              0.3333333333333333,
              "#9c179e"
             ],
             [
              0.4444444444444444,
              "#bd3786"
             ],
             [
              0.5555555555555556,
              "#d8576b"
             ],
             [
              0.6666666666666666,
              "#ed7953"
             ],
             [
              0.7777777777777778,
              "#fb9f3a"
             ],
             [
              0.8888888888888888,
              "#fdca26"
             ],
             [
              1,
              "#f0f921"
             ]
            ],
            "type": "surface"
           }
          ],
          "table": [
           {
            "cells": {
             "fill": {
              "color": "#EBF0F8"
             },
             "line": {
              "color": "white"
             }
            },
            "header": {
             "fill": {
              "color": "#C8D4E3"
             },
             "line": {
              "color": "white"
             }
            },
            "type": "table"
           }
          ]
         },
         "layout": {
          "annotationdefaults": {
           "arrowcolor": "#2a3f5f",
           "arrowhead": 0,
           "arrowwidth": 1
          },
          "autotypenumbers": "strict",
          "coloraxis": {
           "colorbar": {
            "outlinewidth": 0,
            "ticks": ""
           }
          },
          "colorscale": {
           "diverging": [
            [
             0,
             "#8e0152"
            ],
            [
             0.1,
             "#c51b7d"
            ],
            [
             0.2,
             "#de77ae"
            ],
            [
             0.3,
             "#f1b6da"
            ],
            [
             0.4,
             "#fde0ef"
            ],
            [
             0.5,
             "#f7f7f7"
            ],
            [
             0.6,
             "#e6f5d0"
            ],
            [
             0.7,
             "#b8e186"
            ],
            [
             0.8,
             "#7fbc41"
            ],
            [
             0.9,
             "#4d9221"
            ],
            [
             1,
             "#276419"
            ]
           ],
           "sequential": [
            [
             0,
             "#0d0887"
            ],
            [
             0.1111111111111111,
             "#46039f"
            ],
            [
             0.2222222222222222,
             "#7201a8"
            ],
            [
             0.3333333333333333,
             "#9c179e"
            ],
            [
             0.4444444444444444,
             "#bd3786"
            ],
            [
             0.5555555555555556,
             "#d8576b"
            ],
            [
             0.6666666666666666,
             "#ed7953"
            ],
            [
             0.7777777777777778,
             "#fb9f3a"
            ],
            [
             0.8888888888888888,
             "#fdca26"
            ],
            [
             1,
             "#f0f921"
            ]
           ],
           "sequentialminus": [
            [
             0,
             "#0d0887"
            ],
            [
             0.1111111111111111,
             "#46039f"
            ],
            [
             0.2222222222222222,
             "#7201a8"
            ],
            [
             0.3333333333333333,
             "#9c179e"
            ],
            [
             0.4444444444444444,
             "#bd3786"
            ],
            [
             0.5555555555555556,
             "#d8576b"
            ],
            [
             0.6666666666666666,
             "#ed7953"
            ],
            [
             0.7777777777777778,
             "#fb9f3a"
            ],
            [
             0.8888888888888888,
             "#fdca26"
            ],
            [
             1,
             "#f0f921"
            ]
           ]
          },
          "colorway": [
           "#636efa",
           "#EF553B",
           "#00cc96",
           "#ab63fa",
           "#FFA15A",
           "#19d3f3",
           "#FF6692",
           "#B6E880",
           "#FF97FF",
           "#FECB52"
          ],
          "font": {
           "color": "#2a3f5f"
          },
          "geo": {
           "bgcolor": "white",
           "lakecolor": "white",
           "landcolor": "#E5ECF6",
           "showlakes": true,
           "showland": true,
           "subunitcolor": "white"
          },
          "hoverlabel": {
           "align": "left"
          },
          "hovermode": "closest",
          "mapbox": {
           "style": "light"
          },
          "paper_bgcolor": "white",
          "plot_bgcolor": "#E5ECF6",
          "polar": {
           "angularaxis": {
            "gridcolor": "white",
            "linecolor": "white",
            "ticks": ""
           },
           "bgcolor": "#E5ECF6",
           "radialaxis": {
            "gridcolor": "white",
            "linecolor": "white",
            "ticks": ""
           }
          },
          "scene": {
           "xaxis": {
            "backgroundcolor": "#E5ECF6",
            "gridcolor": "white",
            "gridwidth": 2,
            "linecolor": "white",
            "showbackground": true,
            "ticks": "",
            "zerolinecolor": "white"
           },
           "yaxis": {
            "backgroundcolor": "#E5ECF6",
            "gridcolor": "white",
            "gridwidth": 2,
            "linecolor": "white",
            "showbackground": true,
            "ticks": "",
            "zerolinecolor": "white"
           },
           "zaxis": {
            "backgroundcolor": "#E5ECF6",
            "gridcolor": "white",
            "gridwidth": 2,
            "linecolor": "white",
            "showbackground": true,
            "ticks": "",
            "zerolinecolor": "white"
           }
          },
          "shapedefaults": {
           "line": {
            "color": "#2a3f5f"
           }
          },
          "ternary": {
           "aaxis": {
            "gridcolor": "white",
            "linecolor": "white",
            "ticks": ""
           },
           "baxis": {
            "gridcolor": "white",
            "linecolor": "white",
            "ticks": ""
           },
           "bgcolor": "#E5ECF6",
           "caxis": {
            "gridcolor": "white",
            "linecolor": "white",
            "ticks": ""
           }
          },
          "title": {
           "x": 0.05
          },
          "xaxis": {
           "automargin": true,
           "gridcolor": "white",
           "linecolor": "white",
           "ticks": "",
           "title": {
            "standoff": 15
           },
           "zerolinecolor": "white",
           "zerolinewidth": 2
          },
          "yaxis": {
           "automargin": true,
           "gridcolor": "white",
           "linecolor": "white",
           "ticks": "",
           "title": {
            "standoff": 15
           },
           "zerolinecolor": "white",
           "zerolinewidth": 2
          }
         }
        }
       }
      }
     },
     "metadata": {},
     "output_type": "display_data"
    }
   ],
   "source": [
    "# Group data based on outcome\n",
    "assert np.array_equal(data['Status of orphan designation'].unique(), np.array(['Positive', 'Withdrawn', 'Negative', 'Expired']))\n",
    "mask = data['Status of orphan designation'] == 'Positive'\n",
    "positive = data[mask]\n",
    "mask = data['Status of orphan designation'] == 'Withdrawn'\n",
    "withdrawn = data[mask]\n",
    "mask = data['Status of orphan designation'] == 'Negative'\n",
    "negative = data[mask]\n",
    "mask = data['Status of orphan designation'] == 'Expired'\n",
    "expired = data[mask]\n",
    "\n",
    "# Create figure\n",
    "fig = go.Figure()\n",
    "colours = plotly.colors.qualitative.Set1\n",
    "fig.add_trace(go.Pie(\n",
    "    labels=['Positive', 'Negative', 'Withdrawn'],\n",
    "    values=[len(positive) + len(expired), len(negative), len(withdrawn)],\n",
    "    textinfo='label+value+percent',\n",
    "    sort=False,\n",
    "    marker=dict(\n",
    "        colors=[colours[2], colours[0], colours[1]],\n",
    "        line=dict(color='#000000', width=1))))\n",
    "\n",
    "# Save image as pdf\n",
    "directory = os.path.dirname(os.getcwd())\n",
    "fig.write_image(\n",
    "    directory + '/images/ema_outcome_applications_2000_2020.pdf')\n",
    "fig.show()"
   ]
  },
  {
   "cell_type": "markdown",
   "metadata": {},
   "source": [
    "**Figure 1:** EMA's record of orphan drug outcomes from 08/08/2000 to 07/11/2020"
   ]
  },
  {
   "cell_type": "markdown",
   "metadata": {},
   "source": [
    "### 1.2 Time evolution \n",
    "(exclude 2000 and 2020, because data is incomplete)"
   ]
  },
  {
   "cell_type": "code",
   "execution_count": 5,
   "metadata": {},
   "outputs": [
    {
     "data": {
      "application/vnd.plotly.v1+json": {
       "config": {
        "plotlyServerURL": "https://plot.ly"
       },
       "data": [
        {
         "line": {
          "color": "rgb(77,175,74)"
         },
         "name": "Positive",
         "type": "scatter",
         "x": [
          2000,
          2001,
          2002,
          2003,
          2004,
          2005,
          2006,
          2007,
          2008,
          2009,
          2010,
          2011,
          2012,
          2013,
          2014,
          2015,
          2016,
          2017,
          2018,
          2019,
          2020
         ],
         "y": [
          11,
          26,
          22,
          23,
          35,
          56,
          48,
          61,
          50,
          62,
          86,
          70,
          94,
          91,
          171,
          151,
          181,
          143,
          157,
          112,
          144
         ]
        },
        {
         "line": {
          "color": "rgb(228,26,28)"
         },
         "name": "Negative",
         "type": "scatter",
         "x": [
          2000,
          2001,
          2002,
          2003,
          2004,
          2005,
          2006,
          2007,
          2008,
          2009,
          2010,
          2011,
          2012,
          2013,
          2014,
          2015,
          2016,
          2017,
          2018,
          2019,
          2020
         ],
         "y": [
          0,
          0,
          3,
          0,
          2,
          3,
          2,
          1,
          1,
          0,
          3,
          1,
          1,
          1,
          2,
          1,
          2,
          1,
          4,
          1,
          3
         ]
        },
        {
         "line": {
          "color": "rgb(55,126,184)"
         },
         "name": "Withdrawn",
         "type": "scatter",
         "x": [
          2000,
          2001,
          2002,
          2003,
          2004,
          2005,
          2006,
          2007,
          2008,
          2009,
          2010,
          2011,
          2012,
          2013,
          2014,
          2015,
          2016,
          2017,
          2018,
          2019,
          2020
         ],
         "y": [
          3,
          36,
          27,
          31,
          36,
          32,
          32,
          38,
          24,
          48,
          42,
          36,
          53,
          33,
          28,
          39,
          29,
          6,
          10,
          2,
          4
         ]
        }
       ],
       "layout": {
        "showlegend": false,
        "template": {
         "data": {
          "bar": [
           {
            "error_x": {
             "color": "rgb(36,36,36)"
            },
            "error_y": {
             "color": "rgb(36,36,36)"
            },
            "marker": {
             "line": {
              "color": "white",
              "width": 0.5
             },
             "pattern": {
              "fillmode": "overlay",
              "size": 10,
              "solidity": 0.2
             }
            },
            "type": "bar"
           }
          ],
          "barpolar": [
           {
            "marker": {
             "line": {
              "color": "white",
              "width": 0.5
             },
             "pattern": {
              "fillmode": "overlay",
              "size": 10,
              "solidity": 0.2
             }
            },
            "type": "barpolar"
           }
          ],
          "carpet": [
           {
            "aaxis": {
             "endlinecolor": "rgb(36,36,36)",
             "gridcolor": "white",
             "linecolor": "white",
             "minorgridcolor": "white",
             "startlinecolor": "rgb(36,36,36)"
            },
            "baxis": {
             "endlinecolor": "rgb(36,36,36)",
             "gridcolor": "white",
             "linecolor": "white",
             "minorgridcolor": "white",
             "startlinecolor": "rgb(36,36,36)"
            },
            "type": "carpet"
           }
          ],
          "choropleth": [
           {
            "colorbar": {
             "outlinewidth": 1,
             "tickcolor": "rgb(36,36,36)",
             "ticks": "outside"
            },
            "type": "choropleth"
           }
          ],
          "contour": [
           {
            "colorbar": {
             "outlinewidth": 1,
             "tickcolor": "rgb(36,36,36)",
             "ticks": "outside"
            },
            "colorscale": [
             [
              0,
              "#440154"
             ],
             [
              0.1111111111111111,
              "#482878"
             ],
             [
              0.2222222222222222,
              "#3e4989"
             ],
             [
              0.3333333333333333,
              "#31688e"
             ],
             [
              0.4444444444444444,
              "#26828e"
             ],
             [
              0.5555555555555556,
              "#1f9e89"
             ],
             [
              0.6666666666666666,
              "#35b779"
             ],
             [
              0.7777777777777778,
              "#6ece58"
             ],
             [
              0.8888888888888888,
              "#b5de2b"
             ],
             [
              1,
              "#fde725"
             ]
            ],
            "type": "contour"
           }
          ],
          "contourcarpet": [
           {
            "colorbar": {
             "outlinewidth": 1,
             "tickcolor": "rgb(36,36,36)",
             "ticks": "outside"
            },
            "type": "contourcarpet"
           }
          ],
          "heatmap": [
           {
            "colorbar": {
             "outlinewidth": 1,
             "tickcolor": "rgb(36,36,36)",
             "ticks": "outside"
            },
            "colorscale": [
             [
              0,
              "#440154"
             ],
             [
              0.1111111111111111,
              "#482878"
             ],
             [
              0.2222222222222222,
              "#3e4989"
             ],
             [
              0.3333333333333333,
              "#31688e"
             ],
             [
              0.4444444444444444,
              "#26828e"
             ],
             [
              0.5555555555555556,
              "#1f9e89"
             ],
             [
              0.6666666666666666,
              "#35b779"
             ],
             [
              0.7777777777777778,
              "#6ece58"
             ],
             [
              0.8888888888888888,
              "#b5de2b"
             ],
             [
              1,
              "#fde725"
             ]
            ],
            "type": "heatmap"
           }
          ],
          "heatmapgl": [
           {
            "colorbar": {
             "outlinewidth": 1,
             "tickcolor": "rgb(36,36,36)",
             "ticks": "outside"
            },
            "colorscale": [
             [
              0,
              "#440154"
             ],
             [
              0.1111111111111111,
              "#482878"
             ],
             [
              0.2222222222222222,
              "#3e4989"
             ],
             [
              0.3333333333333333,
              "#31688e"
             ],
             [
              0.4444444444444444,
              "#26828e"
             ],
             [
              0.5555555555555556,
              "#1f9e89"
             ],
             [
              0.6666666666666666,
              "#35b779"
             ],
             [
              0.7777777777777778,
              "#6ece58"
             ],
             [
              0.8888888888888888,
              "#b5de2b"
             ],
             [
              1,
              "#fde725"
             ]
            ],
            "type": "heatmapgl"
           }
          ],
          "histogram": [
           {
            "marker": {
             "line": {
              "color": "white",
              "width": 0.6
             }
            },
            "type": "histogram"
           }
          ],
          "histogram2d": [
           {
            "colorbar": {
             "outlinewidth": 1,
             "tickcolor": "rgb(36,36,36)",
             "ticks": "outside"
            },
            "colorscale": [
             [
              0,
              "#440154"
             ],
             [
              0.1111111111111111,
              "#482878"
             ],
             [
              0.2222222222222222,
              "#3e4989"
             ],
             [
              0.3333333333333333,
              "#31688e"
             ],
             [
              0.4444444444444444,
              "#26828e"
             ],
             [
              0.5555555555555556,
              "#1f9e89"
             ],
             [
              0.6666666666666666,
              "#35b779"
             ],
             [
              0.7777777777777778,
              "#6ece58"
             ],
             [
              0.8888888888888888,
              "#b5de2b"
             ],
             [
              1,
              "#fde725"
             ]
            ],
            "type": "histogram2d"
           }
          ],
          "histogram2dcontour": [
           {
            "colorbar": {
             "outlinewidth": 1,
             "tickcolor": "rgb(36,36,36)",
             "ticks": "outside"
            },
            "colorscale": [
             [
              0,
              "#440154"
             ],
             [
              0.1111111111111111,
              "#482878"
             ],
             [
              0.2222222222222222,
              "#3e4989"
             ],
             [
              0.3333333333333333,
              "#31688e"
             ],
             [
              0.4444444444444444,
              "#26828e"
             ],
             [
              0.5555555555555556,
              "#1f9e89"
             ],
             [
              0.6666666666666666,
              "#35b779"
             ],
             [
              0.7777777777777778,
              "#6ece58"
             ],
             [
              0.8888888888888888,
              "#b5de2b"
             ],
             [
              1,
              "#fde725"
             ]
            ],
            "type": "histogram2dcontour"
           }
          ],
          "mesh3d": [
           {
            "colorbar": {
             "outlinewidth": 1,
             "tickcolor": "rgb(36,36,36)",
             "ticks": "outside"
            },
            "type": "mesh3d"
           }
          ],
          "parcoords": [
           {
            "line": {
             "colorbar": {
              "outlinewidth": 1,
              "tickcolor": "rgb(36,36,36)",
              "ticks": "outside"
             }
            },
            "type": "parcoords"
           }
          ],
          "pie": [
           {
            "automargin": true,
            "type": "pie"
           }
          ],
          "scatter": [
           {
            "marker": {
             "colorbar": {
              "outlinewidth": 1,
              "tickcolor": "rgb(36,36,36)",
              "ticks": "outside"
             }
            },
            "type": "scatter"
           }
          ],
          "scatter3d": [
           {
            "line": {
             "colorbar": {
              "outlinewidth": 1,
              "tickcolor": "rgb(36,36,36)",
              "ticks": "outside"
             }
            },
            "marker": {
             "colorbar": {
              "outlinewidth": 1,
              "tickcolor": "rgb(36,36,36)",
              "ticks": "outside"
             }
            },
            "type": "scatter3d"
           }
          ],
          "scattercarpet": [
           {
            "marker": {
             "colorbar": {
              "outlinewidth": 1,
              "tickcolor": "rgb(36,36,36)",
              "ticks": "outside"
             }
            },
            "type": "scattercarpet"
           }
          ],
          "scattergeo": [
           {
            "marker": {
             "colorbar": {
              "outlinewidth": 1,
              "tickcolor": "rgb(36,36,36)",
              "ticks": "outside"
             }
            },
            "type": "scattergeo"
           }
          ],
          "scattergl": [
           {
            "marker": {
             "colorbar": {
              "outlinewidth": 1,
              "tickcolor": "rgb(36,36,36)",
              "ticks": "outside"
             }
            },
            "type": "scattergl"
           }
          ],
          "scattermapbox": [
           {
            "marker": {
             "colorbar": {
              "outlinewidth": 1,
              "tickcolor": "rgb(36,36,36)",
              "ticks": "outside"
             }
            },
            "type": "scattermapbox"
           }
          ],
          "scatterpolar": [
           {
            "marker": {
             "colorbar": {
              "outlinewidth": 1,
              "tickcolor": "rgb(36,36,36)",
              "ticks": "outside"
             }
            },
            "type": "scatterpolar"
           }
          ],
          "scatterpolargl": [
           {
            "marker": {
             "colorbar": {
              "outlinewidth": 1,
              "tickcolor": "rgb(36,36,36)",
              "ticks": "outside"
             }
            },
            "type": "scatterpolargl"
           }
          ],
          "scatterternary": [
           {
            "marker": {
             "colorbar": {
              "outlinewidth": 1,
              "tickcolor": "rgb(36,36,36)",
              "ticks": "outside"
             }
            },
            "type": "scatterternary"
           }
          ],
          "surface": [
           {
            "colorbar": {
             "outlinewidth": 1,
             "tickcolor": "rgb(36,36,36)",
             "ticks": "outside"
            },
            "colorscale": [
             [
              0,
              "#440154"
             ],
             [
              0.1111111111111111,
              "#482878"
             ],
             [
              0.2222222222222222,
              "#3e4989"
             ],
             [
              0.3333333333333333,
              "#31688e"
             ],
             [
              0.4444444444444444,
              "#26828e"
             ],
             [
              0.5555555555555556,
              "#1f9e89"
             ],
             [
              0.6666666666666666,
              "#35b779"
             ],
             [
              0.7777777777777778,
              "#6ece58"
             ],
             [
              0.8888888888888888,
              "#b5de2b"
             ],
             [
              1,
              "#fde725"
             ]
            ],
            "type": "surface"
           }
          ],
          "table": [
           {
            "cells": {
             "fill": {
              "color": "rgb(237,237,237)"
             },
             "line": {
              "color": "white"
             }
            },
            "header": {
             "fill": {
              "color": "rgb(217,217,217)"
             },
             "line": {
              "color": "white"
             }
            },
            "type": "table"
           }
          ]
         },
         "layout": {
          "annotationdefaults": {
           "arrowhead": 0,
           "arrowwidth": 1
          },
          "autotypenumbers": "strict",
          "coloraxis": {
           "colorbar": {
            "outlinewidth": 1,
            "tickcolor": "rgb(36,36,36)",
            "ticks": "outside"
           }
          },
          "colorscale": {
           "diverging": [
            [
             0,
             "rgb(103,0,31)"
            ],
            [
             0.1,
             "rgb(178,24,43)"
            ],
            [
             0.2,
             "rgb(214,96,77)"
            ],
            [
             0.3,
             "rgb(244,165,130)"
            ],
            [
             0.4,
             "rgb(253,219,199)"
            ],
            [
             0.5,
             "rgb(247,247,247)"
            ],
            [
             0.6,
             "rgb(209,229,240)"
            ],
            [
             0.7,
             "rgb(146,197,222)"
            ],
            [
             0.8,
             "rgb(67,147,195)"
            ],
            [
             0.9,
             "rgb(33,102,172)"
            ],
            [
             1,
             "rgb(5,48,97)"
            ]
           ],
           "sequential": [
            [
             0,
             "#440154"
            ],
            [
             0.1111111111111111,
             "#482878"
            ],
            [
             0.2222222222222222,
             "#3e4989"
            ],
            [
             0.3333333333333333,
             "#31688e"
            ],
            [
             0.4444444444444444,
             "#26828e"
            ],
            [
             0.5555555555555556,
             "#1f9e89"
            ],
            [
             0.6666666666666666,
             "#35b779"
            ],
            [
             0.7777777777777778,
             "#6ece58"
            ],
            [
             0.8888888888888888,
             "#b5de2b"
            ],
            [
             1,
             "#fde725"
            ]
           ],
           "sequentialminus": [
            [
             0,
             "#440154"
            ],
            [
             0.1111111111111111,
             "#482878"
            ],
            [
             0.2222222222222222,
             "#3e4989"
            ],
            [
             0.3333333333333333,
             "#31688e"
            ],
            [
             0.4444444444444444,
             "#26828e"
            ],
            [
             0.5555555555555556,
             "#1f9e89"
            ],
            [
             0.6666666666666666,
             "#35b779"
            ],
            [
             0.7777777777777778,
             "#6ece58"
            ],
            [
             0.8888888888888888,
             "#b5de2b"
            ],
            [
             1,
             "#fde725"
            ]
           ]
          },
          "colorway": [
           "#1F77B4",
           "#FF7F0E",
           "#2CA02C",
           "#D62728",
           "#9467BD",
           "#8C564B",
           "#E377C2",
           "#7F7F7F",
           "#BCBD22",
           "#17BECF"
          ],
          "font": {
           "color": "rgb(36,36,36)"
          },
          "geo": {
           "bgcolor": "white",
           "lakecolor": "white",
           "landcolor": "white",
           "showlakes": true,
           "showland": true,
           "subunitcolor": "white"
          },
          "hoverlabel": {
           "align": "left"
          },
          "hovermode": "closest",
          "mapbox": {
           "style": "light"
          },
          "paper_bgcolor": "white",
          "plot_bgcolor": "white",
          "polar": {
           "angularaxis": {
            "gridcolor": "rgb(232,232,232)",
            "linecolor": "rgb(36,36,36)",
            "showgrid": false,
            "showline": true,
            "ticks": "outside"
           },
           "bgcolor": "white",
           "radialaxis": {
            "gridcolor": "rgb(232,232,232)",
            "linecolor": "rgb(36,36,36)",
            "showgrid": false,
            "showline": true,
            "ticks": "outside"
           }
          },
          "scene": {
           "xaxis": {
            "backgroundcolor": "white",
            "gridcolor": "rgb(232,232,232)",
            "gridwidth": 2,
            "linecolor": "rgb(36,36,36)",
            "showbackground": true,
            "showgrid": false,
            "showline": true,
            "ticks": "outside",
            "zeroline": false,
            "zerolinecolor": "rgb(36,36,36)"
           },
           "yaxis": {
            "backgroundcolor": "white",
            "gridcolor": "rgb(232,232,232)",
            "gridwidth": 2,
            "linecolor": "rgb(36,36,36)",
            "showbackground": true,
            "showgrid": false,
            "showline": true,
            "ticks": "outside",
            "zeroline": false,
            "zerolinecolor": "rgb(36,36,36)"
           },
           "zaxis": {
            "backgroundcolor": "white",
            "gridcolor": "rgb(232,232,232)",
            "gridwidth": 2,
            "linecolor": "rgb(36,36,36)",
            "showbackground": true,
            "showgrid": false,
            "showline": true,
            "ticks": "outside",
            "zeroline": false,
            "zerolinecolor": "rgb(36,36,36)"
           }
          },
          "shapedefaults": {
           "fillcolor": "black",
           "line": {
            "width": 0
           },
           "opacity": 0.3
          },
          "ternary": {
           "aaxis": {
            "gridcolor": "rgb(232,232,232)",
            "linecolor": "rgb(36,36,36)",
            "showgrid": false,
            "showline": true,
            "ticks": "outside"
           },
           "baxis": {
            "gridcolor": "rgb(232,232,232)",
            "linecolor": "rgb(36,36,36)",
            "showgrid": false,
            "showline": true,
            "ticks": "outside"
           },
           "bgcolor": "white",
           "caxis": {
            "gridcolor": "rgb(232,232,232)",
            "linecolor": "rgb(36,36,36)",
            "showgrid": false,
            "showline": true,
            "ticks": "outside"
           }
          },
          "title": {
           "x": 0.05
          },
          "xaxis": {
           "automargin": true,
           "gridcolor": "rgb(232,232,232)",
           "linecolor": "rgb(36,36,36)",
           "showgrid": false,
           "showline": true,
           "ticks": "outside",
           "title": {
            "standoff": 15
           },
           "zeroline": false,
           "zerolinecolor": "rgb(36,36,36)"
          },
          "yaxis": {
           "automargin": true,
           "gridcolor": "rgb(232,232,232)",
           "linecolor": "rgb(36,36,36)",
           "showgrid": false,
           "showline": true,
           "ticks": "outside",
           "title": {
            "standoff": 15
           },
           "zeroline": false,
           "zerolinecolor": "rgb(36,36,36)"
          }
         }
        },
        "xaxis": {
         "title": {
          "text": "Year"
         }
        },
        "yaxis": {
         "title": {
          "text": "Number"
         }
        }
       }
      }
     },
     "metadata": {},
     "output_type": "display_data"
    }
   ],
   "source": [
    "# Create container for time data\n",
    "time_evolution = pd.DataFrame(columns={'Year', 'Positive', 'Negative', 'Withdrawn'})\n",
    "\n",
    "# Group data by year\n",
    "temp = data.copy()\n",
    "temp['Year'] = data['Date of designation / refusal of designation'].apply(lambda x: x.year)\n",
    "for year in temp['Year'].dropna().unique():\n",
    "    # Ignore 2021 (because we are in the middle of the year)\n",
    "    if year > 2020:\n",
    "        continue\n",
    "\n",
    "    # Get outcomes for that year\n",
    "    mask = temp['Year'] == year\n",
    "    temp2 = temp[mask]\n",
    "\n",
    "    # Count positives (including expired)\n",
    "    mask = (temp2['Status of orphan designation'] == 'Positive') | (temp2['Status of orphan designation'] == 'Expired')\n",
    "    n_positive = len(temp2[mask])\n",
    "\n",
    "    # Count negative\n",
    "    mask = temp2['Status of orphan designation'] == 'Negative'\n",
    "    n_negative = len(temp2[mask])\n",
    "\n",
    "    # Count withdrawn\n",
    "    mask = temp2['Status of orphan designation'] == 'Withdrawn'\n",
    "    n_withdrawn = len(temp2[mask])\n",
    "    \n",
    "    # Append to main container\n",
    "    time_evolution = time_evolution.append(pd.DataFrame({\n",
    "        'Year': [year],\n",
    "        'Positive': [n_positive],\n",
    "        'Negative': [n_negative],\n",
    "        'Withdrawn': [n_withdrawn]}))\n",
    "\n",
    "# Sort by time\n",
    "time_evolution.sort_values(by='Year', inplace=True)\n",
    "\n",
    "# Create line plot\n",
    "fig = go.Figure()\n",
    "colours = plotly.colors.qualitative.Set1\n",
    "colour_index = [2, 0, 1]\n",
    "for index, key in enumerate(['Positive', 'Negative', 'Withdrawn']):\n",
    "    fig.add_trace(go.Scatter(\n",
    "        x=time_evolution['Year'],\n",
    "        y=time_evolution[key],\n",
    "        name=key,\n",
    "        line=dict(color=colours[colour_index[index]])\n",
    "    ))\n",
    "\n",
    "# Set axes and template\n",
    "fig.update_layout(\n",
    "    template=\"simple_white\",\n",
    "    xaxis_title='Year',\n",
    "    yaxis_title='Number',\n",
    "    showlegend=False)\n",
    "\n",
    "fig.write_image(\n",
    "    directory + '/images/ema_outcome_applications_per_year_2000_2020.pdf')\n",
    "\n",
    "fig.show()"
   ]
  },
  {
   "cell_type": "markdown",
   "metadata": {},
   "source": [
    "**Figure 2:** EMA's record of orphan drug outcomes over time"
   ]
  },
  {
   "cell_type": "code",
   "execution_count": 6,
   "metadata": {},
   "outputs": [
    {
     "data": {
      "text/plain": [
       "1400"
      ]
     },
     "execution_count": 6,
     "metadata": {},
     "output_type": "execute_result"
    }
   ],
   "source": [
    "mask = time_evolution['Year'] >= 2010\n",
    "time_evolution[mask]['Positive'].sum()"
   ]
  },
  {
   "cell_type": "code",
   "execution_count": 7,
   "metadata": {},
   "outputs": [
    {
     "data": {
      "text/plain": [
       "480"
      ]
     },
     "execution_count": 7,
     "metadata": {},
     "output_type": "execute_result"
    }
   ],
   "source": [
    "mask = time_evolution['Year'] <= 2010\n",
    "time_evolution[mask]['Positive'].sum()"
   ]
  },
  {
   "cell_type": "markdown",
   "metadata": {},
   "source": [
    "## 2 Number of applications per active substance\n",
    "The substance names are transformed to lower case, but other than that there is no processing or matching of the names at this point"
   ]
  },
  {
   "cell_type": "markdown",
   "metadata": {},
   "source": [
    "### 2.1 Number of single applications versus number of multiple applications"
   ]
  },
  {
   "cell_type": "code",
   "execution_count": 8,
   "metadata": {
    "tags": []
   },
   "outputs": [
    {
     "data": {
      "application/vnd.plotly.v1+json": {
       "config": {
        "plotlyServerURL": "https://plot.ly"
       },
       "data": [
        {
         "labels": [
          "Single application",
          "Multiple applications"
         ],
         "marker": {
          "colors": [
           "#636EFA",
           "#EF553B"
          ],
          "line": {
           "color": "#000000",
           "width": 1
          }
         },
         "pull": [
          0,
          0.2
         ],
         "sort": false,
         "type": "pie",
         "values": [
          1190,
          212
         ]
        }
       ],
       "layout": {
        "template": {
         "data": {
          "bar": [
           {
            "error_x": {
             "color": "#2a3f5f"
            },
            "error_y": {
             "color": "#2a3f5f"
            },
            "marker": {
             "line": {
              "color": "#E5ECF6",
              "width": 0.5
             },
             "pattern": {
              "fillmode": "overlay",
              "size": 10,
              "solidity": 0.2
             }
            },
            "type": "bar"
           }
          ],
          "barpolar": [
           {
            "marker": {
             "line": {
              "color": "#E5ECF6",
              "width": 0.5
             },
             "pattern": {
              "fillmode": "overlay",
              "size": 10,
              "solidity": 0.2
             }
            },
            "type": "barpolar"
           }
          ],
          "carpet": [
           {
            "aaxis": {
             "endlinecolor": "#2a3f5f",
             "gridcolor": "white",
             "linecolor": "white",
             "minorgridcolor": "white",
             "startlinecolor": "#2a3f5f"
            },
            "baxis": {
             "endlinecolor": "#2a3f5f",
             "gridcolor": "white",
             "linecolor": "white",
             "minorgridcolor": "white",
             "startlinecolor": "#2a3f5f"
            },
            "type": "carpet"
           }
          ],
          "choropleth": [
           {
            "colorbar": {
             "outlinewidth": 0,
             "ticks": ""
            },
            "type": "choropleth"
           }
          ],
          "contour": [
           {
            "colorbar": {
             "outlinewidth": 0,
             "ticks": ""
            },
            "colorscale": [
             [
              0,
              "#0d0887"
             ],
             [
              0.1111111111111111,
              "#46039f"
             ],
             [
              0.2222222222222222,
              "#7201a8"
             ],
             [
              0.3333333333333333,
              "#9c179e"
             ],
             [
              0.4444444444444444,
              "#bd3786"
             ],
             [
              0.5555555555555556,
              "#d8576b"
             ],
             [
              0.6666666666666666,
              "#ed7953"
             ],
             [
              0.7777777777777778,
              "#fb9f3a"
             ],
             [
              0.8888888888888888,
              "#fdca26"
             ],
             [
              1,
              "#f0f921"
             ]
            ],
            "type": "contour"
           }
          ],
          "contourcarpet": [
           {
            "colorbar": {
             "outlinewidth": 0,
             "ticks": ""
            },
            "type": "contourcarpet"
           }
          ],
          "heatmap": [
           {
            "colorbar": {
             "outlinewidth": 0,
             "ticks": ""
            },
            "colorscale": [
             [
              0,
              "#0d0887"
             ],
             [
              0.1111111111111111,
              "#46039f"
             ],
             [
              0.2222222222222222,
              "#7201a8"
             ],
             [
              0.3333333333333333,
              "#9c179e"
             ],
             [
              0.4444444444444444,
              "#bd3786"
             ],
             [
              0.5555555555555556,
              "#d8576b"
             ],
             [
              0.6666666666666666,
              "#ed7953"
             ],
             [
              0.7777777777777778,
              "#fb9f3a"
             ],
             [
              0.8888888888888888,
              "#fdca26"
             ],
             [
              1,
              "#f0f921"
             ]
            ],
            "type": "heatmap"
           }
          ],
          "heatmapgl": [
           {
            "colorbar": {
             "outlinewidth": 0,
             "ticks": ""
            },
            "colorscale": [
             [
              0,
              "#0d0887"
             ],
             [
              0.1111111111111111,
              "#46039f"
             ],
             [
              0.2222222222222222,
              "#7201a8"
             ],
             [
              0.3333333333333333,
              "#9c179e"
             ],
             [
              0.4444444444444444,
              "#bd3786"
             ],
             [
              0.5555555555555556,
              "#d8576b"
             ],
             [
              0.6666666666666666,
              "#ed7953"
             ],
             [
              0.7777777777777778,
              "#fb9f3a"
             ],
             [
              0.8888888888888888,
              "#fdca26"
             ],
             [
              1,
              "#f0f921"
             ]
            ],
            "type": "heatmapgl"
           }
          ],
          "histogram": [
           {
            "marker": {
             "pattern": {
              "fillmode": "overlay",
              "size": 10,
              "solidity": 0.2
             }
            },
            "type": "histogram"
           }
          ],
          "histogram2d": [
           {
            "colorbar": {
             "outlinewidth": 0,
             "ticks": ""
            },
            "colorscale": [
             [
              0,
              "#0d0887"
             ],
             [
              0.1111111111111111,
              "#46039f"
             ],
             [
              0.2222222222222222,
              "#7201a8"
             ],
             [
              0.3333333333333333,
              "#9c179e"
             ],
             [
              0.4444444444444444,
              "#bd3786"
             ],
             [
              0.5555555555555556,
              "#d8576b"
             ],
             [
              0.6666666666666666,
              "#ed7953"
             ],
             [
              0.7777777777777778,
              "#fb9f3a"
             ],
             [
              0.8888888888888888,
              "#fdca26"
             ],
             [
              1,
              "#f0f921"
             ]
            ],
            "type": "histogram2d"
           }
          ],
          "histogram2dcontour": [
           {
            "colorbar": {
             "outlinewidth": 0,
             "ticks": ""
            },
            "colorscale": [
             [
              0,
              "#0d0887"
             ],
             [
              0.1111111111111111,
              "#46039f"
             ],
             [
              0.2222222222222222,
              "#7201a8"
             ],
             [
              0.3333333333333333,
              "#9c179e"
             ],
             [
              0.4444444444444444,
              "#bd3786"
             ],
             [
              0.5555555555555556,
              "#d8576b"
             ],
             [
              0.6666666666666666,
              "#ed7953"
             ],
             [
              0.7777777777777778,
              "#fb9f3a"
             ],
             [
              0.8888888888888888,
              "#fdca26"
             ],
             [
              1,
              "#f0f921"
             ]
            ],
            "type": "histogram2dcontour"
           }
          ],
          "mesh3d": [
           {
            "colorbar": {
             "outlinewidth": 0,
             "ticks": ""
            },
            "type": "mesh3d"
           }
          ],
          "parcoords": [
           {
            "line": {
             "colorbar": {
              "outlinewidth": 0,
              "ticks": ""
             }
            },
            "type": "parcoords"
           }
          ],
          "pie": [
           {
            "automargin": true,
            "type": "pie"
           }
          ],
          "scatter": [
           {
            "marker": {
             "colorbar": {
              "outlinewidth": 0,
              "ticks": ""
             }
            },
            "type": "scatter"
           }
          ],
          "scatter3d": [
           {
            "line": {
             "colorbar": {
              "outlinewidth": 0,
              "ticks": ""
             }
            },
            "marker": {
             "colorbar": {
              "outlinewidth": 0,
              "ticks": ""
             }
            },
            "type": "scatter3d"
           }
          ],
          "scattercarpet": [
           {
            "marker": {
             "colorbar": {
              "outlinewidth": 0,
              "ticks": ""
             }
            },
            "type": "scattercarpet"
           }
          ],
          "scattergeo": [
           {
            "marker": {
             "colorbar": {
              "outlinewidth": 0,
              "ticks": ""
             }
            },
            "type": "scattergeo"
           }
          ],
          "scattergl": [
           {
            "marker": {
             "colorbar": {
              "outlinewidth": 0,
              "ticks": ""
             }
            },
            "type": "scattergl"
           }
          ],
          "scattermapbox": [
           {
            "marker": {
             "colorbar": {
              "outlinewidth": 0,
              "ticks": ""
             }
            },
            "type": "scattermapbox"
           }
          ],
          "scatterpolar": [
           {
            "marker": {
             "colorbar": {
              "outlinewidth": 0,
              "ticks": ""
             }
            },
            "type": "scatterpolar"
           }
          ],
          "scatterpolargl": [
           {
            "marker": {
             "colorbar": {
              "outlinewidth": 0,
              "ticks": ""
             }
            },
            "type": "scatterpolargl"
           }
          ],
          "scatterternary": [
           {
            "marker": {
             "colorbar": {
              "outlinewidth": 0,
              "ticks": ""
             }
            },
            "type": "scatterternary"
           }
          ],
          "surface": [
           {
            "colorbar": {
             "outlinewidth": 0,
             "ticks": ""
            },
            "colorscale": [
             [
              0,
              "#0d0887"
             ],
             [
              0.1111111111111111,
              "#46039f"
             ],
             [
              0.2222222222222222,
              "#7201a8"
             ],
             [
              0.3333333333333333,
              "#9c179e"
             ],
             [
              0.4444444444444444,
              "#bd3786"
             ],
             [
              0.5555555555555556,
              "#d8576b"
             ],
             [
              0.6666666666666666,
              "#ed7953"
             ],
             [
              0.7777777777777778,
              "#fb9f3a"
             ],
             [
              0.8888888888888888,
              "#fdca26"
             ],
             [
              1,
              "#f0f921"
             ]
            ],
            "type": "surface"
           }
          ],
          "table": [
           {
            "cells": {
             "fill": {
              "color": "#EBF0F8"
             },
             "line": {
              "color": "white"
             }
            },
            "header": {
             "fill": {
              "color": "#C8D4E3"
             },
             "line": {
              "color": "white"
             }
            },
            "type": "table"
           }
          ]
         },
         "layout": {
          "annotationdefaults": {
           "arrowcolor": "#2a3f5f",
           "arrowhead": 0,
           "arrowwidth": 1
          },
          "autotypenumbers": "strict",
          "coloraxis": {
           "colorbar": {
            "outlinewidth": 0,
            "ticks": ""
           }
          },
          "colorscale": {
           "diverging": [
            [
             0,
             "#8e0152"
            ],
            [
             0.1,
             "#c51b7d"
            ],
            [
             0.2,
             "#de77ae"
            ],
            [
             0.3,
             "#f1b6da"
            ],
            [
             0.4,
             "#fde0ef"
            ],
            [
             0.5,
             "#f7f7f7"
            ],
            [
             0.6,
             "#e6f5d0"
            ],
            [
             0.7,
             "#b8e186"
            ],
            [
             0.8,
             "#7fbc41"
            ],
            [
             0.9,
             "#4d9221"
            ],
            [
             1,
             "#276419"
            ]
           ],
           "sequential": [
            [
             0,
             "#0d0887"
            ],
            [
             0.1111111111111111,
             "#46039f"
            ],
            [
             0.2222222222222222,
             "#7201a8"
            ],
            [
             0.3333333333333333,
             "#9c179e"
            ],
            [
             0.4444444444444444,
             "#bd3786"
            ],
            [
             0.5555555555555556,
             "#d8576b"
            ],
            [
             0.6666666666666666,
             "#ed7953"
            ],
            [
             0.7777777777777778,
             "#fb9f3a"
            ],
            [
             0.8888888888888888,
             "#fdca26"
            ],
            [
             1,
             "#f0f921"
            ]
           ],
           "sequentialminus": [
            [
             0,
             "#0d0887"
            ],
            [
             0.1111111111111111,
             "#46039f"
            ],
            [
             0.2222222222222222,
             "#7201a8"
            ],
            [
             0.3333333333333333,
             "#9c179e"
            ],
            [
             0.4444444444444444,
             "#bd3786"
            ],
            [
             0.5555555555555556,
             "#d8576b"
            ],
            [
             0.6666666666666666,
             "#ed7953"
            ],
            [
             0.7777777777777778,
             "#fb9f3a"
            ],
            [
             0.8888888888888888,
             "#fdca26"
            ],
            [
             1,
             "#f0f921"
            ]
           ]
          },
          "colorway": [
           "#636efa",
           "#EF553B",
           "#00cc96",
           "#ab63fa",
           "#FFA15A",
           "#19d3f3",
           "#FF6692",
           "#B6E880",
           "#FF97FF",
           "#FECB52"
          ],
          "font": {
           "color": "#2a3f5f"
          },
          "geo": {
           "bgcolor": "white",
           "lakecolor": "white",
           "landcolor": "#E5ECF6",
           "showlakes": true,
           "showland": true,
           "subunitcolor": "white"
          },
          "hoverlabel": {
           "align": "left"
          },
          "hovermode": "closest",
          "mapbox": {
           "style": "light"
          },
          "paper_bgcolor": "white",
          "plot_bgcolor": "#E5ECF6",
          "polar": {
           "angularaxis": {
            "gridcolor": "white",
            "linecolor": "white",
            "ticks": ""
           },
           "bgcolor": "#E5ECF6",
           "radialaxis": {
            "gridcolor": "white",
            "linecolor": "white",
            "ticks": ""
           }
          },
          "scene": {
           "xaxis": {
            "backgroundcolor": "#E5ECF6",
            "gridcolor": "white",
            "gridwidth": 2,
            "linecolor": "white",
            "showbackground": true,
            "ticks": "",
            "zerolinecolor": "white"
           },
           "yaxis": {
            "backgroundcolor": "#E5ECF6",
            "gridcolor": "white",
            "gridwidth": 2,
            "linecolor": "white",
            "showbackground": true,
            "ticks": "",
            "zerolinecolor": "white"
           },
           "zaxis": {
            "backgroundcolor": "#E5ECF6",
            "gridcolor": "white",
            "gridwidth": 2,
            "linecolor": "white",
            "showbackground": true,
            "ticks": "",
            "zerolinecolor": "white"
           }
          },
          "shapedefaults": {
           "line": {
            "color": "#2a3f5f"
           }
          },
          "ternary": {
           "aaxis": {
            "gridcolor": "white",
            "linecolor": "white",
            "ticks": ""
           },
           "baxis": {
            "gridcolor": "white",
            "linecolor": "white",
            "ticks": ""
           },
           "bgcolor": "#E5ECF6",
           "caxis": {
            "gridcolor": "white",
            "linecolor": "white",
            "ticks": ""
           }
          },
          "title": {
           "x": 0.05
          },
          "xaxis": {
           "automargin": true,
           "gridcolor": "white",
           "linecolor": "white",
           "ticks": "",
           "title": {
            "standoff": 15
           },
           "zerolinecolor": "white",
           "zerolinewidth": 2
          },
          "yaxis": {
           "automargin": true,
           "gridcolor": "white",
           "linecolor": "white",
           "ticks": "",
           "title": {
            "standoff": 15
           },
           "zerolinecolor": "white",
           "zerolinewidth": 2
          }
         }
        }
       }
      }
     },
     "metadata": {},
     "output_type": "display_data"
    }
   ],
   "source": [
    "# Create container for name, number of applications\n",
    "substance_applications = pd.DataFrame(columns={'Active substance', 'Number of applications'})\n",
    "\n",
    "# Get the number of applications\n",
    "temp = positive.copy()\n",
    "temp['Active substance'] = temp['Active substance'].str.lower()\n",
    "substances = temp['Active substance'].unique()\n",
    "for substance in substances:\n",
    "    # Get number\n",
    "    mask = temp['Active substance'] == substance\n",
    "    n_applications = len(temp[mask])\n",
    "\n",
    "    # Get years of designation\n",
    "    designation_date = ''\n",
    "    for date in temp[mask]['Date of designation / refusal of designation']:\n",
    "        if designation_date != '':\n",
    "            designation_date += '/'\n",
    "        designation_date += str(date)\n",
    "\n",
    "    # Get trade name\n",
    "    trade_name = ''\n",
    "    n_aproved = 0\n",
    "    for name in temp[mask]['Medicine name']:\n",
    "        try:\n",
    "            np.isnan(name)\n",
    "            continue\n",
    "        except TypeError:\n",
    "            if trade_name != '':\n",
    "                trade_name += '/'\n",
    "            trade_name += str(name)\n",
    "            n_aproved += 1\n",
    "\n",
    "    # Get indication\n",
    "    indication = ''\n",
    "    for ind in temp[mask]['Intended use']:\n",
    "        if indication != '':\n",
    "            indication += '/'\n",
    "        indication += str(ind)\n",
    "\n",
    "    # Append to container\n",
    "    substance_applications = substance_applications.append(pd.DataFrame({\n",
    "        'Active substance': [substance],\n",
    "        'Number of applications': [n_applications],\n",
    "        'Indication': indication,\n",
    "        'Designation date': designation_date,\n",
    "        'Trade name': trade_name,\n",
    "        'Approved / marketed application': n_aproved}))\n",
    "\n",
    "# Compute number of single and multi applications\n",
    "mask = substance_applications['Number of applications'] == 1\n",
    "n_single = len(substance_applications[mask])\n",
    "mask = substance_applications['Number of applications'] > 1\n",
    "n_multi = len(substance_applications[mask])\n",
    "\n",
    "# Create figure\n",
    "fig = go.Figure()\n",
    "colours = plotly.colors.qualitative.Plotly\n",
    "\n",
    "fig.add_trace(go.Pie(\n",
    "    labels=['Single application', 'Multiple applications'],\n",
    "    values=[n_single, n_multi],\n",
    "    sort=False,\n",
    "    pull=[0, 0.2],\n",
    "    marker=dict(\n",
    "        colors=colours[:2], \n",
    "        line=dict(color='#000000', width=1))))\n",
    "fig.show()"
   ]
  },
  {
   "cell_type": "markdown",
   "metadata": {},
   "source": [
    "**Figure 3:** Number of orphan status applications per active substance (combination of substances count as distinct, so do distinct names for the same substance)."
   ]
  },
  {
   "cell_type": "markdown",
   "metadata": {},
   "source": [
    "### 2.2 Distribution among multiple applications"
   ]
  },
  {
   "cell_type": "code",
   "execution_count": 9,
   "metadata": {},
   "outputs": [
    {
     "data": {
      "application/vnd.plotly.v1+json": {
       "config": {
        "plotlyServerURL": "https://plot.ly"
       },
       "data": [
        {
         "labels": [
          "1 ODD",
          "2 ODD",
          ">2 ODD"
         ],
         "marker": {
          "colors": [
           "rgb(77,175,74)",
           "rgb(55,126,184)",
           "rgb(228,26,28)"
          ],
          "line": {
           "color": "#000000",
           "width": 1
          }
         },
         "sort": false,
         "textinfo": "label+value+percent",
         "type": "pie",
         "values": [
          1190,
          150,
          62
         ]
        }
       ],
       "layout": {
        "showlegend": false,
        "template": {
         "data": {
          "bar": [
           {
            "error_x": {
             "color": "#2a3f5f"
            },
            "error_y": {
             "color": "#2a3f5f"
            },
            "marker": {
             "line": {
              "color": "#E5ECF6",
              "width": 0.5
             },
             "pattern": {
              "fillmode": "overlay",
              "size": 10,
              "solidity": 0.2
             }
            },
            "type": "bar"
           }
          ],
          "barpolar": [
           {
            "marker": {
             "line": {
              "color": "#E5ECF6",
              "width": 0.5
             },
             "pattern": {
              "fillmode": "overlay",
              "size": 10,
              "solidity": 0.2
             }
            },
            "type": "barpolar"
           }
          ],
          "carpet": [
           {
            "aaxis": {
             "endlinecolor": "#2a3f5f",
             "gridcolor": "white",
             "linecolor": "white",
             "minorgridcolor": "white",
             "startlinecolor": "#2a3f5f"
            },
            "baxis": {
             "endlinecolor": "#2a3f5f",
             "gridcolor": "white",
             "linecolor": "white",
             "minorgridcolor": "white",
             "startlinecolor": "#2a3f5f"
            },
            "type": "carpet"
           }
          ],
          "choropleth": [
           {
            "colorbar": {
             "outlinewidth": 0,
             "ticks": ""
            },
            "type": "choropleth"
           }
          ],
          "contour": [
           {
            "colorbar": {
             "outlinewidth": 0,
             "ticks": ""
            },
            "colorscale": [
             [
              0,
              "#0d0887"
             ],
             [
              0.1111111111111111,
              "#46039f"
             ],
             [
              0.2222222222222222,
              "#7201a8"
             ],
             [
              0.3333333333333333,
              "#9c179e"
             ],
             [
              0.4444444444444444,
              "#bd3786"
             ],
             [
              0.5555555555555556,
              "#d8576b"
             ],
             [
              0.6666666666666666,
              "#ed7953"
             ],
             [
              0.7777777777777778,
              "#fb9f3a"
             ],
             [
              0.8888888888888888,
              "#fdca26"
             ],
             [
              1,
              "#f0f921"
             ]
            ],
            "type": "contour"
           }
          ],
          "contourcarpet": [
           {
            "colorbar": {
             "outlinewidth": 0,
             "ticks": ""
            },
            "type": "contourcarpet"
           }
          ],
          "heatmap": [
           {
            "colorbar": {
             "outlinewidth": 0,
             "ticks": ""
            },
            "colorscale": [
             [
              0,
              "#0d0887"
             ],
             [
              0.1111111111111111,
              "#46039f"
             ],
             [
              0.2222222222222222,
              "#7201a8"
             ],
             [
              0.3333333333333333,
              "#9c179e"
             ],
             [
              0.4444444444444444,
              "#bd3786"
             ],
             [
              0.5555555555555556,
              "#d8576b"
             ],
             [
              0.6666666666666666,
              "#ed7953"
             ],
             [
              0.7777777777777778,
              "#fb9f3a"
             ],
             [
              0.8888888888888888,
              "#fdca26"
             ],
             [
              1,
              "#f0f921"
             ]
            ],
            "type": "heatmap"
           }
          ],
          "heatmapgl": [
           {
            "colorbar": {
             "outlinewidth": 0,
             "ticks": ""
            },
            "colorscale": [
             [
              0,
              "#0d0887"
             ],
             [
              0.1111111111111111,
              "#46039f"
             ],
             [
              0.2222222222222222,
              "#7201a8"
             ],
             [
              0.3333333333333333,
              "#9c179e"
             ],
             [
              0.4444444444444444,
              "#bd3786"
             ],
             [
              0.5555555555555556,
              "#d8576b"
             ],
             [
              0.6666666666666666,
              "#ed7953"
             ],
             [
              0.7777777777777778,
              "#fb9f3a"
             ],
             [
              0.8888888888888888,
              "#fdca26"
             ],
             [
              1,
              "#f0f921"
             ]
            ],
            "type": "heatmapgl"
           }
          ],
          "histogram": [
           {
            "marker": {
             "pattern": {
              "fillmode": "overlay",
              "size": 10,
              "solidity": 0.2
             }
            },
            "type": "histogram"
           }
          ],
          "histogram2d": [
           {
            "colorbar": {
             "outlinewidth": 0,
             "ticks": ""
            },
            "colorscale": [
             [
              0,
              "#0d0887"
             ],
             [
              0.1111111111111111,
              "#46039f"
             ],
             [
              0.2222222222222222,
              "#7201a8"
             ],
             [
              0.3333333333333333,
              "#9c179e"
             ],
             [
              0.4444444444444444,
              "#bd3786"
             ],
             [
              0.5555555555555556,
              "#d8576b"
             ],
             [
              0.6666666666666666,
              "#ed7953"
             ],
             [
              0.7777777777777778,
              "#fb9f3a"
             ],
             [
              0.8888888888888888,
              "#fdca26"
             ],
             [
              1,
              "#f0f921"
             ]
            ],
            "type": "histogram2d"
           }
          ],
          "histogram2dcontour": [
           {
            "colorbar": {
             "outlinewidth": 0,
             "ticks": ""
            },
            "colorscale": [
             [
              0,
              "#0d0887"
             ],
             [
              0.1111111111111111,
              "#46039f"
             ],
             [
              0.2222222222222222,
              "#7201a8"
             ],
             [
              0.3333333333333333,
              "#9c179e"
             ],
             [
              0.4444444444444444,
              "#bd3786"
             ],
             [
              0.5555555555555556,
              "#d8576b"
             ],
             [
              0.6666666666666666,
              "#ed7953"
             ],
             [
              0.7777777777777778,
              "#fb9f3a"
             ],
             [
              0.8888888888888888,
              "#fdca26"
             ],
             [
              1,
              "#f0f921"
             ]
            ],
            "type": "histogram2dcontour"
           }
          ],
          "mesh3d": [
           {
            "colorbar": {
             "outlinewidth": 0,
             "ticks": ""
            },
            "type": "mesh3d"
           }
          ],
          "parcoords": [
           {
            "line": {
             "colorbar": {
              "outlinewidth": 0,
              "ticks": ""
             }
            },
            "type": "parcoords"
           }
          ],
          "pie": [
           {
            "automargin": true,
            "type": "pie"
           }
          ],
          "scatter": [
           {
            "marker": {
             "colorbar": {
              "outlinewidth": 0,
              "ticks": ""
             }
            },
            "type": "scatter"
           }
          ],
          "scatter3d": [
           {
            "line": {
             "colorbar": {
              "outlinewidth": 0,
              "ticks": ""
             }
            },
            "marker": {
             "colorbar": {
              "outlinewidth": 0,
              "ticks": ""
             }
            },
            "type": "scatter3d"
           }
          ],
          "scattercarpet": [
           {
            "marker": {
             "colorbar": {
              "outlinewidth": 0,
              "ticks": ""
             }
            },
            "type": "scattercarpet"
           }
          ],
          "scattergeo": [
           {
            "marker": {
             "colorbar": {
              "outlinewidth": 0,
              "ticks": ""
             }
            },
            "type": "scattergeo"
           }
          ],
          "scattergl": [
           {
            "marker": {
             "colorbar": {
              "outlinewidth": 0,
              "ticks": ""
             }
            },
            "type": "scattergl"
           }
          ],
          "scattermapbox": [
           {
            "marker": {
             "colorbar": {
              "outlinewidth": 0,
              "ticks": ""
             }
            },
            "type": "scattermapbox"
           }
          ],
          "scatterpolar": [
           {
            "marker": {
             "colorbar": {
              "outlinewidth": 0,
              "ticks": ""
             }
            },
            "type": "scatterpolar"
           }
          ],
          "scatterpolargl": [
           {
            "marker": {
             "colorbar": {
              "outlinewidth": 0,
              "ticks": ""
             }
            },
            "type": "scatterpolargl"
           }
          ],
          "scatterternary": [
           {
            "marker": {
             "colorbar": {
              "outlinewidth": 0,
              "ticks": ""
             }
            },
            "type": "scatterternary"
           }
          ],
          "surface": [
           {
            "colorbar": {
             "outlinewidth": 0,
             "ticks": ""
            },
            "colorscale": [
             [
              0,
              "#0d0887"
             ],
             [
              0.1111111111111111,
              "#46039f"
             ],
             [
              0.2222222222222222,
              "#7201a8"
             ],
             [
              0.3333333333333333,
              "#9c179e"
             ],
             [
              0.4444444444444444,
              "#bd3786"
             ],
             [
              0.5555555555555556,
              "#d8576b"
             ],
             [
              0.6666666666666666,
              "#ed7953"
             ],
             [
              0.7777777777777778,
              "#fb9f3a"
             ],
             [
              0.8888888888888888,
              "#fdca26"
             ],
             [
              1,
              "#f0f921"
             ]
            ],
            "type": "surface"
           }
          ],
          "table": [
           {
            "cells": {
             "fill": {
              "color": "#EBF0F8"
             },
             "line": {
              "color": "white"
             }
            },
            "header": {
             "fill": {
              "color": "#C8D4E3"
             },
             "line": {
              "color": "white"
             }
            },
            "type": "table"
           }
          ]
         },
         "layout": {
          "annotationdefaults": {
           "arrowcolor": "#2a3f5f",
           "arrowhead": 0,
           "arrowwidth": 1
          },
          "autotypenumbers": "strict",
          "coloraxis": {
           "colorbar": {
            "outlinewidth": 0,
            "ticks": ""
           }
          },
          "colorscale": {
           "diverging": [
            [
             0,
             "#8e0152"
            ],
            [
             0.1,
             "#c51b7d"
            ],
            [
             0.2,
             "#de77ae"
            ],
            [
             0.3,
             "#f1b6da"
            ],
            [
             0.4,
             "#fde0ef"
            ],
            [
             0.5,
             "#f7f7f7"
            ],
            [
             0.6,
             "#e6f5d0"
            ],
            [
             0.7,
             "#b8e186"
            ],
            [
             0.8,
             "#7fbc41"
            ],
            [
             0.9,
             "#4d9221"
            ],
            [
             1,
             "#276419"
            ]
           ],
           "sequential": [
            [
             0,
             "#0d0887"
            ],
            [
             0.1111111111111111,
             "#46039f"
            ],
            [
             0.2222222222222222,
             "#7201a8"
            ],
            [
             0.3333333333333333,
             "#9c179e"
            ],
            [
             0.4444444444444444,
             "#bd3786"
            ],
            [
             0.5555555555555556,
             "#d8576b"
            ],
            [
             0.6666666666666666,
             "#ed7953"
            ],
            [
             0.7777777777777778,
             "#fb9f3a"
            ],
            [
             0.8888888888888888,
             "#fdca26"
            ],
            [
             1,
             "#f0f921"
            ]
           ],
           "sequentialminus": [
            [
             0,
             "#0d0887"
            ],
            [
             0.1111111111111111,
             "#46039f"
            ],
            [
             0.2222222222222222,
             "#7201a8"
            ],
            [
             0.3333333333333333,
             "#9c179e"
            ],
            [
             0.4444444444444444,
             "#bd3786"
            ],
            [
             0.5555555555555556,
             "#d8576b"
            ],
            [
             0.6666666666666666,
             "#ed7953"
            ],
            [
             0.7777777777777778,
             "#fb9f3a"
            ],
            [
             0.8888888888888888,
             "#fdca26"
            ],
            [
             1,
             "#f0f921"
            ]
           ]
          },
          "colorway": [
           "#636efa",
           "#EF553B",
           "#00cc96",
           "#ab63fa",
           "#FFA15A",
           "#19d3f3",
           "#FF6692",
           "#B6E880",
           "#FF97FF",
           "#FECB52"
          ],
          "font": {
           "color": "#2a3f5f"
          },
          "geo": {
           "bgcolor": "white",
           "lakecolor": "white",
           "landcolor": "#E5ECF6",
           "showlakes": true,
           "showland": true,
           "subunitcolor": "white"
          },
          "hoverlabel": {
           "align": "left"
          },
          "hovermode": "closest",
          "mapbox": {
           "style": "light"
          },
          "paper_bgcolor": "white",
          "plot_bgcolor": "#E5ECF6",
          "polar": {
           "angularaxis": {
            "gridcolor": "white",
            "linecolor": "white",
            "ticks": ""
           },
           "bgcolor": "#E5ECF6",
           "radialaxis": {
            "gridcolor": "white",
            "linecolor": "white",
            "ticks": ""
           }
          },
          "scene": {
           "xaxis": {
            "backgroundcolor": "#E5ECF6",
            "gridcolor": "white",
            "gridwidth": 2,
            "linecolor": "white",
            "showbackground": true,
            "ticks": "",
            "zerolinecolor": "white"
           },
           "yaxis": {
            "backgroundcolor": "#E5ECF6",
            "gridcolor": "white",
            "gridwidth": 2,
            "linecolor": "white",
            "showbackground": true,
            "ticks": "",
            "zerolinecolor": "white"
           },
           "zaxis": {
            "backgroundcolor": "#E5ECF6",
            "gridcolor": "white",
            "gridwidth": 2,
            "linecolor": "white",
            "showbackground": true,
            "ticks": "",
            "zerolinecolor": "white"
           }
          },
          "shapedefaults": {
           "line": {
            "color": "#2a3f5f"
           }
          },
          "ternary": {
           "aaxis": {
            "gridcolor": "white",
            "linecolor": "white",
            "ticks": ""
           },
           "baxis": {
            "gridcolor": "white",
            "linecolor": "white",
            "ticks": ""
           },
           "bgcolor": "#E5ECF6",
           "caxis": {
            "gridcolor": "white",
            "linecolor": "white",
            "ticks": ""
           }
          },
          "title": {
           "x": 0.05
          },
          "xaxis": {
           "automargin": true,
           "gridcolor": "white",
           "linecolor": "white",
           "ticks": "",
           "title": {
            "standoff": 15
           },
           "zerolinecolor": "white",
           "zerolinewidth": 2
          },
          "yaxis": {
           "automargin": true,
           "gridcolor": "white",
           "linecolor": "white",
           "ticks": "",
           "title": {
            "standoff": 15
           },
           "zerolinecolor": "white",
           "zerolinewidth": 2
          }
         }
        }
       }
      }
     },
     "metadata": {},
     "output_type": "display_data"
    }
   ],
   "source": [
    "# Sort by number of applications\n",
    "substance_applications.sort_values(by='Number of applications', inplace=True)\n",
    "\n",
    "# Get number of applications\n",
    "n_applications = []\n",
    "n_substances = []\n",
    "for n_application in substance_applications['Number of applications'].unique():\n",
    "    # Skip if only one application\n",
    "    if n_application == 0:\n",
    "        continue\n",
    "\n",
    "    # Get number of substances\n",
    "    mask = substance_applications['Number of applications'] == n_application\n",
    "    number = len(substance_applications[mask])\n",
    "\n",
    "    # Append to containers\n",
    "    n_applications.append(n_application)\n",
    "    n_substances.append(number)\n",
    "\n",
    "# Accumulate >= 5 applications\n",
    "n_applications = np.array(n_applications)\n",
    "n_substances = np.array(n_substances)\n",
    "mask = n_applications >= 3\n",
    "n_substances_five_or_more = np.sum(n_substances[mask])\n",
    "n_applications = n_applications[~mask]\n",
    "n_substances = list(n_substances[~mask])\n",
    "\n",
    "# Create figure\n",
    "fig = go.Figure()\n",
    "colours = plotly.colors.qualitative.Set1\n",
    "n_colours = len(n_substances) + 1\n",
    "\n",
    "fig.add_trace(go.Pie(\n",
    "    labels=['%s ODD' % str(n) for n in n_applications] + ['>2 ODD'],\n",
    "    values=n_substances + [n_substances_five_or_more],\n",
    "    textinfo='label+value+percent',\n",
    "    sort=False,\n",
    "    marker=dict(\n",
    "        colors=[colours[2], colours[1], colours[0]],\n",
    "        line=dict(color='#000000', width=1))))\n",
    "\n",
    "fig.update_layout(showlegend=False)\n",
    "\n",
    "fig.write_image(\n",
    "    directory + '/images/ema_number_OD_designations_per_product_2000_2020.pdf')\n",
    "\n",
    "fig.show()"
   ]
  },
  {
   "cell_type": "markdown",
   "metadata": {},
   "source": [
    "**Figure 4:** Number of orphan status applications per active substance with more than one application(combination of substances count as distinct, so do distinct names for the same substance)."
   ]
  },
  {
   "cell_type": "markdown",
   "metadata": {},
   "source": [
    "## Get brand names"
   ]
  },
  {
   "cell_type": "code",
   "execution_count": 10,
   "metadata": {},
   "outputs": [
    {
     "data": {
      "text/html": [
       "<div>\n",
       "<style scoped>\n",
       "    .dataframe tbody tr th:only-of-type {\n",
       "        vertical-align: middle;\n",
       "    }\n",
       "\n",
       "    .dataframe tbody tr th {\n",
       "        vertical-align: top;\n",
       "    }\n",
       "\n",
       "    .dataframe thead th {\n",
       "        text-align: right;\n",
       "    }\n",
       "</style>\n",
       "<table border=\"1\" class=\"dataframe\">\n",
       "  <thead>\n",
       "    <tr style=\"text-align: right;\">\n",
       "      <th></th>\n",
       "      <th>Number of applications</th>\n",
       "      <th>Active substance</th>\n",
       "      <th>Indication</th>\n",
       "      <th>Designation date</th>\n",
       "      <th>Trade name</th>\n",
       "      <th>Approved / marketed application</th>\n",
       "    </tr>\n",
       "  </thead>\n",
       "  <tbody>\n",
       "    <tr>\n",
       "      <th>0</th>\n",
       "      <td>1</td>\n",
       "      <td>caffeine citrate</td>\n",
       "      <td>Prevention of bronchopulmonary dysplasia</td>\n",
       "      <td>2014-04-11 02:00:00</td>\n",
       "      <td>Blectifor,</td>\n",
       "      <td>1.0</td>\n",
       "    </tr>\n",
       "    <tr>\n",
       "      <th>0</th>\n",
       "      <td>1</td>\n",
       "      <td>phosphorothioate oligonucleotide targeted to t...</td>\n",
       "      <td>Treatment of ATTR amyloidosis</td>\n",
       "      <td>2014-03-26 01:00:00</td>\n",
       "      <td>Tegsedi,</td>\n",
       "      <td>1.0</td>\n",
       "    </tr>\n",
       "    <tr>\n",
       "      <th>0</th>\n",
       "      <td>1</td>\n",
       "      <td>human coagulation factor x</td>\n",
       "      <td>Treatment of hereditary factor X deficiency</td>\n",
       "      <td>2007-09-14 00:00:00</td>\n",
       "      <td>Coagadex,</td>\n",
       "      <td>1.0</td>\n",
       "    </tr>\n",
       "    <tr>\n",
       "      <th>0</th>\n",
       "      <td>1</td>\n",
       "      <td>mannitolum</td>\n",
       "      <td>Treatment of cystic fibrosis</td>\n",
       "      <td>2005-11-07 01:00:00</td>\n",
       "      <td>Bronchitol,</td>\n",
       "      <td>1.0</td>\n",
       "    </tr>\n",
       "    <tr>\n",
       "      <th>0</th>\n",
       "      <td>1</td>\n",
       "      <td>autologous haematopoietic stem cells transduce...</td>\n",
       "      <td>Treatment of adrenoleukodystrophy</td>\n",
       "      <td>2012-06-06 00:00:00</td>\n",
       "      <td>Skysona,</td>\n",
       "      <td>1.0</td>\n",
       "    </tr>\n",
       "    <tr>\n",
       "      <th>...</th>\n",
       "      <td>...</td>\n",
       "      <td>...</td>\n",
       "      <td>...</td>\n",
       "      <td>...</td>\n",
       "      <td>...</td>\n",
       "      <td>...</td>\n",
       "    </tr>\n",
       "    <tr>\n",
       "      <th>0</th>\n",
       "      <td>7</td>\n",
       "      <td>glyceryl tri-(4-phenylbutyrate)</td>\n",
       "      <td>Treatment of carbamoyl-phosphate synthase-1 de...</td>\n",
       "      <td>2010-02-03 01:00:00/2010-06-10 00:00:00/2010-0...</td>\n",
       "      <td>Ravicti, /Ravicti, /Ravicti, /Ravicti, /Ravict...</td>\n",
       "      <td>6.0</td>\n",
       "    </tr>\n",
       "    <tr>\n",
       "      <th>0</th>\n",
       "      <td>7</td>\n",
       "      <td>cannabidiol</td>\n",
       "      <td>Treatment of perinatal asphyxia/Prevention of ...</td>\n",
       "      <td>2015-07-28 00:00:00/2016-04-28 02:00:00/2016-0...</td>\n",
       "      <td>Epidyolex, /Epidyolex, /Epidyolex,</td>\n",
       "      <td>3.0</td>\n",
       "    </tr>\n",
       "    <tr>\n",
       "      <th>0</th>\n",
       "      <td>7</td>\n",
       "      <td>ciclosporin</td>\n",
       "      <td>Treatment of atopic keratoconjunctivitis/Treat...</td>\n",
       "      <td>2009-07-24 00:00:00/2007-10-29 01:00:00/2007-1...</td>\n",
       "      <td>Verkazia,</td>\n",
       "      <td>1.0</td>\n",
       "    </tr>\n",
       "    <tr>\n",
       "      <th>0</th>\n",
       "      <td>9</td>\n",
       "      <td>sirolimus</td>\n",
       "      <td>Treatment of chronic non-infectious uveitis/Tr...</td>\n",
       "      <td>2011-08-30 02:00:00/2015-10-09 02:00:00/2016-0...</td>\n",
       "      <td>Xegafri,</td>\n",
       "      <td>1.0</td>\n",
       "    </tr>\n",
       "    <tr>\n",
       "      <th>0</th>\n",
       "      <td>14</td>\n",
       "      <td>sodium benzoate</td>\n",
       "      <td>Treatment of ornithine transcarbamylase defici...</td>\n",
       "      <td>2016-07-14 02:00:00/2016-07-14 02:00:00/2016-0...</td>\n",
       "      <td>Prohippur, /Prohippur, /Prohippur, /Prohippur,...</td>\n",
       "      <td>8.0</td>\n",
       "    </tr>\n",
       "  </tbody>\n",
       "</table>\n",
       "<p>173 rows × 6 columns</p>\n",
       "</div>"
      ],
      "text/plain": [
       "   Number of applications                                   Active substance  \\\n",
       "0                       1                                   caffeine citrate   \n",
       "0                       1  phosphorothioate oligonucleotide targeted to t...   \n",
       "0                       1                         human coagulation factor x   \n",
       "0                       1                                         mannitolum   \n",
       "0                       1  autologous haematopoietic stem cells transduce...   \n",
       "..                    ...                                                ...   \n",
       "0                       7                    glyceryl tri-(4-phenylbutyrate)   \n",
       "0                       7                                        cannabidiol   \n",
       "0                       7                                        ciclosporin   \n",
       "0                       9                                          sirolimus   \n",
       "0                      14                                    sodium benzoate   \n",
       "\n",
       "                                           Indication  \\\n",
       "0            Prevention of bronchopulmonary dysplasia   \n",
       "0                       Treatment of ATTR amyloidosis   \n",
       "0         Treatment of hereditary factor X deficiency   \n",
       "0                        Treatment of cystic fibrosis   \n",
       "0                   Treatment of adrenoleukodystrophy   \n",
       "..                                                ...   \n",
       "0   Treatment of carbamoyl-phosphate synthase-1 de...   \n",
       "0   Treatment of perinatal asphyxia/Prevention of ...   \n",
       "0   Treatment of atopic keratoconjunctivitis/Treat...   \n",
       "0   Treatment of chronic non-infectious uveitis/Tr...   \n",
       "0   Treatment of ornithine transcarbamylase defici...   \n",
       "\n",
       "                                     Designation date  \\\n",
       "0                                 2014-04-11 02:00:00   \n",
       "0                                 2014-03-26 01:00:00   \n",
       "0                                 2007-09-14 00:00:00   \n",
       "0                                 2005-11-07 01:00:00   \n",
       "0                                 2012-06-06 00:00:00   \n",
       "..                                                ...   \n",
       "0   2010-02-03 01:00:00/2010-06-10 00:00:00/2010-0...   \n",
       "0   2015-07-28 00:00:00/2016-04-28 02:00:00/2016-0...   \n",
       "0   2009-07-24 00:00:00/2007-10-29 01:00:00/2007-1...   \n",
       "0   2011-08-30 02:00:00/2015-10-09 02:00:00/2016-0...   \n",
       "0   2016-07-14 02:00:00/2016-07-14 02:00:00/2016-0...   \n",
       "\n",
       "                                           Trade name  \\\n",
       "0                                         Blectifor,    \n",
       "0                                           Tegsedi,    \n",
       "0                                          Coagadex,    \n",
       "0                                        Bronchitol,    \n",
       "0                                           Skysona,    \n",
       "..                                                ...   \n",
       "0   Ravicti, /Ravicti, /Ravicti, /Ravicti, /Ravict...   \n",
       "0                 Epidyolex, /Epidyolex, /Epidyolex,    \n",
       "0                                          Verkazia,    \n",
       "0                                           Xegafri,    \n",
       "0   Prohippur, /Prohippur, /Prohippur, /Prohippur,...   \n",
       "\n",
       "    Approved / marketed application  \n",
       "0                               1.0  \n",
       "0                               1.0  \n",
       "0                               1.0  \n",
       "0                               1.0  \n",
       "0                               1.0  \n",
       "..                              ...  \n",
       "0                               6.0  \n",
       "0                               3.0  \n",
       "0                               1.0  \n",
       "0                               1.0  \n",
       "0                               8.0  \n",
       "\n",
       "[173 rows x 6 columns]"
      ]
     },
     "execution_count": 10,
     "metadata": {},
     "output_type": "execute_result"
    }
   ],
   "source": [
    "mask = substance_applications['Trade name'] != ''\n",
    "substance_applications[mask]"
   ]
  },
  {
   "cell_type": "code",
   "execution_count": 11,
   "metadata": {},
   "outputs": [
    {
     "data": {
      "application/vnd.plotly.v1+json": {
       "config": {
        "plotlyServerURL": "https://plot.ly"
       },
       "data": [
        {
         "labels": [
          "Marketed",
          "Not marketed"
         ],
         "marker": {
          "colors": [
           "rgb(77,175,74)",
           "rgb(55,126,184)"
          ],
          "line": {
           "color": "#000000",
           "width": 1
          }
         },
         "sort": false,
         "textinfo": "label+value+percent",
         "type": "pie",
         "values": [
          215,
          1532
         ]
        }
       ],
       "layout": {
        "showlegend": false,
        "template": {
         "data": {
          "bar": [
           {
            "error_x": {
             "color": "#2a3f5f"
            },
            "error_y": {
             "color": "#2a3f5f"
            },
            "marker": {
             "line": {
              "color": "#E5ECF6",
              "width": 0.5
             },
             "pattern": {
              "fillmode": "overlay",
              "size": 10,
              "solidity": 0.2
             }
            },
            "type": "bar"
           }
          ],
          "barpolar": [
           {
            "marker": {
             "line": {
              "color": "#E5ECF6",
              "width": 0.5
             },
             "pattern": {
              "fillmode": "overlay",
              "size": 10,
              "solidity": 0.2
             }
            },
            "type": "barpolar"
           }
          ],
          "carpet": [
           {
            "aaxis": {
             "endlinecolor": "#2a3f5f",
             "gridcolor": "white",
             "linecolor": "white",
             "minorgridcolor": "white",
             "startlinecolor": "#2a3f5f"
            },
            "baxis": {
             "endlinecolor": "#2a3f5f",
             "gridcolor": "white",
             "linecolor": "white",
             "minorgridcolor": "white",
             "startlinecolor": "#2a3f5f"
            },
            "type": "carpet"
           }
          ],
          "choropleth": [
           {
            "colorbar": {
             "outlinewidth": 0,
             "ticks": ""
            },
            "type": "choropleth"
           }
          ],
          "contour": [
           {
            "colorbar": {
             "outlinewidth": 0,
             "ticks": ""
            },
            "colorscale": [
             [
              0,
              "#0d0887"
             ],
             [
              0.1111111111111111,
              "#46039f"
             ],
             [
              0.2222222222222222,
              "#7201a8"
             ],
             [
              0.3333333333333333,
              "#9c179e"
             ],
             [
              0.4444444444444444,
              "#bd3786"
             ],
             [
              0.5555555555555556,
              "#d8576b"
             ],
             [
              0.6666666666666666,
              "#ed7953"
             ],
             [
              0.7777777777777778,
              "#fb9f3a"
             ],
             [
              0.8888888888888888,
              "#fdca26"
             ],
             [
              1,
              "#f0f921"
             ]
            ],
            "type": "contour"
           }
          ],
          "contourcarpet": [
           {
            "colorbar": {
             "outlinewidth": 0,
             "ticks": ""
            },
            "type": "contourcarpet"
           }
          ],
          "heatmap": [
           {
            "colorbar": {
             "outlinewidth": 0,
             "ticks": ""
            },
            "colorscale": [
             [
              0,
              "#0d0887"
             ],
             [
              0.1111111111111111,
              "#46039f"
             ],
             [
              0.2222222222222222,
              "#7201a8"
             ],
             [
              0.3333333333333333,
              "#9c179e"
             ],
             [
              0.4444444444444444,
              "#bd3786"
             ],
             [
              0.5555555555555556,
              "#d8576b"
             ],
             [
              0.6666666666666666,
              "#ed7953"
             ],
             [
              0.7777777777777778,
              "#fb9f3a"
             ],
             [
              0.8888888888888888,
              "#fdca26"
             ],
             [
              1,
              "#f0f921"
             ]
            ],
            "type": "heatmap"
           }
          ],
          "heatmapgl": [
           {
            "colorbar": {
             "outlinewidth": 0,
             "ticks": ""
            },
            "colorscale": [
             [
              0,
              "#0d0887"
             ],
             [
              0.1111111111111111,
              "#46039f"
             ],
             [
              0.2222222222222222,
              "#7201a8"
             ],
             [
              0.3333333333333333,
              "#9c179e"
             ],
             [
              0.4444444444444444,
              "#bd3786"
             ],
             [
              0.5555555555555556,
              "#d8576b"
             ],
             [
              0.6666666666666666,
              "#ed7953"
             ],
             [
              0.7777777777777778,
              "#fb9f3a"
             ],
             [
              0.8888888888888888,
              "#fdca26"
             ],
             [
              1,
              "#f0f921"
             ]
            ],
            "type": "heatmapgl"
           }
          ],
          "histogram": [
           {
            "marker": {
             "pattern": {
              "fillmode": "overlay",
              "size": 10,
              "solidity": 0.2
             }
            },
            "type": "histogram"
           }
          ],
          "histogram2d": [
           {
            "colorbar": {
             "outlinewidth": 0,
             "ticks": ""
            },
            "colorscale": [
             [
              0,
              "#0d0887"
             ],
             [
              0.1111111111111111,
              "#46039f"
             ],
             [
              0.2222222222222222,
              "#7201a8"
             ],
             [
              0.3333333333333333,
              "#9c179e"
             ],
             [
              0.4444444444444444,
              "#bd3786"
             ],
             [
              0.5555555555555556,
              "#d8576b"
             ],
             [
              0.6666666666666666,
              "#ed7953"
             ],
             [
              0.7777777777777778,
              "#fb9f3a"
             ],
             [
              0.8888888888888888,
              "#fdca26"
             ],
             [
              1,
              "#f0f921"
             ]
            ],
            "type": "histogram2d"
           }
          ],
          "histogram2dcontour": [
           {
            "colorbar": {
             "outlinewidth": 0,
             "ticks": ""
            },
            "colorscale": [
             [
              0,
              "#0d0887"
             ],
             [
              0.1111111111111111,
              "#46039f"
             ],
             [
              0.2222222222222222,
              "#7201a8"
             ],
             [
              0.3333333333333333,
              "#9c179e"
             ],
             [
              0.4444444444444444,
              "#bd3786"
             ],
             [
              0.5555555555555556,
              "#d8576b"
             ],
             [
              0.6666666666666666,
              "#ed7953"
             ],
             [
              0.7777777777777778,
              "#fb9f3a"
             ],
             [
              0.8888888888888888,
              "#fdca26"
             ],
             [
              1,
              "#f0f921"
             ]
            ],
            "type": "histogram2dcontour"
           }
          ],
          "mesh3d": [
           {
            "colorbar": {
             "outlinewidth": 0,
             "ticks": ""
            },
            "type": "mesh3d"
           }
          ],
          "parcoords": [
           {
            "line": {
             "colorbar": {
              "outlinewidth": 0,
              "ticks": ""
             }
            },
            "type": "parcoords"
           }
          ],
          "pie": [
           {
            "automargin": true,
            "type": "pie"
           }
          ],
          "scatter": [
           {
            "marker": {
             "colorbar": {
              "outlinewidth": 0,
              "ticks": ""
             }
            },
            "type": "scatter"
           }
          ],
          "scatter3d": [
           {
            "line": {
             "colorbar": {
              "outlinewidth": 0,
              "ticks": ""
             }
            },
            "marker": {
             "colorbar": {
              "outlinewidth": 0,
              "ticks": ""
             }
            },
            "type": "scatter3d"
           }
          ],
          "scattercarpet": [
           {
            "marker": {
             "colorbar": {
              "outlinewidth": 0,
              "ticks": ""
             }
            },
            "type": "scattercarpet"
           }
          ],
          "scattergeo": [
           {
            "marker": {
             "colorbar": {
              "outlinewidth": 0,
              "ticks": ""
             }
            },
            "type": "scattergeo"
           }
          ],
          "scattergl": [
           {
            "marker": {
             "colorbar": {
              "outlinewidth": 0,
              "ticks": ""
             }
            },
            "type": "scattergl"
           }
          ],
          "scattermapbox": [
           {
            "marker": {
             "colorbar": {
              "outlinewidth": 0,
              "ticks": ""
             }
            },
            "type": "scattermapbox"
           }
          ],
          "scatterpolar": [
           {
            "marker": {
             "colorbar": {
              "outlinewidth": 0,
              "ticks": ""
             }
            },
            "type": "scatterpolar"
           }
          ],
          "scatterpolargl": [
           {
            "marker": {
             "colorbar": {
              "outlinewidth": 0,
              "ticks": ""
             }
            },
            "type": "scatterpolargl"
           }
          ],
          "scatterternary": [
           {
            "marker": {
             "colorbar": {
              "outlinewidth": 0,
              "ticks": ""
             }
            },
            "type": "scatterternary"
           }
          ],
          "surface": [
           {
            "colorbar": {
             "outlinewidth": 0,
             "ticks": ""
            },
            "colorscale": [
             [
              0,
              "#0d0887"
             ],
             [
              0.1111111111111111,
              "#46039f"
             ],
             [
              0.2222222222222222,
              "#7201a8"
             ],
             [
              0.3333333333333333,
              "#9c179e"
             ],
             [
              0.4444444444444444,
              "#bd3786"
             ],
             [
              0.5555555555555556,
              "#d8576b"
             ],
             [
              0.6666666666666666,
              "#ed7953"
             ],
             [
              0.7777777777777778,
              "#fb9f3a"
             ],
             [
              0.8888888888888888,
              "#fdca26"
             ],
             [
              1,
              "#f0f921"
             ]
            ],
            "type": "surface"
           }
          ],
          "table": [
           {
            "cells": {
             "fill": {
              "color": "#EBF0F8"
             },
             "line": {
              "color": "white"
             }
            },
            "header": {
             "fill": {
              "color": "#C8D4E3"
             },
             "line": {
              "color": "white"
             }
            },
            "type": "table"
           }
          ]
         },
         "layout": {
          "annotationdefaults": {
           "arrowcolor": "#2a3f5f",
           "arrowhead": 0,
           "arrowwidth": 1
          },
          "autotypenumbers": "strict",
          "coloraxis": {
           "colorbar": {
            "outlinewidth": 0,
            "ticks": ""
           }
          },
          "colorscale": {
           "diverging": [
            [
             0,
             "#8e0152"
            ],
            [
             0.1,
             "#c51b7d"
            ],
            [
             0.2,
             "#de77ae"
            ],
            [
             0.3,
             "#f1b6da"
            ],
            [
             0.4,
             "#fde0ef"
            ],
            [
             0.5,
             "#f7f7f7"
            ],
            [
             0.6,
             "#e6f5d0"
            ],
            [
             0.7,
             "#b8e186"
            ],
            [
             0.8,
             "#7fbc41"
            ],
            [
             0.9,
             "#4d9221"
            ],
            [
             1,
             "#276419"
            ]
           ],
           "sequential": [
            [
             0,
             "#0d0887"
            ],
            [
             0.1111111111111111,
             "#46039f"
            ],
            [
             0.2222222222222222,
             "#7201a8"
            ],
            [
             0.3333333333333333,
             "#9c179e"
            ],
            [
             0.4444444444444444,
             "#bd3786"
            ],
            [
             0.5555555555555556,
             "#d8576b"
            ],
            [
             0.6666666666666666,
             "#ed7953"
            ],
            [
             0.7777777777777778,
             "#fb9f3a"
            ],
            [
             0.8888888888888888,
             "#fdca26"
            ],
            [
             1,
             "#f0f921"
            ]
           ],
           "sequentialminus": [
            [
             0,
             "#0d0887"
            ],
            [
             0.1111111111111111,
             "#46039f"
            ],
            [
             0.2222222222222222,
             "#7201a8"
            ],
            [
             0.3333333333333333,
             "#9c179e"
            ],
            [
             0.4444444444444444,
             "#bd3786"
            ],
            [
             0.5555555555555556,
             "#d8576b"
            ],
            [
             0.6666666666666666,
             "#ed7953"
            ],
            [
             0.7777777777777778,
             "#fb9f3a"
            ],
            [
             0.8888888888888888,
             "#fdca26"
            ],
            [
             1,
             "#f0f921"
            ]
           ]
          },
          "colorway": [
           "#636efa",
           "#EF553B",
           "#00cc96",
           "#ab63fa",
           "#FFA15A",
           "#19d3f3",
           "#FF6692",
           "#B6E880",
           "#FF97FF",
           "#FECB52"
          ],
          "font": {
           "color": "#2a3f5f"
          },
          "geo": {
           "bgcolor": "white",
           "lakecolor": "white",
           "landcolor": "#E5ECF6",
           "showlakes": true,
           "showland": true,
           "subunitcolor": "white"
          },
          "hoverlabel": {
           "align": "left"
          },
          "hovermode": "closest",
          "mapbox": {
           "style": "light"
          },
          "paper_bgcolor": "white",
          "plot_bgcolor": "#E5ECF6",
          "polar": {
           "angularaxis": {
            "gridcolor": "white",
            "linecolor": "white",
            "ticks": ""
           },
           "bgcolor": "#E5ECF6",
           "radialaxis": {
            "gridcolor": "white",
            "linecolor": "white",
            "ticks": ""
           }
          },
          "scene": {
           "xaxis": {
            "backgroundcolor": "#E5ECF6",
            "gridcolor": "white",
            "gridwidth": 2,
            "linecolor": "white",
            "showbackground": true,
            "ticks": "",
            "zerolinecolor": "white"
           },
           "yaxis": {
            "backgroundcolor": "#E5ECF6",
            "gridcolor": "white",
            "gridwidth": 2,
            "linecolor": "white",
            "showbackground": true,
            "ticks": "",
            "zerolinecolor": "white"
           },
           "zaxis": {
            "backgroundcolor": "#E5ECF6",
            "gridcolor": "white",
            "gridwidth": 2,
            "linecolor": "white",
            "showbackground": true,
            "ticks": "",
            "zerolinecolor": "white"
           }
          },
          "shapedefaults": {
           "line": {
            "color": "#2a3f5f"
           }
          },
          "ternary": {
           "aaxis": {
            "gridcolor": "white",
            "linecolor": "white",
            "ticks": ""
           },
           "baxis": {
            "gridcolor": "white",
            "linecolor": "white",
            "ticks": ""
           },
           "bgcolor": "#E5ECF6",
           "caxis": {
            "gridcolor": "white",
            "linecolor": "white",
            "ticks": ""
           }
          },
          "title": {
           "x": 0.05
          },
          "xaxis": {
           "automargin": true,
           "gridcolor": "white",
           "linecolor": "white",
           "ticks": "",
           "title": {
            "standoff": 15
           },
           "zerolinecolor": "white",
           "zerolinewidth": 2
          },
          "yaxis": {
           "automargin": true,
           "gridcolor": "white",
           "linecolor": "white",
           "ticks": "",
           "title": {
            "standoff": 15
           },
           "zerolinecolor": "white",
           "zerolinewidth": 2
          }
         }
        }
       }
      }
     },
     "metadata": {},
     "output_type": "display_data"
    }
   ],
   "source": [
    "n_total = len(positive)\n",
    "n_marketed = np.sum(substance_applications['Approved / marketed application'])\n",
    "\n",
    "# Create figure\n",
    "fig = go.Figure()\n",
    "colours = plotly.colors.qualitative.Set1\n",
    "\n",
    "fig.add_trace(go.Pie(\n",
    "    labels=[\n",
    "        'Marketed'] + ['Not marketed'],\n",
    "    values=[n_marketed, n_total - n_marketed],\n",
    "    textinfo='label+value+percent',\n",
    "    sort=False,\n",
    "    marker=dict(\n",
    "        colors=[colours[2], colours[1]],\n",
    "        line=dict(color='#000000', width=1))))\n",
    "fig.update_layout(showlegend=False)\n",
    "\n",
    "fig.write_image(\n",
    "    directory + '/images/ema_OD_market_authorisations_2000_2020.pdf')\n",
    "fig.show()"
   ]
  },
  {
   "cell_type": "code",
   "execution_count": null,
   "metadata": {},
   "outputs": [],
   "source": []
  },
  {
   "cell_type": "code",
   "execution_count": 75,
   "metadata": {},
   "outputs": [
    {
     "data": {
      "text/html": [
       "<div>\n",
       "<style scoped>\n",
       "    .dataframe tbody tr th:only-of-type {\n",
       "        vertical-align: middle;\n",
       "    }\n",
       "\n",
       "    .dataframe tbody tr th {\n",
       "        vertical-align: top;\n",
       "    }\n",
       "\n",
       "    .dataframe thead th {\n",
       "        text-align: right;\n",
       "    }\n",
       "</style>\n",
       "<table border=\"1\" class=\"dataframe\">\n",
       "  <thead>\n",
       "    <tr style=\"text-align: right;\">\n",
       "      <th></th>\n",
       "      <th>Number of applications</th>\n",
       "      <th>Active substance</th>\n",
       "      <th>Indication</th>\n",
       "      <th>Designation date</th>\n",
       "      <th>Trade name</th>\n",
       "      <th>Approved / marketed application</th>\n",
       "    </tr>\n",
       "  </thead>\n",
       "  <tbody>\n",
       "    <tr>\n",
       "      <th>0</th>\n",
       "      <td>2</td>\n",
       "      <td>velaglucerase alfa</td>\n",
       "      <td>Treatment of Gaucher disease/Treatment of Gauc...</td>\n",
       "      <td>2010-06-06 00:00:00/2010-06-06 02:00:00</td>\n",
       "      <td>Vpriv,</td>\n",
       "      <td>1.0</td>\n",
       "    </tr>\n",
       "    <tr>\n",
       "      <th>0</th>\n",
       "      <td>2</td>\n",
       "      <td>daratumumab</td>\n",
       "      <td>Treatment of AL amyloidosis/nan</td>\n",
       "      <td>2018-05-25 14:00:00/2013-07-17 00:00:00</td>\n",
       "      <td>Darzalex,</td>\n",
       "      <td>1.0</td>\n",
       "    </tr>\n",
       "    <tr>\n",
       "      <th>0</th>\n",
       "      <td>2</td>\n",
       "      <td>ivosidenib</td>\n",
       "      <td>Treatment of acute myeloid leukaemia/Treatment...</td>\n",
       "      <td>2016-12-12 01:00:00/2018-03-21 01:00:00</td>\n",
       "      <td>Tibsovo,</td>\n",
       "      <td>1.0</td>\n",
       "    </tr>\n",
       "    <tr>\n",
       "      <th>0</th>\n",
       "      <td>2</td>\n",
       "      <td>ngr-human tumour necrosis factor</td>\n",
       "      <td>Treatment of malignant mesothelioma/Treatment ...</td>\n",
       "      <td>2008-06-03 00:00:00/2009-11-09 01:00:00</td>\n",
       "      <td>Zafiride,</td>\n",
       "      <td>1.0</td>\n",
       "    </tr>\n",
       "    <tr>\n",
       "      <th>0</th>\n",
       "      <td>2</td>\n",
       "      <td>pemigatinib</td>\n",
       "      <td>Treatment of myeloid/lymphoid neoplasms with e...</td>\n",
       "      <td>2019-10-17 00:00:00/2018-08-24 00:00:00</td>\n",
       "      <td>Pemazyre, /Pemazyre,</td>\n",
       "      <td>2.0</td>\n",
       "    </tr>\n",
       "    <tr>\n",
       "      <th>0</th>\n",
       "      <td>2</td>\n",
       "      <td>midostaurin</td>\n",
       "      <td>Treatment of acute myeloid leukaemia/Treatment...</td>\n",
       "      <td>2004-07-29 02:00:00/2010-08-04 02:00:00</td>\n",
       "      <td>Rydapt, /Rydapt,</td>\n",
       "      <td>2.0</td>\n",
       "    </tr>\n",
       "    <tr>\n",
       "      <th>0</th>\n",
       "      <td>2</td>\n",
       "      <td>masitinib mesilate</td>\n",
       "      <td>Treatment of pancreatic cancer/Treatment of am...</td>\n",
       "      <td>2009-10-28 01:00:00/2016-08-29 02:00:00</td>\n",
       "      <td>Masican, /Alsitek,</td>\n",
       "      <td>2.0</td>\n",
       "    </tr>\n",
       "    <tr>\n",
       "      <th>0</th>\n",
       "      <td>2</td>\n",
       "      <td>autologous tumor-derived gp96 heat shock prote...</td>\n",
       "      <td>Treatment of renal-cell carcinoma/Treatment of...</td>\n",
       "      <td>2005-04-11 00:00:00/2009-04-29 00:00:00</td>\n",
       "      <td>Oncophage,</td>\n",
       "      <td>1.0</td>\n",
       "    </tr>\n",
       "    <tr>\n",
       "      <th>0</th>\n",
       "      <td>2</td>\n",
       "      <td>autologous t cells transduced with lentiviral ...</td>\n",
       "      <td>Treatment of diffuse large B-cell lymphoma/Tre...</td>\n",
       "      <td>2016-10-14 00:00:00/2014-04-29 00:00:00</td>\n",
       "      <td>Kymriah, /Kymriah,</td>\n",
       "      <td>2.0</td>\n",
       "    </tr>\n",
       "    <tr>\n",
       "      <th>0</th>\n",
       "      <td>2</td>\n",
       "      <td>mifepristone</td>\n",
       "      <td>Treatment of hypercortisolism (Cushing's syndr...</td>\n",
       "      <td>2009-02-27 01:00:00/2011-10-27 02:00:00</td>\n",
       "      <td>Corluxin,</td>\n",
       "      <td>1.0</td>\n",
       "    </tr>\n",
       "    <tr>\n",
       "      <th>0</th>\n",
       "      <td>2</td>\n",
       "      <td>deferiprone</td>\n",
       "      <td>Treatment of sickle cell disease/Treatment of ...</td>\n",
       "      <td>2011-02-23 01:00:00/2018-06-27 00:00:00</td>\n",
       "      <td>Upkanz,</td>\n",
       "      <td>1.0</td>\n",
       "    </tr>\n",
       "    <tr>\n",
       "      <th>0</th>\n",
       "      <td>2</td>\n",
       "      <td>sorafenib tosilate</td>\n",
       "      <td>Treatment of follicular thyroid cancer/Treatme...</td>\n",
       "      <td>2013-11-13 02:00:00/2013-11-13 02:00:00</td>\n",
       "      <td>Nexavar, /Nexavar,</td>\n",
       "      <td>2.0</td>\n",
       "    </tr>\n",
       "    <tr>\n",
       "      <th>0</th>\n",
       "      <td>2</td>\n",
       "      <td>treprostinil sodium</td>\n",
       "      <td>Treatment of pulmonary arterial hypertension a...</td>\n",
       "      <td>2004-04-14 00:00:00/2013-02-08 01:00:00</td>\n",
       "      <td>Tyvaso, /Trepulmix,</td>\n",
       "      <td>2.0</td>\n",
       "    </tr>\n",
       "    <tr>\n",
       "      <th>0</th>\n",
       "      <td>2</td>\n",
       "      <td>recombinant human interleukin-3 truncated diph...</td>\n",
       "      <td>Treatment of acute myeloid leukaemia/Treatment...</td>\n",
       "      <td>2015-10-09 00:00:00/2015-11-11 01:00:00</td>\n",
       "      <td>Elzonris,</td>\n",
       "      <td>1.0</td>\n",
       "    </tr>\n",
       "    <tr>\n",
       "      <th>0</th>\n",
       "      <td>2</td>\n",
       "      <td>autologous tumour-derived immunoglobulin idiot...</td>\n",
       "      <td>Treatment of mantle cell lymphoma/Treatment of...</td>\n",
       "      <td>2011-02-23 02:00:00/2006-08-28 00:00:00</td>\n",
       "      <td>Lympreva,</td>\n",
       "      <td>1.0</td>\n",
       "    </tr>\n",
       "    <tr>\n",
       "      <th>0</th>\n",
       "      <td>2</td>\n",
       "      <td>mercaptopurine</td>\n",
       "      <td>Treatment of acute lymphoblastic leukaemia/Tre...</td>\n",
       "      <td>2007-10-22 00:00:00/2009-04-30 00:00:00</td>\n",
       "      <td>Loulla, /Xaluprine (previously Mercaptopurine ...</td>\n",
       "      <td>2.0</td>\n",
       "    </tr>\n",
       "    <tr>\n",
       "      <th>0</th>\n",
       "      <td>2</td>\n",
       "      <td>adenovirus-associated viral vector serotype 2 ...</td>\n",
       "      <td>Treatment of Leber's congenital amaurosis/Trea...</td>\n",
       "      <td>2012-04-02 00:00:00/2015-07-28 00:00:00</td>\n",
       "      <td>Luxturna, /Luxturna,</td>\n",
       "      <td>2.0</td>\n",
       "    </tr>\n",
       "    <tr>\n",
       "      <th>0</th>\n",
       "      <td>2</td>\n",
       "      <td>cysteamine hydrochloride</td>\n",
       "      <td>Treatment of cystinosis/Treatment of cystinosis</td>\n",
       "      <td>2014-10-15 02:00:00/2008-11-07 01:00:00</td>\n",
       "      <td>Dropcys, /Cystadrops,</td>\n",
       "      <td>2.0</td>\n",
       "    </tr>\n",
       "    <tr>\n",
       "      <th>0</th>\n",
       "      <td>2</td>\n",
       "      <td>fenfluramine hydrochloride</td>\n",
       "      <td>Treatment of Lennox-Gastaut syndrome/Treatment...</td>\n",
       "      <td>2017-02-27 01:00:00/2013-12-18 01:00:00</td>\n",
       "      <td>Fintepla,</td>\n",
       "      <td>1.0</td>\n",
       "    </tr>\n",
       "    <tr>\n",
       "      <th>0</th>\n",
       "      <td>2</td>\n",
       "      <td>benzamide, 3-(2-imidazo[1,2-b]pyridazin-3-ylet...</td>\n",
       "      <td>Treatment of acute lymphoblastic leukaemia/Tre...</td>\n",
       "      <td>2010-02-02 02:00:00/2010-02-02 02:00:00</td>\n",
       "      <td>Iclusig, /Iclusig,</td>\n",
       "      <td>2.0</td>\n",
       "    </tr>\n",
       "    <tr>\n",
       "      <th>0</th>\n",
       "      <td>2</td>\n",
       "      <td>isavuconazonium sulfate</td>\n",
       "      <td>Treatment of invasive aspergillosis/Treatment ...</td>\n",
       "      <td>2014-07-04 00:00:00/2014-06-04 00:00:00</td>\n",
       "      <td>Cresemba, /Cresemba,</td>\n",
       "      <td>2.0</td>\n",
       "    </tr>\n",
       "    <tr>\n",
       "      <th>0</th>\n",
       "      <td>2</td>\n",
       "      <td>1-[(3r)-3-[4-amino-3-(4-phenoxyphenyl)-1h-pyra...</td>\n",
       "      <td>Treatment of chronic lymphocytic leukaemia/Tre...</td>\n",
       "      <td>2012-04-26 02:00:00/2013-03-12 01:00:00</td>\n",
       "      <td>Imbruvica, /Imbruvica,</td>\n",
       "      <td>2.0</td>\n",
       "    </tr>\n",
       "    <tr>\n",
       "      <th>0</th>\n",
       "      <td>2</td>\n",
       "      <td>edaravone</td>\n",
       "      <td>Treatment of amyotrophic lateral sclerosis/Tre...</td>\n",
       "      <td>2014-12-16 02:00:00/2015-06-19 00:00:00</td>\n",
       "      <td>Radicava,</td>\n",
       "      <td>1.0</td>\n",
       "    </tr>\n",
       "    <tr>\n",
       "      <th>0</th>\n",
       "      <td>2</td>\n",
       "      <td>alpha-1 antitrypsin</td>\n",
       "      <td>Treatment of cystic fibrosis/Treatment of emph...</td>\n",
       "      <td>2004-11-16 01:00:00/2004-11-16 01:00:00</td>\n",
       "      <td>Infinia,</td>\n",
       "      <td>1.0</td>\n",
       "    </tr>\n",
       "    <tr>\n",
       "      <th>0</th>\n",
       "      <td>2</td>\n",
       "      <td>mogamulizumab</td>\n",
       "      <td>Treatment of peripheral T-cell lymphoma (nodal...</td>\n",
       "      <td>2012-01-11 01:00:00/2016-10-14 00:00:00</td>\n",
       "      <td>Poteligeo,</td>\n",
       "      <td>1.0</td>\n",
       "    </tr>\n",
       "    <tr>\n",
       "      <th>0</th>\n",
       "      <td>2</td>\n",
       "      <td>pasireotide</td>\n",
       "      <td>Treatment of Cushing's disease/Treatment of ac...</td>\n",
       "      <td>2009-10-08 00:00:00/2009-10-08 00:00:00</td>\n",
       "      <td>Signifor, /Signifor,</td>\n",
       "      <td>2.0</td>\n",
       "    </tr>\n",
       "    <tr>\n",
       "      <th>0</th>\n",
       "      <td>2</td>\n",
       "      <td>(e)-(1s,4s,10s,21r)-7-[(z)-ethylidene]-4,21-di...</td>\n",
       "      <td>Treatment of cutaneous T-cell lymphoma/Treatme...</td>\n",
       "      <td>2005-05-27 00:00:00/2005-10-28 00:00:00</td>\n",
       "      <td>Istodax,</td>\n",
       "      <td>1.0</td>\n",
       "    </tr>\n",
       "    <tr>\n",
       "      <th>0</th>\n",
       "      <td>2</td>\n",
       "      <td>macitentan</td>\n",
       "      <td>Treatment of idiopathic pulmonary fibrosis/Tre...</td>\n",
       "      <td>2010-01-28 01:00:00/2011-09-27 00:00:00</td>\n",
       "      <td>Opsumit,</td>\n",
       "      <td>1.0</td>\n",
       "    </tr>\n",
       "    <tr>\n",
       "      <th>0</th>\n",
       "      <td>3</td>\n",
       "      <td>budesonide</td>\n",
       "      <td>Treatment of graft-versus-host disease/Treatme...</td>\n",
       "      <td>2006-11-03 01:00:00/2016-11-18 12:00:00/2013-0...</td>\n",
       "      <td>Jorveza,</td>\n",
       "      <td>1.0</td>\n",
       "    </tr>\n",
       "    <tr>\n",
       "      <th>0</th>\n",
       "      <td>3</td>\n",
       "      <td>obinutuzumab</td>\n",
       "      <td>Treatment of diffuse large B-cell lymphoma/Tre...</td>\n",
       "      <td>2014-08-22 02:00:00/2015-06-19 02:00:00/2012-1...</td>\n",
       "      <td>Gazyvaro, /Gazyvaro,</td>\n",
       "      <td>2.0</td>\n",
       "    </tr>\n",
       "    <tr>\n",
       "      <th>0</th>\n",
       "      <td>3</td>\n",
       "      <td>amikacin sulfate</td>\n",
       "      <td>Treatment of Pseudomonas aeruginosa lung infec...</td>\n",
       "      <td>2014-12-16 01:00:00/2006-07-25 00:00:00/2014-0...</td>\n",
       "      <td>Arikayce liposomal,</td>\n",
       "      <td>1.0</td>\n",
       "    </tr>\n",
       "    <tr>\n",
       "      <th>0</th>\n",
       "      <td>3</td>\n",
       "      <td>eculizumab</td>\n",
       "      <td>Treatment of atypical haemolytic uraemic syndr...</td>\n",
       "      <td>2009-07-24 00:00:00/2013-08-05 00:00:00/2014-0...</td>\n",
       "      <td>Soliris, /Soliris, /Soliris,</td>\n",
       "      <td>3.0</td>\n",
       "    </tr>\n",
       "    <tr>\n",
       "      <th>0</th>\n",
       "      <td>3</td>\n",
       "      <td>cysteamine bitartrate (gastroresistant) (merca...</td>\n",
       "      <td>Treatment of cystinosis/Treatment of pancreati...</td>\n",
       "      <td>2010-09-20 00:00:00/2014-03-26 01:00:00/2014-0...</td>\n",
       "      <td>Procysbi,</td>\n",
       "      <td>1.0</td>\n",
       "    </tr>\n",
       "    <tr>\n",
       "      <th>0</th>\n",
       "      <td>3</td>\n",
       "      <td>n-tert-butyl-3-[(5-methyl-2-{[4-(2-pyrrolidin-...</td>\n",
       "      <td>Treatment of post-essential thrombocythaemia m...</td>\n",
       "      <td>2010-11-26 01:00:00/2010-11-26 01:00:00/2010-1...</td>\n",
       "      <td>Inrebic, /Inrebic, /Inrebic,</td>\n",
       "      <td>3.0</td>\n",
       "    </tr>\n",
       "    <tr>\n",
       "      <th>0</th>\n",
       "      <td>3</td>\n",
       "      <td>l-asparaginase encapsulated in erythrocytes</td>\n",
       "      <td>Treatment of acute lymphoblastic leukaemia/Tre...</td>\n",
       "      <td>2006-10-27 02:00:00/2009-05-15 00:00:00/2013-0...</td>\n",
       "      <td>Graspa,</td>\n",
       "      <td>1.0</td>\n",
       "    </tr>\n",
       "    <tr>\n",
       "      <th>0</th>\n",
       "      <td>3</td>\n",
       "      <td>n-(methyl-diazacyclohexyl-methylbenzamide)-aza...</td>\n",
       "      <td>Treatment of multiple myeloma/Treatment of mas...</td>\n",
       "      <td>2005-06-20 00:00:00/2004-11-16 01:00:00/2004-1...</td>\n",
       "      <td>Masipro,</td>\n",
       "      <td>1.0</td>\n",
       "    </tr>\n",
       "    <tr>\n",
       "      <th>0</th>\n",
       "      <td>3</td>\n",
       "      <td>mexiletine hydrochloride</td>\n",
       "      <td>Treatment of myotonic disorders/Treatment of m...</td>\n",
       "      <td>2013-10-07 02:00:00/2014-11-19 01:00:00/2013-0...</td>\n",
       "      <td>Namuscla,</td>\n",
       "      <td>1.0</td>\n",
       "    </tr>\n",
       "    <tr>\n",
       "      <th>0</th>\n",
       "      <td>3</td>\n",
       "      <td>ketoconazole</td>\n",
       "      <td>Treatment of Cushing's syndrome/Treatment of g...</td>\n",
       "      <td>2012-08-09 02:00:00/2017-03-20 02:00:00/2012-0...</td>\n",
       "      <td>Ketoconazole HRA,</td>\n",
       "      <td>1.0</td>\n",
       "    </tr>\n",
       "    <tr>\n",
       "      <th>0</th>\n",
       "      <td>3</td>\n",
       "      <td>defibrotide</td>\n",
       "      <td>Prevention of graft-versus-host disease/Preven...</td>\n",
       "      <td>2013-11-13 02:00:00/2004-07-29 02:00:00/2004-0...</td>\n",
       "      <td>Defitelio,</td>\n",
       "      <td>1.0</td>\n",
       "    </tr>\n",
       "    <tr>\n",
       "      <th>0</th>\n",
       "      <td>3</td>\n",
       "      <td>hydrocortisone</td>\n",
       "      <td>Treatment of adrenal insufficiency/Treatment o...</td>\n",
       "      <td>2006-05-22 00:00:00/2007-03-20 01:00:00/2005-0...</td>\n",
       "      <td>Plenadren,</td>\n",
       "      <td>1.0</td>\n",
       "    </tr>\n",
       "    <tr>\n",
       "      <th>0</th>\n",
       "      <td>4</td>\n",
       "      <td>sinapultide</td>\n",
       "      <td>Respiratory distress syndrome in  premature ne...</td>\n",
       "      <td>2004-07-29 00:00:00/2002-02-04 01:00:00/2004-0...</td>\n",
       "      <td>Surfaxin,</td>\n",
       "      <td>1.0</td>\n",
       "    </tr>\n",
       "    <tr>\n",
       "      <th>0</th>\n",
       "      <td>4</td>\n",
       "      <td>pralatrexate</td>\n",
       "      <td>Treatment of Hodgkin's lymphoma/Treatment of c...</td>\n",
       "      <td>2010-10-01 00:00:00/2010-06-10 00:00:00/2009-0...</td>\n",
       "      <td>Folotyn,</td>\n",
       "      <td>1.0</td>\n",
       "    </tr>\n",
       "    <tr>\n",
       "      <th>0</th>\n",
       "      <td>4</td>\n",
       "      <td>metreleptin</td>\n",
       "      <td>Treatment of Berardinelli-Seip syndrome/Treatm...</td>\n",
       "      <td>2012-07-17 00:00:00/2012-07-17 00:00:00/2012-0...</td>\n",
       "      <td>Myalepta, /Myalepta, /Myalepta, /Myalepta,</td>\n",
       "      <td>4.0</td>\n",
       "    </tr>\n",
       "    <tr>\n",
       "      <th>0</th>\n",
       "      <td>4</td>\n",
       "      <td>idebenone</td>\n",
       "      <td>nan/nan/Treatment of Leber's hereditary optic ...</td>\n",
       "      <td>2001-11-20 01:00:00/2004-03-08 01:00:00/2007-0...</td>\n",
       "      <td>Sovrima, /Raxone, /Raxone,</td>\n",
       "      <td>3.0</td>\n",
       "    </tr>\n",
       "    <tr>\n",
       "      <th>0</th>\n",
       "      <td>4</td>\n",
       "      <td>(2s)-2-{[(2r)-2-[({[3,3-dibutyl-7-(methylthio)...</td>\n",
       "      <td>Treatment of progressive familial intrahepatic...</td>\n",
       "      <td>2012-07-17 00:00:00/2012-08-09 00:00:00/2012-0...</td>\n",
       "      <td>Bylvay,</td>\n",
       "      <td>1.0</td>\n",
       "    </tr>\n",
       "    <tr>\n",
       "      <th>0</th>\n",
       "      <td>4</td>\n",
       "      <td>decitabine</td>\n",
       "      <td>Treatment of myelodysplastic syndromes/Treatme...</td>\n",
       "      <td>2003-02-14 01:00:00/2006-06-08 02:00:00/2017-0...</td>\n",
       "      <td>Dacogen,</td>\n",
       "      <td>1.0</td>\n",
       "    </tr>\n",
       "    <tr>\n",
       "      <th>0</th>\n",
       "      <td>5</td>\n",
       "      <td>ibrutinib</td>\n",
       "      <td>Treatment of diffuse large B-cell lymphoma/Tre...</td>\n",
       "      <td>2013-11-13 02:00:00/2014-01-16 02:00:00/2015-0...</td>\n",
       "      <td>Imbruvica,</td>\n",
       "      <td>1.0</td>\n",
       "    </tr>\n",
       "    <tr>\n",
       "      <th>0</th>\n",
       "      <td>5</td>\n",
       "      <td>setmelanotide</td>\n",
       "      <td>Treatment of Bardet-Biedl syndrome/Treatment o...</td>\n",
       "      <td>2019-08-21 00:00:00/2020-01-09 01:00:00/2018-1...</td>\n",
       "      <td>Imcivree, /Imcivree,</td>\n",
       "      <td>2.0</td>\n",
       "    </tr>\n",
       "    <tr>\n",
       "      <th>0</th>\n",
       "      <td>6</td>\n",
       "      <td>human heterologous liver cells</td>\n",
       "      <td>Treatment of acute liver failure/Treatment of ...</td>\n",
       "      <td>2006-04-11 00:00:00/2007-09-14 00:00:00/2009-1...</td>\n",
       "      <td>Heparesc, /Heparesc, /Heparesc, /Heparesc, /He...</td>\n",
       "      <td>5.0</td>\n",
       "    </tr>\n",
       "    <tr>\n",
       "      <th>0</th>\n",
       "      <td>7</td>\n",
       "      <td>glyceryl tri-(4-phenylbutyrate)</td>\n",
       "      <td>Treatment of carbamoyl-phosphate synthase-1 de...</td>\n",
       "      <td>2010-02-03 01:00:00/2010-06-10 00:00:00/2010-0...</td>\n",
       "      <td>Ravicti, /Ravicti, /Ravicti, /Ravicti, /Ravict...</td>\n",
       "      <td>6.0</td>\n",
       "    </tr>\n",
       "    <tr>\n",
       "      <th>0</th>\n",
       "      <td>7</td>\n",
       "      <td>cannabidiol</td>\n",
       "      <td>Treatment of perinatal asphyxia/Prevention of ...</td>\n",
       "      <td>2015-07-28 00:00:00/2016-04-28 02:00:00/2016-0...</td>\n",
       "      <td>Epidyolex, /Epidyolex, /Epidyolex,</td>\n",
       "      <td>3.0</td>\n",
       "    </tr>\n",
       "    <tr>\n",
       "      <th>0</th>\n",
       "      <td>7</td>\n",
       "      <td>ciclosporin</td>\n",
       "      <td>Treatment of atopic keratoconjunctivitis/Treat...</td>\n",
       "      <td>2009-07-24 00:00:00/2007-10-29 01:00:00/2007-1...</td>\n",
       "      <td>Verkazia,</td>\n",
       "      <td>1.0</td>\n",
       "    </tr>\n",
       "    <tr>\n",
       "      <th>0</th>\n",
       "      <td>9</td>\n",
       "      <td>sirolimus</td>\n",
       "      <td>Treatment of chronic non-infectious uveitis/Tr...</td>\n",
       "      <td>2011-08-30 02:00:00/2015-10-09 02:00:00/2016-0...</td>\n",
       "      <td>Xegafri,</td>\n",
       "      <td>1.0</td>\n",
       "    </tr>\n",
       "    <tr>\n",
       "      <th>0</th>\n",
       "      <td>14</td>\n",
       "      <td>sodium benzoate</td>\n",
       "      <td>Treatment of ornithine transcarbamylase defici...</td>\n",
       "      <td>2016-07-14 02:00:00/2016-07-14 02:00:00/2016-0...</td>\n",
       "      <td>Prohippur, /Prohippur, /Prohippur, /Prohippur,...</td>\n",
       "      <td>8.0</td>\n",
       "    </tr>\n",
       "  </tbody>\n",
       "</table>\n",
       "</div>"
      ],
      "text/plain": [
       "  Number of applications                                   Active substance  \\\n",
       "0                      2                                 velaglucerase alfa   \n",
       "0                      2                                        daratumumab   \n",
       "0                      2                                         ivosidenib   \n",
       "0                      2                   ngr-human tumour necrosis factor   \n",
       "0                      2                                        pemigatinib   \n",
       "0                      2                                        midostaurin   \n",
       "0                      2                                 masitinib mesilate   \n",
       "0                      2  autologous tumor-derived gp96 heat shock prote...   \n",
       "0                      2  autologous t cells transduced with lentiviral ...   \n",
       "0                      2                                       mifepristone   \n",
       "0                      2                                        deferiprone   \n",
       "0                      2                                 sorafenib tosilate   \n",
       "0                      2                                treprostinil sodium   \n",
       "0                      2  recombinant human interleukin-3 truncated diph...   \n",
       "0                      2  autologous tumour-derived immunoglobulin idiot...   \n",
       "0                      2                                     mercaptopurine   \n",
       "0                      2  adenovirus-associated viral vector serotype 2 ...   \n",
       "0                      2                           cysteamine hydrochloride   \n",
       "0                      2                         fenfluramine hydrochloride   \n",
       "0                      2  benzamide, 3-(2-imidazo[1,2-b]pyridazin-3-ylet...   \n",
       "0                      2                            isavuconazonium sulfate   \n",
       "0                      2  1-[(3r)-3-[4-amino-3-(4-phenoxyphenyl)-1h-pyra...   \n",
       "0                      2                                          edaravone   \n",
       "0                      2                                alpha-1 antitrypsin   \n",
       "0                      2                                      mogamulizumab   \n",
       "0                      2                                        pasireotide   \n",
       "0                      2  (e)-(1s,4s,10s,21r)-7-[(z)-ethylidene]-4,21-di...   \n",
       "0                      2                                         macitentan   \n",
       "0                      3                                         budesonide   \n",
       "0                      3                                       obinutuzumab   \n",
       "0                      3                                   amikacin sulfate   \n",
       "0                      3                                         eculizumab   \n",
       "0                      3  cysteamine bitartrate (gastroresistant) (merca...   \n",
       "0                      3  n-tert-butyl-3-[(5-methyl-2-{[4-(2-pyrrolidin-...   \n",
       "0                      3        l-asparaginase encapsulated in erythrocytes   \n",
       "0                      3  n-(methyl-diazacyclohexyl-methylbenzamide)-aza...   \n",
       "0                      3                           mexiletine hydrochloride   \n",
       "0                      3                                       ketoconazole   \n",
       "0                      3                                        defibrotide   \n",
       "0                      3                                     hydrocortisone   \n",
       "0                      4                                        sinapultide   \n",
       "0                      4                                       pralatrexate   \n",
       "0                      4                                        metreleptin   \n",
       "0                      4                                          idebenone   \n",
       "0                      4  (2s)-2-{[(2r)-2-[({[3,3-dibutyl-7-(methylthio)...   \n",
       "0                      4                                         decitabine   \n",
       "0                      5                                          ibrutinib   \n",
       "0                      5                                      setmelanotide   \n",
       "0                      6                     human heterologous liver cells   \n",
       "0                      7                    glyceryl tri-(4-phenylbutyrate)   \n",
       "0                      7                                        cannabidiol   \n",
       "0                      7                                        ciclosporin   \n",
       "0                      9                                          sirolimus   \n",
       "0                     14                                    sodium benzoate   \n",
       "\n",
       "                                          Indication  \\\n",
       "0  Treatment of Gaucher disease/Treatment of Gauc...   \n",
       "0                    Treatment of AL amyloidosis/nan   \n",
       "0  Treatment of acute myeloid leukaemia/Treatment...   \n",
       "0  Treatment of malignant mesothelioma/Treatment ...   \n",
       "0  Treatment of myeloid/lymphoid neoplasms with e...   \n",
       "0  Treatment of acute myeloid leukaemia/Treatment...   \n",
       "0  Treatment of pancreatic cancer/Treatment of am...   \n",
       "0  Treatment of renal-cell carcinoma/Treatment of...   \n",
       "0  Treatment of diffuse large B-cell lymphoma/Tre...   \n",
       "0  Treatment of hypercortisolism (Cushing's syndr...   \n",
       "0  Treatment of sickle cell disease/Treatment of ...   \n",
       "0  Treatment of follicular thyroid cancer/Treatme...   \n",
       "0  Treatment of pulmonary arterial hypertension a...   \n",
       "0  Treatment of acute myeloid leukaemia/Treatment...   \n",
       "0  Treatment of mantle cell lymphoma/Treatment of...   \n",
       "0  Treatment of acute lymphoblastic leukaemia/Tre...   \n",
       "0  Treatment of Leber's congenital amaurosis/Trea...   \n",
       "0    Treatment of cystinosis/Treatment of cystinosis   \n",
       "0  Treatment of Lennox-Gastaut syndrome/Treatment...   \n",
       "0  Treatment of acute lymphoblastic leukaemia/Tre...   \n",
       "0  Treatment of invasive aspergillosis/Treatment ...   \n",
       "0  Treatment of chronic lymphocytic leukaemia/Tre...   \n",
       "0  Treatment of amyotrophic lateral sclerosis/Tre...   \n",
       "0  Treatment of cystic fibrosis/Treatment of emph...   \n",
       "0  Treatment of peripheral T-cell lymphoma (nodal...   \n",
       "0  Treatment of Cushing's disease/Treatment of ac...   \n",
       "0  Treatment of cutaneous T-cell lymphoma/Treatme...   \n",
       "0  Treatment of idiopathic pulmonary fibrosis/Tre...   \n",
       "0  Treatment of graft-versus-host disease/Treatme...   \n",
       "0  Treatment of diffuse large B-cell lymphoma/Tre...   \n",
       "0  Treatment of Pseudomonas aeruginosa lung infec...   \n",
       "0  Treatment of atypical haemolytic uraemic syndr...   \n",
       "0  Treatment of cystinosis/Treatment of pancreati...   \n",
       "0  Treatment of post-essential thrombocythaemia m...   \n",
       "0  Treatment of acute lymphoblastic leukaemia/Tre...   \n",
       "0  Treatment of multiple myeloma/Treatment of mas...   \n",
       "0  Treatment of myotonic disorders/Treatment of m...   \n",
       "0  Treatment of Cushing's syndrome/Treatment of g...   \n",
       "0  Prevention of graft-versus-host disease/Preven...   \n",
       "0  Treatment of adrenal insufficiency/Treatment o...   \n",
       "0  Respiratory distress syndrome in  premature ne...   \n",
       "0  Treatment of Hodgkin's lymphoma/Treatment of c...   \n",
       "0  Treatment of Berardinelli-Seip syndrome/Treatm...   \n",
       "0  nan/nan/Treatment of Leber's hereditary optic ...   \n",
       "0  Treatment of progressive familial intrahepatic...   \n",
       "0  Treatment of myelodysplastic syndromes/Treatme...   \n",
       "0  Treatment of diffuse large B-cell lymphoma/Tre...   \n",
       "0  Treatment of Bardet-Biedl syndrome/Treatment o...   \n",
       "0  Treatment of acute liver failure/Treatment of ...   \n",
       "0  Treatment of carbamoyl-phosphate synthase-1 de...   \n",
       "0  Treatment of perinatal asphyxia/Prevention of ...   \n",
       "0  Treatment of atopic keratoconjunctivitis/Treat...   \n",
       "0  Treatment of chronic non-infectious uveitis/Tr...   \n",
       "0  Treatment of ornithine transcarbamylase defici...   \n",
       "\n",
       "                                    Designation date  \\\n",
       "0            2010-06-06 00:00:00/2010-06-06 02:00:00   \n",
       "0            2018-05-25 14:00:00/2013-07-17 00:00:00   \n",
       "0            2016-12-12 01:00:00/2018-03-21 01:00:00   \n",
       "0            2008-06-03 00:00:00/2009-11-09 01:00:00   \n",
       "0            2019-10-17 00:00:00/2018-08-24 00:00:00   \n",
       "0            2004-07-29 02:00:00/2010-08-04 02:00:00   \n",
       "0            2009-10-28 01:00:00/2016-08-29 02:00:00   \n",
       "0            2005-04-11 00:00:00/2009-04-29 00:00:00   \n",
       "0            2016-10-14 00:00:00/2014-04-29 00:00:00   \n",
       "0            2009-02-27 01:00:00/2011-10-27 02:00:00   \n",
       "0            2011-02-23 01:00:00/2018-06-27 00:00:00   \n",
       "0            2013-11-13 02:00:00/2013-11-13 02:00:00   \n",
       "0            2004-04-14 00:00:00/2013-02-08 01:00:00   \n",
       "0            2015-10-09 00:00:00/2015-11-11 01:00:00   \n",
       "0            2011-02-23 02:00:00/2006-08-28 00:00:00   \n",
       "0            2007-10-22 00:00:00/2009-04-30 00:00:00   \n",
       "0            2012-04-02 00:00:00/2015-07-28 00:00:00   \n",
       "0            2014-10-15 02:00:00/2008-11-07 01:00:00   \n",
       "0            2017-02-27 01:00:00/2013-12-18 01:00:00   \n",
       "0            2010-02-02 02:00:00/2010-02-02 02:00:00   \n",
       "0            2014-07-04 00:00:00/2014-06-04 00:00:00   \n",
       "0            2012-04-26 02:00:00/2013-03-12 01:00:00   \n",
       "0            2014-12-16 02:00:00/2015-06-19 00:00:00   \n",
       "0            2004-11-16 01:00:00/2004-11-16 01:00:00   \n",
       "0            2012-01-11 01:00:00/2016-10-14 00:00:00   \n",
       "0            2009-10-08 00:00:00/2009-10-08 00:00:00   \n",
       "0            2005-05-27 00:00:00/2005-10-28 00:00:00   \n",
       "0            2010-01-28 01:00:00/2011-09-27 00:00:00   \n",
       "0  2006-11-03 01:00:00/2016-11-18 12:00:00/2013-0...   \n",
       "0  2014-08-22 02:00:00/2015-06-19 02:00:00/2012-1...   \n",
       "0  2014-12-16 01:00:00/2006-07-25 00:00:00/2014-0...   \n",
       "0  2009-07-24 00:00:00/2013-08-05 00:00:00/2014-0...   \n",
       "0  2010-09-20 00:00:00/2014-03-26 01:00:00/2014-0...   \n",
       "0  2010-11-26 01:00:00/2010-11-26 01:00:00/2010-1...   \n",
       "0  2006-10-27 02:00:00/2009-05-15 00:00:00/2013-0...   \n",
       "0  2005-06-20 00:00:00/2004-11-16 01:00:00/2004-1...   \n",
       "0  2013-10-07 02:00:00/2014-11-19 01:00:00/2013-0...   \n",
       "0  2012-08-09 02:00:00/2017-03-20 02:00:00/2012-0...   \n",
       "0  2013-11-13 02:00:00/2004-07-29 02:00:00/2004-0...   \n",
       "0  2006-05-22 00:00:00/2007-03-20 01:00:00/2005-0...   \n",
       "0  2004-07-29 00:00:00/2002-02-04 01:00:00/2004-0...   \n",
       "0  2010-10-01 00:00:00/2010-06-10 00:00:00/2009-0...   \n",
       "0  2012-07-17 00:00:00/2012-07-17 00:00:00/2012-0...   \n",
       "0  2001-11-20 01:00:00/2004-03-08 01:00:00/2007-0...   \n",
       "0  2012-07-17 00:00:00/2012-08-09 00:00:00/2012-0...   \n",
       "0  2003-02-14 01:00:00/2006-06-08 02:00:00/2017-0...   \n",
       "0  2013-11-13 02:00:00/2014-01-16 02:00:00/2015-0...   \n",
       "0  2019-08-21 00:00:00/2020-01-09 01:00:00/2018-1...   \n",
       "0  2006-04-11 00:00:00/2007-09-14 00:00:00/2009-1...   \n",
       "0  2010-02-03 01:00:00/2010-06-10 00:00:00/2010-0...   \n",
       "0  2015-07-28 00:00:00/2016-04-28 02:00:00/2016-0...   \n",
       "0  2009-07-24 00:00:00/2007-10-29 01:00:00/2007-1...   \n",
       "0  2011-08-30 02:00:00/2015-10-09 02:00:00/2016-0...   \n",
       "0  2016-07-14 02:00:00/2016-07-14 02:00:00/2016-0...   \n",
       "\n",
       "                                          Trade name  \\\n",
       "0                                            Vpriv,    \n",
       "0                                         Darzalex,    \n",
       "0                                          Tibsovo,    \n",
       "0                                         Zafiride,    \n",
       "0                              Pemazyre, /Pemazyre,    \n",
       "0                                  Rydapt, /Rydapt,    \n",
       "0                                Masican, /Alsitek,    \n",
       "0                                        Oncophage,    \n",
       "0                                Kymriah, /Kymriah,    \n",
       "0                                         Corluxin,    \n",
       "0                                           Upkanz,    \n",
       "0                                Nexavar, /Nexavar,    \n",
       "0                               Tyvaso, /Trepulmix,    \n",
       "0                                         Elzonris,    \n",
       "0                                         Lympreva,    \n",
       "0  Loulla, /Xaluprine (previously Mercaptopurine ...   \n",
       "0                              Luxturna, /Luxturna,    \n",
       "0                             Dropcys, /Cystadrops,    \n",
       "0                                         Fintepla,    \n",
       "0                                Iclusig, /Iclusig,    \n",
       "0                              Cresemba, /Cresemba,    \n",
       "0                            Imbruvica, /Imbruvica,    \n",
       "0                                         Radicava,    \n",
       "0                                          Infinia,    \n",
       "0                                        Poteligeo,    \n",
       "0                              Signifor, /Signifor,    \n",
       "0                                          Istodax,    \n",
       "0                                          Opsumit,    \n",
       "0                                          Jorveza,    \n",
       "0                              Gazyvaro, /Gazyvaro,    \n",
       "0                               Arikayce liposomal,    \n",
       "0                      Soliris, /Soliris, /Soliris,    \n",
       "0                                         Procysbi,    \n",
       "0                      Inrebic, /Inrebic, /Inrebic,    \n",
       "0                                           Graspa,    \n",
       "0                                          Masipro,    \n",
       "0                                         Namuscla,    \n",
       "0                                 Ketoconazole HRA,    \n",
       "0                                        Defitelio,    \n",
       "0                                        Plenadren,    \n",
       "0                                         Surfaxin,    \n",
       "0                                          Folotyn,    \n",
       "0        Myalepta, /Myalepta, /Myalepta, /Myalepta,    \n",
       "0                        Sovrima, /Raxone, /Raxone,    \n",
       "0                                           Bylvay,    \n",
       "0                                          Dacogen,    \n",
       "0                                        Imbruvica,    \n",
       "0                              Imcivree, /Imcivree,    \n",
       "0  Heparesc, /Heparesc, /Heparesc, /Heparesc, /He...   \n",
       "0  Ravicti, /Ravicti, /Ravicti, /Ravicti, /Ravict...   \n",
       "0                Epidyolex, /Epidyolex, /Epidyolex,    \n",
       "0                                         Verkazia,    \n",
       "0                                          Xegafri,    \n",
       "0  Prohippur, /Prohippur, /Prohippur, /Prohippur,...   \n",
       "\n",
       "   Approved / marketed application  \n",
       "0                              1.0  \n",
       "0                              1.0  \n",
       "0                              1.0  \n",
       "0                              1.0  \n",
       "0                              2.0  \n",
       "0                              2.0  \n",
       "0                              2.0  \n",
       "0                              1.0  \n",
       "0                              2.0  \n",
       "0                              1.0  \n",
       "0                              1.0  \n",
       "0                              2.0  \n",
       "0                              2.0  \n",
       "0                              1.0  \n",
       "0                              1.0  \n",
       "0                              2.0  \n",
       "0                              2.0  \n",
       "0                              2.0  \n",
       "0                              1.0  \n",
       "0                              2.0  \n",
       "0                              2.0  \n",
       "0                              2.0  \n",
       "0                              1.0  \n",
       "0                              1.0  \n",
       "0                              1.0  \n",
       "0                              2.0  \n",
       "0                              1.0  \n",
       "0                              1.0  \n",
       "0                              1.0  \n",
       "0                              2.0  \n",
       "0                              1.0  \n",
       "0                              3.0  \n",
       "0                              1.0  \n",
       "0                              3.0  \n",
       "0                              1.0  \n",
       "0                              1.0  \n",
       "0                              1.0  \n",
       "0                              1.0  \n",
       "0                              1.0  \n",
       "0                              1.0  \n",
       "0                              1.0  \n",
       "0                              1.0  \n",
       "0                              4.0  \n",
       "0                              3.0  \n",
       "0                              1.0  \n",
       "0                              1.0  \n",
       "0                              1.0  \n",
       "0                              2.0  \n",
       "0                              5.0  \n",
       "0                              6.0  \n",
       "0                              3.0  \n",
       "0                              1.0  \n",
       "0                              1.0  \n",
       "0                              8.0  "
      ]
     },
     "execution_count": 75,
     "metadata": {},
     "output_type": "execute_result"
    }
   ],
   "source": [
    "mask = (substance_applications['Trade name'] != '') & (substance_applications['Number of applications'] > 1)\n",
    "substance_applications[mask]"
   ]
  },
  {
   "cell_type": "code",
   "execution_count": 77,
   "metadata": {},
   "outputs": [
    {
     "data": {
      "text/html": [
       "<div>\n",
       "<style scoped>\n",
       "    .dataframe tbody tr th:only-of-type {\n",
       "        vertical-align: middle;\n",
       "    }\n",
       "\n",
       "    .dataframe tbody tr th {\n",
       "        vertical-align: top;\n",
       "    }\n",
       "\n",
       "    .dataframe thead th {\n",
       "        text-align: right;\n",
       "    }\n",
       "</style>\n",
       "<table border=\"1\" class=\"dataframe\">\n",
       "  <thead>\n",
       "    <tr style=\"text-align: right;\">\n",
       "      <th></th>\n",
       "      <th>Number of applications</th>\n",
       "      <th>Active substance</th>\n",
       "      <th>Indication</th>\n",
       "      <th>Designation date</th>\n",
       "      <th>Trade name</th>\n",
       "      <th>Approved / marketed application</th>\n",
       "    </tr>\n",
       "  </thead>\n",
       "  <tbody>\n",
       "    <tr>\n",
       "      <th>0</th>\n",
       "      <td>3</td>\n",
       "      <td>budesonide</td>\n",
       "      <td>Treatment of graft-versus-host disease/Treatme...</td>\n",
       "      <td>2006-11-03 01:00:00/2016-11-18 12:00:00/2013-0...</td>\n",
       "      <td>Jorveza,</td>\n",
       "      <td>1.0</td>\n",
       "    </tr>\n",
       "    <tr>\n",
       "      <th>0</th>\n",
       "      <td>3</td>\n",
       "      <td>obinutuzumab</td>\n",
       "      <td>Treatment of diffuse large B-cell lymphoma/Tre...</td>\n",
       "      <td>2014-08-22 02:00:00/2015-06-19 02:00:00/2012-1...</td>\n",
       "      <td>Gazyvaro, /Gazyvaro,</td>\n",
       "      <td>2.0</td>\n",
       "    </tr>\n",
       "    <tr>\n",
       "      <th>0</th>\n",
       "      <td>3</td>\n",
       "      <td>amikacin sulfate</td>\n",
       "      <td>Treatment of Pseudomonas aeruginosa lung infec...</td>\n",
       "      <td>2014-12-16 01:00:00/2006-07-25 00:00:00/2014-0...</td>\n",
       "      <td>Arikayce liposomal,</td>\n",
       "      <td>1.0</td>\n",
       "    </tr>\n",
       "    <tr>\n",
       "      <th>0</th>\n",
       "      <td>3</td>\n",
       "      <td>eculizumab</td>\n",
       "      <td>Treatment of atypical haemolytic uraemic syndr...</td>\n",
       "      <td>2009-07-24 00:00:00/2013-08-05 00:00:00/2014-0...</td>\n",
       "      <td>Soliris, /Soliris, /Soliris,</td>\n",
       "      <td>3.0</td>\n",
       "    </tr>\n",
       "    <tr>\n",
       "      <th>0</th>\n",
       "      <td>3</td>\n",
       "      <td>cysteamine bitartrate (gastroresistant) (merca...</td>\n",
       "      <td>Treatment of cystinosis/Treatment of pancreati...</td>\n",
       "      <td>2010-09-20 00:00:00/2014-03-26 01:00:00/2014-0...</td>\n",
       "      <td>Procysbi,</td>\n",
       "      <td>1.0</td>\n",
       "    </tr>\n",
       "    <tr>\n",
       "      <th>0</th>\n",
       "      <td>3</td>\n",
       "      <td>n-tert-butyl-3-[(5-methyl-2-{[4-(2-pyrrolidin-...</td>\n",
       "      <td>Treatment of post-essential thrombocythaemia m...</td>\n",
       "      <td>2010-11-26 01:00:00/2010-11-26 01:00:00/2010-1...</td>\n",
       "      <td>Inrebic, /Inrebic, /Inrebic,</td>\n",
       "      <td>3.0</td>\n",
       "    </tr>\n",
       "    <tr>\n",
       "      <th>0</th>\n",
       "      <td>3</td>\n",
       "      <td>l-asparaginase encapsulated in erythrocytes</td>\n",
       "      <td>Treatment of acute lymphoblastic leukaemia/Tre...</td>\n",
       "      <td>2006-10-27 02:00:00/2009-05-15 00:00:00/2013-0...</td>\n",
       "      <td>Graspa,</td>\n",
       "      <td>1.0</td>\n",
       "    </tr>\n",
       "    <tr>\n",
       "      <th>0</th>\n",
       "      <td>3</td>\n",
       "      <td>n-(methyl-diazacyclohexyl-methylbenzamide)-aza...</td>\n",
       "      <td>Treatment of multiple myeloma/Treatment of mas...</td>\n",
       "      <td>2005-06-20 00:00:00/2004-11-16 01:00:00/2004-1...</td>\n",
       "      <td>Masipro,</td>\n",
       "      <td>1.0</td>\n",
       "    </tr>\n",
       "    <tr>\n",
       "      <th>0</th>\n",
       "      <td>3</td>\n",
       "      <td>mexiletine hydrochloride</td>\n",
       "      <td>Treatment of myotonic disorders/Treatment of m...</td>\n",
       "      <td>2013-10-07 02:00:00/2014-11-19 01:00:00/2013-0...</td>\n",
       "      <td>Namuscla,</td>\n",
       "      <td>1.0</td>\n",
       "    </tr>\n",
       "    <tr>\n",
       "      <th>0</th>\n",
       "      <td>3</td>\n",
       "      <td>ketoconazole</td>\n",
       "      <td>Treatment of Cushing's syndrome/Treatment of g...</td>\n",
       "      <td>2012-08-09 02:00:00/2017-03-20 02:00:00/2012-0...</td>\n",
       "      <td>Ketoconazole HRA,</td>\n",
       "      <td>1.0</td>\n",
       "    </tr>\n",
       "    <tr>\n",
       "      <th>0</th>\n",
       "      <td>3</td>\n",
       "      <td>defibrotide</td>\n",
       "      <td>Prevention of graft-versus-host disease/Preven...</td>\n",
       "      <td>2013-11-13 02:00:00/2004-07-29 02:00:00/2004-0...</td>\n",
       "      <td>Defitelio,</td>\n",
       "      <td>1.0</td>\n",
       "    </tr>\n",
       "    <tr>\n",
       "      <th>0</th>\n",
       "      <td>3</td>\n",
       "      <td>hydrocortisone</td>\n",
       "      <td>Treatment of adrenal insufficiency/Treatment o...</td>\n",
       "      <td>2006-05-22 00:00:00/2007-03-20 01:00:00/2005-0...</td>\n",
       "      <td>Plenadren,</td>\n",
       "      <td>1.0</td>\n",
       "    </tr>\n",
       "    <tr>\n",
       "      <th>0</th>\n",
       "      <td>4</td>\n",
       "      <td>sinapultide</td>\n",
       "      <td>Respiratory distress syndrome in  premature ne...</td>\n",
       "      <td>2004-07-29 00:00:00/2002-02-04 01:00:00/2004-0...</td>\n",
       "      <td>Surfaxin,</td>\n",
       "      <td>1.0</td>\n",
       "    </tr>\n",
       "    <tr>\n",
       "      <th>0</th>\n",
       "      <td>4</td>\n",
       "      <td>pralatrexate</td>\n",
       "      <td>Treatment of Hodgkin's lymphoma/Treatment of c...</td>\n",
       "      <td>2010-10-01 00:00:00/2010-06-10 00:00:00/2009-0...</td>\n",
       "      <td>Folotyn,</td>\n",
       "      <td>1.0</td>\n",
       "    </tr>\n",
       "    <tr>\n",
       "      <th>0</th>\n",
       "      <td>4</td>\n",
       "      <td>metreleptin</td>\n",
       "      <td>Treatment of Berardinelli-Seip syndrome/Treatm...</td>\n",
       "      <td>2012-07-17 00:00:00/2012-07-17 00:00:00/2012-0...</td>\n",
       "      <td>Myalepta, /Myalepta, /Myalepta, /Myalepta,</td>\n",
       "      <td>4.0</td>\n",
       "    </tr>\n",
       "    <tr>\n",
       "      <th>0</th>\n",
       "      <td>4</td>\n",
       "      <td>idebenone</td>\n",
       "      <td>nan/nan/Treatment of Leber's hereditary optic ...</td>\n",
       "      <td>2001-11-20 01:00:00/2004-03-08 01:00:00/2007-0...</td>\n",
       "      <td>Sovrima, /Raxone, /Raxone,</td>\n",
       "      <td>3.0</td>\n",
       "    </tr>\n",
       "    <tr>\n",
       "      <th>0</th>\n",
       "      <td>4</td>\n",
       "      <td>(2s)-2-{[(2r)-2-[({[3,3-dibutyl-7-(methylthio)...</td>\n",
       "      <td>Treatment of progressive familial intrahepatic...</td>\n",
       "      <td>2012-07-17 00:00:00/2012-08-09 00:00:00/2012-0...</td>\n",
       "      <td>Bylvay,</td>\n",
       "      <td>1.0</td>\n",
       "    </tr>\n",
       "    <tr>\n",
       "      <th>0</th>\n",
       "      <td>4</td>\n",
       "      <td>decitabine</td>\n",
       "      <td>Treatment of myelodysplastic syndromes/Treatme...</td>\n",
       "      <td>2003-02-14 01:00:00/2006-06-08 02:00:00/2017-0...</td>\n",
       "      <td>Dacogen,</td>\n",
       "      <td>1.0</td>\n",
       "    </tr>\n",
       "    <tr>\n",
       "      <th>0</th>\n",
       "      <td>5</td>\n",
       "      <td>ibrutinib</td>\n",
       "      <td>Treatment of diffuse large B-cell lymphoma/Tre...</td>\n",
       "      <td>2013-11-13 02:00:00/2014-01-16 02:00:00/2015-0...</td>\n",
       "      <td>Imbruvica,</td>\n",
       "      <td>1.0</td>\n",
       "    </tr>\n",
       "    <tr>\n",
       "      <th>0</th>\n",
       "      <td>5</td>\n",
       "      <td>setmelanotide</td>\n",
       "      <td>Treatment of Bardet-Biedl syndrome/Treatment o...</td>\n",
       "      <td>2019-08-21 00:00:00/2020-01-09 01:00:00/2018-1...</td>\n",
       "      <td>Imcivree, /Imcivree,</td>\n",
       "      <td>2.0</td>\n",
       "    </tr>\n",
       "    <tr>\n",
       "      <th>0</th>\n",
       "      <td>6</td>\n",
       "      <td>human heterologous liver cells</td>\n",
       "      <td>Treatment of acute liver failure/Treatment of ...</td>\n",
       "      <td>2006-04-11 00:00:00/2007-09-14 00:00:00/2009-1...</td>\n",
       "      <td>Heparesc, /Heparesc, /Heparesc, /Heparesc, /He...</td>\n",
       "      <td>5.0</td>\n",
       "    </tr>\n",
       "    <tr>\n",
       "      <th>0</th>\n",
       "      <td>7</td>\n",
       "      <td>glyceryl tri-(4-phenylbutyrate)</td>\n",
       "      <td>Treatment of carbamoyl-phosphate synthase-1 de...</td>\n",
       "      <td>2010-02-03 01:00:00/2010-06-10 00:00:00/2010-0...</td>\n",
       "      <td>Ravicti, /Ravicti, /Ravicti, /Ravicti, /Ravict...</td>\n",
       "      <td>6.0</td>\n",
       "    </tr>\n",
       "    <tr>\n",
       "      <th>0</th>\n",
       "      <td>7</td>\n",
       "      <td>cannabidiol</td>\n",
       "      <td>Treatment of perinatal asphyxia/Prevention of ...</td>\n",
       "      <td>2015-07-28 00:00:00/2016-04-28 02:00:00/2016-0...</td>\n",
       "      <td>Epidyolex, /Epidyolex, /Epidyolex,</td>\n",
       "      <td>3.0</td>\n",
       "    </tr>\n",
       "    <tr>\n",
       "      <th>0</th>\n",
       "      <td>7</td>\n",
       "      <td>ciclosporin</td>\n",
       "      <td>Treatment of atopic keratoconjunctivitis/Treat...</td>\n",
       "      <td>2009-07-24 00:00:00/2007-10-29 01:00:00/2007-1...</td>\n",
       "      <td>Verkazia,</td>\n",
       "      <td>1.0</td>\n",
       "    </tr>\n",
       "    <tr>\n",
       "      <th>0</th>\n",
       "      <td>9</td>\n",
       "      <td>sirolimus</td>\n",
       "      <td>Treatment of chronic non-infectious uveitis/Tr...</td>\n",
       "      <td>2011-08-30 02:00:00/2015-10-09 02:00:00/2016-0...</td>\n",
       "      <td>Xegafri,</td>\n",
       "      <td>1.0</td>\n",
       "    </tr>\n",
       "    <tr>\n",
       "      <th>0</th>\n",
       "      <td>14</td>\n",
       "      <td>sodium benzoate</td>\n",
       "      <td>Treatment of ornithine transcarbamylase defici...</td>\n",
       "      <td>2016-07-14 02:00:00/2016-07-14 02:00:00/2016-0...</td>\n",
       "      <td>Prohippur, /Prohippur, /Prohippur, /Prohippur,...</td>\n",
       "      <td>8.0</td>\n",
       "    </tr>\n",
       "  </tbody>\n",
       "</table>\n",
       "</div>"
      ],
      "text/plain": [
       "  Number of applications                                   Active substance  \\\n",
       "0                      3                                         budesonide   \n",
       "0                      3                                       obinutuzumab   \n",
       "0                      3                                   amikacin sulfate   \n",
       "0                      3                                         eculizumab   \n",
       "0                      3  cysteamine bitartrate (gastroresistant) (merca...   \n",
       "0                      3  n-tert-butyl-3-[(5-methyl-2-{[4-(2-pyrrolidin-...   \n",
       "0                      3        l-asparaginase encapsulated in erythrocytes   \n",
       "0                      3  n-(methyl-diazacyclohexyl-methylbenzamide)-aza...   \n",
       "0                      3                           mexiletine hydrochloride   \n",
       "0                      3                                       ketoconazole   \n",
       "0                      3                                        defibrotide   \n",
       "0                      3                                     hydrocortisone   \n",
       "0                      4                                        sinapultide   \n",
       "0                      4                                       pralatrexate   \n",
       "0                      4                                        metreleptin   \n",
       "0                      4                                          idebenone   \n",
       "0                      4  (2s)-2-{[(2r)-2-[({[3,3-dibutyl-7-(methylthio)...   \n",
       "0                      4                                         decitabine   \n",
       "0                      5                                          ibrutinib   \n",
       "0                      5                                      setmelanotide   \n",
       "0                      6                     human heterologous liver cells   \n",
       "0                      7                    glyceryl tri-(4-phenylbutyrate)   \n",
       "0                      7                                        cannabidiol   \n",
       "0                      7                                        ciclosporin   \n",
       "0                      9                                          sirolimus   \n",
       "0                     14                                    sodium benzoate   \n",
       "\n",
       "                                          Indication  \\\n",
       "0  Treatment of graft-versus-host disease/Treatme...   \n",
       "0  Treatment of diffuse large B-cell lymphoma/Tre...   \n",
       "0  Treatment of Pseudomonas aeruginosa lung infec...   \n",
       "0  Treatment of atypical haemolytic uraemic syndr...   \n",
       "0  Treatment of cystinosis/Treatment of pancreati...   \n",
       "0  Treatment of post-essential thrombocythaemia m...   \n",
       "0  Treatment of acute lymphoblastic leukaemia/Tre...   \n",
       "0  Treatment of multiple myeloma/Treatment of mas...   \n",
       "0  Treatment of myotonic disorders/Treatment of m...   \n",
       "0  Treatment of Cushing's syndrome/Treatment of g...   \n",
       "0  Prevention of graft-versus-host disease/Preven...   \n",
       "0  Treatment of adrenal insufficiency/Treatment o...   \n",
       "0  Respiratory distress syndrome in  premature ne...   \n",
       "0  Treatment of Hodgkin's lymphoma/Treatment of c...   \n",
       "0  Treatment of Berardinelli-Seip syndrome/Treatm...   \n",
       "0  nan/nan/Treatment of Leber's hereditary optic ...   \n",
       "0  Treatment of progressive familial intrahepatic...   \n",
       "0  Treatment of myelodysplastic syndromes/Treatme...   \n",
       "0  Treatment of diffuse large B-cell lymphoma/Tre...   \n",
       "0  Treatment of Bardet-Biedl syndrome/Treatment o...   \n",
       "0  Treatment of acute liver failure/Treatment of ...   \n",
       "0  Treatment of carbamoyl-phosphate synthase-1 de...   \n",
       "0  Treatment of perinatal asphyxia/Prevention of ...   \n",
       "0  Treatment of atopic keratoconjunctivitis/Treat...   \n",
       "0  Treatment of chronic non-infectious uveitis/Tr...   \n",
       "0  Treatment of ornithine transcarbamylase defici...   \n",
       "\n",
       "                                    Designation date  \\\n",
       "0  2006-11-03 01:00:00/2016-11-18 12:00:00/2013-0...   \n",
       "0  2014-08-22 02:00:00/2015-06-19 02:00:00/2012-1...   \n",
       "0  2014-12-16 01:00:00/2006-07-25 00:00:00/2014-0...   \n",
       "0  2009-07-24 00:00:00/2013-08-05 00:00:00/2014-0...   \n",
       "0  2010-09-20 00:00:00/2014-03-26 01:00:00/2014-0...   \n",
       "0  2010-11-26 01:00:00/2010-11-26 01:00:00/2010-1...   \n",
       "0  2006-10-27 02:00:00/2009-05-15 00:00:00/2013-0...   \n",
       "0  2005-06-20 00:00:00/2004-11-16 01:00:00/2004-1...   \n",
       "0  2013-10-07 02:00:00/2014-11-19 01:00:00/2013-0...   \n",
       "0  2012-08-09 02:00:00/2017-03-20 02:00:00/2012-0...   \n",
       "0  2013-11-13 02:00:00/2004-07-29 02:00:00/2004-0...   \n",
       "0  2006-05-22 00:00:00/2007-03-20 01:00:00/2005-0...   \n",
       "0  2004-07-29 00:00:00/2002-02-04 01:00:00/2004-0...   \n",
       "0  2010-10-01 00:00:00/2010-06-10 00:00:00/2009-0...   \n",
       "0  2012-07-17 00:00:00/2012-07-17 00:00:00/2012-0...   \n",
       "0  2001-11-20 01:00:00/2004-03-08 01:00:00/2007-0...   \n",
       "0  2012-07-17 00:00:00/2012-08-09 00:00:00/2012-0...   \n",
       "0  2003-02-14 01:00:00/2006-06-08 02:00:00/2017-0...   \n",
       "0  2013-11-13 02:00:00/2014-01-16 02:00:00/2015-0...   \n",
       "0  2019-08-21 00:00:00/2020-01-09 01:00:00/2018-1...   \n",
       "0  2006-04-11 00:00:00/2007-09-14 00:00:00/2009-1...   \n",
       "0  2010-02-03 01:00:00/2010-06-10 00:00:00/2010-0...   \n",
       "0  2015-07-28 00:00:00/2016-04-28 02:00:00/2016-0...   \n",
       "0  2009-07-24 00:00:00/2007-10-29 01:00:00/2007-1...   \n",
       "0  2011-08-30 02:00:00/2015-10-09 02:00:00/2016-0...   \n",
       "0  2016-07-14 02:00:00/2016-07-14 02:00:00/2016-0...   \n",
       "\n",
       "                                          Trade name  \\\n",
       "0                                          Jorveza,    \n",
       "0                              Gazyvaro, /Gazyvaro,    \n",
       "0                               Arikayce liposomal,    \n",
       "0                      Soliris, /Soliris, /Soliris,    \n",
       "0                                         Procysbi,    \n",
       "0                      Inrebic, /Inrebic, /Inrebic,    \n",
       "0                                           Graspa,    \n",
       "0                                          Masipro,    \n",
       "0                                         Namuscla,    \n",
       "0                                 Ketoconazole HRA,    \n",
       "0                                        Defitelio,    \n",
       "0                                        Plenadren,    \n",
       "0                                         Surfaxin,    \n",
       "0                                          Folotyn,    \n",
       "0        Myalepta, /Myalepta, /Myalepta, /Myalepta,    \n",
       "0                        Sovrima, /Raxone, /Raxone,    \n",
       "0                                           Bylvay,    \n",
       "0                                          Dacogen,    \n",
       "0                                        Imbruvica,    \n",
       "0                              Imcivree, /Imcivree,    \n",
       "0  Heparesc, /Heparesc, /Heparesc, /Heparesc, /He...   \n",
       "0  Ravicti, /Ravicti, /Ravicti, /Ravicti, /Ravict...   \n",
       "0                Epidyolex, /Epidyolex, /Epidyolex,    \n",
       "0                                         Verkazia,    \n",
       "0                                          Xegafri,    \n",
       "0  Prohippur, /Prohippur, /Prohippur, /Prohippur,...   \n",
       "\n",
       "   Approved / marketed application  \n",
       "0                              1.0  \n",
       "0                              2.0  \n",
       "0                              1.0  \n",
       "0                              3.0  \n",
       "0                              1.0  \n",
       "0                              3.0  \n",
       "0                              1.0  \n",
       "0                              1.0  \n",
       "0                              1.0  \n",
       "0                              1.0  \n",
       "0                              1.0  \n",
       "0                              1.0  \n",
       "0                              1.0  \n",
       "0                              1.0  \n",
       "0                              4.0  \n",
       "0                              3.0  \n",
       "0                              1.0  \n",
       "0                              1.0  \n",
       "0                              1.0  \n",
       "0                              2.0  \n",
       "0                              5.0  \n",
       "0                              6.0  \n",
       "0                              3.0  \n",
       "0                              1.0  \n",
       "0                              1.0  \n",
       "0                              8.0  "
      ]
     },
     "execution_count": 77,
     "metadata": {},
     "output_type": "execute_result"
    }
   ],
   "source": [
    "mask = (substance_applications['Trade name'] != '') & (substance_applications['Number of applications'] > 2)\n",
    "substance_applications[mask]"
   ]
  },
  {
   "cell_type": "code",
   "execution_count": null,
   "metadata": {},
   "outputs": [],
   "source": []
  }
 ],
 "metadata": {
  "interpreter": {
   "hash": "101201ddc9adc7eb88527bdc3856c43f40dd0c4420e824d1ed5d01d8391793ab"
  },
  "kernelspec": {
   "display_name": "erlotinib-venv",
   "language": "python",
   "name": "python3"
  },
  "language_info": {
   "codemirror_mode": {
    "name": "ipython",
    "version": 3
   },
   "file_extension": ".py",
   "mimetype": "text/x-python",
   "name": "python",
   "nbconvert_exporter": "python",
   "pygments_lexer": "ipython3",
   "version": "3.7.5"
  },
  "widgets": {
   "application/vnd.jupyter.widget-state+json": {
    "state": {},
    "version_major": 2,
    "version_minor": 0
   }
  }
 },
 "nbformat": 4,
 "nbformat_minor": 2
}
