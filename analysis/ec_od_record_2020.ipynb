{
 "cells": [
  {
   "cell_type": "markdown",
   "metadata": {},
   "source": [
    "# EC Orphan Drug Records\n",
    "\n",
    "Source of data: https://ec.europa.eu/health/documents/community-register/html/reg_od_act.htm?sort=n"
   ]
  },
  {
   "cell_type": "code",
   "execution_count": 1,
   "metadata": {},
   "outputs": [],
   "source": [
    "import os\n",
    "\n",
    "import numpy as np\n",
    "import pandas as pd\n",
    "import plotly.colors\n",
    "import plotly.graph_objects as go"
   ]
  },
  {
   "cell_type": "code",
   "execution_count": 2,
   "metadata": {},
   "outputs": [
    {
     "data": {
      "text/html": [
       "<div>\n",
       "<style scoped>\n",
       "    .dataframe tbody tr th:only-of-type {\n",
       "        vertical-align: middle;\n",
       "    }\n",
       "\n",
       "    .dataframe tbody tr th {\n",
       "        vertical-align: top;\n",
       "    }\n",
       "\n",
       "    .dataframe thead th {\n",
       "        text-align: right;\n",
       "    }\n",
       "</style>\n",
       "<table border=\"1\" class=\"dataframe\">\n",
       "  <thead>\n",
       "    <tr style=\"text-align: right;\">\n",
       "      <th></th>\n",
       "      <th>EU #</th>\n",
       "      <th>Product</th>\n",
       "      <th>Indication</th>\n",
       "      <th>Sponsor</th>\n",
       "      <th>Designation date</th>\n",
       "      <th>Tradename - EU product # - Implemented on</th>\n",
       "    </tr>\n",
       "  </thead>\n",
       "  <tbody>\n",
       "    <tr>\n",
       "      <th>0</th>\n",
       "      <td>EU/3/21/2426</td>\n",
       "      <td>Ganglioside GM1</td>\n",
       "      <td>Treatment of amyotrophic lateral sclerosis</td>\n",
       "      <td>3R Pharma Consulting GmbH</td>\n",
       "      <td>13 Apr 2021</td>\n",
       "      <td>-</td>\n",
       "    </tr>\n",
       "    <tr>\n",
       "      <th>1</th>\n",
       "      <td>EU/3/21/2425</td>\n",
       "      <td>S-[5-(omega-methoxypoly(oxyethylene)-2-oxopent...</td>\n",
       "      <td>Treatment of cutaneous T-cell lymphoma</td>\n",
       "      <td>Almirall S.A.</td>\n",
       "      <td>13 Apr 2021</td>\n",
       "      <td>-</td>\n",
       "    </tr>\n",
       "    <tr>\n",
       "      <th>2</th>\n",
       "      <td>EU/3/21/2424</td>\n",
       "      <td>Cevostamab</td>\n",
       "      <td>Treatment of multiple myeloma</td>\n",
       "      <td>Roche Registration GmbH</td>\n",
       "      <td>13 Apr 2021</td>\n",
       "      <td>-</td>\n",
       "    </tr>\n",
       "    <tr>\n",
       "      <th>3</th>\n",
       "      <td>EU/3/21/2423</td>\n",
       "      <td>Vatiquinone</td>\n",
       "      <td>Treatment of Friedreich's ataxia</td>\n",
       "      <td>PTC Therapeutics International Limited</td>\n",
       "      <td>26 Mar 2021</td>\n",
       "      <td>-</td>\n",
       "    </tr>\n",
       "    <tr>\n",
       "      <th>4</th>\n",
       "      <td>EU/3/21/2422</td>\n",
       "      <td>Lorcaserin hydrochloride</td>\n",
       "      <td>Treatment of Dravet syndrome</td>\n",
       "      <td>Premier Research Group S.L.</td>\n",
       "      <td>26 Mar 2021</td>\n",
       "      <td>-</td>\n",
       "    </tr>\n",
       "    <tr>\n",
       "      <th>...</th>\n",
       "      <td>...</td>\n",
       "      <td>...</td>\n",
       "      <td>...</td>\n",
       "      <td>...</td>\n",
       "      <td>...</td>\n",
       "      <td>...</td>\n",
       "    </tr>\n",
       "    <tr>\n",
       "      <th>1763</th>\n",
       "      <td>EU/3/01/034</td>\n",
       "      <td>Gusperimus trihydrochloride</td>\n",
       "      <td>Treatment of Wegener’s granulomatosis</td>\n",
       "      <td>Nordic Group B.V.</td>\n",
       "      <td>29 Mar 2001</td>\n",
       "      <td>-</td>\n",
       "    </tr>\n",
       "    <tr>\n",
       "      <th>1764</th>\n",
       "      <td>EU/3/01/028</td>\n",
       "      <td>Inolimomab</td>\n",
       "      <td>Treatment of Graft versus Host Disease</td>\n",
       "      <td>Elsalys Biotech SA</td>\n",
       "      <td>05 Mar 2001</td>\n",
       "      <td>-</td>\n",
       "    </tr>\n",
       "    <tr>\n",
       "      <th>1765</th>\n",
       "      <td>EU/3/01/026</td>\n",
       "      <td>L-Lysine-N-acetyl-L-cysteinate</td>\n",
       "      <td>Treatment of cystic fibrosis</td>\n",
       "      <td>LABORATOIRES SMB SA</td>\n",
       "      <td>14 Feb 2001</td>\n",
       "      <td>-</td>\n",
       "    </tr>\n",
       "    <tr>\n",
       "      <th>1766</th>\n",
       "      <td>EU/3/00/013</td>\n",
       "      <td>Ethyl Eicosopentaenoate</td>\n",
       "      <td>Treatment of Huntington's disease</td>\n",
       "      <td>Amarin Neuroscience Limited</td>\n",
       "      <td>29 Dec 2000</td>\n",
       "      <td>-</td>\n",
       "    </tr>\n",
       "    <tr>\n",
       "      <th>1767</th>\n",
       "      <td>EU/3/00/005</td>\n",
       "      <td>Gemtuzumab Ozogamicin</td>\n",
       "      <td>Treatment of acute myeloid leukaemia</td>\n",
       "      <td>Pfizer Europe MA EEIG</td>\n",
       "      <td>18 Oct 2000</td>\n",
       "      <td>Mylotarg - \\nEU/1/18/1277 - \\n23 Apr 2018</td>\n",
       "    </tr>\n",
       "  </tbody>\n",
       "</table>\n",
       "<p>1768 rows × 6 columns</p>\n",
       "</div>"
      ],
      "text/plain": [
       "              EU #                                            Product  \\\n",
       "0     EU/3/21/2426                                    Ganglioside GM1   \n",
       "1     EU/3/21/2425  S-[5-(omega-methoxypoly(oxyethylene)-2-oxopent...   \n",
       "2     EU/3/21/2424                                         Cevostamab   \n",
       "3     EU/3/21/2423                                        Vatiquinone   \n",
       "4     EU/3/21/2422                           Lorcaserin hydrochloride   \n",
       "...            ...                                                ...   \n",
       "1763   EU/3/01/034                        Gusperimus trihydrochloride   \n",
       "1764   EU/3/01/028                                         Inolimomab   \n",
       "1765   EU/3/01/026                     L-Lysine-N-acetyl-L-cysteinate   \n",
       "1766   EU/3/00/013                            Ethyl Eicosopentaenoate   \n",
       "1767   EU/3/00/005                              Gemtuzumab Ozogamicin   \n",
       "\n",
       "                                      Indication  \\\n",
       "0     Treatment of amyotrophic lateral sclerosis   \n",
       "1         Treatment of cutaneous T-cell lymphoma   \n",
       "2                  Treatment of multiple myeloma   \n",
       "3               Treatment of Friedreich's ataxia   \n",
       "4                   Treatment of Dravet syndrome   \n",
       "...                                          ...   \n",
       "1763       Treatment of Wegener’s granulomatosis   \n",
       "1764      Treatment of Graft versus Host Disease   \n",
       "1765                Treatment of cystic fibrosis   \n",
       "1766           Treatment of Huntington's disease   \n",
       "1767        Treatment of acute myeloid leukaemia   \n",
       "\n",
       "                                     Sponsor Designation date  \\\n",
       "0                  3R Pharma Consulting GmbH      13 Apr 2021   \n",
       "1                              Almirall S.A.      13 Apr 2021   \n",
       "2                    Roche Registration GmbH      13 Apr 2021   \n",
       "3     PTC Therapeutics International Limited      26 Mar 2021   \n",
       "4                Premier Research Group S.L.      26 Mar 2021   \n",
       "...                                      ...              ...   \n",
       "1763                       Nordic Group B.V.      29 Mar 2001   \n",
       "1764                      Elsalys Biotech SA      05 Mar 2001   \n",
       "1765                     LABORATOIRES SMB SA      14 Feb 2001   \n",
       "1766             Amarin Neuroscience Limited      29 Dec 2000   \n",
       "1767                   Pfizer Europe MA EEIG      18 Oct 2000   \n",
       "\n",
       "      Tradename - EU product # - Implemented on  \n",
       "0                                             -  \n",
       "1                                             -  \n",
       "2                                             -  \n",
       "3                                             -  \n",
       "4                                             -  \n",
       "...                                         ...  \n",
       "1763                                          -  \n",
       "1764                                          -  \n",
       "1765                                          -  \n",
       "1766                                          -  \n",
       "1767  Mylotarg - \\nEU/1/18/1277 - \\n23 Apr 2018  \n",
       "\n",
       "[1768 rows x 6 columns]"
      ]
     },
     "execution_count": 2,
     "metadata": {},
     "output_type": "execute_result"
    }
   ],
   "source": [
    "directory = os.path.dirname(os.getcwd())\n",
    "path = os.path.join(directory, 'data/ec_orphan_desigantions_June_2021.xlsx')\n",
    "data = pd.read_excel(path, header=2)\n",
    "data"
   ]
  },
  {
   "cell_type": "markdown",
   "metadata": {},
   "source": [
    "## 1. Number of designations each year\n",
    "(from 2001 to 2020)"
   ]
  },
  {
   "cell_type": "code",
   "execution_count": 3,
   "metadata": {},
   "outputs": [
    {
     "data": {
      "application/vnd.plotly.v1+json": {
       "config": {
        "plotlyServerURL": "https://plot.ly"
       },
       "data": [
        {
         "marker": {
          "line": {
           "color": "#636EFA",
           "width": 1
          }
         },
         "type": "scatter",
         "x": [
          2001,
          2002,
          2003,
          2004,
          2005,
          2006,
          2007,
          2008,
          2009,
          2010,
          2011,
          2012,
          2013,
          2014,
          2015,
          2016,
          2017,
          2018,
          2019,
          2020
         ],
         "y": [
          13,
          17,
          17,
          32,
          46,
          42,
          59,
          46,
          59,
          86,
          71,
          94,
          98,
          160,
          150,
          180,
          141,
          158,
          110,
          145
         ]
        }
       ],
       "layout": {
        "template": {
         "data": {
          "bar": [
           {
            "error_x": {
             "color": "#2a3f5f"
            },
            "error_y": {
             "color": "#2a3f5f"
            },
            "marker": {
             "line": {
              "color": "white",
              "width": 0.5
             },
             "pattern": {
              "fillmode": "overlay",
              "size": 10,
              "solidity": 0.2
             }
            },
            "type": "bar"
           }
          ],
          "barpolar": [
           {
            "marker": {
             "line": {
              "color": "white",
              "width": 0.5
             },
             "pattern": {
              "fillmode": "overlay",
              "size": 10,
              "solidity": 0.2
             }
            },
            "type": "barpolar"
           }
          ],
          "carpet": [
           {
            "aaxis": {
             "endlinecolor": "#2a3f5f",
             "gridcolor": "#C8D4E3",
             "linecolor": "#C8D4E3",
             "minorgridcolor": "#C8D4E3",
             "startlinecolor": "#2a3f5f"
            },
            "baxis": {
             "endlinecolor": "#2a3f5f",
             "gridcolor": "#C8D4E3",
             "linecolor": "#C8D4E3",
             "minorgridcolor": "#C8D4E3",
             "startlinecolor": "#2a3f5f"
            },
            "type": "carpet"
           }
          ],
          "choropleth": [
           {
            "colorbar": {
             "outlinewidth": 0,
             "ticks": ""
            },
            "type": "choropleth"
           }
          ],
          "contour": [
           {
            "colorbar": {
             "outlinewidth": 0,
             "ticks": ""
            },
            "colorscale": [
             [
              0,
              "#0d0887"
             ],
             [
              0.1111111111111111,
              "#46039f"
             ],
             [
              0.2222222222222222,
              "#7201a8"
             ],
             [
              0.3333333333333333,
              "#9c179e"
             ],
             [
              0.4444444444444444,
              "#bd3786"
             ],
             [
              0.5555555555555556,
              "#d8576b"
             ],
             [
              0.6666666666666666,
              "#ed7953"
             ],
             [
              0.7777777777777778,
              "#fb9f3a"
             ],
             [
              0.8888888888888888,
              "#fdca26"
             ],
             [
              1,
              "#f0f921"
             ]
            ],
            "type": "contour"
           }
          ],
          "contourcarpet": [
           {
            "colorbar": {
             "outlinewidth": 0,
             "ticks": ""
            },
            "type": "contourcarpet"
           }
          ],
          "heatmap": [
           {
            "colorbar": {
             "outlinewidth": 0,
             "ticks": ""
            },
            "colorscale": [
             [
              0,
              "#0d0887"
             ],
             [
              0.1111111111111111,
              "#46039f"
             ],
             [
              0.2222222222222222,
              "#7201a8"
             ],
             [
              0.3333333333333333,
              "#9c179e"
             ],
             [
              0.4444444444444444,
              "#bd3786"
             ],
             [
              0.5555555555555556,
              "#d8576b"
             ],
             [
              0.6666666666666666,
              "#ed7953"
             ],
             [
              0.7777777777777778,
              "#fb9f3a"
             ],
             [
              0.8888888888888888,
              "#fdca26"
             ],
             [
              1,
              "#f0f921"
             ]
            ],
            "type": "heatmap"
           }
          ],
          "heatmapgl": [
           {
            "colorbar": {
             "outlinewidth": 0,
             "ticks": ""
            },
            "colorscale": [
             [
              0,
              "#0d0887"
             ],
             [
              0.1111111111111111,
              "#46039f"
             ],
             [
              0.2222222222222222,
              "#7201a8"
             ],
             [
              0.3333333333333333,
              "#9c179e"
             ],
             [
              0.4444444444444444,
              "#bd3786"
             ],
             [
              0.5555555555555556,
              "#d8576b"
             ],
             [
              0.6666666666666666,
              "#ed7953"
             ],
             [
              0.7777777777777778,
              "#fb9f3a"
             ],
             [
              0.8888888888888888,
              "#fdca26"
             ],
             [
              1,
              "#f0f921"
             ]
            ],
            "type": "heatmapgl"
           }
          ],
          "histogram": [
           {
            "marker": {
             "pattern": {
              "fillmode": "overlay",
              "size": 10,
              "solidity": 0.2
             }
            },
            "type": "histogram"
           }
          ],
          "histogram2d": [
           {
            "colorbar": {
             "outlinewidth": 0,
             "ticks": ""
            },
            "colorscale": [
             [
              0,
              "#0d0887"
             ],
             [
              0.1111111111111111,
              "#46039f"
             ],
             [
              0.2222222222222222,
              "#7201a8"
             ],
             [
              0.3333333333333333,
              "#9c179e"
             ],
             [
              0.4444444444444444,
              "#bd3786"
             ],
             [
              0.5555555555555556,
              "#d8576b"
             ],
             [
              0.6666666666666666,
              "#ed7953"
             ],
             [
              0.7777777777777778,
              "#fb9f3a"
             ],
             [
              0.8888888888888888,
              "#fdca26"
             ],
             [
              1,
              "#f0f921"
             ]
            ],
            "type": "histogram2d"
           }
          ],
          "histogram2dcontour": [
           {
            "colorbar": {
             "outlinewidth": 0,
             "ticks": ""
            },
            "colorscale": [
             [
              0,
              "#0d0887"
             ],
             [
              0.1111111111111111,
              "#46039f"
             ],
             [
              0.2222222222222222,
              "#7201a8"
             ],
             [
              0.3333333333333333,
              "#9c179e"
             ],
             [
              0.4444444444444444,
              "#bd3786"
             ],
             [
              0.5555555555555556,
              "#d8576b"
             ],
             [
              0.6666666666666666,
              "#ed7953"
             ],
             [
              0.7777777777777778,
              "#fb9f3a"
             ],
             [
              0.8888888888888888,
              "#fdca26"
             ],
             [
              1,
              "#f0f921"
             ]
            ],
            "type": "histogram2dcontour"
           }
          ],
          "mesh3d": [
           {
            "colorbar": {
             "outlinewidth": 0,
             "ticks": ""
            },
            "type": "mesh3d"
           }
          ],
          "parcoords": [
           {
            "line": {
             "colorbar": {
              "outlinewidth": 0,
              "ticks": ""
             }
            },
            "type": "parcoords"
           }
          ],
          "pie": [
           {
            "automargin": true,
            "type": "pie"
           }
          ],
          "scatter": [
           {
            "marker": {
             "colorbar": {
              "outlinewidth": 0,
              "ticks": ""
             }
            },
            "type": "scatter"
           }
          ],
          "scatter3d": [
           {
            "line": {
             "colorbar": {
              "outlinewidth": 0,
              "ticks": ""
             }
            },
            "marker": {
             "colorbar": {
              "outlinewidth": 0,
              "ticks": ""
             }
            },
            "type": "scatter3d"
           }
          ],
          "scattercarpet": [
           {
            "marker": {
             "colorbar": {
              "outlinewidth": 0,
              "ticks": ""
             }
            },
            "type": "scattercarpet"
           }
          ],
          "scattergeo": [
           {
            "marker": {
             "colorbar": {
              "outlinewidth": 0,
              "ticks": ""
             }
            },
            "type": "scattergeo"
           }
          ],
          "scattergl": [
           {
            "marker": {
             "colorbar": {
              "outlinewidth": 0,
              "ticks": ""
             }
            },
            "type": "scattergl"
           }
          ],
          "scattermapbox": [
           {
            "marker": {
             "colorbar": {
              "outlinewidth": 0,
              "ticks": ""
             }
            },
            "type": "scattermapbox"
           }
          ],
          "scatterpolar": [
           {
            "marker": {
             "colorbar": {
              "outlinewidth": 0,
              "ticks": ""
             }
            },
            "type": "scatterpolar"
           }
          ],
          "scatterpolargl": [
           {
            "marker": {
             "colorbar": {
              "outlinewidth": 0,
              "ticks": ""
             }
            },
            "type": "scatterpolargl"
           }
          ],
          "scatterternary": [
           {
            "marker": {
             "colorbar": {
              "outlinewidth": 0,
              "ticks": ""
             }
            },
            "type": "scatterternary"
           }
          ],
          "surface": [
           {
            "colorbar": {
             "outlinewidth": 0,
             "ticks": ""
            },
            "colorscale": [
             [
              0,
              "#0d0887"
             ],
             [
              0.1111111111111111,
              "#46039f"
             ],
             [
              0.2222222222222222,
              "#7201a8"
             ],
             [
              0.3333333333333333,
              "#9c179e"
             ],
             [
              0.4444444444444444,
              "#bd3786"
             ],
             [
              0.5555555555555556,
              "#d8576b"
             ],
             [
              0.6666666666666666,
              "#ed7953"
             ],
             [
              0.7777777777777778,
              "#fb9f3a"
             ],
             [
              0.8888888888888888,
              "#fdca26"
             ],
             [
              1,
              "#f0f921"
             ]
            ],
            "type": "surface"
           }
          ],
          "table": [
           {
            "cells": {
             "fill": {
              "color": "#EBF0F8"
             },
             "line": {
              "color": "white"
             }
            },
            "header": {
             "fill": {
              "color": "#C8D4E3"
             },
             "line": {
              "color": "white"
             }
            },
            "type": "table"
           }
          ]
         },
         "layout": {
          "annotationdefaults": {
           "arrowcolor": "#2a3f5f",
           "arrowhead": 0,
           "arrowwidth": 1
          },
          "autotypenumbers": "strict",
          "coloraxis": {
           "colorbar": {
            "outlinewidth": 0,
            "ticks": ""
           }
          },
          "colorscale": {
           "diverging": [
            [
             0,
             "#8e0152"
            ],
            [
             0.1,
             "#c51b7d"
            ],
            [
             0.2,
             "#de77ae"
            ],
            [
             0.3,
             "#f1b6da"
            ],
            [
             0.4,
             "#fde0ef"
            ],
            [
             0.5,
             "#f7f7f7"
            ],
            [
             0.6,
             "#e6f5d0"
            ],
            [
             0.7,
             "#b8e186"
            ],
            [
             0.8,
             "#7fbc41"
            ],
            [
             0.9,
             "#4d9221"
            ],
            [
             1,
             "#276419"
            ]
           ],
           "sequential": [
            [
             0,
             "#0d0887"
            ],
            [
             0.1111111111111111,
             "#46039f"
            ],
            [
             0.2222222222222222,
             "#7201a8"
            ],
            [
             0.3333333333333333,
             "#9c179e"
            ],
            [
             0.4444444444444444,
             "#bd3786"
            ],
            [
             0.5555555555555556,
             "#d8576b"
            ],
            [
             0.6666666666666666,
             "#ed7953"
            ],
            [
             0.7777777777777778,
             "#fb9f3a"
            ],
            [
             0.8888888888888888,
             "#fdca26"
            ],
            [
             1,
             "#f0f921"
            ]
           ],
           "sequentialminus": [
            [
             0,
             "#0d0887"
            ],
            [
             0.1111111111111111,
             "#46039f"
            ],
            [
             0.2222222222222222,
             "#7201a8"
            ],
            [
             0.3333333333333333,
             "#9c179e"
            ],
            [
             0.4444444444444444,
             "#bd3786"
            ],
            [
             0.5555555555555556,
             "#d8576b"
            ],
            [
             0.6666666666666666,
             "#ed7953"
            ],
            [
             0.7777777777777778,
             "#fb9f3a"
            ],
            [
             0.8888888888888888,
             "#fdca26"
            ],
            [
             1,
             "#f0f921"
            ]
           ]
          },
          "colorway": [
           "#636efa",
           "#EF553B",
           "#00cc96",
           "#ab63fa",
           "#FFA15A",
           "#19d3f3",
           "#FF6692",
           "#B6E880",
           "#FF97FF",
           "#FECB52"
          ],
          "font": {
           "color": "#2a3f5f"
          },
          "geo": {
           "bgcolor": "white",
           "lakecolor": "white",
           "landcolor": "white",
           "showlakes": true,
           "showland": true,
           "subunitcolor": "#C8D4E3"
          },
          "hoverlabel": {
           "align": "left"
          },
          "hovermode": "closest",
          "mapbox": {
           "style": "light"
          },
          "paper_bgcolor": "white",
          "plot_bgcolor": "white",
          "polar": {
           "angularaxis": {
            "gridcolor": "#EBF0F8",
            "linecolor": "#EBF0F8",
            "ticks": ""
           },
           "bgcolor": "white",
           "radialaxis": {
            "gridcolor": "#EBF0F8",
            "linecolor": "#EBF0F8",
            "ticks": ""
           }
          },
          "scene": {
           "xaxis": {
            "backgroundcolor": "white",
            "gridcolor": "#DFE8F3",
            "gridwidth": 2,
            "linecolor": "#EBF0F8",
            "showbackground": true,
            "ticks": "",
            "zerolinecolor": "#EBF0F8"
           },
           "yaxis": {
            "backgroundcolor": "white",
            "gridcolor": "#DFE8F3",
            "gridwidth": 2,
            "linecolor": "#EBF0F8",
            "showbackground": true,
            "ticks": "",
            "zerolinecolor": "#EBF0F8"
           },
           "zaxis": {
            "backgroundcolor": "white",
            "gridcolor": "#DFE8F3",
            "gridwidth": 2,
            "linecolor": "#EBF0F8",
            "showbackground": true,
            "ticks": "",
            "zerolinecolor": "#EBF0F8"
           }
          },
          "shapedefaults": {
           "line": {
            "color": "#2a3f5f"
           }
          },
          "ternary": {
           "aaxis": {
            "gridcolor": "#DFE8F3",
            "linecolor": "#A2B1C6",
            "ticks": ""
           },
           "baxis": {
            "gridcolor": "#DFE8F3",
            "linecolor": "#A2B1C6",
            "ticks": ""
           },
           "bgcolor": "white",
           "caxis": {
            "gridcolor": "#DFE8F3",
            "linecolor": "#A2B1C6",
            "ticks": ""
           }
          },
          "title": {
           "x": 0.05
          },
          "xaxis": {
           "automargin": true,
           "gridcolor": "#EBF0F8",
           "linecolor": "#EBF0F8",
           "ticks": "",
           "title": {
            "standoff": 15
           },
           "zerolinecolor": "#EBF0F8",
           "zerolinewidth": 2
          },
          "yaxis": {
           "automargin": true,
           "gridcolor": "#EBF0F8",
           "linecolor": "#EBF0F8",
           "ticks": "",
           "title": {
            "standoff": 15
           },
           "zerolinecolor": "#EBF0F8",
           "zerolinewidth": 2
          }
         }
        },
        "xaxis": {
         "title": {
          "text": "Year"
         }
        },
        "yaxis": {
         "title": {
          "text": "Number of designations"
         }
        }
       }
      }
     },
     "metadata": {},
     "output_type": "display_data"
    }
   ],
   "source": [
    "# Create container for time data\n",
    "time_evolution = pd.DataFrame(columns={'Year', 'Number of designations'})\n",
    "\n",
    "# Group data by year\n",
    "years = pd.to_datetime(\n",
    "    data['Designation date']).apply(lambda x: x.year)\n",
    "for year in years.dropna().unique():\n",
    "    # Ignore 2000 and 2020\n",
    "    if (year < 2001) or (year > 2020):\n",
    "        continue\n",
    "\n",
    "    # Get outcomes for that year\n",
    "    mask = years == year\n",
    "    n_designations = years[mask].count()\n",
    "    \n",
    "    # Append to main container\n",
    "    time_evolution = time_evolution.append(pd.DataFrame({\n",
    "        'Year': [year],\n",
    "        'Number of designations': [n_designations]}))\n",
    "\n",
    "# Sort by time\n",
    "time_evolution.sort_values(by='Year', inplace=True)\n",
    "\n",
    "# Create line plot\n",
    "fig = go.Figure()\n",
    "colour = plotly.colors.qualitative.Plotly[0]\n",
    "\n",
    "fig.add_trace(go.Scatter(\n",
    "    x=time_evolution['Year'],\n",
    "    y=time_evolution['Number of designations'],\n",
    "    marker=dict(\n",
    "        line=dict(color=colour, width=1))))\n",
    "\n",
    "# Set axes and template\n",
    "fig.update_layout(\n",
    "    template=\"plotly_white\",\n",
    "    xaxis_title='Year',\n",
    "    yaxis_title='Number of designations')\n",
    "\n",
    "fig.show()"
   ]
  },
  {
   "cell_type": "markdown",
   "metadata": {},
   "source": [
    "**Figure 1:** EC's record of orphan drug designations over time"
   ]
  },
  {
   "cell_type": "code",
   "execution_count": 4,
   "metadata": {},
   "outputs": [
    {
     "data": {
      "text/plain": [
       "1724"
      ]
     },
     "execution_count": 4,
     "metadata": {},
     "output_type": "execute_result"
    }
   ],
   "source": [
    "time_evolution['Number of designations'].sum()"
   ]
  },
  {
   "cell_type": "markdown",
   "metadata": {},
   "source": [
    "## 2 Number of applications per active substance\n",
    "Here we consider all data from 2000 - 2021!"
   ]
  },
  {
   "cell_type": "markdown",
   "metadata": {},
   "source": [
    "### 2.1 Number of single applications versus number of multiple applications"
   ]
  },
  {
   "cell_type": "code",
   "execution_count": 5,
   "metadata": {},
   "outputs": [
    {
     "data": {
      "application/vnd.plotly.v1+json": {
       "config": {
        "plotlyServerURL": "https://plot.ly"
       },
       "data": [
        {
         "labels": [
          "Single designation",
          "Multiple designations"
         ],
         "marker": {
          "colors": [
           "#636EFA",
           "#EF553B"
          ],
          "line": {
           "color": "#000000",
           "width": 1
          }
         },
         "pull": [
          0,
          0.2
         ],
         "sort": false,
         "type": "pie",
         "values": [
          1220,
          219
         ]
        }
       ],
       "layout": {
        "template": {
         "data": {
          "bar": [
           {
            "error_x": {
             "color": "#2a3f5f"
            },
            "error_y": {
             "color": "#2a3f5f"
            },
            "marker": {
             "line": {
              "color": "#E5ECF6",
              "width": 0.5
             },
             "pattern": {
              "fillmode": "overlay",
              "size": 10,
              "solidity": 0.2
             }
            },
            "type": "bar"
           }
          ],
          "barpolar": [
           {
            "marker": {
             "line": {
              "color": "#E5ECF6",
              "width": 0.5
             },
             "pattern": {
              "fillmode": "overlay",
              "size": 10,
              "solidity": 0.2
             }
            },
            "type": "barpolar"
           }
          ],
          "carpet": [
           {
            "aaxis": {
             "endlinecolor": "#2a3f5f",
             "gridcolor": "white",
             "linecolor": "white",
             "minorgridcolor": "white",
             "startlinecolor": "#2a3f5f"
            },
            "baxis": {
             "endlinecolor": "#2a3f5f",
             "gridcolor": "white",
             "linecolor": "white",
             "minorgridcolor": "white",
             "startlinecolor": "#2a3f5f"
            },
            "type": "carpet"
           }
          ],
          "choropleth": [
           {
            "colorbar": {
             "outlinewidth": 0,
             "ticks": ""
            },
            "type": "choropleth"
           }
          ],
          "contour": [
           {
            "colorbar": {
             "outlinewidth": 0,
             "ticks": ""
            },
            "colorscale": [
             [
              0,
              "#0d0887"
             ],
             [
              0.1111111111111111,
              "#46039f"
             ],
             [
              0.2222222222222222,
              "#7201a8"
             ],
             [
              0.3333333333333333,
              "#9c179e"
             ],
             [
              0.4444444444444444,
              "#bd3786"
             ],
             [
              0.5555555555555556,
              "#d8576b"
             ],
             [
              0.6666666666666666,
              "#ed7953"
             ],
             [
              0.7777777777777778,
              "#fb9f3a"
             ],
             [
              0.8888888888888888,
              "#fdca26"
             ],
             [
              1,
              "#f0f921"
             ]
            ],
            "type": "contour"
           }
          ],
          "contourcarpet": [
           {
            "colorbar": {
             "outlinewidth": 0,
             "ticks": ""
            },
            "type": "contourcarpet"
           }
          ],
          "heatmap": [
           {
            "colorbar": {
             "outlinewidth": 0,
             "ticks": ""
            },
            "colorscale": [
             [
              0,
              "#0d0887"
             ],
             [
              0.1111111111111111,
              "#46039f"
             ],
             [
              0.2222222222222222,
              "#7201a8"
             ],
             [
              0.3333333333333333,
              "#9c179e"
             ],
             [
              0.4444444444444444,
              "#bd3786"
             ],
             [
              0.5555555555555556,
              "#d8576b"
             ],
             [
              0.6666666666666666,
              "#ed7953"
             ],
             [
              0.7777777777777778,
              "#fb9f3a"
             ],
             [
              0.8888888888888888,
              "#fdca26"
             ],
             [
              1,
              "#f0f921"
             ]
            ],
            "type": "heatmap"
           }
          ],
          "heatmapgl": [
           {
            "colorbar": {
             "outlinewidth": 0,
             "ticks": ""
            },
            "colorscale": [
             [
              0,
              "#0d0887"
             ],
             [
              0.1111111111111111,
              "#46039f"
             ],
             [
              0.2222222222222222,
              "#7201a8"
             ],
             [
              0.3333333333333333,
              "#9c179e"
             ],
             [
              0.4444444444444444,
              "#bd3786"
             ],
             [
              0.5555555555555556,
              "#d8576b"
             ],
             [
              0.6666666666666666,
              "#ed7953"
             ],
             [
              0.7777777777777778,
              "#fb9f3a"
             ],
             [
              0.8888888888888888,
              "#fdca26"
             ],
             [
              1,
              "#f0f921"
             ]
            ],
            "type": "heatmapgl"
           }
          ],
          "histogram": [
           {
            "marker": {
             "pattern": {
              "fillmode": "overlay",
              "size": 10,
              "solidity": 0.2
             }
            },
            "type": "histogram"
           }
          ],
          "histogram2d": [
           {
            "colorbar": {
             "outlinewidth": 0,
             "ticks": ""
            },
            "colorscale": [
             [
              0,
              "#0d0887"
             ],
             [
              0.1111111111111111,
              "#46039f"
             ],
             [
              0.2222222222222222,
              "#7201a8"
             ],
             [
              0.3333333333333333,
              "#9c179e"
             ],
             [
              0.4444444444444444,
              "#bd3786"
             ],
             [
              0.5555555555555556,
              "#d8576b"
             ],
             [
              0.6666666666666666,
              "#ed7953"
             ],
             [
              0.7777777777777778,
              "#fb9f3a"
             ],
             [
              0.8888888888888888,
              "#fdca26"
             ],
             [
              1,
              "#f0f921"
             ]
            ],
            "type": "histogram2d"
           }
          ],
          "histogram2dcontour": [
           {
            "colorbar": {
             "outlinewidth": 0,
             "ticks": ""
            },
            "colorscale": [
             [
              0,
              "#0d0887"
             ],
             [
              0.1111111111111111,
              "#46039f"
             ],
             [
              0.2222222222222222,
              "#7201a8"
             ],
             [
              0.3333333333333333,
              "#9c179e"
             ],
             [
              0.4444444444444444,
              "#bd3786"
             ],
             [
              0.5555555555555556,
              "#d8576b"
             ],
             [
              0.6666666666666666,
              "#ed7953"
             ],
             [
              0.7777777777777778,
              "#fb9f3a"
             ],
             [
              0.8888888888888888,
              "#fdca26"
             ],
             [
              1,
              "#f0f921"
             ]
            ],
            "type": "histogram2dcontour"
           }
          ],
          "mesh3d": [
           {
            "colorbar": {
             "outlinewidth": 0,
             "ticks": ""
            },
            "type": "mesh3d"
           }
          ],
          "parcoords": [
           {
            "line": {
             "colorbar": {
              "outlinewidth": 0,
              "ticks": ""
             }
            },
            "type": "parcoords"
           }
          ],
          "pie": [
           {
            "automargin": true,
            "type": "pie"
           }
          ],
          "scatter": [
           {
            "marker": {
             "colorbar": {
              "outlinewidth": 0,
              "ticks": ""
             }
            },
            "type": "scatter"
           }
          ],
          "scatter3d": [
           {
            "line": {
             "colorbar": {
              "outlinewidth": 0,
              "ticks": ""
             }
            },
            "marker": {
             "colorbar": {
              "outlinewidth": 0,
              "ticks": ""
             }
            },
            "type": "scatter3d"
           }
          ],
          "scattercarpet": [
           {
            "marker": {
             "colorbar": {
              "outlinewidth": 0,
              "ticks": ""
             }
            },
            "type": "scattercarpet"
           }
          ],
          "scattergeo": [
           {
            "marker": {
             "colorbar": {
              "outlinewidth": 0,
              "ticks": ""
             }
            },
            "type": "scattergeo"
           }
          ],
          "scattergl": [
           {
            "marker": {
             "colorbar": {
              "outlinewidth": 0,
              "ticks": ""
             }
            },
            "type": "scattergl"
           }
          ],
          "scattermapbox": [
           {
            "marker": {
             "colorbar": {
              "outlinewidth": 0,
              "ticks": ""
             }
            },
            "type": "scattermapbox"
           }
          ],
          "scatterpolar": [
           {
            "marker": {
             "colorbar": {
              "outlinewidth": 0,
              "ticks": ""
             }
            },
            "type": "scatterpolar"
           }
          ],
          "scatterpolargl": [
           {
            "marker": {
             "colorbar": {
              "outlinewidth": 0,
              "ticks": ""
             }
            },
            "type": "scatterpolargl"
           }
          ],
          "scatterternary": [
           {
            "marker": {
             "colorbar": {
              "outlinewidth": 0,
              "ticks": ""
             }
            },
            "type": "scatterternary"
           }
          ],
          "surface": [
           {
            "colorbar": {
             "outlinewidth": 0,
             "ticks": ""
            },
            "colorscale": [
             [
              0,
              "#0d0887"
             ],
             [
              0.1111111111111111,
              "#46039f"
             ],
             [
              0.2222222222222222,
              "#7201a8"
             ],
             [
              0.3333333333333333,
              "#9c179e"
             ],
             [
              0.4444444444444444,
              "#bd3786"
             ],
             [
              0.5555555555555556,
              "#d8576b"
             ],
             [
              0.6666666666666666,
              "#ed7953"
             ],
             [
              0.7777777777777778,
              "#fb9f3a"
             ],
             [
              0.8888888888888888,
              "#fdca26"
             ],
             [
              1,
              "#f0f921"
             ]
            ],
            "type": "surface"
           }
          ],
          "table": [
           {
            "cells": {
             "fill": {
              "color": "#EBF0F8"
             },
             "line": {
              "color": "white"
             }
            },
            "header": {
             "fill": {
              "color": "#C8D4E3"
             },
             "line": {
              "color": "white"
             }
            },
            "type": "table"
           }
          ]
         },
         "layout": {
          "annotationdefaults": {
           "arrowcolor": "#2a3f5f",
           "arrowhead": 0,
           "arrowwidth": 1
          },
          "autotypenumbers": "strict",
          "coloraxis": {
           "colorbar": {
            "outlinewidth": 0,
            "ticks": ""
           }
          },
          "colorscale": {
           "diverging": [
            [
             0,
             "#8e0152"
            ],
            [
             0.1,
             "#c51b7d"
            ],
            [
             0.2,
             "#de77ae"
            ],
            [
             0.3,
             "#f1b6da"
            ],
            [
             0.4,
             "#fde0ef"
            ],
            [
             0.5,
             "#f7f7f7"
            ],
            [
             0.6,
             "#e6f5d0"
            ],
            [
             0.7,
             "#b8e186"
            ],
            [
             0.8,
             "#7fbc41"
            ],
            [
             0.9,
             "#4d9221"
            ],
            [
             1,
             "#276419"
            ]
           ],
           "sequential": [
            [
             0,
             "#0d0887"
            ],
            [
             0.1111111111111111,
             "#46039f"
            ],
            [
             0.2222222222222222,
             "#7201a8"
            ],
            [
             0.3333333333333333,
             "#9c179e"
            ],
            [
             0.4444444444444444,
             "#bd3786"
            ],
            [
             0.5555555555555556,
             "#d8576b"
            ],
            [
             0.6666666666666666,
             "#ed7953"
            ],
            [
             0.7777777777777778,
             "#fb9f3a"
            ],
            [
             0.8888888888888888,
             "#fdca26"
            ],
            [
             1,
             "#f0f921"
            ]
           ],
           "sequentialminus": [
            [
             0,
             "#0d0887"
            ],
            [
             0.1111111111111111,
             "#46039f"
            ],
            [
             0.2222222222222222,
             "#7201a8"
            ],
            [
             0.3333333333333333,
             "#9c179e"
            ],
            [
             0.4444444444444444,
             "#bd3786"
            ],
            [
             0.5555555555555556,
             "#d8576b"
            ],
            [
             0.6666666666666666,
             "#ed7953"
            ],
            [
             0.7777777777777778,
             "#fb9f3a"
            ],
            [
             0.8888888888888888,
             "#fdca26"
            ],
            [
             1,
             "#f0f921"
            ]
           ]
          },
          "colorway": [
           "#636efa",
           "#EF553B",
           "#00cc96",
           "#ab63fa",
           "#FFA15A",
           "#19d3f3",
           "#FF6692",
           "#B6E880",
           "#FF97FF",
           "#FECB52"
          ],
          "font": {
           "color": "#2a3f5f"
          },
          "geo": {
           "bgcolor": "white",
           "lakecolor": "white",
           "landcolor": "#E5ECF6",
           "showlakes": true,
           "showland": true,
           "subunitcolor": "white"
          },
          "hoverlabel": {
           "align": "left"
          },
          "hovermode": "closest",
          "mapbox": {
           "style": "light"
          },
          "paper_bgcolor": "white",
          "plot_bgcolor": "#E5ECF6",
          "polar": {
           "angularaxis": {
            "gridcolor": "white",
            "linecolor": "white",
            "ticks": ""
           },
           "bgcolor": "#E5ECF6",
           "radialaxis": {
            "gridcolor": "white",
            "linecolor": "white",
            "ticks": ""
           }
          },
          "scene": {
           "xaxis": {
            "backgroundcolor": "#E5ECF6",
            "gridcolor": "white",
            "gridwidth": 2,
            "linecolor": "white",
            "showbackground": true,
            "ticks": "",
            "zerolinecolor": "white"
           },
           "yaxis": {
            "backgroundcolor": "#E5ECF6",
            "gridcolor": "white",
            "gridwidth": 2,
            "linecolor": "white",
            "showbackground": true,
            "ticks": "",
            "zerolinecolor": "white"
           },
           "zaxis": {
            "backgroundcolor": "#E5ECF6",
            "gridcolor": "white",
            "gridwidth": 2,
            "linecolor": "white",
            "showbackground": true,
            "ticks": "",
            "zerolinecolor": "white"
           }
          },
          "shapedefaults": {
           "line": {
            "color": "#2a3f5f"
           }
          },
          "ternary": {
           "aaxis": {
            "gridcolor": "white",
            "linecolor": "white",
            "ticks": ""
           },
           "baxis": {
            "gridcolor": "white",
            "linecolor": "white",
            "ticks": ""
           },
           "bgcolor": "#E5ECF6",
           "caxis": {
            "gridcolor": "white",
            "linecolor": "white",
            "ticks": ""
           }
          },
          "title": {
           "x": 0.05
          },
          "xaxis": {
           "automargin": true,
           "gridcolor": "white",
           "linecolor": "white",
           "ticks": "",
           "title": {
            "standoff": 15
           },
           "zerolinecolor": "white",
           "zerolinewidth": 2
          },
          "yaxis": {
           "automargin": true,
           "gridcolor": "white",
           "linecolor": "white",
           "ticks": "",
           "title": {
            "standoff": 15
           },
           "zerolinecolor": "white",
           "zerolinewidth": 2
          }
         }
        }
       }
      }
     },
     "metadata": {},
     "output_type": "display_data"
    }
   ],
   "source": [
    "# Create container for name, number of applications\n",
    "substance_applications = pd.DataFrame(\n",
    "    columns={'Product', 'Number of designations', 'Trade names', 'Trade name', 'Indication', 'Designation date', 'Number of MAs', 'EU number', 'Implemented on'})\n",
    "\n",
    "# Get the number of applications\n",
    "temp = data.copy()\n",
    "temp['Product'] = temp['Product'].str.lower()\n",
    "substances = temp['Product'].unique()\n",
    "for substance in substances:\n",
    "    # Get number\n",
    "    mask = temp['Product'] == substance\n",
    "    n_applications = len(temp[mask])\n",
    "\n",
    "    # Get years of designation\n",
    "    designation_date = ''\n",
    "    for date in temp[mask]['Designation date']:\n",
    "        if designation_date != '':\n",
    "            designation_date += '\\n '\n",
    "        designation_date += str(date)\n",
    "\n",
    "    # Get trade name\n",
    "    trade_name = ''\n",
    "    trade_names = ''\n",
    "    eu_number = ''\n",
    "    implemented_on = ''\n",
    "    n_approved = 0\n",
    "    for name in temp[mask]['Tradename - EU product # - Implemented on']:\n",
    "        if trade_names != '':\n",
    "            trade_names += '\\n '\n",
    "            eu_number += '\\n '\n",
    "            implemented_on += '\\n '\n",
    "        if name == '-':\n",
    "            trade_names += '-'\n",
    "            eu_number += '-'\n",
    "            implemented_on += '-'\n",
    "            continue\n",
    "        tn, eu_n, date = name.split(' - \\n')\n",
    "        trade_names += tn\n",
    "        eu_number += eu_n\n",
    "        implemented_on += date\n",
    "        n_approved += 1\n",
    "        if trade_name == '':\n",
    "            trade_name += tn\n",
    "\n",
    "    # Get indication\n",
    "    indication = ''\n",
    "    for ind in temp[mask]['Indication']:\n",
    "        if indication != '':\n",
    "            indication += '\\n '\n",
    "        indication += ind\n",
    "    \n",
    "    # Append to container\n",
    "    substance_applications = substance_applications.append(pd.DataFrame({\n",
    "        'Product': [substance],\n",
    "        'Number of designations': [n_applications],\n",
    "        'Indication': indication,\n",
    "        'Designation date': designation_date,\n",
    "        'Trade name': trade_name,\n",
    "        'Trade names': trade_names,\n",
    "        'Number of MAs': n_approved,\n",
    "        'EU number': eu_number,\n",
    "        'Implemented on': implemented_on}))\n",
    "\n",
    "# Compute number of single and multi applications\n",
    "mask = substance_applications['Number of designations'] == 1\n",
    "n_single = len(substance_applications[mask])\n",
    "mask = substance_applications['Number of designations'] > 1\n",
    "n_multi = len(substance_applications[mask])\n",
    "\n",
    "# Create figure\n",
    "fig = go.Figure()\n",
    "colours = plotly.colors.qualitative.Plotly\n",
    "\n",
    "fig.add_trace(go.Pie(\n",
    "    labels=['Single designation', 'Multiple designations'],\n",
    "    values=[n_single, n_multi],\n",
    "    sort=False,\n",
    "    pull=[0, 0.2],\n",
    "    marker=dict(\n",
    "        colors=colours[:2], \n",
    "        line=dict(color='#000000', width=1))))\n",
    "fig.show()"
   ]
  },
  {
   "cell_type": "markdown",
   "metadata": {},
   "source": [
    "**Figure 2:** Number of orphan designation per product (combination of substances count as distinct, so do distinct names for the same substance)."
   ]
  },
  {
   "cell_type": "markdown",
   "metadata": {},
   "source": [
    "### 2.2 Distribution among multiple applications"
   ]
  },
  {
   "cell_type": "code",
   "execution_count": 8,
   "metadata": {},
   "outputs": [
    {
     "data": {
      "application/vnd.plotly.v1+json": {
       "config": {
        "plotlyServerURL": "https://plot.ly"
       },
       "data": [
        {
         "labels": [
          "1 ODD",
          "2 ODD",
          ">2 ODD"
         ],
         "marker": {
          "colors": [
           "rgb(77,175,74)",
           "rgb(55,126,184)",
           "rgb(228,26,28)"
          ],
          "line": {
           "color": "#000000",
           "width": 1
          }
         },
         "sort": false,
         "textinfo": "label+value+percent",
         "type": "pie",
         "values": [
          1220,
          166,
          53
         ]
        }
       ],
       "layout": {
        "showlegend": false,
        "template": {
         "data": {
          "bar": [
           {
            "error_x": {
             "color": "#2a3f5f"
            },
            "error_y": {
             "color": "#2a3f5f"
            },
            "marker": {
             "line": {
              "color": "#E5ECF6",
              "width": 0.5
             },
             "pattern": {
              "fillmode": "overlay",
              "size": 10,
              "solidity": 0.2
             }
            },
            "type": "bar"
           }
          ],
          "barpolar": [
           {
            "marker": {
             "line": {
              "color": "#E5ECF6",
              "width": 0.5
             },
             "pattern": {
              "fillmode": "overlay",
              "size": 10,
              "solidity": 0.2
             }
            },
            "type": "barpolar"
           }
          ],
          "carpet": [
           {
            "aaxis": {
             "endlinecolor": "#2a3f5f",
             "gridcolor": "white",
             "linecolor": "white",
             "minorgridcolor": "white",
             "startlinecolor": "#2a3f5f"
            },
            "baxis": {
             "endlinecolor": "#2a3f5f",
             "gridcolor": "white",
             "linecolor": "white",
             "minorgridcolor": "white",
             "startlinecolor": "#2a3f5f"
            },
            "type": "carpet"
           }
          ],
          "choropleth": [
           {
            "colorbar": {
             "outlinewidth": 0,
             "ticks": ""
            },
            "type": "choropleth"
           }
          ],
          "contour": [
           {
            "colorbar": {
             "outlinewidth": 0,
             "ticks": ""
            },
            "colorscale": [
             [
              0,
              "#0d0887"
             ],
             [
              0.1111111111111111,
              "#46039f"
             ],
             [
              0.2222222222222222,
              "#7201a8"
             ],
             [
              0.3333333333333333,
              "#9c179e"
             ],
             [
              0.4444444444444444,
              "#bd3786"
             ],
             [
              0.5555555555555556,
              "#d8576b"
             ],
             [
              0.6666666666666666,
              "#ed7953"
             ],
             [
              0.7777777777777778,
              "#fb9f3a"
             ],
             [
              0.8888888888888888,
              "#fdca26"
             ],
             [
              1,
              "#f0f921"
             ]
            ],
            "type": "contour"
           }
          ],
          "contourcarpet": [
           {
            "colorbar": {
             "outlinewidth": 0,
             "ticks": ""
            },
            "type": "contourcarpet"
           }
          ],
          "heatmap": [
           {
            "colorbar": {
             "outlinewidth": 0,
             "ticks": ""
            },
            "colorscale": [
             [
              0,
              "#0d0887"
             ],
             [
              0.1111111111111111,
              "#46039f"
             ],
             [
              0.2222222222222222,
              "#7201a8"
             ],
             [
              0.3333333333333333,
              "#9c179e"
             ],
             [
              0.4444444444444444,
              "#bd3786"
             ],
             [
              0.5555555555555556,
              "#d8576b"
             ],
             [
              0.6666666666666666,
              "#ed7953"
             ],
             [
              0.7777777777777778,
              "#fb9f3a"
             ],
             [
              0.8888888888888888,
              "#fdca26"
             ],
             [
              1,
              "#f0f921"
             ]
            ],
            "type": "heatmap"
           }
          ],
          "heatmapgl": [
           {
            "colorbar": {
             "outlinewidth": 0,
             "ticks": ""
            },
            "colorscale": [
             [
              0,
              "#0d0887"
             ],
             [
              0.1111111111111111,
              "#46039f"
             ],
             [
              0.2222222222222222,
              "#7201a8"
             ],
             [
              0.3333333333333333,
              "#9c179e"
             ],
             [
              0.4444444444444444,
              "#bd3786"
             ],
             [
              0.5555555555555556,
              "#d8576b"
             ],
             [
              0.6666666666666666,
              "#ed7953"
             ],
             [
              0.7777777777777778,
              "#fb9f3a"
             ],
             [
              0.8888888888888888,
              "#fdca26"
             ],
             [
              1,
              "#f0f921"
             ]
            ],
            "type": "heatmapgl"
           }
          ],
          "histogram": [
           {
            "marker": {
             "pattern": {
              "fillmode": "overlay",
              "size": 10,
              "solidity": 0.2
             }
            },
            "type": "histogram"
           }
          ],
          "histogram2d": [
           {
            "colorbar": {
             "outlinewidth": 0,
             "ticks": ""
            },
            "colorscale": [
             [
              0,
              "#0d0887"
             ],
             [
              0.1111111111111111,
              "#46039f"
             ],
             [
              0.2222222222222222,
              "#7201a8"
             ],
             [
              0.3333333333333333,
              "#9c179e"
             ],
             [
              0.4444444444444444,
              "#bd3786"
             ],
             [
              0.5555555555555556,
              "#d8576b"
             ],
             [
              0.6666666666666666,
              "#ed7953"
             ],
             [
              0.7777777777777778,
              "#fb9f3a"
             ],
             [
              0.8888888888888888,
              "#fdca26"
             ],
             [
              1,
              "#f0f921"
             ]
            ],
            "type": "histogram2d"
           }
          ],
          "histogram2dcontour": [
           {
            "colorbar": {
             "outlinewidth": 0,
             "ticks": ""
            },
            "colorscale": [
             [
              0,
              "#0d0887"
             ],
             [
              0.1111111111111111,
              "#46039f"
             ],
             [
              0.2222222222222222,
              "#7201a8"
             ],
             [
              0.3333333333333333,
              "#9c179e"
             ],
             [
              0.4444444444444444,
              "#bd3786"
             ],
             [
              0.5555555555555556,
              "#d8576b"
             ],
             [
              0.6666666666666666,
              "#ed7953"
             ],
             [
              0.7777777777777778,
              "#fb9f3a"
             ],
             [
              0.8888888888888888,
              "#fdca26"
             ],
             [
              1,
              "#f0f921"
             ]
            ],
            "type": "histogram2dcontour"
           }
          ],
          "mesh3d": [
           {
            "colorbar": {
             "outlinewidth": 0,
             "ticks": ""
            },
            "type": "mesh3d"
           }
          ],
          "parcoords": [
           {
            "line": {
             "colorbar": {
              "outlinewidth": 0,
              "ticks": ""
             }
            },
            "type": "parcoords"
           }
          ],
          "pie": [
           {
            "automargin": true,
            "type": "pie"
           }
          ],
          "scatter": [
           {
            "marker": {
             "colorbar": {
              "outlinewidth": 0,
              "ticks": ""
             }
            },
            "type": "scatter"
           }
          ],
          "scatter3d": [
           {
            "line": {
             "colorbar": {
              "outlinewidth": 0,
              "ticks": ""
             }
            },
            "marker": {
             "colorbar": {
              "outlinewidth": 0,
              "ticks": ""
             }
            },
            "type": "scatter3d"
           }
          ],
          "scattercarpet": [
           {
            "marker": {
             "colorbar": {
              "outlinewidth": 0,
              "ticks": ""
             }
            },
            "type": "scattercarpet"
           }
          ],
          "scattergeo": [
           {
            "marker": {
             "colorbar": {
              "outlinewidth": 0,
              "ticks": ""
             }
            },
            "type": "scattergeo"
           }
          ],
          "scattergl": [
           {
            "marker": {
             "colorbar": {
              "outlinewidth": 0,
              "ticks": ""
             }
            },
            "type": "scattergl"
           }
          ],
          "scattermapbox": [
           {
            "marker": {
             "colorbar": {
              "outlinewidth": 0,
              "ticks": ""
             }
            },
            "type": "scattermapbox"
           }
          ],
          "scatterpolar": [
           {
            "marker": {
             "colorbar": {
              "outlinewidth": 0,
              "ticks": ""
             }
            },
            "type": "scatterpolar"
           }
          ],
          "scatterpolargl": [
           {
            "marker": {
             "colorbar": {
              "outlinewidth": 0,
              "ticks": ""
             }
            },
            "type": "scatterpolargl"
           }
          ],
          "scatterternary": [
           {
            "marker": {
             "colorbar": {
              "outlinewidth": 0,
              "ticks": ""
             }
            },
            "type": "scatterternary"
           }
          ],
          "surface": [
           {
            "colorbar": {
             "outlinewidth": 0,
             "ticks": ""
            },
            "colorscale": [
             [
              0,
              "#0d0887"
             ],
             [
              0.1111111111111111,
              "#46039f"
             ],
             [
              0.2222222222222222,
              "#7201a8"
             ],
             [
              0.3333333333333333,
              "#9c179e"
             ],
             [
              0.4444444444444444,
              "#bd3786"
             ],
             [
              0.5555555555555556,
              "#d8576b"
             ],
             [
              0.6666666666666666,
              "#ed7953"
             ],
             [
              0.7777777777777778,
              "#fb9f3a"
             ],
             [
              0.8888888888888888,
              "#fdca26"
             ],
             [
              1,
              "#f0f921"
             ]
            ],
            "type": "surface"
           }
          ],
          "table": [
           {
            "cells": {
             "fill": {
              "color": "#EBF0F8"
             },
             "line": {
              "color": "white"
             }
            },
            "header": {
             "fill": {
              "color": "#C8D4E3"
             },
             "line": {
              "color": "white"
             }
            },
            "type": "table"
           }
          ]
         },
         "layout": {
          "annotationdefaults": {
           "arrowcolor": "#2a3f5f",
           "arrowhead": 0,
           "arrowwidth": 1
          },
          "autotypenumbers": "strict",
          "coloraxis": {
           "colorbar": {
            "outlinewidth": 0,
            "ticks": ""
           }
          },
          "colorscale": {
           "diverging": [
            [
             0,
             "#8e0152"
            ],
            [
             0.1,
             "#c51b7d"
            ],
            [
             0.2,
             "#de77ae"
            ],
            [
             0.3,
             "#f1b6da"
            ],
            [
             0.4,
             "#fde0ef"
            ],
            [
             0.5,
             "#f7f7f7"
            ],
            [
             0.6,
             "#e6f5d0"
            ],
            [
             0.7,
             "#b8e186"
            ],
            [
             0.8,
             "#7fbc41"
            ],
            [
             0.9,
             "#4d9221"
            ],
            [
             1,
             "#276419"
            ]
           ],
           "sequential": [
            [
             0,
             "#0d0887"
            ],
            [
             0.1111111111111111,
             "#46039f"
            ],
            [
             0.2222222222222222,
             "#7201a8"
            ],
            [
             0.3333333333333333,
             "#9c179e"
            ],
            [
             0.4444444444444444,
             "#bd3786"
            ],
            [
             0.5555555555555556,
             "#d8576b"
            ],
            [
             0.6666666666666666,
             "#ed7953"
            ],
            [
             0.7777777777777778,
             "#fb9f3a"
            ],
            [
             0.8888888888888888,
             "#fdca26"
            ],
            [
             1,
             "#f0f921"
            ]
           ],
           "sequentialminus": [
            [
             0,
             "#0d0887"
            ],
            [
             0.1111111111111111,
             "#46039f"
            ],
            [
             0.2222222222222222,
             "#7201a8"
            ],
            [
             0.3333333333333333,
             "#9c179e"
            ],
            [
             0.4444444444444444,
             "#bd3786"
            ],
            [
             0.5555555555555556,
             "#d8576b"
            ],
            [
             0.6666666666666666,
             "#ed7953"
            ],
            [
             0.7777777777777778,
             "#fb9f3a"
            ],
            [
             0.8888888888888888,
             "#fdca26"
            ],
            [
             1,
             "#f0f921"
            ]
           ]
          },
          "colorway": [
           "#636efa",
           "#EF553B",
           "#00cc96",
           "#ab63fa",
           "#FFA15A",
           "#19d3f3",
           "#FF6692",
           "#B6E880",
           "#FF97FF",
           "#FECB52"
          ],
          "font": {
           "color": "#2a3f5f"
          },
          "geo": {
           "bgcolor": "white",
           "lakecolor": "white",
           "landcolor": "#E5ECF6",
           "showlakes": true,
           "showland": true,
           "subunitcolor": "white"
          },
          "hoverlabel": {
           "align": "left"
          },
          "hovermode": "closest",
          "mapbox": {
           "style": "light"
          },
          "paper_bgcolor": "white",
          "plot_bgcolor": "#E5ECF6",
          "polar": {
           "angularaxis": {
            "gridcolor": "white",
            "linecolor": "white",
            "ticks": ""
           },
           "bgcolor": "#E5ECF6",
           "radialaxis": {
            "gridcolor": "white",
            "linecolor": "white",
            "ticks": ""
           }
          },
          "scene": {
           "xaxis": {
            "backgroundcolor": "#E5ECF6",
            "gridcolor": "white",
            "gridwidth": 2,
            "linecolor": "white",
            "showbackground": true,
            "ticks": "",
            "zerolinecolor": "white"
           },
           "yaxis": {
            "backgroundcolor": "#E5ECF6",
            "gridcolor": "white",
            "gridwidth": 2,
            "linecolor": "white",
            "showbackground": true,
            "ticks": "",
            "zerolinecolor": "white"
           },
           "zaxis": {
            "backgroundcolor": "#E5ECF6",
            "gridcolor": "white",
            "gridwidth": 2,
            "linecolor": "white",
            "showbackground": true,
            "ticks": "",
            "zerolinecolor": "white"
           }
          },
          "shapedefaults": {
           "line": {
            "color": "#2a3f5f"
           }
          },
          "ternary": {
           "aaxis": {
            "gridcolor": "white",
            "linecolor": "white",
            "ticks": ""
           },
           "baxis": {
            "gridcolor": "white",
            "linecolor": "white",
            "ticks": ""
           },
           "bgcolor": "#E5ECF6",
           "caxis": {
            "gridcolor": "white",
            "linecolor": "white",
            "ticks": ""
           }
          },
          "title": {
           "x": 0.05
          },
          "xaxis": {
           "automargin": true,
           "gridcolor": "white",
           "linecolor": "white",
           "ticks": "",
           "title": {
            "standoff": 15
           },
           "zerolinecolor": "white",
           "zerolinewidth": 2
          },
          "yaxis": {
           "automargin": true,
           "gridcolor": "white",
           "linecolor": "white",
           "ticks": "",
           "title": {
            "standoff": 15
           },
           "zerolinecolor": "white",
           "zerolinewidth": 2
          }
         }
        }
       }
      }
     },
     "metadata": {},
     "output_type": "display_data"
    }
   ],
   "source": [
    "# Sort by number of applications\n",
    "substance_applications.sort_values(by='Number of designations', inplace=True)\n",
    "\n",
    "# Get number of applications\n",
    "n_applications = []\n",
    "n_substances = []\n",
    "for n_application in substance_applications['Number of designations'].unique():\n",
    "    # Get number of substances\n",
    "    mask = substance_applications['Number of designations'] == n_application\n",
    "    number = len(substance_applications[mask])\n",
    "\n",
    "    # Append to containers\n",
    "    n_applications.append(n_application)\n",
    "    n_substances.append(number)\n",
    "\n",
    "# Accumulate >= 5 applications\n",
    "n_applications = np.array(n_applications)\n",
    "n_substances = np.array(n_substances)\n",
    "mask = n_applications >= 3\n",
    "n_substances_three_or_more = np.sum(n_substances[mask])\n",
    "n_applications = n_applications[~mask]\n",
    "n_substances = list(n_substances[~mask])\n",
    "\n",
    "# Create figure\n",
    "fig = go.Figure()\n",
    "colours = plotly.colors.qualitative.Set1\n",
    "n_colours = len(n_substances) + 1\n",
    "\n",
    "fig.add_trace(go.Pie(\n",
    "    labels=[\n",
    "        '%s ODD' % str(n) for n in n_applications] + ['>2 ODD'],\n",
    "    values=n_substances + [n_substances_three_or_more],\n",
    "    textinfo='label+value+percent',\n",
    "    sort=False,\n",
    "    marker=dict(\n",
    "        colors=[colours[2], colours[1], colours[0]],\n",
    "        line=dict(color='#000000', width=1))))\n",
    "fig.update_layout(showlegend=False)\n",
    "\n",
    "directory = os.path.dirname(os.getcwd())\n",
    "fig.write_image(\n",
    "    directory + '/images/ec_number_OD_designations_per_product_2000_2020.pdf')\n",
    "fig.show()"
   ]
  },
  {
   "cell_type": "markdown",
   "metadata": {},
   "source": [
    "**Figure 3:** Number of orphan designations per product with more than one application (combinations of products count as distinct, so do distinct names for the same product)."
   ]
  },
  {
   "cell_type": "code",
   "execution_count": 9,
   "metadata": {},
   "outputs": [
    {
     "data": {
      "application/vnd.plotly.v1+json": {
       "config": {
        "plotlyServerURL": "https://plot.ly"
       },
       "data": [
        {
         "labels": [
          "2 ODD",
          "3 ODD",
          "4 ODD",
          ">5"
         ],
         "marker": {
          "colors": [
           "rgb(33, 75, 99)",
           "rgb(79, 129, 102)",
           "rgb(151, 179, 100)",
           "rgb(175, 49, 35)",
           "rgb(36, 73, 147)"
          ],
          "line": {
           "color": "#000000",
           "width": 1
          }
         },
         "sort": false,
         "textinfo": "label+value+percent",
         "type": "pie",
         "values": [
          166,
          29,
          11,
          13
         ]
        }
       ],
       "layout": {
        "showlegend": true,
        "template": {
         "data": {
          "bar": [
           {
            "error_x": {
             "color": "#2a3f5f"
            },
            "error_y": {
             "color": "#2a3f5f"
            },
            "marker": {
             "line": {
              "color": "#E5ECF6",
              "width": 0.5
             },
             "pattern": {
              "fillmode": "overlay",
              "size": 10,
              "solidity": 0.2
             }
            },
            "type": "bar"
           }
          ],
          "barpolar": [
           {
            "marker": {
             "line": {
              "color": "#E5ECF6",
              "width": 0.5
             },
             "pattern": {
              "fillmode": "overlay",
              "size": 10,
              "solidity": 0.2
             }
            },
            "type": "barpolar"
           }
          ],
          "carpet": [
           {
            "aaxis": {
             "endlinecolor": "#2a3f5f",
             "gridcolor": "white",
             "linecolor": "white",
             "minorgridcolor": "white",
             "startlinecolor": "#2a3f5f"
            },
            "baxis": {
             "endlinecolor": "#2a3f5f",
             "gridcolor": "white",
             "linecolor": "white",
             "minorgridcolor": "white",
             "startlinecolor": "#2a3f5f"
            },
            "type": "carpet"
           }
          ],
          "choropleth": [
           {
            "colorbar": {
             "outlinewidth": 0,
             "ticks": ""
            },
            "type": "choropleth"
           }
          ],
          "contour": [
           {
            "colorbar": {
             "outlinewidth": 0,
             "ticks": ""
            },
            "colorscale": [
             [
              0,
              "#0d0887"
             ],
             [
              0.1111111111111111,
              "#46039f"
             ],
             [
              0.2222222222222222,
              "#7201a8"
             ],
             [
              0.3333333333333333,
              "#9c179e"
             ],
             [
              0.4444444444444444,
              "#bd3786"
             ],
             [
              0.5555555555555556,
              "#d8576b"
             ],
             [
              0.6666666666666666,
              "#ed7953"
             ],
             [
              0.7777777777777778,
              "#fb9f3a"
             ],
             [
              0.8888888888888888,
              "#fdca26"
             ],
             [
              1,
              "#f0f921"
             ]
            ],
            "type": "contour"
           }
          ],
          "contourcarpet": [
           {
            "colorbar": {
             "outlinewidth": 0,
             "ticks": ""
            },
            "type": "contourcarpet"
           }
          ],
          "heatmap": [
           {
            "colorbar": {
             "outlinewidth": 0,
             "ticks": ""
            },
            "colorscale": [
             [
              0,
              "#0d0887"
             ],
             [
              0.1111111111111111,
              "#46039f"
             ],
             [
              0.2222222222222222,
              "#7201a8"
             ],
             [
              0.3333333333333333,
              "#9c179e"
             ],
             [
              0.4444444444444444,
              "#bd3786"
             ],
             [
              0.5555555555555556,
              "#d8576b"
             ],
             [
              0.6666666666666666,
              "#ed7953"
             ],
             [
              0.7777777777777778,
              "#fb9f3a"
             ],
             [
              0.8888888888888888,
              "#fdca26"
             ],
             [
              1,
              "#f0f921"
             ]
            ],
            "type": "heatmap"
           }
          ],
          "heatmapgl": [
           {
            "colorbar": {
             "outlinewidth": 0,
             "ticks": ""
            },
            "colorscale": [
             [
              0,
              "#0d0887"
             ],
             [
              0.1111111111111111,
              "#46039f"
             ],
             [
              0.2222222222222222,
              "#7201a8"
             ],
             [
              0.3333333333333333,
              "#9c179e"
             ],
             [
              0.4444444444444444,
              "#bd3786"
             ],
             [
              0.5555555555555556,
              "#d8576b"
             ],
             [
              0.6666666666666666,
              "#ed7953"
             ],
             [
              0.7777777777777778,
              "#fb9f3a"
             ],
             [
              0.8888888888888888,
              "#fdca26"
             ],
             [
              1,
              "#f0f921"
             ]
            ],
            "type": "heatmapgl"
           }
          ],
          "histogram": [
           {
            "marker": {
             "pattern": {
              "fillmode": "overlay",
              "size": 10,
              "solidity": 0.2
             }
            },
            "type": "histogram"
           }
          ],
          "histogram2d": [
           {
            "colorbar": {
             "outlinewidth": 0,
             "ticks": ""
            },
            "colorscale": [
             [
              0,
              "#0d0887"
             ],
             [
              0.1111111111111111,
              "#46039f"
             ],
             [
              0.2222222222222222,
              "#7201a8"
             ],
             [
              0.3333333333333333,
              "#9c179e"
             ],
             [
              0.4444444444444444,
              "#bd3786"
             ],
             [
              0.5555555555555556,
              "#d8576b"
             ],
             [
              0.6666666666666666,
              "#ed7953"
             ],
             [
              0.7777777777777778,
              "#fb9f3a"
             ],
             [
              0.8888888888888888,
              "#fdca26"
             ],
             [
              1,
              "#f0f921"
             ]
            ],
            "type": "histogram2d"
           }
          ],
          "histogram2dcontour": [
           {
            "colorbar": {
             "outlinewidth": 0,
             "ticks": ""
            },
            "colorscale": [
             [
              0,
              "#0d0887"
             ],
             [
              0.1111111111111111,
              "#46039f"
             ],
             [
              0.2222222222222222,
              "#7201a8"
             ],
             [
              0.3333333333333333,
              "#9c179e"
             ],
             [
              0.4444444444444444,
              "#bd3786"
             ],
             [
              0.5555555555555556,
              "#d8576b"
             ],
             [
              0.6666666666666666,
              "#ed7953"
             ],
             [
              0.7777777777777778,
              "#fb9f3a"
             ],
             [
              0.8888888888888888,
              "#fdca26"
             ],
             [
              1,
              "#f0f921"
             ]
            ],
            "type": "histogram2dcontour"
           }
          ],
          "mesh3d": [
           {
            "colorbar": {
             "outlinewidth": 0,
             "ticks": ""
            },
            "type": "mesh3d"
           }
          ],
          "parcoords": [
           {
            "line": {
             "colorbar": {
              "outlinewidth": 0,
              "ticks": ""
             }
            },
            "type": "parcoords"
           }
          ],
          "pie": [
           {
            "automargin": true,
            "type": "pie"
           }
          ],
          "scatter": [
           {
            "marker": {
             "colorbar": {
              "outlinewidth": 0,
              "ticks": ""
             }
            },
            "type": "scatter"
           }
          ],
          "scatter3d": [
           {
            "line": {
             "colorbar": {
              "outlinewidth": 0,
              "ticks": ""
             }
            },
            "marker": {
             "colorbar": {
              "outlinewidth": 0,
              "ticks": ""
             }
            },
            "type": "scatter3d"
           }
          ],
          "scattercarpet": [
           {
            "marker": {
             "colorbar": {
              "outlinewidth": 0,
              "ticks": ""
             }
            },
            "type": "scattercarpet"
           }
          ],
          "scattergeo": [
           {
            "marker": {
             "colorbar": {
              "outlinewidth": 0,
              "ticks": ""
             }
            },
            "type": "scattergeo"
           }
          ],
          "scattergl": [
           {
            "marker": {
             "colorbar": {
              "outlinewidth": 0,
              "ticks": ""
             }
            },
            "type": "scattergl"
           }
          ],
          "scattermapbox": [
           {
            "marker": {
             "colorbar": {
              "outlinewidth": 0,
              "ticks": ""
             }
            },
            "type": "scattermapbox"
           }
          ],
          "scatterpolar": [
           {
            "marker": {
             "colorbar": {
              "outlinewidth": 0,
              "ticks": ""
             }
            },
            "type": "scatterpolar"
           }
          ],
          "scatterpolargl": [
           {
            "marker": {
             "colorbar": {
              "outlinewidth": 0,
              "ticks": ""
             }
            },
            "type": "scatterpolargl"
           }
          ],
          "scatterternary": [
           {
            "marker": {
             "colorbar": {
              "outlinewidth": 0,
              "ticks": ""
             }
            },
            "type": "scatterternary"
           }
          ],
          "surface": [
           {
            "colorbar": {
             "outlinewidth": 0,
             "ticks": ""
            },
            "colorscale": [
             [
              0,
              "#0d0887"
             ],
             [
              0.1111111111111111,
              "#46039f"
             ],
             [
              0.2222222222222222,
              "#7201a8"
             ],
             [
              0.3333333333333333,
              "#9c179e"
             ],
             [
              0.4444444444444444,
              "#bd3786"
             ],
             [
              0.5555555555555556,
              "#d8576b"
             ],
             [
              0.6666666666666666,
              "#ed7953"
             ],
             [
              0.7777777777777778,
              "#fb9f3a"
             ],
             [
              0.8888888888888888,
              "#fdca26"
             ],
             [
              1,
              "#f0f921"
             ]
            ],
            "type": "surface"
           }
          ],
          "table": [
           {
            "cells": {
             "fill": {
              "color": "#EBF0F8"
             },
             "line": {
              "color": "white"
             }
            },
            "header": {
             "fill": {
              "color": "#C8D4E3"
             },
             "line": {
              "color": "white"
             }
            },
            "type": "table"
           }
          ]
         },
         "layout": {
          "annotationdefaults": {
           "arrowcolor": "#2a3f5f",
           "arrowhead": 0,
           "arrowwidth": 1
          },
          "autotypenumbers": "strict",
          "coloraxis": {
           "colorbar": {
            "outlinewidth": 0,
            "ticks": ""
           }
          },
          "colorscale": {
           "diverging": [
            [
             0,
             "#8e0152"
            ],
            [
             0.1,
             "#c51b7d"
            ],
            [
             0.2,
             "#de77ae"
            ],
            [
             0.3,
             "#f1b6da"
            ],
            [
             0.4,
             "#fde0ef"
            ],
            [
             0.5,
             "#f7f7f7"
            ],
            [
             0.6,
             "#e6f5d0"
            ],
            [
             0.7,
             "#b8e186"
            ],
            [
             0.8,
             "#7fbc41"
            ],
            [
             0.9,
             "#4d9221"
            ],
            [
             1,
             "#276419"
            ]
           ],
           "sequential": [
            [
             0,
             "#0d0887"
            ],
            [
             0.1111111111111111,
             "#46039f"
            ],
            [
             0.2222222222222222,
             "#7201a8"
            ],
            [
             0.3333333333333333,
             "#9c179e"
            ],
            [
             0.4444444444444444,
             "#bd3786"
            ],
            [
             0.5555555555555556,
             "#d8576b"
            ],
            [
             0.6666666666666666,
             "#ed7953"
            ],
            [
             0.7777777777777778,
             "#fb9f3a"
            ],
            [
             0.8888888888888888,
             "#fdca26"
            ],
            [
             1,
             "#f0f921"
            ]
           ],
           "sequentialminus": [
            [
             0,
             "#0d0887"
            ],
            [
             0.1111111111111111,
             "#46039f"
            ],
            [
             0.2222222222222222,
             "#7201a8"
            ],
            [
             0.3333333333333333,
             "#9c179e"
            ],
            [
             0.4444444444444444,
             "#bd3786"
            ],
            [
             0.5555555555555556,
             "#d8576b"
            ],
            [
             0.6666666666666666,
             "#ed7953"
            ],
            [
             0.7777777777777778,
             "#fb9f3a"
            ],
            [
             0.8888888888888888,
             "#fdca26"
            ],
            [
             1,
             "#f0f921"
            ]
           ]
          },
          "colorway": [
           "#636efa",
           "#EF553B",
           "#00cc96",
           "#ab63fa",
           "#FFA15A",
           "#19d3f3",
           "#FF6692",
           "#B6E880",
           "#FF97FF",
           "#FECB52"
          ],
          "font": {
           "color": "#2a3f5f"
          },
          "geo": {
           "bgcolor": "white",
           "lakecolor": "white",
           "landcolor": "#E5ECF6",
           "showlakes": true,
           "showland": true,
           "subunitcolor": "white"
          },
          "hoverlabel": {
           "align": "left"
          },
          "hovermode": "closest",
          "mapbox": {
           "style": "light"
          },
          "paper_bgcolor": "white",
          "plot_bgcolor": "#E5ECF6",
          "polar": {
           "angularaxis": {
            "gridcolor": "white",
            "linecolor": "white",
            "ticks": ""
           },
           "bgcolor": "#E5ECF6",
           "radialaxis": {
            "gridcolor": "white",
            "linecolor": "white",
            "ticks": ""
           }
          },
          "scene": {
           "xaxis": {
            "backgroundcolor": "#E5ECF6",
            "gridcolor": "white",
            "gridwidth": 2,
            "linecolor": "white",
            "showbackground": true,
            "ticks": "",
            "zerolinecolor": "white"
           },
           "yaxis": {
            "backgroundcolor": "#E5ECF6",
            "gridcolor": "white",
            "gridwidth": 2,
            "linecolor": "white",
            "showbackground": true,
            "ticks": "",
            "zerolinecolor": "white"
           },
           "zaxis": {
            "backgroundcolor": "#E5ECF6",
            "gridcolor": "white",
            "gridwidth": 2,
            "linecolor": "white",
            "showbackground": true,
            "ticks": "",
            "zerolinecolor": "white"
           }
          },
          "shapedefaults": {
           "line": {
            "color": "#2a3f5f"
           }
          },
          "ternary": {
           "aaxis": {
            "gridcolor": "white",
            "linecolor": "white",
            "ticks": ""
           },
           "baxis": {
            "gridcolor": "white",
            "linecolor": "white",
            "ticks": ""
           },
           "bgcolor": "#E5ECF6",
           "caxis": {
            "gridcolor": "white",
            "linecolor": "white",
            "ticks": ""
           }
          },
          "title": {
           "x": 0.05
          },
          "xaxis": {
           "automargin": true,
           "gridcolor": "white",
           "linecolor": "white",
           "ticks": "",
           "title": {
            "standoff": 15
           },
           "zerolinecolor": "white",
           "zerolinewidth": 2
          },
          "yaxis": {
           "automargin": true,
           "gridcolor": "white",
           "linecolor": "white",
           "ticks": "",
           "title": {
            "standoff": 15
           },
           "zerolinecolor": "white",
           "zerolinewidth": 2
          }
         }
        }
       }
      }
     },
     "metadata": {},
     "output_type": "display_data"
    }
   ],
   "source": [
    "# Sort by number of applications\n",
    "substance_applications.sort_values(by='Number of designations', inplace=True)\n",
    "\n",
    "# Get number of applications\n",
    "n_applications = []\n",
    "n_substances = []\n",
    "for n_application in substance_applications['Number of designations'].unique():\n",
    "    if n_application < 2:\n",
    "        continue\n",
    "\n",
    "    # Get number of substances\n",
    "    mask = substance_applications['Number of designations'] == n_application\n",
    "    number = len(substance_applications[mask])\n",
    "\n",
    "    # Append to containers\n",
    "    n_applications.append(n_application)\n",
    "    n_substances.append(number)\n",
    "\n",
    "# Accumulate >= 5 applications\n",
    "n_applications = np.array(n_applications)\n",
    "n_substances = np.array(n_substances)\n",
    "mask = n_applications >= 5\n",
    "n_substances_five_or_more = np.sum(n_substances[mask])\n",
    "n_applications = n_applications[~mask]\n",
    "n_substances = list(n_substances[~mask])\n",
    "\n",
    "# Create figure\n",
    "fig = go.Figure()\n",
    "colours = plotly.colors.qualitative.Plotly\n",
    "n_colours = len(n_substances) + 1\n",
    "\n",
    "fig.add_trace(go.Pie(\n",
    "    labels=[\n",
    "        '%s ODD' % str(n) for n in n_applications] + ['>5'],\n",
    "    values=n_substances + [n_substances_five_or_more],\n",
    "    textinfo='label+value+percent',\n",
    "    sort=False,\n",
    "    marker=dict(\n",
    "        colors=['rgb(33, 75, 99)', 'rgb(79, 129, 102)', 'rgb(151, 179, 100)',\n",
    "                 'rgb(175, 49, 35)', 'rgb(36, 73, 147)'], \n",
    "        line=dict(color='#000000', width=1))))\n",
    "fig.update_layout(showlegend=True)\n",
    "fig.show()"
   ]
  },
  {
   "cell_type": "markdown",
   "metadata": {},
   "source": [
    "## Get Brand names / Medicine name of multi deisgnation drugs"
   ]
  },
  {
   "cell_type": "code",
   "execution_count": 72,
   "metadata": {},
   "outputs": [
    {
     "data": {
      "text/html": [
       "<div>\n",
       "<style scoped>\n",
       "    .dataframe tbody tr th:only-of-type {\n",
       "        vertical-align: middle;\n",
       "    }\n",
       "\n",
       "    .dataframe tbody tr th {\n",
       "        vertical-align: top;\n",
       "    }\n",
       "\n",
       "    .dataframe thead th {\n",
       "        text-align: right;\n",
       "    }\n",
       "</style>\n",
       "<table border=\"1\" class=\"dataframe\">\n",
       "  <thead>\n",
       "    <tr style=\"text-align: right;\">\n",
       "      <th></th>\n",
       "      <th>Indication</th>\n",
       "      <th>Implemented on</th>\n",
       "      <th>Number of MAs</th>\n",
       "      <th>Trade names</th>\n",
       "      <th>Designation date</th>\n",
       "      <th>Trade name</th>\n",
       "      <th>Product</th>\n",
       "      <th>EU number</th>\n",
       "      <th>Number of designations</th>\n",
       "    </tr>\n",
       "  </thead>\n",
       "  <tbody>\n",
       "    <tr>\n",
       "      <th>0</th>\n",
       "      <td>Treatment of amyotrophic lateral sclerosis</td>\n",
       "      <td>-</td>\n",
       "      <td>0</td>\n",
       "      <td>-</td>\n",
       "      <td>13 Apr 2021</td>\n",
       "      <td></td>\n",
       "      <td>ganglioside gm1</td>\n",
       "      <td>-</td>\n",
       "      <td>1</td>\n",
       "    </tr>\n",
       "    <tr>\n",
       "      <th>0</th>\n",
       "      <td>Treatment of idiopathic pulmonary fibrosis</td>\n",
       "      <td>-</td>\n",
       "      <td>0</td>\n",
       "      <td>-</td>\n",
       "      <td>24 Aug 2018</td>\n",
       "      <td></td>\n",
       "      <td>tilorone</td>\n",
       "      <td>-</td>\n",
       "      <td>1</td>\n",
       "    </tr>\n",
       "    <tr>\n",
       "      <th>0</th>\n",
       "      <td>Treatment of growth hormone deficiency</td>\n",
       "      <td>-</td>\n",
       "      <td>0</td>\n",
       "      <td>-</td>\n",
       "      <td>24 Aug 2018</td>\n",
       "      <td></td>\n",
       "      <td>somapacitan</td>\n",
       "      <td>-</td>\n",
       "      <td>1</td>\n",
       "    </tr>\n",
       "    <tr>\n",
       "      <th>0</th>\n",
       "      <td>Treatment of anthrax</td>\n",
       "      <td>19 Nov 2020</td>\n",
       "      <td>1</td>\n",
       "      <td>Obiltoxaximab SFL</td>\n",
       "      <td>24 Aug 2018</td>\n",
       "      <td>Obiltoxaximab SFL</td>\n",
       "      <td>obiltoxaximab</td>\n",
       "      <td>EU/1/20/1485</td>\n",
       "      <td>1</td>\n",
       "    </tr>\n",
       "    <tr>\n",
       "      <th>0</th>\n",
       "      <td>Treatment of marginal zone lymphoma</td>\n",
       "      <td>-</td>\n",
       "      <td>0</td>\n",
       "      <td>-</td>\n",
       "      <td>24 Aug 2018</td>\n",
       "      <td></td>\n",
       "      <td>copanlisib</td>\n",
       "      <td>-</td>\n",
       "      <td>1</td>\n",
       "    </tr>\n",
       "    <tr>\n",
       "      <th>...</th>\n",
       "      <td>...</td>\n",
       "      <td>...</td>\n",
       "      <td>...</td>\n",
       "      <td>...</td>\n",
       "      <td>...</td>\n",
       "      <td>...</td>\n",
       "      <td>...</td>\n",
       "      <td>...</td>\n",
       "      <td>...</td>\n",
       "    </tr>\n",
       "    <tr>\n",
       "      <th>0</th>\n",
       "      <td>Treatment of citrullinaemia type 2\\n Treatment...</td>\n",
       "      <td>-\\n 01 Dec 2015\\n 01 Dec 2015\\n 01 Dec 2015\\n ...</td>\n",
       "      <td>6</td>\n",
       "      <td>-\\n Ravicti\\n Ravicti\\n Ravicti\\n Ravicti\\n Ra...</td>\n",
       "      <td>10 Jun 2010\\n 10 Jun 2010\\n 10 Jun 2010\\n 10 J...</td>\n",
       "      <td>Ravicti</td>\n",
       "      <td>glyceryl tri-(4-phenylbutyrate)</td>\n",
       "      <td>-\\n EU/1/15/1062\\n EU/1/15/1062\\n EU/1/15/1062...</td>\n",
       "      <td>7</td>\n",
       "    </tr>\n",
       "    <tr>\n",
       "      <th>0</th>\n",
       "      <td>Treatment of perinatal asphyxia\\n Treatment of...</td>\n",
       "      <td>-\\n -\\n -\\n -\\n -\\n -\\n -</td>\n",
       "      <td>0</td>\n",
       "      <td>-\\n -\\n -\\n -\\n -\\n -\\n -</td>\n",
       "      <td>11 Jan 2019\\n 26 Oct 2018\\n 21 Mar 2018\\n 14 O...</td>\n",
       "      <td></td>\n",
       "      <td>melatonin</td>\n",
       "      <td>-\\n -\\n -\\n -\\n -\\n -\\n -</td>\n",
       "      <td>7</td>\n",
       "    </tr>\n",
       "    <tr>\n",
       "      <th>0</th>\n",
       "      <td>Treatment of tuberous sclerosis\\n Treatment of...</td>\n",
       "      <td>20 Apr 2021\\n -\\n 23 Sep 2019\\n -\\n -\\n -\\n 23...</td>\n",
       "      <td>3</td>\n",
       "      <td>Epidyolex\\n -\\n Epidyolex\\n -\\n -\\n -\\n Epidyolex</td>\n",
       "      <td>17 Jan 2018\\n 16 Oct 2017\\n 20 Mar 2017\\n 29 A...</td>\n",
       "      <td>Epidyolex</td>\n",
       "      <td>cannabidiol</td>\n",
       "      <td>EU/1/19/1389\\n -\\n EU/1/19/1389\\n -\\n -\\n -\\n ...</td>\n",
       "      <td>7</td>\n",
       "    </tr>\n",
       "    <tr>\n",
       "      <th>0</th>\n",
       "      <td>Treatment of sickle cell disease\\n Treatment o...</td>\n",
       "      <td>-\\n -\\n -\\n -\\n -\\n -\\n -\\n -\\n -</td>\n",
       "      <td>0</td>\n",
       "      <td>-\\n -\\n -\\n -\\n -\\n -\\n -\\n -\\n -</td>\n",
       "      <td>17 Jan 2018\\n 23 Aug 2017\\n 17 Jul 2017\\n 20 J...</td>\n",
       "      <td></td>\n",
       "      <td>sirolimus</td>\n",
       "      <td>-\\n -\\n -\\n -\\n -\\n -\\n -\\n -\\n -</td>\n",
       "      <td>9</td>\n",
       "    </tr>\n",
       "    <tr>\n",
       "      <th>0</th>\n",
       "      <td>Treatment of N-acetylglutamate synthetase defi...</td>\n",
       "      <td>-\\n -\\n -\\n -\\n -\\n -\\n -\\n -\\n -\\n -</td>\n",
       "      <td>0</td>\n",
       "      <td>-\\n -\\n -\\n -\\n -\\n -\\n -\\n -\\n -\\n -</td>\n",
       "      <td>18 Nov 2016\\n 18 Nov 2016\\n 29 Aug 2016\\n 29 A...</td>\n",
       "      <td></td>\n",
       "      <td>sodium benzoate</td>\n",
       "      <td>-\\n -\\n -\\n -\\n -\\n -\\n -\\n -\\n -\\n -</td>\n",
       "      <td>10</td>\n",
       "    </tr>\n",
       "  </tbody>\n",
       "</table>\n",
       "<p>1439 rows × 9 columns</p>\n",
       "</div>"
      ],
      "text/plain": [
       "                                           Indication  \\\n",
       "0          Treatment of amyotrophic lateral sclerosis   \n",
       "0          Treatment of idiopathic pulmonary fibrosis   \n",
       "0              Treatment of growth hormone deficiency   \n",
       "0                                Treatment of anthrax   \n",
       "0                 Treatment of marginal zone lymphoma   \n",
       "..                                                ...   \n",
       "0   Treatment of citrullinaemia type 2\\n Treatment...   \n",
       "0   Treatment of perinatal asphyxia\\n Treatment of...   \n",
       "0   Treatment of tuberous sclerosis\\n Treatment of...   \n",
       "0   Treatment of sickle cell disease\\n Treatment o...   \n",
       "0   Treatment of N-acetylglutamate synthetase defi...   \n",
       "\n",
       "                                       Implemented on Number of MAs  \\\n",
       "0                                                   -             0   \n",
       "0                                                   -             0   \n",
       "0                                                   -             0   \n",
       "0                                         19 Nov 2020             1   \n",
       "0                                                   -             0   \n",
       "..                                                ...           ...   \n",
       "0   -\\n 01 Dec 2015\\n 01 Dec 2015\\n 01 Dec 2015\\n ...             6   \n",
       "0                           -\\n -\\n -\\n -\\n -\\n -\\n -             0   \n",
       "0   20 Apr 2021\\n -\\n 23 Sep 2019\\n -\\n -\\n -\\n 23...             3   \n",
       "0                   -\\n -\\n -\\n -\\n -\\n -\\n -\\n -\\n -             0   \n",
       "0               -\\n -\\n -\\n -\\n -\\n -\\n -\\n -\\n -\\n -             0   \n",
       "\n",
       "                                          Trade names  \\\n",
       "0                                                   -   \n",
       "0                                                   -   \n",
       "0                                                   -   \n",
       "0                                   Obiltoxaximab SFL   \n",
       "0                                                   -   \n",
       "..                                                ...   \n",
       "0   -\\n Ravicti\\n Ravicti\\n Ravicti\\n Ravicti\\n Ra...   \n",
       "0                           -\\n -\\n -\\n -\\n -\\n -\\n -   \n",
       "0   Epidyolex\\n -\\n Epidyolex\\n -\\n -\\n -\\n Epidyolex   \n",
       "0                   -\\n -\\n -\\n -\\n -\\n -\\n -\\n -\\n -   \n",
       "0               -\\n -\\n -\\n -\\n -\\n -\\n -\\n -\\n -\\n -   \n",
       "\n",
       "                                     Designation date         Trade name  \\\n",
       "0                                         13 Apr 2021                      \n",
       "0                                         24 Aug 2018                      \n",
       "0                                         24 Aug 2018                      \n",
       "0                                         24 Aug 2018  Obiltoxaximab SFL   \n",
       "0                                         24 Aug 2018                      \n",
       "..                                                ...                ...   \n",
       "0   10 Jun 2010\\n 10 Jun 2010\\n 10 Jun 2010\\n 10 J...            Ravicti   \n",
       "0   11 Jan 2019\\n 26 Oct 2018\\n 21 Mar 2018\\n 14 O...                      \n",
       "0   17 Jan 2018\\n 16 Oct 2017\\n 20 Mar 2017\\n 29 A...          Epidyolex   \n",
       "0   17 Jan 2018\\n 23 Aug 2017\\n 17 Jul 2017\\n 20 J...                      \n",
       "0   18 Nov 2016\\n 18 Nov 2016\\n 29 Aug 2016\\n 29 A...                      \n",
       "\n",
       "                            Product  \\\n",
       "0                   ganglioside gm1   \n",
       "0                          tilorone   \n",
       "0                       somapacitan   \n",
       "0                     obiltoxaximab   \n",
       "0                        copanlisib   \n",
       "..                              ...   \n",
       "0   glyceryl tri-(4-phenylbutyrate)   \n",
       "0                         melatonin   \n",
       "0                       cannabidiol   \n",
       "0                         sirolimus   \n",
       "0                   sodium benzoate   \n",
       "\n",
       "                                            EU number Number of designations  \n",
       "0                                                   -                      1  \n",
       "0                                                   -                      1  \n",
       "0                                                   -                      1  \n",
       "0                                        EU/1/20/1485                      1  \n",
       "0                                                   -                      1  \n",
       "..                                                ...                    ...  \n",
       "0   -\\n EU/1/15/1062\\n EU/1/15/1062\\n EU/1/15/1062...                      7  \n",
       "0                           -\\n -\\n -\\n -\\n -\\n -\\n -                      7  \n",
       "0   EU/1/19/1389\\n -\\n EU/1/19/1389\\n -\\n -\\n -\\n ...                      7  \n",
       "0                   -\\n -\\n -\\n -\\n -\\n -\\n -\\n -\\n -                      9  \n",
       "0               -\\n -\\n -\\n -\\n -\\n -\\n -\\n -\\n -\\n -                     10  \n",
       "\n",
       "[1439 rows x 9 columns]"
      ]
     },
     "execution_count": 72,
     "metadata": {},
     "output_type": "execute_result"
    }
   ],
   "source": [
    "substance_applications"
   ]
  },
  {
   "cell_type": "code",
   "execution_count": 73,
   "metadata": {},
   "outputs": [
    {
     "data": {
      "text/html": [
       "<div>\n",
       "<style scoped>\n",
       "    .dataframe tbody tr th:only-of-type {\n",
       "        vertical-align: middle;\n",
       "    }\n",
       "\n",
       "    .dataframe tbody tr th {\n",
       "        vertical-align: top;\n",
       "    }\n",
       "\n",
       "    .dataframe thead th {\n",
       "        text-align: right;\n",
       "    }\n",
       "</style>\n",
       "<table border=\"1\" class=\"dataframe\">\n",
       "  <thead>\n",
       "    <tr style=\"text-align: right;\">\n",
       "      <th></th>\n",
       "      <th>Indication</th>\n",
       "      <th>Implemented on</th>\n",
       "      <th>Number of MAs</th>\n",
       "      <th>Trade names</th>\n",
       "      <th>Designation date</th>\n",
       "      <th>Trade name</th>\n",
       "      <th>Product</th>\n",
       "      <th>EU number</th>\n",
       "      <th>Number of designations</th>\n",
       "    </tr>\n",
       "  </thead>\n",
       "  <tbody>\n",
       "    <tr>\n",
       "      <th>0</th>\n",
       "      <td>Treatment of anthrax</td>\n",
       "      <td>19 Nov 2020</td>\n",
       "      <td>1</td>\n",
       "      <td>Obiltoxaximab SFL</td>\n",
       "      <td>24 Aug 2018</td>\n",
       "      <td>Obiltoxaximab SFL</td>\n",
       "      <td>obiltoxaximab</td>\n",
       "      <td>EU/1/20/1485</td>\n",
       "      <td>1</td>\n",
       "    </tr>\n",
       "    <tr>\n",
       "      <th>0</th>\n",
       "      <td>Treatment of diffuse large B-cell lymphoma</td>\n",
       "      <td>20 Jan 2020</td>\n",
       "      <td>1</td>\n",
       "      <td>Polivy</td>\n",
       "      <td>16 Apr 2018</td>\n",
       "      <td>Polivy</td>\n",
       "      <td>polatuzumab vedotin</td>\n",
       "      <td>EU/1/19/1388</td>\n",
       "      <td>1</td>\n",
       "    </tr>\n",
       "    <tr>\n",
       "      <th>0</th>\n",
       "      <td>Treatment of mantle cell lymphoma</td>\n",
       "      <td>15 Dec 2020</td>\n",
       "      <td>1</td>\n",
       "      <td>Tecartus</td>\n",
       "      <td>13 Nov 2019</td>\n",
       "      <td>Tecartus</td>\n",
       "      <td>autologous peripheral blood t cells cd4 and cd...</td>\n",
       "      <td>EU/1/20/1492</td>\n",
       "      <td>1</td>\n",
       "    </tr>\n",
       "    <tr>\n",
       "      <th>0</th>\n",
       "      <td>Treatment of spinal muscular atrophy</td>\n",
       "      <td>29 Mar 2021</td>\n",
       "      <td>1</td>\n",
       "      <td>Evrysdi</td>\n",
       "      <td>26 Feb 2019</td>\n",
       "      <td>Evrysdi</td>\n",
       "      <td>risdiplam</td>\n",
       "      <td>EU/1/21/1531</td>\n",
       "      <td>1</td>\n",
       "    </tr>\n",
       "    <tr>\n",
       "      <th>0</th>\n",
       "      <td>Treatment of anal fistula</td>\n",
       "      <td>27 Mar 2018</td>\n",
       "      <td>1</td>\n",
       "      <td>Alofisel</td>\n",
       "      <td>08 Oct 2009</td>\n",
       "      <td>Alofisel</td>\n",
       "      <td>expanded human allogeneic mesenchymal adult st...</td>\n",
       "      <td>EU/1/17/1261</td>\n",
       "      <td>1</td>\n",
       "    </tr>\n",
       "    <tr>\n",
       "      <th>...</th>\n",
       "      <td>...</td>\n",
       "      <td>...</td>\n",
       "      <td>...</td>\n",
       "      <td>...</td>\n",
       "      <td>...</td>\n",
       "      <td>...</td>\n",
       "      <td>...</td>\n",
       "      <td>...</td>\n",
       "      <td>...</td>\n",
       "    </tr>\n",
       "    <tr>\n",
       "      <th>0</th>\n",
       "      <td>Treatment of moderate and severe closed trauma...</td>\n",
       "      <td>-\\n -\\n -\\n 10 Jul 2018</td>\n",
       "      <td>1</td>\n",
       "      <td>-\\n -\\n -\\n Verkazia</td>\n",
       "      <td>01 Oct 2010\\n 29 Oct 2007\\n 22 Oct 2007\\n 06 A...</td>\n",
       "      <td>Verkazia</td>\n",
       "      <td>ciclosporin</td>\n",
       "      <td>-\\n -\\n -\\n EU/1/17/1219</td>\n",
       "      <td>4</td>\n",
       "    </tr>\n",
       "    <tr>\n",
       "      <th>0</th>\n",
       "      <td>Treatment of follicular lymphoma\\n Treatment o...</td>\n",
       "      <td>-\\n -\\n -\\n 27 Aug 2018\\n -</td>\n",
       "      <td>1</td>\n",
       "      <td>-\\n -\\n -\\n Yescarta\\n -</td>\n",
       "      <td>11 Nov 2015\\n 11 Nov 2015\\n 11 Nov 2015\\n 09 O...</td>\n",
       "      <td>Yescarta</td>\n",
       "      <td>autologous t cells transduced with retroviral ...</td>\n",
       "      <td>-\\n -\\n -\\n EU/1/18/1299\\n -</td>\n",
       "      <td>5</td>\n",
       "    </tr>\n",
       "    <tr>\n",
       "      <th>0</th>\n",
       "      <td>Treatment of graft-versus-host disease\\n Treat...</td>\n",
       "      <td>-\\n -\\n 07 Jul 2015\\n -\\n -</td>\n",
       "      <td>1</td>\n",
       "      <td>-\\n -\\n IMBRUVICA\\n -\\n -</td>\n",
       "      <td>18 Nov 2016\\n 10 Aug 2015\\n 29 Apr 2014\\n 18 D...</td>\n",
       "      <td>IMBRUVICA</td>\n",
       "      <td>ibrutinib</td>\n",
       "      <td>-\\n -\\n EU/1/14/945\\n -\\n -</td>\n",
       "      <td>5</td>\n",
       "    </tr>\n",
       "    <tr>\n",
       "      <th>0</th>\n",
       "      <td>Treatment of citrullinaemia type 2\\n Treatment...</td>\n",
       "      <td>-\\n 01 Dec 2015\\n 01 Dec 2015\\n 01 Dec 2015\\n ...</td>\n",
       "      <td>6</td>\n",
       "      <td>-\\n Ravicti\\n Ravicti\\n Ravicti\\n Ravicti\\n Ra...</td>\n",
       "      <td>10 Jun 2010\\n 10 Jun 2010\\n 10 Jun 2010\\n 10 J...</td>\n",
       "      <td>Ravicti</td>\n",
       "      <td>glyceryl tri-(4-phenylbutyrate)</td>\n",
       "      <td>-\\n EU/1/15/1062\\n EU/1/15/1062\\n EU/1/15/1062...</td>\n",
       "      <td>7</td>\n",
       "    </tr>\n",
       "    <tr>\n",
       "      <th>0</th>\n",
       "      <td>Treatment of tuberous sclerosis\\n Treatment of...</td>\n",
       "      <td>20 Apr 2021\\n -\\n 23 Sep 2019\\n -\\n -\\n -\\n 23...</td>\n",
       "      <td>3</td>\n",
       "      <td>Epidyolex\\n -\\n Epidyolex\\n -\\n -\\n -\\n Epidyolex</td>\n",
       "      <td>17 Jan 2018\\n 16 Oct 2017\\n 20 Mar 2017\\n 29 A...</td>\n",
       "      <td>Epidyolex</td>\n",
       "      <td>cannabidiol</td>\n",
       "      <td>EU/1/19/1389\\n -\\n EU/1/19/1389\\n -\\n -\\n -\\n ...</td>\n",
       "      <td>7</td>\n",
       "    </tr>\n",
       "  </tbody>\n",
       "</table>\n",
       "<p>127 rows × 9 columns</p>\n",
       "</div>"
      ],
      "text/plain": [
       "                                           Indication  \\\n",
       "0                                Treatment of anthrax   \n",
       "0          Treatment of diffuse large B-cell lymphoma   \n",
       "0                   Treatment of mantle cell lymphoma   \n",
       "0                Treatment of spinal muscular atrophy   \n",
       "0                           Treatment of anal fistula   \n",
       "..                                                ...   \n",
       "0   Treatment of moderate and severe closed trauma...   \n",
       "0   Treatment of follicular lymphoma\\n Treatment o...   \n",
       "0   Treatment of graft-versus-host disease\\n Treat...   \n",
       "0   Treatment of citrullinaemia type 2\\n Treatment...   \n",
       "0   Treatment of tuberous sclerosis\\n Treatment of...   \n",
       "\n",
       "                                       Implemented on Number of MAs  \\\n",
       "0                                         19 Nov 2020             1   \n",
       "0                                         20 Jan 2020             1   \n",
       "0                                         15 Dec 2020             1   \n",
       "0                                         29 Mar 2021             1   \n",
       "0                                         27 Mar 2018             1   \n",
       "..                                                ...           ...   \n",
       "0                             -\\n -\\n -\\n 10 Jul 2018             1   \n",
       "0                         -\\n -\\n -\\n 27 Aug 2018\\n -             1   \n",
       "0                         -\\n -\\n 07 Jul 2015\\n -\\n -             1   \n",
       "0   -\\n 01 Dec 2015\\n 01 Dec 2015\\n 01 Dec 2015\\n ...             6   \n",
       "0   20 Apr 2021\\n -\\n 23 Sep 2019\\n -\\n -\\n -\\n 23...             3   \n",
       "\n",
       "                                          Trade names  \\\n",
       "0                                   Obiltoxaximab SFL   \n",
       "0                                              Polivy   \n",
       "0                                            Tecartus   \n",
       "0                                             Evrysdi   \n",
       "0                                            Alofisel   \n",
       "..                                                ...   \n",
       "0                                -\\n -\\n -\\n Verkazia   \n",
       "0                            -\\n -\\n -\\n Yescarta\\n -   \n",
       "0                           -\\n -\\n IMBRUVICA\\n -\\n -   \n",
       "0   -\\n Ravicti\\n Ravicti\\n Ravicti\\n Ravicti\\n Ra...   \n",
       "0   Epidyolex\\n -\\n Epidyolex\\n -\\n -\\n -\\n Epidyolex   \n",
       "\n",
       "                                     Designation date         Trade name  \\\n",
       "0                                         24 Aug 2018  Obiltoxaximab SFL   \n",
       "0                                         16 Apr 2018             Polivy   \n",
       "0                                         13 Nov 2019           Tecartus   \n",
       "0                                         26 Feb 2019            Evrysdi   \n",
       "0                                         08 Oct 2009           Alofisel   \n",
       "..                                                ...                ...   \n",
       "0   01 Oct 2010\\n 29 Oct 2007\\n 22 Oct 2007\\n 06 A...           Verkazia   \n",
       "0   11 Nov 2015\\n 11 Nov 2015\\n 11 Nov 2015\\n 09 O...           Yescarta   \n",
       "0   18 Nov 2016\\n 10 Aug 2015\\n 29 Apr 2014\\n 18 D...          IMBRUVICA   \n",
       "0   10 Jun 2010\\n 10 Jun 2010\\n 10 Jun 2010\\n 10 J...            Ravicti   \n",
       "0   17 Jan 2018\\n 16 Oct 2017\\n 20 Mar 2017\\n 29 A...          Epidyolex   \n",
       "\n",
       "                                              Product  \\\n",
       "0                                       obiltoxaximab   \n",
       "0                                 polatuzumab vedotin   \n",
       "0   autologous peripheral blood t cells cd4 and cd...   \n",
       "0                                           risdiplam   \n",
       "0   expanded human allogeneic mesenchymal adult st...   \n",
       "..                                                ...   \n",
       "0                                         ciclosporin   \n",
       "0   autologous t cells transduced with retroviral ...   \n",
       "0                                           ibrutinib   \n",
       "0                     glyceryl tri-(4-phenylbutyrate)   \n",
       "0                                         cannabidiol   \n",
       "\n",
       "                                            EU number Number of designations  \n",
       "0                                        EU/1/20/1485                      1  \n",
       "0                                        EU/1/19/1388                      1  \n",
       "0                                        EU/1/20/1492                      1  \n",
       "0                                        EU/1/21/1531                      1  \n",
       "0                                        EU/1/17/1261                      1  \n",
       "..                                                ...                    ...  \n",
       "0                            -\\n -\\n -\\n EU/1/17/1219                      4  \n",
       "0                        -\\n -\\n -\\n EU/1/18/1299\\n -                      5  \n",
       "0                         -\\n -\\n EU/1/14/945\\n -\\n -                      5  \n",
       "0   -\\n EU/1/15/1062\\n EU/1/15/1062\\n EU/1/15/1062...                      7  \n",
       "0   EU/1/19/1389\\n -\\n EU/1/19/1389\\n -\\n -\\n -\\n ...                      7  \n",
       "\n",
       "[127 rows x 9 columns]"
      ]
     },
     "execution_count": 73,
     "metadata": {},
     "output_type": "execute_result"
    }
   ],
   "source": [
    "# How many ODs have been marketed?\n",
    "mask = substance_applications['Number of MAs'] > 0\n",
    "substance_applications[mask]"
   ]
  },
  {
   "cell_type": "markdown",
   "metadata": {},
   "source": [
    "How many designations lead to marketed drugs so far?"
   ]
  },
  {
   "cell_type": "code",
   "execution_count": 10,
   "metadata": {},
   "outputs": [
    {
     "data": {
      "application/vnd.plotly.v1+json": {
       "config": {
        "plotlyServerURL": "https://plot.ly"
       },
       "data": [
        {
         "labels": [
          "Marketed",
          "Not marketed"
         ],
         "marker": {
          "colors": [
           "#4C78A8",
           "#BAB0AC"
          ],
          "line": {
           "color": "#000000",
           "width": 1
          }
         },
         "sort": false,
         "textinfo": "label+value+percent",
         "type": "pie",
         "values": [
          150,
          1618
         ]
        }
       ],
       "layout": {
        "showlegend": false,
        "template": {
         "data": {
          "bar": [
           {
            "error_x": {
             "color": "#2a3f5f"
            },
            "error_y": {
             "color": "#2a3f5f"
            },
            "marker": {
             "line": {
              "color": "#E5ECF6",
              "width": 0.5
             },
             "pattern": {
              "fillmode": "overlay",
              "size": 10,
              "solidity": 0.2
             }
            },
            "type": "bar"
           }
          ],
          "barpolar": [
           {
            "marker": {
             "line": {
              "color": "#E5ECF6",
              "width": 0.5
             },
             "pattern": {
              "fillmode": "overlay",
              "size": 10,
              "solidity": 0.2
             }
            },
            "type": "barpolar"
           }
          ],
          "carpet": [
           {
            "aaxis": {
             "endlinecolor": "#2a3f5f",
             "gridcolor": "white",
             "linecolor": "white",
             "minorgridcolor": "white",
             "startlinecolor": "#2a3f5f"
            },
            "baxis": {
             "endlinecolor": "#2a3f5f",
             "gridcolor": "white",
             "linecolor": "white",
             "minorgridcolor": "white",
             "startlinecolor": "#2a3f5f"
            },
            "type": "carpet"
           }
          ],
          "choropleth": [
           {
            "colorbar": {
             "outlinewidth": 0,
             "ticks": ""
            },
            "type": "choropleth"
           }
          ],
          "contour": [
           {
            "colorbar": {
             "outlinewidth": 0,
             "ticks": ""
            },
            "colorscale": [
             [
              0,
              "#0d0887"
             ],
             [
              0.1111111111111111,
              "#46039f"
             ],
             [
              0.2222222222222222,
              "#7201a8"
             ],
             [
              0.3333333333333333,
              "#9c179e"
             ],
             [
              0.4444444444444444,
              "#bd3786"
             ],
             [
              0.5555555555555556,
              "#d8576b"
             ],
             [
              0.6666666666666666,
              "#ed7953"
             ],
             [
              0.7777777777777778,
              "#fb9f3a"
             ],
             [
              0.8888888888888888,
              "#fdca26"
             ],
             [
              1,
              "#f0f921"
             ]
            ],
            "type": "contour"
           }
          ],
          "contourcarpet": [
           {
            "colorbar": {
             "outlinewidth": 0,
             "ticks": ""
            },
            "type": "contourcarpet"
           }
          ],
          "heatmap": [
           {
            "colorbar": {
             "outlinewidth": 0,
             "ticks": ""
            },
            "colorscale": [
             [
              0,
              "#0d0887"
             ],
             [
              0.1111111111111111,
              "#46039f"
             ],
             [
              0.2222222222222222,
              "#7201a8"
             ],
             [
              0.3333333333333333,
              "#9c179e"
             ],
             [
              0.4444444444444444,
              "#bd3786"
             ],
             [
              0.5555555555555556,
              "#d8576b"
             ],
             [
              0.6666666666666666,
              "#ed7953"
             ],
             [
              0.7777777777777778,
              "#fb9f3a"
             ],
             [
              0.8888888888888888,
              "#fdca26"
             ],
             [
              1,
              "#f0f921"
             ]
            ],
            "type": "heatmap"
           }
          ],
          "heatmapgl": [
           {
            "colorbar": {
             "outlinewidth": 0,
             "ticks": ""
            },
            "colorscale": [
             [
              0,
              "#0d0887"
             ],
             [
              0.1111111111111111,
              "#46039f"
             ],
             [
              0.2222222222222222,
              "#7201a8"
             ],
             [
              0.3333333333333333,
              "#9c179e"
             ],
             [
              0.4444444444444444,
              "#bd3786"
             ],
             [
              0.5555555555555556,
              "#d8576b"
             ],
             [
              0.6666666666666666,
              "#ed7953"
             ],
             [
              0.7777777777777778,
              "#fb9f3a"
             ],
             [
              0.8888888888888888,
              "#fdca26"
             ],
             [
              1,
              "#f0f921"
             ]
            ],
            "type": "heatmapgl"
           }
          ],
          "histogram": [
           {
            "marker": {
             "pattern": {
              "fillmode": "overlay",
              "size": 10,
              "solidity": 0.2
             }
            },
            "type": "histogram"
           }
          ],
          "histogram2d": [
           {
            "colorbar": {
             "outlinewidth": 0,
             "ticks": ""
            },
            "colorscale": [
             [
              0,
              "#0d0887"
             ],
             [
              0.1111111111111111,
              "#46039f"
             ],
             [
              0.2222222222222222,
              "#7201a8"
             ],
             [
              0.3333333333333333,
              "#9c179e"
             ],
             [
              0.4444444444444444,
              "#bd3786"
             ],
             [
              0.5555555555555556,
              "#d8576b"
             ],
             [
              0.6666666666666666,
              "#ed7953"
             ],
             [
              0.7777777777777778,
              "#fb9f3a"
             ],
             [
              0.8888888888888888,
              "#fdca26"
             ],
             [
              1,
              "#f0f921"
             ]
            ],
            "type": "histogram2d"
           }
          ],
          "histogram2dcontour": [
           {
            "colorbar": {
             "outlinewidth": 0,
             "ticks": ""
            },
            "colorscale": [
             [
              0,
              "#0d0887"
             ],
             [
              0.1111111111111111,
              "#46039f"
             ],
             [
              0.2222222222222222,
              "#7201a8"
             ],
             [
              0.3333333333333333,
              "#9c179e"
             ],
             [
              0.4444444444444444,
              "#bd3786"
             ],
             [
              0.5555555555555556,
              "#d8576b"
             ],
             [
              0.6666666666666666,
              "#ed7953"
             ],
             [
              0.7777777777777778,
              "#fb9f3a"
             ],
             [
              0.8888888888888888,
              "#fdca26"
             ],
             [
              1,
              "#f0f921"
             ]
            ],
            "type": "histogram2dcontour"
           }
          ],
          "mesh3d": [
           {
            "colorbar": {
             "outlinewidth": 0,
             "ticks": ""
            },
            "type": "mesh3d"
           }
          ],
          "parcoords": [
           {
            "line": {
             "colorbar": {
              "outlinewidth": 0,
              "ticks": ""
             }
            },
            "type": "parcoords"
           }
          ],
          "pie": [
           {
            "automargin": true,
            "type": "pie"
           }
          ],
          "scatter": [
           {
            "marker": {
             "colorbar": {
              "outlinewidth": 0,
              "ticks": ""
             }
            },
            "type": "scatter"
           }
          ],
          "scatter3d": [
           {
            "line": {
             "colorbar": {
              "outlinewidth": 0,
              "ticks": ""
             }
            },
            "marker": {
             "colorbar": {
              "outlinewidth": 0,
              "ticks": ""
             }
            },
            "type": "scatter3d"
           }
          ],
          "scattercarpet": [
           {
            "marker": {
             "colorbar": {
              "outlinewidth": 0,
              "ticks": ""
             }
            },
            "type": "scattercarpet"
           }
          ],
          "scattergeo": [
           {
            "marker": {
             "colorbar": {
              "outlinewidth": 0,
              "ticks": ""
             }
            },
            "type": "scattergeo"
           }
          ],
          "scattergl": [
           {
            "marker": {
             "colorbar": {
              "outlinewidth": 0,
              "ticks": ""
             }
            },
            "type": "scattergl"
           }
          ],
          "scattermapbox": [
           {
            "marker": {
             "colorbar": {
              "outlinewidth": 0,
              "ticks": ""
             }
            },
            "type": "scattermapbox"
           }
          ],
          "scatterpolar": [
           {
            "marker": {
             "colorbar": {
              "outlinewidth": 0,
              "ticks": ""
             }
            },
            "type": "scatterpolar"
           }
          ],
          "scatterpolargl": [
           {
            "marker": {
             "colorbar": {
              "outlinewidth": 0,
              "ticks": ""
             }
            },
            "type": "scatterpolargl"
           }
          ],
          "scatterternary": [
           {
            "marker": {
             "colorbar": {
              "outlinewidth": 0,
              "ticks": ""
             }
            },
            "type": "scatterternary"
           }
          ],
          "surface": [
           {
            "colorbar": {
             "outlinewidth": 0,
             "ticks": ""
            },
            "colorscale": [
             [
              0,
              "#0d0887"
             ],
             [
              0.1111111111111111,
              "#46039f"
             ],
             [
              0.2222222222222222,
              "#7201a8"
             ],
             [
              0.3333333333333333,
              "#9c179e"
             ],
             [
              0.4444444444444444,
              "#bd3786"
             ],
             [
              0.5555555555555556,
              "#d8576b"
             ],
             [
              0.6666666666666666,
              "#ed7953"
             ],
             [
              0.7777777777777778,
              "#fb9f3a"
             ],
             [
              0.8888888888888888,
              "#fdca26"
             ],
             [
              1,
              "#f0f921"
             ]
            ],
            "type": "surface"
           }
          ],
          "table": [
           {
            "cells": {
             "fill": {
              "color": "#EBF0F8"
             },
             "line": {
              "color": "white"
             }
            },
            "header": {
             "fill": {
              "color": "#C8D4E3"
             },
             "line": {
              "color": "white"
             }
            },
            "type": "table"
           }
          ]
         },
         "layout": {
          "annotationdefaults": {
           "arrowcolor": "#2a3f5f",
           "arrowhead": 0,
           "arrowwidth": 1
          },
          "autotypenumbers": "strict",
          "coloraxis": {
           "colorbar": {
            "outlinewidth": 0,
            "ticks": ""
           }
          },
          "colorscale": {
           "diverging": [
            [
             0,
             "#8e0152"
            ],
            [
             0.1,
             "#c51b7d"
            ],
            [
             0.2,
             "#de77ae"
            ],
            [
             0.3,
             "#f1b6da"
            ],
            [
             0.4,
             "#fde0ef"
            ],
            [
             0.5,
             "#f7f7f7"
            ],
            [
             0.6,
             "#e6f5d0"
            ],
            [
             0.7,
             "#b8e186"
            ],
            [
             0.8,
             "#7fbc41"
            ],
            [
             0.9,
             "#4d9221"
            ],
            [
             1,
             "#276419"
            ]
           ],
           "sequential": [
            [
             0,
             "#0d0887"
            ],
            [
             0.1111111111111111,
             "#46039f"
            ],
            [
             0.2222222222222222,
             "#7201a8"
            ],
            [
             0.3333333333333333,
             "#9c179e"
            ],
            [
             0.4444444444444444,
             "#bd3786"
            ],
            [
             0.5555555555555556,
             "#d8576b"
            ],
            [
             0.6666666666666666,
             "#ed7953"
            ],
            [
             0.7777777777777778,
             "#fb9f3a"
            ],
            [
             0.8888888888888888,
             "#fdca26"
            ],
            [
             1,
             "#f0f921"
            ]
           ],
           "sequentialminus": [
            [
             0,
             "#0d0887"
            ],
            [
             0.1111111111111111,
             "#46039f"
            ],
            [
             0.2222222222222222,
             "#7201a8"
            ],
            [
             0.3333333333333333,
             "#9c179e"
            ],
            [
             0.4444444444444444,
             "#bd3786"
            ],
            [
             0.5555555555555556,
             "#d8576b"
            ],
            [
             0.6666666666666666,
             "#ed7953"
            ],
            [
             0.7777777777777778,
             "#fb9f3a"
            ],
            [
             0.8888888888888888,
             "#fdca26"
            ],
            [
             1,
             "#f0f921"
            ]
           ]
          },
          "colorway": [
           "#636efa",
           "#EF553B",
           "#00cc96",
           "#ab63fa",
           "#FFA15A",
           "#19d3f3",
           "#FF6692",
           "#B6E880",
           "#FF97FF",
           "#FECB52"
          ],
          "font": {
           "color": "#2a3f5f"
          },
          "geo": {
           "bgcolor": "white",
           "lakecolor": "white",
           "landcolor": "#E5ECF6",
           "showlakes": true,
           "showland": true,
           "subunitcolor": "white"
          },
          "hoverlabel": {
           "align": "left"
          },
          "hovermode": "closest",
          "mapbox": {
           "style": "light"
          },
          "paper_bgcolor": "white",
          "plot_bgcolor": "#E5ECF6",
          "polar": {
           "angularaxis": {
            "gridcolor": "white",
            "linecolor": "white",
            "ticks": ""
           },
           "bgcolor": "#E5ECF6",
           "radialaxis": {
            "gridcolor": "white",
            "linecolor": "white",
            "ticks": ""
           }
          },
          "scene": {
           "xaxis": {
            "backgroundcolor": "#E5ECF6",
            "gridcolor": "white",
            "gridwidth": 2,
            "linecolor": "white",
            "showbackground": true,
            "ticks": "",
            "zerolinecolor": "white"
           },
           "yaxis": {
            "backgroundcolor": "#E5ECF6",
            "gridcolor": "white",
            "gridwidth": 2,
            "linecolor": "white",
            "showbackground": true,
            "ticks": "",
            "zerolinecolor": "white"
           },
           "zaxis": {
            "backgroundcolor": "#E5ECF6",
            "gridcolor": "white",
            "gridwidth": 2,
            "linecolor": "white",
            "showbackground": true,
            "ticks": "",
            "zerolinecolor": "white"
           }
          },
          "shapedefaults": {
           "line": {
            "color": "#2a3f5f"
           }
          },
          "ternary": {
           "aaxis": {
            "gridcolor": "white",
            "linecolor": "white",
            "ticks": ""
           },
           "baxis": {
            "gridcolor": "white",
            "linecolor": "white",
            "ticks": ""
           },
           "bgcolor": "#E5ECF6",
           "caxis": {
            "gridcolor": "white",
            "linecolor": "white",
            "ticks": ""
           }
          },
          "title": {
           "x": 0.05
          },
          "xaxis": {
           "automargin": true,
           "gridcolor": "white",
           "linecolor": "white",
           "ticks": "",
           "title": {
            "standoff": 15
           },
           "zerolinecolor": "white",
           "zerolinewidth": 2
          },
          "yaxis": {
           "automargin": true,
           "gridcolor": "white",
           "linecolor": "white",
           "ticks": "",
           "title": {
            "standoff": 15
           },
           "zerolinecolor": "white",
           "zerolinewidth": 2
          }
         }
        }
       }
      }
     },
     "metadata": {},
     "output_type": "display_data"
    }
   ],
   "source": [
    "n_total = len(data)\n",
    "n_marketed = np.sum(substance_applications['Number of MAs'])\n",
    "\n",
    "# Create figure\n",
    "fig = go.Figure()\n",
    "colours = plotly.colors.qualitative.T10\n",
    "\n",
    "fig.add_trace(go.Pie(\n",
    "    labels=[\n",
    "        'Marketed'] + ['Not marketed'],\n",
    "    values=[n_marketed, n_total - n_marketed],\n",
    "    textinfo='label+value+percent',\n",
    "    sort=False,\n",
    "    marker=dict(\n",
    "        colors=[colours[0], colours[-1]], \n",
    "        line=dict(color='#000000', width=1))))\n",
    "fig.update_layout(showlegend=False)\n",
    "\n",
    "fig.write_image(\n",
    "    directory + '/images/ec_number_market_authorisations_2000_2020.pdf')\n",
    "fig.show()"
   ]
  },
  {
   "cell_type": "markdown",
   "metadata": {},
   "source": [
    "### How many of those marketed drugs have more than one designation?\n",
    "We need to make sure that each trade name only occurs once (see below sum products describe the same active substance, but are named differently. They can only be merged via their common trade name)."
   ]
  },
  {
   "cell_type": "code",
   "execution_count": 75,
   "metadata": {},
   "outputs": [
    {
     "data": {
      "text/html": [
       "<div>\n",
       "<style scoped>\n",
       "    .dataframe tbody tr th:only-of-type {\n",
       "        vertical-align: middle;\n",
       "    }\n",
       "\n",
       "    .dataframe tbody tr th {\n",
       "        vertical-align: top;\n",
       "    }\n",
       "\n",
       "    .dataframe thead th {\n",
       "        text-align: right;\n",
       "    }\n",
       "</style>\n",
       "<table border=\"1\" class=\"dataframe\">\n",
       "  <thead>\n",
       "    <tr style=\"text-align: right;\">\n",
       "      <th></th>\n",
       "      <th>Indication</th>\n",
       "      <th>Implemented on</th>\n",
       "      <th>Number of MAs</th>\n",
       "      <th>Trade names</th>\n",
       "      <th>Designation date</th>\n",
       "      <th>Trade name</th>\n",
       "      <th>Product</th>\n",
       "      <th>EU number</th>\n",
       "      <th>Number of designations</th>\n",
       "    </tr>\n",
       "  </thead>\n",
       "  <tbody>\n",
       "    <tr>\n",
       "      <th>0</th>\n",
       "      <td>Treatment of anthrax</td>\n",
       "      <td>19 Nov 2020</td>\n",
       "      <td>1</td>\n",
       "      <td>Obiltoxaximab SFL</td>\n",
       "      <td>24 Aug 2018</td>\n",
       "      <td>Obiltoxaximab SFL</td>\n",
       "      <td>obiltoxaximab</td>\n",
       "      <td>EU/1/20/1485</td>\n",
       "      <td>1</td>\n",
       "    </tr>\n",
       "    <tr>\n",
       "      <th>0</th>\n",
       "      <td>Treatment of diffuse large B-cell lymphoma</td>\n",
       "      <td>20 Jan 2020</td>\n",
       "      <td>1</td>\n",
       "      <td>Polivy</td>\n",
       "      <td>16 Apr 2018</td>\n",
       "      <td>Polivy</td>\n",
       "      <td>polatuzumab vedotin</td>\n",
       "      <td>EU/1/19/1388</td>\n",
       "      <td>1</td>\n",
       "    </tr>\n",
       "    <tr>\n",
       "      <th>0</th>\n",
       "      <td>Treatment of mantle cell lymphoma</td>\n",
       "      <td>15 Dec 2020</td>\n",
       "      <td>1</td>\n",
       "      <td>Tecartus</td>\n",
       "      <td>13 Nov 2019</td>\n",
       "      <td>Tecartus</td>\n",
       "      <td>autologous peripheral blood t cells cd4 and cd...</td>\n",
       "      <td>EU/1/20/1492</td>\n",
       "      <td>1</td>\n",
       "    </tr>\n",
       "    <tr>\n",
       "      <th>0</th>\n",
       "      <td>Treatment of spinal muscular atrophy</td>\n",
       "      <td>29 Mar 2021</td>\n",
       "      <td>1</td>\n",
       "      <td>Evrysdi</td>\n",
       "      <td>26 Feb 2019</td>\n",
       "      <td>Evrysdi</td>\n",
       "      <td>risdiplam</td>\n",
       "      <td>EU/1/21/1531</td>\n",
       "      <td>1</td>\n",
       "    </tr>\n",
       "    <tr>\n",
       "      <th>0</th>\n",
       "      <td>Treatment of anal fistula</td>\n",
       "      <td>27 Mar 2018</td>\n",
       "      <td>1</td>\n",
       "      <td>Alofisel</td>\n",
       "      <td>08 Oct 2009</td>\n",
       "      <td>Alofisel</td>\n",
       "      <td>expanded human allogeneic mesenchymal adult st...</td>\n",
       "      <td>EU/1/17/1261</td>\n",
       "      <td>1</td>\n",
       "    </tr>\n",
       "    <tr>\n",
       "      <th>...</th>\n",
       "      <td>...</td>\n",
       "      <td>...</td>\n",
       "      <td>...</td>\n",
       "      <td>...</td>\n",
       "      <td>...</td>\n",
       "      <td>...</td>\n",
       "      <td>...</td>\n",
       "      <td>...</td>\n",
       "      <td>...</td>\n",
       "    </tr>\n",
       "    <tr>\n",
       "      <th>0</th>\n",
       "      <td>Treatment of Duchenne muscular dystrophy\\n Tre...</td>\n",
       "      <td>-\\n 10 Sep 2015\\n -\\n -</td>\n",
       "      <td>1</td>\n",
       "      <td>-\\n Raxone\\n -\\n -</td>\n",
       "      <td>20 Mar 2007\\n 15 Feb 2007\\n 08 Mar 2004\\n 20 N...</td>\n",
       "      <td>Raxone</td>\n",
       "      <td>idebenone</td>\n",
       "      <td>-\\n EU/1/15/1020\\n -\\n -</td>\n",
       "      <td>4</td>\n",
       "    </tr>\n",
       "    <tr>\n",
       "      <th>0</th>\n",
       "      <td>Treatment of Berardinelli-Seip syndrome\\n Trea...</td>\n",
       "      <td>01 Aug 2018\\n 01 Aug 2018\\n 01 Aug 2018\\n 01 A...</td>\n",
       "      <td>4</td>\n",
       "      <td>Myalepta\\n Myalepta\\n Myalepta\\n Myalepta</td>\n",
       "      <td>17 Jul 2012\\n 17 Jul 2012\\n 17 Jul 2012\\n 17 J...</td>\n",
       "      <td>Myalepta</td>\n",
       "      <td>metreleptin</td>\n",
       "      <td>EU/1/18/1276\\n EU/1/18/1276\\n EU/1/18/1276\\n E...</td>\n",
       "      <td>4</td>\n",
       "    </tr>\n",
       "    <tr>\n",
       "      <th>0</th>\n",
       "      <td>Treatment of moderate and severe closed trauma...</td>\n",
       "      <td>-\\n -\\n -\\n 10 Jul 2018</td>\n",
       "      <td>1</td>\n",
       "      <td>-\\n -\\n -\\n Verkazia</td>\n",
       "      <td>01 Oct 2010\\n 29 Oct 2007\\n 22 Oct 2007\\n 06 A...</td>\n",
       "      <td>Verkazia</td>\n",
       "      <td>ciclosporin</td>\n",
       "      <td>-\\n -\\n -\\n EU/1/17/1219</td>\n",
       "      <td>4</td>\n",
       "    </tr>\n",
       "    <tr>\n",
       "      <th>0</th>\n",
       "      <td>Treatment of citrullinaemia type 2\\n Treatment...</td>\n",
       "      <td>-\\n 01 Dec 2015\\n 01 Dec 2015\\n 01 Dec 2015\\n ...</td>\n",
       "      <td>6</td>\n",
       "      <td>-\\n Ravicti\\n Ravicti\\n Ravicti\\n Ravicti\\n Ra...</td>\n",
       "      <td>10 Jun 2010\\n 10 Jun 2010\\n 10 Jun 2010\\n 10 J...</td>\n",
       "      <td>Ravicti</td>\n",
       "      <td>glyceryl tri-(4-phenylbutyrate)</td>\n",
       "      <td>-\\n EU/1/15/1062\\n EU/1/15/1062\\n EU/1/15/1062...</td>\n",
       "      <td>7</td>\n",
       "    </tr>\n",
       "    <tr>\n",
       "      <th>0</th>\n",
       "      <td>Treatment of tuberous sclerosis\\n Treatment of...</td>\n",
       "      <td>20 Apr 2021\\n -\\n 23 Sep 2019\\n -\\n -\\n -\\n 23...</td>\n",
       "      <td>3</td>\n",
       "      <td>Epidyolex\\n -\\n Epidyolex\\n -\\n -\\n -\\n Epidyolex</td>\n",
       "      <td>17 Jan 2018\\n 16 Oct 2017\\n 20 Mar 2017\\n 29 A...</td>\n",
       "      <td>Epidyolex</td>\n",
       "      <td>cannabidiol</td>\n",
       "      <td>EU/1/19/1389\\n -\\n EU/1/19/1389\\n -\\n -\\n -\\n ...</td>\n",
       "      <td>7</td>\n",
       "    </tr>\n",
       "  </tbody>\n",
       "</table>\n",
       "<p>121 rows × 9 columns</p>\n",
       "</div>"
      ],
      "text/plain": [
       "                                           Indication  \\\n",
       "0                                Treatment of anthrax   \n",
       "0          Treatment of diffuse large B-cell lymphoma   \n",
       "0                   Treatment of mantle cell lymphoma   \n",
       "0                Treatment of spinal muscular atrophy   \n",
       "0                           Treatment of anal fistula   \n",
       "..                                                ...   \n",
       "0   Treatment of Duchenne muscular dystrophy\\n Tre...   \n",
       "0   Treatment of Berardinelli-Seip syndrome\\n Trea...   \n",
       "0   Treatment of moderate and severe closed trauma...   \n",
       "0   Treatment of citrullinaemia type 2\\n Treatment...   \n",
       "0   Treatment of tuberous sclerosis\\n Treatment of...   \n",
       "\n",
       "                                       Implemented on Number of MAs  \\\n",
       "0                                         19 Nov 2020             1   \n",
       "0                                         20 Jan 2020             1   \n",
       "0                                         15 Dec 2020             1   \n",
       "0                                         29 Mar 2021             1   \n",
       "0                                         27 Mar 2018             1   \n",
       "..                                                ...           ...   \n",
       "0                             -\\n 10 Sep 2015\\n -\\n -             1   \n",
       "0   01 Aug 2018\\n 01 Aug 2018\\n 01 Aug 2018\\n 01 A...             4   \n",
       "0                             -\\n -\\n -\\n 10 Jul 2018             1   \n",
       "0   -\\n 01 Dec 2015\\n 01 Dec 2015\\n 01 Dec 2015\\n ...             6   \n",
       "0   20 Apr 2021\\n -\\n 23 Sep 2019\\n -\\n -\\n -\\n 23...             3   \n",
       "\n",
       "                                          Trade names  \\\n",
       "0                                   Obiltoxaximab SFL   \n",
       "0                                              Polivy   \n",
       "0                                            Tecartus   \n",
       "0                                             Evrysdi   \n",
       "0                                            Alofisel   \n",
       "..                                                ...   \n",
       "0                                  -\\n Raxone\\n -\\n -   \n",
       "0           Myalepta\\n Myalepta\\n Myalepta\\n Myalepta   \n",
       "0                                -\\n -\\n -\\n Verkazia   \n",
       "0   -\\n Ravicti\\n Ravicti\\n Ravicti\\n Ravicti\\n Ra...   \n",
       "0   Epidyolex\\n -\\n Epidyolex\\n -\\n -\\n -\\n Epidyolex   \n",
       "\n",
       "                                     Designation date         Trade name  \\\n",
       "0                                         24 Aug 2018  Obiltoxaximab SFL   \n",
       "0                                         16 Apr 2018             Polivy   \n",
       "0                                         13 Nov 2019           Tecartus   \n",
       "0                                         26 Feb 2019            Evrysdi   \n",
       "0                                         08 Oct 2009           Alofisel   \n",
       "..                                                ...                ...   \n",
       "0   20 Mar 2007\\n 15 Feb 2007\\n 08 Mar 2004\\n 20 N...             Raxone   \n",
       "0   17 Jul 2012\\n 17 Jul 2012\\n 17 Jul 2012\\n 17 J...           Myalepta   \n",
       "0   01 Oct 2010\\n 29 Oct 2007\\n 22 Oct 2007\\n 06 A...           Verkazia   \n",
       "0   10 Jun 2010\\n 10 Jun 2010\\n 10 Jun 2010\\n 10 J...            Ravicti   \n",
       "0   17 Jan 2018\\n 16 Oct 2017\\n 20 Mar 2017\\n 29 A...          Epidyolex   \n",
       "\n",
       "                                              Product  \\\n",
       "0                                       obiltoxaximab   \n",
       "0                                 polatuzumab vedotin   \n",
       "0   autologous peripheral blood t cells cd4 and cd...   \n",
       "0                                           risdiplam   \n",
       "0   expanded human allogeneic mesenchymal adult st...   \n",
       "..                                                ...   \n",
       "0                                           idebenone   \n",
       "0                                         metreleptin   \n",
       "0                                         ciclosporin   \n",
       "0                     glyceryl tri-(4-phenylbutyrate)   \n",
       "0                                         cannabidiol   \n",
       "\n",
       "                                            EU number Number of designations  \n",
       "0                                        EU/1/20/1485                      1  \n",
       "0                                        EU/1/19/1388                      1  \n",
       "0                                        EU/1/20/1492                      1  \n",
       "0                                        EU/1/21/1531                      1  \n",
       "0                                        EU/1/17/1261                      1  \n",
       "..                                                ...                    ...  \n",
       "0                            -\\n EU/1/15/1020\\n -\\n -                      4  \n",
       "0   EU/1/18/1276\\n EU/1/18/1276\\n EU/1/18/1276\\n E...                      4  \n",
       "0                            -\\n -\\n -\\n EU/1/17/1219                      4  \n",
       "0   -\\n EU/1/15/1062\\n EU/1/15/1062\\n EU/1/15/1062...                      7  \n",
       "0   EU/1/19/1389\\n -\\n EU/1/19/1389\\n -\\n -\\n -\\n ...                      7  \n",
       "\n",
       "[121 rows x 9 columns]"
      ]
     },
     "execution_count": 75,
     "metadata": {},
     "output_type": "execute_result"
    }
   ],
   "source": [
    "# Mask those products that have not been marketed\n",
    "mask = substance_applications['Trade name'] != ''\n",
    "temp = substance_applications[mask].copy()\n",
    "\n",
    "# Create container for marketed ODs\n",
    "marketed_ods = pd.DataFrame(\n",
    "    columns={'Product', 'Number of designations', 'Trade names', 'Trade name', 'Indication', 'Designation date', 'Number of MAs', 'EU number', 'Implemented on'})\n",
    "\n",
    "trade_names = temp['Trade name'].unique()\n",
    "for trade_name in trade_names:\n",
    "    # Mask for all rows with that trade name\n",
    "    mask = temp['Trade name'] == trade_name\n",
    "\n",
    "    designation_date = ''\n",
    "    trade_names = ''\n",
    "    eu_number = ''\n",
    "    implemented_on = ''\n",
    "    n_approved = 0\n",
    "    n_designations = 0\n",
    "    indication = ''\n",
    "    product = ''\n",
    "    for _, row in temp[mask].iterrows():\n",
    "        if designation_date != '':\n",
    "            designation_date += '\\n '\n",
    "            trade_names += '\\n '\n",
    "            eu_number += '\\n '\n",
    "            implemented_on += '\\n '\n",
    "            indication += '\\n '\n",
    "            product += '\\n '\n",
    "        designation_date += row['Designation date']\n",
    "        trade_names += row['Trade names']\n",
    "        eu_number += row['EU number']\n",
    "        implemented_on += row['Implemented on']\n",
    "        indication += row['Indication']\n",
    "        product += row['Product']\n",
    "        n_approved += row['Number of MAs']\n",
    "        n_designations += row['Number of designations']\n",
    "    \n",
    "    # Append to container\n",
    "    marketed_ods = marketed_ods.append(pd.DataFrame({\n",
    "        'Product': [product],\n",
    "        'Number of designations': [n_designations],\n",
    "        'Indication': [indication],\n",
    "        'Designation date': [designation_date],\n",
    "        'Trade name': [trade_name],\n",
    "        'Trade names': [trade_names],\n",
    "        'Number of MAs': [n_approved],\n",
    "        'EU number': [eu_number],\n",
    "        'Implemented on': [implemented_on]}))\n",
    "\n",
    "marketed_ods"
   ]
  },
  {
   "cell_type": "code",
   "execution_count": 76,
   "metadata": {},
   "outputs": [
    {
     "data": {
      "text/html": [
       "<div>\n",
       "<style scoped>\n",
       "    .dataframe tbody tr th:only-of-type {\n",
       "        vertical-align: middle;\n",
       "    }\n",
       "\n",
       "    .dataframe tbody tr th {\n",
       "        vertical-align: top;\n",
       "    }\n",
       "\n",
       "    .dataframe thead th {\n",
       "        text-align: right;\n",
       "    }\n",
       "</style>\n",
       "<table border=\"1\" class=\"dataframe\">\n",
       "  <thead>\n",
       "    <tr style=\"text-align: right;\">\n",
       "      <th></th>\n",
       "      <th>Indication</th>\n",
       "      <th>Implemented on</th>\n",
       "      <th>Number of MAs</th>\n",
       "      <th>Trade names</th>\n",
       "      <th>Designation date</th>\n",
       "      <th>Trade name</th>\n",
       "      <th>Product</th>\n",
       "      <th>EU number</th>\n",
       "      <th>Number of designations</th>\n",
       "    </tr>\n",
       "  </thead>\n",
       "  <tbody>\n",
       "    <tr>\n",
       "      <th>0</th>\n",
       "      <td>Treatment of senile systemic amyloidosis\\n Tre...</td>\n",
       "      <td>19 Feb 2020\\n 18 Nov 2011</td>\n",
       "      <td>2</td>\n",
       "      <td>Vyndaqel\\n Vyndaqel</td>\n",
       "      <td>08 Nov 2012\\n 28 Aug 2006</td>\n",
       "      <td>Vyndaqel</td>\n",
       "      <td>tafamidis\\n n-methyl d-(2,3,4,5,6-pentahydroxy...</td>\n",
       "      <td>EU/1/11/717\\n EU/1/11/717</td>\n",
       "      <td>2</td>\n",
       "    </tr>\n",
       "    <tr>\n",
       "      <th>0</th>\n",
       "      <td>Treatment of inherited retinal dystrophies (in...</td>\n",
       "      <td>05 Dec 2018\\n 05 Dec 2018</td>\n",
       "      <td>2</td>\n",
       "      <td>Luxturna\\n Luxturna</td>\n",
       "      <td>28 Jul 2015\\n 02 Apr 2012</td>\n",
       "      <td>Luxturna</td>\n",
       "      <td>adenovirus-associated viral vector serotype 2 ...</td>\n",
       "      <td>EU/1/18/1331\\n EU/1/18/1331</td>\n",
       "      <td>2</td>\n",
       "    </tr>\n",
       "    <tr>\n",
       "      <th>0</th>\n",
       "      <td>Treatment of mantle cell lymphoma\\n Treatment ...</td>\n",
       "      <td>23 Oct 2014\\n 23 Oct 2014\\n -\\n -\\n 07 Jul 201...</td>\n",
       "      <td>3</td>\n",
       "      <td>IMBRUVICA\\n IMBRUVICA\\n -\\n -\\n IMBRUVICA\\n -\\n -</td>\n",
       "      <td>12 Mar 2013\\n 26 Apr 2012\\n 18 Nov 2016\\n 10 A...</td>\n",
       "      <td>IMBRUVICA</td>\n",
       "      <td>1-[(3r)-3-[4-amino-3-(4-phenoxyphenyl)-1h-pyra...</td>\n",
       "      <td>EU/1/14/945\\n EU/1/14/945\\n -\\n -\\n EU/1/14/94...</td>\n",
       "      <td>7</td>\n",
       "    </tr>\n",
       "    <tr>\n",
       "      <th>0</th>\n",
       "      <td>Treatment of cutaneous T-cell lymphoma\\n Treat...</td>\n",
       "      <td>19 Dec 2017\\n 30 Oct 2012\\n 30 Oct 2012</td>\n",
       "      <td>3</td>\n",
       "      <td>ADCETRIS\\n ADCETRIS\\n ADCETRIS</td>\n",
       "      <td>11 Jan 2012\\n 15 Jan 2009\\n 15 Jan 2009</td>\n",
       "      <td>ADCETRIS</td>\n",
       "      <td>brentuximab vedotin\\n monoclonal antibody agai...</td>\n",
       "      <td>EU/1/12/794\\n EU/1/12/794\\n EU/1/12/794</td>\n",
       "      <td>3</td>\n",
       "    </tr>\n",
       "    <tr>\n",
       "      <th>0</th>\n",
       "      <td>Treatment of diffuse large B cell lymphoma\\n T...</td>\n",
       "      <td>27 Aug 2018\\n -\\n -\\n -\\n 27 Aug 2018\\n -</td>\n",
       "      <td>2</td>\n",
       "      <td>Yescarta\\n -\\n -\\n -\\n Yescarta\\n -</td>\n",
       "      <td>16 Dec 2014\\n 11 Nov 2015\\n 11 Nov 2015\\n 11 N...</td>\n",
       "      <td>Yescarta</td>\n",
       "      <td>autologous t cells transduced with retroviral ...</td>\n",
       "      <td>EU/1/18/1299\\n -\\n -\\n -\\n EU/1/18/1299\\n -</td>\n",
       "      <td>6</td>\n",
       "    </tr>\n",
       "    <tr>\n",
       "      <th>0</th>\n",
       "      <td>Treatment of chronic myeloid leukaemia\\n Treat...</td>\n",
       "      <td>03 Jul 2013\\n 03 Jul 2013</td>\n",
       "      <td>2</td>\n",
       "      <td>Iclusig\\n Iclusig</td>\n",
       "      <td>02 Feb 2010\\n 02 Feb 2010</td>\n",
       "      <td>Iclusig</td>\n",
       "      <td>benzamide, 3-(2-imidazo[1,2-b]pyridazin-3-ylet...</td>\n",
       "      <td>EU/1/13/839\\n EU/1/13/839</td>\n",
       "      <td>2</td>\n",
       "    </tr>\n",
       "    <tr>\n",
       "      <th>0</th>\n",
       "      <td>Treatment of myeloid/lymphoid neoplasms with e...</td>\n",
       "      <td>-\\n 29 Mar 2021</td>\n",
       "      <td>1</td>\n",
       "      <td>-\\n Pemazyre</td>\n",
       "      <td>17 Oct 2019\\n 24 Aug 2018</td>\n",
       "      <td>Pemazyre</td>\n",
       "      <td>pemigatinib</td>\n",
       "      <td>-\\n EU/1/21/1535</td>\n",
       "      <td>2</td>\n",
       "    </tr>\n",
       "    <tr>\n",
       "      <th>0</th>\n",
       "      <td>Treatment of Lennox-Gastaut syndrome\\n Treatme...</td>\n",
       "      <td>-\\n 21 Dec 2020</td>\n",
       "      <td>1</td>\n",
       "      <td>-\\n Fintepla</td>\n",
       "      <td>27 Feb 2017\\n 18 Dec 2013</td>\n",
       "      <td>Fintepla</td>\n",
       "      <td>fenfluramine hydrochloride</td>\n",
       "      <td>-\\n EU/1/20/1491</td>\n",
       "      <td>2</td>\n",
       "    </tr>\n",
       "    <tr>\n",
       "      <th>0</th>\n",
       "      <td>Treatment of mastocytosis\\n Treatment of acute...</td>\n",
       "      <td>20 Sep 2017\\n 20 Sep 2017</td>\n",
       "      <td>2</td>\n",
       "      <td>Rydapt\\n Rydapt</td>\n",
       "      <td>04 Aug 2010\\n 29 Jul 2004</td>\n",
       "      <td>Rydapt</td>\n",
       "      <td>midostaurin</td>\n",
       "      <td>EU/1/17/1218\\n EU/1/17/1218</td>\n",
       "      <td>2</td>\n",
       "    </tr>\n",
       "    <tr>\n",
       "      <th>0</th>\n",
       "      <td>Treatment of invasive aspergillosis\\n Treatmen...</td>\n",
       "      <td>19 Oct 2015\\n 19 Oct 2015</td>\n",
       "      <td>2</td>\n",
       "      <td>Cresemba\\n Cresemba</td>\n",
       "      <td>04 Jul 2014\\n 04 Jun 2014</td>\n",
       "      <td>Cresemba</td>\n",
       "      <td>isavuconazonium sulfate</td>\n",
       "      <td>EU/1/15/1036\\n EU/1/15/1036</td>\n",
       "      <td>2</td>\n",
       "    </tr>\n",
       "    <tr>\n",
       "      <th>0</th>\n",
       "      <td>Treatment of congenital erythropoietic porphyr...</td>\n",
       "      <td>-\\n 29 Dec 2014</td>\n",
       "      <td>1</td>\n",
       "      <td>-\\n SCENESSE</td>\n",
       "      <td>08 May 2008\\n 08 May 2008</td>\n",
       "      <td>SCENESSE</td>\n",
       "      <td>[nle4, d-phe7]-alpha-melanocyte stimulating ho...</td>\n",
       "      <td>-\\n EU/1/14/969</td>\n",
       "      <td>2</td>\n",
       "    </tr>\n",
       "    <tr>\n",
       "      <th>0</th>\n",
       "      <td>Treatment of Pseudomonas aeruginosa lung infec...</td>\n",
       "      <td>-\\n 28 Oct 2020</td>\n",
       "      <td>1</td>\n",
       "      <td>-\\n ARIKAYCE liposomal</td>\n",
       "      <td>16 Dec 2014\\n 08 Apr 2014</td>\n",
       "      <td>ARIKAYCE liposomal</td>\n",
       "      <td>amikacin sulfate</td>\n",
       "      <td>-\\n EU/1/20/1469</td>\n",
       "      <td>2</td>\n",
       "    </tr>\n",
       "    <tr>\n",
       "      <th>0</th>\n",
       "      <td>Treatment of papillary thyroid cancer\\n Treatm...</td>\n",
       "      <td>27 May 2014\\n 27 May 2014</td>\n",
       "      <td>2</td>\n",
       "      <td>Nexavar\\n Nexavar</td>\n",
       "      <td>13 Nov 2013\\n 13 Nov 2013</td>\n",
       "      <td>Nexavar</td>\n",
       "      <td>sorafenib tosylate</td>\n",
       "      <td>EU/1/06/342\\n EU/1/06/342</td>\n",
       "      <td>2</td>\n",
       "    </tr>\n",
       "    <tr>\n",
       "      <th>0</th>\n",
       "      <td>Treatment of pulmonary arterial hypertension\\n...</td>\n",
       "      <td>27 Dec 2013\\n -</td>\n",
       "      <td>1</td>\n",
       "      <td>Opsumit\\n -</td>\n",
       "      <td>27 Sep 2011\\n 28 Jan 2010</td>\n",
       "      <td>Opsumit</td>\n",
       "      <td>macitentan</td>\n",
       "      <td>EU/1/13/893\\n -</td>\n",
       "      <td>2</td>\n",
       "    </tr>\n",
       "    <tr>\n",
       "      <th>0</th>\n",
       "      <td>Treatment of cystinosis\\n Treatment of cystinosis</td>\n",
       "      <td>-\\n 23 Jan 2017</td>\n",
       "      <td>1</td>\n",
       "      <td>-\\n Cystadrops</td>\n",
       "      <td>15 Oct 2014\\n 07 Nov 2008</td>\n",
       "      <td>Cystadrops</td>\n",
       "      <td>cysteamine hydrochloride</td>\n",
       "      <td>-\\n EU/1/15/1049</td>\n",
       "      <td>2</td>\n",
       "    </tr>\n",
       "    <tr>\n",
       "      <th>0</th>\n",
       "      <td>Treatment of primary IgA nephropathy\\n Treatme...</td>\n",
       "      <td>-\\n 10 Jan 2018</td>\n",
       "      <td>1</td>\n",
       "      <td>-\\n Jorveza</td>\n",
       "      <td>18 Nov 2016\\n 05 Aug 2013</td>\n",
       "      <td>Jorveza</td>\n",
       "      <td>budesonide</td>\n",
       "      <td>-\\n EU/1/17/1254</td>\n",
       "      <td>2</td>\n",
       "    </tr>\n",
       "    <tr>\n",
       "      <th>0</th>\n",
       "      <td>Treatment of AL amyloidosis\\n Treatment of pla...</td>\n",
       "      <td>-\\n 24 May 2016</td>\n",
       "      <td>1</td>\n",
       "      <td>-\\n Darzalex</td>\n",
       "      <td>25 May 2018\\n 17 Jul 2013</td>\n",
       "      <td>Darzalex</td>\n",
       "      <td>daratumumab</td>\n",
       "      <td>-\\n EU/1/16/1101</td>\n",
       "      <td>2</td>\n",
       "    </tr>\n",
       "    <tr>\n",
       "      <th>0</th>\n",
       "      <td>Treatment of cutaneous T-cell lymphoma\\n Treat...</td>\n",
       "      <td>26 Nov 2018\\n -</td>\n",
       "      <td>1</td>\n",
       "      <td>Poteligeo\\n -</td>\n",
       "      <td>14 Oct 2016\\n 11 Jan 2012</td>\n",
       "      <td>Poteligeo</td>\n",
       "      <td>mogamulizumab</td>\n",
       "      <td>EU/1/18/1335\\n -</td>\n",
       "      <td>2</td>\n",
       "    </tr>\n",
       "    <tr>\n",
       "      <th>0</th>\n",
       "      <td>Treatment of blastic plasmacytoid dendritic ce...</td>\n",
       "      <td>13 Jan 2021\\n -</td>\n",
       "      <td>1</td>\n",
       "      <td>ELZONRIS\\n -</td>\n",
       "      <td>11 Nov 2015\\n 09 Oct 2015</td>\n",
       "      <td>ELZONRIS</td>\n",
       "      <td>recombinant human interleukin-3 truncated diph...</td>\n",
       "      <td>EU/1/20/1504\\n -</td>\n",
       "      <td>2</td>\n",
       "    </tr>\n",
       "    <tr>\n",
       "      <th>0</th>\n",
       "      <td>Treatment of limbal stem cell deficiency\\n Tre...</td>\n",
       "      <td>-\\n 19 Feb 2015</td>\n",
       "      <td>1</td>\n",
       "      <td>-\\n Holoclar</td>\n",
       "      <td>17 Jul 2013\\n 07 Nov 2008</td>\n",
       "      <td>Holoclar</td>\n",
       "      <td>ex-vivo expanded autologous human corneal epit...</td>\n",
       "      <td>-\\n EU/1/14/987</td>\n",
       "      <td>2</td>\n",
       "    </tr>\n",
       "    <tr>\n",
       "      <th>0</th>\n",
       "      <td>Treatment of neurotrophic keratitis\\n Treatmen...</td>\n",
       "      <td>10 Jul 2017\\n -</td>\n",
       "      <td>1</td>\n",
       "      <td>OXERVATE\\n -</td>\n",
       "      <td>14 Dec 2015\\n 07 Jun 2013</td>\n",
       "      <td>OXERVATE</td>\n",
       "      <td>recombinant human nerve growth factor</td>\n",
       "      <td>EU/1/17/1197\\n -</td>\n",
       "      <td>2</td>\n",
       "    </tr>\n",
       "    <tr>\n",
       "      <th>0</th>\n",
       "      <td>Treatment of diffuse large B-cell lymphoma\\n T...</td>\n",
       "      <td>27 Aug 2018\\n 27 Aug 2018</td>\n",
       "      <td>2</td>\n",
       "      <td>Kymriah\\n Kymriah</td>\n",
       "      <td>14 Oct 2016\\n 29 Apr 2014</td>\n",
       "      <td>Kymriah</td>\n",
       "      <td>autologous t cells transduced with lentiviral ...</td>\n",
       "      <td>EU/1/18/1297\\n EU/1/18/1297</td>\n",
       "      <td>2</td>\n",
       "    </tr>\n",
       "    <tr>\n",
       "      <th>0</th>\n",
       "      <td>Treatment of myelodysplastic syndromes\\n Treat...</td>\n",
       "      <td>26 Jun 2020\\n 26 Jun 2020</td>\n",
       "      <td>2</td>\n",
       "      <td>Reblozyl\\n Reblozyl</td>\n",
       "      <td>22 Aug 2014\\n 29 Jul 2014</td>\n",
       "      <td>Reblozyl</td>\n",
       "      <td>recombinant fusion protein consisting of a mod...</td>\n",
       "      <td>EU/1/20/1452\\n EU/1/20/1452</td>\n",
       "      <td>2</td>\n",
       "    </tr>\n",
       "    <tr>\n",
       "      <th>0</th>\n",
       "      <td>Treatment of Cushing's disease\\n Treatment of ...</td>\n",
       "      <td>27 Apr 2012\\n 21 Nov 2014</td>\n",
       "      <td>2</td>\n",
       "      <td>Signifor\\n Signifor</td>\n",
       "      <td>08 Oct 2009\\n 08 Oct 2009</td>\n",
       "      <td>Signifor</td>\n",
       "      <td>pasireotide</td>\n",
       "      <td>EU/1/12/753\\n EU/1/12/753</td>\n",
       "      <td>2</td>\n",
       "    </tr>\n",
       "    <tr>\n",
       "      <th>0</th>\n",
       "      <td>Treatment of acute myeloid leukaemia\\n Treatme...</td>\n",
       "      <td>24 Sep 2012\\n -</td>\n",
       "      <td>1</td>\n",
       "      <td>Dacogen\\n -</td>\n",
       "      <td>08 Jun 2006\\n 14 Feb 2003</td>\n",
       "      <td>Dacogen</td>\n",
       "      <td>decitabine</td>\n",
       "      <td>EU/1/12/792\\n -</td>\n",
       "      <td>2</td>\n",
       "    </tr>\n",
       "    <tr>\n",
       "      <th>0</th>\n",
       "      <td>Treatment of follicular lymphoma\\n Treatment o...</td>\n",
       "      <td>15 Jun 2016\\n 24 Jul 2014</td>\n",
       "      <td>2</td>\n",
       "      <td>Gazyvaro\\n Gazyvaro</td>\n",
       "      <td>19 Jun 2015\\n 10 Oct 2012</td>\n",
       "      <td>Gazyvaro</td>\n",
       "      <td>obinutuzumab</td>\n",
       "      <td>EU/1/14/937\\n EU/1/14/937</td>\n",
       "      <td>2</td>\n",
       "    </tr>\n",
       "    <tr>\n",
       "      <th>0</th>\n",
       "      <td>Prevention of graft-versus-host disease\\n Trea...</td>\n",
       "      <td>-\\n 22 Oct 2013\\n -</td>\n",
       "      <td>1</td>\n",
       "      <td>-\\n Defitelio\\n -</td>\n",
       "      <td>13 Nov 2013\\n 29 Jul 2004\\n 29 Jul 2004</td>\n",
       "      <td>Defitelio</td>\n",
       "      <td>defibrotide</td>\n",
       "      <td>-\\n EU/1/13/878\\n -</td>\n",
       "      <td>3</td>\n",
       "    </tr>\n",
       "    <tr>\n",
       "      <th>0</th>\n",
       "      <td>Treatment of post-polycythaemia vera myelofibr...</td>\n",
       "      <td>09 Feb 2021\\n 09 Feb 2021\\n 09 Feb 2021</td>\n",
       "      <td>3</td>\n",
       "      <td>Inrebic\\n Inrebic\\n Inrebic</td>\n",
       "      <td>26 Nov 2010\\n 26 Nov 2010\\n 01 Oct 2010</td>\n",
       "      <td>Inrebic</td>\n",
       "      <td>n-tert-butyl-3-[(5-methyl-2-{[4-(2-pyrrolidin-...</td>\n",
       "      <td>EU/1/20/1514\\n EU/1/20/1514\\n EU/1/20/1514</td>\n",
       "      <td>3</td>\n",
       "    </tr>\n",
       "    <tr>\n",
       "      <th>0</th>\n",
       "      <td>Treatment of myasthenia gravis\\n Treatment of ...</td>\n",
       "      <td>17 Aug 2017\\n 28 Aug 2019\\n 29 Nov 2011</td>\n",
       "      <td>3</td>\n",
       "      <td>Soliris\\n Soliris\\n Soliris</td>\n",
       "      <td>29 Jul 2014\\n 05 Aug 2013\\n 24 Jul 2009</td>\n",
       "      <td>Soliris</td>\n",
       "      <td>eculizumab</td>\n",
       "      <td>EU/1/07/393\\n EU/1/07/393\\n EU/1/07/393</td>\n",
       "      <td>3</td>\n",
       "    </tr>\n",
       "    <tr>\n",
       "      <th>0</th>\n",
       "      <td>Treatment of granulosa cell tumours\\n Treatmen...</td>\n",
       "      <td>-\\n -\\n 21 Nov 2014</td>\n",
       "      <td>1</td>\n",
       "      <td>-\\n -\\n Ketoconazole HRA</td>\n",
       "      <td>20 Mar 2017\\n 09 Aug 2012\\n 23 Apr 2012</td>\n",
       "      <td>Ketoconazole HRA</td>\n",
       "      <td>ketoconazole</td>\n",
       "      <td>-\\n -\\n EU/1/14/965</td>\n",
       "      <td>3</td>\n",
       "    </tr>\n",
       "    <tr>\n",
       "      <th>0</th>\n",
       "      <td>Treatment of myotonic disorders\\n Treatment of...</td>\n",
       "      <td>20 Dec 2018\\n -\\n -</td>\n",
       "      <td>1</td>\n",
       "      <td>Namuscla\\n -\\n -</td>\n",
       "      <td>19 Nov 2014\\n 07 Oct 2013\\n 07 Jun 2013</td>\n",
       "      <td>Namuscla</td>\n",
       "      <td>mexiletine hydrochloride</td>\n",
       "      <td>EU/1/18/1325\\n -\\n -</td>\n",
       "      <td>3</td>\n",
       "    </tr>\n",
       "    <tr>\n",
       "      <th>0</th>\n",
       "      <td>Treatment of Duchenne muscular dystrophy\\n Tre...</td>\n",
       "      <td>-\\n 10 Sep 2015\\n -\\n -</td>\n",
       "      <td>1</td>\n",
       "      <td>-\\n Raxone\\n -\\n -</td>\n",
       "      <td>20 Mar 2007\\n 15 Feb 2007\\n 08 Mar 2004\\n 20 N...</td>\n",
       "      <td>Raxone</td>\n",
       "      <td>idebenone</td>\n",
       "      <td>-\\n EU/1/15/1020\\n -\\n -</td>\n",
       "      <td>4</td>\n",
       "    </tr>\n",
       "    <tr>\n",
       "      <th>0</th>\n",
       "      <td>Treatment of Berardinelli-Seip syndrome\\n Trea...</td>\n",
       "      <td>01 Aug 2018\\n 01 Aug 2018\\n 01 Aug 2018\\n 01 A...</td>\n",
       "      <td>4</td>\n",
       "      <td>Myalepta\\n Myalepta\\n Myalepta\\n Myalepta</td>\n",
       "      <td>17 Jul 2012\\n 17 Jul 2012\\n 17 Jul 2012\\n 17 J...</td>\n",
       "      <td>Myalepta</td>\n",
       "      <td>metreleptin</td>\n",
       "      <td>EU/1/18/1276\\n EU/1/18/1276\\n EU/1/18/1276\\n E...</td>\n",
       "      <td>4</td>\n",
       "    </tr>\n",
       "    <tr>\n",
       "      <th>0</th>\n",
       "      <td>Treatment of moderate and severe closed trauma...</td>\n",
       "      <td>-\\n -\\n -\\n 10 Jul 2018</td>\n",
       "      <td>1</td>\n",
       "      <td>-\\n -\\n -\\n Verkazia</td>\n",
       "      <td>01 Oct 2010\\n 29 Oct 2007\\n 22 Oct 2007\\n 06 A...</td>\n",
       "      <td>Verkazia</td>\n",
       "      <td>ciclosporin</td>\n",
       "      <td>-\\n -\\n -\\n EU/1/17/1219</td>\n",
       "      <td>4</td>\n",
       "    </tr>\n",
       "    <tr>\n",
       "      <th>0</th>\n",
       "      <td>Treatment of citrullinaemia type 2\\n Treatment...</td>\n",
       "      <td>-\\n 01 Dec 2015\\n 01 Dec 2015\\n 01 Dec 2015\\n ...</td>\n",
       "      <td>6</td>\n",
       "      <td>-\\n Ravicti\\n Ravicti\\n Ravicti\\n Ravicti\\n Ra...</td>\n",
       "      <td>10 Jun 2010\\n 10 Jun 2010\\n 10 Jun 2010\\n 10 J...</td>\n",
       "      <td>Ravicti</td>\n",
       "      <td>glyceryl tri-(4-phenylbutyrate)</td>\n",
       "      <td>-\\n EU/1/15/1062\\n EU/1/15/1062\\n EU/1/15/1062...</td>\n",
       "      <td>7</td>\n",
       "    </tr>\n",
       "    <tr>\n",
       "      <th>0</th>\n",
       "      <td>Treatment of tuberous sclerosis\\n Treatment of...</td>\n",
       "      <td>20 Apr 2021\\n -\\n 23 Sep 2019\\n -\\n -\\n -\\n 23...</td>\n",
       "      <td>3</td>\n",
       "      <td>Epidyolex\\n -\\n Epidyolex\\n -\\n -\\n -\\n Epidyolex</td>\n",
       "      <td>17 Jan 2018\\n 16 Oct 2017\\n 20 Mar 2017\\n 29 A...</td>\n",
       "      <td>Epidyolex</td>\n",
       "      <td>cannabidiol</td>\n",
       "      <td>EU/1/19/1389\\n -\\n EU/1/19/1389\\n -\\n -\\n -\\n ...</td>\n",
       "      <td>7</td>\n",
       "    </tr>\n",
       "  </tbody>\n",
       "</table>\n",
       "</div>"
      ],
      "text/plain": [
       "                                          Indication  \\\n",
       "0  Treatment of senile systemic amyloidosis\\n Tre...   \n",
       "0  Treatment of inherited retinal dystrophies (in...   \n",
       "0  Treatment of mantle cell lymphoma\\n Treatment ...   \n",
       "0  Treatment of cutaneous T-cell lymphoma\\n Treat...   \n",
       "0  Treatment of diffuse large B cell lymphoma\\n T...   \n",
       "0  Treatment of chronic myeloid leukaemia\\n Treat...   \n",
       "0  Treatment of myeloid/lymphoid neoplasms with e...   \n",
       "0  Treatment of Lennox-Gastaut syndrome\\n Treatme...   \n",
       "0  Treatment of mastocytosis\\n Treatment of acute...   \n",
       "0  Treatment of invasive aspergillosis\\n Treatmen...   \n",
       "0  Treatment of congenital erythropoietic porphyr...   \n",
       "0  Treatment of Pseudomonas aeruginosa lung infec...   \n",
       "0  Treatment of papillary thyroid cancer\\n Treatm...   \n",
       "0  Treatment of pulmonary arterial hypertension\\n...   \n",
       "0  Treatment of cystinosis\\n Treatment of cystinosis   \n",
       "0  Treatment of primary IgA nephropathy\\n Treatme...   \n",
       "0  Treatment of AL amyloidosis\\n Treatment of pla...   \n",
       "0  Treatment of cutaneous T-cell lymphoma\\n Treat...   \n",
       "0  Treatment of blastic plasmacytoid dendritic ce...   \n",
       "0  Treatment of limbal stem cell deficiency\\n Tre...   \n",
       "0  Treatment of neurotrophic keratitis\\n Treatmen...   \n",
       "0  Treatment of diffuse large B-cell lymphoma\\n T...   \n",
       "0  Treatment of myelodysplastic syndromes\\n Treat...   \n",
       "0  Treatment of Cushing's disease\\n Treatment of ...   \n",
       "0  Treatment of acute myeloid leukaemia\\n Treatme...   \n",
       "0  Treatment of follicular lymphoma\\n Treatment o...   \n",
       "0  Prevention of graft-versus-host disease\\n Trea...   \n",
       "0  Treatment of post-polycythaemia vera myelofibr...   \n",
       "0  Treatment of myasthenia gravis\\n Treatment of ...   \n",
       "0  Treatment of granulosa cell tumours\\n Treatmen...   \n",
       "0  Treatment of myotonic disorders\\n Treatment of...   \n",
       "0  Treatment of Duchenne muscular dystrophy\\n Tre...   \n",
       "0  Treatment of Berardinelli-Seip syndrome\\n Trea...   \n",
       "0  Treatment of moderate and severe closed trauma...   \n",
       "0  Treatment of citrullinaemia type 2\\n Treatment...   \n",
       "0  Treatment of tuberous sclerosis\\n Treatment of...   \n",
       "\n",
       "                                      Implemented on Number of MAs  \\\n",
       "0                          19 Feb 2020\\n 18 Nov 2011             2   \n",
       "0                          05 Dec 2018\\n 05 Dec 2018             2   \n",
       "0  23 Oct 2014\\n 23 Oct 2014\\n -\\n -\\n 07 Jul 201...             3   \n",
       "0            19 Dec 2017\\n 30 Oct 2012\\n 30 Oct 2012             3   \n",
       "0          27 Aug 2018\\n -\\n -\\n -\\n 27 Aug 2018\\n -             2   \n",
       "0                          03 Jul 2013\\n 03 Jul 2013             2   \n",
       "0                                    -\\n 29 Mar 2021             1   \n",
       "0                                    -\\n 21 Dec 2020             1   \n",
       "0                          20 Sep 2017\\n 20 Sep 2017             2   \n",
       "0                          19 Oct 2015\\n 19 Oct 2015             2   \n",
       "0                                    -\\n 29 Dec 2014             1   \n",
       "0                                    -\\n 28 Oct 2020             1   \n",
       "0                          27 May 2014\\n 27 May 2014             2   \n",
       "0                                    27 Dec 2013\\n -             1   \n",
       "0                                    -\\n 23 Jan 2017             1   \n",
       "0                                    -\\n 10 Jan 2018             1   \n",
       "0                                    -\\n 24 May 2016             1   \n",
       "0                                    26 Nov 2018\\n -             1   \n",
       "0                                    13 Jan 2021\\n -             1   \n",
       "0                                    -\\n 19 Feb 2015             1   \n",
       "0                                    10 Jul 2017\\n -             1   \n",
       "0                          27 Aug 2018\\n 27 Aug 2018             2   \n",
       "0                          26 Jun 2020\\n 26 Jun 2020             2   \n",
       "0                          27 Apr 2012\\n 21 Nov 2014             2   \n",
       "0                                    24 Sep 2012\\n -             1   \n",
       "0                          15 Jun 2016\\n 24 Jul 2014             2   \n",
       "0                                -\\n 22 Oct 2013\\n -             1   \n",
       "0            09 Feb 2021\\n 09 Feb 2021\\n 09 Feb 2021             3   \n",
       "0            17 Aug 2017\\n 28 Aug 2019\\n 29 Nov 2011             3   \n",
       "0                                -\\n -\\n 21 Nov 2014             1   \n",
       "0                                20 Dec 2018\\n -\\n -             1   \n",
       "0                            -\\n 10 Sep 2015\\n -\\n -             1   \n",
       "0  01 Aug 2018\\n 01 Aug 2018\\n 01 Aug 2018\\n 01 A...             4   \n",
       "0                            -\\n -\\n -\\n 10 Jul 2018             1   \n",
       "0  -\\n 01 Dec 2015\\n 01 Dec 2015\\n 01 Dec 2015\\n ...             6   \n",
       "0  20 Apr 2021\\n -\\n 23 Sep 2019\\n -\\n -\\n -\\n 23...             3   \n",
       "\n",
       "                                         Trade names  \\\n",
       "0                                Vyndaqel\\n Vyndaqel   \n",
       "0                                Luxturna\\n Luxturna   \n",
       "0  IMBRUVICA\\n IMBRUVICA\\n -\\n -\\n IMBRUVICA\\n -\\n -   \n",
       "0                     ADCETRIS\\n ADCETRIS\\n ADCETRIS   \n",
       "0                Yescarta\\n -\\n -\\n -\\n Yescarta\\n -   \n",
       "0                                  Iclusig\\n Iclusig   \n",
       "0                                       -\\n Pemazyre   \n",
       "0                                       -\\n Fintepla   \n",
       "0                                    Rydapt\\n Rydapt   \n",
       "0                                Cresemba\\n Cresemba   \n",
       "0                                       -\\n SCENESSE   \n",
       "0                             -\\n ARIKAYCE liposomal   \n",
       "0                                  Nexavar\\n Nexavar   \n",
       "0                                        Opsumit\\n -   \n",
       "0                                     -\\n Cystadrops   \n",
       "0                                        -\\n Jorveza   \n",
       "0                                       -\\n Darzalex   \n",
       "0                                      Poteligeo\\n -   \n",
       "0                                       ELZONRIS\\n -   \n",
       "0                                       -\\n Holoclar   \n",
       "0                                       OXERVATE\\n -   \n",
       "0                                  Kymriah\\n Kymriah   \n",
       "0                                Reblozyl\\n Reblozyl   \n",
       "0                                Signifor\\n Signifor   \n",
       "0                                        Dacogen\\n -   \n",
       "0                                Gazyvaro\\n Gazyvaro   \n",
       "0                                  -\\n Defitelio\\n -   \n",
       "0                        Inrebic\\n Inrebic\\n Inrebic   \n",
       "0                        Soliris\\n Soliris\\n Soliris   \n",
       "0                           -\\n -\\n Ketoconazole HRA   \n",
       "0                                   Namuscla\\n -\\n -   \n",
       "0                                 -\\n Raxone\\n -\\n -   \n",
       "0          Myalepta\\n Myalepta\\n Myalepta\\n Myalepta   \n",
       "0                               -\\n -\\n -\\n Verkazia   \n",
       "0  -\\n Ravicti\\n Ravicti\\n Ravicti\\n Ravicti\\n Ra...   \n",
       "0  Epidyolex\\n -\\n Epidyolex\\n -\\n -\\n -\\n Epidyolex   \n",
       "\n",
       "                                    Designation date          Trade name  \\\n",
       "0                          08 Nov 2012\\n 28 Aug 2006            Vyndaqel   \n",
       "0                          28 Jul 2015\\n 02 Apr 2012            Luxturna   \n",
       "0  12 Mar 2013\\n 26 Apr 2012\\n 18 Nov 2016\\n 10 A...           IMBRUVICA   \n",
       "0            11 Jan 2012\\n 15 Jan 2009\\n 15 Jan 2009            ADCETRIS   \n",
       "0  16 Dec 2014\\n 11 Nov 2015\\n 11 Nov 2015\\n 11 N...            Yescarta   \n",
       "0                          02 Feb 2010\\n 02 Feb 2010             Iclusig   \n",
       "0                          17 Oct 2019\\n 24 Aug 2018            Pemazyre   \n",
       "0                          27 Feb 2017\\n 18 Dec 2013            Fintepla   \n",
       "0                          04 Aug 2010\\n 29 Jul 2004              Rydapt   \n",
       "0                          04 Jul 2014\\n 04 Jun 2014            Cresemba   \n",
       "0                          08 May 2008\\n 08 May 2008            SCENESSE   \n",
       "0                          16 Dec 2014\\n 08 Apr 2014  ARIKAYCE liposomal   \n",
       "0                          13 Nov 2013\\n 13 Nov 2013             Nexavar   \n",
       "0                          27 Sep 2011\\n 28 Jan 2010             Opsumit   \n",
       "0                          15 Oct 2014\\n 07 Nov 2008          Cystadrops   \n",
       "0                          18 Nov 2016\\n 05 Aug 2013             Jorveza   \n",
       "0                          25 May 2018\\n 17 Jul 2013            Darzalex   \n",
       "0                          14 Oct 2016\\n 11 Jan 2012           Poteligeo   \n",
       "0                          11 Nov 2015\\n 09 Oct 2015            ELZONRIS   \n",
       "0                          17 Jul 2013\\n 07 Nov 2008            Holoclar   \n",
       "0                          14 Dec 2015\\n 07 Jun 2013            OXERVATE   \n",
       "0                          14 Oct 2016\\n 29 Apr 2014             Kymriah   \n",
       "0                          22 Aug 2014\\n 29 Jul 2014            Reblozyl   \n",
       "0                          08 Oct 2009\\n 08 Oct 2009            Signifor   \n",
       "0                          08 Jun 2006\\n 14 Feb 2003             Dacogen   \n",
       "0                          19 Jun 2015\\n 10 Oct 2012            Gazyvaro   \n",
       "0            13 Nov 2013\\n 29 Jul 2004\\n 29 Jul 2004           Defitelio   \n",
       "0            26 Nov 2010\\n 26 Nov 2010\\n 01 Oct 2010             Inrebic   \n",
       "0            29 Jul 2014\\n 05 Aug 2013\\n 24 Jul 2009             Soliris   \n",
       "0            20 Mar 2017\\n 09 Aug 2012\\n 23 Apr 2012    Ketoconazole HRA   \n",
       "0            19 Nov 2014\\n 07 Oct 2013\\n 07 Jun 2013            Namuscla   \n",
       "0  20 Mar 2007\\n 15 Feb 2007\\n 08 Mar 2004\\n 20 N...              Raxone   \n",
       "0  17 Jul 2012\\n 17 Jul 2012\\n 17 Jul 2012\\n 17 J...            Myalepta   \n",
       "0  01 Oct 2010\\n 29 Oct 2007\\n 22 Oct 2007\\n 06 A...            Verkazia   \n",
       "0  10 Jun 2010\\n 10 Jun 2010\\n 10 Jun 2010\\n 10 J...             Ravicti   \n",
       "0  17 Jan 2018\\n 16 Oct 2017\\n 20 Mar 2017\\n 29 A...           Epidyolex   \n",
       "\n",
       "                                             Product  \\\n",
       "0  tafamidis\\n n-methyl d-(2,3,4,5,6-pentahydroxy...   \n",
       "0  adenovirus-associated viral vector serotype 2 ...   \n",
       "0  1-[(3r)-3-[4-amino-3-(4-phenoxyphenyl)-1h-pyra...   \n",
       "0  brentuximab vedotin\\n monoclonal antibody agai...   \n",
       "0  autologous t cells transduced with retroviral ...   \n",
       "0  benzamide, 3-(2-imidazo[1,2-b]pyridazin-3-ylet...   \n",
       "0                                        pemigatinib   \n",
       "0                         fenfluramine hydrochloride   \n",
       "0                                        midostaurin   \n",
       "0                            isavuconazonium sulfate   \n",
       "0  [nle4, d-phe7]-alpha-melanocyte stimulating ho...   \n",
       "0                                   amikacin sulfate   \n",
       "0                                 sorafenib tosylate   \n",
       "0                                         macitentan   \n",
       "0                           cysteamine hydrochloride   \n",
       "0                                         budesonide   \n",
       "0                                        daratumumab   \n",
       "0                                      mogamulizumab   \n",
       "0  recombinant human interleukin-3 truncated diph...   \n",
       "0  ex-vivo expanded autologous human corneal epit...   \n",
       "0              recombinant human nerve growth factor   \n",
       "0  autologous t cells transduced with lentiviral ...   \n",
       "0  recombinant fusion protein consisting of a mod...   \n",
       "0                                        pasireotide   \n",
       "0                                         decitabine   \n",
       "0                                       obinutuzumab   \n",
       "0                                        defibrotide   \n",
       "0  n-tert-butyl-3-[(5-methyl-2-{[4-(2-pyrrolidin-...   \n",
       "0                                         eculizumab   \n",
       "0                                       ketoconazole   \n",
       "0                           mexiletine hydrochloride   \n",
       "0                                          idebenone   \n",
       "0                                        metreleptin   \n",
       "0                                        ciclosporin   \n",
       "0                    glyceryl tri-(4-phenylbutyrate)   \n",
       "0                                        cannabidiol   \n",
       "\n",
       "                                           EU number Number of designations  \n",
       "0                          EU/1/11/717\\n EU/1/11/717                      2  \n",
       "0                        EU/1/18/1331\\n EU/1/18/1331                      2  \n",
       "0  EU/1/14/945\\n EU/1/14/945\\n -\\n -\\n EU/1/14/94...                      7  \n",
       "0            EU/1/12/794\\n EU/1/12/794\\n EU/1/12/794                      3  \n",
       "0        EU/1/18/1299\\n -\\n -\\n -\\n EU/1/18/1299\\n -                      6  \n",
       "0                          EU/1/13/839\\n EU/1/13/839                      2  \n",
       "0                                   -\\n EU/1/21/1535                      2  \n",
       "0                                   -\\n EU/1/20/1491                      2  \n",
       "0                        EU/1/17/1218\\n EU/1/17/1218                      2  \n",
       "0                        EU/1/15/1036\\n EU/1/15/1036                      2  \n",
       "0                                    -\\n EU/1/14/969                      2  \n",
       "0                                   -\\n EU/1/20/1469                      2  \n",
       "0                          EU/1/06/342\\n EU/1/06/342                      2  \n",
       "0                                    EU/1/13/893\\n -                      2  \n",
       "0                                   -\\n EU/1/15/1049                      2  \n",
       "0                                   -\\n EU/1/17/1254                      2  \n",
       "0                                   -\\n EU/1/16/1101                      2  \n",
       "0                                   EU/1/18/1335\\n -                      2  \n",
       "0                                   EU/1/20/1504\\n -                      2  \n",
       "0                                    -\\n EU/1/14/987                      2  \n",
       "0                                   EU/1/17/1197\\n -                      2  \n",
       "0                        EU/1/18/1297\\n EU/1/18/1297                      2  \n",
       "0                        EU/1/20/1452\\n EU/1/20/1452                      2  \n",
       "0                          EU/1/12/753\\n EU/1/12/753                      2  \n",
       "0                                    EU/1/12/792\\n -                      2  \n",
       "0                          EU/1/14/937\\n EU/1/14/937                      2  \n",
       "0                                -\\n EU/1/13/878\\n -                      3  \n",
       "0         EU/1/20/1514\\n EU/1/20/1514\\n EU/1/20/1514                      3  \n",
       "0            EU/1/07/393\\n EU/1/07/393\\n EU/1/07/393                      3  \n",
       "0                                -\\n -\\n EU/1/14/965                      3  \n",
       "0                               EU/1/18/1325\\n -\\n -                      3  \n",
       "0                           -\\n EU/1/15/1020\\n -\\n -                      4  \n",
       "0  EU/1/18/1276\\n EU/1/18/1276\\n EU/1/18/1276\\n E...                      4  \n",
       "0                           -\\n -\\n -\\n EU/1/17/1219                      4  \n",
       "0  -\\n EU/1/15/1062\\n EU/1/15/1062\\n EU/1/15/1062...                      7  \n",
       "0  EU/1/19/1389\\n -\\n EU/1/19/1389\\n -\\n -\\n -\\n ...                      7  "
      ]
     },
     "execution_count": 76,
     "metadata": {},
     "output_type": "execute_result"
    }
   ],
   "source": [
    "mask = (marketed_ods['Number of MAs'] > 0) & (marketed_ods['Number of designations'] > 1)\n",
    "marketed_ods[mask]"
   ]
  },
  {
   "cell_type": "code",
   "execution_count": 79,
   "metadata": {},
   "outputs": [
    {
     "data": {
      "text/plain": [
       "36"
      ]
     },
     "execution_count": 79,
     "metadata": {},
     "output_type": "execute_result"
    }
   ],
   "source": [
    "mask = (marketed_ods['Number of MAs'] > 0) & (marketed_ods['Number of designations'] > 1)\n",
    "len(marketed_ods[mask])"
   ]
  },
  {
   "cell_type": "markdown",
   "metadata": {},
   "source": [
    "### How many are approved to treat multiple diseases?"
   ]
  },
  {
   "cell_type": "code",
   "execution_count": 80,
   "metadata": {},
   "outputs": [
    {
     "data": {
      "text/html": [
       "<div>\n",
       "<style scoped>\n",
       "    .dataframe tbody tr th:only-of-type {\n",
       "        vertical-align: middle;\n",
       "    }\n",
       "\n",
       "    .dataframe tbody tr th {\n",
       "        vertical-align: top;\n",
       "    }\n",
       "\n",
       "    .dataframe thead th {\n",
       "        text-align: right;\n",
       "    }\n",
       "</style>\n",
       "<table border=\"1\" class=\"dataframe\">\n",
       "  <thead>\n",
       "    <tr style=\"text-align: right;\">\n",
       "      <th></th>\n",
       "      <th>Indication</th>\n",
       "      <th>Implemented on</th>\n",
       "      <th>Number of MAs</th>\n",
       "      <th>Trade names</th>\n",
       "      <th>Designation date</th>\n",
       "      <th>Trade name</th>\n",
       "      <th>Product</th>\n",
       "      <th>EU number</th>\n",
       "      <th>Number of designations</th>\n",
       "    </tr>\n",
       "  </thead>\n",
       "  <tbody>\n",
       "    <tr>\n",
       "      <th>0</th>\n",
       "      <td>Treatment of senile systemic amyloidosis\\n Tre...</td>\n",
       "      <td>19 Feb 2020\\n 18 Nov 2011</td>\n",
       "      <td>2</td>\n",
       "      <td>Vyndaqel\\n Vyndaqel</td>\n",
       "      <td>08 Nov 2012\\n 28 Aug 2006</td>\n",
       "      <td>Vyndaqel</td>\n",
       "      <td>tafamidis\\n n-methyl d-(2,3,4,5,6-pentahydroxy...</td>\n",
       "      <td>EU/1/11/717\\n EU/1/11/717</td>\n",
       "      <td>2</td>\n",
       "    </tr>\n",
       "    <tr>\n",
       "      <th>0</th>\n",
       "      <td>Treatment of inherited retinal dystrophies (in...</td>\n",
       "      <td>05 Dec 2018\\n 05 Dec 2018</td>\n",
       "      <td>2</td>\n",
       "      <td>Luxturna\\n Luxturna</td>\n",
       "      <td>28 Jul 2015\\n 02 Apr 2012</td>\n",
       "      <td>Luxturna</td>\n",
       "      <td>adenovirus-associated viral vector serotype 2 ...</td>\n",
       "      <td>EU/1/18/1331\\n EU/1/18/1331</td>\n",
       "      <td>2</td>\n",
       "    </tr>\n",
       "    <tr>\n",
       "      <th>0</th>\n",
       "      <td>Treatment of mantle cell lymphoma\\n Treatment ...</td>\n",
       "      <td>23 Oct 2014\\n 23 Oct 2014\\n -\\n -\\n 07 Jul 201...</td>\n",
       "      <td>3</td>\n",
       "      <td>IMBRUVICA\\n IMBRUVICA\\n -\\n -\\n IMBRUVICA\\n -\\n -</td>\n",
       "      <td>12 Mar 2013\\n 26 Apr 2012\\n 18 Nov 2016\\n 10 A...</td>\n",
       "      <td>IMBRUVICA</td>\n",
       "      <td>1-[(3r)-3-[4-amino-3-(4-phenoxyphenyl)-1h-pyra...</td>\n",
       "      <td>EU/1/14/945\\n EU/1/14/945\\n -\\n -\\n EU/1/14/94...</td>\n",
       "      <td>7</td>\n",
       "    </tr>\n",
       "    <tr>\n",
       "      <th>0</th>\n",
       "      <td>Treatment of cutaneous T-cell lymphoma\\n Treat...</td>\n",
       "      <td>19 Dec 2017\\n 30 Oct 2012\\n 30 Oct 2012</td>\n",
       "      <td>3</td>\n",
       "      <td>ADCETRIS\\n ADCETRIS\\n ADCETRIS</td>\n",
       "      <td>11 Jan 2012\\n 15 Jan 2009\\n 15 Jan 2009</td>\n",
       "      <td>ADCETRIS</td>\n",
       "      <td>brentuximab vedotin\\n monoclonal antibody agai...</td>\n",
       "      <td>EU/1/12/794\\n EU/1/12/794\\n EU/1/12/794</td>\n",
       "      <td>3</td>\n",
       "    </tr>\n",
       "    <tr>\n",
       "      <th>0</th>\n",
       "      <td>Treatment of diffuse large B cell lymphoma\\n T...</td>\n",
       "      <td>27 Aug 2018\\n -\\n -\\n -\\n 27 Aug 2018\\n -</td>\n",
       "      <td>2</td>\n",
       "      <td>Yescarta\\n -\\n -\\n -\\n Yescarta\\n -</td>\n",
       "      <td>16 Dec 2014\\n 11 Nov 2015\\n 11 Nov 2015\\n 11 N...</td>\n",
       "      <td>Yescarta</td>\n",
       "      <td>autologous t cells transduced with retroviral ...</td>\n",
       "      <td>EU/1/18/1299\\n -\\n -\\n -\\n EU/1/18/1299\\n -</td>\n",
       "      <td>6</td>\n",
       "    </tr>\n",
       "    <tr>\n",
       "      <th>0</th>\n",
       "      <td>Treatment of chronic myeloid leukaemia\\n Treat...</td>\n",
       "      <td>03 Jul 2013\\n 03 Jul 2013</td>\n",
       "      <td>2</td>\n",
       "      <td>Iclusig\\n Iclusig</td>\n",
       "      <td>02 Feb 2010\\n 02 Feb 2010</td>\n",
       "      <td>Iclusig</td>\n",
       "      <td>benzamide, 3-(2-imidazo[1,2-b]pyridazin-3-ylet...</td>\n",
       "      <td>EU/1/13/839\\n EU/1/13/839</td>\n",
       "      <td>2</td>\n",
       "    </tr>\n",
       "    <tr>\n",
       "      <th>0</th>\n",
       "      <td>Treatment of mastocytosis\\n Treatment of acute...</td>\n",
       "      <td>20 Sep 2017\\n 20 Sep 2017</td>\n",
       "      <td>2</td>\n",
       "      <td>Rydapt\\n Rydapt</td>\n",
       "      <td>04 Aug 2010\\n 29 Jul 2004</td>\n",
       "      <td>Rydapt</td>\n",
       "      <td>midostaurin</td>\n",
       "      <td>EU/1/17/1218\\n EU/1/17/1218</td>\n",
       "      <td>2</td>\n",
       "    </tr>\n",
       "    <tr>\n",
       "      <th>0</th>\n",
       "      <td>Treatment of invasive aspergillosis\\n Treatmen...</td>\n",
       "      <td>19 Oct 2015\\n 19 Oct 2015</td>\n",
       "      <td>2</td>\n",
       "      <td>Cresemba\\n Cresemba</td>\n",
       "      <td>04 Jul 2014\\n 04 Jun 2014</td>\n",
       "      <td>Cresemba</td>\n",
       "      <td>isavuconazonium sulfate</td>\n",
       "      <td>EU/1/15/1036\\n EU/1/15/1036</td>\n",
       "      <td>2</td>\n",
       "    </tr>\n",
       "    <tr>\n",
       "      <th>0</th>\n",
       "      <td>Treatment of papillary thyroid cancer\\n Treatm...</td>\n",
       "      <td>27 May 2014\\n 27 May 2014</td>\n",
       "      <td>2</td>\n",
       "      <td>Nexavar\\n Nexavar</td>\n",
       "      <td>13 Nov 2013\\n 13 Nov 2013</td>\n",
       "      <td>Nexavar</td>\n",
       "      <td>sorafenib tosylate</td>\n",
       "      <td>EU/1/06/342\\n EU/1/06/342</td>\n",
       "      <td>2</td>\n",
       "    </tr>\n",
       "    <tr>\n",
       "      <th>0</th>\n",
       "      <td>Treatment of diffuse large B-cell lymphoma\\n T...</td>\n",
       "      <td>27 Aug 2018\\n 27 Aug 2018</td>\n",
       "      <td>2</td>\n",
       "      <td>Kymriah\\n Kymriah</td>\n",
       "      <td>14 Oct 2016\\n 29 Apr 2014</td>\n",
       "      <td>Kymriah</td>\n",
       "      <td>autologous t cells transduced with lentiviral ...</td>\n",
       "      <td>EU/1/18/1297\\n EU/1/18/1297</td>\n",
       "      <td>2</td>\n",
       "    </tr>\n",
       "    <tr>\n",
       "      <th>0</th>\n",
       "      <td>Treatment of myelodysplastic syndromes\\n Treat...</td>\n",
       "      <td>26 Jun 2020\\n 26 Jun 2020</td>\n",
       "      <td>2</td>\n",
       "      <td>Reblozyl\\n Reblozyl</td>\n",
       "      <td>22 Aug 2014\\n 29 Jul 2014</td>\n",
       "      <td>Reblozyl</td>\n",
       "      <td>recombinant fusion protein consisting of a mod...</td>\n",
       "      <td>EU/1/20/1452\\n EU/1/20/1452</td>\n",
       "      <td>2</td>\n",
       "    </tr>\n",
       "    <tr>\n",
       "      <th>0</th>\n",
       "      <td>Treatment of Cushing's disease\\n Treatment of ...</td>\n",
       "      <td>27 Apr 2012\\n 21 Nov 2014</td>\n",
       "      <td>2</td>\n",
       "      <td>Signifor\\n Signifor</td>\n",
       "      <td>08 Oct 2009\\n 08 Oct 2009</td>\n",
       "      <td>Signifor</td>\n",
       "      <td>pasireotide</td>\n",
       "      <td>EU/1/12/753\\n EU/1/12/753</td>\n",
       "      <td>2</td>\n",
       "    </tr>\n",
       "    <tr>\n",
       "      <th>0</th>\n",
       "      <td>Treatment of follicular lymphoma\\n Treatment o...</td>\n",
       "      <td>15 Jun 2016\\n 24 Jul 2014</td>\n",
       "      <td>2</td>\n",
       "      <td>Gazyvaro\\n Gazyvaro</td>\n",
       "      <td>19 Jun 2015\\n 10 Oct 2012</td>\n",
       "      <td>Gazyvaro</td>\n",
       "      <td>obinutuzumab</td>\n",
       "      <td>EU/1/14/937\\n EU/1/14/937</td>\n",
       "      <td>2</td>\n",
       "    </tr>\n",
       "    <tr>\n",
       "      <th>0</th>\n",
       "      <td>Treatment of post-polycythaemia vera myelofibr...</td>\n",
       "      <td>09 Feb 2021\\n 09 Feb 2021\\n 09 Feb 2021</td>\n",
       "      <td>3</td>\n",
       "      <td>Inrebic\\n Inrebic\\n Inrebic</td>\n",
       "      <td>26 Nov 2010\\n 26 Nov 2010\\n 01 Oct 2010</td>\n",
       "      <td>Inrebic</td>\n",
       "      <td>n-tert-butyl-3-[(5-methyl-2-{[4-(2-pyrrolidin-...</td>\n",
       "      <td>EU/1/20/1514\\n EU/1/20/1514\\n EU/1/20/1514</td>\n",
       "      <td>3</td>\n",
       "    </tr>\n",
       "    <tr>\n",
       "      <th>0</th>\n",
       "      <td>Treatment of myasthenia gravis\\n Treatment of ...</td>\n",
       "      <td>17 Aug 2017\\n 28 Aug 2019\\n 29 Nov 2011</td>\n",
       "      <td>3</td>\n",
       "      <td>Soliris\\n Soliris\\n Soliris</td>\n",
       "      <td>29 Jul 2014\\n 05 Aug 2013\\n 24 Jul 2009</td>\n",
       "      <td>Soliris</td>\n",
       "      <td>eculizumab</td>\n",
       "      <td>EU/1/07/393\\n EU/1/07/393\\n EU/1/07/393</td>\n",
       "      <td>3</td>\n",
       "    </tr>\n",
       "    <tr>\n",
       "      <th>0</th>\n",
       "      <td>Treatment of Berardinelli-Seip syndrome\\n Trea...</td>\n",
       "      <td>01 Aug 2018\\n 01 Aug 2018\\n 01 Aug 2018\\n 01 A...</td>\n",
       "      <td>4</td>\n",
       "      <td>Myalepta\\n Myalepta\\n Myalepta\\n Myalepta</td>\n",
       "      <td>17 Jul 2012\\n 17 Jul 2012\\n 17 Jul 2012\\n 17 J...</td>\n",
       "      <td>Myalepta</td>\n",
       "      <td>metreleptin</td>\n",
       "      <td>EU/1/18/1276\\n EU/1/18/1276\\n EU/1/18/1276\\n E...</td>\n",
       "      <td>4</td>\n",
       "    </tr>\n",
       "    <tr>\n",
       "      <th>0</th>\n",
       "      <td>Treatment of citrullinaemia type 2\\n Treatment...</td>\n",
       "      <td>-\\n 01 Dec 2015\\n 01 Dec 2015\\n 01 Dec 2015\\n ...</td>\n",
       "      <td>6</td>\n",
       "      <td>-\\n Ravicti\\n Ravicti\\n Ravicti\\n Ravicti\\n Ra...</td>\n",
       "      <td>10 Jun 2010\\n 10 Jun 2010\\n 10 Jun 2010\\n 10 J...</td>\n",
       "      <td>Ravicti</td>\n",
       "      <td>glyceryl tri-(4-phenylbutyrate)</td>\n",
       "      <td>-\\n EU/1/15/1062\\n EU/1/15/1062\\n EU/1/15/1062...</td>\n",
       "      <td>7</td>\n",
       "    </tr>\n",
       "    <tr>\n",
       "      <th>0</th>\n",
       "      <td>Treatment of tuberous sclerosis\\n Treatment of...</td>\n",
       "      <td>20 Apr 2021\\n -\\n 23 Sep 2019\\n -\\n -\\n -\\n 23...</td>\n",
       "      <td>3</td>\n",
       "      <td>Epidyolex\\n -\\n Epidyolex\\n -\\n -\\n -\\n Epidyolex</td>\n",
       "      <td>17 Jan 2018\\n 16 Oct 2017\\n 20 Mar 2017\\n 29 A...</td>\n",
       "      <td>Epidyolex</td>\n",
       "      <td>cannabidiol</td>\n",
       "      <td>EU/1/19/1389\\n -\\n EU/1/19/1389\\n -\\n -\\n -\\n ...</td>\n",
       "      <td>7</td>\n",
       "    </tr>\n",
       "  </tbody>\n",
       "</table>\n",
       "</div>"
      ],
      "text/plain": [
       "                                          Indication  \\\n",
       "0  Treatment of senile systemic amyloidosis\\n Tre...   \n",
       "0  Treatment of inherited retinal dystrophies (in...   \n",
       "0  Treatment of mantle cell lymphoma\\n Treatment ...   \n",
       "0  Treatment of cutaneous T-cell lymphoma\\n Treat...   \n",
       "0  Treatment of diffuse large B cell lymphoma\\n T...   \n",
       "0  Treatment of chronic myeloid leukaemia\\n Treat...   \n",
       "0  Treatment of mastocytosis\\n Treatment of acute...   \n",
       "0  Treatment of invasive aspergillosis\\n Treatmen...   \n",
       "0  Treatment of papillary thyroid cancer\\n Treatm...   \n",
       "0  Treatment of diffuse large B-cell lymphoma\\n T...   \n",
       "0  Treatment of myelodysplastic syndromes\\n Treat...   \n",
       "0  Treatment of Cushing's disease\\n Treatment of ...   \n",
       "0  Treatment of follicular lymphoma\\n Treatment o...   \n",
       "0  Treatment of post-polycythaemia vera myelofibr...   \n",
       "0  Treatment of myasthenia gravis\\n Treatment of ...   \n",
       "0  Treatment of Berardinelli-Seip syndrome\\n Trea...   \n",
       "0  Treatment of citrullinaemia type 2\\n Treatment...   \n",
       "0  Treatment of tuberous sclerosis\\n Treatment of...   \n",
       "\n",
       "                                      Implemented on Number of MAs  \\\n",
       "0                          19 Feb 2020\\n 18 Nov 2011             2   \n",
       "0                          05 Dec 2018\\n 05 Dec 2018             2   \n",
       "0  23 Oct 2014\\n 23 Oct 2014\\n -\\n -\\n 07 Jul 201...             3   \n",
       "0            19 Dec 2017\\n 30 Oct 2012\\n 30 Oct 2012             3   \n",
       "0          27 Aug 2018\\n -\\n -\\n -\\n 27 Aug 2018\\n -             2   \n",
       "0                          03 Jul 2013\\n 03 Jul 2013             2   \n",
       "0                          20 Sep 2017\\n 20 Sep 2017             2   \n",
       "0                          19 Oct 2015\\n 19 Oct 2015             2   \n",
       "0                          27 May 2014\\n 27 May 2014             2   \n",
       "0                          27 Aug 2018\\n 27 Aug 2018             2   \n",
       "0                          26 Jun 2020\\n 26 Jun 2020             2   \n",
       "0                          27 Apr 2012\\n 21 Nov 2014             2   \n",
       "0                          15 Jun 2016\\n 24 Jul 2014             2   \n",
       "0            09 Feb 2021\\n 09 Feb 2021\\n 09 Feb 2021             3   \n",
       "0            17 Aug 2017\\n 28 Aug 2019\\n 29 Nov 2011             3   \n",
       "0  01 Aug 2018\\n 01 Aug 2018\\n 01 Aug 2018\\n 01 A...             4   \n",
       "0  -\\n 01 Dec 2015\\n 01 Dec 2015\\n 01 Dec 2015\\n ...             6   \n",
       "0  20 Apr 2021\\n -\\n 23 Sep 2019\\n -\\n -\\n -\\n 23...             3   \n",
       "\n",
       "                                         Trade names  \\\n",
       "0                                Vyndaqel\\n Vyndaqel   \n",
       "0                                Luxturna\\n Luxturna   \n",
       "0  IMBRUVICA\\n IMBRUVICA\\n -\\n -\\n IMBRUVICA\\n -\\n -   \n",
       "0                     ADCETRIS\\n ADCETRIS\\n ADCETRIS   \n",
       "0                Yescarta\\n -\\n -\\n -\\n Yescarta\\n -   \n",
       "0                                  Iclusig\\n Iclusig   \n",
       "0                                    Rydapt\\n Rydapt   \n",
       "0                                Cresemba\\n Cresemba   \n",
       "0                                  Nexavar\\n Nexavar   \n",
       "0                                  Kymriah\\n Kymriah   \n",
       "0                                Reblozyl\\n Reblozyl   \n",
       "0                                Signifor\\n Signifor   \n",
       "0                                Gazyvaro\\n Gazyvaro   \n",
       "0                        Inrebic\\n Inrebic\\n Inrebic   \n",
       "0                        Soliris\\n Soliris\\n Soliris   \n",
       "0          Myalepta\\n Myalepta\\n Myalepta\\n Myalepta   \n",
       "0  -\\n Ravicti\\n Ravicti\\n Ravicti\\n Ravicti\\n Ra...   \n",
       "0  Epidyolex\\n -\\n Epidyolex\\n -\\n -\\n -\\n Epidyolex   \n",
       "\n",
       "                                    Designation date Trade name  \\\n",
       "0                          08 Nov 2012\\n 28 Aug 2006   Vyndaqel   \n",
       "0                          28 Jul 2015\\n 02 Apr 2012   Luxturna   \n",
       "0  12 Mar 2013\\n 26 Apr 2012\\n 18 Nov 2016\\n 10 A...  IMBRUVICA   \n",
       "0            11 Jan 2012\\n 15 Jan 2009\\n 15 Jan 2009   ADCETRIS   \n",
       "0  16 Dec 2014\\n 11 Nov 2015\\n 11 Nov 2015\\n 11 N...   Yescarta   \n",
       "0                          02 Feb 2010\\n 02 Feb 2010    Iclusig   \n",
       "0                          04 Aug 2010\\n 29 Jul 2004     Rydapt   \n",
       "0                          04 Jul 2014\\n 04 Jun 2014   Cresemba   \n",
       "0                          13 Nov 2013\\n 13 Nov 2013    Nexavar   \n",
       "0                          14 Oct 2016\\n 29 Apr 2014    Kymriah   \n",
       "0                          22 Aug 2014\\n 29 Jul 2014   Reblozyl   \n",
       "0                          08 Oct 2009\\n 08 Oct 2009   Signifor   \n",
       "0                          19 Jun 2015\\n 10 Oct 2012   Gazyvaro   \n",
       "0            26 Nov 2010\\n 26 Nov 2010\\n 01 Oct 2010    Inrebic   \n",
       "0            29 Jul 2014\\n 05 Aug 2013\\n 24 Jul 2009    Soliris   \n",
       "0  17 Jul 2012\\n 17 Jul 2012\\n 17 Jul 2012\\n 17 J...   Myalepta   \n",
       "0  10 Jun 2010\\n 10 Jun 2010\\n 10 Jun 2010\\n 10 J...    Ravicti   \n",
       "0  17 Jan 2018\\n 16 Oct 2017\\n 20 Mar 2017\\n 29 A...  Epidyolex   \n",
       "\n",
       "                                             Product  \\\n",
       "0  tafamidis\\n n-methyl d-(2,3,4,5,6-pentahydroxy...   \n",
       "0  adenovirus-associated viral vector serotype 2 ...   \n",
       "0  1-[(3r)-3-[4-amino-3-(4-phenoxyphenyl)-1h-pyra...   \n",
       "0  brentuximab vedotin\\n monoclonal antibody agai...   \n",
       "0  autologous t cells transduced with retroviral ...   \n",
       "0  benzamide, 3-(2-imidazo[1,2-b]pyridazin-3-ylet...   \n",
       "0                                        midostaurin   \n",
       "0                            isavuconazonium sulfate   \n",
       "0                                 sorafenib tosylate   \n",
       "0  autologous t cells transduced with lentiviral ...   \n",
       "0  recombinant fusion protein consisting of a mod...   \n",
       "0                                        pasireotide   \n",
       "0                                       obinutuzumab   \n",
       "0  n-tert-butyl-3-[(5-methyl-2-{[4-(2-pyrrolidin-...   \n",
       "0                                         eculizumab   \n",
       "0                                        metreleptin   \n",
       "0                    glyceryl tri-(4-phenylbutyrate)   \n",
       "0                                        cannabidiol   \n",
       "\n",
       "                                           EU number Number of designations  \n",
       "0                          EU/1/11/717\\n EU/1/11/717                      2  \n",
       "0                        EU/1/18/1331\\n EU/1/18/1331                      2  \n",
       "0  EU/1/14/945\\n EU/1/14/945\\n -\\n -\\n EU/1/14/94...                      7  \n",
       "0            EU/1/12/794\\n EU/1/12/794\\n EU/1/12/794                      3  \n",
       "0        EU/1/18/1299\\n -\\n -\\n -\\n EU/1/18/1299\\n -                      6  \n",
       "0                          EU/1/13/839\\n EU/1/13/839                      2  \n",
       "0                        EU/1/17/1218\\n EU/1/17/1218                      2  \n",
       "0                        EU/1/15/1036\\n EU/1/15/1036                      2  \n",
       "0                          EU/1/06/342\\n EU/1/06/342                      2  \n",
       "0                        EU/1/18/1297\\n EU/1/18/1297                      2  \n",
       "0                        EU/1/20/1452\\n EU/1/20/1452                      2  \n",
       "0                          EU/1/12/753\\n EU/1/12/753                      2  \n",
       "0                          EU/1/14/937\\n EU/1/14/937                      2  \n",
       "0         EU/1/20/1514\\n EU/1/20/1514\\n EU/1/20/1514                      3  \n",
       "0            EU/1/07/393\\n EU/1/07/393\\n EU/1/07/393                      3  \n",
       "0  EU/1/18/1276\\n EU/1/18/1276\\n EU/1/18/1276\\n E...                      4  \n",
       "0  -\\n EU/1/15/1062\\n EU/1/15/1062\\n EU/1/15/1062...                      7  \n",
       "0  EU/1/19/1389\\n -\\n EU/1/19/1389\\n -\\n -\\n -\\n ...                      7  "
      ]
     },
     "execution_count": 80,
     "metadata": {},
     "output_type": "execute_result"
    }
   ],
   "source": [
    "mask = (marketed_ods['Number of MAs'] > 1)\n",
    "marketed_ods[mask]"
   ]
  },
  {
   "cell_type": "code",
   "execution_count": 81,
   "metadata": {},
   "outputs": [
    {
     "data": {
      "text/plain": [
       "18"
      ]
     },
     "execution_count": 81,
     "metadata": {},
     "output_type": "execute_result"
    }
   ],
   "source": [
    "mask = (marketed_ods['Number of MAs'] > 1)\n",
    "len(marketed_ods[mask])"
   ]
  },
  {
   "cell_type": "markdown",
   "metadata": {},
   "source": [
    "## How many designations per product (when merging those products with the same trade name)"
   ]
  },
  {
   "cell_type": "code",
   "execution_count": 83,
   "metadata": {},
   "outputs": [
    {
     "data": {
      "application/vnd.plotly.v1+json": {
       "config": {
        "plotlyServerURL": "https://plot.ly"
       },
       "data": [
        {
         "labels": [
          "1 ODD",
          "2 ODD",
          ">2 ODD"
         ],
         "marker": {
          "colors": [
           "#4C78A8",
           "#BAB0AC",
           "#E45756"
          ],
          "line": {
           "color": "#000000",
           "width": 1
          }
         },
         "sort": false,
         "textinfo": "label+value+percent",
         "type": "pie",
         "values": [
          85,
          23,
          13
         ]
        }
       ],
       "layout": {
        "showlegend": false,
        "template": {
         "data": {
          "bar": [
           {
            "error_x": {
             "color": "#2a3f5f"
            },
            "error_y": {
             "color": "#2a3f5f"
            },
            "marker": {
             "line": {
              "color": "#E5ECF6",
              "width": 0.5
             }
            },
            "type": "bar"
           }
          ],
          "barpolar": [
           {
            "marker": {
             "line": {
              "color": "#E5ECF6",
              "width": 0.5
             }
            },
            "type": "barpolar"
           }
          ],
          "carpet": [
           {
            "aaxis": {
             "endlinecolor": "#2a3f5f",
             "gridcolor": "white",
             "linecolor": "white",
             "minorgridcolor": "white",
             "startlinecolor": "#2a3f5f"
            },
            "baxis": {
             "endlinecolor": "#2a3f5f",
             "gridcolor": "white",
             "linecolor": "white",
             "minorgridcolor": "white",
             "startlinecolor": "#2a3f5f"
            },
            "type": "carpet"
           }
          ],
          "choropleth": [
           {
            "colorbar": {
             "outlinewidth": 0,
             "ticks": ""
            },
            "type": "choropleth"
           }
          ],
          "contour": [
           {
            "colorbar": {
             "outlinewidth": 0,
             "ticks": ""
            },
            "colorscale": [
             [
              0,
              "#0d0887"
             ],
             [
              0.1111111111111111,
              "#46039f"
             ],
             [
              0.2222222222222222,
              "#7201a8"
             ],
             [
              0.3333333333333333,
              "#9c179e"
             ],
             [
              0.4444444444444444,
              "#bd3786"
             ],
             [
              0.5555555555555556,
              "#d8576b"
             ],
             [
              0.6666666666666666,
              "#ed7953"
             ],
             [
              0.7777777777777778,
              "#fb9f3a"
             ],
             [
              0.8888888888888888,
              "#fdca26"
             ],
             [
              1,
              "#f0f921"
             ]
            ],
            "type": "contour"
           }
          ],
          "contourcarpet": [
           {
            "colorbar": {
             "outlinewidth": 0,
             "ticks": ""
            },
            "type": "contourcarpet"
           }
          ],
          "heatmap": [
           {
            "colorbar": {
             "outlinewidth": 0,
             "ticks": ""
            },
            "colorscale": [
             [
              0,
              "#0d0887"
             ],
             [
              0.1111111111111111,
              "#46039f"
             ],
             [
              0.2222222222222222,
              "#7201a8"
             ],
             [
              0.3333333333333333,
              "#9c179e"
             ],
             [
              0.4444444444444444,
              "#bd3786"
             ],
             [
              0.5555555555555556,
              "#d8576b"
             ],
             [
              0.6666666666666666,
              "#ed7953"
             ],
             [
              0.7777777777777778,
              "#fb9f3a"
             ],
             [
              0.8888888888888888,
              "#fdca26"
             ],
             [
              1,
              "#f0f921"
             ]
            ],
            "type": "heatmap"
           }
          ],
          "heatmapgl": [
           {
            "colorbar": {
             "outlinewidth": 0,
             "ticks": ""
            },
            "colorscale": [
             [
              0,
              "#0d0887"
             ],
             [
              0.1111111111111111,
              "#46039f"
             ],
             [
              0.2222222222222222,
              "#7201a8"
             ],
             [
              0.3333333333333333,
              "#9c179e"
             ],
             [
              0.4444444444444444,
              "#bd3786"
             ],
             [
              0.5555555555555556,
              "#d8576b"
             ],
             [
              0.6666666666666666,
              "#ed7953"
             ],
             [
              0.7777777777777778,
              "#fb9f3a"
             ],
             [
              0.8888888888888888,
              "#fdca26"
             ],
             [
              1,
              "#f0f921"
             ]
            ],
            "type": "heatmapgl"
           }
          ],
          "histogram": [
           {
            "marker": {
             "colorbar": {
              "outlinewidth": 0,
              "ticks": ""
             }
            },
            "type": "histogram"
           }
          ],
          "histogram2d": [
           {
            "colorbar": {
             "outlinewidth": 0,
             "ticks": ""
            },
            "colorscale": [
             [
              0,
              "#0d0887"
             ],
             [
              0.1111111111111111,
              "#46039f"
             ],
             [
              0.2222222222222222,
              "#7201a8"
             ],
             [
              0.3333333333333333,
              "#9c179e"
             ],
             [
              0.4444444444444444,
              "#bd3786"
             ],
             [
              0.5555555555555556,
              "#d8576b"
             ],
             [
              0.6666666666666666,
              "#ed7953"
             ],
             [
              0.7777777777777778,
              "#fb9f3a"
             ],
             [
              0.8888888888888888,
              "#fdca26"
             ],
             [
              1,
              "#f0f921"
             ]
            ],
            "type": "histogram2d"
           }
          ],
          "histogram2dcontour": [
           {
            "colorbar": {
             "outlinewidth": 0,
             "ticks": ""
            },
            "colorscale": [
             [
              0,
              "#0d0887"
             ],
             [
              0.1111111111111111,
              "#46039f"
             ],
             [
              0.2222222222222222,
              "#7201a8"
             ],
             [
              0.3333333333333333,
              "#9c179e"
             ],
             [
              0.4444444444444444,
              "#bd3786"
             ],
             [
              0.5555555555555556,
              "#d8576b"
             ],
             [
              0.6666666666666666,
              "#ed7953"
             ],
             [
              0.7777777777777778,
              "#fb9f3a"
             ],
             [
              0.8888888888888888,
              "#fdca26"
             ],
             [
              1,
              "#f0f921"
             ]
            ],
            "type": "histogram2dcontour"
           }
          ],
          "mesh3d": [
           {
            "colorbar": {
             "outlinewidth": 0,
             "ticks": ""
            },
            "type": "mesh3d"
           }
          ],
          "parcoords": [
           {
            "line": {
             "colorbar": {
              "outlinewidth": 0,
              "ticks": ""
             }
            },
            "type": "parcoords"
           }
          ],
          "pie": [
           {
            "automargin": true,
            "type": "pie"
           }
          ],
          "scatter": [
           {
            "marker": {
             "colorbar": {
              "outlinewidth": 0,
              "ticks": ""
             }
            },
            "type": "scatter"
           }
          ],
          "scatter3d": [
           {
            "line": {
             "colorbar": {
              "outlinewidth": 0,
              "ticks": ""
             }
            },
            "marker": {
             "colorbar": {
              "outlinewidth": 0,
              "ticks": ""
             }
            },
            "type": "scatter3d"
           }
          ],
          "scattercarpet": [
           {
            "marker": {
             "colorbar": {
              "outlinewidth": 0,
              "ticks": ""
             }
            },
            "type": "scattercarpet"
           }
          ],
          "scattergeo": [
           {
            "marker": {
             "colorbar": {
              "outlinewidth": 0,
              "ticks": ""
             }
            },
            "type": "scattergeo"
           }
          ],
          "scattergl": [
           {
            "marker": {
             "colorbar": {
              "outlinewidth": 0,
              "ticks": ""
             }
            },
            "type": "scattergl"
           }
          ],
          "scattermapbox": [
           {
            "marker": {
             "colorbar": {
              "outlinewidth": 0,
              "ticks": ""
             }
            },
            "type": "scattermapbox"
           }
          ],
          "scatterpolar": [
           {
            "marker": {
             "colorbar": {
              "outlinewidth": 0,
              "ticks": ""
             }
            },
            "type": "scatterpolar"
           }
          ],
          "scatterpolargl": [
           {
            "marker": {
             "colorbar": {
              "outlinewidth": 0,
              "ticks": ""
             }
            },
            "type": "scatterpolargl"
           }
          ],
          "scatterternary": [
           {
            "marker": {
             "colorbar": {
              "outlinewidth": 0,
              "ticks": ""
             }
            },
            "type": "scatterternary"
           }
          ],
          "surface": [
           {
            "colorbar": {
             "outlinewidth": 0,
             "ticks": ""
            },
            "colorscale": [
             [
              0,
              "#0d0887"
             ],
             [
              0.1111111111111111,
              "#46039f"
             ],
             [
              0.2222222222222222,
              "#7201a8"
             ],
             [
              0.3333333333333333,
              "#9c179e"
             ],
             [
              0.4444444444444444,
              "#bd3786"
             ],
             [
              0.5555555555555556,
              "#d8576b"
             ],
             [
              0.6666666666666666,
              "#ed7953"
             ],
             [
              0.7777777777777778,
              "#fb9f3a"
             ],
             [
              0.8888888888888888,
              "#fdca26"
             ],
             [
              1,
              "#f0f921"
             ]
            ],
            "type": "surface"
           }
          ],
          "table": [
           {
            "cells": {
             "fill": {
              "color": "#EBF0F8"
             },
             "line": {
              "color": "white"
             }
            },
            "header": {
             "fill": {
              "color": "#C8D4E3"
             },
             "line": {
              "color": "white"
             }
            },
            "type": "table"
           }
          ]
         },
         "layout": {
          "annotationdefaults": {
           "arrowcolor": "#2a3f5f",
           "arrowhead": 0,
           "arrowwidth": 1
          },
          "autotypenumbers": "strict",
          "coloraxis": {
           "colorbar": {
            "outlinewidth": 0,
            "ticks": ""
           }
          },
          "colorscale": {
           "diverging": [
            [
             0,
             "#8e0152"
            ],
            [
             0.1,
             "#c51b7d"
            ],
            [
             0.2,
             "#de77ae"
            ],
            [
             0.3,
             "#f1b6da"
            ],
            [
             0.4,
             "#fde0ef"
            ],
            [
             0.5,
             "#f7f7f7"
            ],
            [
             0.6,
             "#e6f5d0"
            ],
            [
             0.7,
             "#b8e186"
            ],
            [
             0.8,
             "#7fbc41"
            ],
            [
             0.9,
             "#4d9221"
            ],
            [
             1,
             "#276419"
            ]
           ],
           "sequential": [
            [
             0,
             "#0d0887"
            ],
            [
             0.1111111111111111,
             "#46039f"
            ],
            [
             0.2222222222222222,
             "#7201a8"
            ],
            [
             0.3333333333333333,
             "#9c179e"
            ],
            [
             0.4444444444444444,
             "#bd3786"
            ],
            [
             0.5555555555555556,
             "#d8576b"
            ],
            [
             0.6666666666666666,
             "#ed7953"
            ],
            [
             0.7777777777777778,
             "#fb9f3a"
            ],
            [
             0.8888888888888888,
             "#fdca26"
            ],
            [
             1,
             "#f0f921"
            ]
           ],
           "sequentialminus": [
            [
             0,
             "#0d0887"
            ],
            [
             0.1111111111111111,
             "#46039f"
            ],
            [
             0.2222222222222222,
             "#7201a8"
            ],
            [
             0.3333333333333333,
             "#9c179e"
            ],
            [
             0.4444444444444444,
             "#bd3786"
            ],
            [
             0.5555555555555556,
             "#d8576b"
            ],
            [
             0.6666666666666666,
             "#ed7953"
            ],
            [
             0.7777777777777778,
             "#fb9f3a"
            ],
            [
             0.8888888888888888,
             "#fdca26"
            ],
            [
             1,
             "#f0f921"
            ]
           ]
          },
          "colorway": [
           "#636efa",
           "#EF553B",
           "#00cc96",
           "#ab63fa",
           "#FFA15A",
           "#19d3f3",
           "#FF6692",
           "#B6E880",
           "#FF97FF",
           "#FECB52"
          ],
          "font": {
           "color": "#2a3f5f"
          },
          "geo": {
           "bgcolor": "white",
           "lakecolor": "white",
           "landcolor": "#E5ECF6",
           "showlakes": true,
           "showland": true,
           "subunitcolor": "white"
          },
          "hoverlabel": {
           "align": "left"
          },
          "hovermode": "closest",
          "mapbox": {
           "style": "light"
          },
          "paper_bgcolor": "white",
          "plot_bgcolor": "#E5ECF6",
          "polar": {
           "angularaxis": {
            "gridcolor": "white",
            "linecolor": "white",
            "ticks": ""
           },
           "bgcolor": "#E5ECF6",
           "radialaxis": {
            "gridcolor": "white",
            "linecolor": "white",
            "ticks": ""
           }
          },
          "scene": {
           "xaxis": {
            "backgroundcolor": "#E5ECF6",
            "gridcolor": "white",
            "gridwidth": 2,
            "linecolor": "white",
            "showbackground": true,
            "ticks": "",
            "zerolinecolor": "white"
           },
           "yaxis": {
            "backgroundcolor": "#E5ECF6",
            "gridcolor": "white",
            "gridwidth": 2,
            "linecolor": "white",
            "showbackground": true,
            "ticks": "",
            "zerolinecolor": "white"
           },
           "zaxis": {
            "backgroundcolor": "#E5ECF6",
            "gridcolor": "white",
            "gridwidth": 2,
            "linecolor": "white",
            "showbackground": true,
            "ticks": "",
            "zerolinecolor": "white"
           }
          },
          "shapedefaults": {
           "line": {
            "color": "#2a3f5f"
           }
          },
          "ternary": {
           "aaxis": {
            "gridcolor": "white",
            "linecolor": "white",
            "ticks": ""
           },
           "baxis": {
            "gridcolor": "white",
            "linecolor": "white",
            "ticks": ""
           },
           "bgcolor": "#E5ECF6",
           "caxis": {
            "gridcolor": "white",
            "linecolor": "white",
            "ticks": ""
           }
          },
          "title": {
           "x": 0.05
          },
          "xaxis": {
           "automargin": true,
           "gridcolor": "white",
           "linecolor": "white",
           "ticks": "",
           "title": {
            "standoff": 15
           },
           "zerolinecolor": "white",
           "zerolinewidth": 2
          },
          "yaxis": {
           "automargin": true,
           "gridcolor": "white",
           "linecolor": "white",
           "ticks": "",
           "title": {
            "standoff": 15
           },
           "zerolinecolor": "white",
           "zerolinewidth": 2
          }
         }
        }
       }
      }
     },
     "metadata": {},
     "output_type": "display_data"
    }
   ],
   "source": [
    "# Sort by number of applications\n",
    "marketed_ods.sort_values(by='Number of designations', inplace=True)\n",
    "\n",
    "# Get number of applications\n",
    "n_applications = []\n",
    "n_substances = []\n",
    "for n_application in marketed_ods['Number of designations'].unique():\n",
    "    # Get number of substances\n",
    "    mask = marketed_ods['Number of designations'] == n_application\n",
    "    number = len(marketed_ods[mask])\n",
    "\n",
    "    # Append to containers\n",
    "    n_applications.append(n_application)\n",
    "    n_substances.append(number)\n",
    "\n",
    "# Accumulate >= 5 applications\n",
    "n_applications = np.array(n_applications)\n",
    "n_substances = np.array(n_substances)\n",
    "mask = n_applications >= 3\n",
    "n_substances_three_or_more = np.sum(n_substances[mask])\n",
    "n_applications = n_applications[~mask]\n",
    "n_substances = list(n_substances[~mask])\n",
    "\n",
    "# Create figure\n",
    "fig = go.Figure()\n",
    "colours = plotly.colors.qualitative.T10\n",
    "n_colours = len(n_substances) + 1\n",
    "\n",
    "fig.add_trace(go.Pie(\n",
    "    labels=[\n",
    "        '%s ODD' % str(n) for n in n_applications] + ['>2 ODD'],\n",
    "    values=n_substances + [n_substances_three_or_more],\n",
    "    textinfo='label+value+percent',\n",
    "    sort=False,\n",
    "    marker=dict(\n",
    "        colors=[colours[0], colours[-1], colours[2]], \n",
    "        line=dict(color='#000000', width=1))))\n",
    "fig.update_layout(showlegend=False)\n",
    "fig.show()"
   ]
  },
  {
   "cell_type": "code",
   "execution_count": 85,
   "metadata": {},
   "outputs": [
    {
     "data": {
      "application/vnd.plotly.v1+json": {
       "config": {
        "plotlyServerURL": "https://plot.ly"
       },
       "data": [
        {
         "labels": [
          "1 ODD",
          "2 ODD",
          ">2 ODD"
         ],
         "marker": {
          "colors": [
           "#4C78A8",
           "#BAB0AC",
           "#E45756"
          ],
          "line": {
           "color": "#000000",
           "width": 1
          }
         },
         "sort": false,
         "textinfo": "label+value+percent",
         "type": "pie",
         "values": [
          1127,
          144,
          41
         ]
        }
       ],
       "layout": {
        "showlegend": false,
        "template": {
         "data": {
          "bar": [
           {
            "error_x": {
             "color": "#2a3f5f"
            },
            "error_y": {
             "color": "#2a3f5f"
            },
            "marker": {
             "line": {
              "color": "#E5ECF6",
              "width": 0.5
             }
            },
            "type": "bar"
           }
          ],
          "barpolar": [
           {
            "marker": {
             "line": {
              "color": "#E5ECF6",
              "width": 0.5
             }
            },
            "type": "barpolar"
           }
          ],
          "carpet": [
           {
            "aaxis": {
             "endlinecolor": "#2a3f5f",
             "gridcolor": "white",
             "linecolor": "white",
             "minorgridcolor": "white",
             "startlinecolor": "#2a3f5f"
            },
            "baxis": {
             "endlinecolor": "#2a3f5f",
             "gridcolor": "white",
             "linecolor": "white",
             "minorgridcolor": "white",
             "startlinecolor": "#2a3f5f"
            },
            "type": "carpet"
           }
          ],
          "choropleth": [
           {
            "colorbar": {
             "outlinewidth": 0,
             "ticks": ""
            },
            "type": "choropleth"
           }
          ],
          "contour": [
           {
            "colorbar": {
             "outlinewidth": 0,
             "ticks": ""
            },
            "colorscale": [
             [
              0,
              "#0d0887"
             ],
             [
              0.1111111111111111,
              "#46039f"
             ],
             [
              0.2222222222222222,
              "#7201a8"
             ],
             [
              0.3333333333333333,
              "#9c179e"
             ],
             [
              0.4444444444444444,
              "#bd3786"
             ],
             [
              0.5555555555555556,
              "#d8576b"
             ],
             [
              0.6666666666666666,
              "#ed7953"
             ],
             [
              0.7777777777777778,
              "#fb9f3a"
             ],
             [
              0.8888888888888888,
              "#fdca26"
             ],
             [
              1,
              "#f0f921"
             ]
            ],
            "type": "contour"
           }
          ],
          "contourcarpet": [
           {
            "colorbar": {
             "outlinewidth": 0,
             "ticks": ""
            },
            "type": "contourcarpet"
           }
          ],
          "heatmap": [
           {
            "colorbar": {
             "outlinewidth": 0,
             "ticks": ""
            },
            "colorscale": [
             [
              0,
              "#0d0887"
             ],
             [
              0.1111111111111111,
              "#46039f"
             ],
             [
              0.2222222222222222,
              "#7201a8"
             ],
             [
              0.3333333333333333,
              "#9c179e"
             ],
             [
              0.4444444444444444,
              "#bd3786"
             ],
             [
              0.5555555555555556,
              "#d8576b"
             ],
             [
              0.6666666666666666,
              "#ed7953"
             ],
             [
              0.7777777777777778,
              "#fb9f3a"
             ],
             [
              0.8888888888888888,
              "#fdca26"
             ],
             [
              1,
              "#f0f921"
             ]
            ],
            "type": "heatmap"
           }
          ],
          "heatmapgl": [
           {
            "colorbar": {
             "outlinewidth": 0,
             "ticks": ""
            },
            "colorscale": [
             [
              0,
              "#0d0887"
             ],
             [
              0.1111111111111111,
              "#46039f"
             ],
             [
              0.2222222222222222,
              "#7201a8"
             ],
             [
              0.3333333333333333,
              "#9c179e"
             ],
             [
              0.4444444444444444,
              "#bd3786"
             ],
             [
              0.5555555555555556,
              "#d8576b"
             ],
             [
              0.6666666666666666,
              "#ed7953"
             ],
             [
              0.7777777777777778,
              "#fb9f3a"
             ],
             [
              0.8888888888888888,
              "#fdca26"
             ],
             [
              1,
              "#f0f921"
             ]
            ],
            "type": "heatmapgl"
           }
          ],
          "histogram": [
           {
            "marker": {
             "colorbar": {
              "outlinewidth": 0,
              "ticks": ""
             }
            },
            "type": "histogram"
           }
          ],
          "histogram2d": [
           {
            "colorbar": {
             "outlinewidth": 0,
             "ticks": ""
            },
            "colorscale": [
             [
              0,
              "#0d0887"
             ],
             [
              0.1111111111111111,
              "#46039f"
             ],
             [
              0.2222222222222222,
              "#7201a8"
             ],
             [
              0.3333333333333333,
              "#9c179e"
             ],
             [
              0.4444444444444444,
              "#bd3786"
             ],
             [
              0.5555555555555556,
              "#d8576b"
             ],
             [
              0.6666666666666666,
              "#ed7953"
             ],
             [
              0.7777777777777778,
              "#fb9f3a"
             ],
             [
              0.8888888888888888,
              "#fdca26"
             ],
             [
              1,
              "#f0f921"
             ]
            ],
            "type": "histogram2d"
           }
          ],
          "histogram2dcontour": [
           {
            "colorbar": {
             "outlinewidth": 0,
             "ticks": ""
            },
            "colorscale": [
             [
              0,
              "#0d0887"
             ],
             [
              0.1111111111111111,
              "#46039f"
             ],
             [
              0.2222222222222222,
              "#7201a8"
             ],
             [
              0.3333333333333333,
              "#9c179e"
             ],
             [
              0.4444444444444444,
              "#bd3786"
             ],
             [
              0.5555555555555556,
              "#d8576b"
             ],
             [
              0.6666666666666666,
              "#ed7953"
             ],
             [
              0.7777777777777778,
              "#fb9f3a"
             ],
             [
              0.8888888888888888,
              "#fdca26"
             ],
             [
              1,
              "#f0f921"
             ]
            ],
            "type": "histogram2dcontour"
           }
          ],
          "mesh3d": [
           {
            "colorbar": {
             "outlinewidth": 0,
             "ticks": ""
            },
            "type": "mesh3d"
           }
          ],
          "parcoords": [
           {
            "line": {
             "colorbar": {
              "outlinewidth": 0,
              "ticks": ""
             }
            },
            "type": "parcoords"
           }
          ],
          "pie": [
           {
            "automargin": true,
            "type": "pie"
           }
          ],
          "scatter": [
           {
            "marker": {
             "colorbar": {
              "outlinewidth": 0,
              "ticks": ""
             }
            },
            "type": "scatter"
           }
          ],
          "scatter3d": [
           {
            "line": {
             "colorbar": {
              "outlinewidth": 0,
              "ticks": ""
             }
            },
            "marker": {
             "colorbar": {
              "outlinewidth": 0,
              "ticks": ""
             }
            },
            "type": "scatter3d"
           }
          ],
          "scattercarpet": [
           {
            "marker": {
             "colorbar": {
              "outlinewidth": 0,
              "ticks": ""
             }
            },
            "type": "scattercarpet"
           }
          ],
          "scattergeo": [
           {
            "marker": {
             "colorbar": {
              "outlinewidth": 0,
              "ticks": ""
             }
            },
            "type": "scattergeo"
           }
          ],
          "scattergl": [
           {
            "marker": {
             "colorbar": {
              "outlinewidth": 0,
              "ticks": ""
             }
            },
            "type": "scattergl"
           }
          ],
          "scattermapbox": [
           {
            "marker": {
             "colorbar": {
              "outlinewidth": 0,
              "ticks": ""
             }
            },
            "type": "scattermapbox"
           }
          ],
          "scatterpolar": [
           {
            "marker": {
             "colorbar": {
              "outlinewidth": 0,
              "ticks": ""
             }
            },
            "type": "scatterpolar"
           }
          ],
          "scatterpolargl": [
           {
            "marker": {
             "colorbar": {
              "outlinewidth": 0,
              "ticks": ""
             }
            },
            "type": "scatterpolargl"
           }
          ],
          "scatterternary": [
           {
            "marker": {
             "colorbar": {
              "outlinewidth": 0,
              "ticks": ""
             }
            },
            "type": "scatterternary"
           }
          ],
          "surface": [
           {
            "colorbar": {
             "outlinewidth": 0,
             "ticks": ""
            },
            "colorscale": [
             [
              0,
              "#0d0887"
             ],
             [
              0.1111111111111111,
              "#46039f"
             ],
             [
              0.2222222222222222,
              "#7201a8"
             ],
             [
              0.3333333333333333,
              "#9c179e"
             ],
             [
              0.4444444444444444,
              "#bd3786"
             ],
             [
              0.5555555555555556,
              "#d8576b"
             ],
             [
              0.6666666666666666,
              "#ed7953"
             ],
             [
              0.7777777777777778,
              "#fb9f3a"
             ],
             [
              0.8888888888888888,
              "#fdca26"
             ],
             [
              1,
              "#f0f921"
             ]
            ],
            "type": "surface"
           }
          ],
          "table": [
           {
            "cells": {
             "fill": {
              "color": "#EBF0F8"
             },
             "line": {
              "color": "white"
             }
            },
            "header": {
             "fill": {
              "color": "#C8D4E3"
             },
             "line": {
              "color": "white"
             }
            },
            "type": "table"
           }
          ]
         },
         "layout": {
          "annotationdefaults": {
           "arrowcolor": "#2a3f5f",
           "arrowhead": 0,
           "arrowwidth": 1
          },
          "autotypenumbers": "strict",
          "coloraxis": {
           "colorbar": {
            "outlinewidth": 0,
            "ticks": ""
           }
          },
          "colorscale": {
           "diverging": [
            [
             0,
             "#8e0152"
            ],
            [
             0.1,
             "#c51b7d"
            ],
            [
             0.2,
             "#de77ae"
            ],
            [
             0.3,
             "#f1b6da"
            ],
            [
             0.4,
             "#fde0ef"
            ],
            [
             0.5,
             "#f7f7f7"
            ],
            [
             0.6,
             "#e6f5d0"
            ],
            [
             0.7,
             "#b8e186"
            ],
            [
             0.8,
             "#7fbc41"
            ],
            [
             0.9,
             "#4d9221"
            ],
            [
             1,
             "#276419"
            ]
           ],
           "sequential": [
            [
             0,
             "#0d0887"
            ],
            [
             0.1111111111111111,
             "#46039f"
            ],
            [
             0.2222222222222222,
             "#7201a8"
            ],
            [
             0.3333333333333333,
             "#9c179e"
            ],
            [
             0.4444444444444444,
             "#bd3786"
            ],
            [
             0.5555555555555556,
             "#d8576b"
            ],
            [
             0.6666666666666666,
             "#ed7953"
            ],
            [
             0.7777777777777778,
             "#fb9f3a"
            ],
            [
             0.8888888888888888,
             "#fdca26"
            ],
            [
             1,
             "#f0f921"
            ]
           ],
           "sequentialminus": [
            [
             0,
             "#0d0887"
            ],
            [
             0.1111111111111111,
             "#46039f"
            ],
            [
             0.2222222222222222,
             "#7201a8"
            ],
            [
             0.3333333333333333,
             "#9c179e"
            ],
            [
             0.4444444444444444,
             "#bd3786"
            ],
            [
             0.5555555555555556,
             "#d8576b"
            ],
            [
             0.6666666666666666,
             "#ed7953"
            ],
            [
             0.7777777777777778,
             "#fb9f3a"
            ],
            [
             0.8888888888888888,
             "#fdca26"
            ],
            [
             1,
             "#f0f921"
            ]
           ]
          },
          "colorway": [
           "#636efa",
           "#EF553B",
           "#00cc96",
           "#ab63fa",
           "#FFA15A",
           "#19d3f3",
           "#FF6692",
           "#B6E880",
           "#FF97FF",
           "#FECB52"
          ],
          "font": {
           "color": "#2a3f5f"
          },
          "geo": {
           "bgcolor": "white",
           "lakecolor": "white",
           "landcolor": "#E5ECF6",
           "showlakes": true,
           "showland": true,
           "subunitcolor": "white"
          },
          "hoverlabel": {
           "align": "left"
          },
          "hovermode": "closest",
          "mapbox": {
           "style": "light"
          },
          "paper_bgcolor": "white",
          "plot_bgcolor": "#E5ECF6",
          "polar": {
           "angularaxis": {
            "gridcolor": "white",
            "linecolor": "white",
            "ticks": ""
           },
           "bgcolor": "#E5ECF6",
           "radialaxis": {
            "gridcolor": "white",
            "linecolor": "white",
            "ticks": ""
           }
          },
          "scene": {
           "xaxis": {
            "backgroundcolor": "#E5ECF6",
            "gridcolor": "white",
            "gridwidth": 2,
            "linecolor": "white",
            "showbackground": true,
            "ticks": "",
            "zerolinecolor": "white"
           },
           "yaxis": {
            "backgroundcolor": "#E5ECF6",
            "gridcolor": "white",
            "gridwidth": 2,
            "linecolor": "white",
            "showbackground": true,
            "ticks": "",
            "zerolinecolor": "white"
           },
           "zaxis": {
            "backgroundcolor": "#E5ECF6",
            "gridcolor": "white",
            "gridwidth": 2,
            "linecolor": "white",
            "showbackground": true,
            "ticks": "",
            "zerolinecolor": "white"
           }
          },
          "shapedefaults": {
           "line": {
            "color": "#2a3f5f"
           }
          },
          "ternary": {
           "aaxis": {
            "gridcolor": "white",
            "linecolor": "white",
            "ticks": ""
           },
           "baxis": {
            "gridcolor": "white",
            "linecolor": "white",
            "ticks": ""
           },
           "bgcolor": "#E5ECF6",
           "caxis": {
            "gridcolor": "white",
            "linecolor": "white",
            "ticks": ""
           }
          },
          "title": {
           "x": 0.05
          },
          "xaxis": {
           "automargin": true,
           "gridcolor": "white",
           "linecolor": "white",
           "ticks": "",
           "title": {
            "standoff": 15
           },
           "zerolinecolor": "white",
           "zerolinewidth": 2
          },
          "yaxis": {
           "automargin": true,
           "gridcolor": "white",
           "linecolor": "white",
           "ticks": "",
           "title": {
            "standoff": 15
           },
           "zerolinecolor": "white",
           "zerolinewidth": 2
          }
         }
        }
       }
      }
     },
     "metadata": {},
     "output_type": "display_data"
    }
   ],
   "source": [
    "# Filter marketed drugs because those are already above\n",
    "mask = substance_applications['Number of MAs'] == 0\n",
    "temp = substance_applications[mask]\n",
    "\n",
    "# Get number of applications\n",
    "n_applications = []\n",
    "n_substances = []\n",
    "for n_application in temp['Number of designations'].unique():\n",
    "    # Get number of substances\n",
    "    mask = temp['Number of designations'] == n_application\n",
    "    number = len(temp[mask])\n",
    "\n",
    "    # Append to containers\n",
    "    n_applications.append(n_application)\n",
    "    n_substances.append(number)\n",
    "\n",
    "# Accumulate >= 5 applications\n",
    "n_applications = np.array(n_applications)\n",
    "n_substances = np.array(n_substances)\n",
    "mask = n_applications >= 3\n",
    "n_substances_three_or_more = np.sum(n_substances[mask])\n",
    "n_applications = n_applications[~mask]\n",
    "n_substances = list(n_substances[~mask])\n",
    "\n",
    "# Create figure\n",
    "fig = go.Figure()\n",
    "colours = plotly.colors.qualitative.T10\n",
    "n_colours = len(n_substances) + 1\n",
    "\n",
    "fig.add_trace(go.Pie(\n",
    "    labels=[\n",
    "        '%s ODD' % str(n) for n in n_applications] + ['>2 ODD'],\n",
    "    values=n_substances + [n_substances_three_or_more],\n",
    "    textinfo='label+value+percent',\n",
    "    sort=False,\n",
    "    marker=dict(\n",
    "        colors=[colours[0], colours[-1], colours[2]], \n",
    "        line=dict(color='#000000', width=1))))\n",
    "fig.update_layout(showlegend=False)\n",
    "fig.show()"
   ]
  },
  {
   "cell_type": "code",
   "execution_count": 86,
   "metadata": {},
   "outputs": [
    {
     "data": {
      "application/vnd.plotly.v1+json": {
       "config": {
        "plotlyServerURL": "https://plot.ly"
       },
       "data": [
        {
         "labels": [
          "1 ODD",
          "2 ODD",
          ">2 ODD"
         ],
         "marker": {
          "colors": [
           "#4C78A8",
           "#BAB0AC",
           "#E45756"
          ],
          "line": {
           "color": "#000000",
           "width": 1
          }
         },
         "sort": false,
         "textinfo": "label+value+percent",
         "type": "pie",
         "values": [
          1212,
          167,
          54
         ]
        }
       ],
       "layout": {
        "showlegend": false,
        "template": {
         "data": {
          "bar": [
           {
            "error_x": {
             "color": "#2a3f5f"
            },
            "error_y": {
             "color": "#2a3f5f"
            },
            "marker": {
             "line": {
              "color": "#E5ECF6",
              "width": 0.5
             }
            },
            "type": "bar"
           }
          ],
          "barpolar": [
           {
            "marker": {
             "line": {
              "color": "#E5ECF6",
              "width": 0.5
             }
            },
            "type": "barpolar"
           }
          ],
          "carpet": [
           {
            "aaxis": {
             "endlinecolor": "#2a3f5f",
             "gridcolor": "white",
             "linecolor": "white",
             "minorgridcolor": "white",
             "startlinecolor": "#2a3f5f"
            },
            "baxis": {
             "endlinecolor": "#2a3f5f",
             "gridcolor": "white",
             "linecolor": "white",
             "minorgridcolor": "white",
             "startlinecolor": "#2a3f5f"
            },
            "type": "carpet"
           }
          ],
          "choropleth": [
           {
            "colorbar": {
             "outlinewidth": 0,
             "ticks": ""
            },
            "type": "choropleth"
           }
          ],
          "contour": [
           {
            "colorbar": {
             "outlinewidth": 0,
             "ticks": ""
            },
            "colorscale": [
             [
              0,
              "#0d0887"
             ],
             [
              0.1111111111111111,
              "#46039f"
             ],
             [
              0.2222222222222222,
              "#7201a8"
             ],
             [
              0.3333333333333333,
              "#9c179e"
             ],
             [
              0.4444444444444444,
              "#bd3786"
             ],
             [
              0.5555555555555556,
              "#d8576b"
             ],
             [
              0.6666666666666666,
              "#ed7953"
             ],
             [
              0.7777777777777778,
              "#fb9f3a"
             ],
             [
              0.8888888888888888,
              "#fdca26"
             ],
             [
              1,
              "#f0f921"
             ]
            ],
            "type": "contour"
           }
          ],
          "contourcarpet": [
           {
            "colorbar": {
             "outlinewidth": 0,
             "ticks": ""
            },
            "type": "contourcarpet"
           }
          ],
          "heatmap": [
           {
            "colorbar": {
             "outlinewidth": 0,
             "ticks": ""
            },
            "colorscale": [
             [
              0,
              "#0d0887"
             ],
             [
              0.1111111111111111,
              "#46039f"
             ],
             [
              0.2222222222222222,
              "#7201a8"
             ],
             [
              0.3333333333333333,
              "#9c179e"
             ],
             [
              0.4444444444444444,
              "#bd3786"
             ],
             [
              0.5555555555555556,
              "#d8576b"
             ],
             [
              0.6666666666666666,
              "#ed7953"
             ],
             [
              0.7777777777777778,
              "#fb9f3a"
             ],
             [
              0.8888888888888888,
              "#fdca26"
             ],
             [
              1,
              "#f0f921"
             ]
            ],
            "type": "heatmap"
           }
          ],
          "heatmapgl": [
           {
            "colorbar": {
             "outlinewidth": 0,
             "ticks": ""
            },
            "colorscale": [
             [
              0,
              "#0d0887"
             ],
             [
              0.1111111111111111,
              "#46039f"
             ],
             [
              0.2222222222222222,
              "#7201a8"
             ],
             [
              0.3333333333333333,
              "#9c179e"
             ],
             [
              0.4444444444444444,
              "#bd3786"
             ],
             [
              0.5555555555555556,
              "#d8576b"
             ],
             [
              0.6666666666666666,
              "#ed7953"
             ],
             [
              0.7777777777777778,
              "#fb9f3a"
             ],
             [
              0.8888888888888888,
              "#fdca26"
             ],
             [
              1,
              "#f0f921"
             ]
            ],
            "type": "heatmapgl"
           }
          ],
          "histogram": [
           {
            "marker": {
             "colorbar": {
              "outlinewidth": 0,
              "ticks": ""
             }
            },
            "type": "histogram"
           }
          ],
          "histogram2d": [
           {
            "colorbar": {
             "outlinewidth": 0,
             "ticks": ""
            },
            "colorscale": [
             [
              0,
              "#0d0887"
             ],
             [
              0.1111111111111111,
              "#46039f"
             ],
             [
              0.2222222222222222,
              "#7201a8"
             ],
             [
              0.3333333333333333,
              "#9c179e"
             ],
             [
              0.4444444444444444,
              "#bd3786"
             ],
             [
              0.5555555555555556,
              "#d8576b"
             ],
             [
              0.6666666666666666,
              "#ed7953"
             ],
             [
              0.7777777777777778,
              "#fb9f3a"
             ],
             [
              0.8888888888888888,
              "#fdca26"
             ],
             [
              1,
              "#f0f921"
             ]
            ],
            "type": "histogram2d"
           }
          ],
          "histogram2dcontour": [
           {
            "colorbar": {
             "outlinewidth": 0,
             "ticks": ""
            },
            "colorscale": [
             [
              0,
              "#0d0887"
             ],
             [
              0.1111111111111111,
              "#46039f"
             ],
             [
              0.2222222222222222,
              "#7201a8"
             ],
             [
              0.3333333333333333,
              "#9c179e"
             ],
             [
              0.4444444444444444,
              "#bd3786"
             ],
             [
              0.5555555555555556,
              "#d8576b"
             ],
             [
              0.6666666666666666,
              "#ed7953"
             ],
             [
              0.7777777777777778,
              "#fb9f3a"
             ],
             [
              0.8888888888888888,
              "#fdca26"
             ],
             [
              1,
              "#f0f921"
             ]
            ],
            "type": "histogram2dcontour"
           }
          ],
          "mesh3d": [
           {
            "colorbar": {
             "outlinewidth": 0,
             "ticks": ""
            },
            "type": "mesh3d"
           }
          ],
          "parcoords": [
           {
            "line": {
             "colorbar": {
              "outlinewidth": 0,
              "ticks": ""
             }
            },
            "type": "parcoords"
           }
          ],
          "pie": [
           {
            "automargin": true,
            "type": "pie"
           }
          ],
          "scatter": [
           {
            "marker": {
             "colorbar": {
              "outlinewidth": 0,
              "ticks": ""
             }
            },
            "type": "scatter"
           }
          ],
          "scatter3d": [
           {
            "line": {
             "colorbar": {
              "outlinewidth": 0,
              "ticks": ""
             }
            },
            "marker": {
             "colorbar": {
              "outlinewidth": 0,
              "ticks": ""
             }
            },
            "type": "scatter3d"
           }
          ],
          "scattercarpet": [
           {
            "marker": {
             "colorbar": {
              "outlinewidth": 0,
              "ticks": ""
             }
            },
            "type": "scattercarpet"
           }
          ],
          "scattergeo": [
           {
            "marker": {
             "colorbar": {
              "outlinewidth": 0,
              "ticks": ""
             }
            },
            "type": "scattergeo"
           }
          ],
          "scattergl": [
           {
            "marker": {
             "colorbar": {
              "outlinewidth": 0,
              "ticks": ""
             }
            },
            "type": "scattergl"
           }
          ],
          "scattermapbox": [
           {
            "marker": {
             "colorbar": {
              "outlinewidth": 0,
              "ticks": ""
             }
            },
            "type": "scattermapbox"
           }
          ],
          "scatterpolar": [
           {
            "marker": {
             "colorbar": {
              "outlinewidth": 0,
              "ticks": ""
             }
            },
            "type": "scatterpolar"
           }
          ],
          "scatterpolargl": [
           {
            "marker": {
             "colorbar": {
              "outlinewidth": 0,
              "ticks": ""
             }
            },
            "type": "scatterpolargl"
           }
          ],
          "scatterternary": [
           {
            "marker": {
             "colorbar": {
              "outlinewidth": 0,
              "ticks": ""
             }
            },
            "type": "scatterternary"
           }
          ],
          "surface": [
           {
            "colorbar": {
             "outlinewidth": 0,
             "ticks": ""
            },
            "colorscale": [
             [
              0,
              "#0d0887"
             ],
             [
              0.1111111111111111,
              "#46039f"
             ],
             [
              0.2222222222222222,
              "#7201a8"
             ],
             [
              0.3333333333333333,
              "#9c179e"
             ],
             [
              0.4444444444444444,
              "#bd3786"
             ],
             [
              0.5555555555555556,
              "#d8576b"
             ],
             [
              0.6666666666666666,
              "#ed7953"
             ],
             [
              0.7777777777777778,
              "#fb9f3a"
             ],
             [
              0.8888888888888888,
              "#fdca26"
             ],
             [
              1,
              "#f0f921"
             ]
            ],
            "type": "surface"
           }
          ],
          "table": [
           {
            "cells": {
             "fill": {
              "color": "#EBF0F8"
             },
             "line": {
              "color": "white"
             }
            },
            "header": {
             "fill": {
              "color": "#C8D4E3"
             },
             "line": {
              "color": "white"
             }
            },
            "type": "table"
           }
          ]
         },
         "layout": {
          "annotationdefaults": {
           "arrowcolor": "#2a3f5f",
           "arrowhead": 0,
           "arrowwidth": 1
          },
          "autotypenumbers": "strict",
          "coloraxis": {
           "colorbar": {
            "outlinewidth": 0,
            "ticks": ""
           }
          },
          "colorscale": {
           "diverging": [
            [
             0,
             "#8e0152"
            ],
            [
             0.1,
             "#c51b7d"
            ],
            [
             0.2,
             "#de77ae"
            ],
            [
             0.3,
             "#f1b6da"
            ],
            [
             0.4,
             "#fde0ef"
            ],
            [
             0.5,
             "#f7f7f7"
            ],
            [
             0.6,
             "#e6f5d0"
            ],
            [
             0.7,
             "#b8e186"
            ],
            [
             0.8,
             "#7fbc41"
            ],
            [
             0.9,
             "#4d9221"
            ],
            [
             1,
             "#276419"
            ]
           ],
           "sequential": [
            [
             0,
             "#0d0887"
            ],
            [
             0.1111111111111111,
             "#46039f"
            ],
            [
             0.2222222222222222,
             "#7201a8"
            ],
            [
             0.3333333333333333,
             "#9c179e"
            ],
            [
             0.4444444444444444,
             "#bd3786"
            ],
            [
             0.5555555555555556,
             "#d8576b"
            ],
            [
             0.6666666666666666,
             "#ed7953"
            ],
            [
             0.7777777777777778,
             "#fb9f3a"
            ],
            [
             0.8888888888888888,
             "#fdca26"
            ],
            [
             1,
             "#f0f921"
            ]
           ],
           "sequentialminus": [
            [
             0,
             "#0d0887"
            ],
            [
             0.1111111111111111,
             "#46039f"
            ],
            [
             0.2222222222222222,
             "#7201a8"
            ],
            [
             0.3333333333333333,
             "#9c179e"
            ],
            [
             0.4444444444444444,
             "#bd3786"
            ],
            [
             0.5555555555555556,
             "#d8576b"
            ],
            [
             0.6666666666666666,
             "#ed7953"
            ],
            [
             0.7777777777777778,
             "#fb9f3a"
            ],
            [
             0.8888888888888888,
             "#fdca26"
            ],
            [
             1,
             "#f0f921"
            ]
           ]
          },
          "colorway": [
           "#636efa",
           "#EF553B",
           "#00cc96",
           "#ab63fa",
           "#FFA15A",
           "#19d3f3",
           "#FF6692",
           "#B6E880",
           "#FF97FF",
           "#FECB52"
          ],
          "font": {
           "color": "#2a3f5f"
          },
          "geo": {
           "bgcolor": "white",
           "lakecolor": "white",
           "landcolor": "#E5ECF6",
           "showlakes": true,
           "showland": true,
           "subunitcolor": "white"
          },
          "hoverlabel": {
           "align": "left"
          },
          "hovermode": "closest",
          "mapbox": {
           "style": "light"
          },
          "paper_bgcolor": "white",
          "plot_bgcolor": "#E5ECF6",
          "polar": {
           "angularaxis": {
            "gridcolor": "white",
            "linecolor": "white",
            "ticks": ""
           },
           "bgcolor": "#E5ECF6",
           "radialaxis": {
            "gridcolor": "white",
            "linecolor": "white",
            "ticks": ""
           }
          },
          "scene": {
           "xaxis": {
            "backgroundcolor": "#E5ECF6",
            "gridcolor": "white",
            "gridwidth": 2,
            "linecolor": "white",
            "showbackground": true,
            "ticks": "",
            "zerolinecolor": "white"
           },
           "yaxis": {
            "backgroundcolor": "#E5ECF6",
            "gridcolor": "white",
            "gridwidth": 2,
            "linecolor": "white",
            "showbackground": true,
            "ticks": "",
            "zerolinecolor": "white"
           },
           "zaxis": {
            "backgroundcolor": "#E5ECF6",
            "gridcolor": "white",
            "gridwidth": 2,
            "linecolor": "white",
            "showbackground": true,
            "ticks": "",
            "zerolinecolor": "white"
           }
          },
          "shapedefaults": {
           "line": {
            "color": "#2a3f5f"
           }
          },
          "ternary": {
           "aaxis": {
            "gridcolor": "white",
            "linecolor": "white",
            "ticks": ""
           },
           "baxis": {
            "gridcolor": "white",
            "linecolor": "white",
            "ticks": ""
           },
           "bgcolor": "#E5ECF6",
           "caxis": {
            "gridcolor": "white",
            "linecolor": "white",
            "ticks": ""
           }
          },
          "title": {
           "x": 0.05
          },
          "xaxis": {
           "automargin": true,
           "gridcolor": "white",
           "linecolor": "white",
           "ticks": "",
           "title": {
            "standoff": 15
           },
           "zerolinecolor": "white",
           "zerolinewidth": 2
          },
          "yaxis": {
           "automargin": true,
           "gridcolor": "white",
           "linecolor": "white",
           "ticks": "",
           "title": {
            "standoff": 15
           },
           "zerolinecolor": "white",
           "zerolinewidth": 2
          }
         }
        }
       }
      }
     },
     "metadata": {},
     "output_type": "display_data"
    }
   ],
   "source": [
    "# Combine the above figures to onw\n",
    "fig = go.Figure()\n",
    "colours = plotly.colors.qualitative.T10\n",
    "n_colours = len(n_substances) + 1\n",
    "\n",
    "fig.add_trace(go.Pie(\n",
    "    labels=['1 ODD', '2 ODD', '>2 ODD'],\n",
    "    values=[85 + 1127, 23 + 144, 13+ 41],\n",
    "    textinfo='label+value+percent',\n",
    "    sort=False,\n",
    "    marker=dict(\n",
    "        colors=[colours[0], colours[-1], colours[2]], \n",
    "        line=dict(color='#000000', width=1))))\n",
    "fig.update_layout(showlegend=False)\n",
    "fig.show()"
   ]
  },
  {
   "cell_type": "code",
   "execution_count": 87,
   "metadata": {},
   "outputs": [
    {
     "data": {
      "application/vnd.plotly.v1+json": {
       "config": {
        "plotlyServerURL": "https://plot.ly"
       },
       "data": [
        {
         "labels": [
          "2 ODD",
          "3 ODD",
          "4 ODD",
          ">5"
         ],
         "marker": {
          "colors": [
           "rgb(33, 75, 99)",
           "rgb(79, 129, 102)",
           "rgb(151, 179, 100)",
           "rgb(175, 49, 35)",
           "rgb(36, 73, 147)"
          ],
          "line": {
           "color": "#000000",
           "width": 1
          }
         },
         "sort": false,
         "textinfo": "label+value+percent",
         "type": "pie",
         "values": [
          23,
          6,
          3,
          4
         ]
        }
       ],
       "layout": {
        "showlegend": true,
        "template": {
         "data": {
          "bar": [
           {
            "error_x": {
             "color": "#2a3f5f"
            },
            "error_y": {
             "color": "#2a3f5f"
            },
            "marker": {
             "line": {
              "color": "#E5ECF6",
              "width": 0.5
             }
            },
            "type": "bar"
           }
          ],
          "barpolar": [
           {
            "marker": {
             "line": {
              "color": "#E5ECF6",
              "width": 0.5
             }
            },
            "type": "barpolar"
           }
          ],
          "carpet": [
           {
            "aaxis": {
             "endlinecolor": "#2a3f5f",
             "gridcolor": "white",
             "linecolor": "white",
             "minorgridcolor": "white",
             "startlinecolor": "#2a3f5f"
            },
            "baxis": {
             "endlinecolor": "#2a3f5f",
             "gridcolor": "white",
             "linecolor": "white",
             "minorgridcolor": "white",
             "startlinecolor": "#2a3f5f"
            },
            "type": "carpet"
           }
          ],
          "choropleth": [
           {
            "colorbar": {
             "outlinewidth": 0,
             "ticks": ""
            },
            "type": "choropleth"
           }
          ],
          "contour": [
           {
            "colorbar": {
             "outlinewidth": 0,
             "ticks": ""
            },
            "colorscale": [
             [
              0,
              "#0d0887"
             ],
             [
              0.1111111111111111,
              "#46039f"
             ],
             [
              0.2222222222222222,
              "#7201a8"
             ],
             [
              0.3333333333333333,
              "#9c179e"
             ],
             [
              0.4444444444444444,
              "#bd3786"
             ],
             [
              0.5555555555555556,
              "#d8576b"
             ],
             [
              0.6666666666666666,
              "#ed7953"
             ],
             [
              0.7777777777777778,
              "#fb9f3a"
             ],
             [
              0.8888888888888888,
              "#fdca26"
             ],
             [
              1,
              "#f0f921"
             ]
            ],
            "type": "contour"
           }
          ],
          "contourcarpet": [
           {
            "colorbar": {
             "outlinewidth": 0,
             "ticks": ""
            },
            "type": "contourcarpet"
           }
          ],
          "heatmap": [
           {
            "colorbar": {
             "outlinewidth": 0,
             "ticks": ""
            },
            "colorscale": [
             [
              0,
              "#0d0887"
             ],
             [
              0.1111111111111111,
              "#46039f"
             ],
             [
              0.2222222222222222,
              "#7201a8"
             ],
             [
              0.3333333333333333,
              "#9c179e"
             ],
             [
              0.4444444444444444,
              "#bd3786"
             ],
             [
              0.5555555555555556,
              "#d8576b"
             ],
             [
              0.6666666666666666,
              "#ed7953"
             ],
             [
              0.7777777777777778,
              "#fb9f3a"
             ],
             [
              0.8888888888888888,
              "#fdca26"
             ],
             [
              1,
              "#f0f921"
             ]
            ],
            "type": "heatmap"
           }
          ],
          "heatmapgl": [
           {
            "colorbar": {
             "outlinewidth": 0,
             "ticks": ""
            },
            "colorscale": [
             [
              0,
              "#0d0887"
             ],
             [
              0.1111111111111111,
              "#46039f"
             ],
             [
              0.2222222222222222,
              "#7201a8"
             ],
             [
              0.3333333333333333,
              "#9c179e"
             ],
             [
              0.4444444444444444,
              "#bd3786"
             ],
             [
              0.5555555555555556,
              "#d8576b"
             ],
             [
              0.6666666666666666,
              "#ed7953"
             ],
             [
              0.7777777777777778,
              "#fb9f3a"
             ],
             [
              0.8888888888888888,
              "#fdca26"
             ],
             [
              1,
              "#f0f921"
             ]
            ],
            "type": "heatmapgl"
           }
          ],
          "histogram": [
           {
            "marker": {
             "colorbar": {
              "outlinewidth": 0,
              "ticks": ""
             }
            },
            "type": "histogram"
           }
          ],
          "histogram2d": [
           {
            "colorbar": {
             "outlinewidth": 0,
             "ticks": ""
            },
            "colorscale": [
             [
              0,
              "#0d0887"
             ],
             [
              0.1111111111111111,
              "#46039f"
             ],
             [
              0.2222222222222222,
              "#7201a8"
             ],
             [
              0.3333333333333333,
              "#9c179e"
             ],
             [
              0.4444444444444444,
              "#bd3786"
             ],
             [
              0.5555555555555556,
              "#d8576b"
             ],
             [
              0.6666666666666666,
              "#ed7953"
             ],
             [
              0.7777777777777778,
              "#fb9f3a"
             ],
             [
              0.8888888888888888,
              "#fdca26"
             ],
             [
              1,
              "#f0f921"
             ]
            ],
            "type": "histogram2d"
           }
          ],
          "histogram2dcontour": [
           {
            "colorbar": {
             "outlinewidth": 0,
             "ticks": ""
            },
            "colorscale": [
             [
              0,
              "#0d0887"
             ],
             [
              0.1111111111111111,
              "#46039f"
             ],
             [
              0.2222222222222222,
              "#7201a8"
             ],
             [
              0.3333333333333333,
              "#9c179e"
             ],
             [
              0.4444444444444444,
              "#bd3786"
             ],
             [
              0.5555555555555556,
              "#d8576b"
             ],
             [
              0.6666666666666666,
              "#ed7953"
             ],
             [
              0.7777777777777778,
              "#fb9f3a"
             ],
             [
              0.8888888888888888,
              "#fdca26"
             ],
             [
              1,
              "#f0f921"
             ]
            ],
            "type": "histogram2dcontour"
           }
          ],
          "mesh3d": [
           {
            "colorbar": {
             "outlinewidth": 0,
             "ticks": ""
            },
            "type": "mesh3d"
           }
          ],
          "parcoords": [
           {
            "line": {
             "colorbar": {
              "outlinewidth": 0,
              "ticks": ""
             }
            },
            "type": "parcoords"
           }
          ],
          "pie": [
           {
            "automargin": true,
            "type": "pie"
           }
          ],
          "scatter": [
           {
            "marker": {
             "colorbar": {
              "outlinewidth": 0,
              "ticks": ""
             }
            },
            "type": "scatter"
           }
          ],
          "scatter3d": [
           {
            "line": {
             "colorbar": {
              "outlinewidth": 0,
              "ticks": ""
             }
            },
            "marker": {
             "colorbar": {
              "outlinewidth": 0,
              "ticks": ""
             }
            },
            "type": "scatter3d"
           }
          ],
          "scattercarpet": [
           {
            "marker": {
             "colorbar": {
              "outlinewidth": 0,
              "ticks": ""
             }
            },
            "type": "scattercarpet"
           }
          ],
          "scattergeo": [
           {
            "marker": {
             "colorbar": {
              "outlinewidth": 0,
              "ticks": ""
             }
            },
            "type": "scattergeo"
           }
          ],
          "scattergl": [
           {
            "marker": {
             "colorbar": {
              "outlinewidth": 0,
              "ticks": ""
             }
            },
            "type": "scattergl"
           }
          ],
          "scattermapbox": [
           {
            "marker": {
             "colorbar": {
              "outlinewidth": 0,
              "ticks": ""
             }
            },
            "type": "scattermapbox"
           }
          ],
          "scatterpolar": [
           {
            "marker": {
             "colorbar": {
              "outlinewidth": 0,
              "ticks": ""
             }
            },
            "type": "scatterpolar"
           }
          ],
          "scatterpolargl": [
           {
            "marker": {
             "colorbar": {
              "outlinewidth": 0,
              "ticks": ""
             }
            },
            "type": "scatterpolargl"
           }
          ],
          "scatterternary": [
           {
            "marker": {
             "colorbar": {
              "outlinewidth": 0,
              "ticks": ""
             }
            },
            "type": "scatterternary"
           }
          ],
          "surface": [
           {
            "colorbar": {
             "outlinewidth": 0,
             "ticks": ""
            },
            "colorscale": [
             [
              0,
              "#0d0887"
             ],
             [
              0.1111111111111111,
              "#46039f"
             ],
             [
              0.2222222222222222,
              "#7201a8"
             ],
             [
              0.3333333333333333,
              "#9c179e"
             ],
             [
              0.4444444444444444,
              "#bd3786"
             ],
             [
              0.5555555555555556,
              "#d8576b"
             ],
             [
              0.6666666666666666,
              "#ed7953"
             ],
             [
              0.7777777777777778,
              "#fb9f3a"
             ],
             [
              0.8888888888888888,
              "#fdca26"
             ],
             [
              1,
              "#f0f921"
             ]
            ],
            "type": "surface"
           }
          ],
          "table": [
           {
            "cells": {
             "fill": {
              "color": "#EBF0F8"
             },
             "line": {
              "color": "white"
             }
            },
            "header": {
             "fill": {
              "color": "#C8D4E3"
             },
             "line": {
              "color": "white"
             }
            },
            "type": "table"
           }
          ]
         },
         "layout": {
          "annotationdefaults": {
           "arrowcolor": "#2a3f5f",
           "arrowhead": 0,
           "arrowwidth": 1
          },
          "autotypenumbers": "strict",
          "coloraxis": {
           "colorbar": {
            "outlinewidth": 0,
            "ticks": ""
           }
          },
          "colorscale": {
           "diverging": [
            [
             0,
             "#8e0152"
            ],
            [
             0.1,
             "#c51b7d"
            ],
            [
             0.2,
             "#de77ae"
            ],
            [
             0.3,
             "#f1b6da"
            ],
            [
             0.4,
             "#fde0ef"
            ],
            [
             0.5,
             "#f7f7f7"
            ],
            [
             0.6,
             "#e6f5d0"
            ],
            [
             0.7,
             "#b8e186"
            ],
            [
             0.8,
             "#7fbc41"
            ],
            [
             0.9,
             "#4d9221"
            ],
            [
             1,
             "#276419"
            ]
           ],
           "sequential": [
            [
             0,
             "#0d0887"
            ],
            [
             0.1111111111111111,
             "#46039f"
            ],
            [
             0.2222222222222222,
             "#7201a8"
            ],
            [
             0.3333333333333333,
             "#9c179e"
            ],
            [
             0.4444444444444444,
             "#bd3786"
            ],
            [
             0.5555555555555556,
             "#d8576b"
            ],
            [
             0.6666666666666666,
             "#ed7953"
            ],
            [
             0.7777777777777778,
             "#fb9f3a"
            ],
            [
             0.8888888888888888,
             "#fdca26"
            ],
            [
             1,
             "#f0f921"
            ]
           ],
           "sequentialminus": [
            [
             0,
             "#0d0887"
            ],
            [
             0.1111111111111111,
             "#46039f"
            ],
            [
             0.2222222222222222,
             "#7201a8"
            ],
            [
             0.3333333333333333,
             "#9c179e"
            ],
            [
             0.4444444444444444,
             "#bd3786"
            ],
            [
             0.5555555555555556,
             "#d8576b"
            ],
            [
             0.6666666666666666,
             "#ed7953"
            ],
            [
             0.7777777777777778,
             "#fb9f3a"
            ],
            [
             0.8888888888888888,
             "#fdca26"
            ],
            [
             1,
             "#f0f921"
            ]
           ]
          },
          "colorway": [
           "#636efa",
           "#EF553B",
           "#00cc96",
           "#ab63fa",
           "#FFA15A",
           "#19d3f3",
           "#FF6692",
           "#B6E880",
           "#FF97FF",
           "#FECB52"
          ],
          "font": {
           "color": "#2a3f5f"
          },
          "geo": {
           "bgcolor": "white",
           "lakecolor": "white",
           "landcolor": "#E5ECF6",
           "showlakes": true,
           "showland": true,
           "subunitcolor": "white"
          },
          "hoverlabel": {
           "align": "left"
          },
          "hovermode": "closest",
          "mapbox": {
           "style": "light"
          },
          "paper_bgcolor": "white",
          "plot_bgcolor": "#E5ECF6",
          "polar": {
           "angularaxis": {
            "gridcolor": "white",
            "linecolor": "white",
            "ticks": ""
           },
           "bgcolor": "#E5ECF6",
           "radialaxis": {
            "gridcolor": "white",
            "linecolor": "white",
            "ticks": ""
           }
          },
          "scene": {
           "xaxis": {
            "backgroundcolor": "#E5ECF6",
            "gridcolor": "white",
            "gridwidth": 2,
            "linecolor": "white",
            "showbackground": true,
            "ticks": "",
            "zerolinecolor": "white"
           },
           "yaxis": {
            "backgroundcolor": "#E5ECF6",
            "gridcolor": "white",
            "gridwidth": 2,
            "linecolor": "white",
            "showbackground": true,
            "ticks": "",
            "zerolinecolor": "white"
           },
           "zaxis": {
            "backgroundcolor": "#E5ECF6",
            "gridcolor": "white",
            "gridwidth": 2,
            "linecolor": "white",
            "showbackground": true,
            "ticks": "",
            "zerolinecolor": "white"
           }
          },
          "shapedefaults": {
           "line": {
            "color": "#2a3f5f"
           }
          },
          "ternary": {
           "aaxis": {
            "gridcolor": "white",
            "linecolor": "white",
            "ticks": ""
           },
           "baxis": {
            "gridcolor": "white",
            "linecolor": "white",
            "ticks": ""
           },
           "bgcolor": "#E5ECF6",
           "caxis": {
            "gridcolor": "white",
            "linecolor": "white",
            "ticks": ""
           }
          },
          "title": {
           "x": 0.05
          },
          "xaxis": {
           "automargin": true,
           "gridcolor": "white",
           "linecolor": "white",
           "ticks": "",
           "title": {
            "standoff": 15
           },
           "zerolinecolor": "white",
           "zerolinewidth": 2
          },
          "yaxis": {
           "automargin": true,
           "gridcolor": "white",
           "linecolor": "white",
           "ticks": "",
           "title": {
            "standoff": 15
           },
           "zerolinecolor": "white",
           "zerolinewidth": 2
          }
         }
        }
       }
      }
     },
     "metadata": {},
     "output_type": "display_data"
    }
   ],
   "source": [
    "# Sort by number of applications\n",
    "marketed_ods.sort_values(by='Number of designations', inplace=True)\n",
    "\n",
    "# Get number of applications\n",
    "n_applications = []\n",
    "n_substances = []\n",
    "for n_application in marketed_ods['Number of designations'].unique():\n",
    "    if n_application < 2:\n",
    "        continue\n",
    "\n",
    "    # Get number of substances\n",
    "    mask = marketed_ods['Number of designations'] == n_application\n",
    "    number = len(marketed_ods[mask])\n",
    "\n",
    "    # Append to containers\n",
    "    n_applications.append(n_application)\n",
    "    n_substances.append(number)\n",
    "\n",
    "# Accumulate >= 5 applications\n",
    "n_applications = np.array(n_applications)\n",
    "n_substances = np.array(n_substances)\n",
    "mask = n_applications >= 5\n",
    "n_substances_five_or_more = np.sum(n_substances[mask])\n",
    "n_applications = n_applications[~mask]\n",
    "n_substances = list(n_substances[~mask])\n",
    "\n",
    "# Create figure\n",
    "fig = go.Figure()\n",
    "colours = plotly.colors.qualitative.Plotly\n",
    "n_colours = len(n_substances) + 1\n",
    "\n",
    "fig.add_trace(go.Pie(\n",
    "    labels=[\n",
    "        '%s ODD' % str(n) for n in n_applications] + ['>5'],\n",
    "    values=n_substances + [n_substances_five_or_more],\n",
    "    textinfo='label+value+percent',\n",
    "    sort=False,\n",
    "    marker=dict(\n",
    "        colors=['rgb(33, 75, 99)', 'rgb(79, 129, 102)', 'rgb(151, 179, 100)',\n",
    "                 'rgb(175, 49, 35)', 'rgb(36, 73, 147)'], \n",
    "        line=dict(color='#000000', width=1))))\n",
    "fig.update_layout(showlegend=True)\n",
    "fig.show()"
   ]
  },
  {
   "cell_type": "code",
   "execution_count": 88,
   "metadata": {},
   "outputs": [
    {
     "data": {
      "application/vnd.plotly.v1+json": {
       "config": {
        "plotlyServerURL": "https://plot.ly"
       },
       "data": [
        {
         "labels": [
          "2 ODD",
          "3 ODD",
          "4 ODD",
          ">5"
         ],
         "marker": {
          "colors": [
           "rgb(33, 75, 99)",
           "rgb(79, 129, 102)",
           "rgb(151, 179, 100)",
           "rgb(175, 49, 35)",
           "rgb(36, 73, 147)"
          ],
          "line": {
           "color": "#000000",
           "width": 1
          }
         },
         "sort": false,
         "textinfo": "label+value+percent",
         "type": "pie",
         "values": [
          144,
          24,
          8,
          9
         ]
        }
       ],
       "layout": {
        "showlegend": true,
        "template": {
         "data": {
          "bar": [
           {
            "error_x": {
             "color": "#2a3f5f"
            },
            "error_y": {
             "color": "#2a3f5f"
            },
            "marker": {
             "line": {
              "color": "#E5ECF6",
              "width": 0.5
             }
            },
            "type": "bar"
           }
          ],
          "barpolar": [
           {
            "marker": {
             "line": {
              "color": "#E5ECF6",
              "width": 0.5
             }
            },
            "type": "barpolar"
           }
          ],
          "carpet": [
           {
            "aaxis": {
             "endlinecolor": "#2a3f5f",
             "gridcolor": "white",
             "linecolor": "white",
             "minorgridcolor": "white",
             "startlinecolor": "#2a3f5f"
            },
            "baxis": {
             "endlinecolor": "#2a3f5f",
             "gridcolor": "white",
             "linecolor": "white",
             "minorgridcolor": "white",
             "startlinecolor": "#2a3f5f"
            },
            "type": "carpet"
           }
          ],
          "choropleth": [
           {
            "colorbar": {
             "outlinewidth": 0,
             "ticks": ""
            },
            "type": "choropleth"
           }
          ],
          "contour": [
           {
            "colorbar": {
             "outlinewidth": 0,
             "ticks": ""
            },
            "colorscale": [
             [
              0,
              "#0d0887"
             ],
             [
              0.1111111111111111,
              "#46039f"
             ],
             [
              0.2222222222222222,
              "#7201a8"
             ],
             [
              0.3333333333333333,
              "#9c179e"
             ],
             [
              0.4444444444444444,
              "#bd3786"
             ],
             [
              0.5555555555555556,
              "#d8576b"
             ],
             [
              0.6666666666666666,
              "#ed7953"
             ],
             [
              0.7777777777777778,
              "#fb9f3a"
             ],
             [
              0.8888888888888888,
              "#fdca26"
             ],
             [
              1,
              "#f0f921"
             ]
            ],
            "type": "contour"
           }
          ],
          "contourcarpet": [
           {
            "colorbar": {
             "outlinewidth": 0,
             "ticks": ""
            },
            "type": "contourcarpet"
           }
          ],
          "heatmap": [
           {
            "colorbar": {
             "outlinewidth": 0,
             "ticks": ""
            },
            "colorscale": [
             [
              0,
              "#0d0887"
             ],
             [
              0.1111111111111111,
              "#46039f"
             ],
             [
              0.2222222222222222,
              "#7201a8"
             ],
             [
              0.3333333333333333,
              "#9c179e"
             ],
             [
              0.4444444444444444,
              "#bd3786"
             ],
             [
              0.5555555555555556,
              "#d8576b"
             ],
             [
              0.6666666666666666,
              "#ed7953"
             ],
             [
              0.7777777777777778,
              "#fb9f3a"
             ],
             [
              0.8888888888888888,
              "#fdca26"
             ],
             [
              1,
              "#f0f921"
             ]
            ],
            "type": "heatmap"
           }
          ],
          "heatmapgl": [
           {
            "colorbar": {
             "outlinewidth": 0,
             "ticks": ""
            },
            "colorscale": [
             [
              0,
              "#0d0887"
             ],
             [
              0.1111111111111111,
              "#46039f"
             ],
             [
              0.2222222222222222,
              "#7201a8"
             ],
             [
              0.3333333333333333,
              "#9c179e"
             ],
             [
              0.4444444444444444,
              "#bd3786"
             ],
             [
              0.5555555555555556,
              "#d8576b"
             ],
             [
              0.6666666666666666,
              "#ed7953"
             ],
             [
              0.7777777777777778,
              "#fb9f3a"
             ],
             [
              0.8888888888888888,
              "#fdca26"
             ],
             [
              1,
              "#f0f921"
             ]
            ],
            "type": "heatmapgl"
           }
          ],
          "histogram": [
           {
            "marker": {
             "colorbar": {
              "outlinewidth": 0,
              "ticks": ""
             }
            },
            "type": "histogram"
           }
          ],
          "histogram2d": [
           {
            "colorbar": {
             "outlinewidth": 0,
             "ticks": ""
            },
            "colorscale": [
             [
              0,
              "#0d0887"
             ],
             [
              0.1111111111111111,
              "#46039f"
             ],
             [
              0.2222222222222222,
              "#7201a8"
             ],
             [
              0.3333333333333333,
              "#9c179e"
             ],
             [
              0.4444444444444444,
              "#bd3786"
             ],
             [
              0.5555555555555556,
              "#d8576b"
             ],
             [
              0.6666666666666666,
              "#ed7953"
             ],
             [
              0.7777777777777778,
              "#fb9f3a"
             ],
             [
              0.8888888888888888,
              "#fdca26"
             ],
             [
              1,
              "#f0f921"
             ]
            ],
            "type": "histogram2d"
           }
          ],
          "histogram2dcontour": [
           {
            "colorbar": {
             "outlinewidth": 0,
             "ticks": ""
            },
            "colorscale": [
             [
              0,
              "#0d0887"
             ],
             [
              0.1111111111111111,
              "#46039f"
             ],
             [
              0.2222222222222222,
              "#7201a8"
             ],
             [
              0.3333333333333333,
              "#9c179e"
             ],
             [
              0.4444444444444444,
              "#bd3786"
             ],
             [
              0.5555555555555556,
              "#d8576b"
             ],
             [
              0.6666666666666666,
              "#ed7953"
             ],
             [
              0.7777777777777778,
              "#fb9f3a"
             ],
             [
              0.8888888888888888,
              "#fdca26"
             ],
             [
              1,
              "#f0f921"
             ]
            ],
            "type": "histogram2dcontour"
           }
          ],
          "mesh3d": [
           {
            "colorbar": {
             "outlinewidth": 0,
             "ticks": ""
            },
            "type": "mesh3d"
           }
          ],
          "parcoords": [
           {
            "line": {
             "colorbar": {
              "outlinewidth": 0,
              "ticks": ""
             }
            },
            "type": "parcoords"
           }
          ],
          "pie": [
           {
            "automargin": true,
            "type": "pie"
           }
          ],
          "scatter": [
           {
            "marker": {
             "colorbar": {
              "outlinewidth": 0,
              "ticks": ""
             }
            },
            "type": "scatter"
           }
          ],
          "scatter3d": [
           {
            "line": {
             "colorbar": {
              "outlinewidth": 0,
              "ticks": ""
             }
            },
            "marker": {
             "colorbar": {
              "outlinewidth": 0,
              "ticks": ""
             }
            },
            "type": "scatter3d"
           }
          ],
          "scattercarpet": [
           {
            "marker": {
             "colorbar": {
              "outlinewidth": 0,
              "ticks": ""
             }
            },
            "type": "scattercarpet"
           }
          ],
          "scattergeo": [
           {
            "marker": {
             "colorbar": {
              "outlinewidth": 0,
              "ticks": ""
             }
            },
            "type": "scattergeo"
           }
          ],
          "scattergl": [
           {
            "marker": {
             "colorbar": {
              "outlinewidth": 0,
              "ticks": ""
             }
            },
            "type": "scattergl"
           }
          ],
          "scattermapbox": [
           {
            "marker": {
             "colorbar": {
              "outlinewidth": 0,
              "ticks": ""
             }
            },
            "type": "scattermapbox"
           }
          ],
          "scatterpolar": [
           {
            "marker": {
             "colorbar": {
              "outlinewidth": 0,
              "ticks": ""
             }
            },
            "type": "scatterpolar"
           }
          ],
          "scatterpolargl": [
           {
            "marker": {
             "colorbar": {
              "outlinewidth": 0,
              "ticks": ""
             }
            },
            "type": "scatterpolargl"
           }
          ],
          "scatterternary": [
           {
            "marker": {
             "colorbar": {
              "outlinewidth": 0,
              "ticks": ""
             }
            },
            "type": "scatterternary"
           }
          ],
          "surface": [
           {
            "colorbar": {
             "outlinewidth": 0,
             "ticks": ""
            },
            "colorscale": [
             [
              0,
              "#0d0887"
             ],
             [
              0.1111111111111111,
              "#46039f"
             ],
             [
              0.2222222222222222,
              "#7201a8"
             ],
             [
              0.3333333333333333,
              "#9c179e"
             ],
             [
              0.4444444444444444,
              "#bd3786"
             ],
             [
              0.5555555555555556,
              "#d8576b"
             ],
             [
              0.6666666666666666,
              "#ed7953"
             ],
             [
              0.7777777777777778,
              "#fb9f3a"
             ],
             [
              0.8888888888888888,
              "#fdca26"
             ],
             [
              1,
              "#f0f921"
             ]
            ],
            "type": "surface"
           }
          ],
          "table": [
           {
            "cells": {
             "fill": {
              "color": "#EBF0F8"
             },
             "line": {
              "color": "white"
             }
            },
            "header": {
             "fill": {
              "color": "#C8D4E3"
             },
             "line": {
              "color": "white"
             }
            },
            "type": "table"
           }
          ]
         },
         "layout": {
          "annotationdefaults": {
           "arrowcolor": "#2a3f5f",
           "arrowhead": 0,
           "arrowwidth": 1
          },
          "autotypenumbers": "strict",
          "coloraxis": {
           "colorbar": {
            "outlinewidth": 0,
            "ticks": ""
           }
          },
          "colorscale": {
           "diverging": [
            [
             0,
             "#8e0152"
            ],
            [
             0.1,
             "#c51b7d"
            ],
            [
             0.2,
             "#de77ae"
            ],
            [
             0.3,
             "#f1b6da"
            ],
            [
             0.4,
             "#fde0ef"
            ],
            [
             0.5,
             "#f7f7f7"
            ],
            [
             0.6,
             "#e6f5d0"
            ],
            [
             0.7,
             "#b8e186"
            ],
            [
             0.8,
             "#7fbc41"
            ],
            [
             0.9,
             "#4d9221"
            ],
            [
             1,
             "#276419"
            ]
           ],
           "sequential": [
            [
             0,
             "#0d0887"
            ],
            [
             0.1111111111111111,
             "#46039f"
            ],
            [
             0.2222222222222222,
             "#7201a8"
            ],
            [
             0.3333333333333333,
             "#9c179e"
            ],
            [
             0.4444444444444444,
             "#bd3786"
            ],
            [
             0.5555555555555556,
             "#d8576b"
            ],
            [
             0.6666666666666666,
             "#ed7953"
            ],
            [
             0.7777777777777778,
             "#fb9f3a"
            ],
            [
             0.8888888888888888,
             "#fdca26"
            ],
            [
             1,
             "#f0f921"
            ]
           ],
           "sequentialminus": [
            [
             0,
             "#0d0887"
            ],
            [
             0.1111111111111111,
             "#46039f"
            ],
            [
             0.2222222222222222,
             "#7201a8"
            ],
            [
             0.3333333333333333,
             "#9c179e"
            ],
            [
             0.4444444444444444,
             "#bd3786"
            ],
            [
             0.5555555555555556,
             "#d8576b"
            ],
            [
             0.6666666666666666,
             "#ed7953"
            ],
            [
             0.7777777777777778,
             "#fb9f3a"
            ],
            [
             0.8888888888888888,
             "#fdca26"
            ],
            [
             1,
             "#f0f921"
            ]
           ]
          },
          "colorway": [
           "#636efa",
           "#EF553B",
           "#00cc96",
           "#ab63fa",
           "#FFA15A",
           "#19d3f3",
           "#FF6692",
           "#B6E880",
           "#FF97FF",
           "#FECB52"
          ],
          "font": {
           "color": "#2a3f5f"
          },
          "geo": {
           "bgcolor": "white",
           "lakecolor": "white",
           "landcolor": "#E5ECF6",
           "showlakes": true,
           "showland": true,
           "subunitcolor": "white"
          },
          "hoverlabel": {
           "align": "left"
          },
          "hovermode": "closest",
          "mapbox": {
           "style": "light"
          },
          "paper_bgcolor": "white",
          "plot_bgcolor": "#E5ECF6",
          "polar": {
           "angularaxis": {
            "gridcolor": "white",
            "linecolor": "white",
            "ticks": ""
           },
           "bgcolor": "#E5ECF6",
           "radialaxis": {
            "gridcolor": "white",
            "linecolor": "white",
            "ticks": ""
           }
          },
          "scene": {
           "xaxis": {
            "backgroundcolor": "#E5ECF6",
            "gridcolor": "white",
            "gridwidth": 2,
            "linecolor": "white",
            "showbackground": true,
            "ticks": "",
            "zerolinecolor": "white"
           },
           "yaxis": {
            "backgroundcolor": "#E5ECF6",
            "gridcolor": "white",
            "gridwidth": 2,
            "linecolor": "white",
            "showbackground": true,
            "ticks": "",
            "zerolinecolor": "white"
           },
           "zaxis": {
            "backgroundcolor": "#E5ECF6",
            "gridcolor": "white",
            "gridwidth": 2,
            "linecolor": "white",
            "showbackground": true,
            "ticks": "",
            "zerolinecolor": "white"
           }
          },
          "shapedefaults": {
           "line": {
            "color": "#2a3f5f"
           }
          },
          "ternary": {
           "aaxis": {
            "gridcolor": "white",
            "linecolor": "white",
            "ticks": ""
           },
           "baxis": {
            "gridcolor": "white",
            "linecolor": "white",
            "ticks": ""
           },
           "bgcolor": "#E5ECF6",
           "caxis": {
            "gridcolor": "white",
            "linecolor": "white",
            "ticks": ""
           }
          },
          "title": {
           "x": 0.05
          },
          "xaxis": {
           "automargin": true,
           "gridcolor": "white",
           "linecolor": "white",
           "ticks": "",
           "title": {
            "standoff": 15
           },
           "zerolinecolor": "white",
           "zerolinewidth": 2
          },
          "yaxis": {
           "automargin": true,
           "gridcolor": "white",
           "linecolor": "white",
           "ticks": "",
           "title": {
            "standoff": 15
           },
           "zerolinecolor": "white",
           "zerolinewidth": 2
          }
         }
        }
       }
      }
     },
     "metadata": {},
     "output_type": "display_data"
    }
   ],
   "source": [
    "# Filter marketed drugs because those are already above\n",
    "mask = substance_applications['Number of MAs'] == 0\n",
    "temp = substance_applications[mask]\n",
    "\n",
    "# Get number of applications\n",
    "n_applications = []\n",
    "n_substances = []\n",
    "for n_application in temp['Number of designations'].unique():\n",
    "    if n_application < 2:\n",
    "        continue\n",
    "\n",
    "    # Get number of substances\n",
    "    mask = temp['Number of designations'] == n_application\n",
    "    number = len(temp[mask])\n",
    "\n",
    "    # Append to containers\n",
    "    n_applications.append(n_application)\n",
    "    n_substances.append(number)\n",
    "\n",
    "# Accumulate >= 5 applications\n",
    "n_applications = np.array(n_applications)\n",
    "n_substances = np.array(n_substances)\n",
    "mask = n_applications >= 5\n",
    "n_substances_five_or_more = np.sum(n_substances[mask])\n",
    "n_applications = n_applications[~mask]\n",
    "n_substances = list(n_substances[~mask])\n",
    "\n",
    "# Create figure\n",
    "fig = go.Figure()\n",
    "colours = plotly.colors.qualitative.Plotly\n",
    "n_colours = len(n_substances) + 1\n",
    "\n",
    "fig.add_trace(go.Pie(\n",
    "    labels=[\n",
    "        '%s ODD' % str(n) for n in n_applications] + ['>5'],\n",
    "    values=n_substances + [n_substances_five_or_more],\n",
    "    textinfo='label+value+percent',\n",
    "    sort=False,\n",
    "    marker=dict(\n",
    "        colors=['rgb(33, 75, 99)', 'rgb(79, 129, 102)', 'rgb(151, 179, 100)',\n",
    "                 'rgb(175, 49, 35)', 'rgb(36, 73, 147)'], \n",
    "        line=dict(color='#000000', width=1))))\n",
    "fig.update_layout(showlegend=True)\n",
    "fig.show()"
   ]
  },
  {
   "cell_type": "code",
   "execution_count": 89,
   "metadata": {},
   "outputs": [
    {
     "data": {
      "application/vnd.plotly.v1+json": {
       "config": {
        "plotlyServerURL": "https://plot.ly"
       },
       "data": [
        {
         "labels": [
          "2 ODD",
          "3 ODD",
          "4 ODD",
          ">5 ODD"
         ],
         "marker": {
          "colors": [
           "rgb(33, 75, 99)",
           "rgb(79, 129, 102)",
           "rgb(151, 179, 100)",
           "rgb(175, 49, 35)",
           "rgb(36, 73, 147)"
          ],
          "line": {
           "color": "#000000",
           "width": 1
          }
         },
         "sort": false,
         "textinfo": "label+value+percent",
         "type": "pie",
         "values": [
          167,
          30,
          11,
          13
         ]
        }
       ],
       "layout": {
        "showlegend": true,
        "template": {
         "data": {
          "bar": [
           {
            "error_x": {
             "color": "#2a3f5f"
            },
            "error_y": {
             "color": "#2a3f5f"
            },
            "marker": {
             "line": {
              "color": "#E5ECF6",
              "width": 0.5
             }
            },
            "type": "bar"
           }
          ],
          "barpolar": [
           {
            "marker": {
             "line": {
              "color": "#E5ECF6",
              "width": 0.5
             }
            },
            "type": "barpolar"
           }
          ],
          "carpet": [
           {
            "aaxis": {
             "endlinecolor": "#2a3f5f",
             "gridcolor": "white",
             "linecolor": "white",
             "minorgridcolor": "white",
             "startlinecolor": "#2a3f5f"
            },
            "baxis": {
             "endlinecolor": "#2a3f5f",
             "gridcolor": "white",
             "linecolor": "white",
             "minorgridcolor": "white",
             "startlinecolor": "#2a3f5f"
            },
            "type": "carpet"
           }
          ],
          "choropleth": [
           {
            "colorbar": {
             "outlinewidth": 0,
             "ticks": ""
            },
            "type": "choropleth"
           }
          ],
          "contour": [
           {
            "colorbar": {
             "outlinewidth": 0,
             "ticks": ""
            },
            "colorscale": [
             [
              0,
              "#0d0887"
             ],
             [
              0.1111111111111111,
              "#46039f"
             ],
             [
              0.2222222222222222,
              "#7201a8"
             ],
             [
              0.3333333333333333,
              "#9c179e"
             ],
             [
              0.4444444444444444,
              "#bd3786"
             ],
             [
              0.5555555555555556,
              "#d8576b"
             ],
             [
              0.6666666666666666,
              "#ed7953"
             ],
             [
              0.7777777777777778,
              "#fb9f3a"
             ],
             [
              0.8888888888888888,
              "#fdca26"
             ],
             [
              1,
              "#f0f921"
             ]
            ],
            "type": "contour"
           }
          ],
          "contourcarpet": [
           {
            "colorbar": {
             "outlinewidth": 0,
             "ticks": ""
            },
            "type": "contourcarpet"
           }
          ],
          "heatmap": [
           {
            "colorbar": {
             "outlinewidth": 0,
             "ticks": ""
            },
            "colorscale": [
             [
              0,
              "#0d0887"
             ],
             [
              0.1111111111111111,
              "#46039f"
             ],
             [
              0.2222222222222222,
              "#7201a8"
             ],
             [
              0.3333333333333333,
              "#9c179e"
             ],
             [
              0.4444444444444444,
              "#bd3786"
             ],
             [
              0.5555555555555556,
              "#d8576b"
             ],
             [
              0.6666666666666666,
              "#ed7953"
             ],
             [
              0.7777777777777778,
              "#fb9f3a"
             ],
             [
              0.8888888888888888,
              "#fdca26"
             ],
             [
              1,
              "#f0f921"
             ]
            ],
            "type": "heatmap"
           }
          ],
          "heatmapgl": [
           {
            "colorbar": {
             "outlinewidth": 0,
             "ticks": ""
            },
            "colorscale": [
             [
              0,
              "#0d0887"
             ],
             [
              0.1111111111111111,
              "#46039f"
             ],
             [
              0.2222222222222222,
              "#7201a8"
             ],
             [
              0.3333333333333333,
              "#9c179e"
             ],
             [
              0.4444444444444444,
              "#bd3786"
             ],
             [
              0.5555555555555556,
              "#d8576b"
             ],
             [
              0.6666666666666666,
              "#ed7953"
             ],
             [
              0.7777777777777778,
              "#fb9f3a"
             ],
             [
              0.8888888888888888,
              "#fdca26"
             ],
             [
              1,
              "#f0f921"
             ]
            ],
            "type": "heatmapgl"
           }
          ],
          "histogram": [
           {
            "marker": {
             "colorbar": {
              "outlinewidth": 0,
              "ticks": ""
             }
            },
            "type": "histogram"
           }
          ],
          "histogram2d": [
           {
            "colorbar": {
             "outlinewidth": 0,
             "ticks": ""
            },
            "colorscale": [
             [
              0,
              "#0d0887"
             ],
             [
              0.1111111111111111,
              "#46039f"
             ],
             [
              0.2222222222222222,
              "#7201a8"
             ],
             [
              0.3333333333333333,
              "#9c179e"
             ],
             [
              0.4444444444444444,
              "#bd3786"
             ],
             [
              0.5555555555555556,
              "#d8576b"
             ],
             [
              0.6666666666666666,
              "#ed7953"
             ],
             [
              0.7777777777777778,
              "#fb9f3a"
             ],
             [
              0.8888888888888888,
              "#fdca26"
             ],
             [
              1,
              "#f0f921"
             ]
            ],
            "type": "histogram2d"
           }
          ],
          "histogram2dcontour": [
           {
            "colorbar": {
             "outlinewidth": 0,
             "ticks": ""
            },
            "colorscale": [
             [
              0,
              "#0d0887"
             ],
             [
              0.1111111111111111,
              "#46039f"
             ],
             [
              0.2222222222222222,
              "#7201a8"
             ],
             [
              0.3333333333333333,
              "#9c179e"
             ],
             [
              0.4444444444444444,
              "#bd3786"
             ],
             [
              0.5555555555555556,
              "#d8576b"
             ],
             [
              0.6666666666666666,
              "#ed7953"
             ],
             [
              0.7777777777777778,
              "#fb9f3a"
             ],
             [
              0.8888888888888888,
              "#fdca26"
             ],
             [
              1,
              "#f0f921"
             ]
            ],
            "type": "histogram2dcontour"
           }
          ],
          "mesh3d": [
           {
            "colorbar": {
             "outlinewidth": 0,
             "ticks": ""
            },
            "type": "mesh3d"
           }
          ],
          "parcoords": [
           {
            "line": {
             "colorbar": {
              "outlinewidth": 0,
              "ticks": ""
             }
            },
            "type": "parcoords"
           }
          ],
          "pie": [
           {
            "automargin": true,
            "type": "pie"
           }
          ],
          "scatter": [
           {
            "marker": {
             "colorbar": {
              "outlinewidth": 0,
              "ticks": ""
             }
            },
            "type": "scatter"
           }
          ],
          "scatter3d": [
           {
            "line": {
             "colorbar": {
              "outlinewidth": 0,
              "ticks": ""
             }
            },
            "marker": {
             "colorbar": {
              "outlinewidth": 0,
              "ticks": ""
             }
            },
            "type": "scatter3d"
           }
          ],
          "scattercarpet": [
           {
            "marker": {
             "colorbar": {
              "outlinewidth": 0,
              "ticks": ""
             }
            },
            "type": "scattercarpet"
           }
          ],
          "scattergeo": [
           {
            "marker": {
             "colorbar": {
              "outlinewidth": 0,
              "ticks": ""
             }
            },
            "type": "scattergeo"
           }
          ],
          "scattergl": [
           {
            "marker": {
             "colorbar": {
              "outlinewidth": 0,
              "ticks": ""
             }
            },
            "type": "scattergl"
           }
          ],
          "scattermapbox": [
           {
            "marker": {
             "colorbar": {
              "outlinewidth": 0,
              "ticks": ""
             }
            },
            "type": "scattermapbox"
           }
          ],
          "scatterpolar": [
           {
            "marker": {
             "colorbar": {
              "outlinewidth": 0,
              "ticks": ""
             }
            },
            "type": "scatterpolar"
           }
          ],
          "scatterpolargl": [
           {
            "marker": {
             "colorbar": {
              "outlinewidth": 0,
              "ticks": ""
             }
            },
            "type": "scatterpolargl"
           }
          ],
          "scatterternary": [
           {
            "marker": {
             "colorbar": {
              "outlinewidth": 0,
              "ticks": ""
             }
            },
            "type": "scatterternary"
           }
          ],
          "surface": [
           {
            "colorbar": {
             "outlinewidth": 0,
             "ticks": ""
            },
            "colorscale": [
             [
              0,
              "#0d0887"
             ],
             [
              0.1111111111111111,
              "#46039f"
             ],
             [
              0.2222222222222222,
              "#7201a8"
             ],
             [
              0.3333333333333333,
              "#9c179e"
             ],
             [
              0.4444444444444444,
              "#bd3786"
             ],
             [
              0.5555555555555556,
              "#d8576b"
             ],
             [
              0.6666666666666666,
              "#ed7953"
             ],
             [
              0.7777777777777778,
              "#fb9f3a"
             ],
             [
              0.8888888888888888,
              "#fdca26"
             ],
             [
              1,
              "#f0f921"
             ]
            ],
            "type": "surface"
           }
          ],
          "table": [
           {
            "cells": {
             "fill": {
              "color": "#EBF0F8"
             },
             "line": {
              "color": "white"
             }
            },
            "header": {
             "fill": {
              "color": "#C8D4E3"
             },
             "line": {
              "color": "white"
             }
            },
            "type": "table"
           }
          ]
         },
         "layout": {
          "annotationdefaults": {
           "arrowcolor": "#2a3f5f",
           "arrowhead": 0,
           "arrowwidth": 1
          },
          "autotypenumbers": "strict",
          "coloraxis": {
           "colorbar": {
            "outlinewidth": 0,
            "ticks": ""
           }
          },
          "colorscale": {
           "diverging": [
            [
             0,
             "#8e0152"
            ],
            [
             0.1,
             "#c51b7d"
            ],
            [
             0.2,
             "#de77ae"
            ],
            [
             0.3,
             "#f1b6da"
            ],
            [
             0.4,
             "#fde0ef"
            ],
            [
             0.5,
             "#f7f7f7"
            ],
            [
             0.6,
             "#e6f5d0"
            ],
            [
             0.7,
             "#b8e186"
            ],
            [
             0.8,
             "#7fbc41"
            ],
            [
             0.9,
             "#4d9221"
            ],
            [
             1,
             "#276419"
            ]
           ],
           "sequential": [
            [
             0,
             "#0d0887"
            ],
            [
             0.1111111111111111,
             "#46039f"
            ],
            [
             0.2222222222222222,
             "#7201a8"
            ],
            [
             0.3333333333333333,
             "#9c179e"
            ],
            [
             0.4444444444444444,
             "#bd3786"
            ],
            [
             0.5555555555555556,
             "#d8576b"
            ],
            [
             0.6666666666666666,
             "#ed7953"
            ],
            [
             0.7777777777777778,
             "#fb9f3a"
            ],
            [
             0.8888888888888888,
             "#fdca26"
            ],
            [
             1,
             "#f0f921"
            ]
           ],
           "sequentialminus": [
            [
             0,
             "#0d0887"
            ],
            [
             0.1111111111111111,
             "#46039f"
            ],
            [
             0.2222222222222222,
             "#7201a8"
            ],
            [
             0.3333333333333333,
             "#9c179e"
            ],
            [
             0.4444444444444444,
             "#bd3786"
            ],
            [
             0.5555555555555556,
             "#d8576b"
            ],
            [
             0.6666666666666666,
             "#ed7953"
            ],
            [
             0.7777777777777778,
             "#fb9f3a"
            ],
            [
             0.8888888888888888,
             "#fdca26"
            ],
            [
             1,
             "#f0f921"
            ]
           ]
          },
          "colorway": [
           "#636efa",
           "#EF553B",
           "#00cc96",
           "#ab63fa",
           "#FFA15A",
           "#19d3f3",
           "#FF6692",
           "#B6E880",
           "#FF97FF",
           "#FECB52"
          ],
          "font": {
           "color": "#2a3f5f"
          },
          "geo": {
           "bgcolor": "white",
           "lakecolor": "white",
           "landcolor": "#E5ECF6",
           "showlakes": true,
           "showland": true,
           "subunitcolor": "white"
          },
          "hoverlabel": {
           "align": "left"
          },
          "hovermode": "closest",
          "mapbox": {
           "style": "light"
          },
          "paper_bgcolor": "white",
          "plot_bgcolor": "#E5ECF6",
          "polar": {
           "angularaxis": {
            "gridcolor": "white",
            "linecolor": "white",
            "ticks": ""
           },
           "bgcolor": "#E5ECF6",
           "radialaxis": {
            "gridcolor": "white",
            "linecolor": "white",
            "ticks": ""
           }
          },
          "scene": {
           "xaxis": {
            "backgroundcolor": "#E5ECF6",
            "gridcolor": "white",
            "gridwidth": 2,
            "linecolor": "white",
            "showbackground": true,
            "ticks": "",
            "zerolinecolor": "white"
           },
           "yaxis": {
            "backgroundcolor": "#E5ECF6",
            "gridcolor": "white",
            "gridwidth": 2,
            "linecolor": "white",
            "showbackground": true,
            "ticks": "",
            "zerolinecolor": "white"
           },
           "zaxis": {
            "backgroundcolor": "#E5ECF6",
            "gridcolor": "white",
            "gridwidth": 2,
            "linecolor": "white",
            "showbackground": true,
            "ticks": "",
            "zerolinecolor": "white"
           }
          },
          "shapedefaults": {
           "line": {
            "color": "#2a3f5f"
           }
          },
          "ternary": {
           "aaxis": {
            "gridcolor": "white",
            "linecolor": "white",
            "ticks": ""
           },
           "baxis": {
            "gridcolor": "white",
            "linecolor": "white",
            "ticks": ""
           },
           "bgcolor": "#E5ECF6",
           "caxis": {
            "gridcolor": "white",
            "linecolor": "white",
            "ticks": ""
           }
          },
          "title": {
           "x": 0.05
          },
          "xaxis": {
           "automargin": true,
           "gridcolor": "white",
           "linecolor": "white",
           "ticks": "",
           "title": {
            "standoff": 15
           },
           "zerolinecolor": "white",
           "zerolinewidth": 2
          },
          "yaxis": {
           "automargin": true,
           "gridcolor": "white",
           "linecolor": "white",
           "ticks": "",
           "title": {
            "standoff": 15
           },
           "zerolinecolor": "white",
           "zerolinewidth": 2
          }
         }
        }
       }
      }
     },
     "metadata": {},
     "output_type": "display_data"
    }
   ],
   "source": [
    "# Create figure\n",
    "fig = go.Figure()\n",
    "colours = plotly.colors.qualitative.Plotly\n",
    "n_colours = len(n_substances) + 1\n",
    "\n",
    "fig.add_trace(go.Pie(\n",
    "    labels=[\n",
    "        '2 ODD', '3 ODD', '4 ODD', '>5 ODD'],\n",
    "    values=[144+23, 24+6, 8+3, 9+4],\n",
    "    textinfo='label+value+percent',\n",
    "    sort=False,\n",
    "    marker=dict(\n",
    "        colors=['rgb(33, 75, 99)', 'rgb(79, 129, 102)', 'rgb(151, 179, 100)',\n",
    "                 'rgb(175, 49, 35)', 'rgb(36, 73, 147)'], \n",
    "        line=dict(color='#000000', width=1))))\n",
    "fig.update_layout(showlegend=True)\n",
    "fig.show()"
   ]
  },
  {
   "cell_type": "markdown",
   "metadata": {},
   "source": [
    "#### Export table"
   ]
  },
  {
   "cell_type": "code",
   "execution_count": 82,
   "metadata": {},
   "outputs": [],
   "source": [
    "mask = marketed_ods['Number of MAs'] > 1\n",
    "temp = marketed_ods[mask][['Trade name', 'Product', 'Indication', 'Number of designations', 'Designation date', 'Number of MAs', 'Implemented on']]\n",
    "\n",
    "directory = os.path.dirname(os.getcwd())\n",
    "path = os.path.join(directory, 'data/ODs_marketed_for_multiple_diseases.csv')\n",
    "temp.to_csv(path, index=False)"
   ]
  },
  {
   "cell_type": "code",
   "execution_count": null,
   "metadata": {},
   "outputs": [],
   "source": []
  }
 ],
 "metadata": {
  "interpreter": {
   "hash": "101201ddc9adc7eb88527bdc3856c43f40dd0c4420e824d1ed5d01d8391793ab"
  },
  "kernelspec": {
   "display_name": "erlotinib-venv",
   "language": "python",
   "name": "python3"
  },
  "language_info": {
   "codemirror_mode": {
    "name": "ipython",
    "version": 3
   },
   "file_extension": ".py",
   "mimetype": "text/x-python",
   "name": "python",
   "nbconvert_exporter": "python",
   "pygments_lexer": "ipython3",
   "version": "3.7.5"
  },
  "widgets": {
   "application/vnd.jupyter.widget-state+json": {
    "state": {},
    "version_major": 2,
    "version_minor": 0
   }
  }
 },
 "nbformat": 4,
 "nbformat_minor": 2
}
